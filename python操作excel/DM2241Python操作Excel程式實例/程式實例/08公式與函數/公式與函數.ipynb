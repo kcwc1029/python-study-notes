{
 "cells": [
  {
   "cell_type": "markdown",
   "metadata": {},
   "source": [
    "查看可以解析的函數"
   ]
  },
  {
   "cell_type": "code",
   "execution_count": 3,
   "metadata": {},
   "outputs": [
    {
     "name": "stdout",
     "output_type": "stream",
     "text": [
      "<class 'frozenset'>\n",
      "352\n",
      "frozenset({'DB', 'LCM', 'FLOOR', 'TODAY', 'TRIM', 'MIDB', 'INT', 'SQRTPI', 'SIGN', 'TIME', 'GETPIVOTDATA', 'ABS', 'INTRATE', 'DOLLARDE', 'LN', 'TIMEVALUE', 'IMPRODUCT', 'EDATE', 'NOW', 'ISODD', 'DSUM', 'DSTDEVP', 'MONTH', 'DEC2OCT', 'REPT', 'SMALL', 'NPV', 'GAMMADIST', 'POISSON', 'ACOS', 'DISC', 'DEGREES', 'COUNTIFS', 'COSH', 'COUPNUM', 'WEEKNUM', 'NORMSINV', 'WEIBULL', 'CUBEMEMBERPROPERTY', 'STDEVP', 'YIELDMAT', 'AMORDEGRC', 'PPMT', 'ISEVEN', 'JIS', 'MAX', 'IPMT', 'PRICEDISC', 'CLEAN', 'COUNTIF', 'DEC2BIN', 'BESSELK', 'MAXA', 'SLOPE', 'TBILLPRICE', 'NPER', 'HEX2BIN', 'PV', 'EVEN', 'FTEST', 'PRODUCT', 'PERCENTRANK', 'COMBIN', 'FREQUENCY', 'CHIINV', 'UPPER', 'HEX2DEC', 'VLOOKUP', 'ROUNDDOWN', 'STANDARDIZE', 'NA', 'CHOOSE', 'MDETERM', 'TANH', 'ISREF', 'ACCRINTM', 'BESSELI', 'ATAN2', 'ECMA.CEILING', 'ZTEST', 'EFFECT', 'IMAGINARY', 'CONCATENATE', 'YIELDDISC', 'ASINH', 'NOMINAL', 'AREAS', 'CHITEST', 'RANK', 'NETWORKDAYS', 'TAN', 'OCT2HEX', 'INDIRECT', 'VDB', 'ODD', 'REPLACE', 'HLOOKUP', 'RTD', 'STDEV STDEVA', 'MIN', 'ISNA', 'BAHTTEXT', 'DATEDIF', 'QUARTILE', 'OR', 'LARGE', 'IMSUM', 'RADIANS', 'RANDBETWEEN', 'LINEST', 'LOWER', 'ERROR.TYPE', 'CUBERANKEDMEMBER', 'FDIST', 'IMPOWER', 'AND', 'HARMEAN', 'EXP', 'PERCENTILE', 'MID', 'FIXED', 'ISPMT', 'ODDFYIELD', 'OCT2BIN', 'FISHER', 'IMSQRT', 'FALSE', 'COLUMN', 'BINOMDIST', 'CUMPRINC', 'ISNUMBER', 'RIGHT', 'DMIN', 'SUMPRODUCT', 'NORMDIST', 'BIN2HEX', 'DATE', 'BIN2DEC', 'ERFC', 'NOT', 'NEGBINOMDIST', 'OFFSET', 'AVEDEV', 'SIN', 'PHONETIC', 'WORKDAY ', 'GCD', 'ODDLYIELD', 'DVAR', 'ATANH', 'LOGEST', 'LENB', 'QUOTIENT', 'AVERAGEIF', 'CUBEVALUE', 'COUPDAYBS', 'SUM', 'AMORLINC', 'COLUMNS', 'RATE', 'TRUE ADDRESS', 'ISERR', 'RECEIVED', 'COVAR', 'COUNTA', 'WORKDAY.INTL', 'SECOND', 'IMCOS', 'IRR', 'TBILLEQ', 'SERIESSUM', 'LEFT', 'DATEVALUE', 'SKEW', 'DOLLARFR', 'DPRODUCT', 'BETAINV', 'MULTINOMIAL', 'CUMIPMT', 'DURATION', 'YEARFRAC', 'CODE', 'GAMMAINV', 'CEILING', 'MDURATION', 'DDB', 'MIRR', 'FINV', 'MINVERSE', 'SUMIF', 'POWER', 'AVERAGE', 'DCOUNTA', 'DMAX', 'SUMSQ', 'ISLOGICAL', 'TEXT', 'INFO', 'DSTDEV', 'COUPDAYS', 'LOGNORMDIST', 'CUBESET', 'HOUR', 'PRICEMAT', 'PEARSON', 'BIN2OCT', 'N', 'LOOKUP', 'TBILLYIELD', 'FISHERINV', 'GEOMEAN', 'BESSELY', 'COMPLEX', 'DELTA', 'ROUND', 'KURT', 'IMSUB', 'CONFIDENCE', 'OCT2DEC', 'TTEST', 'MROUND', 'IF', 'SQRT', 'CUBEKPIMEMBER', 'FV', 'NORMINV', 'CELL', 'NORMSDIST', 'PROB', 'EOMONTH', 'BESSELJ', 'DGET', 'EXACT', 'MINA', 'HEX2OCT', 'ROWS', 'GESTEP', 'COUPNCD', 'FORECAST', 'ISTEXT', 'HYPERLINK', 'IMLN', 'DCOUNT', 'ACCRINT', 'SUMXMY2', 'SEARCHB', 'VARP', 'IMCONJUGATE', 'FINDB', 'XNPV', 'NETWORKDAYS.INTL', 'ISERROR', 'ERF', 'SEARCH', 'TRANSPOSE', 'ODDFPRICE', 'RIGHTB', 'DAY', 'CHIDIST', 'MEDIAN', 'ASIN', 'BETADIST', 'CUBESETCOUNT', 'YEAR', 'GROWTH', 'PROPER', 'IMLOG10', 'DEVSQ', 'LEFTB', 'IMEXP', 'IMDIV', 'COUNT', 'YIELD', 'IMREAL', 'STDEVPA STEYX', 'PMT', 'ROUNDUP', 'VAR', 'CHAR', 'ODDLPRICE', 'TYPE', 'INTERCEPT', 'MMULT', 'DAYS360', 'PI', 'SUBTOTAL', 'AVERAGEIFS', 'ATAN', 'AVERAGEA', 'CUBEMEMBER', 'RAND', 'FIND', 'MATCH', 'COUNTBLANK', 'CONVERT', 'INDEX', 'SUMX2MY2', 'FACT', 'DOLLAR', 'IMSIN', 'COS', 'FVSCHEDULE', 'TRIMMEAN', 'COUPPCD', 'IFERROR', 'MODE', 'EXPONDIST', 'RSQ', 'IMLOG2', 'VARPA', 'SUMX2PY2', 'ASC', 'FACTDOUBLE', 'ISNONTEXT', 'LOG', 'SUBSTITUTE', 'LOG10', 'DVARP', 'SUMIFS', 'LEN', 'CRITBINOM', 'VALUE', 'IMABS', 'MINUTE', 'TINV', 'ISBLANK', 'SINH', 'TREND', 'PRICE', 'TDIST', 'SLN', 'SYD', 'MOD', 'CORREL', 'XIRR', 'ROW', 'WEEKDAY', 'PERMUT', 'ACOSH', 'ISO.CEILING', 'DAVERAGE', 'DEC2HEX', 'REPLACEB', 'T', 'ROMAN', 'VARA', 'COUPDAYSNC', 'TRUNC', 'GAMMALN', 'LOGINV', 'IMARGUMENT', 'HYPGEOMDIST'})\n"
     ]
    }
   ],
   "source": [
    "import openpyxl\n",
    "from openpyxl.utils import FORMULAE\n",
    "\n",
    "print(type(FORMULAE))\n",
    "print(len(FORMULAE))\n",
    "print(FORMULAE)"
   ]
  },
  {
   "cell_type": "code",
   "execution_count": 4,
   "metadata": {},
   "outputs": [
    {
     "name": "stdout",
     "output_type": "stream",
     "text": [
      "TODAY : True\n",
      "today : False\n",
      "SUM   : True\n",
      "sum   : False\n",
      "TEST  : False\n"
     ]
    }
   ],
   "source": [
    "# 檢查函數是否可以使用\n",
    "import openpyxl\n",
    "from openpyxl.utils import FORMULAE\n",
    "\n",
    "print(f\"TODAY : {'TODAY' in FORMULAE}\")\n",
    "print(f\"today : {'today' in FORMULAE}\")\n",
    "print(f\"SUM   : {'SUM' in FORMULAE}\")\n",
    "print(f\"sum   : {'sum' in FORMULAE}\")\n",
    "print(f\"TEST  : {'TEST' in FORMULAE}\")"
   ]
  },
  {
   "cell_type": "markdown",
   "metadata": {},
   "source": [
    "## 在工作表內使用函數"
   ]
  },
  {
   "cell_type": "code",
   "execution_count": 5,
   "metadata": {},
   "outputs": [],
   "source": [
    "import openpyxl\n",
    "\n",
    "fn = \"業績表.xlsx\"\n",
    "wb = openpyxl.load_workbook(fn)\n",
    "ws = wb.active\n",
    "ws['C7'] = \"=SUM(C4:C6)\"\n",
    "# ws.cell(row=7,column=3,value=\"=SUM(C4:C6)\")\n",
    "\n",
    "wb.save(\"單欄計算總和公式.xlsx\")"
   ]
  },
  {
   "cell_type": "markdown",
   "metadata": {},
   "source": [
    "使用for迴圈複製公式"
   ]
  },
  {
   "cell_type": "code",
   "execution_count": 2,
   "metadata": {},
   "outputs": [],
   "source": [
    "import openpyxl\n",
    "from openpyxl.utils import get_column_letter\n",
    "\n",
    "fn = \"業績表.xlsx\"\n",
    "wb = openpyxl.load_workbook(fn)\n",
    "ws = wb.active\n",
    "for i in range(3,7):\n",
    "    ch = get_column_letter(i)       # 將數字轉成欄位\n",
    "    index = ch + str(7)\n",
    "    start_index = ch + str(4)\n",
    "    end_index = ch + str(6)\n",
    "    ws[index] = \"=SUM({}:{})\".format(start_index,end_index)\n",
    "wb.save(\"所有欄計算總和公式.xlsx\")\n"
   ]
  },
  {
   "cell_type": "markdown",
   "metadata": {},
   "source": [
    "## 計算年資\n",
    "\n",
    "使用 DATEDIF（）函數可以計算兩個時間的差距，此差距可以返回年、月、日、不滿一年的月數、不滿一年的日數、不滿一個月的日數，函數的使用格式如下：\n",
    "\n",
    "`DATEDIF（ 起始日，終止日，單位）`\n",
    "\n",
    "上述參數單位使用方式如下：\n",
    "- Y：傳回完整的年數\n",
    "- M：傳回完整的月數\n",
    "- D：傳回完整的日數\n",
    "- YM：傳回不滿一年的月數\n",
    "- YD：傳回不滿一年的日數\n",
    "- MD：傳回不滿一個月的日數"
   ]
  },
  {
   "cell_type": "code",
   "execution_count": 4,
   "metadata": {},
   "outputs": [],
   "source": [
    "import openpyxl\n",
    "\n",
    "fn = \"計算年資表.xlsx\"\n",
    "wb = openpyxl.load_workbook(fn)\n",
    "ws = wb.active\n",
    "ws['C3'] = \"=TODAY()\"\n",
    "ws['C3'].number_format = 'yyyy/m/d'\n",
    "ws['E6'] = '=DATEDIF(D6,$C$3,\"Y\")'\n",
    "ws['F6'] = '=DATEDIF(D6,$C$3,\"YM\")'\n",
    "ws['G6'] = '=DATEDIF(D6,$C$3,\"MD\")'\n",
    "wb.save(\"計算年資表輸出.xlsx\")"
   ]
  },
  {
   "cell_type": "markdown",
   "metadata": {},
   "source": [
    "## 計算銷售排名\n",
    "Excel 提供排序函數 RANK（），我們可以由這個函數很快速列出商品的銷售排名資料。這個函數的語法如下：\n",
    "\n",
    "`RANK（數值，範圍，排序方法）`"
   ]
  },
  {
   "cell_type": "code",
   "execution_count": 5,
   "metadata": {},
   "outputs": [],
   "source": [
    "import openpyxl\n",
    "\n",
    "fn = \"銷售排名.xlsx\"\n",
    "wb = openpyxl.load_workbook(fn)\n",
    "ws = wb.active\n",
    "ws['E4'] = \"=RANK(D4,$D$4:$D$9)\"\n",
    "wb.save(\"銷售排名輸出.xlsx\")"
   ]
  },
  {
   "cell_type": "markdown",
   "metadata": {},
   "source": [
    "## 業績排名\n",
    "\n",
    "建立總業績、最高業績和最低業績資訊。"
   ]
  },
  {
   "cell_type": "code",
   "execution_count": 6,
   "metadata": {},
   "outputs": [],
   "source": [
    "import openpyxl\n",
    "\n",
    "fn = \"業績排名.xlsx\"\n",
    "wb = openpyxl.load_workbook(fn)\n",
    "ws = wb.active\n",
    "ws['C7'] = \"=SUM(C4:C6)\"\n",
    "ws['C8'] = \"=MAX(C4:C6)\"\n",
    "ws['C9'] = \"=MIN(C4:C6)\"\n",
    "wb.save(\"業績排名輸出.xlsx\")"
   ]
  },
  {
   "cell_type": "markdown",
   "metadata": {},
   "source": [
    "## 考試成績統計\n"
   ]
  },
  {
   "cell_type": "code",
   "execution_count": 7,
   "metadata": {},
   "outputs": [],
   "source": [
    "import openpyxl\n",
    "\n",
    "wb = openpyxl.Workbook()            # 建立空白的活頁簿\n",
    "ws = wb.active                      # 獲得目前工作表\n",
    "ws['A1'] = 'Peter'                  # 設定名字Peter           \n",
    "ws['B1'] = 98\n",
    "ws['A2'] = 'Janet'                  # 設定名字Janet\n",
    "ws['B2'] = 79\n",
    "ws['A3'] = 'Nelson'                 # 設定名字Nelson\n",
    "ws['B3'] = 81\n",
    "ws['A4'] = '總分'\n",
    "ws['B4'] = '=SUM(B1:B3)'            # 計算總分\n",
    "ws['A5'] = '平均'\n",
    "ws['B5'] = '=AVERAGE(B1:B3)'        # 計算平均\n",
    "ws['A6'] = '最高分'\n",
    "ws['B6'] = '=MAX(B1:B3)'            # 計算最高分\n",
    "ws['A7'] = '最低分'\n",
    "ws['B7'] = '=MIN(B1:B3)'            # 計算最低分\n",
    "wb.save('考試成績統計.xlsx')            # 將活頁簿儲存"
   ]
  }
 ],
 "metadata": {
  "kernelspec": {
   "display_name": "base",
   "language": "python",
   "name": "python3"
  },
  "language_info": {
   "codemirror_mode": {
    "name": "ipython",
    "version": 3
   },
   "file_extension": ".py",
   "mimetype": "text/x-python",
   "name": "python",
   "nbconvert_exporter": "python",
   "pygments_lexer": "ipython3",
   "version": "3.11.5"
  },
  "orig_nbformat": 4
 },
 "nbformat": 4,
 "nbformat_minor": 2
}
