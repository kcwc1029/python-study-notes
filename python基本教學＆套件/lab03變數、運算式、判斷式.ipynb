{
 "cells": [
  {
   "cell_type": "markdown",
   "metadata": {},
   "source": [
    "## python 常見 data type\n",
    "\n",
    "-   int\n",
    "-   float\n",
    "-   string：任意的文字內容。\n",
    "-   boolen：表達正確(True)或錯誤（False）。\n",
    "-   list：有順序，可以變動的資料集合。\n",
    "-   dictionaries\n",
    "-   tuples：有順序且不可變的資料集合。\n",
    "-   sets：無順序的資料集合。\n",
    "-   dict：key-value pair的集合。\n",
    "-   查看型態：type()"
   ]
  },
  {
   "cell_type": "markdown",
   "metadata": {},
   "source": [
    "## 下註解\n",
    "- 單行註解\n",
    "- 多行註解"
   ]
  },
  {
   "cell_type": "markdown",
   "metadata": {},
   "source": [
    "## 變數的命名規則\n",
    "網路資料："
   ]
  },
  {
   "cell_type": "markdown",
   "metadata": {},
   "source": [
    "## variable & assignment"
   ]
  },
  {
   "cell_type": "code",
   "execution_count": null,
   "metadata": {},
   "outputs": [],
   "source": [
    "# eg\n",
    "x = 5\n",
    "x = x+1\n",
    "print(x)\n",
    "\n",
    "# 可以將 x = x+1 寫成 x+=1 → syntax sugar（語法糖）"
   ]
  },
  {
   "cell_type": "markdown",
   "metadata": {},
   "source": [
    "## 基本數學運算"
   ]
  },
  {
   "cell_type": "code",
   "execution_count": 28,
   "metadata": {},
   "outputs": [
    {
     "name": "stdout",
     "output_type": "stream",
     "text": [
      "4\n",
      "1\n",
      "9\n",
      "1230000.0\n",
      "0.000123\n"
     ]
    }
   ],
   "source": [
    "print(10+5)\n",
    "print(10-5)\n",
    "print(10*5)\n",
    "print(10/5)\n",
    "print(10%5)\n",
    "\n",
    "\n",
    "# 餘數、整除\n",
    "print(9%5)\n",
    "print(9//5)\n",
    "# 次方\n",
    "print(3**2)\n",
    "\n",
    "# 科學記號\n",
    "print(1.23E+6)\n",
    "print(1.23E-4)\n"
   ]
  },
  {
   "cell_type": "markdown",
   "metadata": {},
   "source": [
    "## 額外得的資料型態"
   ]
  },
  {
   "cell_type": "code",
   "execution_count": 1,
   "metadata": {},
   "outputs": [
    {
     "name": "stdout",
     "output_type": "stream",
     "text": [
      "13\n",
      "0b1101\n",
      "0o57\n",
      "0x2f\n",
      "<class 'int'>\n",
      "<class 'str'>\n",
      "<class 'int'>\n",
      "a\n",
      "97\n",
      "65\n"
     ]
    }
   ],
   "source": [
    "# 二進位\n",
    "x=0b1101\n",
    "print(x)\n",
    "print(bin(13)) # 十進位轉二進位\n",
    "\n",
    "# 八進位、十進位、\n",
    "print(oct(47))\n",
    "\n",
    "# 十六進位\n",
    "print(hex(47))\n",
    "\n",
    "\n",
    "# 整數與字串互換\n",
    "print(type(12))\n",
    "print(type(str(12)))\n",
    "print(type(int(\"12\")))\n",
    "\n",
    "\n",
    "# 轉換ascii碼\n",
    "print(chr(97))\n",
    "print(ord(\"a\"))\n",
    "print(ord(\"A\"))"
   ]
  },
  {
   "cell_type": "markdown",
   "metadata": {},
   "source": [
    "## 常用到的內見函數（built-in）\n",
    "\n",
    "一個函數（function）一次只能返回一個值\n",
    "-   abs()\n",
    "-   str()\n",
    "-   pow()\n",
    "-   max(), man()\n",
    "-   int(), float(), round()\n",
    "-   e, pi, sqrt()\n",
    "-   floor(), ceil()\n",
    "- round()"
   ]
  },
  {
   "cell_type": "code",
   "execution_count": 30,
   "metadata": {},
   "outputs": [
    {
     "name": "stdout",
     "output_type": "stream",
     "text": [
      "3\n",
      "1\n"
     ]
    }
   ],
   "source": [
    "print(abs(-3))\n",
    "print(round(1.3))"
   ]
  },
  {
   "cell_type": "markdown",
   "metadata": {},
   "source": [
    "## 字串"
   ]
  },
  {
   "cell_type": "code",
   "execution_count": 1,
   "metadata": {},
   "outputs": [
    {
     "name": "stdout",
     "output_type": "stream",
     "text": [
      "444\n",
      "111333\n",
      "h\n",
      "e\n",
      "o\n",
      "l\n",
      "cdefg\n",
      "abcd\n",
      "cdef\n",
      "bd\n"
     ]
    }
   ],
   "source": [
    "# 字串連接\n",
    "print(111+333)\n",
    "print(\"111\"+\"333\")\n",
    "\n",
    "# 處理多於一行的字串\n",
    "str1 = \"\"\"3變數、運算式、判斷式.ipynb\"\"\"\n",
    "\n",
    "# 字串的索引及切片 \n",
    "# 在 python 中，字串是有順序的，並且從 0 開始計算。\n",
    "# 字串可以使用單引號也可以使用雙引號。\n",
    "\n",
    "# NOTE: indexing\n",
    "my_str = \"helllo\"\n",
    "print(my_str[0])\n",
    "print(my_str[1])\n",
    "print(my_str[-1])\n",
    "print(my_str[-2])\n",
    "# print(my_str[-10]) # index error\n",
    "\n",
    "\n",
    "# NOTE: slicing\n",
    "x = \"abcdefg\"\n",
    "print(x[2:]) # cdefg\n",
    "print(x[:4]) # abcd\n",
    "print(x[2:6]) # cdef\n",
    "print(x[1:5:2]) # bd"
   ]
  },
  {
   "cell_type": "markdown",
   "metadata": {},
   "source": [
    "## 範例\n",
    "Q1: 有兩個點（1, 8）, （3, 10）請計算兩點之間的距離。\n",
    "\n",
    "Q2: 請列出你的姓名的unicode碼"
   ]
  },
  {
   "cell_type": "code",
   "execution_count": 32,
   "metadata": {},
   "outputs": [],
   "source": [
    "# ans1 = ((x1 - x2) ** 2 + ((y1 - y2) ** 2)) ** 0.5\n",
    "# ans2 = ord(\"陳\")\n"
   ]
  },
  {
   "cell_type": "markdown",
   "metadata": {},
   "source": [
    "## 格式化基本輸出"
   ]
  },
  {
   "cell_type": "code",
   "execution_count": 33,
   "metadata": {},
   "outputs": [
    {
     "name": "stdout",
     "output_type": "stream",
     "text": [
      "助教你的第 1 次物理考試成績是 90\n",
      "助教你的第 1 次物理考試成績是 90\n"
     ]
    }
   ],
   "source": [
    "# print(13, sep=\"\", end=\"\", file=\"\", flush=\"\")\n",
    "# value: 要輸出的值，可以是多個，用逗號分隔。\n",
    "# sep: 用於分隔多個值的字符串，預設是空格 \" \"。\n",
    "# end: 在輸出結束後添加的字符串，預設是換行符 \"\\n\"。\n",
    "# file: 輸出目標，預設是標準輸出 sys.stdout。\n",
    "# flush: 是否立即將輸出緩衝區的內容刷新到 file，布爾值，預設為 False。\n",
    "\n",
    "score = 90\n",
    "name = \"助教\"\n",
    "count = 1\n",
    "print(\"%s你的第 %d 次物理考試成績是 %d\" % (name, count, score))\n",
    "print(f\"{name}你的第 {count} 次物理考試成績是 {score}\")"
   ]
  },
  {
   "cell_type": "markdown",
   "metadata": {},
   "source": [
    "## 基本輸入\n",
    "\n"
   ]
  },
  {
   "cell_type": "code",
   "execution_count": 34,
   "metadata": {},
   "outputs": [
    {
     "name": "stdout",
     "output_type": "stream",
     "text": [
      "助教\n"
     ]
    }
   ],
   "source": [
    "name = input(\"請輸入姓名\")\n",
    "print(name)"
   ]
  },
  {
   "cell_type": "markdown",
   "metadata": {},
   "source": [
    "## 處理字串的數學運算evel()\n"
   ]
  },
  {
   "cell_type": "code",
   "execution_count": 35,
   "metadata": {},
   "outputs": [
    {
     "name": "stdout",
     "output_type": "stream",
     "text": [
      "7\n"
     ]
    }
   ],
   "source": [
    "print(eval(\"3+4\"))"
   ]
  },
  {
   "cell_type": "markdown",
   "metadata": {},
   "source": [
    "那evel有什麼用？"
   ]
  },
  {
   "cell_type": "code",
   "execution_count": 36,
   "metadata": {},
   "outputs": [
    {
     "name": "stdout",
     "output_type": "stream",
     "text": [
      "abs(4) 4\n",
      "max([1, 2, 3]) 3\n"
     ]
    }
   ],
   "source": [
    "print(\"abs(4)\", abs(4))\n",
    "print(\"max([1, 2, 3])\", max([1, 2, 3]))"
   ]
  },
  {
   "cell_type": "markdown",
   "metadata": {},
   "source": [
    "那我可以改成這樣"
   ]
  },
  {
   "cell_type": "code",
   "execution_count": 37,
   "metadata": {},
   "outputs": [
    {
     "name": "stdout",
     "output_type": "stream",
     "text": [
      "abs(4) 4\n",
      "max([1, 2, 3]) 3\n"
     ]
    }
   ],
   "source": [
    "def f(str):\n",
    "    print(str, eval(str))\n",
    "\n",
    "f(\"abs(4)\")\n",
    "f(\"max([1, 2, 3])\")"
   ]
  },
  {
   "cell_type": "markdown",
   "metadata": {},
   "source": [
    "## 列出所有函數"
   ]
  },
  {
   "cell_type": "code",
   "execution_count": 38,
   "metadata": {},
   "outputs": [
    {
     "data": {
      "text/plain": [
       "['ArithmeticError',\n",
       " 'AssertionError',\n",
       " 'AttributeError',\n",
       " 'BaseException',\n",
       " 'BaseExceptionGroup']"
      ]
     },
     "execution_count": 38,
     "metadata": {},
     "output_type": "execute_result"
    }
   ],
   "source": [
    "dir(__builtin__)[:5]"
   ]
  },
  {
   "cell_type": "markdown",
   "metadata": {},
   "source": [
    "## 範例\n",
    "Q1: 輸入華氏溫度，段換為攝氏溫度。\n",
    "\n",
    "Q2: 請見下圖\n",
    "![upgit_20240531_1717147483.png](https://raw.githubusercontent.com/kcwc1029/obsidian-upgit-image/main/2024/05/upgit_20240531_1717147483.png)"
   ]
  },
  {
   "cell_type": "code",
   "execution_count": 39,
   "metadata": {},
   "outputs": [
    {
     "ename": "ValueError",
     "evalue": "invalid literal for int() with base 10: ''",
     "output_type": "error",
     "traceback": [
      "\u001b[0;31m---------------------------------------------------------------------------\u001b[0m",
      "\u001b[0;31mValueError\u001b[0m                                Traceback (most recent call last)",
      "Cell \u001b[0;32mIn[39], line 3\u001b[0m\n\u001b[1;32m      1\u001b[0m \u001b[39m# Q1\u001b[39;00m\n\u001b[1;32m      2\u001b[0m f \u001b[39m=\u001b[39m \u001b[39minput\u001b[39m(\u001b[39m\"\u001b[39m\u001b[39m請輸入華氏溫度：\u001b[39m\u001b[39m\"\u001b[39m)\n\u001b[0;32m----> 3\u001b[0m c \u001b[39m=\u001b[39m ( \u001b[39mint\u001b[39m(f) \u001b[39m-\u001b[39m \u001b[39m32\u001b[39m ) \u001b[39m*\u001b[39m \u001b[39m5\u001b[39m \u001b[39m/\u001b[39m \u001b[39m9\u001b[39m\n\u001b[1;32m      4\u001b[0m \u001b[39mprint\u001b[39m(\u001b[39mf\u001b[39m\u001b[39m\"\u001b[39m\u001b[39m華氏 \u001b[39m\u001b[39m{\u001b[39;00mf\u001b[39m}\u001b[39;00m\u001b[39m 等於攝氏 \u001b[39m\u001b[39m{\u001b[39;00mc\u001b[39m:\u001b[39;00m\u001b[39m4.1f\u001b[39m\u001b[39m}\u001b[39;00m\u001b[39m\"\u001b[39m)\n",
      "\u001b[0;31mValueError\u001b[0m: invalid literal for int() with base 10: ''"
     ]
    }
   ],
   "source": [
    "# Q1\n",
    "f = input(\"請輸入華氏溫度：\")\n",
    "c = ( int(f) - 32 ) * 5 / 9\n",
    "print(f\"華氏 {f} 等於攝氏 {c:4.1f}\")"
   ]
  },
  {
   "cell_type": "code",
   "execution_count": null,
   "metadata": {},
   "outputs": [],
   "source": [
    "# Q2\n",
    "loan = eval(input(\"請輸入貸款金額：\"))\n",
    "year = eval(input(\"請輸入年限：\"))\n",
    "rate = eval(input(\"請輸入年利率：\"))\n",
    "monthrate = rate / (12*100)             # 改成百分比以及月利率\n",
    "\n",
    "# 計算每月還款金額\n",
    "molecules = loan * monthrate\n",
    "denominator = 1 - (1 / (1 + monthrate) ** (year * 12))\n",
    "monthlyPay = molecules / denominator    # 每月還款金額\n",
    "totalPay = monthlyPay * year * 12       # 總共還款金額\n",
    "\n",
    "print(f\"每月還款金額 {int(monthlyPay)}\")\n",
    "print(f\"總共還款金額 {int(totalPay)}\")"
   ]
  },
  {
   "cell_type": "markdown",
   "metadata": {},
   "source": [
    "## 比較運算符（comparison operator）\n",
    "\n",
    "![upgit_20240418_1713383314.png](https://raw.githubusercontent.com/kcwc1029/obsidian-upgit-image/main/2024/04/upgit_20240418_1713383314.png)\n",
    "\n",
    "## 邏輯運算（logical operator）\n",
    "\n",
    "![upgit_20240418_1713383360.png](https://raw.githubusercontent.com/kcwc1029/obsidian-upgit-image/main/2024/04/upgit_20240418_1713383360.png)\n",
    "![upgit_20240420_1713557595.png](https://raw.githubusercontent.com/kcwc1029/obsidian-upgit-image/main/2024/04/upgit_20240420_1713557595.png)\n",
    "\n",
    "## 位運算符（bitwise operator）\n",
    "\n",
    "＄ 在 Python 中,Bitwise 運算子允許我們對整數的二進位位元進行操作。這些運算子在某些特定情況下非常有用,例如位操作、旗標設定等。\n",
    "\n",
    "![upgit_20240418_1713383409.png](https://raw.githubusercontent.com/kcwc1029/obsidian-upgit-image/main/2024/04/upgit_20240418_1713383409.png)"
   ]
  },
  {
   "cell_type": "code",
   "execution_count": 2,
   "metadata": {},
   "outputs": [
    {
     "name": "stdout",
     "output_type": "stream",
     "text": [
      "8\n",
      "14\n",
      "6\n",
      "-11\n",
      "40\n",
      "5\n"
     ]
    }
   ],
   "source": [
    "\n",
    "# AND 運算 (`&`)\n",
    "a = 0b1010  # 10 (十進位)\n",
    "b = 0b1100  # 12 (十進位)\n",
    "print(a & b)  # Output: 8 (二進位: 1000)\n",
    "\n",
    "# OR 運算 (`|`)\n",
    "# 將對應位元進行 OR 運算,只要有一個對應位元為 1,結果位元就為 1。\n",
    "a = 0b1010  # 10 (十進位)\n",
    "b = 0b1100  # 12 (十進位)\n",
    "print(a | b)  # Output: 14 (二進位: 1110)\n",
    "\n",
    "# XOR 運算 (`^`)\n",
    "# 將對應位元進行 XOR 運算,當對應位元不相同時,結果位元為 1。\n",
    "a = 0b1010  # 10 (十進位)\n",
    "b = 0b1100  # 12 (十進位)\n",
    "print(a ^ b)  # Output: 6 (二進位: 0110)\n",
    "\n",
    "# 取反運算 (`~`)\n",
    "# 將所有位元取反,即 0 變 1,1 變 0。需要注意的是,取反運算在 Python 中會產生一個負值。\n",
    "a = 0b1010  # 10 (十進位)\n",
    "print(~a)  # Output: -11 (二進位: 11111111111111111111111111110101)\n",
    "\n",
    "# 左移運算 (`<<`)\n",
    "# 將位元向左移動指定的位數,相當於乘以 2 的指定次方。\n",
    "a = 0b1010  # 10 (十進位)\n",
    "print(a << 2)  # Output: 40 (二進位: 101000)\n",
    "\n",
    "# 右移運算 (`>>`)\n",
    "# 將位元向右移動指定的位數,相當於除以 2 的指定次方。\n",
    "a = 0b1010  # 10 (十進位)\n",
    "print(a >> 1)  # Output: 5 (二進位: 101)"
   ]
  },
  {
   "cell_type": "markdown",
   "metadata": {},
   "source": [
    "## membership operator（in, not in）\n",
    "\n",
    "這邊有兩種\n",
    "- in, not in \n",
    "- is, not is\n",
    "\n",
    "參考教學：\n",
    "- https://www.youtube.com/watch?v=W7luvtXeQTA\n",
    "- https://www.youtube.com/watch?v=W7luvtXeQTA&t=2s\n",
    "- https://www.youtube.com/watch?v=mO_dS3rXDIs\n"
   ]
  },
  {
   "cell_type": "code",
   "execution_count": 3,
   "metadata": {},
   "outputs": [],
   "source": [
    "arr = \"ABCD\"\n",
    "if \"A\" in arr: ...\n",
    "\n",
    "a = {\"a\", \"b\", \"c\"}\n",
    "if \"a\" in a: ...\n"
   ]
  },
  {
   "cell_type": "markdown",
   "metadata": {},
   "source": [
    "##  if 語句\n",
    "\n",
    "if 語句是最基本的條件控制語句之一，用於根據條件執行不同的程式碼塊。\n"
   ]
  },
  {
   "cell_type": "code",
   "execution_count": null,
   "metadata": {},
   "outputs": [],
   "source": [
    "# 判斷奇偶數\n",
    "x = 5\n",
    "if x > 0:\n",
    "    print(\"x is positive\")\n",
    "elif x < 0:\n",
    "    print(\"x is negative\")\n",
    "else:\n",
    "    print(\"x is zero\")"
   ]
  },
  {
   "cell_type": "markdown",
   "metadata": {},
   "source": [
    "## 範例：\n",
    "Q1: 測試某一年是否潤年，潤年的條件是首先可以被4整除，還必須符合，它除以100 時餘數不為O或是除以400時餘數為0，當2個條件皆符合才算潤年。\n",
    "\n",
    "![upgit_20240601_1717172871.png](https://raw.githubusercontent.com/kcwc1029/obsidian-upgit-image/main/2024/06/upgit_20240601_1717172871.png)"
   ]
  },
  {
   "cell_type": "code",
   "execution_count": null,
   "metadata": {},
   "outputs": [],
   "source": [
    "# Q1\n",
    "print(\"判斷輸入年份是否潤年\")\n",
    "year = input(\"請輸入年分: \")\n",
    "rem4 = int(year) % 4\n",
    "rem100 = int(year) % 100\n",
    "rem400 = int(year) % 400\n",
    "if rem4 == 0:\n",
    "    if rem100 != 0 or rem400 == 0:\n",
    "        print(f\"{year} 是潤年\")\n",
    "    else:\n",
    "        print(f\"{year} 不是潤年\")\n",
    "else:\n",
    "    print(f\"{year} 不是潤年\")"
   ]
  },
  {
   "cell_type": "code",
   "execution_count": null,
   "metadata": {},
   "outputs": [],
   "source": [
    "# Q2\n",
    "a = 3\n",
    "b = 5\n",
    "c = 1\n",
    "\n",
    "r1 = (-b + (b**2-4*a*c)**0.5)/(2*a)\n",
    "r2 = (-b - (b**2-4*a*c)**0.5)/(2*a)\n",
    "print(f\"{r1 = :6.4f},    {r2 = :6.4f}\")"
   ]
  },
  {
   "cell_type": "code",
   "execution_count": null,
   "metadata": {},
   "outputs": [],
   "source": [
    "# Q3\n",
    "a = 2\n",
    "b = 3\n",
    "c = 1\n",
    "d = -2\n",
    "e = 13\n",
    "f = -4\n",
    "\n",
    "x = (e*d - b*f) / (a*d - b*c)\n",
    "y = (a*f - e*c) / (a*d - b*c)\n",
    "print(f\"{x = :6.4f},    {y = :6.4f}\")"
   ]
  },
  {
   "cell_type": "markdown",
   "metadata": {},
   "source": [
    "## lab3 作業"
   ]
  },
  {
   "cell_type": "code",
   "execution_count": null,
   "metadata": {},
   "outputs": [],
   "source": [
    "num = int(input(\"Please input a number:\"))\n",
    "ans = \"even\" if num % 2 == 0 else \"odd\"\n",
    "print(f\"Please input your student ID first character: {ans}...\")\n",
    "ID_first_character = input(\"Please input your student ID first character:\")\n",
    "ID_last_8_numbers = int(input(\"Please input your student ID last 8 numbers:\"))\n",
    "ans = \"even\" if ID_last_8_numbers % 2 == 0 else \"odd\"\n",
    "print(f\"your student ID is {ans}\")\n",
    "print(f\"your student ID is {ID_first_character + str(ID_last_8_numbers)}\")"
   ]
  },
  {
   "cell_type": "code",
   "execution_count": null,
   "metadata": {},
   "outputs": [],
   "source": [
    "# 加分題\n",
    "a = float(input(\"請輸入第一個邊長: \"))\n",
    "b = float(input(\"請輸入第一個邊長: \"))\n",
    "c = float(input(\"請輸入第一個邊長: \"))\n",
    "\n",
    "if a + b <= c or a + c <= b or b + c <= a:\n",
    "  ans = \"這不是一個合法三角形\"\n",
    "elif a == b == c:\n",
    "  ans = \"這是正三角形\"\n",
    "elif a == b or a == c or b == c:\n",
    "  ans = \"這是等腰三角形\"\n",
    "else:\n",
    "  ans = \"這是一般三角形\"\n",
    "print(ans)"
   ]
  }
 ],
 "metadata": {
  "kernelspec": {
   "display_name": "base",
   "language": "python",
   "name": "python3"
  },
  "language_info": {
   "codemirror_mode": {
    "name": "ipython",
    "version": 3
   },
   "file_extension": ".py",
   "mimetype": "text/x-python",
   "name": "python",
   "nbconvert_exporter": "python",
   "pygments_lexer": "ipython3",
   "version": "3.11.5"
  },
  "orig_nbformat": 4
 },
 "nbformat": 4,
 "nbformat_minor": 2
}
