{
 "cells": [
  {
   "cell_type": "markdown",
   "metadata": {},
   "source": [
    "\n",
    "## Series\n",
    "\n",
    "Series是一種一維的陣列資料結構,在這個陣列內可以存放整數、浮點數、字串、Python物件(例如:字串list、字典dist…)、Numpy的ndarray,約量,…等。雖然是一維陣列資料,可是看起來卻好像是二維陣列資料,因為一個是索引(index)或稱標籤(label),另一個是實際的資料。\n",
    "\n",
    "Series結構與 Python的list類似,不過程式設計師可以為Series的每個元素自行命名索引。可以使用pandas.Series()建立Series物件,語法如下:\n",
    "```\n",
    "pandas.Series(data=None, index=None, dtype=None, name=None, options, ... )\n",
    "```\n",
    "\n",
    "下列章節實例,因為用下列指令導入pandas:\n",
    "```\n",
    "import pasdas as pd\n",
    "```\n",
    "\n",
    "所以可用pd.Series()取代上述的pandas.Series()。"
   ]
  },
  {
   "cell_type": "code",
   "execution_count": 9,
   "metadata": {},
   "outputs": [
    {
     "name": "stdout",
     "output_type": "stream",
     "text": [
      "0    11\n",
      "1    22\n",
      "2    33\n",
      "3    44\n",
      "4    55\n",
      "dtype: int64\n",
      "修改後 s1=0    11\n",
      "1    20\n",
      "2    33\n",
      "3    44\n",
      "4    55\n",
      "dtype: int64\n"
     ]
    }
   ],
   "source": [
    "import pandas as pd\n",
    "\n",
    "s1 = pd.Series([11, 22, 33, 44, 55])\n",
    "print(s1)\n",
    "s1[1] = 20\n",
    "print(f\"修改後 s1={s1}\")"
   ]
  },
  {
   "cell_type": "code",
   "execution_count": 10,
   "metadata": {},
   "outputs": [
    {
     "name": "stdout",
     "output_type": "stream",
     "text": [
      "[30 50 40]\n",
      "Index(['Orange', 'Apple', 'Grape'], dtype='object')\n"
     ]
    }
   ],
   "source": [
    "import pandas as pd\n",
    "\n",
    "s = pd.Series([30, 50, 40], index=['Orange', 'Apple', 'Grape'])\n",
    "print(f\"{s.values}\")\n",
    "print(f\"{s.index}\")"
   ]
  },
  {
   "cell_type": "code",
   "execution_count": 8,
   "metadata": {},
   "outputs": [
    {
     "name": "stdout",
     "output_type": "stream",
     "text": [
      "1    9\n",
      "2    9\n",
      "3    9\n",
      "dtype: int64\n"
     ]
    }
   ],
   "source": [
    "import pandas as pd\n",
    "\n",
    "s6 = pd.Series(9, index=[1, 2, 3])\n",
    "print(f\"{s6}\")"
   ]
  },
  {
   "cell_type": "markdown",
   "metadata": {},
   "source": [
    "### 使用 Python字典 dict 建立 Series物件\n",
    "\n",
    "如果我們使用Python的字典建立Series物件時,字典的鍵(key)就會被視為Series物件的索引,字典鍵的值(value)就會被視為Series物件的值。\n"
   ]
  },
  {
   "cell_type": "code",
   "execution_count": 4,
   "metadata": {},
   "outputs": [
    {
     "name": "stdout",
     "output_type": "stream",
     "text": [
      "北京    Beijing\n",
      "東京      Tokyo\n",
      "dtype: object\n"
     ]
    }
   ],
   "source": [
    "import pandas as pd\n",
    "\n",
    "mydict = {'北京':'Beijing', '東京':'Tokyo'}\n",
    "s2 = pd.Series(mydict)\n",
    "print(f\"{s2}\")"
   ]
  },
  {
   "cell_type": "markdown",
   "metadata": {},
   "source": [
    "### 使用Numpy的ndarray 建立 Series物件"
   ]
  },
  {
   "cell_type": "code",
   "execution_count": 5,
   "metadata": {},
   "outputs": [
    {
     "name": "stdout",
     "output_type": "stream",
     "text": [
      "0    0\n",
      "1    2\n",
      "2    4\n",
      "3    6\n",
      "dtype: int32\n"
     ]
    }
   ],
   "source": [
    "import pandas as pd\n",
    "import numpy as np\n",
    "\n",
    "s3 = pd.Series(np.arange(0, 7, 2))\n",
    "print(f\"{s3}\")"
   ]
  },
  {
   "cell_type": "markdown",
   "metadata": {},
   "source": [
    "### 自訂索引"
   ]
  },
  {
   "cell_type": "code",
   "execution_count": 6,
   "metadata": {},
   "outputs": [
    {
     "name": "stdout",
     "output_type": "stream",
     "text": [
      "3    100\n",
      "5    200\n",
      "7    300\n",
      "dtype: int64\n"
     ]
    }
   ],
   "source": [
    "import pandas as pd\n",
    "\n",
    "myindex = [3, 5, 7]\n",
    "price = [100, 200, 300]\n",
    "s4 = pd.Series(price, index=myindex)\n",
    "print(f\"{s4}\")"
   ]
  },
  {
   "cell_type": "code",
   "execution_count": 18,
   "metadata": {},
   "outputs": [
    {
     "name": "stdout",
     "output_type": "stream",
     "text": [
      "Orange    30\n",
      "Apple     50\n",
      "Grape     40\n",
      "dtype: int64\n",
      "30\n"
     ]
    }
   ],
   "source": [
    "fruits = ['Orange', 'Apple', 'Grape']\n",
    "price = [30, 50, 40]\n",
    "s5 = pd.Series(price, index=fruits)\n",
    "print(f\"{s5}\")\n",
    "print(f\"{s5['Orange']}\")\n"
   ]
  },
  {
   "cell_type": "markdown",
   "metadata": {},
   "source": [
    "### Series運算"
   ]
  },
  {
   "cell_type": "code",
   "execution_count": 17,
   "metadata": {},
   "outputs": [
    {
     "name": "stdout",
     "output_type": "stream",
     "text": [
      "物件相加\n",
      "0    4\n",
      "1    6\n",
      "dtype: int64\n",
      "物件相乘\n",
      "0    3\n",
      "1    8\n",
      "dtype: int64\n",
      "邏輯運算\n",
      "0    False\n",
      "1     True\n",
      "2     True\n",
      "dtype: bool\n"
     ]
    }
   ],
   "source": [
    "import pandas as pd\n",
    "\n",
    "s = pd.Series([0, 1, 2, 3, 4, 5])\n",
    "# 切片\n",
    "# print(f\"s[2:4] = \\n{s[2:4]}\")\n",
    "# print(f\"s[:3] = \\n{s[:3]}\")\n",
    "# print(f\"s[2:] = \\n{s[2:]}\")\n",
    "# print(f\"s[-1:] = \\n{s[-1:]}\")\n",
    "\n",
    "# 物件相加\n",
    "x = pd.Series([1, 2])\n",
    "y = pd.Series([3, 4])\n",
    "print(\"物件相加\")\n",
    "print(f\"{x + y}\")\n",
    "\n",
    "print(\"物件相乘\")\n",
    "print(f\"{x * y}\")\n",
    "\n",
    "print(\"邏輯運算\")\n",
    "x = pd.Series([1, 5, 9])\n",
    "y = pd.Series([2, 4, 8])\n",
    "print(f\"{x > y}\")"
   ]
  },
  {
   "cell_type": "markdown",
   "metadata": {},
   "source": [
    "## DataFrame \n",
    "DataFrame 是一種二維的陣列資料結構,邏輯上而言可以視為是類似Excel的工作表,在這個二維陣列內可以存放整數、浮點數、字串、Python物件(例如:字串list、字典dist…)、Numpy的ndarray,純量,…等。\n",
    "\n",
    "可以使用 DataFrame()建立DataFrame物件,語法如下:\n",
    "```\n",
    "pandas.DataFrame(data=None,index=None,dtype=None,name=None)\n",
    "```\n",
    "\n",
    "\n",
    "\n",
    "我們可以使用組合Series物件成為二維陣列的DataFrame。組合的方式是使用pancas.concat([Series1, Series2, ... ], axis=0) .預設axis是0\n",
    "\n",
    "- axis=0 是直的\n",
    "- axis=1 是橫的\n"
   ]
  },
  {
   "cell_type": "code",
   "execution_count": 19,
   "metadata": {},
   "outputs": [
    {
     "name": "stdout",
     "output_type": "stream",
     "text": [
      "<class 'pandas.core.series.Series'>\n",
      "2020    20\n",
      "2021    21\n",
      "2022    19\n",
      "2020    25\n",
      "2021    26\n",
      "2022    27\n",
      "2020    30\n",
      "2021    29\n",
      "2022    31\n",
      "dtype: int64\n"
     ]
    }
   ],
   "source": [
    "import pandas as pd\n",
    "years = range(2020, 2023)\n",
    "beijing = pd.Series([20, 21, 19], index = years)\n",
    "hongkong = pd.Series([25, 26, 27], index = years)\n",
    "singapore = pd.Series([30, 29, 31], index = years)\n",
    "citydf = pd.concat([beijing, hongkong, singapore])  # 預設axis=0\n",
    "print(type(citydf))\n",
    "print(citydf)"
   ]
  },
  {
   "cell_type": "code",
   "execution_count": 20,
   "metadata": {},
   "outputs": [
    {
     "name": "stdout",
     "output_type": "stream",
     "text": [
      "<class 'pandas.core.frame.DataFrame'>\n",
      "       0   1   2\n",
      "2020  20  25  30\n",
      "2021  21  26  29\n",
      "2022  19  27  31\n"
     ]
    }
   ],
   "source": [
    "import pandas as pd\n",
    "years = range(2020, 2023)\n",
    "beijing = pd.Series([20, 21, 19], index = years)\n",
    "hongkong = pd.Series([25, 26, 27], index = years)\n",
    "singapore = pd.Series([30, 29, 31], index = years)\n",
    "citydf = pd.concat([beijing, hongkong, singapore], axis=1)  # 預設axis=0\n",
    "print(type(citydf))\n",
    "print(citydf)"
   ]
  },
  {
   "cell_type": "markdown",
   "metadata": {},
   "source": [
    "### col屬性(直的)"
   ]
  },
  {
   "cell_type": "code",
   "execution_count": 21,
   "metadata": {},
   "outputs": [
    {
     "name": "stdout",
     "output_type": "stream",
     "text": [
      "      Beijing  HongKong  Singapore\n",
      "2020       20        25         30\n",
      "2021       21        26         29\n",
      "2022       19        27         31\n"
     ]
    }
   ],
   "source": [
    "import pandas as pd\n",
    "years = range(2020, 2023)\n",
    "beijing = pd.Series([20, 21, 19], index = years)\n",
    "hongkong = pd.Series([25, 26, 27], index = years)\n",
    "singapore = pd.Series([30, 29, 31], index = years)\n",
    "citydf = pd.concat([beijing,hongkong,singapore],axis=1)  # axis=1\n",
    "cities = [\"Beijing\", \"HongKong\", \"Singapore\"]\n",
    "citydf.columns = cities\n",
    "print(citydf)"
   ]
  },
  {
   "cell_type": "markdown",
   "metadata": {},
   "source": [
    "Series物件有name屬性,我們可以在建立物件時,在Series()內建立此屬性,也可以物件建立好了後再設定此屬性,如果有name屬性,在列印Series物件時就可以看到此屬性。"
   ]
  },
  {
   "cell_type": "code",
   "execution_count": 22,
   "metadata": {},
   "outputs": [
    {
     "name": "stdout",
     "output_type": "stream",
     "text": [
      "0    20\n",
      "1    21\n",
      "2    19\n",
      "Name: Beijing, dtype: int64\n"
     ]
    }
   ],
   "source": [
    "import pandas as pd\n",
    "\n",
    "beijing = pd.Series([20, 21, 19], name='Beijing')\n",
    "print(beijing)"
   ]
  },
  {
   "cell_type": "code",
   "execution_count": 23,
   "metadata": {},
   "outputs": [
    {
     "name": "stdout",
     "output_type": "stream",
     "text": [
      "      Beijing  HongKong  Singapore\n",
      "2020       20        25         30\n",
      "2021       21        26         29\n",
      "2022       19        27         31\n"
     ]
    }
   ],
   "source": [
    "import pandas as pd\n",
    "years = range(2020, 2023)\n",
    "beijing = pd.Series([20, 21, 19], index = years)\n",
    "hongkong = pd.Series([25, 26, 27], index = years)\n",
    "singapore = pd.Series([30, 29, 31], index = years)\n",
    "beijing.name = \"Beijing\"\n",
    "hongkong.name = \"HongKong\"\n",
    "singapore.name = \"Singapore\"\n",
    "citydf = pd.concat([beijing, hongkong, singapore],axis=1)  \n",
    "print(citydf)"
   ]
  },
  {
   "cell_type": "markdown",
   "metadata": {},
   "source": [
    "### 使用字典建立dataFrame"
   ]
  },
  {
   "cell_type": "code",
   "execution_count": 24,
   "metadata": {},
   "outputs": [
    {
     "name": "stdout",
     "output_type": "stream",
     "text": [
      "     country       town  population\n",
      "0      China    Beijing        2000\n",
      "1      Japan      Tokyo        1600\n",
      "2  Singapore  Singapore         600\n"
     ]
    }
   ],
   "source": [
    "import pandas as pd\n",
    "cities = {'country':['China','Japan','Singapore'],\n",
    "          'town':['Beijing','Tokyo','Singapore'],\n",
    "          'population':[2000, 1600, 600]}\n",
    "citydf = pd.DataFrame(cities)\n",
    "print(citydf)\n"
   ]
  },
  {
   "cell_type": "markdown",
   "metadata": {},
   "source": [
    "### 更改index屬性"
   ]
  },
  {
   "cell_type": "code",
   "execution_count": 25,
   "metadata": {},
   "outputs": [
    {
     "name": "stdout",
     "output_type": "stream",
     "text": [
      "          country       town  population\n",
      "first       China    Beijing        2000\n",
      "second      Japan      Tokyo        1600\n",
      "third   Singapore  Singapore         600\n"
     ]
    }
   ],
   "source": [
    "import pandas as pd\n",
    "cities = {'country':['China','Japan','Singapore'],\n",
    "          'town':['Beijing','Tokyo','Singapore'],\n",
    "          'population':[2000, 1600, 600]}\n",
    "rowindex = ['first', 'second', 'third']\n",
    "citydf = pd.DataFrame(cities, index=rowindex)\n",
    "print(citydf)"
   ]
  },
  {
   "cell_type": "code",
   "execution_count": 26,
   "metadata": {},
   "outputs": [
    {
     "name": "stdout",
     "output_type": "stream",
     "text": [
      "                town  population\n",
      "China        Beijing        2000\n",
      "Japan          Tokyo        1600\n",
      "Singapore  Singapore         600\n"
     ]
    }
   ],
   "source": [
    "import pandas as pd\n",
    "cities = {'country':['China', 'Japan', 'Singapore'],\n",
    "          'town':['Beijing','Tokyo','Singapore'],\n",
    "          'population':[2000, 1600, 600]}\n",
    "citydf = pd.DataFrame(cities,columns=[\"town\",\"population\"],\n",
    "                      index=cities[\"country\"])\n",
    "print(citydf)"
   ]
  },
  {
   "cell_type": "markdown",
   "metadata": {},
   "source": [
    "## 基本Pandas 資料分析與處理\n",
    "\n",
    "Series和DataFrame 物件建立完成後,下一步就是執行資料分析與處理,Pandas提供許多函數或方法,使用者可以針對此執行許多資料分析與處理"
   ]
  },
  {
   "cell_type": "code",
   "execution_count": 28,
   "metadata": {},
   "outputs": [
    {
     "name": "stdout",
     "output_type": "stream",
     "text": [
      "                Town  Population\n",
      "Taiwan        Taipei        2000\n",
      "Taiwan        Tainan        2300\n",
      "Thailand     Bangkok         900\n",
      "Japan          Tokyo        1600\n",
      "Singapore  Singapore         600\n"
     ]
    }
   ],
   "source": [
    "import pandas as pd\n",
    "cities = {'Country':['Taiwan','Taiwan','Thailand','Japan','Singapore'],\n",
    "          'Town':['Taipei','Tainan','Bangkok','Tokyo','Singapore'],\n",
    "          'Population':[2000, 2300, 900, 1600, 600]}\n",
    "df = pd.DataFrame(cities, columns=[\"Town\",\"Population\"],\n",
    "                  index=cities[\"Country\"])\n",
    "print(df)\n"
   ]
  },
  {
   "cell_type": "markdown",
   "metadata": {},
   "source": [
    "### 索引取值"
   ]
  },
  {
   "cell_type": "code",
   "execution_count": 37,
   "metadata": {},
   "outputs": [
    {
     "name": "stdout",
     "output_type": "stream",
     "text": [
      "Taiwan          Taipei\n",
      "Taiwan          Tainan\n",
      "Thailand       Bangkok\n",
      "Japan            Tokyo\n",
      "Singapore    Singapore\n",
      "Name: Town, dtype: object\n",
      "\n",
      "Bangkok\n",
      "\n",
      "Taiwan        True\n",
      "Taiwan        True\n",
      "Thailand     False\n",
      "Japan         True\n",
      "Singapore    False\n",
      "Name: Population, dtype: bool\n"
     ]
    }
   ],
   "source": [
    "import pandas as pd\n",
    "cities = {'Country':['Taiwan','Taiwan','Thailand','Japan','Singapore'],\n",
    "          'Town':['Taipei','Tainan','Bangkok','Tokyo','Singapore'],\n",
    "          'Population':[2000, 2300, 900, 1600, 600]}\n",
    "df = pd.DataFrame(cities, columns=[\"Town\",\"Population\"],\n",
    "                  index=cities[\"Country\"])\n",
    "print(df[\"Town\"])\n",
    "print()\n",
    "print(df[\"Town\"][\"Thailand\"])\n",
    "print()\n",
    "print(df[\"Population\"]>1000)"
   ]
  },
  {
   "cell_type": "markdown",
   "metadata": {},
   "source": [
    "### 四則運算方法\n",
    "\n",
    "下列是適用Pandas的四則運算方法。\n",
    "```\n",
    "add():加法運算。\n",
    "sub():減法運算。\n",
    "mul():乘法運算。\n",
    "div():除法運算。\n",
    "```"
   ]
  },
  {
   "cell_type": "code",
   "execution_count": 41,
   "metadata": {},
   "outputs": [
    {
     "name": "stdout",
     "output_type": "stream",
     "text": [
      "0    5\n",
      "1    7\n",
      "2    9\n",
      "dtype: int64\n",
      "0   -3\n",
      "1   -3\n",
      "2   -3\n",
      "dtype: int64\n",
      "    a    b\n",
      "0  10   40\n",
      "1  90  160\n",
      "      a     b\n",
      "0  10.0  10.0\n",
      "1  10.0  10.0\n"
     ]
    }
   ],
   "source": [
    "import pandas as pd\n",
    "\n",
    "s1 = pd.Series([1, 2, 3])\n",
    "s2 = pd.Series([4, 5, 6])\n",
    "x = s1.add(s2)\n",
    "print(x)\n",
    "\n",
    "y = s1.sub(s2)\n",
    "print(y)\n",
    "\n",
    "data1 = [{'a':10, 'b':20}, {'a':30, 'b':40}]\n",
    "df1 = pd.DataFrame(data1)\n",
    "data2 = [{'a':1, 'b':2}, {'a':3, 'b':4}]\n",
    "df2 = pd.DataFrame(data2)                            \n",
    "print(df1.mul(df2))\n",
    "print(df1.div(df2))\n"
   ]
  },
  {
   "cell_type": "markdown",
   "metadata": {},
   "source": [
    "### 邏輯運算方法\n",
    "\n",
    "下列是適用Pandas的邏輯運算方法。\n",
    "\n",
    "- gt()、It():大於、小於運算。\n",
    "- ge()、le():大於或等於、小於或等於運算。\n",
    "- eq()、ne():等於、不等於運算。"
   ]
  },
  {
   "cell_type": "code",
   "execution_count": 42,
   "metadata": {},
   "outputs": [
    {
     "name": "stdout",
     "output_type": "stream",
     "text": [
      "0    False\n",
      "1     True\n",
      "2     True\n",
      "dtype: bool\n",
      "0    False\n",
      "1    False\n",
      "2    False\n",
      "dtype: bool\n"
     ]
    }
   ],
   "source": [
    "import pandas as pd\n",
    "\n",
    "s1 = pd.Series([1, 5, 9])\n",
    "s2 = pd.Series([2, 4, 8])\n",
    "x = s1.gt(s2)\n",
    "print(x)\n",
    "\n",
    "y = s1.eq(s2)\n",
    "print(y)"
   ]
  },
  {
   "cell_type": "markdown",
   "metadata": {},
   "source": [
    "### numpy應用在pandas"
   ]
  },
  {
   "cell_type": "code",
   "execution_count": 43,
   "metadata": {},
   "outputs": [
    {
     "name": "stdout",
     "output_type": "stream",
     "text": [
      "0    1\n",
      "1    4\n",
      "2    9\n",
      "dtype: int64\n"
     ]
    }
   ],
   "source": [
    "import pandas as pd\n",
    "import numpy as np\n",
    "\n",
    "s = pd.Series([1, 2, 3])\n",
    "x = np.square(s)\n",
    "print(x)\n"
   ]
  },
  {
   "cell_type": "code",
   "execution_count": 44,
   "metadata": {},
   "outputs": [
    {
     "name": "stdout",
     "output_type": "stream",
     "text": [
      "        Frank  Peter  John\n",
      "first      80     96    98\n",
      "second     65     81    88\n",
      "final      75     93    84\n"
     ]
    }
   ],
   "source": [
    "import pandas as pd\n",
    "import numpy as np\n",
    "name = ['Frank', 'Peter', 'John']\n",
    "score = ['first', 'second', 'final']\n",
    "df = pd.DataFrame(np.random.randint(60,100,size=(3,3)),\n",
    "                  columns=name,\n",
    "                  index=score)\n",
    "print(df)"
   ]
  },
  {
   "cell_type": "markdown",
   "metadata": {},
   "source": [
    "\n",
    "## NaN 相關的運算\n",
    "\n",
    "在大數據的資料收集中常常因為執行者疏忽,漏了收集某一時間的資料,這些可用NaN代替。在先前四則運算我們沒有對NaN的值做運算實例,其實凡與NaN做運算,所獲得的結果也是 NaN。"
   ]
  },
  {
   "cell_type": "code",
   "execution_count": 45,
   "metadata": {},
   "outputs": [
    {
     "name": "stdout",
     "output_type": "stream",
     "text": [
      "0     NaN\n",
      "1     NaN\n",
      "2    13.0\n",
      "dtype: float64\n"
     ]
    }
   ],
   "source": [
    "import pandas as pd\n",
    "import numpy as np\n",
    "\n",
    "s1 = pd.Series([1, np.nan, 5])\n",
    "s2 = pd.Series([np.nan, 6, 8])\n",
    "x = s1.add(s2)\n",
    "print(x)\n"
   ]
  },
  {
   "cell_type": "markdown",
   "metadata": {},
   "source": [
    "### 處理NaN\n",
    "\n",
    "- dropna():將NaN刪除,然後傳回新的Series或DataFrame物件。\n",
    "- fillna(value):將NaN由特定value值取代,然後傳回新的Series或DataFrame物件。\n",
    "- isna():判斷是否為NaN,如果是傳回True,如果否傳回False。\n",
    "- notna():判斷是否為NaN,如果是傳回False,如果否傳回True。"
   ]
  },
  {
   "cell_type": "code",
   "execution_count": 46,
   "metadata": {},
   "outputs": [
    {
     "name": "stdout",
     "output_type": "stream",
     "text": [
      "   0    1    2\n",
      "0  1  2.0  3.0\n",
      "1  4  NaN  6.0\n",
      "2  7  8.0  NaN\n",
      "----------------------------------------------------------------------\n",
      "       0      1      2\n",
      "0  False  False  False\n",
      "1  False   True  False\n",
      "2  False  False   True\n",
      "----------------------------------------------------------------------\n",
      "      0      1      2\n",
      "0  True   True   True\n",
      "1  True  False   True\n",
      "2  True   True  False\n"
     ]
    }
   ],
   "source": [
    "# isna()跟notna()應用\n",
    "import pandas as pd\n",
    "import numpy as np\n",
    "\n",
    "df = pd.DataFrame([[1, 2, 3],[4, np.nan, 6],[7, 8, np.nan]])\n",
    "print(df)\n",
    "print(\"-\"*70)\n",
    "x = df.isna()\n",
    "print(x)\n",
    "print(\"-\"*70)\n",
    "y = df.notna()\n",
    "print(y)"
   ]
  },
  {
   "cell_type": "code",
   "execution_count": 48,
   "metadata": {},
   "outputs": [
    {
     "name": "stdout",
     "output_type": "stream",
     "text": [
      "   0    1    2\n",
      "0  1  2.0  3.0\n",
      "1  4  0.0  6.0\n",
      "2  7  8.0  0.0\n"
     ]
    }
   ],
   "source": [
    "# 在NaN填0\n",
    "import pandas as pd\n",
    "import numpy as np\n",
    "\n",
    "df = pd.DataFrame([[1, 2, 3],[4, np.nan, 6],[7, 8, np.nan]])\n",
    "z = df.fillna(0)\n",
    "print(z)\n"
   ]
  },
  {
   "cell_type": "code",
   "execution_count": 57,
   "metadata": {},
   "outputs": [
    {
     "name": "stdout",
     "output_type": "stream",
     "text": [
      "   0    1    2\n",
      "0  1  2.0  3.0\n"
     ]
    }
   ],
   "source": [
    "# 刪除NaN的row\n",
    "import pandas as pd\n",
    "import numpy as np\n",
    "\n",
    "df = pd.DataFrame([[1, 2, 3],[4, np.nan, 6],[7, 8, np.nan]])\n",
    "x = df.dropna(axis=0)\n",
    "print(x)\n"
   ]
  },
  {
   "cell_type": "code",
   "execution_count": 56,
   "metadata": {},
   "outputs": [
    {
     "name": "stdout",
     "output_type": "stream",
     "text": [
      "   0\n",
      "0  1\n",
      "1  4\n",
      "2  7\n"
     ]
    }
   ],
   "source": [
    "# 刪除NaN的col\n",
    "import pandas as pd\n",
    "import numpy as np\n",
    "\n",
    "df = pd.DataFrame([[1, 2, 3],[4, np.nan, 6],[7, 8, np.nan]])\n",
    "x = df.dropna(axis=1)\n",
    "print(x)"
   ]
  },
  {
   "cell_type": "markdown",
   "metadata": {},
   "source": [
    "## 幾個簡單的統計函數\n",
    "\n",
    "- cummax(axis=None):傳回指定軸累積的最大值。\n",
    "- cummin(axis=None):傳回指定軸累積的最小值,\n",
    "- cumsum(axis=None):傳回指定轴累積的總和。\n",
    "- max(axis=None):傳回指定軸的最大值。\n",
    "- min(axis=None):傳回指定軸的最小值。\n",
    "- sum(axis=None):傳回指定軸的總和。\n",
    "- mean(axis=None):傳回指定軸的平均數。\n",
    "- median(axis=None):傳回指定朝的中位數。\n",
    "- std(axis=None):傳回指定軸的標準差。\n",
    "\n"
   ]
  },
  {
   "cell_type": "code",
   "execution_count": 19,
   "metadata": {},
   "outputs": [
    {
     "name": "stdout",
     "output_type": "stream",
     "text": [
      "                Town  Population\n",
      "China        Beijing        2000\n",
      "China       Shanghai        2300\n",
      "Thailand     Bangkok         900\n",
      "Japan          Tokyo        1600\n",
      "Singapore  Singapore         600\n",
      "\n",
      "人口總計  7400\n",
      "最多人口數  2300\n",
      "最少人口數  600\n",
      "\n",
      "                Town  Population  累積人口總計\n",
      "China        Beijing        2000    2000\n",
      "China       Shanghai        2300    4300\n",
      "Thailand     Bangkok         900    5200\n",
      "Japan          Tokyo        1600    6800\n",
      "Singapore  Singapore         600    7400\n"
     ]
    }
   ],
   "source": [
    "import pandas as pd\n",
    "cities = {'Country':['China','China','Thailand','Japan','Singapore'],\n",
    "          'Town':['Beijing','Shanghai','Bangkok','Tokyo','Singapore'],\n",
    "          'Population':[2000, 2300, 900, 1600, 600]}\n",
    "df = pd.DataFrame(cities, columns=[\"Town\",\"Population\"],\n",
    "                  index=cities[\"Country\"])\n",
    "print(df)\n",
    "print()\n",
    "\n",
    "\n",
    "print('人口總計 ', df['Population'].sum())\n",
    "print('最多人口數 ', df['Population'].max())\n",
    "print('最少人口數 ', df['Population'].min())\n",
    "print()\n",
    "\n",
    "df['累積人口總計'] = df['Population'].cumsum()\n",
    "print(df)\n"
   ]
  },
  {
   "cell_type": "code",
   "execution_count": 35,
   "metadata": {},
   "outputs": [
    {
     "name": "stdout",
     "output_type": "stream",
     "text": [
      "   Chinese  English  Math  Natural  Society\n",
      "A       14       12    13       10       13\n",
      "B       13       14    11       10       15\n",
      "C       15        9    12        8       15\n",
      "D       15       10    13       10       15\n",
      "E       12       11    14        9       14\n",
      "\n",
      "         Chinese  English  Math  Natural  Society    總和\n",
      "A           14.0     12.0  13.0     10.0     13.0  62.0\n",
      "B           13.0     14.0  11.0     10.0     15.0  63.0\n",
      "C           15.0      9.0  12.0      8.0     15.0  59.0\n",
      "D           15.0     10.0  13.0     10.0     15.0  63.0\n",
      "E           12.0     11.0  14.0      9.0     14.0  60.0\n",
      "Average     13.8     11.2  12.6      9.4     14.4  61.4\n",
      "   Chinese  English  Math  Natural  Society\n",
      "A     14.0     12.0  13.0     10.0     13.0\n",
      "B     13.0     14.0  11.0     10.0     15.0\n",
      "C     15.0      9.0  12.0      8.0     15.0\n",
      "D     15.0     10.0  13.0     10.0     15.0\n",
      "E     12.0     11.0  14.0      9.0     14.0\n"
     ]
    }
   ],
   "source": [
    "import pandas as pd\n",
    "\n",
    "course = ['Chinese','English','Math','Natural','Society']\n",
    "name = [\"A\", \"B\", \"C\", \"D\", \"E\"]\n",
    "chinese = [14, 12, 13, 10, 13]\n",
    "eng = [13, 14, 11, 10, 15]\n",
    "math = [15, 9, 12, 8, 15]\n",
    "nature = [15, 10, 13, 10, 15]\n",
    "social = [12, 11, 14, 9, 14]\n",
    "\n",
    "df = pd.DataFrame([chinese, eng, math, nature, social],\n",
    "                  columns = course,\n",
    "                  index = name\n",
    "                )\n",
    "\n",
    "print(df)\n",
    "print()\n",
    "\n",
    "# 計算一個 DataFrame (df) 中前五行每一行的總和\n",
    "total = [df.iloc[i].sum() for i in range(0, 5)]\n",
    "df[\"總和\"]= total\n",
    "\n",
    "# 計算平均\n",
    "ave = df.mean()\n",
    "df.loc['Average'] = ave\n",
    "# df.loc['Total'] = total # 將總和加入到 DataFrame 中\n",
    "print(df)\n",
    "\n",
    "# 如果要刪除index\n",
    "df = df.drop(index='Average')\n",
    "df = df.drop(columns=\"總和\")\n",
    "print(df)\n",
    "\n",
    "\n"
   ]
  },
  {
   "cell_type": "markdown",
   "metadata": {},
   "source": [
    "## 處裡排序"
   ]
  },
  {
   "cell_type": "code",
   "execution_count": 37,
   "metadata": {},
   "outputs": [
    {
     "name": "stdout",
     "output_type": "stream",
     "text": [
      "   Chinese  English  Math  Natural  Society  Total  排名\n",
      "2       13       14    11       10       15     63   1\n",
      "4       15       10    13       10       15     63   2\n",
      "1       14       12    13       10       13     62   3\n",
      "5       12       11    14        9       14     60   4\n",
      "3       15        9    12        8       15     59   5\n"
     ]
    }
   ],
   "source": [
    "import pandas as pd\n",
    "\n",
    "course = ['Chinese','English','Math','Natural','Society']\n",
    "chinese = [14, 12, 13, 10, 13]\n",
    "eng = [13, 14, 11, 10, 15]\n",
    "math = [15, 9, 12, 8, 15]\n",
    "nature = [15, 10, 13, 10, 15]\n",
    "social = [12, 11, 14, 9, 14]\n",
    "\n",
    "df = pd.DataFrame([chinese, eng, math, nature, social],\n",
    "                  columns = course,\n",
    "                  index = range(1,6))\n",
    "total = [df.iloc[i].sum() for i in range(0, 5)]\n",
    "df['Total'] = total\n",
    "\n",
    "# 依據總分排序\n",
    "df = df.sort_values(by='Total', ascending=False)\n",
    "df[\"排名\"] = range(1,6)\n",
    "print(df)"
   ]
  },
  {
   "cell_type": "code",
   "execution_count": 41,
   "metadata": {},
   "outputs": [
    {
     "name": "stdout",
     "output_type": "stream",
     "text": [
      "   Chinese  English  Math  Natural  Society  Total  Ranking\n",
      "1       14       12    13       10       13     62        1\n",
      "2       13       14    11       10       15     63        2\n",
      "3       15        9    12        8       15     59        3\n",
      "4       15       10    13       10       15     63        4\n",
      "5       12       11    14        9       14     60        5\n"
     ]
    }
   ],
   "source": [
    "import pandas as pd\n",
    "\n",
    "course = ['Chinese','English','Math','Natural','Society']\n",
    "chinese = [14, 12, 13, 10, 13]\n",
    "eng = [13, 14, 11, 10, 15]\n",
    "math = [15, 9, 12, 8, 15]\n",
    "nature = [15, 10, 13, 10, 15]\n",
    "social = [12, 11, 14, 9, 14]\n",
    "\n",
    "df = pd.DataFrame([chinese, eng, math, nature, social],\n",
    "                  columns = course,\n",
    "                  index = range(1,6))\n",
    "total = [df.iloc[i].sum() for i in range(0, 5)]\n",
    "df['Total'] = total\n",
    "\n",
    "df = df.sort_values(by='Total', ascending=False)\n",
    "df = df.sort_index() # 依據index排序\n",
    "\n",
    "rank = range(1, 6)\n",
    "df['Ranking'] = rank\n",
    "print(df)\n"
   ]
  },
  {
   "cell_type": "markdown",
   "metadata": {},
   "source": [
    "## 讀取與輸出excel檔案\n",
    "\n",
    "Pandas可以使用to_excel()將DataFrame物件寫入Excel檔案,它的語法如下:\n",
    "```\n",
    "to_excel(path=None, header=True, index=True, encoding=None,startrow=n, startcol=n,...)\n",
    "```\n",
    "- path:檔案路徑(名稱)。\n",
    "- header:是否保留columns,預設是True。\n",
    "- index:是否保留index,預設是True。\n",
    "- encoding:檔案編碼方式。\n",
    "- startrow:起始列。\n",
    "- startcol:起始欄。"
   ]
  },
  {
   "cell_type": "code",
   "execution_count": 2,
   "metadata": {},
   "outputs": [
    {
     "name": "stdout",
     "output_type": "stream",
     "text": [
      "    軟體   書籍  國際證照\n",
      "1  200  150    80\n",
      "2  220  180   100\n",
      "3  160  200   110\n",
      "4  100  120   150\n"
     ]
    }
   ],
   "source": [
    "import pandas as pd\n",
    "\n",
    "items = ['軟體','書籍','國際證照']\n",
    "Jan = [200, 150, 80]\n",
    "Feb = [220, 180, 100]\n",
    "March = [160, 200, 110]\n",
    "April = [100, 120, 150]\n",
    "df = pd.DataFrame([Jan, Feb, March, April],\n",
    "                  columns = items,\n",
    "                  index = range(1,5))\n",
    "\n",
    "print(df)\n",
    "df.to_excel(\"./output file/pandas輸出.xlsx\")\n",
    "# df.to_excel(\"./output file/pandas輸出.xlsx\", header=False, index=False)"
   ]
  },
  {
   "cell_type": "markdown",
   "metadata": {},
   "source": [
    "Pandas可以使用read_excel()讀取Excel檔案,它的語法如下:\n",
    "```\n",
    "read_excel(excel_writei=None, sheet_name=None, names=None, header=True,index_col=None, names=None, encoding=None,userows=None, usecols=None, ... )\n",
    "```\n",
    "- excel_writer:檔案路徑(名稱)。\n",
    "- sheet_name:工作表名稱。\n",
    "- header:設定哪一row為欄位標籤,預設是0。當參數有names時,此為None。如果所讀取的檔案有欄位標籤時,就需設定此header值。\n",
    "- index_col:指出第幾欄位column是索引,預設是None。\n",
    "- names:如果header=0時,可以設定欄位標籤。\n",
    "- encoding:檔案編碼方式。\n",
    "- nrows:設定讀取前幾row。\n",
    "- skiprows:跳過幾列。\n",
    "- usecols:設定讀取那幾欄位,例如:“B:E\"。"
   ]
  },
  {
   "cell_type": "code",
   "execution_count": 8,
   "metadata": {},
   "outputs": [
    {
     "name": "stdout",
     "output_type": "stream",
     "text": [
      "    軟體   書籍  國際證照\n",
      "1  200  150    80\n",
      "2  220  180   100\n",
      "3  160  200   110\n",
      "4  100  120   150\n",
      "----------------------------------------------------------------------\n"
     ]
    }
   ],
   "source": [
    "import pandas as pd\n",
    "\n",
    "x = pd.read_excel(\"./input file/pandas讀取示範.xlsx\",index_col=0)\n",
    "print(x)\n",
    "print(\"-\"*70)\n",
    "\n"
   ]
  },
  {
   "cell_type": "code",
   "execution_count": 20,
   "metadata": {},
   "outputs": [
    {
     "name": "stdout",
     "output_type": "stream",
     "text": [
      "   軟體  書籍  國際證照11\n",
      "1   200   150          80\n",
      "2   220   180         100\n",
      "3   160   200         110\n",
      "4   100   120         150\n",
      "----------------------------------------\n",
      "   軟體  書籍  國際證照11\n",
      "1   200   150          80\n",
      "2   220   180         100\n",
      "3   160   200         110\n",
      "4   100   120         150\n"
     ]
    }
   ],
   "source": [
    "import pandas as pd\n",
    "items = ['軟體','書籍','國際證照11']\n",
    "\n",
    "y = pd.read_excel(\"./input file/pandas讀取示範.xlsx\",names=items)\n",
    "print(y) # 會發現說。諄文字沒對其\n",
    "print(\"-\"*40)\n",
    "\n",
    "pd.set_option('display.unicode.east_asian_width', True)\n",
    "y = pd.read_excel(\"./input file/pandas讀取示範.xlsx\",names=items)\n",
    "print(y) "
   ]
  },
  {
   "cell_type": "markdown",
   "metadata": {},
   "source": [
    "## 選擇不同工作表"
   ]
  },
  {
   "cell_type": "code",
   "execution_count": 25,
   "metadata": {},
   "outputs": [
    {
     "name": "stdout",
     "output_type": "stream",
     "text": [
      "  3C連鎖賣場業績表 Unnamed: 2 Unnamed: 3 Unnamed: 4 Unnamed: 5\n",
      "0             產品     第一季     第二季     第三季     第四季\n",
      "1           iPhone      88000      78000      82000      92000\n",
      "2             iPad      50000      52000      55000      60000\n",
      "3           iWatch      50000      55000      53500      58000\n"
     ]
    }
   ],
   "source": [
    "import pandas as pd\n",
    "\n",
    "pd.set_option('display.unicode.east_asian_width', True)\n",
    "x = pd.read_excel(\"./input file/3C連鎖賣場業績表.xlsx\",sheet_name=\"台北店\", skiprows=2, usecols=\"B:F\")\n",
    "print(x)"
   ]
  },
  {
   "cell_type": "markdown",
   "metadata": {},
   "source": [
    "## 使用info() 輸出基本資料"
   ]
  },
  {
   "cell_type": "code",
   "execution_count": 26,
   "metadata": {},
   "outputs": [
    {
     "name": "stdout",
     "output_type": "stream",
     "text": [
      "<class 'pandas.core.frame.DataFrame'>\n",
      "Index: 150 entries, A1 to A448\n",
      "Data columns (total 4 columns):\n",
      " #   Column  Non-Null Count  Dtype \n",
      "---  ------  --------------  ----- \n",
      " 0   性別      150 non-null    object\n",
      " 1   學歷      150 non-null    object\n",
      " 2   年收入     150 non-null    int64 \n",
      " 3   年齡      150 non-null    int64 \n",
      "dtypes: int64(2), object(2)\n",
      "memory usage: 5.9+ KB\n",
      "None\n"
     ]
    }
   ],
   "source": [
    "pd.set_option('display.unicode.east_asian_width', True)\n",
    "df = pd.read_excel(\"./input file/customer.xlsx\",index_col=0)\n",
    "print(df.info())"
   ]
  },
  {
   "cell_type": "markdown",
   "metadata": {},
   "source": [
    "## 輸出列術數欄位數"
   ]
  },
  {
   "cell_type": "code",
   "execution_count": 28,
   "metadata": {},
   "outputs": [
    {
     "name": "stdout",
     "output_type": "stream",
     "text": [
      "(列數, 欄數) = (150, 4)\n"
     ]
    }
   ],
   "source": [
    "import pandas as pd\n",
    "\n",
    "df = pd.read_excel(\"./input file/customer.xlsx\",index_col=0)\n",
    "print(f\"(列數, 欄數) = {df.shape}\")"
   ]
  },
  {
   "cell_type": "markdown",
   "metadata": {},
   "source": [
    "## 輸出前後資料"
   ]
  },
  {
   "cell_type": "code",
   "execution_count": 27,
   "metadata": {},
   "outputs": [
    {
     "name": "stdout",
     "output_type": "stream",
     "text": [
      "輸出前 3 筆資料\n",
      "         性別  學歷  年收入  年齡\n",
      "客戶編號                         \n",
      "A1         男  大學     120    35\n",
      "A4         男  碩士      88    28\n",
      "A7         女  大學      59    29\n",
      "----------------------------------------------------------------------\n",
      "輸出前 5 筆資料\n",
      "         性別  學歷  年收入  年齡\n",
      "客戶編號                         \n",
      "A1         男  大學     120    35\n",
      "A4         男  碩士      88    28\n",
      "A7         女  大學      59    29\n",
      "A10        女  大學     105    37\n",
      "A13        男  高中      65    43\n",
      "----------------------------------------------------------------------\n",
      "輸出後 5 筆資料\n",
      "         性別  學歷  年收入  年齡\n",
      "客戶編號                         \n",
      "A436       女  大學      50    32\n",
      "A439       女  大學      48    30\n",
      "A442       男  碩士      65    37\n",
      "A445       女  大學      70    41\n",
      "A448       女  大學      90    48\n"
     ]
    }
   ],
   "source": [
    "import pandas as pd\n",
    "\n",
    "pd.set_option('display.unicode.east_asian_width', True)\n",
    "df = pd.read_excel(\"./input file/customer.xlsx\",index_col=0)\n",
    "print(\"輸出前 3 筆資料\")\n",
    "print(df.head(3))\n",
    "print(\"-\"*70)\n",
    "print(\"輸出前 5 筆資料\")\n",
    "print(df.head())\n",
    "print(\"-\"*70)\n",
    "print(\"輸出後 5 筆資料\")\n",
    "print(df.tail())"
   ]
  },
  {
   "cell_type": "markdown",
   "metadata": {},
   "source": [
    "## 輸出記數"
   ]
  },
  {
   "cell_type": "code",
   "execution_count": 29,
   "metadata": {},
   "outputs": [
    {
     "name": "stdout",
     "output_type": "stream",
     "text": [
      "輸出各學歷人數\n",
      "學歷\n",
      "大學    84\n",
      "碩士    34\n",
      "高中    16\n",
      "博士    16\n",
      "Name: count, dtype: int64\n",
      "輸出各學歷占比\n",
      "學歷\n",
      "大學    0.560000\n",
      "碩士    0.226667\n",
      "高中    0.106667\n",
      "博士    0.106667\n",
      "Name: proportion, dtype: float64\n"
     ]
    }
   ],
   "source": [
    "import pandas as pd\n",
    "\n",
    "df = pd.read_excel(\"./input file/customer.xlsx\",index_col=0)\n",
    "print(\"輸出各學歷人數\")\n",
    "print(df['學歷'].value_counts())\n",
    "print(\"輸出各學歷占比\")\n",
    "print(df['學歷'].value_counts(normalize=True))"
   ]
  },
  {
   "cell_type": "markdown",
   "metadata": {},
   "source": [
    "## 更改列欄所引"
   ]
  },
  {
   "cell_type": "code",
   "execution_count": 37,
   "metadata": {},
   "outputs": [
    {
     "name": "stdout",
     "output_type": "stream",
     "text": [
      "    性別  學歷  月收入  年齡\n",
      "1     男  大學     120    35\n",
      "2     男  碩士      88    28\n",
      "3     女  大學      59    29\n",
      "4     女  大學     105    37\n",
      "5     男  高中      65    43\n",
      "..   ...   ...     ...   ...\n",
      "146   女  大學      50    32\n",
      "147   女  大學      48    30\n",
      "148   男  碩士      65    37\n",
      "149   女  大學      70    41\n",
      "150   女  大學      90    48\n",
      "\n",
      "[150 rows x 4 columns]\n"
     ]
    }
   ],
   "source": [
    "import pandas as pd\n",
    "\n",
    "df = pd.read_excel(\"./input file/customer.xlsx\",index_col=0)\n",
    "df.columns = [\"性別\", \"學歷\", \"月收入\", \"年齡\"]\n",
    "df.index = [i for i in range(1, len(df) + 1)]\n",
    "print(df)"
   ]
  },
  {
   "cell_type": "markdown",
   "metadata": {},
   "source": [
    "## 缺失值處理"
   ]
  },
  {
   "cell_type": "code",
   "execution_count": 31,
   "metadata": {},
   "outputs": [
    {
     "name": "stdout",
     "output_type": "stream",
     "text": [
      "   姓名  一月    二月    三月   總計\n",
      "0  李偉  4560  5152.0  6014.0  15726\n",
      "1  張靜  8864     NaN  7842.0  16706\n",
      "2  王磊  4234  8045.0  7098.0  19377\n",
      "3  陳麗  7799  5435.0     NaN  13234\n",
      "4  劉翔  9040  8048.0  5098.0  22186\n",
      "----------------------------------------------------------------------\n",
      "    姓名   一月   二月   三月   總計\n",
      "0  False  False  False  False  False\n",
      "1  False  False   True  False  False\n",
      "2  False  False  False  False  False\n",
      "3  False  False  False   True  False\n",
      "4  False  False  False  False  False\n",
      "   姓名  一月    二月    三月   總計\n",
      "0  李偉  4560  5152.0  6014.0  15726\n",
      "1  張靜  8864     0.0  7842.0  16706\n",
      "2  王磊  4234  8045.0  7098.0  19377\n",
      "3  陳麗  7799  5435.0     0.0  13234\n",
      "4  劉翔  9040  8048.0  5098.0  22186\n"
     ]
    }
   ],
   "source": [
    "import pandas as pd\n",
    "\n",
    "pd.set_option('display.unicode.east_asian_width', True)\n",
    "df = pd.read_excel(\"./input file/缺失值處理.xlsx\",skiprows=2,usecols=\"B:F\")\n",
    "print(df)\n",
    "print(\"-\"*70)\n",
    "print(df.isnull())\n",
    "\n",
    "# 填入0.0\n",
    "df1 = df.fillna(0.0)\n",
    "print(df1)\n",
    "df1.to_excel(excel_writer=\"./output file/缺失值處理補0.xlsx\",index=False)\n",
    "\n",
    "# 刪除缺失值\n"
   ]
  },
  {
   "cell_type": "code",
   "execution_count": 32,
   "metadata": {},
   "outputs": [
    {
     "name": "stdout",
     "output_type": "stream",
     "text": [
      "   姓名  一月    二月    三月   總計\n",
      "0  李偉  4560  5152.0  6014.0  15726\n",
      "2  王磊  4234  8045.0  7098.0  19377\n",
      "4  劉翔  9040  8048.0  5098.0  22186\n"
     ]
    }
   ],
   "source": [
    "import pandas as pd\n",
    "\n",
    "pd.set_option('display.unicode.east_asian_width', True)\n",
    "df = pd.read_excel(\"./input file/缺失值處理.xlsx\",skiprows=2,usecols=\"B:F\")\n",
    "print(df.dropna())"
   ]
  },
  {
   "cell_type": "markdown",
   "metadata": {},
   "source": [
    "## 處理重複資料\n",
    "函數 drop_duplicates()可以刪除重複的資料列,此函數語法如下:\n",
    "```\n",
    "drop_duplicates(subset=None, keep='first', inplace=False)\n",
    "```\n",
    "上述個參數意義如下:\n",
    "- subset:只考慮處理某些列。\n",
    "- keep:預設是first,表示保存第一個出現的列項目,其他刪除。\n",
    "- implace:是否將重複像放在適當位置或是回傳副本。"
   ]
  },
  {
   "cell_type": "code",
   "execution_count": 34,
   "metadata": {},
   "outputs": [
    {
     "name": "stdout",
     "output_type": "stream",
     "text": [
      "     姓名  一月    二月    三月   總計\n",
      "0    李偉  4560  5152.0  6014.0  15726\n",
      "1    張靜  9040  8048.0  5098.0  22186\n",
      "2    王磊  8864     NaN  7842.0  16706\n",
      "3    陳麗  4560  5152.0  6014.0  15726\n",
      "4    劉翔  4234  8045.0  7098.0  19377\n",
      "5  王終生  7799  5435.0     NaN  13234\n"
     ]
    }
   ],
   "source": [
    "import pandas as pd\n",
    "\n",
    "pd.set_option('display.unicode.east_asian_width', True)\n",
    "df = pd.read_excel(\"./input file/重複列範例.xlsx\",skiprows=2,usecols=\"B:F\")\n",
    "print(df.drop_duplicates())\n"
   ]
  },
  {
   "cell_type": "markdown",
   "metadata": {},
   "source": [
    "## 篩選欄列資料"
   ]
  },
  {
   "cell_type": "code",
   "execution_count": 47,
   "metadata": {},
   "outputs": [
    {
     "name": "stdout",
     "output_type": "stream",
     "text": [
      "\n",
      "    性別  學歷\n",
      "0     男  大學\n",
      "1     男  碩士\n",
      "2     女  大學\n",
      "3     女  大學\n",
      "4     男  高中\n",
      "..   ...   ...\n",
      "145   女  大學\n",
      "146   女  大學\n",
      "147   男  碩士\n",
      "148   女  大學\n",
      "149   女  大學\n",
      "\n",
      "[150 rows x 2 columns]\n",
      "\n",
      "  客戶編號 性別  學歷  年收入  年齡\n",
      "3      A10   女  大學     105    37\n",
      "4      A13   男  高中      65    43\n",
      "5      A16   女  碩士      70    27\n",
      "\n",
      "設定年齡\n",
      "    客戶編號 性別  學歷  年收入  年齡\n",
      "0         A1   男  大學     120    35\n",
      "1         A4   男  碩士      88    28\n",
      "2         A7   女  大學      59    29\n",
      "3        A10   女  大學     105    37\n",
      "4        A13   男  高中      65    43\n",
      "..       ...  ...   ...     ...   ...\n",
      "145     A436   女  大學      50    32\n",
      "146     A439   女  大學      48    30\n",
      "147     A442   男  碩士      65    37\n",
      "148     A445   女  大學      70    41\n",
      "149     A448   女  大學      90    48\n",
      "\n",
      "[150 rows x 5 columns]\n"
     ]
    }
   ],
   "source": [
    "import pandas as pd\n",
    "\n",
    "pd.set_option('display.unicode.east_asian_width', True)\n",
    "df = pd.read_excel(\"./input file/customer.xlsx\",\n",
    "                #    skiprows=2,\n",
    "                #    usecols=\"B:H\"\n",
    "                   )\n",
    "\n",
    "# print(df)\n",
    "print()\n",
    "print(df[['性別','學歷']])\n",
    "print()\n",
    "print(df.iloc[3:6])\n",
    "print()\n",
    "print(\"設定年齡\")\n",
    "print(df[df['年齡'] > 20])\n",
    "\n",
    "# 相關應用\n",
    "# print(df[df['部門'] == '表演組'])\n",
    "# print(df[df['到職日期'] > datetime.datetime(1993,6,1)])"
   ]
  },
  {
   "cell_type": "markdown",
   "metadata": {},
   "source": [
    "## pandas相關應用"
   ]
  },
  {
   "cell_type": "code",
   "execution_count": 48,
   "metadata": {},
   "outputs": [
    {
     "name": "stdout",
     "output_type": "stream",
     "text": [
      "     地區   2021年   2022年   增長\n",
      "0    日本  2005400  2100008   True\n",
      "1    韓國   860089   900886   True\n",
      "2    香港  1280231  1120334  False\n",
      "3  新加坡  1780075  1800931   True\n"
     ]
    }
   ],
   "source": [
    "# 國人旅遊統計查看是否增長\n",
    "import pandas as pd\n",
    "\n",
    "pd.set_option('display.unicode.east_asian_width', True)\n",
    "df = pd.read_excel(\"./input file/國人出國旅遊統計表.xlsx\",\n",
    "                   skiprows=2,usecols=\"B:E\")\n",
    "\n",
    "df['增長'] = df['2022年'] > df['2021年']\n",
    "print(df)"
   ]
  },
  {
   "cell_type": "code",
   "execution_count": 49,
   "metadata": {},
   "outputs": [
    {
     "name": "stdout",
     "output_type": "stream",
     "text": [
      "0    False\n",
      "1    False\n",
      "2     True\n",
      "3    False\n",
      "4     True\n",
      "Name: 收縮壓, dtype: bool\n",
      "0    False\n",
      "1    False\n",
      "2     True\n",
      "3    False\n",
      "4    False\n",
      "Name: 舒張壓, dtype: bool\n",
      "  考生姓名  收縮壓  舒張壓  高血壓\n",
      "0   陳嘉文     120      80   False\n",
      "1   李欣欣      98      60   False\n",
      "2   張家宜     150     100    True\n",
      "3     陳浩     130      90   False\n",
      "4   王鐵牛     170      85   False\n"
     ]
    }
   ],
   "source": [
    "# 正常高血壓定義是收縮壓大於140,舒張壓大於90,這個題目是列出測試者的收縮壓與舒張壓,然後列出是否有高血壓。\n",
    "import pandas as pd\n",
    "\n",
    "pd.set_option('display.unicode.east_asian_width', True)\n",
    "df = pd.read_excel(\"./input file/血壓測試表.xlsx\",\n",
    "                   skiprows=2,usecols=\"B:E\")\n",
    "\n",
    "\n",
    "data1 = df['收縮壓'] > 140\n",
    "print(data1)\n",
    "data2 = df['舒張壓'] > 90\n",
    "print(data2)\n",
    "df['高血壓'] = data1 & data2\n",
    "print(df)"
   ]
  },
  {
   "cell_type": "code",
   "execution_count": 51,
   "metadata": {},
   "outputs": [
    {
     "name": "stdout",
     "output_type": "stream",
     "text": [
      "     姓名  一月  二月   總計  月平均\n",
      "0  李生時  4560  5152   9712  4856.0\n",
      "1  章藝文  8864  3728  12592  6296.0\n",
      "2  張鐵橋  4234  8045  12279  6139.5\n",
      "3  王終生  7799  5435  13234  6617.0\n",
      "4  周華元  9040  8048  17088  8544.0\n"
     ]
    }
   ],
   "source": [
    "# 業績運算\n",
    "import pandas as pd\n",
    "\n",
    "pd.set_option('display.unicode.east_asian_width', True)\n",
    "df = pd.read_excel(\"./input file/助教業績表.xlsx\",\n",
    "                   skiprows=2,usecols=\"B:E\")\n",
    "\n",
    "df['總計'] = df['一月'] + df['二月']\n",
    "df['月平均'] = df['總計'] / 2.0\n",
    "print(df)"
   ]
  },
  {
   "cell_type": "code",
   "execution_count": 53,
   "metadata": {},
   "outputs": [
    {
     "name": "stdout",
     "output_type": "stream",
     "text": [
      "  產品編號    名稱  銷售數量  排名\n",
      "1     A003    口紅        72     1\n",
      "0     A001    香水        56     2\n",
      "5     D002    領帶        50     3\n",
      "4     C003  西裝褲        41     4\n",
      "3     C001    襯衫        32     5\n",
      "2     B004    皮鞋        27     6\n",
      "----------------------------------------------------------------------\n",
      "  產品編號    名稱  銷售數量  排名\n",
      "0     A001    香水        56     2\n",
      "1     A003    口紅        72     1\n",
      "2     B004    皮鞋        27     6\n",
      "3     C001    襯衫        32     5\n",
      "4     C003  西裝褲        41     4\n",
      "5     D002    領帶        50     3\n"
     ]
    }
   ],
   "source": [
    "# 計算銷售排名\n",
    "import pandas as pd\n",
    "\n",
    "pd.set_option('display.unicode.east_asian_width', True)\n",
    "df = pd.read_excel(\"./input file/百貨公司產品銷售.xlsx\",\n",
    "                   skiprows=2,usecols=\"B:E\")\n",
    "\n",
    "df = df.sort_values(by='銷售數量',ascending=False)\n",
    "rank = range(1,7)\n",
    "df['排名'] = rank\n",
    "print(df)\n",
    "print(\"-\"*70)\n",
    "df = df.sort_index()\n",
    "print(df)"
   ]
  },
  {
   "cell_type": "code",
   "execution_count": 54,
   "metadata": {},
   "outputs": [
    {
     "name": "stdout",
     "output_type": "stream",
     "text": [
      "        日期  來客數  累計來客數\n",
      "0 2022-01-01     113         113\n",
      "1 2022-01-02     121         234\n",
      "2 2022-01-03      98         332\n",
      "3 2022-01-04     109         441\n",
      "4 2022-01-05     144         585\n"
     ]
    }
   ],
   "source": [
    "# 累積來客數\n",
    "import pandas as pd\n",
    "\n",
    "pd.set_option('display.unicode.east_asian_width', True)\n",
    "df = pd.read_excel(\"./input file/超商來客數.xlsx\",\n",
    "                   skiprows=2,usecols=\"B:D\")\n",
    "\n",
    "df['累計來客數'] = df['來客數'].cumsum()\n",
    "print(df)\n"
   ]
  }
 ],
 "metadata": {
  "kernelspec": {
   "display_name": "base",
   "language": "python",
   "name": "python3"
  },
  "language_info": {
   "codemirror_mode": {
    "name": "ipython",
    "version": 3
   },
   "file_extension": ".py",
   "mimetype": "text/x-python",
   "name": "python",
   "nbconvert_exporter": "python",
   "pygments_lexer": "ipython3",
   "version": "3.11.7"
  }
 },
 "nbformat": 4,
 "nbformat_minor": 2
}
