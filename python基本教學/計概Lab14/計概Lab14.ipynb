{
 "cells": [
  {
   "cell_type": "markdown",
   "metadata": {},
   "source": [
    "## 先前配置"
   ]
  },
  {
   "cell_type": "code",
   "execution_count": 1,
   "metadata": {},
   "outputs": [
    {
     "name": "stdout",
     "output_type": "stream",
     "text": [
      "zsh:1: command not found: nvidia-smi\n"
     ]
    }
   ],
   "source": [
    "# Check for GPU\n",
    "!nvidia-smi"
   ]
  },
  {
   "cell_type": "code",
   "execution_count": 2,
   "metadata": {},
   "outputs": [
    {
     "name": "stdout",
     "output_type": "stream",
     "text": [
      "2.2.2\n"
     ]
    }
   ],
   "source": [
    "import torch\n",
    "print(torch.__version__)\n",
    "device = \"cuda\" if torch.cuda.is_available() else \"cpu\""
   ]
  },
  {
   "cell_type": "markdown",
   "metadata": {},
   "source": [
    "## 載入 torchvision.datasets.MNIST() 訓練和測試數據集"
   ]
  },
  {
   "cell_type": "code",
   "execution_count": 3,
   "metadata": {},
   "outputs": [
    {
     "name": "stdout",
     "output_type": "stream",
     "text": [
      "Downloading http://yann.lecun.com/exdb/mnist/train-images-idx3-ubyte.gz\n",
      "Failed to download (trying next):\n",
      "HTTP Error 503: Service Unavailable\n",
      "\n",
      "Downloading https://ossci-datasets.s3.amazonaws.com/mnist/train-images-idx3-ubyte.gz\n",
      "Downloading https://ossci-datasets.s3.amazonaws.com/mnist/train-images-idx3-ubyte.gz to ./MNIST/raw/train-images-idx3-ubyte.gz\n"
     ]
    },
    {
     "name": "stderr",
     "output_type": "stream",
     "text": [
      "100%|██████████| 9912422/9912422 [00:05<00:00, 1765914.74it/s]\n"
     ]
    },
    {
     "name": "stdout",
     "output_type": "stream",
     "text": [
      "Extracting ./MNIST/raw/train-images-idx3-ubyte.gz to ./MNIST/raw\n",
      "\n",
      "Downloading http://yann.lecun.com/exdb/mnist/train-labels-idx1-ubyte.gz\n",
      "Downloading http://yann.lecun.com/exdb/mnist/train-labels-idx1-ubyte.gz to ./MNIST/raw/train-labels-idx1-ubyte.gz\n"
     ]
    },
    {
     "name": "stderr",
     "output_type": "stream",
     "text": [
      "100%|██████████| 28881/28881 [00:00<00:00, 139822.88it/s]\n"
     ]
    },
    {
     "name": "stdout",
     "output_type": "stream",
     "text": [
      "Extracting ./MNIST/raw/train-labels-idx1-ubyte.gz to ./MNIST/raw\n",
      "\n",
      "Downloading http://yann.lecun.com/exdb/mnist/t10k-images-idx3-ubyte.gz\n",
      "Downloading http://yann.lecun.com/exdb/mnist/t10k-images-idx3-ubyte.gz to ./MNIST/raw/t10k-images-idx3-ubyte.gz\n"
     ]
    },
    {
     "name": "stderr",
     "output_type": "stream",
     "text": [
      "100%|██████████| 1648877/1648877 [00:51<00:00, 32316.16it/s]\n"
     ]
    },
    {
     "name": "stdout",
     "output_type": "stream",
     "text": [
      "Extracting ./MNIST/raw/t10k-images-idx3-ubyte.gz to ./MNIST/raw\n",
      "\n",
      "Downloading http://yann.lecun.com/exdb/mnist/t10k-labels-idx1-ubyte.gz\n",
      "Downloading http://yann.lecun.com/exdb/mnist/t10k-labels-idx1-ubyte.gz to ./MNIST/raw/t10k-labels-idx1-ubyte.gz\n"
     ]
    },
    {
     "name": "stderr",
     "output_type": "stream",
     "text": [
      "100%|██████████| 4542/4542 [00:00<00:00, 10513536.85it/s]"
     ]
    },
    {
     "name": "stdout",
     "output_type": "stream",
     "text": [
      "Extracting ./MNIST/raw/t10k-labels-idx1-ubyte.gz to ./MNIST/raw\n",
      "\n"
     ]
    },
    {
     "name": "stderr",
     "output_type": "stream",
     "text": [
      "\n"
     ]
    }
   ],
   "source": [
    "import torchvision\n",
    "from torchvision import datasets\n",
    "from torchvision import transforms\n",
    "\n",
    "# 訓練集\n",
    "train_data = datasets.MNIST(root=\".\",\n",
    "                            train=True,\n",
    "                            download=True,\n",
    "                            transform=transforms.ToTensor()) \n",
    "\n",
    "# 測試集\n",
    "test_data = datasets.MNIST(root=\".\",\n",
    "                           train=False,\n",
    "                           download=True,\n",
    "                           transform=transforms.ToTensor()) "
   ]
  },
  {
   "cell_type": "code",
   "execution_count": 4,
   "metadata": {},
   "outputs": [
    {
     "data": {
      "text/plain": [
       "(60000, 10000)"
      ]
     },
     "execution_count": 4,
     "metadata": {},
     "output_type": "execute_result"
    }
   ],
   "source": [
    "\"\"\"確認及檢查資料\"\"\"\n",
    "len(train_data), len(test_data)"
   ]
  },
  {
   "cell_type": "code",
   "execution_count": 5,
   "metadata": {},
   "outputs": [
    {
     "data": {
      "text/plain": [
       "['0 - zero',\n",
       " '1 - one',\n",
       " '2 - two',\n",
       " '3 - three',\n",
       " '4 - four',\n",
       " '5 - five',\n",
       " '6 - six',\n",
       " '7 - seven',\n",
       " '8 - eight',\n",
       " '9 - nine']"
      ]
     },
     "execution_count": 5,
     "metadata": {},
     "output_type": "execute_result"
    }
   ],
   "source": [
    "\"\"\"資料分類層\"\"\"\n",
    "class_names = train_data.classes\n",
    "class_names"
   ]
  },
  {
   "cell_type": "code",
   "execution_count": 14,
   "metadata": {},
   "outputs": [
    {
     "name": "stdout",
     "output_type": "stream",
     "text": [
      "torch.Size([1, 28, 28])\n",
      "torch.Size([1, 28, 28])\n",
      "torch.Size([1, 28, 28])\n"
     ]
    },
    {
     "data": {
      "image/png": "[encoded data removed]",
      "text/plain": [
       "<Figure size 200x200 with 1 Axes>"
      ]
     },
     "metadata": {},
     "output_type": "display_data"
    },
    {
     "data": {
      "image/png": "[encoded data removed]",
      "text/plain": [
       "<Figure size 200x200 with 1 Axes>"
      ]
     },
     "metadata": {},
     "output_type": "display_data"
    },
    {
     "data": {
      "image/png": "[encoded data removed]",
      "text/plain": [
       "<Figure size 200x200 with 1 Axes>"
      ]
     },
     "metadata": {},
     "output_type": "display_data"
    }
   ],
   "source": [
    "\"\"\"畫出三個\"\"\"\n",
    "import matplotlib.pyplot as plt\n",
    "for i in range(3):\n",
    "  img, label = train_data[i] # 資料、結果\n",
    "  print(img.shape)\n",
    "  img_squeeze = img.squeeze()\n",
    "  # print(img_squeeze.shape)\n",
    "  # label = train_data[i][1]\n",
    "  plt.figure(figsize=(2, 2))\n",
    "  plt.imshow(img_squeeze, cmap=\"gray\")\n",
    "  plt.title(label)\n",
    "  plt.axis(False)"
   ]
  },
  {
   "cell_type": "markdown",
   "metadata": {},
   "source": [
    "## 將 MNIST 訓練和測試資料集轉換為資料載入器"
   ]
  },
  {
   "cell_type": "code",
   "execution_count": 13,
   "metadata": {},
   "outputs": [
    {
     "data": {
      "text/plain": [
       "(<torch.utils.data.dataloader.DataLoader at 0x16c5c4490>,\n",
       " <torch.utils.data.dataloader.DataLoader at 0x16c453950>)"
      ]
     },
     "execution_count": 13,
     "metadata": {},
     "output_type": "execute_result"
    }
   ],
   "source": [
    "\"\"\" 建立 DataLoader \"\"\"\n",
    "from torch.utils.data import DataLoader\n",
    "# 訓練DataLoader\n",
    "train_dataloader = DataLoader(dataset=train_data,\n",
    "                              batch_size=32,\n",
    "                              shuffle=True)\n",
    "# 測試DataLoader\n",
    "test_dataloader = DataLoader(dataset=test_data,\n",
    "                             batch_size=32,\n",
    "                             shuffle=False)\n",
    "\n",
    "train_dataloader, test_dataloader"
   ]
  },
  {
   "cell_type": "code",
   "execution_count": 19,
   "metadata": {},
   "outputs": [
    {
     "name": "stdout",
     "output_type": "stream",
     "text": [
      "torch.Size([32, 1, 28, 28])\n"
     ]
    }
   ],
   "source": [
    "# 檢查資料再放進DataLoader還是沒改變\n",
    "sample = next(iter(train_dataloader))\n",
    "img, label = sample\n",
    "print(img.shape)\n",
    "  "
   ]
  },
  {
   "cell_type": "markdown",
   "metadata": {},
   "source": [
    "## 創建 model\n",
    "解說及教學文章：https://poloclub.github.io/cnn-explainer/"
   ]
  },
  {
   "cell_type": "code",
   "execution_count": 35,
   "metadata": {},
   "outputs": [],
   "source": [
    "\"\"\"\n",
    "模型製作為：\n",
    "input = 1\n",
    "hidden layer = 10\n",
    "output_shape = 10\n",
    "\"\"\"\n",
    "  \n",
    "from torch import nn \n",
    "class MNIST_model(torch.nn.Module):\n",
    "  def __init__(self, input_shape: int, hidden_units: int, output_shape: int): \n",
    "    super().__init__()\n",
    "    self.conv_block_1 = nn.Sequential(\n",
    "        # 卷基層\n",
    "        nn.Conv2d(in_channels=input_shape, \n",
    "                out_channels=hidden_units,\n",
    "                kernel_size=3,\n",
    "                stride=1,\n",
    "                padding=1),\n",
    "        # 啟動函數\n",
    "        nn.ReLU(),\n",
    "        nn.Conv2d(in_channels=hidden_units,\n",
    "                    out_channels=hidden_units,\n",
    "                    kernel_size=3,\n",
    "                    stride=1,\n",
    "                    padding=1),\n",
    "        nn.ReLU(),\n",
    "        # 池化層 \n",
    "        nn.MaxPool2d(kernel_size=2)\n",
    "    )\n",
    "    self.conv_block_2 = nn.Sequential(\n",
    "      nn.Conv2d(in_channels=hidden_units,\n",
    "                out_channels=hidden_units,\n",
    "                kernel_size=3,\n",
    "                stride=1,\n",
    "                padding=1),\n",
    "      nn.ReLU(),\n",
    "      nn.Conv2d(in_channels=hidden_units,\n",
    "                out_channels=hidden_units,\n",
    "                kernel_size=3,\n",
    "                stride=1,\n",
    "                padding=1),\n",
    "      nn.ReLU(),\n",
    "      nn.MaxPool2d(kernel_size=2)                   \n",
    "    )\n",
    "    self.classifier = nn.Sequential(\n",
    "      nn.Flatten(),\n",
    "      nn.Linear(in_features=hidden_units*7*7, # 自行計算\n",
    "                out_features=output_shape)\n",
    "    )\n",
    "\n",
    "  def forward(self, x):\n",
    "    x = self.conv_block_1(x)\n",
    "    # print(f\"Output shape of conv block 1: {x.shape}\")\n",
    "    x = self.conv_block_2(x)\n",
    "    # print(f\"Output shape of conv block 2: {x.shape}\")\n",
    "    x = self.classifier(x)\n",
    "    # print(f\"Output shape of classifier: {x.shape}\")\n",
    "    return x"
   ]
  },
  {
   "cell_type": "code",
   "execution_count": 36,
   "metadata": {},
   "outputs": [],
   "source": [
    "model = MNIST_model(input_shape=1,\n",
    "                    hidden_units=10,\n",
    "                    output_shape=10).to(device)\n",
    "# model"
   ]
  },
  {
   "cell_type": "markdown",
   "metadata": {},
   "source": [
    "計算最後classifier的in_feature"
   ]
  },
  {
   "cell_type": "code",
   "execution_count": 37,
   "metadata": {},
   "outputs": [
    {
     "data": {
      "text/plain": [
       "tensor([[ 0.0011, -0.0103,  0.0007, -0.0470,  0.0179,  0.0539, -0.0706,  0.0677,\n",
       "         -0.0567,  0.0270]], grad_fn=<AddmmBackward0>)"
      ]
     },
     "execution_count": 37,
     "metadata": {},
     "output_type": "execute_result"
    }
   ],
   "source": [
    "dummy_x = torch.rand(size=(1, 28, 28)).unsqueeze(dim=0).to(device)\n",
    "dummy_x.shape\n",
    "model(dummy_x)"
   ]
  },
  {
   "cell_type": "markdown",
   "metadata": {},
   "source": [
    "## 跑訓練模型"
   ]
  },
  {
   "cell_type": "code",
   "execution_count": 39,
   "metadata": {},
   "outputs": [],
   "source": [
    "\"\"\"計算準確率\"\"\"\n",
    "def accuracy_fn(y_true, y_pred):\n",
    "    correct = torch.eq(y_true, y_pred).sum().item() # torch.eq() calculates where two tensors are equal\n",
    "    acc = (correct / len(y_pred)) * 100 \n",
    "    return acc"
   ]
  },
  {
   "cell_type": "code",
   "execution_count": 42,
   "metadata": {},
   "outputs": [
    {
     "data": {
      "application/vnd.jupyter.widget-view+json": {
       "model_id": "2c78df39564445b6a98b1be5cc2ccdbc",
       "version_major": 2,
       "version_minor": 0
      },
      "text/plain": [
       "  0%|          | 0/5 [00:00<?, ?it/s]"
      ]
     },
     "metadata": {},
     "output_type": "display_data"
    },
    {
     "name": "stdout",
     "output_type": "stream",
     "text": [
      "Epoch: 0 | Loss: 0.266 | Test loss: 0.076 | Test acc: 97.49%\n",
      "\n",
      "Epoch: 1 | Loss: 0.069 | Test loss: 0.043 | Test acc: 98.56%\n",
      "\n",
      "Epoch: 2 | Loss: 0.054 | Test loss: 0.043 | Test acc: 98.60%\n",
      "\n",
      "Epoch: 3 | Loss: 0.044 | Test loss: 0.045 | Test acc: 98.56%\n",
      "\n",
      "Epoch: 4 | Loss: 0.040 | Test loss: 0.035 | Test acc: 98.89%\n",
      "\n"
     ]
    }
   ],
   "source": [
    "from tqdm.auto import tqdm\n",
    "torch.manual_seed(42)\n",
    "\n",
    "# 建立一個MNIST模型實例，輸入維度為1，隱藏層單元數為10，輸出維度為10，並將模型移動到CPU上\n",
    "model_cpu = MNIST_model(input_shape=1,\n",
    "                        hidden_units=10,\n",
    "                        output_shape=10).to(\"cpu\")\n",
    "\n",
    "# 定義損失函數為交叉熵損失函數\n",
    "loss_fn = nn.CrossEntropyLoss()\n",
    "# 定義優化器為隨機梯度下降(SGD)，學習率為0.1\n",
    "optimizer = torch.optim.SGD(model_cpu.parameters(), lr=0.1)\n",
    "\n",
    "### 訓練迴圈\n",
    "epochs = 5\n",
    "for epoch in tqdm(range(epochs)):\n",
    "    train_loss = 0\n",
    "    for batch, (X, y) in enumerate(train_dataloader):\n",
    "        # 將模型設置為訓練模式\n",
    "        model_cpu.train()\n",
    "        # 前向傳播，取得預測值\n",
    "        y_pred = model_cpu(X)\n",
    "        # 計算損失函數\n",
    "        loss = loss_fn(y_pred, y)\n",
    "        train_loss += loss\n",
    "        # 優化器梯度歸零\n",
    "        optimizer.zero_grad()\n",
    "        # 反向傳播\n",
    "        loss.backward()\n",
    "        # 更新模型參數\n",
    "        optimizer.step()\n",
    "    # 調整訓練損失值，使其為所有批次的平均值\n",
    "    train_loss /= len(train_dataloader)\n",
    "\n",
    "    ### 測試迴圈\n",
    "    test_loss_total = 0\n",
    "    test_acc_total = 0\n",
    "    # 將模型設置為評估模式\n",
    "    model_cpu.eval()\n",
    "    # 啟用推理模式\n",
    "    with torch.inference_mode():\n",
    "        for batch, (X_test, y_test) in enumerate(test_dataloader):\n",
    "            # 確保測試數據在CPU上\n",
    "            X_test, y_test = X_test.to(\"cpu\"), y_test.to(\"cpu\")\n",
    "            test_pred = model_cpu(X_test)\n",
    "            test_loss = loss_fn(test_pred, y_test)\n",
    "            test_loss_total += test_loss\n",
    "\n",
    "            # 獲取預測類別\n",
    "            _, y_pred = torch.max(test_pred.data, 1)\n",
    "\n",
    "            # 計算準確率\n",
    "            test_acc_total += accuracy_fn(y_true=y_test, y_pred=y_pred)\n",
    "\n",
    "        # 計算平均測試損失\n",
    "        test_loss_total /= len(test_dataloader)\n",
    "        test_acc_total /= len(test_dataloader)\n",
    "\n",
    "    print(f\"Epoch: {epoch} | Loss: {train_loss:.3f} | Test loss: {test_loss_total:.3f} | Test acc: {test_acc_total:.2f}%\\n\")"
   ]
  },
  {
   "cell_type": "markdown",
   "metadata": {},
   "source": [
    "## 使用模型進行預測"
   ]
  },
  {
   "cell_type": "code",
   "execution_count": 60,
   "metadata": {},
   "outputs": [
    {
     "data": {
      "image/png": "[encoded data removed]",
      "text/plain": [
       "<Figure size 300x300 with 1 Axes>"
      ]
     },
     "metadata": {},
     "output_type": "display_data"
    },
    {
     "data": {
      "image/png": "[encoded data removed]",
      "text/plain": [
       "<Figure size 300x300 with 1 Axes>"
      ]
     },
     "metadata": {},
     "output_type": "display_data"
    },
    {
     "data": {
      "image/png": "[encoded data removed]",
      "text/plain": [
       "<Figure size 300x300 with 1 Axes>"
      ]
     },
     "metadata": {},
     "output_type": "display_data"
    },
    {
     "data": {
      "image/png": "[encoded data removed]",
      "text/plain": [
       "<Figure size 300x300 with 1 Axes>"
      ]
     },
     "metadata": {},
     "output_type": "display_data"
    }
   ],
   "source": [
    "# Logits -> Prediction probabilities -> Prediction labels\n",
    "import matplotlib.pyplot as plt\n",
    "\n",
    "for i in range(4):\n",
    "    # 從測試資料中取得第i個影像和標籤\n",
    "    img, label = test_data[i]\n",
    "    \n",
    "    # 將影像加入批次維度並移動到設備上\n",
    "    # 進行前向傳播以獲取模型預測的logits(未經過softmax的原始輸出值)\n",
    "    model_pred_logits = model_cpu(img.unsqueeze(dim=0).to(device))\n",
    "    # 將logits輸入softmax函數以獲取預測機率\n",
    "    model_pred_probs = torch.softmax(model_pred_logits, dim=1)\n",
    "    # 從預測機率中取得最大值作為預測標籤\n",
    "    model_pred_label = torch.argmax(model_pred_probs, dim=1)\n",
    "    # 建立一個3x3的繪圖區域\n",
    "    plt.figure(figsize=(3, 3))\n",
    "    # 繪製影像,使用灰階色彩對映\n",
    "    plt.imshow(img.squeeze(), cmap=\"gray\")\n",
    "    # 設置標題為預測標籤\n",
    "    plt.title(f\"predict:{model_pred_label.item()}\")\n",
    "    # 顯示座標軸\n",
    "    plt.axis(True)"
   ]
  },
  {
   "cell_type": "markdown",
   "metadata": {},
   "source": [
    "# lab14 加分題"
   ]
  },
  {
   "cell_type": "code",
   "execution_count": 103,
   "metadata": {},
   "outputs": [
    {
     "name": "stdout",
     "output_type": "stream",
     "text": [
      "Downloading https://www.cs.toronto.edu/~kriz/cifar-10-python.tar.gz to ./cifar-10-python.tar.gz\n"
     ]
    },
    {
     "name": "stderr",
     "output_type": "stream",
     "text": [
      "100%|██████████| 170498071/170498071 [00:32<00:00, 5288532.96it/s] \n"
     ]
    },
    {
     "name": "stdout",
     "output_type": "stream",
     "text": [
      "Extracting ./cifar-10-python.tar.gz to .\n",
      "Files already downloaded and verified\n"
     ]
    }
   ],
   "source": [
    "import torchvision\n",
    "from torchvision import datasets\n",
    "from torchvision import transforms\n",
    "\n",
    "# 定義轉換器\n",
    "transform = transforms.Compose([\n",
    "    transforms.ToTensor(),\n",
    "    transforms.Grayscale()  # 將影像轉換為灰階\n",
    "])\n",
    "\n",
    "# 訓練集\n",
    "train_data = datasets.CIFAR10(root=\".\",\n",
    "                            train=True,\n",
    "                            download=True,\n",
    "                            transform=transform) \n",
    "\n",
    "# 測試集\n",
    "test_data = datasets.CIFAR10(root=\".\",\n",
    "                           train=False,\n",
    "                           download=True,\n",
    "                           transform=transform) "
   ]
  },
  {
   "cell_type": "code",
   "execution_count": 102,
   "metadata": {},
   "outputs": [
    {
     "data": {
      "text/plain": [
       "(50000, 10000)"
      ]
     },
     "execution_count": 102,
     "metadata": {},
     "output_type": "execute_result"
    }
   ],
   "source": [
    "\"\"\"確認及檢查資料\"\"\"\n",
    "len(train_data), len(test_data)"
   ]
  },
  {
   "cell_type": "code",
   "execution_count": 64,
   "metadata": {},
   "outputs": [
    {
     "data": {
      "text/plain": [
       "['airplane',\n",
       " 'automobile',\n",
       " 'bird',\n",
       " 'cat',\n",
       " 'deer',\n",
       " 'dog',\n",
       " 'frog',\n",
       " 'horse',\n",
       " 'ship',\n",
       " 'truck']"
      ]
     },
     "execution_count": 64,
     "metadata": {},
     "output_type": "execute_result"
    }
   ],
   "source": [
    "\"\"\"資料分類層\"\"\"\n",
    "class_names = train_data.classes\n",
    "class_names"
   ]
  },
  {
   "cell_type": "code",
   "execution_count": 104,
   "metadata": {},
   "outputs": [
    {
     "name": "stdout",
     "output_type": "stream",
     "text": [
      "torch.Size([1, 32, 32]) frog\n"
     ]
    },
    {
     "data": {
      "image/png": "[encoded data removed]",
      "text/plain": [
       "<Figure size 200x200 with 1 Axes>"
      ]
     },
     "metadata": {},
     "output_type": "display_data"
    },
    {
     "name": "stdout",
     "output_type": "stream",
     "text": [
      "torch.Size([1, 32, 32]) truck\n"
     ]
    },
    {
     "data": {
      "image/png": "[encoded data removed]",
      "text/plain": [
       "<Figure size 200x200 with 1 Axes>"
      ]
     },
     "metadata": {},
     "output_type": "display_data"
    },
    {
     "name": "stdout",
     "output_type": "stream",
     "text": [
      "torch.Size([1, 32, 32]) truck\n"
     ]
    },
    {
     "data": {
      "image/png": "[encoded data removed]",
      "text/plain": [
       "<Figure size 200x200 with 1 Axes>"
      ]
     },
     "metadata": {},
     "output_type": "display_data"
    }
   ],
   "source": [
    "\"\"\"畫出三個\"\"\"\n",
    "import matplotlib.pyplot as plt\n",
    "import torchvision.transforms as transforms\n",
    "\n",
    "# 定義轉換器,將影像轉換為灰階\n",
    "to_grayscale = transforms.Grayscale()\n",
    "\n",
    "for i in range(3):\n",
    "    img, label = train_data[i]  # 資料、結果\n",
    "    print(img.shape, class_names[label])\n",
    "\n",
    "    # 將影像轉換為灰階\n",
    "    img = to_grayscale(img)\n",
    "    # print(img.shape)\n",
    "\n",
    "    # 移除批次維度\n",
    "    img_squeeze = img.squeeze()\n",
    "    # print(img_squeeze.shape)\n",
    "\n",
    "    plt.figure(figsize=(2, 2))\n",
    "    plt.imshow(img_squeeze, cmap=\"gray\")\n",
    "    plt.title(class_names[label])\n",
    "    plt.axis(False)\n",
    "    plt.show()"
   ]
  },
  {
   "cell_type": "code",
   "execution_count": 105,
   "metadata": {},
   "outputs": [
    {
     "data": {
      "text/plain": [
       "(<torch.utils.data.dataloader.DataLoader at 0x17b846ed0>,\n",
       " <torch.utils.data.dataloader.DataLoader at 0x17bb13790>)"
      ]
     },
     "execution_count": 105,
     "metadata": {},
     "output_type": "execute_result"
    }
   ],
   "source": [
    "\"\"\" 建立 DataLoader \"\"\"\n",
    "from torch.utils.data import DataLoader\n",
    "# 訓練DataLoader\n",
    "train_dataloader = DataLoader(dataset=train_data,\n",
    "                              batch_size=32,\n",
    "                              shuffle=True)\n",
    "# 測試DataLoader\n",
    "test_dataloader = DataLoader(dataset=test_data,\n",
    "                             batch_size=32,\n",
    "                             shuffle=False)\n",
    "\n",
    "train_dataloader, test_dataloader"
   ]
  },
  {
   "cell_type": "code",
   "execution_count": 116,
   "metadata": {},
   "outputs": [],
   "source": [
    "\"\"\"\n",
    "模型製作為：\n",
    "input = 1\n",
    "hidden layer = 10\n",
    "output_shape = 10\n",
    "\"\"\"\n",
    "\n",
    "from torch import nn \n",
    "class CIFAR10_model(torch.nn.Module):\n",
    "  def __init__(self, input_shape: int, hidden_units: int, output_shape: int): \n",
    "    super().__init__()\n",
    "    self.conv_block_1 = nn.Sequential(\n",
    "        # 卷基層\n",
    "        nn.Conv2d(in_channels=input_shape, \n",
    "                out_channels=hidden_units,\n",
    "                kernel_size=3,\n",
    "                stride=1,\n",
    "                padding=1),\n",
    "        # 啟動函數\n",
    "        nn.ReLU(),\n",
    "        nn.Conv2d(in_channels=hidden_units,\n",
    "                    out_channels=hidden_units,\n",
    "                    kernel_size=3,\n",
    "                    stride=1,\n",
    "                    padding=1),\n",
    "        nn.ReLU(),\n",
    "        # 池化層 \n",
    "        nn.MaxPool2d(kernel_size=2)\n",
    "    )\n",
    "    self.conv_block_2 = nn.Sequential(\n",
    "      nn.Conv2d(in_channels=hidden_units,\n",
    "                out_channels=hidden_units,\n",
    "                kernel_size=3,\n",
    "                stride=1,\n",
    "                padding=1),\n",
    "      nn.ReLU(),\n",
    "      nn.Conv2d(in_channels=hidden_units,\n",
    "                out_channels=hidden_units,\n",
    "                kernel_size=3,\n",
    "                stride=1,\n",
    "                padding=1),\n",
    "      nn.ReLU(),\n",
    "      nn.MaxPool2d(kernel_size=2)                   \n",
    "    )\n",
    "    self.classifier = nn.Sequential(\n",
    "      nn.Flatten(),\n",
    "      nn.Linear(in_features=hidden_units*8*8, # 自行計算\n",
    "                out_features=output_shape)\n",
    "    )\n",
    "\n",
    "  def forward(self, x):\n",
    "    x = self.conv_block_1(x)\n",
    "    # print(f\"Output shape of conv block 1: {x.shape}\")\n",
    "    x = self.conv_block_2(x)\n",
    "    # print(f\"Output shape of conv block 2: {x.shape}\")\n",
    "    x = self.classifier(x)\n",
    "    # print(f\"Output shape of classifier: {x.shape}\")\n",
    "    return x"
   ]
  },
  {
   "cell_type": "code",
   "execution_count": 117,
   "metadata": {},
   "outputs": [],
   "source": [
    "model = CIFAR10_model(input_shape=1,\n",
    "                    hidden_units=10,\n",
    "                    output_shape=len(class_names)).to(device)\n",
    "# model"
   ]
  },
  {
   "cell_type": "code",
   "execution_count": 118,
   "metadata": {},
   "outputs": [
    {
     "data": {
      "text/plain": [
       "tensor([[ 0.0007, -0.0248,  0.0230, -0.0294,  0.0152,  0.0137, -0.0577, -0.0058,\n",
       "          0.0306, -0.0518]], grad_fn=<AddmmBackward0>)"
      ]
     },
     "execution_count": 118,
     "metadata": {},
     "output_type": "execute_result"
    }
   ],
   "source": [
    "dummy_x = torch.rand(size=(1, 32, 32)).unsqueeze(dim=0).to(device)\n",
    "dummy_x.shape\n",
    "model(dummy_x)"
   ]
  },
  {
   "cell_type": "code",
   "execution_count": 119,
   "metadata": {},
   "outputs": [],
   "source": [
    "\"\"\"計算準確率\"\"\"\n",
    "def accuracy_fn(y_true, y_pred):\n",
    "    correct = torch.eq(y_true, y_pred).sum().item() # torch.eq() calculates where two tensors are equal\n",
    "    acc = (correct / len(y_pred)) * 100 \n",
    "    return acc"
   ]
  },
  {
   "cell_type": "code",
   "execution_count": 120,
   "metadata": {},
   "outputs": [
    {
     "data": {
      "application/vnd.jupyter.widget-view+json": {
       "model_id": "6804bcc085534279b54acb46e6f2d615",
       "version_major": 2,
       "version_minor": 0
      },
      "text/plain": [
       "  0%|          | 0/5 [00:00<?, ?it/s]"
      ]
     },
     "metadata": {},
     "output_type": "display_data"
    },
    {
     "name": "stdout",
     "output_type": "stream",
     "text": [
      "Epoch: 0 | Loss: 1.948 | Test loss: 1.707 | Test acc: 40.05%\n",
      "\n",
      "Epoch: 1 | Loss: 1.525 | Test loss: 1.447 | Test acc: 48.89%\n",
      "\n",
      "Epoch: 2 | Loss: 1.367 | Test loss: 1.513 | Test acc: 47.22%\n",
      "\n",
      "Epoch: 3 | Loss: 1.288 | Test loss: 1.286 | Test acc: 55.15%\n",
      "\n",
      "Epoch: 4 | Loss: 1.249 | Test loss: 1.288 | Test acc: 54.75%\n",
      "\n"
     ]
    }
   ],
   "source": [
    "from tqdm.auto import tqdm\n",
    "torch.manual_seed(42)\n",
    "\n",
    "# 建立一個MNIST模型實例，輸入維度為1，隱藏層單元數為10，輸出維度為10，並將模型移動到CPU上\n",
    "model_cpu = CIFAR10_model(input_shape=1,\n",
    "                        hidden_units=10,\n",
    "                        output_shape=len(class_names)).to(\"cpu\")\n",
    "\n",
    "# 定義損失函數為交叉熵損失函數\n",
    "loss_fn = nn.CrossEntropyLoss()\n",
    "# 定義優化器為隨機梯度下降(SGD)，學習率為0.1\n",
    "optimizer = torch.optim.SGD(model_cpu.parameters(), lr=0.1)\n",
    "\n",
    "### 訓練迴圈\n",
    "epochs = 5\n",
    "for epoch in tqdm(range(epochs)):\n",
    "    train_loss = 0\n",
    "    for batch, (X, y) in enumerate(train_dataloader):\n",
    "        # 將模型設置為訓練模式\n",
    "        model_cpu.train()\n",
    "        # 前向傳播，取得預測值\n",
    "        y_pred = model_cpu(X)\n",
    "        # 計算損失函數\n",
    "        loss = loss_fn(y_pred, y)\n",
    "        train_loss += loss\n",
    "        # 優化器梯度歸零\n",
    "        optimizer.zero_grad()\n",
    "        # 反向傳播\n",
    "        loss.backward()\n",
    "        # 更新模型參數\n",
    "        optimizer.step()\n",
    "    # 調整訓練損失值，使其為所有批次的平均值\n",
    "    train_loss /= len(train_dataloader)\n",
    "\n",
    "    ### 測試迴圈\n",
    "    test_loss_total = 0\n",
    "    test_acc_total = 0\n",
    "    # 將模型設置為評估模式\n",
    "    model_cpu.eval()\n",
    "    # 啟用推理模式\n",
    "    with torch.inference_mode():\n",
    "        for batch, (X_test, y_test) in enumerate(test_dataloader):\n",
    "            # 確保測試數據在CPU上\n",
    "            X_test, y_test = X_test.to(\"cpu\"), y_test.to(\"cpu\")\n",
    "            test_pred = model_cpu(X_test)\n",
    "            test_loss = loss_fn(test_pred, y_test)\n",
    "            test_loss_total += test_loss\n",
    "\n",
    "            # 獲取預測類別\n",
    "            _, y_pred = torch.max(test_pred.data, 1)\n",
    "\n",
    "            # 計算準確率\n",
    "            test_acc_total += accuracy_fn(y_true=y_test, y_pred=y_pred)\n",
    "\n",
    "        # 計算平均測試損失\n",
    "        test_loss_total /= len(test_dataloader)\n",
    "        test_acc_total /= len(test_dataloader)\n",
    "\n",
    "    print(f\"Epoch: {epoch} | Loss: {train_loss:.3f} | Test loss: {test_loss_total:.3f} | Test acc: {test_acc_total:.2f}%\\n\")"
   ]
  },
  {
   "cell_type": "code",
   "execution_count": 122,
   "metadata": {},
   "outputs": [
    {
     "data": {
      "image/png": "[encoded data removed]",
      "text/plain": [
       "<Figure size 300x300 with 1 Axes>"
      ]
     },
     "metadata": {},
     "output_type": "display_data"
    },
    {
     "data": {
      "image/png": "[encoded data removed]",
      "text/plain": [
       "<Figure size 300x300 with 1 Axes>"
      ]
     },
     "metadata": {},
     "output_type": "display_data"
    },
    {
     "data": {
      "image/png": "[encoded data removed]",
      "text/plain": [
       "<Figure size 300x300 with 1 Axes>"
      ]
     },
     "metadata": {},
     "output_type": "display_data"
    },
    {
     "data": {
      "image/png": "[encoded data removed]",
      "text/plain": [
       "<Figure size 300x300 with 1 Axes>"
      ]
     },
     "metadata": {},
     "output_type": "display_data"
    }
   ],
   "source": [
    "# Logits -> Prediction probabilities -> Prediction labels\n",
    "import matplotlib.pyplot as plt\n",
    "\n",
    "for i in range(4):\n",
    "    # 從測試資料中取得第i個影像和標籤\n",
    "    img, label = test_data[i]\n",
    "    \n",
    "    # 將影像加入批次維度並移動到設備上\n",
    "    # 進行前向傳播以獲取模型預測的logits(未經過softmax的原始輸出值)\n",
    "    model_pred_logits = model_cpu(img.unsqueeze(dim=0).to(device))\n",
    "    # 將logits輸入softmax函數以獲取預測機率\n",
    "    model_pred_probs = torch.softmax(model_pred_logits, dim=1)\n",
    "    # 從預測機率中取得最大值作為預測標籤\n",
    "    model_pred_label = torch.argmax(model_pred_probs, dim=1)\n",
    "    # 建立一個3x3的繪圖區域\n",
    "    plt.figure(figsize=(3, 3))\n",
    "    # 繪製影像,使用灰階色彩對映\n",
    "    plt.imshow(img.squeeze(), cmap=\"gray\")\n",
    "    # 設置標題為預測標籤\n",
    "    plt.title(f\"predict:{class_names[model_pred_label.item()]}\")\n",
    "    # 顯示座標軸\n",
    "    plt.axis(True)"
   ]
  }
 ],
 "metadata": {
  "kernelspec": {
   "display_name": "base",
   "language": "python",
   "name": "python3"
  },
  "language_info": {
   "codemirror_mode": {
    "name": "ipython",
    "version": 3
   },
   "file_extension": ".py",
   "mimetype": "text/x-python",
   "name": "python",
   "nbconvert_exporter": "python",
   "pygments_lexer": "ipython3",
   "version": "3.11.5"
  },
  "orig_nbformat": 4
 },
 "nbformat": 4,
 "nbformat_minor": 2
}
