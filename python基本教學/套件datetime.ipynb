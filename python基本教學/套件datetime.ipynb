{
 "cells": [
  {
   "cell_type": "markdown",
   "metadata": {},
   "source": [
    "# 日期和時間 datetime"
   ]
  },
  {
   "cell_type": "markdown",
   "metadata": {},
   "source": [
    "## date\t處理日期\n",
    "\n",
    "＄ datetime.date 可以處理日期相關的操作，本身包含三個屬性：year、month 和 day"
   ]
  },
  {
   "cell_type": "code",
   "execution_count": null,
   "metadata": {},
   "outputs": [],
   "source": [
    "import datetime\n",
    "d = datetime.date(2020,1,1)   # 2020-01-01\n",
    "\n",
    "# 今天\n",
    "today = datetime.date.today()"
   ]
  },
  {
   "cell_type": "markdown",
   "metadata": {},
   "source": [
    "＄ 取得日期後，可以使用下面幾種常用的方法:\n",
    "- year\t取得西元年\n",
    "- month\t取得月份\n",
    "- day\t取得日期\n",
    "- replace()\t取代日期，產生新的物件\n",
    "- weekday()\t回傳一星期中的第幾天，星期一為 0\n",
    "- isoweekday()\t回傳一星期中的第幾天，星期一為 1\n",
    "- isocalendar()\t回傳一個 tuple，內容分別是 ( 年、第幾週、isoweekday )\n",
    "- isoformat()\t回傳 ISO 格式的日期字串\n",
    "- ctime()\t回傳日期和時間的字串\n",
    "- strftime()\t回傳特定格式字串所表示的時間 "
   ]
  },
  {
   "cell_type": "code",
   "execution_count": 1,
   "metadata": {},
   "outputs": [
    {
     "name": "stdout",
     "output_type": "stream",
     "text": [
      "2024-04-28\n",
      "2024\n",
      "4\n",
      "28\n",
      "6\n",
      "7\n",
      "datetime.IsoCalendarDate(year=2024, week=17, weekday=7)\n",
      "2024-04-28\n",
      "Sun Apr 28 00:00:00 2024\n",
      "2024.04.28\n",
      "2020-04-28\n"
     ]
    }
   ],
   "source": [
    "import datetime\n",
    "today = datetime.date.today()\n",
    "print(today)                 # 2021-10-19\n",
    "print(today.year)            # 2021\n",
    "print(today.month)           # 10\n",
    "print(today.day)             # 19\n",
    "print(today.weekday())       # 1    ( 因為是星期二，所以是 1 )\n",
    "print(today.isoweekday())    # 2    ( 因為是星期二，所以是 2 )\n",
    "print(today.isocalendar())   # (2021, 42, 2)  ( 第三個數字是星期二，所以是 2 )\n",
    "print(today.isoformat())     # 2021-10-19\n",
    "print(today.ctime())         # Tue Oct 19 00:00:00 2021\n",
    "print(today.strftime('%Y.%m.%d'))    # 2021.10.19\n",
    "\n",
    "newDay = today.replace(year=2020)\n",
    "print(newDay)                # 2020-10-19"
   ]
  },
  {
   "cell_type": "code",
   "execution_count": 2,
   "metadata": {},
   "outputs": [
    {
     "name": "stdout",
     "output_type": "stream",
     "text": [
      "518\n"
     ]
    }
   ],
   "source": [
    "\"\"\"利用「.days」的屬性，計算出兩個日期差了幾天。\"\"\"\n",
    "import datetime\n",
    "d1 = datetime.date(2020, 6, 24)\n",
    "d2 = datetime.date(2021, 11, 24)\n",
    "print(abs(d1-d2).days)       # 518"
   ]
  },
  {
   "cell_type": "markdown",
   "metadata": {},
   "source": [
    "## time\t處理時間\n",
    "\n",
    "＄ datetime.time 可以處理時間相關的操作，本身包含下列幾個屬性：hour、minute、second、microsecond 和 tzinfo。\n",
    "\n",
    "＄ tzinfo 是時區的選項，預設 None 採用 UTC 時區，如果要轉換成台灣 UTC+8 的時區可採用下方的寫法："
   ]
  },
  {
   "cell_type": "code",
   "execution_count": null,
   "metadata": {},
   "outputs": [],
   "source": [
    "thisTime = datetime.time(12,0,0,1)\n",
    "thisTime = datetime.time(14,0,0,1,tzinfo=datetime.timezone(datetime.timedelta(hours=8)))\n",
    "print(thisTime)    # 14:00:00.000001+08:00"
   ]
  },
  {
   "cell_type": "markdown",
   "metadata": {},
   "source": [
    "＄ 使用 datetime.time 將字串轉換為時間物件後，就能透過下面幾種常用的方法\n",
    "\n",
    "- hour\t取得小時\n",
    "- minute\t取得分鐘\n",
    "- second\t取得秒數\n",
    "- microsecond\t取得微秒數 (1/1000000 秒)\n",
    "- replace()\t取代時間，產生新的物件\n",
    "- isoformat()\t回傳 ISO 格式的時間字串\n",
    "- tzname()\t回傳目前時區資訊\n",
    "- strftime()\t回傳特定格式字串所表示的時間"
   ]
  },
  {
   "cell_type": "code",
   "execution_count": 4,
   "metadata": {},
   "outputs": [
    {
     "name": "stdout",
     "output_type": "stream",
     "text": [
      "14:00:00.000001+08:00\n",
      "14:00:00.000001+08:00\n",
      "UTC+08:00\n",
      "14:00:00\n",
      "20:00:00.000001+08:00\n"
     ]
    }
   ],
   "source": [
    "import datetime\n",
    "\n",
    "thisTime = datetime.time(14, 0, 0, 1, tzinfo=datetime.timezone(datetime.timedelta(hours=8)))\n",
    "print(thisTime)               # 14:00:00.000001+08:00\n",
    "print(thisTime.isoformat())   # 14:00:00.000001+08:00\n",
    "print(thisTime.tzname())      # UTC+08:00\n",
    "print(thisTime.strftime('%H:%M:%S'))   # 14:00:00\n",
    "\n",
    "newTime = thisTime.replace(hour=20)\n",
    "print(newTime)                # 20:00:00.000001+08:00"
   ]
  },
  {
   "cell_type": "markdown",
   "metadata": {},
   "source": [
    "## datetime\t處理 date 和 time 混合的物件\n",
    "＄ 本身包含下列幾個屬性：year、month、dayhour、minute、second、microsecond 和 tzinfo。\n",
    "\n",
    "＄ datetime.datetime 有下面幾個主要的方法可以使用：\n",
    "- today()\t回傳目前的日期與時間\n",
    "- now()\t回傳目前的日期與時間，可加入 tz 參數設定時區\n",
    "- utcnow()\t回傳目前的日期與時間"
   ]
  },
  {
   "cell_type": "code",
   "execution_count": 5,
   "metadata": {},
   "outputs": [
    {
     "name": "stdout",
     "output_type": "stream",
     "text": [
      "2020-01-01 20:20:20.000020\n",
      "2024-04-28 18:53:36.153584\n",
      "2024-04-28 18:53:36.153636+08:00\n",
      "2024-04-28 10:53:36.153665\n"
     ]
    }
   ],
   "source": [
    "import datetime\n",
    "thisTime = datetime.datetime(2020,1,1,20,20,20,20)\n",
    "print(thisTime)    # 2020-01-01 20:20:20.000020\n",
    "\n",
    "print(datetime.datetime.today())    # 2021-10-19 06:15:46.022925\n",
    "print(datetime.datetime.now(tz=datetime.timezone(datetime.timedelta(hours=8))))\n",
    "# 2021-10-19 14:15:46.027982+08:00\n",
    "print(datetime.datetime.utcnow())   # 2021-10-19 06:15:46.028630\n"
   ]
  },
  {
   "cell_type": "code",
   "execution_count": null,
   "metadata": {},
   "outputs": [],
   "source": [
    "import datetime\n",
    "\n",
    "# 获取当前时间，并指定时区为东八区\n",
    "now = datetime.datetime.now(tz=datetime.timezone(datetime.timedelta(hours=8)))\n",
    "\n",
    "# 打印当前时间\n",
    "print(now)                # 2021-10-19 14:25:46.962975+08:00\n",
    "# 获取日期部分\n",
    "print(now.date())         # 2021-10-19\n",
    "# 获取时间部分\n",
    "print(now.time())         # 14:25:46.962975\n",
    "# 获取时区名称\n",
    "print(now.tzname())       \n",
    "# 获取星期几 (0代表星期一，1代表星期二，以此类推)\n",
    "print(now.weekday())      \n",
    "# 获取ISO格式的星期几 (1代表星期一，2代表星期二，以此类推)\n",
    "print(now.isoweekday())   \n",
    "# 获取ISO格式的年份、周数和星期几\n",
    "print(now.isocalendar())  \n",
    "# 获取ISO格式的时间字符串\n",
    "print(now.isoformat())    \n",
    "# 获取简化的日期字符串\n",
    "print(now.ctime())        \n",
    "# 按照指定格式输出日期和时间字符串\n",
    "print(now.strftime('%Y/%m/%d %H:%M:%S'))  \n",
    "# 将时间对象转换为元组形式\n",
    "print(now.timetuple())  \n"
   ]
  },
  {
   "cell_type": "markdown",
   "metadata": {},
   "source": [
    "## timedelta\t處理時間差\n",
    "\n",
    "＄ 如果要進行日期或時間的計算，可以透過 datetime.timedelta 增加或減少日期或時間，本身包含 days、seconds、microseconds、milliseconds、minutes、hours、weeks 的屬性，屬性的預設值都是 0。"
   ]
  },
  {
   "cell_type": "code",
   "execution_count": 6,
   "metadata": {},
   "outputs": [
    {
     "name": "stdout",
     "output_type": "stream",
     "text": [
      "2024-04-28 18:59:14.199492\n",
      "2024-04-27 18:59:14.199492\n",
      "2024-04-29 18:59:14.199492\n",
      "2024-05-05 18:59:14.199492\n"
     ]
    }
   ],
   "source": [
    "import datetime\n",
    "\n",
    "# 获取当前时间\n",
    "today = datetime.datetime.now()\n",
    "# 获取昨天的日期\n",
    "yesterday = today - datetime.timedelta(days=1)\n",
    "# 获取明天的日期\n",
    "tomorrow = today + datetime.timedelta(days=1)\n",
    "# 获取一周后的日期\n",
    "nextweek = today + datetime.timedelta(weeks=1)\n",
    "# 打印结果\n",
    "print(today)       \n",
    "print(yesterday)   \n",
    "print(tomorrow)    \n",
    "print(nextweek)    \n"
   ]
  },
  {
   "cell_type": "markdown",
   "metadata": {},
   "source": [
    "## timezone\t處理時區資訊\n",
    "\n",
    "＄ datetime.timezone 負責時區的轉換，主要和 datetime.datetime、datetime.time 互相搭配使用。"
   ]
  },
  {
   "cell_type": "markdown",
   "metadata": {},
   "source": [
    "# time：時間處理 "
   ]
  },
  {
   "cell_type": "code",
   "execution_count": 8,
   "metadata": {},
   "outputs": [
    {
     "name": "stdout",
     "output_type": "stream",
     "text": [
      "1714302300.452928\n",
      "1714302300454327000\n",
      "Sun Apr 28 19:05:00 2024\n",
      "Sun Apr 28 19:05:02 2024\n"
     ]
    }
   ],
   "source": [
    "\"\"\"\n",
    "time.time() \n",
    "執行後會回傳 1970 年 1 月 1 日 00:00:00 到現在的秒數。\n",
    "秒數使用浮點數 float 的格式。\n",
    "如果改成 time.time_ns() 會回傳 ns 數 \n",
    "\"\"\"\n",
    "import time\n",
    "print(time.time())     # 1634629287.537577\n",
    "print(time.time_ns())  # 1634629287537744648\n",
    "\n",
    "\n",
    "\"\"\"time.sleep(sec) 能將程式暫停指定的秒數\"\"\"\n",
    "print(time.ctime(time.time()))  \n",
    "time.sleep(2)                    # 暫停兩秒\n",
    "print(time.ctime(time.time()))\n"
   ]
  },
  {
   "cell_type": "code",
   "execution_count": 12,
   "metadata": {},
   "outputs": [
    {
     "name": "stdout",
     "output_type": "stream",
     "text": [
      "1714302544.505586\n",
      "time.struct_time(tm_year=2024, tm_mon=4, tm_mday=28, tm_hour=19, tm_min=9, tm_sec=4, tm_wday=6, tm_yday=119, tm_isdst=0)\n",
      "1714302544.0\n",
      "Sun Apr 28 19:09:04 2024\n",
      "2024/04/28 19:09:04\n",
      "time.struct_time(tm_year=2024, tm_mon=4, tm_mday=28, tm_hour=19, tm_min=9, tm_sec=4, tm_wday=6, tm_yday=119, tm_isdst=-1)\n"
     ]
    }
   ],
   "source": [
    "# time.mktime(t) 可以將 struct_time 格式的時間轉換回秒數。\n",
    "import time\n",
    "t = time.time()\n",
    "t1 = time.localtime(t)\n",
    "t2 = time.mktime(t1) # 將 struct_time 格式的時間轉換回秒數。\n",
    "t3 = time.asctime(t1) # 將 struct_time 格式的時間轉換為文字顯示。\n",
    "ta = time.strftime('%Y/%m/%d %H:%M:%S',t1)\n",
    "tb = time.strptime(ta, '%Y/%m/%d %H:%M:%S')\n",
    "print(t)     \n",
    "print(t1)    \n",
    "print(t2)    \n",
    "print(t3)\n",
    "print(ta)\n",
    "print(tb)    "
   ]
  }
 ],
 "metadata": {
  "kernelspec": {
   "display_name": "base",
   "language": "python",
   "name": "python3"
  },
  "language_info": {
   "codemirror_mode": {
    "name": "ipython",
    "version": 3
   },
   "file_extension": ".py",
   "mimetype": "text/x-python",
   "name": "python",
   "nbconvert_exporter": "python",
   "pygments_lexer": "ipython3",
   "version": "3.11.5"
  },
  "orig_nbformat": 4
 },
 "nbformat": 4,
 "nbformat_minor": 2
}
