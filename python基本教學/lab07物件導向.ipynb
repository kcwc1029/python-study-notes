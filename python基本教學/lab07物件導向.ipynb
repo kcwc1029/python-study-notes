{
 "cells": [
  {
   "cell_type": "markdown",
   "metadata": {},
   "source": [
    "物件導向程式設計（Object-Oriented Programming, OOP）是一種程式設計範式，它將程式組織成物件，這些物件包含資料（屬性）和操作資料的行為（方法）。OOP 使得程式更具結構性、可讀性和可維護性。\n",
    "\n",
    "YT物件導向教學：\n",
    "- https://www.youtube.com/watch?v=WBrX9n0SWG8\n",
    "- https://www.youtube.com/watch?v=fELYoevwnag&t=273s"
   ]
  },
  {
   "cell_type": "markdown",
   "metadata": {},
   "source": [
    "## class 基本框架"
   ]
  },
  {
   "cell_type": "code",
   "execution_count": 29,
   "metadata": {},
   "outputs": [
    {
     "name": "stdout",
     "output_type": "stream",
     "text": [
      "<class '__main__.Robot'>\n",
      "weiwei\n",
      "25\n",
      "weiwei is walking.\n",
      "weiwei is going to sleep for 15 hours.\n"
     ]
    }
   ],
   "source": [
    "class Robot:\n",
    "    # 初始化class(self, 其他自己接)\n",
    "    def __init__(self, name, age):\n",
    "        self.name = name\n",
    "        self.age = age\n",
    "    # 使用class自己的參數\n",
    "    def walk(self):\n",
    "        print(f\"{self.name} is walking.\")\n",
    "\n",
    "    # 除了class裡面的參數，還有額外參數\n",
    "    def sleep(self, hours):\n",
    "        print(f\"{self.name} is going to sleep for {hours} hours.\")\n",
    "\n",
    "# 訪問屬性和方法\n",
    "my_robot = Robot(\"weiwei\",25)\n",
    "print(type(my_robot)) # <class '__main__.Robot'>\n",
    "\n",
    "\n",
    "\n",
    "print(my_robot.name) # weiwei\n",
    "print(my_robot.age) # 23\n",
    "my_robot.walk() # weiwei is walking.\n",
    "my_robot.sleep(15) # weiwei is going to sleep for 15 hours."
   ]
  },
  {
   "cell_type": "markdown",
   "metadata": {},
   "source": [
    "## oop class attribute（屬性）\n",
    "\n",
    "＄ 第一種寫法：每個對象都有自己的屬性\n",
    "\n",
    "在這種寫法中，每個對象都有自己的 `name`、`age` 和 `ingredient` 屬性。每當創建一個新的對象時，這些屬性都會被賦予特定的值。這種寫法的優點是每個對象都可以擁有不同的屬性值，但缺點是如果多個對象具有相同的屬性值，會造成空間的浪費。"
   ]
  },
  {
   "cell_type": "code",
   "execution_count": 30,
   "metadata": {},
   "outputs": [],
   "source": [
    "class Robot1:\n",
    "    def __init__(self, name, age):\n",
    "        self.name = name\n",
    "        self.age = age\n",
    "        self.ingredient = \"metal\""
   ]
  },
  {
   "cell_type": "markdown",
   "metadata": {},
   "source": [
    "＄ 第二種寫法：使用類屬性\n",
    "\n",
    "在這種寫法中，屬性 `ingredient` 被定義為類屬性，這意味著所有對象共享同一份 `ingredient` 屬性，而不是每個對象都有自己的副本。這種寫法節省了空間，但如果需要為不同的對象設置不同的屬性值，就不適用。"
   ]
  },
  {
   "cell_type": "code",
   "execution_count": 4,
   "metadata": {},
   "outputs": [
    {
     "name": "stdout",
     "output_type": "stream",
     "text": [
      "hi, my name is weiwei. and i am made of metal.\n",
      "Robot1 ingredient: metal\n",
      "Robot2 ingredient: metal\n",
      "Class attribute ingredient: metal\n"
     ]
    }
   ],
   "source": [
    "class Robot:\n",
    "    ingredient = \"metal\"\n",
    "    def __init__(self, name, age):\n",
    "        self.name = name\n",
    "        self.age = age\n",
    "    def greet(self):\n",
    "        print(f\"hi, my name is {self.name}. and i am made of {Robot.ingredient}.\")\n",
    "# 创建类的实例\n",
    "robot1 = Robot(\"weiwei\", 25)\n",
    "robot2 = Robot(\"robot2\", 30)\n",
    "robot1.greet()\n",
    "\n",
    "# 访问类属性\n",
    "print(\"Robot1 ingredient:\", robot1.ingredient)  # 输出 \"metal\"\n",
    "print(\"Robot2 ingredient:\", robot2.ingredient)  # 输出 \"metal\"\n",
    "\n",
    "# 也可以通过类本身来访问类属性\n",
    "print(\"Class attribute ingredient:\", Robot.ingredient)  # 输出 \"metal\""
   ]
  },
  {
   "cell_type": "markdown",
   "metadata": {},
   "source": [
    "＄ 第三種寫法：使用 `self.__class__.attribute`\n",
    "\n",
    "這種寫法類似於第二種寫法，但是在方法中使用了 `self.__class__.ingredient` 來訪問類屬性。這樣做的好處是，如果後續需要修改類屬性的值，只需在類定義中修改一次即可，所有對象都會自動更新，而無需修改每個對象的屬性值。"
   ]
  },
  {
   "cell_type": "code",
   "execution_count": 3,
   "metadata": {},
   "outputs": [
    {
     "name": "stdout",
     "output_type": "stream",
     "text": [
      "hi, my name is weiwei. and i am made of metal.\n",
      "Robot1 ingredient: metal\n",
      "Robot2 ingredient: metal\n"
     ]
    }
   ],
   "source": [
    "class Robot:\n",
    "    ingredient = \"metal\"\n",
    "    def __init__(self, name, age):\n",
    "        self.name = name\n",
    "        self.age = age\n",
    "    def greet(self):\n",
    "        print(f\"hi, my name is {self.name}. and i am made of {self.__class__.ingredient}.\")\n",
    "\n",
    "\n",
    "# 创建类的实例\n",
    "robot1 = Robot(\"weiwei\", 25)\n",
    "robot2 = Robot(\"robot2\", 30)\n",
    "robot1.greet()\n",
    "\n",
    "# 访问类属性\n",
    "print(\"Robot1 ingredient:\", robot1.ingredient)  # 输出 \"metal\"\n",
    "print(\"Robot2 ingredient:\", robot2.ingredient)  # 输出 \"metal\""
   ]
  },
  {
   "cell_type": "markdown",
   "metadata": {},
   "source": [
    "## 覆寫屬性"
   ]
  },
  {
   "cell_type": "code",
   "execution_count": null,
   "metadata": {},
   "outputs": [
    {
     "name": "stdout",
     "output_type": "stream",
     "text": [
      "???\n"
     ]
    }
   ],
   "source": [
    "class human():\n",
    "    def __init__(self):\n",
    "        self.eye = 2\n",
    "        self.ear = 2\n",
    "        self.nose = 1\n",
    "        self.mouth = 1\n",
    "    def say(self, msg):\n",
    "        print(f'{self.name} say: {msg}')\n",
    "    def play(self, thing):\n",
    "        print(thing)\n",
    "\n",
    "oxxo = human()\n",
    "oxxo.play = '???'  # 覆寫 play 屬性\n",
    "print(oxxo.play)   # ???"
   ]
  },
  {
   "cell_type": "markdown",
   "metadata": {},
   "source": [
    "## static method & class method\n",
    "\n",
    "＄ Instance Method\n",
    "\n",
    "-   定義： 第一個參數為 self。\n",
    "-   用途： 實例化後，可以訪問物件屬性和實例方法。\n",
    "-   使用： 實例化對象後，通過對象調用。"
   ]
  },
  {
   "cell_type": "code",
   "execution_count": null,
   "metadata": {},
   "outputs": [],
   "source": [
    "class MyClass:\n",
    "    def instance_method(self):\n",
    "        print(\"This is an instance method.\")\n",
    "\n",
    "obj = MyClass()\n",
    "obj.instance_method()"
   ]
  },
  {
   "cell_type": "markdown",
   "metadata": {},
   "source": [
    "＄ Class Method 類別方法\n",
    "\n",
    "-   定義： 使用 @classmethod 裝飾器定義的方法，第一個參數為 cls。\n",
    "-   用途： 與整個類別相關的操作，可以訪問類別的屬性和其他類別方法。\n",
    "-   使用： 通過類別名稱調用。"
   ]
  },
  {
   "cell_type": "code",
   "execution_count": null,
   "metadata": {},
   "outputs": [
    {
     "name": "stdout",
     "output_type": "stream",
     "text": [
      "Class Method. Class Variable: Class Variable\n"
     ]
    }
   ],
   "source": [
    "class MyClass:\n",
    "    class_variable = \"Class Variable\"\n",
    "    @classmethod\n",
    "    def class_method(cls):\n",
    "        print(f\"Class Method. Class Variable: {cls.class_variable}\")\n",
    "\n",
    "MyClass.class_method()# 使用類別方法"
   ]
  },
  {
   "cell_type": "markdown",
   "metadata": {},
   "source": [
    "＄ Static Method 靜態方法\n",
    "\n",
    "-   定義： 使用 @staticmethod 裝飾器定義的方法，不需要特定的第一個參數。\n",
    "-   用途： 與類別和實例無關的操作，不訪問實例和類別的屬性。\n",
    "-   使用： 通過類別名稱或實例調用。"
   ]
  },
  {
   "cell_type": "code",
   "execution_count": null,
   "metadata": {},
   "outputs": [
    {
     "name": "stdout",
     "output_type": "stream",
     "text": [
      "Static Method.\n",
      "314.159\n",
      "706.85775\n",
      "1021.01675\n",
      "1021.01675\n"
     ]
    }
   ],
   "source": [
    "class MyClass:\n",
    "    @staticmethod\n",
    "    def static_method():\n",
    "        print(\"Static Method.\")\n",
    "\n",
    "# 使用靜態方法\n",
    "MyClass.static_method()\n",
    "\n",
    "\n",
    "''' 範例 '''\n",
    "class Circle:\n",
    "    pi = 3.14159\n",
    "    all_circles = []\n",
    "    def __init__(self,radius) -> None:\n",
    "        self.radius = radius\n",
    "        self.all_circles.append(self)\n",
    "\n",
    "    # Instance Method\n",
    "    def area(self):\n",
    "        return self.pi * (self.radius**2)\n",
    "\n",
    "    # Class Method 類別方法\n",
    "    @classmethod\n",
    "    def total_area2(cls):\n",
    "        total = 0\n",
    "        for i in cls.all_circles:\n",
    "            total += i.area()\n",
    "        return total\n",
    "\n",
    "    # Static Method 靜態方法\n",
    "    @staticmethod\n",
    "    def total_area():\n",
    "        total = 0\n",
    "        for i in Circle.all_circles:\n",
    "            total += i.area()\n",
    "        return total\n",
    "\n",
    "c1 = Circle(10)\n",
    "c2 = Circle(15)\n",
    "print(c1.area())\n",
    "print(c2.area())\n",
    "print(c1.total_area()) # c1+C2\n",
    "print(c1.total_area2()) # c1+C2"
   ]
  },
  {
   "cell_type": "markdown",
   "metadata": {},
   "source": [
    "## 建構子與解構子"
   ]
  },
  {
   "cell_type": "code",
   "execution_count": 5,
   "metadata": {},
   "outputs": [
    {
     "name": "stdout",
     "output_type": "stream",
     "text": [
      "Hi, my name is Alice and I am 30 years old\n"
     ]
    }
   ],
   "source": [
    "class Person:\n",
    "    def __init__(self, name, age):\n",
    "        self.name = name\n",
    "        self.age = age\n",
    "\n",
    "    def introduce(self):\n",
    "        print(f\"Hi, my name is {self.name} and I am {self.age} years old\")\n",
    "\n",
    "person = Person(\"Alice\", 30)\n",
    "person.introduce()  # 輸出: Hi, my name is Alice and I am 30 years old"
   ]
  },
  {
   "cell_type": "code",
   "execution_count": 6,
   "metadata": {},
   "outputs": [
    {
     "name": "stdout",
     "output_type": "stream",
     "text": [
      "Alice is being deleted\n"
     ]
    }
   ],
   "source": [
    "# 解構子是 __del__ 方法，用於在物件被銷毀前執行清理操作。\n",
    "class Person:\n",
    "    def __init__(self, name, age):\n",
    "        self.name = name\n",
    "        self.age = age\n",
    "\n",
    "    def __del__(self):\n",
    "        print(f\"{self.name} is being deleted\")\n",
    "\n",
    "person = Person(\"Alice\", 30)\n",
    "del person  # 輸出: Alice is being deleted"
   ]
  },
  {
   "cell_type": "markdown",
   "metadata": {},
   "source": [
    "## 抽象（Abstraction）\n",
    "\n",
    "抽象是指僅顯示物件的必要屬性和行為，隱藏內部的實現細節。"
   ]
  },
  {
   "cell_type": "code",
   "execution_count": 18,
   "metadata": {},
   "outputs": [
    {
     "name": "stdout",
     "output_type": "stream",
     "text": [
      "Woof!\n",
      "Meow!\n"
     ]
    },
    {
     "ename": "TypeError",
     "evalue": "Can't instantiate abstract class Animal with abstract method sound",
     "output_type": "error",
     "traceback": [
      "\u001b[0;31m---------------------------------------------------------------------------\u001b[0m",
      "\u001b[0;31mTypeError\u001b[0m                                 Traceback (most recent call last)",
      "Cell \u001b[0;32mIn[18], line 20\u001b[0m\n\u001b[1;32m     18\u001b[0m \u001b[39mprint\u001b[39m(dog\u001b[39m.\u001b[39msound())  \u001b[39m# 輸出: Woof!\u001b[39;00m\n\u001b[1;32m     19\u001b[0m \u001b[39mprint\u001b[39m(cat\u001b[39m.\u001b[39msound())  \u001b[39m# 輸出: Meow!\u001b[39;00m\n\u001b[0;32m---> 20\u001b[0m aa \u001b[39m=\u001b[39m Animal()\n",
      "\u001b[0;31mTypeError\u001b[0m: Can't instantiate abstract class Animal with abstract method sound"
     ]
    }
   ],
   "source": [
    "from abc import ABC, abstractmethod\n",
    "\n",
    "class Animal(ABC):\n",
    "    @abstractmethod\n",
    "    def sound(self):\n",
    "        return \"ABC\"\n",
    "\n",
    "class Dog(Animal):\n",
    "    def sound(self):\n",
    "        return \"Woof!\"\n",
    "\n",
    "class Cat(Animal):\n",
    "    def sound(self):\n",
    "        return \"Meow!\"\n",
    "\n",
    "dog = Dog()\n",
    "cat = Cat()\n",
    "print(dog.sound())  # 輸出: Woof!\n",
    "print(cat.sound())  # 輸出: Meow!\n",
    "aa = Animal() #  Can't instantiate abstract class Animal with abstract method sound\n",
    "# aa.sound()"
   ]
  },
  {
   "cell_type": "code",
   "execution_count": null,
   "metadata": {},
   "outputs": [],
   "source": []
  },
  {
   "cell_type": "markdown",
   "metadata": {},
   "source": [
    "## 繼承（inheritance）\n",
    "繼承允許一個類（子類）繼承另一個類（父類）的屬性和方法。"
   ]
  },
  {
   "cell_type": "code",
   "execution_count": null,
   "metadata": {},
   "outputs": [
    {
     "name": "stdout",
     "output_type": "stream",
     "text": [
      "23 10911221\n",
      "weiwei is sleeping...\n",
      "weiwei is eating now beef...\n"
     ]
    }
   ],
   "source": [
    "class People:\n",
    "    def __init__(self, name, age) -> None:\n",
    "        self.name = name\n",
    "        self.age = age\n",
    "    def sleep(self):\n",
    "        print(f\"{self.name} is sleeping...\")\n",
    "    def eat(self):\n",
    "        print(f\"{self.name} is eating...\")\n",
    "\n",
    "class Student(People):\n",
    "    def __init__(self, name, age, student_id) -> None:\n",
    "        super().__init__(name, age) # 繼承\n",
    "        self.student_id = student_id\n",
    "\n",
    "    def eat(self,food): # 方法可以被覆寫\n",
    "        print(f\"{self.name} is eating now {food}...\")\n",
    "\n",
    "student1 = Student(\"weiwei\", 23, 10911221)\n",
    "print(student1.age, student1.student_id) # 23 10911221\n",
    "student1.sleep() # weiwei is sleeping...\n",
    "student1.eat(\"beef\") # weiwei is eating now beef..."
   ]
  },
  {
   "cell_type": "markdown",
   "metadata": {},
   "source": [
    "## 多型（Polymorphism）\n",
    "- 多型允許同一方法在不同物件中有不同的實現。\n",
    "- 繼承時會覆寫方法"
   ]
  },
  {
   "cell_type": "code",
   "execution_count": 7,
   "metadata": {},
   "outputs": [
    {
     "name": "stdout",
     "output_type": "stream",
     "text": [
      "Squawk!\n",
      "Caw!\n"
     ]
    }
   ],
   "source": [
    "class Bird:\n",
    "    def speak(self):\n",
    "        return \"Some sound\"\n",
    "\n",
    "class Parrot(Bird):\n",
    "    def speak(self):\n",
    "        return \"Squawk!\"\n",
    "\n",
    "class Crow(Bird):\n",
    "    def speak(self):\n",
    "        return \"Caw!\"\n",
    "\n",
    "def make_bird_speak(bird):\n",
    "    print(bird.speak())\n",
    "\n",
    "parrot = Parrot()\n",
    "crow = Crow()\n",
    "make_bird_speak(parrot)  # 輸出: Squawk!\n",
    "make_bird_speak(crow)    # 輸出: Caw!\n"
   ]
  },
  {
   "cell_type": "code",
   "execution_count": null,
   "metadata": {},
   "outputs": [
    {
     "name": "stdout",
     "output_type": "stream",
     "text": [
      "100\n",
      "2\n"
     ]
    }
   ],
   "source": [
    "class father():\n",
    "    def __init__(self):\n",
    "        self.eye = 2\n",
    "        self.ear = 2\n",
    "        self.nose = 1\n",
    "        self.mouth = 1\n",
    "\n",
    "class son(father):\n",
    "    def __init__(self):\n",
    "        super().__init__()   # 使用 super() 繼承 father __init__ 裡所有屬性\n",
    "        self.eye = 100       # 如果屬性相同，則覆寫屬性\n",
    "\n",
    "oxxo = son()\n",
    "print(oxxo.eye)              # 100\n",
    "print(oxxo.ear)              # 2"
   ]
  },
  {
   "cell_type": "markdown",
   "metadata": {},
   "source": [
    "## 多重繼承\n",
    "\n",
    "繼承不僅能進行單一繼承，也可以進行多重繼承，例如可以從爸爸身上繼承基因，同時也可以從媽媽身上繼承基因一般，下方的例子，son 從 father 繼承了五官，從 mother 繼承了 language 和 skill。"
   ]
  },
  {
   "cell_type": "code",
   "execution_count": null,
   "metadata": {},
   "outputs": [
    {
     "name": "stdout",
     "output_type": "stream",
     "text": [
      "2\n",
      "painting\n",
      "ball\n"
     ]
    }
   ],
   "source": [
    "class father():          # father 类\n",
    "    def __init__(self):  # father 的构造函数\n",
    "        self.eye = 2\n",
    "        self.ear = 2\n",
    "        self.nose = 1\n",
    "        self.mouth = 1\n",
    "\n",
    "class mother():          # mother 类\n",
    "    def language(self):  # mother 的方法\n",
    "        print('english')\n",
    "    def skill(self):\n",
    "        print('painting')\n",
    "\n",
    "class son(father, mother):    # 继承 father 和 mother\n",
    "    def __init__(self):       # son 的构造函数\n",
    "        super().__init__()    # 调用父类的构造函数\n",
    "    def play(self):           # son 自己的方法\n",
    "        print('ball')\n",
    "\n",
    "oxxo = son()\n",
    "print(oxxo.eye)        # 输出 2\n",
    "oxxo.skill()           # 输出 painting\n",
    "oxxo.play()            # 输出 ball"
   ]
  },
  {
   "cell_type": "markdown",
   "metadata": {},
   "source": [
    "## 多層繼承"
   ]
  },
  {
   "cell_type": "code",
   "execution_count": null,
   "metadata": {},
   "outputs": [
    {
     "name": "stdout",
     "output_type": "stream",
     "text": [
      "2\n",
      "painting\n",
      "ball\n"
     ]
    }
   ],
   "source": [
    "class grandpa():\n",
    "    def __init__(self):\n",
    "        self.eye = 2\n",
    "        self.ear = 2\n",
    "        self.nose = 1\n",
    "        self.mouth = 1\n",
    "\n",
    "class father(grandpa):\n",
    "    def __init__(self):\n",
    "        super().__init__()  # 调用父类的构造函数\n",
    "    def language(self):\n",
    "        print('english')\n",
    "    def skill(self):\n",
    "        print('painting')\n",
    "\n",
    "class son(father):\n",
    "    def __init__(self):\n",
    "        super().__init__()  # 调用父类的构造函数\n",
    "    def play(self):\n",
    "        print('ball')\n",
    "\n",
    "oxxo = son()\n",
    "print(oxxo.eye)    # 输出 2\n",
    "oxxo.skill()       # 输出 painting\n",
    "oxxo.play()        # 输出 ball"
   ]
  },
  {
   "cell_type": "markdown",
   "metadata": {},
   "source": [
    "## 封裝（Encapsulation）與私有化\n",
    "封裝是將資料和方法綁定在一起，並隱藏物件的內部細節。可以透過在屬性或方法前加上雙下劃線（__）將其設為私有。"
   ]
  },
  {
   "cell_type": "code",
   "execution_count": null,
   "metadata": {},
   "outputs": [
    {
     "name": "stdout",
     "output_type": "stream",
     "text": [
      "hi, i am 25 years old.\n",
      "hello from private method\n"
     ]
    }
   ],
   "source": [
    "class Robot:\n",
    "    def __init__(self,name) -> None:\n",
    "        self.name = name\n",
    "        self.__age = 25 # private\n",
    "    def greet(self):\n",
    "        print(f\"hi, i am {self.__age} years old.\")\n",
    "    # 加入getter, setter的概念\n",
    "    def get_age(self):\n",
    "        return self.__age\n",
    "    def set_age(self):\n",
    "        self.__age+=1\n",
    "\n",
    "    # private method\n",
    "    def __this_is_private(self):\n",
    "        print(f\"hello from private method\")\n",
    "\n",
    "    def get_this_is_private(self):\n",
    "        self.__this_is_private()\n",
    "\n",
    "my_robot = Robot(\"weiwei\")\n",
    "# print(my_robot.__age) 會錯誤\n",
    "my_robot.greet() # hi, i am 25 years old.\n",
    "my_robot.set_age()\n",
    "my_robot.get_age()\n",
    "my_robot.get_this_is_private() # hello from private method"
   ]
  },
  {
   "cell_type": "markdown",
   "metadata": {},
   "source": [
    "## getter & setter"
   ]
  },
  {
   "cell_type": "code",
   "execution_count": null,
   "metadata": {},
   "outputs": [],
   "source": [
    "class Robot:\n",
    "    def __init__(self,name) -> None:\n",
    "        self.name = name\n",
    "        self.age = 25 # public\n",
    "my_robot = Robot(\"weiwei\")\n",
    "my_robot.age = -30 # 數值被隨意篡改了，也正因此有了private的概念\n",
    "print(my_robot.age) # -30"
   ]
  },
  {
   "cell_type": "code",
   "execution_count": 34,
   "metadata": {},
   "outputs": [
    {
     "name": "stdout",
     "output_type": "stream",
     "text": [
      "30\n"
     ]
    }
   ],
   "source": [
    "class Robot:\n",
    "    def __init__(self,name) -> None:\n",
    "        self.name = name\n",
    "        self.__age = 25 # private\n",
    "    def age_setter(self, new_age): # 更改__age要透過函數\n",
    "        if new_age>0 and new_age<100:\n",
    "            self.__age = new_age\n",
    "        else: print(\"new age is invalid\")\n",
    "\n",
    "my_robot = Robot(\"weiwei\")\n",
    "my_robot.age = 30 # 數值被隨意篡改了，也正因此有了private的概念\n",
    "print(my_robot.age) # 30"
   ]
  },
  {
   "cell_type": "markdown",
   "metadata": {},
   "source": [
    "## 裝飾器@property decorator\n",
    "\n",
    "如果在類別裡有些屬性不希望被外部更動，就能夠使用 @property 的裝飾器，將該屬性設為唯讀屬性，下方的例子，oxxo.a 可以將原本的 a 屬性換成 12345，但 oxxo.b 就無法更動 b 屬性，因為 b 屬性已經變成唯讀屬性。"
   ]
  },
  {
   "cell_type": "code",
   "execution_count": 33,
   "metadata": {},
   "outputs": [
    {
     "name": "stdout",
     "output_type": "stream",
     "text": [
      "12345\n"
     ]
    },
    {
     "ename": "AttributeError",
     "evalue": "property 'b' of 'a' object has no setter",
     "output_type": "error",
     "traceback": [
      "\u001b[0;31m---------------------------------------------------------------------------\u001b[0m",
      "\u001b[0;31mAttributeError\u001b[0m                            Traceback (most recent call last)",
      "Cell \u001b[0;32mIn[33], line 11\u001b[0m\n\u001b[1;32m      9\u001b[0m oxxo\u001b[39m.\u001b[39ma \u001b[39m=\u001b[39m \u001b[39m'\u001b[39m\u001b[39m12345\u001b[39m\u001b[39m'\u001b[39m\n\u001b[1;32m     10\u001b[0m \u001b[39mprint\u001b[39m(oxxo\u001b[39m.\u001b[39ma)   \u001b[39m# 12345\u001b[39;00m\n\u001b[0;32m---> 11\u001b[0m oxxo\u001b[39m.\u001b[39mb \u001b[39m=\u001b[39m \u001b[39m'\u001b[39m\u001b[39m12345\u001b[39m\u001b[39m'\u001b[39m\n\u001b[1;32m     12\u001b[0m \u001b[39mprint\u001b[39m(oxxo\u001b[39m.\u001b[39mb)\n",
      "\u001b[0;31mAttributeError\u001b[0m: property 'b' of 'a' object has no setter"
     ]
    }
   ],
   "source": [
    "class a:\n",
    "    def a(self):\n",
    "        return 'aaaaa'\n",
    "    @property\n",
    "    def b(self):\n",
    "        return 'bbbbb'\n",
    "\n",
    "oxxo = a()\n",
    "oxxo.a = '12345'\n",
    "print(oxxo.a)   # 12345\n",
    "oxxo.b = '12345'\n",
    "print(oxxo.b)   # 發生錯誤"
   ]
  },
  {
   "cell_type": "markdown",
   "metadata": {},
   "source": [
    "## 魔術方法 dunder method (magic method)（補充）\n",
    "\n",
    "＄ \"Dunder\" 是 \"Double Under\" 的縮寫，它指的是 Python 中以兩個底線開頭和結尾的特殊方法（special methods），也被稱為魔法方法（magic methods）或特殊方法。\n",
    "\n",
    "＄ 這些方法是用來實現對象的特定行為，例如運算符重載、自定義的對象表示和對象的生命週期等。以下是一些常見的 dunder methods\n",
    "\n",
    "-   **init**: 這是初始化方法，用來在創建一個對象的時候執行初始化操作。\n",
    "-   **str**: 定義對象的字串表示形式，通常由 str() 函數調用。\n",
    "-   **repr**: 定義對象的官方字串表示形式，通常由 repr() 函數調用。(debug 使僧)\n",
    "-   **len**: 定義對象的長度，通常由 len() 函數調用。\n",
    "-   **add**, **sub**, **mul**, **div** 等：定義對象的算術運算符。\n",
    "-   **getitem**, **setitem**, **delitem**：定義對象的索引和切片操作。\n",
    "-   **call**: 允許對象像函數一樣被調用。\n",
    "-   **eq**, **ne**, **lt**, **gt**, **le**, **ge**：定義對象的比較運算符。"
   ]
  },
  {
   "cell_type": "code",
   "execution_count": 32,
   "metadata": {},
   "outputs": [
    {
     "name": "stdout",
     "output_type": "stream",
     "text": [
      "6\n",
      "weiwei,23,Taiwan\n",
      "weiwei,23,Taiwan!!!!\n",
      "48\n"
     ]
    }
   ],
   "source": [
    "class Robot:\n",
    "    def __init__(self, name, age, address):\n",
    "        self.name = name\n",
    "        self.age = age\n",
    "        self.address = address\n",
    "    def __len__(self):\n",
    "        return len(self.name)\n",
    "    def __str__(self) -> str:\n",
    "        return f\"{self.name},{self.age},{self.address}\"\n",
    "    def __repr__(self) -> str:\n",
    "        return f\"{self.name},{self.age},{self.address}!!!!\"\n",
    "    def __add__(self, other):\n",
    "        if isinstance(other, Robot):\n",
    "            return self.age + other.age\n",
    "        return NotImplemented\n",
    "\n",
    "robot1 = Robot(\"weiwei\", 23, \"Taiwan\")\n",
    "robot2 = Robot(\"wilison\", 25, \"Taiwan\")\n",
    "print(len(robot1)) #6 他會執行__len__\n",
    "print(robot1) # 讀__str__，沒有的話返回空間地址\n",
    "print(repr(robot1)) # 讀__rper__，沒有的話返回空間地址\n",
    "print(robot1+robot2) # 執行__add__"
   ]
  },
  {
   "cell_type": "markdown",
   "metadata": {},
   "source": [
    "## Lab07 作業"
   ]
  },
  {
   "cell_type": "code",
   "execution_count": 20,
   "metadata": {},
   "outputs": [
    {
     "name": "stdout",
     "output_type": "stream",
     "text": [
      "狗狗現在的體重= 6.4 kg, 心情 95\n",
      "貓貓現在的體重= 11.5 kg, 心情 91\n"
     ]
    }
   ],
   "source": [
    "class Animal:\n",
    "    def __init__(self, weight, mood):\n",
    "        self.weight = weight\n",
    "        self.mood = mood\n",
    "    def feed(self):pass\n",
    "    def walk(self):pass\n",
    "    def bath(self):pass\n",
    "\n",
    "class Dogs(Animal):\n",
    "    def __init__(self, weight, mood) -> None:\n",
    "        super().__init__(weight, mood) \n",
    "    def feed(self):\n",
    "        self.weight+=0.2\n",
    "        self.mood+=1\n",
    "    def walk(self):\n",
    "        self.weight-=0.2\n",
    "        self.mood+=2\n",
    "    def bath(self):\n",
    "        self.mood-=2\n",
    "    def pt(self):\n",
    "        print(f\"狗狗現在的體重= {round(dog.weight, 1)} kg, 心情 {dog.mood}\")\n",
    "\n",
    "class Cats(Animal):\n",
    "    def __init__(self, weight, mood) -> None:\n",
    "        super().__init__(weight, mood) # 繼承\n",
    "    def feed(self):\n",
    "        self.weight+=0.1\n",
    "        self.mood+=1\n",
    "    def walk(self):\n",
    "        self.weight-=0.1\n",
    "        self.mood-=1\n",
    "    def bath(self):\n",
    "        self.mood-=2\n",
    "    def pt(self):\n",
    "        print(f\"貓貓現在的體重= {round(cat.weight, 1)} kg, 心情 {cat.mood}\")\n",
    "\n",
    "dog = Dogs(4.8, 65)\n",
    "cat = Cats(8.2, 60)\n",
    "\n",
    "for i in range(40): cat.feed()\n",
    "for i in range(7): cat.walk()\n",
    "for i in range(1): cat.bath()\n",
    "\n",
    "for i in range(18): dog.feed()\n",
    "for i in range(10): dog.walk()\n",
    "for i in range(4): dog.bath()\n",
    "\n",
    "dog.pt()\n",
    "cat.pt()\n",
    "\n",
    "\n",
    "\n",
    "\n"
   ]
  },
  {
   "cell_type": "markdown",
   "metadata": {},
   "source": [
    "## Lab07 作業加分題"
   ]
  },
  {
   "cell_type": "code",
   "execution_count": 24,
   "metadata": {},
   "outputs": [
    {
     "name": "stdout",
     "output_type": "stream",
     "text": [
      "柴柴現在的體重= 9.0 kg, 心情 184\n",
      "mood最高只能為= 90\n",
      "所以，柴犬現在的心情 90\n",
      "mood最高只能為= 300\n"
     ]
    }
   ],
   "source": [
    "class Animal:\n",
    "    def __init__(self, weight, mood):\n",
    "        self.weight = weight\n",
    "        self.mood = mood\n",
    "    def feed(self):pass\n",
    "    def walk(self):pass\n",
    "    def bath(self):pass\n",
    "\n",
    "class Dogs(Animal):\n",
    "    def __init__(self, weight, mood) -> None:\n",
    "        super().__init__(weight, mood) \n",
    "    def feed(self):\n",
    "        self.weight+=0.2\n",
    "        self.mood+=1\n",
    "    def walk(self):\n",
    "        self.weight-=0.2\n",
    "        self.mood+=2\n",
    "    def bath(self):\n",
    "        self.mood-=2\n",
    "    def pt(self):\n",
    "        print(f\"狗狗現在的體重= {round(dog.weight, 1)} kg, 心情 {dog.mood}\")\n",
    "\n",
    "class Shiba(Dogs):\n",
    "    def __init__(self, weight, mood) -> None:\n",
    "        super().__init__(weight, mood) \n",
    "    def feed(self):\n",
    "        self.weight+=0.3\n",
    "        self.mood+=5\n",
    "    def pt(self):\n",
    "        print(f\"柴柴現在的體重= {round(self.weight, 1)} kg, 心情 {self.mood}\")\n",
    "    def mood_constraint(self, constraint):\n",
    "        self.constr = constraint\n",
    "        print(\"mood最高只能為=\" ,self.constr)\n",
    "        if self.mood>self.constr:\n",
    "            print(\"所以，柴犬現在的心情\", self.constr)\n",
    "\n",
    "\n",
    "shiba = Shiba(5, 70)\n",
    "for i in range(20): shiba.feed()\n",
    "for i in range(10): shiba.walk()\n",
    "for i in range(3): shiba.bath()\n",
    "\n",
    "shiba.pt()\n",
    "shiba.mood_constraint(90)\n",
    "shiba.mood_constraint(300)"
   ]
  }
 ],
 "metadata": {
  "kernelspec": {
   "display_name": "base",
   "language": "python",
   "name": "python3"
  },
  "language_info": {
   "codemirror_mode": {
    "name": "ipython",
    "version": 3
   },
   "file_extension": ".py",
   "mimetype": "text/x-python",
   "name": "python",
   "nbconvert_exporter": "python",
   "pygments_lexer": "ipython3",
   "version": "3.11.5"
  },
  "orig_nbformat": 4
 },
 "nbformat": 4,
 "nbformat_minor": 2
}
