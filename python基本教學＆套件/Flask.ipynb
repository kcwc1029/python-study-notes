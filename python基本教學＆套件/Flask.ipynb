{
 "cells": [
  {
   "cell_type": "markdown",
   "metadata": {},
   "source": [
    "安裝 Flask 函式庫"
   ]
  },
  {
   "cell_type": "code",
   "execution_count": 1,
   "metadata": {},
   "outputs": [
    {
     "name": "stdout",
     "output_type": "stream",
     "text": [
      "Requirement already satisfied: Flask in /Users/chenweicheng/anaconda3/lib/python3.11/site-packages (2.2.2)\n",
      "Requirement already satisfied: Werkzeug>=2.2.2 in /Users/chenweicheng/anaconda3/lib/python3.11/site-packages (from Flask) (2.2.3)\n",
      "Requirement already satisfied: Jinja2>=3.0 in /Users/chenweicheng/anaconda3/lib/python3.11/site-packages (from Flask) (3.1.2)\n",
      "Requirement already satisfied: itsdangerous>=2.0 in /Users/chenweicheng/anaconda3/lib/python3.11/site-packages (from Flask) (2.0.1)\n",
      "Requirement already satisfied: click>=8.0 in /Users/chenweicheng/anaconda3/lib/python3.11/site-packages (from Flask) (8.0.4)\n",
      "Requirement already satisfied: MarkupSafe>=2.0 in /Users/chenweicheng/anaconda3/lib/python3.11/site-packages (from Jinja2>=3.0->Flask) (2.1.1)\n"
     ]
    }
   ],
   "source": [
    "!pip install Flask"
   ]
  },
  {
   "cell_type": "markdown",
   "metadata": {},
   "source": [
    "## 建立第一個網頁服務"
   ]
  },
  {
   "cell_type": "code",
   "execution_count": null,
   "metadata": {},
   "outputs": [],
   "source": [
    "from flask import Flask   # 載入 Flask\n",
    "\n",
    "app = Flask(__name__)     # 建立 app 變數為 Flask 物件，__name__ 表示目前執行的程式\n",
    "\n",
    "@app.route(\"/\")           # 使用函式裝飾器，建立一個路由 ( Routes )，可針對主網域 / 發出請求\n",
    "def home():               # 發出請求後會執行 home() 的函式\n",
    "    return \"<h1>hello world</h1>\"   # 執行函式後會回傳特定的網頁內容\n",
    "\n",
    "app.run()   "
   ]
  },
  {
   "cell_type": "markdown",
   "metadata": {},
   "source": [
    "## 設定 GET 與 POST 方法 \n",
    "\n",
    "使用 @app.route 建立路由時，預設採用「GET」的方法，可透過 method 參數設定 GET 或 POST。\n",
    "\n",
    "GET 方法可以透過網址進行溝通，以也就是透過網址列傳送所有的參數內容，POST 方法則是將資料放在 message-body 進行傳送，無法單純透過網址列傳送。"
   ]
  },
  {
   "cell_type": "code",
   "execution_count": null,
   "metadata": {},
   "outputs": [],
   "source": [
    "from flask import Flask   # 載入 Flask\n",
    "\n",
    "app = Flask(__name__)     # 建立 app 變數為 Flask 物件，__name__ 表示目前執行的程式\n",
    "\n",
    "@app.route(\"/\", methods=['POST']) # 失敗，因為該方法是不被允許的，要用GET\n",
    "def home():               \n",
    "    return \"<h1>hello world</h1>\"   \n",
    "\n",
    "# 執行\n",
    "app.run(debug=True)                 "
   ]
  },
  {
   "cell_type": "markdown",
   "metadata": {},
   "source": [
    "## 設定連線埠號 port"
   ]
  },
  {
   "cell_type": "markdown",
   "metadata": {},
   "source": [
    "使用 app.run 執行時，可以設定 port 參數來指定埠號 port，或設定 host 為 0.0.0.0 就能採用本機實際分配到的 IP 作為網址，"
   ]
  },
  {
   "cell_type": "code",
   "execution_count": null,
   "metadata": {},
   "outputs": [],
   "source": [
    "from flask import Flask   # 載入 Flask\n",
    "\n",
    "app = Flask(__name__)     # 建立 app 變數為 Flask 物件，__name__ 表示目前執行的程式\n",
    "\n",
    "@app.route(\"/\", methods=['GET']) # 失敗，因為該方法是不被允許的，要用GET\n",
    "def home():               \n",
    "    return \"<h1>hello world</h1>\"   \n",
    "\n",
    "# 執行\n",
    "app.run(host=\"0.0.0.0\", port=5555, debug=True)  "
   ]
  },
  {
   "cell_type": "markdown",
   "metadata": {},
   "source": [
    "## 路徑規則\n",
    "\n",
    "\n",
    "＄ Flask 提供了五種轉換方式：\n",
    "- string\t預設值，表示不包含斜線的文字。\n",
    "- int\t正整數。\n",
    "- float\t正浮點數。\n",
    "- path\t路徑，類似 string，但可以包含斜線。\n",
    "- uuid\tUUID 字串。"
   ]
  },
  {
   "cell_type": "code",
   "execution_count": null,
   "metadata": {},
   "outputs": [],
   "source": [
    "from flask import Flask   # 載入 Flask\n",
    "\n",
    "app = Flask(__name__)     # 建立 app 變數為 Flask 物件，__name__ 表示目前執行的程式\n",
    "@app.route(\"/\")\n",
    "def home():\n",
    "    return \"<h1>hello world</h1>\"\n",
    "\n",
    "@app.route(\"/ok\")\n",
    "def ok():\n",
    "    return \"<h1>ok</h1>\"\n",
    "\n",
    "@app.route(\"/yes\")\n",
    "def yes():\n",
    "    return \"<h1>yes</h1>\"\n",
    "\n",
    "\n",
    "# 執行\n",
    "app.run(host=\"0.0.0.0\", port=5555, debug=True)  "
   ]
  },
  {
   "cell_type": "code",
   "execution_count": null,
   "metadata": {},
   "outputs": [],
   "source": [
    "from flask import Flask   # 載入 Flask\n",
    "\n",
    "app = Flask(__name__)     # 建立 app 變數為 Flask 物件，__name__ 表示目前執行的程式\n",
    "\n",
    "@app.route(\"/\")\n",
    "def home():\n",
    "    return \"<h1>hello world</h1>\"\n",
    "\n",
    "@app.route(\"/ok\")\n",
    "def ok():\n",
    "    return \"<h1>ok</h1>\"\n",
    "\n",
    "\"\"\"使用變數的方式，去接剩下的路徑\"\"\"\n",
    "@app.route(\"/<msg>\")           \n",
    "def other(msg):                   \n",
    "    return f\"<h1>{msg}</h1>\"   \n",
    "\n",
    "# 執行\n",
    "app.run(host=\"0.0.0.0\", port=5555, debug=True)  "
   ]
  },
  {
   "cell_type": "markdown",
   "metadata": {},
   "source": [
    "## 讀取參數 \n",
    "\n",
    "實作網頁應用時，常常會使用網址的參數 ( GET ) 或 message-body ( POST ) 進行訊息的溝通，透過 Flask 提供的 request 方法，就能讀取傳遞的參數內容。\n",
    "\n",
    "當服務使用 GET 方法時，request.args 會將網址的參數讀取為 tuple 格式，tuple 第一個項目為參數，第二個項目為值。\n",
    "\n",
    "網址參數由網址後方加上 ? 開始，不同參數以 & 區隔，例如127.0.0.1:5000?name=oxxo&age=18，就具有 name 和 age 兩個參數。"
   ]
  },
  {
   "cell_type": "markdown",
   "metadata": {},
   "source": [
    "### @ 使用get讀取參數"
   ]
  },
  {
   "cell_type": "code",
   "execution_count": null,
   "metadata": {},
   "outputs": [],
   "source": [
    "\n",
    "from flask import Flask, request\n",
    "\n",
    "app = Flask(__name__)\n",
    "\n",
    "@app.route(\"/\")\n",
    "def home():\n",
    "    return \"<h1>hello world</h1>\"\n",
    "\n",
    "@app.route(\"/ok\")\n",
    "def ok():\n",
    "    get_str = request.args  # Convert request.args toå a string\n",
    "    print(get_str)\n",
    "    name = get_str.get(\"name\")\n",
    "    return f\"<h1>ok</h1><p>{get_str}</p><p>{name}</p>\"\n",
    "\n",
    "\n",
    "app.run(host=\"0.0.0.0\", port=5555, debug=True)"
   ]
  },
  {
   "cell_type": "markdown",
   "metadata": {},
   "source": [
    "### @ 使用post讀取參數\n",
    "\n",
    "以下程式碼為範例，若要執行的直接查看lab10作業。\n",
    "\n",
    "請確保你的html檔是放在名為 templates的資料夾"
   ]
  },
  {
   "cell_type": "code",
   "execution_count": null,
   "metadata": {},
   "outputs": [],
   "source": [
    "# 最為表單的templates/index.html\n",
    "<!DOCTYPE html>\n",
    "<html>\n",
    "    <head>\n",
    "        <title>test</title>\n",
    "    </head>\n",
    "    <body>\n",
    "        <h3>Simple Form</h3>\n",
    "        <hr />\n",
    "        <!-- {% if name %}\n",
    "        <h1>Hello {{ name }}!</h1>\n",
    "        {% else %}\n",
    "        <h1>Hello, World!</h1>\n",
    "        {% endif %} -->\n",
    "\n",
    "        <form action=\"/result\" method=\"POST\">\n",
    "            <!-- 輸入欄定義，懂都懂 -->\n",
    "            <label for=\"Name\">Name</label>\n",
    "            <input type=\"text\" name=\"name\" id=\"name\" />\n",
    "            <br />\n",
    "            <br />\n",
    "            <label for=\"ID\">ID</label>\n",
    "            <input type=\"text\" name=\"ID\" id=\"ID\" />\n",
    "            <!-- 定義一個按鈕，按下會送出表單內容，懂都懂 -->\n",
    "            <br />\n",
    "            <button>submit</button>\n",
    "        </form>\n",
    "    </body>\n",
    "</html>"
   ]
  },
  {
   "cell_type": "code",
   "execution_count": null,
   "metadata": {},
   "outputs": [],
   "source": [
    "\"\"\"使用post讀取參數\"\"\"\n",
    "from flask import Flask, request, render_template\n",
    "\n",
    "app = Flask(__name__)\n",
    "\n",
    "@app.route(\"/\")\n",
    "def home():\n",
    "    return \"<h1>hello world</h1><a href=\\\"/form\\\">前往lab6作業輸入資料</a>\"\n",
    "\n",
    "@app.route(\"/form\")\n",
    "def form():\n",
    "    name = request.args.get('name') # 如果有導入參數的話，將參數傳入網頁\n",
    "    return render_template('index.html', name=name)  \n",
    "\n",
    "@app.route(\"/result\", methods = ['POST'])\n",
    "def result():\n",
    "    data = request.form\n",
    "    name = data[\"name\"]\n",
    "    return f\"<p>ok</p>{data}<p>{name}</p>\"\n",
    "\n",
    "\n",
    "app.run(host=\"0.0.0.0\", port=5555, debug=True)"
   ]
  },
  {
   "cell_type": "markdown",
   "metadata": {},
   "source": [
    "## lab10 作業"
   ]
  },
  {
   "cell_type": "code",
   "execution_count": null,
   "metadata": {},
   "outputs": [],
   "source": [
    "\"\"\"使用post讀取參數\"\"\"\n",
    "from flask import Flask, request, render_template\n",
    "import random\n",
    "\n",
    "app = Flask(__name__)\n",
    "\n",
    "@app.route(\"/\")\n",
    "def home():\n",
    "    return f\"<a href=\\\"/foundation1\\\">前往lab6作業一</a></br><a href=\\\"/foundation2\\\">前往lab6作業二</a>\"\n",
    "\n",
    "\n",
    "@app.route(\"/foundation1\")\n",
    "def foundation():\n",
    "    return render_template('index.html')\n",
    "\n",
    "@app.route(\"/student_data\", methods = ['POST'])\n",
    "def student_data():\n",
    "    data = request.form\n",
    "    print(data)\n",
    "    return f\"<p>ok</p>\"\n",
    "\n",
    "\n",
    "@app.route(\"/foundation2\")\n",
    "def bonus():\n",
    "    return \"依照query string的方式，與後端玩剪刀石頭布，在url上輸入參數給後端做回應，範例: http://127.0.0.1:5000/rsp?choice=r，這樣代表你出石頭(rock)，以此類推，如果輸入r、s、p以外的內容，則會顯示「輸入有誤，請重新出拳」\"\n",
    "\n",
    "@app.route(\"/rsp\")\n",
    "def rsp():\n",
    "    get_str = request.args\n",
    "    user_choice = get_str.get(\"choice\")\n",
    "\n",
    "    # 電腦隨機抽一個\n",
    "    # 剪刀石頭布的英文是 \"Rock, Paper, Scissors\"。\n",
    "    arr = [\"r\", \"s\", \"p\"]\n",
    "    computer_choice = random.choice(arr)\n",
    "    print(f\"電腦{computer_choice} 玩家{user_choice}\")\n",
    "    if user_choice not in arr:\n",
    "        return f\"輸入有誤，請重新輸入\"\n",
    "    if computer_choice==user_choice:\n",
    "        return f\"平手\"\n",
    "    elif (user_choice == \"r\" and computer_choice == \"s\") or (user_choice == \"s\" and computer_choice == \"p\") or (user_choice == \"p\" and computer_choice == \"r\"):\n",
    "        return f\"你贏了\"\n",
    "    else:\n",
    "        return f\"你輸了\"\n",
    "\n",
    "\n",
    "app.run(host=\"0.0.0.0\", port=3000, debug=True)\n",
    "\n"
   ]
  },
  {
   "cell_type": "code",
   "execution_count": null,
   "metadata": {},
   "outputs": [],
   "source": [
    "<!DOCTYPE html>\n",
    "<html>\n",
    "    <head>\n",
    "        <title>test</title>\n",
    "    </head>\n",
    "    <body>\n",
    "        <h3>Simple Form</h3>\n",
    "        <hr />\n",
    "        <!-- {% if name %}\n",
    "        <h1>Hello {{ name }}!</h1>\n",
    "        {% else %}\n",
    "        <h1>Hello, World!</h1>\n",
    "        {% endif %} -->\n",
    "\n",
    "        <form action=\"/student_data\" method=\"POST\">\n",
    "            <!-- 輸入欄定義，懂都懂 -->\n",
    "            <label for=\"Name\">Name</label>\n",
    "            <input type=\"text\" name=\"name\" id=\"name\" />\n",
    "            <br />\n",
    "            <br />\n",
    "            <label for=\"ID\">ID</label>\n",
    "            <input type=\"text\" name=\"ID\" id=\"ID\" />\n",
    "            <!-- 定義一個按鈕，按下會送出表單內容，懂都懂 -->\n",
    "            <br />\n",
    "            <button>submit</button>\n",
    "        </form>\n",
    "    </body>\n",
    "</html>\n"
   ]
  },
  {
   "cell_type": "markdown",
   "metadata": {},
   "source": [
    "## lab10 作業加分題"
   ]
  },
  {
   "cell_type": "code",
   "execution_count": null,
   "metadata": {},
   "outputs": [],
   "source": [
    "<!DOCTYPE html>\n",
    "<html>\n",
    "    <head>\n",
    "        <title>Food Judge</title>\n",
    "    </head>\n",
    "    <body>\n",
    "        <h3>Score Chart</h3>\n",
    "        <hr />\n",
    "        <form action=\"/set\" method=\"POST\">\n",
    "            <!-- 輸入欄定義，懂都懂 -->\n",
    "            <label for=\"ScoreName\">Score Name</label>\n",
    "            <input type=\"text\" name=\"ScoreName\" id=\"ScoreName\" />\n",
    "            <br />\n",
    "            <br />\n",
    "            <label for=\"Score\">Score</label>\n",
    "            <input type=\"text\" name=\"Score\" id=\"Score\" />\n",
    "            <br />\n",
    "            <button>submit</button>\n",
    "        </form>\n",
    "        <h3>Dictionary Output:</h3>\n",
    "        <ul>\n",
    "            {% for key, value in my_dict.items() %}\n",
    "            <li>{{ key }}: {{ value }}</li>\n",
    "            {% endfor %}\n",
    "        </ul>\n",
    "    </body>\n",
    "</html>\n"
   ]
  },
  {
   "cell_type": "code",
   "execution_count": null,
   "metadata": {},
   "outputs": [],
   "source": [
    "from flask import Flask, request, render_template, redirect\n",
    "import random\n",
    "\n",
    "app = Flask(__name__)\n",
    "\n",
    "my_dict = {\"qq\":\"qq\"}\n",
    "\n",
    "@app.route(\"/\")\n",
    "def foundation():\n",
    "    return render_template('index.html', my_dict=my_dict)\n",
    "\n",
    "@app.route(\"/set\", methods=['POST','GET'])\n",
    "def set():\n",
    "    key = request.form.get('ScoreName')\n",
    "    value = request.form.get('Score')\n",
    "    if key and value:\n",
    "        my_dict[key] = value\n",
    "    return render_template('index.html', my_dict=my_dict)\n",
    "\n",
    "@app.route(\"/reset/y\", methods=['GET'])\n",
    "def reset():\n",
    "    my_dict.clear()\n",
    "    return render_template('index.html', my_dict=my_dict)\n",
    "\n",
    "@app.errorhandler(404)\n",
    "def page_not_found(e):\n",
    "    return redirect(\"/\")\n",
    "\n",
    "\n",
    "app.run(host=\"0.0.0.0\", port=3000, debug=True)"
   ]
  },
  {
   "cell_type": "markdown",
   "metadata": {},
   "source": [
    "## 使用 ngrok 服務\n",
    "\n",
    "在開發網頁應用或是聊天機器人時，通常是使用本機的伺服器，無法真正在外界進行測試，然而透過免費的 ngrok 服務，能夠將本機環境對應到一個 ngrok 網址，公開在整個網際網路中，由於是公開網址，就能真正在外界進行測試。\n",
    "\n",
    "ngrok 網站：https://ngrok.com/\n",
    "\n",
    "登入後，從左側選單點擊 Your Authtoken，會出現一段串接 ngrok 服務所使用的 token ( 點擊網頁最下方 reset token 按鈕可以重設 token )。"
   ]
  },
  {
   "cell_type": "markdown",
   "metadata": {},
   "source": [
    "接下來其實，ngron裡面有教指令，那這邊只是在覆述一次（我這邊使用的是mac）\n",
    "\n",
    "透過Homebrew安裝ngrk\n",
    "```\n",
    "brew install ngrok/ngrok/ngrok\n",
    "```\n",
    "\n",
    "認證，使用命令輸入註冊 ngrok 後取得的 token：\n",
    "```\n",
    "ngrok authtoken <token>\n",
    "```\n",
    "\n",
    "輸入 token 後，繼續使用命令，將本機環境的埠號 port 對應到 ngrok 公開網址 ( 如果使用 Flask 建構的服務，port 預設是 5000 )。\n",
    "\n",
    "（這邊官方是提供ngrok http http://localhost:8080，但我在使用flask時，是用http://127.0.0.1:5000）\n",
    "(5000是flask的預設port)\n",
    "```\n",
    "ngrok http http://127.0.0.1:5000\n",
    "```"
   ]
  }
 ],
 "metadata": {
  "kernelspec": {
   "display_name": "base",
   "language": "python",
   "name": "python3"
  },
  "language_info": {
   "codemirror_mode": {
    "name": "ipython",
    "version": 3
   },
   "file_extension": ".py",
   "mimetype": "text/x-python",
   "name": "python",
   "nbconvert_exporter": "python",
   "pygments_lexer": "ipython3",
   "version": "3.11.5"
  },
  "orig_nbformat": 4
 },
 "nbformat": 4,
 "nbformat_minor": 2
}
