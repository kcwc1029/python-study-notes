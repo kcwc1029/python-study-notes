{
 "cells": [
  {
   "cell_type": "markdown",
   "metadata": {},
   "source": [
    "## csv寫入"
   ]
  },
  {
   "cell_type": "code",
   "execution_count": 6,
   "metadata": {},
   "outputs": [
    {
     "name": "stdout",
     "output_type": "stream",
     "text": [
      "CSV文件已成功創建並寫入數據。\n"
     ]
    }
   ],
   "source": [
    "import csv\n",
    "\n",
    "# 打開一個新的CSV文件用於寫入\n",
    "with open('./output file/data.csv', 'w', newline='', encoding='utf-8') as csvFile:\n",
    "    csvWriter = csv.writer(csvFile)                     # 建立Writer物件   \n",
    "    csvWriter.writerow(['姓名', '年齡', '城市'])\n",
    "    csvWriter.writerow(['Hung', '35', 'Taipei'])\n",
    "    csvWriter.writerow(['James', '40', 'Chicago'])\n",
    "\n",
    "print(\"CSV文件已成功創建並寫入數據。\")\n"
   ]
  },
  {
   "cell_type": "markdown",
   "metadata": {},
   "source": [
    "## 讀取csv"
   ]
  },
  {
   "cell_type": "code",
   "execution_count": 2,
   "metadata": {},
   "outputs": [
    {
     "name": "stdout",
     "output_type": "stream",
     "text": [
      "[['\\ufeff名字', '年度', '產品', '價格', '數量', '業績', '城市'], ['Diana', '2025年', 'Black Tea', '10', '600', '6000', 'New York'], ['Diana', '2025年', 'Green Tea', '7', '660', '4620', 'New York'], ['Diana', '2026年', 'Black Tea', '10', '750', '7500', 'New York'], ['Diana', '2026年', 'Green Tea', '7', '900', '6300', 'New York'], ['Julia', '2025年', 'Black Tea', '10', '1200', '12000', 'New York'], ['Julia', '2026年', 'Black Tea', '10', '1260', '12600', 'New York'], ['Steve', '2025年', 'Black Tea', '10', '1170', '11700', 'Chicago'], ['Steve', '2025年', 'Green Tea', '7', '1260', '8820', 'Chicago'], ['Steve', '2026年', 'Black Tea', '10', '1350', '13500', 'Chicago'], ['Steve', '2026年', 'Green Tea', '7', '1440', '10080', 'Chicago']]\n"
     ]
    }
   ],
   "source": [
    "import csv\n",
    "\n",
    "fn = './input file/csvReport.csv'\n",
    "with open(fn, encoding='utf-8') as csvFile: # 開啟csv檔案\n",
    "    csvReader = csv.reader(csvFile)         # 讀檔案建立Reader物件\n",
    "    listReport = list(csvReader)            # 將資料轉成串列    \n",
    "print(listReport)                           # 輸出串列"
   ]
  },
  {
   "cell_type": "code",
   "execution_count": 3,
   "metadata": {},
   "outputs": [
    {
     "name": "stdout",
     "output_type": "stream",
     "text": [
      "['\\ufeff名字', '年度', '產品', '價格', '數量', '業績', '城市']\n",
      "['Diana', '2025年', 'Black Tea', '10', '600', '6000', 'New York']\n",
      "['Diana', '2025年', 'Green Tea', '7', '660', '4620', 'New York']\n",
      "['Diana', '2026年', 'Black Tea', '10', '750', '7500', 'New York']\n",
      "['Diana', '2026年', 'Green Tea', '7', '900', '6300', 'New York']\n",
      "['Julia', '2025年', 'Black Tea', '10', '1200', '12000', 'New York']\n",
      "['Julia', '2026年', 'Black Tea', '10', '1260', '12600', 'New York']\n",
      "['Steve', '2025年', 'Black Tea', '10', '1170', '11700', 'Chicago']\n",
      "['Steve', '2025年', 'Green Tea', '7', '1260', '8820', 'Chicago']\n",
      "['Steve', '2026年', 'Black Tea', '10', '1350', '13500', 'Chicago']\n",
      "['Steve', '2026年', 'Green Tea', '7', '1440', '10080', 'Chicago']\n"
     ]
    }
   ],
   "source": [
    "import csv\n",
    "\n",
    "fn = './input file/csvReport.csv'\n",
    "with open(fn,encoding='utf-8') as csvFile:  # 開啟csv檔案\n",
    "    csvReader = csv.reader(csvFile)     # 建立Reader物件\n",
    "    listReport = list(csvReader)        # 將資料轉成串列    \n",
    "for row in listReport:                  # 迴圈輸出串列內容\n",
    "    print(row)"
   ]
  },
  {
   "cell_type": "code",
   "execution_count": 4,
   "metadata": {},
   "outputs": [
    {
     "name": "stdout",
     "output_type": "stream",
     "text": [
      "年度 產品\n",
      "Black Tea 6000\n",
      "7 New York\n"
     ]
    }
   ],
   "source": [
    "# 使用串列\n",
    "import csv\n",
    "\n",
    "fn = './input file/csvReport.csv'\n",
    "with open(fn,encoding='utf-8') as csvFile:  # 開啟csv檔案\n",
    "    csvReader = csv.reader(csvFile)     # 建立Reader物件\n",
    "    listReport = list(csvReader)        # 將資料轉成串列    \n",
    "\n",
    "print(listReport[0][1], listReport[0][2])\n",
    "print(listReport[1][2], listReport[1][5])\n",
    "print(listReport[2][3], listReport[2][6])"
   ]
  },
  {
   "cell_type": "markdown",
   "metadata": {},
   "source": [
    "## csv轉xlsx"
   ]
  },
  {
   "cell_type": "code",
   "execution_count": 5,
   "metadata": {},
   "outputs": [],
   "source": [
    "import csv\n",
    "import openpyxl\n",
    "\n",
    "fn = './input file/csvReport.csv'\n",
    "with open(fn,encoding='utf-8') as csvFile:  # 開啟csv檔案\n",
    "    csvReader = csv.reader(csvFile)     # 建立Reader物件\n",
    "    listReport = list(csvReader)        # 將資料轉成串列\n",
    "    \n",
    "wb = openpyxl.Workbook()                # 建立活頁簿\n",
    "ws = wb.active\n",
    "ws.append(listReport[0])                # 寫入標題欄\n",
    "report = listReport[1:]                 # 移除第 0 列的標題欄\n",
    "for row in report:                      # 迴圈處理串列內容\n",
    "    row[3] = int(row[3])                # 將索引 3 欄轉成整數\n",
    "    row[4] = int(row[4])                # 將索引 4 欄轉成整數\n",
    "    row[5] = int(row[5])                # 將索引 5 欄轉成整數\n",
    "    ws.append(row)                      # 將串列寫入儲存格\n",
    "wb.save(\"./output file/csvReport.xlsx\") \n"
   ]
  },
  {
   "cell_type": "markdown",
   "metadata": {},
   "source": [
    "## xlsx轉csv"
   ]
  },
  {
   "cell_type": "code",
   "execution_count": 7,
   "metadata": {},
   "outputs": [],
   "source": [
    "import openpyxl\n",
    "import csv\n",
    "\n",
    "fn = \"./output file/csvReport.xlsx\"\n",
    "fout = \"./output file/csvReport.csv\"\n",
    "wb = openpyxl.load_workbook(fn,data_only=True)            \n",
    "ws = wb.active   \n",
    "with open(fout,'w',newline='',encoding=\"utf-8\") as csvOFile:  # 供寫入\n",
    "    csvWriter = csv.writer(csvOFile)\n",
    "    for row in ws.rows:\n",
    "        csvWriter.writerow([cell.value for cell in row])"
   ]
  }
 ],
 "metadata": {
  "kernelspec": {
   "display_name": "base",
   "language": "python",
   "name": "python3"
  },
  "language_info": {
   "codemirror_mode": {
    "name": "ipython",
    "version": 3
   },
   "file_extension": ".py",
   "mimetype": "text/x-python",
   "name": "python",
   "nbconvert_exporter": "python",
   "pygments_lexer": "ipython3",
   "version": "3.11.7"
  }
 },
 "nbformat": 4,
 "nbformat_minor": 2
}
