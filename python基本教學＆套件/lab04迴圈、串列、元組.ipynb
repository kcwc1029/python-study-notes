{
 "cells": [
  {
   "cell_type": "markdown",
   "metadata": {},
   "source": [
    "## for 迴圈\n",
    "\n",
    "for 迴圈通常用於遍歷序列(如 list、tuple、字串等)中的每個元素。\n"
   ]
  },
  {
   "cell_type": "code",
   "execution_count": 3,
   "metadata": {},
   "outputs": [
    {
     "name": "stdout",
     "output_type": "stream",
     "text": [
      "助教\n",
      "丁丁\n",
      "迪西\n",
      "拉拉\n",
      "小波\n"
     ]
    }
   ],
   "source": [
    "arr = [\"助教\", \"丁丁\",\"迪西\", \"拉拉\", \"小波\"]\n",
    "for fruit in arr:\n",
    "    print(fruit)"
   ]
  },
  {
   "cell_type": "markdown",
   "metadata": {},
   "source": [
    "## 範例\n",
    "Q1: 請寫出9x9乘法表"
   ]
  },
  {
   "cell_type": "code",
   "execution_count": null,
   "metadata": {},
   "outputs": [],
   "source": [
    "# Q1\n",
    "for i in range(1, 10):\n",
    "    for j in range(1, 10):\n",
    "        result = i * j\n",
    "        print(f\"{i}*{j}={result:<-3d}\", end=\" \")\n",
    "    print()         # 換行輸出"
   ]
  },
  {
   "cell_type": "markdown",
   "metadata": {},
   "source": [
    "## while 迴圈\n",
    "\n",
    "while 迴圈則根據一個條件來重複執行程式碼。"
   ]
  },
  {
   "cell_type": "code",
   "execution_count": null,
   "metadata": {},
   "outputs": [],
   "source": [
    "count = 0\n",
    "while count < 5:\n",
    "    print(count)\n",
    "    count += 1 "
   ]
  },
  {
   "cell_type": "markdown",
   "metadata": {},
   "source": [
    "## `pass`\n",
    "\n",
    "`pass` 是 Python 中的一個空語句,它什麼也不做。"
   ]
  },
  {
   "cell_type": "code",
   "execution_count": null,
   "metadata": {},
   "outputs": [],
   "source": [
    "# 當作佔位符使用\n",
    "def my_function():\n",
    "    pass\n",
    "\n",
    "# 在 if 語句中使用\n",
    "x = 5\n",
    "if x > 0:\n",
    "    pass\n",
    "else:\n",
    "    print(\"x is negative\")"
   ]
  },
  {
   "cell_type": "markdown",
   "metadata": {},
   "source": [
    "## `break` 和 `continue`\n",
    "\n",
    "`break` 和 `continue` 是用於控制循環流程的關鍵字。\n",
    "\n",
    "-   `break` 用於立即退出整個循環。\n",
    "-   `continue` 用於跳過本次循環,進入下一次循環。"
   ]
  },
  {
   "cell_type": "code",
   "execution_count": null,
   "metadata": {},
   "outputs": [],
   "source": [
    "# 使用 break\n",
    "for i in range(5):\n",
    "    if i == 3:\n",
    "        break\n",
    "    print(i)  # 輸出: 0 1 2\n",
    "\n",
    "# 使用 continue\n",
    "for i in range(5):\n",
    "    if i == 3:\n",
    "        continue\n",
    "    print(i)  # 輸出: 0 1 2 4"
   ]
  },
  {
   "cell_type": "markdown",
   "metadata": {},
   "source": [
    "## 範例\n",
    "Q1: 一個串列 scores 內含有10個分數元素，請列出最高分的前5個成績。\n",
    "\n",
    "Q2: 有一個串列 players，這個串列的元素也是串列，包含球員名字和身高資料，列出所有身高是200（含）公分以上的球員資料。\n",
    "\n",
    "Q3: ：猜數字遊戲，程式第2行用變數 answer 儲存欲猜的數字，程式執行時用變數 guess 儲存所猜的數字。"
   ]
  },
  {
   "cell_type": "code",
   "execution_count": null,
   "metadata": {},
   "outputs": [],
   "source": [
    "# Q1\n",
    "scores = [94, 82, 60, 91, 88, 79, 61, 93, 99, 77]\n",
    "scores.sort(reverse = True)         # 從大到小排列\n",
    "count = 0\n",
    "for sc in scores:\n",
    "    count += 1\n",
    "    print(sc, end=\" \")\n",
    "    if count == 5:                  # 取前5名成績\n",
    "        break                       # 離開for迴圈"
   ]
  },
  {
   "cell_type": "code",
   "execution_count": null,
   "metadata": {},
   "outputs": [],
   "source": [
    "# Q2\n",
    "players = [['James', 202],\n",
    "           ['Curry', 193],\n",
    "           ['Durant', 205],\n",
    "           ['Jordan', 199],\n",
    "           ['David', 211]]\n",
    "for player in players:\n",
    "    if player[1] < 200:\n",
    "        continue\n",
    "    print(player)"
   ]
  },
  {
   "cell_type": "code",
   "execution_count": null,
   "metadata": {},
   "outputs": [],
   "source": [
    "# Q3\n",
    "answer = 30                 # 正確數字\n",
    "guess = 0                   # 設定所猜數字的初始值\n",
    "while guess != answer:\n",
    "    guess = int(input(\"請猜1-100間的數字 = \"))\n",
    "    if guess > answer:\n",
    "        print(\"請猜小一點\")\n",
    "    elif guess < answer:\n",
    "        print(\"請猜大一點\")\n",
    "    else:\n",
    "        print(\"恭喜答對了\")\n"
   ]
  },
  {
   "cell_type": "markdown",
   "metadata": {},
   "source": [
    "## 迴圈的相關函數（range()、zip()、enumerate()）\n"
   ]
  },
  {
   "cell_type": "code",
   "execution_count": null,
   "metadata": {},
   "outputs": [],
   "source": [
    "# =============================================================================\n",
    "# range()\n",
    "# 用於生成一個整數序列。\n",
    "# `range(start, stop, step)`\n",
    "# =============================================================================\n",
    "\n",
    "# 生成 0, 1, 2, 3, 4\n",
    "print(list(range(5)))  # 輸出: [0, 1, 2, 3, 4]\n",
    "\n",
    "# 生成 5, 6, 7, 8, 9\n",
    "print(list(range(5, 10)))  # 輸出: [5, 6, 7, 8, 9]\n",
    "\n",
    "# 生成 0, 2, 4, 6, 8\n",
    "print(list(range(0, 10, 2)))  # 輸出: [0, 2, 4, 6, 8]"
   ]
  },
  {
   "cell_type": "code",
   "execution_count": null,
   "metadata": {},
   "outputs": [],
   "source": [
    "\"\"\"zip()：用於將多個序列打包成一個個元組。\"\"\"\n",
    "\n",
    "names = ['Alice', 'Bob', 'Charlie']\n",
    "ages = [25, 30, 35]\n",
    "pairs = list(zip(names, ages))\n",
    "print(pairs)  # 輸出: [('Alice', 25), ('Bob', 30), ('Charlie', 35)]"
   ]
  },
  {
   "cell_type": "code",
   "execution_count": null,
   "metadata": {},
   "outputs": [],
   "source": [
    "\"\"\"`enumerate()` 函數用於在遍歷序列時獲取元素的索引和值。\"\"\"\n",
    "fruits = ['apple', 'banana', 'cherry']\n",
    "for i, fruit in enumerate(fruits):\n",
    "    print(i, fruit)\n"
   ]
  },
  {
   "cell_type": "markdown",
   "metadata": {},
   "source": [
    "## 範例\n",
    "Q1: ：以下是某位 NBA 球員的前 10 場的得分數據，可參考程式第2行，請用傳統方式列出那些場次得分超過20分（含）。注意：場次從第1 場開始。"
   ]
  },
  {
   "cell_type": "code",
   "execution_count": null,
   "metadata": {},
   "outputs": [],
   "source": [
    "# Q1\n",
    "scores = [21,29,18,33,12,17,26,28,15,19] \n",
    "# 解析enumerate物件\n",
    "for count, score in enumerate(scores, 1):   # 數值初始是 1\n",
    "    if score >= 20:\n",
    "        print(f\"場次 {count} : 得分 {score} \")"
   ]
  },
  {
   "cell_type": "markdown",
   "metadata": {},
   "source": [
    "## 基本list操作"
   ]
  },
  {
   "cell_type": "code",
   "execution_count": null,
   "metadata": {},
   "outputs": [],
   "source": [
    "# 輸出\n",
    "arr = [\"助教\", \"丁丁\",\"迪西\", \"拉拉\", \"小波\"]\n",
    "print(arr)"
   ]
  },
  {
   "cell_type": "markdown",
   "metadata": {},
   "source": [
    "## 串列索引與切片"
   ]
  },
  {
   "cell_type": "code",
   "execution_count": 12,
   "metadata": {},
   "outputs": [
    {
     "name": "stdout",
     "output_type": "stream",
     "text": [
      "列印james第1場得分 助教\n",
      "列印james第2場得分 丁丁\n",
      "列印james第3場得分 迪西\n",
      "列印james第4場得分 拉拉\n",
      "列印james第5場得分 小波\n",
      "列印james第1-3場得分 ['助教', '丁丁', '迪西']\n",
      "列印james第2-4場得分 ['丁丁', '迪西', '拉拉']\n",
      "列印james第5場得分 小波\n",
      "列印james第5場得分 拉拉\n"
     ]
    }
   ],
   "source": [
    "arr = [\"助教\", \"丁丁\",\"迪西\", \"拉拉\", \"小波\"]\n",
    "\n",
    "# 索引\n",
    "print(\"列印james第1場得分\", arr[0])\n",
    "print(\"列印james第2場得分\", arr[1])\n",
    "print(\"列印james第3場得分\", arr[2])\n",
    "print(\"列印james第4場得分\", arr[3])\n",
    "print(\"列印james第5場得分\", arr[4])\n",
    "\n",
    "\n",
    "# 切片\n",
    "print(\"列印james第1-3場得分\", arr[0:3])\n",
    "print(\"列印james第2-4場得分\", arr[1:4])\n",
    "\n",
    "\n",
    "# 串列的最後索引-1\n",
    "print(\"列印james第5場得分\", arr[-1])\n",
    "print(\"列印james第5場得分\", arr[-2])"
   ]
  },
  {
   "cell_type": "markdown",
   "metadata": {},
   "source": [
    "## 串列相加與相乘  \n"
   ]
  },
  {
   "cell_type": "code",
   "execution_count": null,
   "metadata": {},
   "outputs": [],
   "source": [
    "# 串列相加\n",
    "cars1 = ['Toyota', 'Nissan', 'Honda']\n",
    "print(\"舊汽車銷售品牌\", cars1)\n",
    "cars2 = ['Audi', 'BMW']\n",
    "cars1 += cars2\n",
    "print(\"新汽車銷售品牌\", cars1)\n",
    "\n",
    "\n",
    "# 串列相乘\n",
    "cars = ['toyota', 'nissan', 'honda']\n",
    "nums = [1, 3, 5]\n",
    "carslist = cars * 3           # 串列乘以數字\n",
    "print(carslist)\n",
    "numslist = nums * 5           # 串列乘以數字\n",
    "print(numslist)   "
   ]
  },
  {
   "cell_type": "markdown",
   "metadata": {},
   "source": [
    "## 判斷串列為空"
   ]
  },
  {
   "cell_type": "code",
   "execution_count": 13,
   "metadata": {},
   "outputs": [
    {
     "name": "stdout",
     "output_type": "stream",
     "text": [
      "cars串列長度是 = 3\n",
      "刪除cars串列元素成功\n",
      "cars串列長度是 = 2\n",
      "nums串列長度是 = 0\n",
      "nums串列內沒有元素資料\n"
     ]
    }
   ],
   "source": [
    "cars = ['Toyota', 'Nissan', 'Honda']\n",
    "print(f\"cars串列長度是 = {len(cars)}\")\n",
    "if len(cars) != 0:\n",
    "    del cars[0]\n",
    "    print(\"刪除cars串列元素成功\")\n",
    "    print(f\"cars串列長度是 = {len(cars)}\")\n",
    "else:\n",
    "    print(\"cars串列內沒有元素資料\")\n",
    "nums = []\n",
    "print(f\"nums串列長度是 = {len(nums)}\")\n",
    "if len(nums) != 0:\n",
    "    del nums[0]\n",
    "    print(\"刪除nums串列元素成功\")\n",
    "else:\n",
    "    print(\"nums串列內沒有元素資料\")"
   ]
  },
  {
   "cell_type": "markdown",
   "metadata": {},
   "source": [
    "## 串列其他函數\n",
    "-   len()\n",
    "-   indexing\n",
    "-   count()\n",
    "-   set()\n",
    "-   insert()\n",
    "-   remove()\n",
    "-   clear()\n",
    "-   reverse()\n",
    "-   append()\n",
    "-   pop()\n",
    "-   copy()\n",
    "\n",
    "\n",
    "額外的一些函數：\n",
    "- lower(), upper()\n",
    "- title(), \n",
    "- rstrip(), lstrip(), strip()\n",
    "- center(), rjust(), ljust()\n",
    "- startwith(), endwith()\n",
    "- replace()\n",
    "\n",
    "\n",
    "參考教學：\n",
    "- https://www.youtube.com/watch?v=0yySumZTxJ0\n",
    "- https://www.youtube.com/watch?v=orCsnSHc8Mo"
   ]
  },
  {
   "cell_type": "code",
   "execution_count": 14,
   "metadata": {},
   "outputs": [
    {
     "name": "stdout",
     "output_type": "stream",
     "text": [
      "經過 5 場比賽最高得分 = 31\n",
      "經過 5 場比賽最低得分 = 18\n",
      "經過 5 場比賽得分總計 = 113\n"
     ]
    }
   ],
   "source": [
    "arr = [23, 19, 22, 31, 18]        # 定義james的5場比賽得分\n",
    "games = len(arr)                  # 獲得場次數據    \n",
    "print(f\"經過 {games} 場比賽最高得分 = {max(arr)}\")\n",
    "print(f\"經過 {games} 場比賽最低得分 = {min(arr)}\")\n",
    "print(f\"經過 {games} 場比賽得分總計 = {sum(arr)}\")"
   ]
  },
  {
   "cell_type": "code",
   "execution_count": 15,
   "metadata": {},
   "outputs": [
    {
     "name": "stdout",
     "output_type": "stream",
     "text": [
      "2018年初NBA勇士隊主將陣容 ['Curry', 'Durant', 'Iquodala', 'Bell', 'Thompson']\n",
      "2018年末NBA勇士隊主將陣容 ['Curry', 'Durant', 'Iquodala', 'Thompson']\n"
     ]
    }
   ],
   "source": [
    "warriors = ['Curry', 'Durant', 'Iquodala', 'Bell', 'Thompson']\n",
    "print(\"2018年初NBA勇士隊主將陣容\", warriors)\n",
    "del warriors[3]                 # 不明原因離隊\n",
    "print(\"2018年末NBA勇士隊主將陣容\", warriors)"
   ]
  },
  {
   "cell_type": "markdown",
   "metadata": {},
   "source": [
    "## 增加串列元素\n"
   ]
  },
  {
   "cell_type": "code",
   "execution_count": 16,
   "metadata": {},
   "outputs": [
    {
     "name": "stdout",
     "output_type": "stream",
     "text": [
      "目前串列內容 =  []\n",
      "目前串列內容 =  ['Honda']\n",
      "目前串列內容 =  ['Honda', 'Toyota']\n"
     ]
    }
   ],
   "source": [
    "cars = []     \n",
    "print(\"目前串列內容 = \",cars)\n",
    "cars.append('Honda')\n",
    "print(\"目前串列內容 = \",cars)\n",
    "cars.append('Toyota')\n",
    "print(\"目前串列內容 = \",cars)"
   ]
  },
  {
   "cell_type": "code",
   "execution_count": 18,
   "metadata": {},
   "outputs": [
    {
     "name": "stdout",
     "output_type": "stream",
     "text": [
      "原先cars1串列內容 =  ['toyota', 'nissan', 'honda']\n",
      "原先cars2串列內容 =  ['ford', 'audi']\n",
      "執行append( )後串列cars1內容 =  ['toyota', 'nissan', 'honda', ['ford', 'audi']]\n",
      "執行append( )後串列cars2內容 =  ['ford', 'audi']\n"
     ]
    }
   ],
   "source": [
    "# 也可以使用在鎮列加鎮列\n",
    "\n",
    "cars1 = ['toyota', 'nissan', 'honda']\n",
    "cars2 = ['ford', 'audi']\n",
    "print(\"原先cars1串列內容 = \", cars1)\n",
    "print(\"原先cars2串列內容 = \", cars2)\n",
    "cars1.append(cars2)\n",
    "print(\"執行append( )後串列cars1內容 = \", cars1)\n",
    "print(\"執行append( )後串列cars2內容 = \", cars2)"
   ]
  },
  {
   "cell_type": "markdown",
   "metadata": {},
   "source": [
    "## 插入串列元素"
   ]
  },
  {
   "cell_type": "code",
   "execution_count": 6,
   "metadata": {},
   "outputs": [
    {
     "name": "stdout",
     "output_type": "stream",
     "text": [
      "目前串列內容 =  ['Honda', 'Toyota', 'Ford']\n",
      "在索引1位置插入Nissan\n",
      "新的串列內容 =  ['Honda', 'Nissan', 'Toyota', 'Ford']\n",
      "在索引0位置插入BMW\n",
      "最新串列內容 =  ['BMW', 'Honda', 'Nissan', 'Toyota', 'Ford']\n"
     ]
    }
   ],
   "source": [
    "cars = ['Honda','Toyota','Ford']     \n",
    "print(\"目前串列內容 = \",cars)\n",
    "print(\"在索引1位置插入Nissan\")\n",
    "cars.insert(1,'Nissan')\n",
    "print(\"新的串列內容 = \",cars)\n",
    "print(\"在索引0位置插入BMW\")\n",
    "cars.insert(0,'BMW')\n",
    "print(\"最新串列內容 = \",cars)"
   ]
  },
  {
   "cell_type": "markdown",
   "metadata": {},
   "source": [
    "## 刪除串列元素"
   ]
  },
  {
   "cell_type": "code",
   "execution_count": 7,
   "metadata": {},
   "outputs": [
    {
     "name": "stdout",
     "output_type": "stream",
     "text": [
      "目前串列內容 =  ['Honda', 'Toyota', 'Ford', 'BMW']\n",
      "使用pop( )刪除串列元素\n",
      "所刪除的串列內容是 :  BMW\n",
      "新的串列內容 =  ['Honda', 'Toyota', 'Ford']\n",
      "使用pop(1)刪除串列元素\n",
      "所刪除的串列內容是 :  Toyota\n",
      "新的串列內容 =  ['Honda', 'Ford']\n"
     ]
    }
   ],
   "source": [
    "# 刪除末端元素\n",
    "cars = ['Honda','Toyota','Ford','BMW']     \n",
    "print(\"目前串列內容 = \",cars)\n",
    "print(\"使用pop( )刪除串列元素\")\n",
    "popped_car = cars.pop( )          # 刪除串列末端值\n",
    "print(\"所刪除的串列內容是 : \", popped_car)\n",
    "print(\"新的串列內容 = \",cars)\n",
    "print(\"使用pop(1)刪除串列元素\")\n",
    "popped_car = cars.pop(1)          # 刪除串列索引為1的值\n",
    "print(\"所刪除的串列內容是 : \", popped_car)\n",
    "print(\"新的串列內容 = \",cars)"
   ]
  },
  {
   "cell_type": "code",
   "execution_count": 19,
   "metadata": {},
   "outputs": [
    {
     "name": "stdout",
     "output_type": "stream",
     "text": [
      "目前串列內容 =  ['Honda', 'bmw', 'Toyota', 'Ford', 'bmw']\n",
      "使用remove( )刪除串列元素\n",
      "所刪除的內容是: BMW 因為太貴了\n",
      "新的串列內容 ['Honda', 'Toyota', 'Ford', 'bmw']\n"
     ]
    }
   ],
   "source": [
    "# 刪除指定位置\n",
    "cars = ['Honda','bmw','Toyota','Ford','bmw']     \n",
    "print(\"目前串列內容 = \",cars)\n",
    "print(\"使用remove( )刪除串列元素\")\n",
    "expensive = 'bmw'\n",
    "cars.remove(expensive)            # 刪除第一次出現的元素bmw\n",
    "print(\"所刪除的內容是: \" + expensive.upper( ) + \" 因為太貴了\" )\n",
    "print(\"新的串列內容\",cars)"
   ]
  },
  {
   "cell_type": "markdown",
   "metadata": {},
   "source": [
    "## 刪除整個串列"
   ]
  },
  {
   "cell_type": "code",
   "execution_count": 3,
   "metadata": {},
   "outputs": [
    {
     "name": "stdout",
     "output_type": "stream",
     "text": [
      "[1, 2, 3]\n"
     ]
    },
    {
     "ename": "NameError",
     "evalue": "name 'arr' is not defined",
     "output_type": "error",
     "traceback": [
      "\u001b[0;31m---------------------------------------------------------------------------\u001b[0m",
      "\u001b[0;31mNameError\u001b[0m                                 Traceback (most recent call last)",
      "Cell \u001b[0;32mIn[3], line 4\u001b[0m\n\u001b[1;32m      2\u001b[0m \u001b[39mprint\u001b[39m(arr)\n\u001b[1;32m      3\u001b[0m \u001b[39mdel\u001b[39;00m arr\n\u001b[0;32m----> 4\u001b[0m \u001b[39mprint\u001b[39m(arr)\n",
      "\u001b[0;31mNameError\u001b[0m: name 'arr' is not defined"
     ]
    }
   ],
   "source": [
    "arr = [1, 2, 3]\n",
    "print(arr)\n",
    "del arr\n",
    "print(arr)"
   ]
  },
  {
   "cell_type": "markdown",
   "metadata": {},
   "source": [
    "## 串列排序"
   ]
  },
  {
   "cell_type": "code",
   "execution_count": 20,
   "metadata": {},
   "outputs": [
    {
     "name": "stdout",
     "output_type": "stream",
     "text": [
      "目前串列內容 =  ['Honda', 'bmw', 'Toyota', 'Ford', 'bmw']\n",
      "列印使用[::-1]顛倒排序\n",
      " ['bmw', 'Ford', 'Toyota', 'bmw', 'Honda']\n",
      "使用reverse( )顛倒排序串列元素\n",
      "新的串列內容 =  ['bmw', 'Ford', 'Toyota', 'bmw', 'Honda']\n"
     ]
    }
   ],
   "source": [
    "# =============================================================================\n",
    "# 顛倒排序\n",
    "# =============================================================================\n",
    "cars = ['Honda','bmw','Toyota','Ford','bmw']     \n",
    "print(\"目前串列內容 = \",cars)\n",
    "# 直接列印cars[::-1]顛倒排序,不更改串列內容\n",
    "print(\"列印使用[::-1]顛倒排序\\n\", cars[::-1])\n",
    "# 更改串列內容\n",
    "print(\"使用reverse( )顛倒排序串列元素\")\n",
    "cars.reverse( )            # 顛倒排序串列\n",
    "print(\"新的串列內容 = \",cars)"
   ]
  },
  {
   "cell_type": "code",
   "execution_count": 9,
   "metadata": {},
   "outputs": [
    {
     "name": "stdout",
     "output_type": "stream",
     "text": [
      "目前串列內容 =  ['honda', 'bmw', 'toyota', 'ford']\n",
      "使用sort( )由小排到大\n",
      "排序串列結果 =  ['bmw', 'ford', 'honda', 'toyota']\n",
      "目前串列內容 =  [5, 3, 9, 2]\n",
      "使用sort( )由小排到大\n",
      "排序串列結果 =  [2, 3, 5, 9]\n",
      "使用sort( )由大排到小\n",
      "排序串列結果 =  [9, 5, 3, 2]\n",
      "目前串列car內容 =  ['honda', 'bmw', 'toyota', 'ford']\n",
      "使用sorted( )由小排到大\n",
      "排序串列結果 =  ['bmw', 'ford', 'honda', 'toyota']\n",
      "原先串列car內容 =  ['honda', 'bmw', 'toyota', 'ford']\n",
      "目前串列num內容 =  [5, 3, 9, 2]\n",
      "使用sorted( )由小排到大\n",
      "排序串列結果 =  [2, 3, 5, 9]\n",
      "原先串列num內容 =  [5, 3, 9, 2]\n",
      "使用sorted( )由大排到小\n",
      "排序串列結果 =  [9, 5, 3, 2]\n"
     ]
    }
   ],
   "source": [
    "# =============================================================================\n",
    "# sort(): 直接改變陣列\n",
    "# sorted()： 反之\n",
    "# =============================================================================\n",
    "cars = ['honda','bmw','toyota','ford']     \n",
    "print(\"目前串列內容 = \",cars)\n",
    "print(\"使用sort( )由小排到大\")\n",
    "cars.sort( )            \n",
    "print(\"排序串列結果 = \",cars)\n",
    "nums = [5, 3, 9, 2]\n",
    "print(\"目前串列內容 = \",nums)\n",
    "print(\"使用sort( )由小排到大\")\n",
    "nums.sort( )            \n",
    "print(\"排序串列結果 = \",nums)\n",
    "print(\"使用sort( )由大排到小\")\n",
    "nums.sort(reverse=True)            \n",
    "print(\"排序串列結果 = \",nums)\n",
    "\n",
    "\n",
    "\n",
    "cars = ['honda','bmw','toyota','ford']     \n",
    "print(\"目前串列car內容 = \",cars)\n",
    "print(\"使用sorted( )由小排到大\")\n",
    "cars_sorted = sorted(cars)            \n",
    "print(\"排序串列結果 = \",cars_sorted)\n",
    "print(\"原先串列car內容 = \",cars)\n",
    "nums = [5, 3, 9, 2]     \n",
    "print(\"目前串列num內容 = \",nums)\n",
    "print(\"使用sorted( )由小排到大\")\n",
    "nums_sorted = sorted(nums)            \n",
    "print(\"排序串列結果 = \",nums_sorted)\n",
    "print(\"原先串列num內容 = \",nums)\n",
    "nums_sorted = sorted(nums, reverse=True)\n",
    "print(\"使用sorted( )由大排到小\")\n",
    "print(\"排序串列結果 = \",nums_sorted)\n"
   ]
  },
  {
   "cell_type": "markdown",
   "metadata": {},
   "source": [
    "## 找出串列位置"
   ]
  },
  {
   "cell_type": "code",
   "execution_count": 11,
   "metadata": {},
   "outputs": [
    {
     "name": "stdout",
     "output_type": "stream",
     "text": [
      "所搜尋元素 nissan 第一次出現位置索引是 1\n",
      "所搜尋元素 30 第一次出現位置索引是 2\n"
     ]
    }
   ],
   "source": [
    "cars = ['toyota', 'nissan', 'honda']\n",
    "search_str = 'nissan'\n",
    "i = cars.index(search_str)\n",
    "print(f\"所搜尋元素 {search_str} 第一次出現位置索引是 {i}\")\n",
    "nums = [7, 12, 30, 12, 30, 9, 8]\n",
    "search_val = 30\n",
    "j = nums.index(search_val)\n",
    "print(f\"所搜尋元素 {search_val} 第一次出現位置索引是 {j}\")"
   ]
  },
  {
   "cell_type": "markdown",
   "metadata": {},
   "source": [
    "## 計算陣列元素"
   ]
  },
  {
   "cell_type": "code",
   "execution_count": 1,
   "metadata": {},
   "outputs": [
    {
     "name": "stdout",
     "output_type": "stream",
     "text": [
      "所搜尋元素 nissan 出現 1 次\n",
      "所搜尋元素 30 出現 2 次\n"
     ]
    }
   ],
   "source": [
    "cars = ['toyota', 'nissan', 'honda']\n",
    "search_str = 'nissan'\n",
    "num1 = cars.count(search_str)\n",
    "print(f\"所搜尋元素 {search_str} 出現 {num1} 次\")\n",
    "nums = [7, 12, 30, 12, 30, 9, 8]\n",
    "search_val = 30\n",
    "num2 = nums.count(search_val)\n",
    "print(f\"所搜尋元素 {search_val} 出現 {num2} 次\")"
   ]
  },
  {
   "cell_type": "markdown",
   "metadata": {},
   "source": [
    "## 二為串列\n",
    "\n",
    "![upgit_20240601_1717215362.png](https://raw.githubusercontent.com/kcwc1029/obsidian-upgit-image/main/2024/06/upgit_20240601_1717215362.png)"
   ]
  },
  {
   "cell_type": "code",
   "execution_count": null,
   "metadata": {},
   "outputs": [],
   "source": [
    "sc = [['同學一', 80, 95, 88, 0],\n",
    "      ['同學二', 98, 97, 96, 0],\n",
    "     ]\n",
    "sc[0][4] = sum(sc[0][1:4])\n",
    "sc[1][4] = sum(sc[1][1:4])\n",
    "print(sc[0])\n",
    "print(sc[1])"
   ]
  },
  {
   "cell_type": "markdown",
   "metadata": {},
   "source": [
    "## 串列淺拷貝與深拷貝\n",
    "\n",
    "### 淺拷貝\n",
    "當我們將一個 list 賦值給另一個變數時,我們實際上是建立了一個新的參考,而不是建立一個新的 list。這意味著,當我們修改其中一個 list 時,另一個 list 也會受到影響。\n",
    "\n",
    "### 深拷貝\n",
    "如果我們想要建立一個完全獨立的 list 副本,我們可以使用`copy.deepcopy()`方法進行深拷貝。\n"
   ]
  },
  {
   "cell_type": "code",
   "execution_count": 6,
   "metadata": {},
   "outputs": [
    {
     "name": "stdout",
     "output_type": "stream",
     "text": [
      "[1, 2, [3, 4, 5]]\n",
      "[1, 2, [3, 4, 5]]\n"
     ]
    }
   ],
   "source": [
    "\"\"\"淺拷貝\"\"\"\n",
    "original_list = [1, 2, [3, 4]]\n",
    "new_list = original_list\n",
    "\n",
    "new_list[2].append(5)\n",
    "print(original_list)  # Output: [1, 2, [3, 4, 5]]\n",
    "print(new_list)       # Output: [1, 2, [3, 4, 5]]\n",
    "\n",
    "# NOTE: `new_list`是`original_list`的淺拷貝。當我們修改`new_list`中的巢狀列表時,`original_list`也會受到影響。\n"
   ]
  },
  {
   "cell_type": "code",
   "execution_count": 5,
   "metadata": {},
   "outputs": [
    {
     "name": "stdout",
     "output_type": "stream",
     "text": [
      "[1, 2, [3, 4]]\n",
      "[1, 2, [3, 4, 5]]\n"
     ]
    }
   ],
   "source": [
    "\"\"\"深拷貝\"\"\"\n",
    "import copy\n",
    "\n",
    "original_list = [1, 2, [3, 4]]\n",
    "new_list = copy.deepcopy(original_list)\n",
    "\n",
    "new_list[2].append(5)\n",
    "print(original_list)  # Output: [1, 2, [3, 4]]\n",
    "print(new_list)       # Output: [1, 2, [3, 4, 5]]\n",
    "\n",
    "# NOTE:`new_list`是`original_list`的深拷貝。當我們修改`new_list`中的巢狀列表時,`original_list`不會受到影響。"
   ]
  },
  {
   "cell_type": "code",
   "execution_count": null,
   "metadata": {},
   "outputs": [],
   "source": [
    "# 陣列的潛拷貝\n",
    "mysports = ['basketball', 'baseball']\n",
    "friendsports = mysports\n",
    "print(\"列出mysports位址     = \", id(mysports))\n",
    "print(\"列出friendsports位址 = \", id(friendsports))\n",
    "print(\"我喜歡的運動     = \", mysports)\n",
    "print(\"我朋友喜歡的運動 = \", friendsports)\n",
    "mysports.append('football')\n",
    "friendsports.append('soccer')\n",
    "print(\" -- 新增運動項目後 -- \")\n",
    "print(\"列出mysports位址     = \", id(mysports))\n",
    "print(\"列出friendsports位址 = \", id(friendsports))\n",
    "print(\"我喜歡的最新運動     = \", mysports)\n",
    "print(\"我朋友喜歡的最新運動 = \", friendsports)"
   ]
  },
  {
   "cell_type": "code",
   "execution_count": 2,
   "metadata": {},
   "outputs": [
    {
     "name": "stdout",
     "output_type": "stream",
     "text": [
      "列出mysports位址     =  4427680704\n",
      "列出friendsports位址 =  4427687168\n",
      "我喜歡的運動     =  ['basketball', 'baseball']\n",
      "我朋友喜歡的運動 =  ['basketball', 'baseball']\n",
      " -- 新增運動項目後 -- \n",
      "列出mysports位址     =  4427680704\n",
      "列出friendsports位址 =  4427687168\n",
      "我喜歡的最新運動     =  ['basketball', 'baseball', 'football']\n",
      "我朋友喜歡的最新運動 =  ['basketball', 'baseball', 'soccer']\n"
     ]
    }
   ],
   "source": [
    "# 串列的深拷貝\n",
    "mysports = ['basketball', 'baseball']\n",
    "friendsports = mysports[:]\n",
    "print(\"列出mysports位址     = \", id(mysports))\n",
    "print(\"列出friendsports位址 = \", id(friendsports))\n",
    "print(\"我喜歡的運動     = \", mysports)\n",
    "print(\"我朋友喜歡的運動 = \", friendsports)\n",
    "mysports.append('football')\n",
    "friendsports.append('soccer')\n",
    "print(\" -- 新增運動項目後 -- \")\n",
    "print(\"列出mysports位址     = \", id(mysports))\n",
    "print(\"列出friendsports位址 = \", id(friendsports))\n",
    "print(\"我喜歡的最新運動     = \", mysports)\n",
    "print(\"我朋友喜歡的最新運動 = \", friendsports)"
   ]
  },
  {
   "cell_type": "markdown",
   "metadata": {},
   "source": [
    "## 範例\n",
    "Q1: 考試成績分數分別是 87,99,69,52,78,98,80,92，請列出最高分、最低分、總分、平均。\n",
    "\n",
    "Q2: 有 str1、str2、str3 字串內容如下：\n",
    "```\n",
    "str1=' Python '\n",
    "str2 = 'is '\n",
    "str3 = ' easy'\n",
    "```\n",
    "請使用 strip（）、rstrip（）、Istrip（）處理成'Python is easy'輸出。\n",
    "\n",
    "\n",
    "Q3: ：請建立’Taipei’, ‘Beijing’, ‘Tokyo’, ‘Chicago’, ‘nanjing’5個城市，\n",
    "- 列出這5個城市。\n",
    "- 請在最後位置增加 London。\n",
    "- 請在中央位置增加 Xian。\n",
    "- 請使用 remove（）方法刪除'Tokyo'。\n",
    "\n",
    "Q4: 有一個字串如下：FBI Mark told CIA Linda that the secret USB had given to FBI Peter\n",
    "- 請列出 FBI 出現的次數。\n",
    "- 請將 FBI 字串用 XX 取代。\n",
    "\n",
    "Q5: 請建立一個晚會宴客名單，有3筆資料\"Mary、Josh、Tracy\"。請做一個選單，每次執行皆會列出目前邀請名單，同時有選單，如果選擇1，可以增加一位邀請名單。如果選擇2，可以刪除一位邀請名單。以目前所學指令，執行程式一次只能調整一次，如果刪除名單時輸入錯誤，則列出名單輸入錯誤。"
   ]
  },
  {
   "cell_type": "markdown",
   "metadata": {},
   "source": [
    "## 元祖 tuple\n",
    "\n",
    "定義：order immutable sequence of objects.\n",
    "\n",
    "-   len()\n",
    "-   indexing\n",
    "-   count()\n",
    "-   set()"
   ]
  },
  {
   "cell_type": "markdown",
   "metadata": {},
   "source": [
    "## 元祖基本操作"
   ]
  },
  {
   "cell_type": "code",
   "execution_count": 4,
   "metadata": {},
   "outputs": [
    {
     "name": "stdout",
     "output_type": "stream",
     "text": [
      "(1, 2, 3, 4, 5)\n",
      "('apple', 'orange')\n",
      "('James', 50)\n",
      "(10,)\n",
      "元組mixed資料型態是:  <class 'tuple'>\n"
     ]
    }
   ],
   "source": [
    "# 基本用法\n",
    "numbers1 = (1, 2, 3, 4, 5)      # 定義元組元素是整數\n",
    "fruits = ('apple', 'orange')    # 定義元組元素是字串\n",
    "mixed = ('James', 50)           # 定義元組元素是不同型態資料\n",
    "val_tuple = (10,)               # 只有一個元素的元祖\n",
    "print(numbers1)\n",
    "print(fruits)\n",
    "print(mixed)\n",
    "print(val_tuple)\n",
    "# 列出元組資料型態\n",
    "print(\"元組mixed資料型態是: \",type(mixed))"
   ]
  },
  {
   "cell_type": "markdown",
   "metadata": {},
   "source": [
    "## 讀取元祖"
   ]
  },
  {
   "cell_type": "code",
   "execution_count": null,
   "metadata": {},
   "outputs": [],
   "source": [
    "# 讀取個別元素\n",
    "numbers1 = (1, 2, 3, 4, 5)      # 定義元組元素是整數\n",
    "fruits = ('apple', 'orange')    # 定義元組元素是字串\n",
    "val_tuple = (10,)               # 只有一個元素的元祖\n",
    "print(numbers1[0])              # 以中括號索引值讀取元素內容\n",
    "print(numbers1[4])\n",
    "print(fruits[0],fruits[1])\n",
    "print(val_tuple[0])\n",
    "x, y = ('apple', 'orange')      # 有趣的應用也可以用x,y=fruits\n",
    "print(x,y)"
   ]
  },
  {
   "cell_type": "code",
   "execution_count": 5,
   "metadata": {},
   "outputs": [
    {
     "name": "stdout",
     "output_type": "stream",
     "text": [
      "magic\n",
      "xaab\n",
      "9099\n"
     ]
    }
   ],
   "source": [
    "# 遍歷所有元素 \n",
    "keys = ('magic', 'xaab', 9099)      # 定義元組元素是字串與數字\n",
    "for key in keys:\n",
    "    print(key)"
   ]
  },
  {
   "cell_type": "markdown",
   "metadata": {},
   "source": [
    "## 元祖切片"
   ]
  },
  {
   "cell_type": "code",
   "execution_count": 6,
   "metadata": {},
   "outputs": [
    {
     "name": "stdout",
     "output_type": "stream",
     "text": [
      "('orange', 'banana')\n",
      "('apple', 'orange')\n",
      "('orange', 'banana', 'watermelon', 'grape')\n",
      "('watermelon', 'grape')\n",
      "('apple', 'banana', 'grape')\n"
     ]
    }
   ],
   "source": [
    "fruits = ('apple', 'orange', 'banana', 'watermelon', 'grape')\n",
    "print(fruits[1:3])\n",
    "print(fruits[:2])\n",
    "print(fruits[1:])\n",
    "print(fruits[-2:])\n",
    "print(fruits[0:5:2])"
   ]
  },
  {
   "cell_type": "markdown",
   "metadata": {},
   "source": [
    "## 串列與元祖互換"
   ]
  },
  {
   "cell_type": "code",
   "execution_count": 7,
   "metadata": {},
   "outputs": [
    {
     "name": "stdout",
     "output_type": "stream",
     "text": [
      "列印元組 ('magic', 'xaab', 9099)\n",
      "列印串列 ['magic', 'xaab', 9099, 'secret']\n"
     ]
    }
   ],
   "source": [
    "keys = ('magic', 'xaab', 9099)      # 定義元組元素是字串與數字\n",
    "list_keys = list(keys)              # 將元組改為串列\n",
    "list_keys.append('secret')          # 增加元素\n",
    "print(\"列印元組\", keys)\n",
    "print(\"列印串列\", list_keys)"
   ]
  },
  {
   "cell_type": "code",
   "execution_count": 8,
   "metadata": {},
   "outputs": [
    {
     "name": "stdout",
     "output_type": "stream",
     "text": [
      "列印串列 ['magic', 'xaab', 9099]\n",
      "列印元組 ('magic', 'xaab', 9099)\n"
     ]
    },
    {
     "ename": "AttributeError",
     "evalue": "'tuple' object has no attribute 'append'",
     "output_type": "error",
     "traceback": [
      "\u001b[0;31m---------------------------------------------------------------------------\u001b[0m",
      "\u001b[0;31mAttributeError\u001b[0m                            Traceback (most recent call last)",
      "Cell \u001b[0;32mIn[8], line 5\u001b[0m\n\u001b[1;32m      3\u001b[0m \u001b[39mprint\u001b[39m(\u001b[39m\"\u001b[39m\u001b[39m列印串列\u001b[39m\u001b[39m\"\u001b[39m, keys)\n\u001b[1;32m      4\u001b[0m \u001b[39mprint\u001b[39m(\u001b[39m\"\u001b[39m\u001b[39m列印元組\u001b[39m\u001b[39m\"\u001b[39m, tuple_keys)\n\u001b[0;32m----> 5\u001b[0m tuple_keys\u001b[39m.\u001b[39mappend(\u001b[39m'\u001b[39m\u001b[39msecret\u001b[39m\u001b[39m'\u001b[39m)\n",
      "\u001b[0;31mAttributeError\u001b[0m: 'tuple' object has no attribute 'append'"
     ]
    }
   ],
   "source": [
    "keys = ['magic', 'xaab', 9099]      # 定義串列元素是字串與數字\n",
    "tuple_keys = tuple(keys)            # 將串列改為元組\n",
    "print(\"列印串列\", keys)\n",
    "print(\"列印元組\", tuple_keys)\n",
    "tuple_keys.append('secret')         # 增加元素 --- 錯誤錯誤"
   ]
  },
  {
   "cell_type": "markdown",
   "metadata": {},
   "source": [
    "## 元祖解包與打包"
   ]
  },
  {
   "cell_type": "code",
   "execution_count": 7,
   "metadata": {},
   "outputs": [
    {
     "name": "stdout",
     "output_type": "stream",
     "text": [
      "(1, 'apple', 3.14)\n"
     ]
    }
   ],
   "source": [
    "# Tuple Packing（元组打包）\n",
    "packed_tuple = 1, 'apple', 3.14\n",
    "print(packed_tuple) # (1, 'apple', 3.14)"
   ]
  },
  {
   "cell_type": "code",
   "execution_count": null,
   "metadata": {},
   "outputs": [],
   "source": [
    "# Tuple Unpacking（元组解包）"
   ]
  },
  {
   "cell_type": "code",
   "execution_count": null,
   "metadata": {},
   "outputs": [],
   "source": [
    "my_tuple = (1, 'apple', 3.14)\n",
    "a, b, c = my_tuple\n",
    "print(\"a:\", a) # 1"
   ]
  },
  {
   "cell_type": "markdown",
   "metadata": {},
   "source": [
    "## 範例\n",
    "\n",
    "Q1: 有一個元組的元素有重複 tp = （1,2,3,4,5,2,3,1,4），請建立一個新元組 newtp，此新元組儲存相同但沒有重複的元素。提示：需用串列處理，最後轉成元組。\n",
    "\n",
    "Q2: season元組內容是（'Spring'， 'Summer'， 'Fal！，\"Winter\"），chinese 元組內容是（'春季，'夏季，'秋季，'冬季），請使用 zip（）將這2個元組打包，然後轉成串列列印出來。"
   ]
  },
  {
   "cell_type": "markdown",
   "metadata": {},
   "source": [
    "## pythonic 將程式寫的更 python"
   ]
  },
  {
   "cell_type": "code",
   "execution_count": null,
   "metadata": {},
   "outputs": [],
   "source": [
    "a, b = 10, 15\n",
    "a, b = b, a\n",
    "\n",
    "# eg\n",
    "# if cmd == \"cd\" or cmd == \"dir\" or cmd == \"echo\":\n",
    "if cmd in (\"cd\", \"dir\", \"echo\"): # Better Writing\n",
    "  print(\"valid command\")\n",
    "else: print(\"invalid command\")\n"
   ]
  },
  {
   "cell_type": "markdown",
   "metadata": {},
   "source": [
    "## lab4 作業"
   ]
  },
  {
   "cell_type": "code",
   "execution_count": null,
   "metadata": {},
   "outputs": [],
   "source": [
    "student = [\"A\", \"B\", \"C\"]\n",
    "num_subjects = 3  # 假設每個學生都有 3 個科目\n",
    "ans = []\n",
    "\n",
    "for i in range(len(student)):\n",
    "    print(f\"請輸入學生{student[i]}成績: \")\n",
    "    chinese = int(input(\"國文: \"))\n",
    "    math = int(input(\"數學: \"))\n",
    "    english = int(input(\"英文: \"))\n",
    "\n",
    "    # 計算成績總和\n",
    "    total_score = chinese + math + english\n",
    "    # 計算平均值並保留到小數點後一位\n",
    "    average = round(total_score / num_subjects, 1)\n",
    "    ans.append([student[i], chinese, math, english, average])\n",
    "\n",
    "print(*ans, sep=\"\\n\")"
   ]
  },
  {
   "cell_type": "code",
   "execution_count": null,
   "metadata": {},
   "outputs": [],
   "source": [
    "# 加分題\n",
    "arr = input(\"請輸入一個列表，元素之間用逗號分隔: \")\n",
    "val = int(input(\"請輸入刪除數字: \"))\n",
    "\n",
    "# 使用逗號分割用戶輸入的字符串，並將其轉換為列表\n",
    "arr = arr.split(',')\n",
    "arr = [int(num) for num in arr]  # 將列表中的元素轉換為整數\n",
    "\n",
    "print(f\"輸入的list為{arr}, 要刪除的數字為{val}\")\n",
    "\n",
    "# 刪除列表中等於 val 的元素\n",
    "ans = [num for num in arr if num != val]\n",
    "\n",
    "print(\"刪除後！\")\n",
    "print(f\"list長度剩下:{len(ans)}, list變成:{ans}\")"
   ]
  }
 ],
 "metadata": {
  "kernelspec": {
   "display_name": "base",
   "language": "python",
   "name": "python3"
  },
  "language_info": {
   "codemirror_mode": {
    "name": "ipython",
    "version": 3
   },
   "file_extension": ".py",
   "mimetype": "text/x-python",
   "name": "python",
   "nbconvert_exporter": "python",
   "pygments_lexer": "ipython3",
   "version": "3.11.5"
  },
  "orig_nbformat": 4
 },
 "nbformat": 4,
 "nbformat_minor": 2
}
