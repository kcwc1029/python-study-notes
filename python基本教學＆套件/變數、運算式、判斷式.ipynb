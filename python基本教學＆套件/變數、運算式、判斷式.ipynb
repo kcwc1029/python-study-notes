{
 "cells": [
  {
   "cell_type": "markdown",
   "metadata": {},
   "source": [
    "## python 常見 data type\n",
    "\n",
    "-   int\n",
    "-   float\n",
    "-   string\n",
    "-   boolen\n",
    "-   list\n",
    "-   dictionaries\n",
    "-   tuples\n",
    "-   sets\n",
    "\n",
    "## 基本操作"
   ]
  },
  {
   "cell_type": "code",
   "execution_count": 125,
   "metadata": {},
   "outputs": [
    {
     "name": "stdout",
     "output_type": "stream",
     "text": [
      "15\n",
      "5\n",
      "50\n",
      "2.0\n",
      "0\n"
     ]
    }
   ],
   "source": [
    "print(10+5)\n",
    "print(10-5)\n",
    "print(10*5)\n",
    "print(10/5)\n",
    "print(10%5)"
   ]
  },
  {
   "cell_type": "markdown",
   "metadata": {},
   "source": [
    "## function for Number\n",
    "\n",
    "＄一個函數（function）一次只能返回一個值\n",
    "\n",
    "＄ built-in python methods\n",
    "\n",
    "-   abs()\n",
    "-   str()\n",
    "-   pow()\n",
    "-   max(), man()\n",
    "-   int(), float(), round()\n",
    "-   e, pi, sqrt()\n",
    "-   floor(), ceil()\n",
    "\n",
    "## variable & assignment"
   ]
  },
  {
   "cell_type": "code",
   "execution_count": 126,
   "metadata": {},
   "outputs": [
    {
     "name": "stdout",
     "output_type": "stream",
     "text": [
      "6\n"
     ]
    }
   ],
   "source": [
    "# eg\n",
    "x = 5\n",
    "x = x+1\n",
    "print(x)\n",
    "\n",
    "# 可以將 x = x+1 寫成 x+=1 → syntax sugar（語法糖）"
   ]
  },
  {
   "cell_type": "markdown",
   "metadata": {},
   "source": [
    "## string indexing & slicing\n",
    "\n",
    "＄ 在 python 中，字串是有順序的，並且從 0 開始計算。\n",
    "\n",
    "＄ 字串可以使用單引號也可以使用雙引號。"
   ]
  },
  {
   "cell_type": "code",
   "execution_count": 127,
   "metadata": {},
   "outputs": [
    {
     "name": "stdout",
     "output_type": "stream",
     "text": [
      "h\n",
      "e\n",
      "o\n",
      "l\n",
      "cdefg\n",
      "abcd\n",
      "cdef\n",
      "bd\n"
     ]
    }
   ],
   "source": [
    "# NOTE: indexing\n",
    "my_str = \"helllo\"\n",
    "print(my_str[0])\n",
    "print(my_str[1])\n",
    "print(my_str[-1])\n",
    "print(my_str[-2])\n",
    "# print(my_str[-10]) # index error\n",
    "\n",
    "\n",
    "# NOTE: slicing\n",
    "x = \"abcdefg\"\n",
    "print(x[2:]) # cdefg\n",
    "print(x[:4]) # abcd\n",
    "print(x[2:6]) # cdef\n",
    "print(x[1:5:2]) # bd"
   ]
  },
  {
   "cell_type": "markdown",
   "metadata": {},
   "source": [
    "## comparison operator\n",
    "\n",
    "![upgit_20240418_1713383314.png](https://raw.githubusercontent.com/kcwc1029/obsidian-upgit-image/main/2024/04/upgit_20240418_1713383314.png)\n",
    "\n",
    "## 邏輯運算（logical operator）\n",
    "\n",
    "![upgit_20240418_1713383360.png](https://raw.githubusercontent.com/kcwc1029/obsidian-upgit-image/main/2024/04/upgit_20240418_1713383360.png)\n",
    "![upgit_20240420_1713557595.png](https://raw.githubusercontent.com/kcwc1029/obsidian-upgit-image/main/2024/04/upgit_20240420_1713557595.png)\n",
    "\n",
    "## bitwise operator\n",
    "\n",
    "＄ 在 Python 中,Bitwise 運算子允許我們對整數的二進位位元進行操作。這些運算子在某些特定情況下非常有用,例如位操作、旗標設定等。\n",
    "\n",
    "![upgit_20240418_1713383409.png](https://raw.githubusercontent.com/kcwc1029/obsidian-upgit-image/main/2024/04/upgit_20240418_1713383409.png)"
   ]
  },
  {
   "cell_type": "code",
   "execution_count": 128,
   "metadata": {},
   "outputs": [
    {
     "name": "stdout",
     "output_type": "stream",
     "text": [
      "8\n"
     ]
    }
   ],
   "source": [
    "\n",
    "# AND 運算 (`&`)\n",
    "a = 0b1010  # 10 (十進位)\n",
    "b = 0b1100  # 12 (十進位)\n",
    "print(a & b)  # Output: 8 (二進位: 1000)"
   ]
  },
  {
   "cell_type": "code",
   "execution_count": 129,
   "metadata": {},
   "outputs": [
    {
     "name": "stdout",
     "output_type": "stream",
     "text": [
      "14\n"
     ]
    }
   ],
   "source": [
    "# OR 運算 (`|`)\n",
    "# 將對應位元進行 OR 運算,只要有一個對應位元為 1,結果位元就為 1。\n",
    "a = 0b1010  # 10 (十進位)\n",
    "b = 0b1100  # 12 (十進位)\n",
    "print(a | b)  # Output: 14 (二進位: 1110)"
   ]
  },
  {
   "cell_type": "code",
   "execution_count": 130,
   "metadata": {},
   "outputs": [
    {
     "name": "stdout",
     "output_type": "stream",
     "text": [
      "6\n"
     ]
    }
   ],
   "source": [
    "# XOR 運算 (`^`)\n",
    "# 將對應位元進行 XOR 運算,當對應位元不相同時,結果位元為 1。\n",
    "a = 0b1010  # 10 (十進位)\n",
    "b = 0b1100  # 12 (十進位)\n",
    "print(a ^ b)  # Output: 6 (二進位: 0110)"
   ]
  },
  {
   "cell_type": "code",
   "execution_count": 131,
   "metadata": {},
   "outputs": [
    {
     "name": "stdout",
     "output_type": "stream",
     "text": [
      "-11\n"
     ]
    }
   ],
   "source": [
    "# 取反運算 (`~`)\n",
    "# 將所有位元取反,即 0 變 1,1 變 0。需要注意的是,取反運算在 Python 中會產生一個負值。\n",
    "a = 0b1010  # 10 (十進位)\n",
    "print(~a)  # Output: -11 (二進位: 11111111111111111111111111110101)"
   ]
  },
  {
   "cell_type": "code",
   "execution_count": 132,
   "metadata": {},
   "outputs": [
    {
     "name": "stdout",
     "output_type": "stream",
     "text": [
      "40\n"
     ]
    }
   ],
   "source": [
    "# 左移運算 (`<<`)\n",
    "# 將位元向左移動指定的位數,相當於乘以 2 的指定次方。\n",
    "a = 0b1010  # 10 (十進位)\n",
    "print(a << 2)  # Output: 40 (二進位: 101000)"
   ]
  },
  {
   "cell_type": "code",
   "execution_count": 133,
   "metadata": {},
   "outputs": [
    {
     "name": "stdout",
     "output_type": "stream",
     "text": [
      "5\n"
     ]
    }
   ],
   "source": [
    "# 右移運算 (`>>`)\n",
    "# 將位元向右移動指定的位數,相當於除以 2 的指定次方。\n",
    "a = 0b1010  # 10 (十進位)\n",
    "print(a >> 1)  # Output: 5 (二進位: 101)"
   ]
  },
  {
   "cell_type": "markdown",
   "metadata": {},
   "source": [
    "## membership operator（in, not in）"
   ]
  },
  {
   "cell_type": "code",
   "execution_count": 134,
   "metadata": {},
   "outputs": [],
   "source": [
    "arr = \"ABCD\"\n",
    "if \"A\" in arr: ...\n",
    "\n",
    "a = {\"a\", \"b\", \"c\"}\n",
    "if \"a\" in a: ...\n"
   ]
  },
  {
   "cell_type": "markdown",
   "metadata": {},
   "source": [
    "## 確任類型"
   ]
  },
  {
   "cell_type": "code",
   "execution_count": 135,
   "metadata": {},
   "outputs": [
    {
     "name": "stdout",
     "output_type": "stream",
     "text": [
      "<class 'int'>\n"
     ]
    }
   ],
   "source": [
    "print(type(10)) # <class 'int'>"
   ]
  },
  {
   "cell_type": "markdown",
   "metadata": {},
   "source": [
    "## Python if 語句\n",
    "\n",
    "＄ if 語句是最基本的條件控制語句之一,用於根據條件執行不同的程式碼塊。\n"
   ]
  },
  {
   "cell_type": "code",
   "execution_count": 136,
   "metadata": {},
   "outputs": [
    {
     "name": "stdout",
     "output_type": "stream",
     "text": [
      "x is positive\n"
     ]
    }
   ],
   "source": [
    "x = 5\n",
    "if x > 0:\n",
    "    print(\"x is positive\")\n",
    "elif x < 0:\n",
    "    print(\"x is negative\")\n",
    "else:\n",
    "    print(\"x is zero\")"
   ]
  },
  {
   "cell_type": "markdown",
   "metadata": {},
   "source": [
    "## for 迴圈\n",
    "\n",
    "＄ for 迴圈通常用於遍歷序列(如 list、tuple、字串等)中的每個元素。\n"
   ]
  },
  {
   "cell_type": "code",
   "execution_count": 137,
   "metadata": {},
   "outputs": [
    {
     "name": "stdout",
     "output_type": "stream",
     "text": [
      "apple\n",
      "banana\n",
      "cherry\n"
     ]
    }
   ],
   "source": [
    "fruits = [\"apple\", \"banana\", \"cherry\"]\n",
    "for fruit in fruits:\n",
    "    print(fruit)"
   ]
  },
  {
   "cell_type": "markdown",
   "metadata": {},
   "source": [
    "## while 迴圈\n",
    "\n",
    "＄ while 迴圈則根據一個條件來重複執行程式碼。"
   ]
  },
  {
   "cell_type": "code",
   "execution_count": 138,
   "metadata": {},
   "outputs": [
    {
     "name": "stdout",
     "output_type": "stream",
     "text": [
      "0\n",
      "1\n",
      "2\n",
      "3\n",
      "4\n"
     ]
    }
   ],
   "source": [
    "count = 0\n",
    "while count < 5:\n",
    "    print(count)\n",
    "    count += 1"
   ]
  },
  {
   "cell_type": "markdown",
   "metadata": {},
   "source": [
    "## `pass`\n",
    "\n",
    "`pass` 是 Python 中的一個空語句,它什麼也不做。它主要用於以下情況:\n",
    "\n",
    "-   當你需要在代碼中保留一個佔位符而又不想執行任何操作時。\n",
    "-   作為函數、類或循環的佔位符,當你還沒有準備好實現它們時。\n"
   ]
  },
  {
   "cell_type": "code",
   "execution_count": 139,
   "metadata": {},
   "outputs": [],
   "source": [
    "# 當作佔位符使用\n",
    "def my_function():\n",
    "    pass\n",
    "\n",
    "# 在 if 語句中使用\n",
    "x = 5\n",
    "if x > 0:\n",
    "    pass\n",
    "else:\n",
    "    print(\"x is negative\")"
   ]
  },
  {
   "cell_type": "markdown",
   "metadata": {},
   "source": [
    "## `break` 和 `continue`\n",
    "\n",
    "`break` 和 `continue` 是用於控制循環流程的關鍵字。\n",
    "\n",
    "-   `break` 用於立即退出整個循環。\n",
    "-   `continue` 用於跳過本次循環,進入下一次循環。"
   ]
  },
  {
   "cell_type": "code",
   "execution_count": 140,
   "metadata": {},
   "outputs": [
    {
     "name": "stdout",
     "output_type": "stream",
     "text": [
      "0\n",
      "1\n",
      "2\n",
      "0\n",
      "1\n",
      "2\n",
      "4\n"
     ]
    }
   ],
   "source": [
    "# 使用 break\n",
    "for i in range(5):\n",
    "    if i == 3:\n",
    "        break\n",
    "    print(i)  # 輸出: 0 1 2\n",
    "\n",
    "# 使用 continue\n",
    "for i in range(5):\n",
    "    if i == 3:\n",
    "        continue\n",
    "    print(i)  # 輸出: 0 1 2 4"
   ]
  },
  {
   "cell_type": "markdown",
   "metadata": {},
   "source": [
    "## range()\n",
    "\n",
    "`range()` 函數用於生成一個整數序列。它可以根據需要接受 1 到 3 個參數:\n",
    "\n",
    "-   `range(stop)`\n",
    "-   `range(start, stop)`\n",
    "-   `range(start, stop, step)`"
   ]
  },
  {
   "cell_type": "code",
   "execution_count": 141,
   "metadata": {},
   "outputs": [
    {
     "name": "stdout",
     "output_type": "stream",
     "text": [
      "[0, 1, 2, 3, 4]\n",
      "[5, 6, 7, 8, 9]\n",
      "[0, 2, 4, 6, 8]\n"
     ]
    }
   ],
   "source": [
    "# 生成 0, 1, 2, 3, 4\n",
    "print(list(range(5)))  # 輸出: [0, 1, 2, 3, 4]\n",
    "\n",
    "# 生成 5, 6, 7, 8, 9\n",
    "print(list(range(5, 10)))  # 輸出: [5, 6, 7, 8, 9]\n",
    "\n",
    "# 生成 0, 2, 4, 6, 8\n",
    "print(list(range(0, 10, 2)))  # 輸出: [0, 2, 4, 6, 8]"
   ]
  },
  {
   "cell_type": "markdown",
   "metadata": {},
   "source": [
    "## zip()\n",
    "\n",
    "`zip()` 函數用於將多個序列打包成一個個元組。"
   ]
  },
  {
   "cell_type": "code",
   "execution_count": 142,
   "metadata": {},
   "outputs": [
    {
     "name": "stdout",
     "output_type": "stream",
     "text": [
      "[('Alice', 25), ('Bob', 30), ('Charlie', 35)]\n"
     ]
    }
   ],
   "source": [
    "names = ['Alice', 'Bob', 'Charlie']\n",
    "ages = [25, 30, 35]\n",
    "pairs = list(zip(names, ages))\n",
    "print(pairs)  # 輸出: [('Alice', 25), ('Bob', 30), ('Charlie', 35)]"
   ]
  },
  {
   "cell_type": "markdown",
   "metadata": {},
   "source": [
    "## enumerate()\n",
    "\n",
    "`enumerate()` 函數用於在遍歷序列時獲取元素的索引和值。"
   ]
  },
  {
   "cell_type": "code",
   "execution_count": 143,
   "metadata": {},
   "outputs": [
    {
     "name": "stdout",
     "output_type": "stream",
     "text": [
      "0 apple\n",
      "1 banana\n",
      "2 cherry\n"
     ]
    }
   ],
   "source": [
    "fruits = ['apple', 'banana', 'cherry']\n",
    "for i, fruit in enumerate(fruits):\n",
    "    print(i, fruit)\n"
   ]
  },
  {
   "cell_type": "markdown",
   "metadata": {},
   "source": [
    "## lab3 作業\n",
    "\n",
    "\n",
    "利用 input() 函數與 if else 完成以下程式 :\n",
    "- 判斷奇數偶數\n",
    "- 輸出自己的學號\n",
    "\n",
    "將程式檔命名為 \"lab_03.py\""
   ]
  },
  {
   "cell_type": "code",
   "execution_count": 144,
   "metadata": {},
   "outputs": [
    {
     "ename": "ValueError",
     "evalue": "invalid literal for int() with base 10: ''",
     "output_type": "error",
     "traceback": [
      "\u001b[0;31m---------------------------------------------------------------------------\u001b[0m",
      "\u001b[0;31mValueError\u001b[0m                                Traceback (most recent call last)",
      "Cell \u001b[0;32mIn[144], line 1\u001b[0m\n\u001b[0;32m----> 1\u001b[0m num \u001b[39m=\u001b[39m \u001b[39mint\u001b[39m(\u001b[39minput\u001b[39m(\u001b[39m\"\u001b[39m\u001b[39mPlease input a number:\u001b[39m\u001b[39m\"\u001b[39m))\n\u001b[1;32m      2\u001b[0m ans \u001b[39m=\u001b[39m \u001b[39m\"\u001b[39m\u001b[39meven\u001b[39m\u001b[39m\"\u001b[39m \u001b[39mif\u001b[39;00m num \u001b[39m%\u001b[39m \u001b[39m2\u001b[39m \u001b[39m==\u001b[39m \u001b[39m0\u001b[39m \u001b[39melse\u001b[39;00m \u001b[39m\"\u001b[39m\u001b[39modd\u001b[39m\u001b[39m\"\u001b[39m\n\u001b[1;32m      3\u001b[0m \u001b[39mprint\u001b[39m(\u001b[39mf\u001b[39m\u001b[39m\"\u001b[39m\u001b[39mPlease input your student ID first character: \u001b[39m\u001b[39m{\u001b[39;00mans\u001b[39m}\u001b[39;00m\u001b[39m...\u001b[39m\u001b[39m\"\u001b[39m)\n",
      "\u001b[0;31mValueError\u001b[0m: invalid literal for int() with base 10: ''"
     ]
    }
   ],
   "source": [
    "num = int(input(\"Please input a number:\"))\n",
    "ans = \"even\" if num % 2 == 0 else \"odd\"\n",
    "print(f\"Please input your student ID first character: {ans}...\")\n",
    "ID_first_character = input(\"Please input your student ID first character:\")\n",
    "ID_last_8_numbers = int(input(\"Please input your student ID last 8 numbers:\"))\n",
    "ans = \"even\" if ID_last_8_numbers % 2 == 0 else \"odd\"\n",
    "print(f\"your student ID is {ans}\")\n",
    "print(f\"your student ID is {ID_first_character + str(ID_last_8_numbers)}\")"
   ]
  },
  {
   "cell_type": "markdown",
   "metadata": {},
   "source": [
    "## Lab03 作業加分題\n",
    "\n",
    "利用 input() 函數與 if else 完成以下程式 :\n",
    "\n",
    "輸入三個 \"整數\"，分別代表三角形的三個邊長\n",
    "\n",
    "判斷這三個邊長是否可以構成一個合法的三角形\n",
    "\n",
    "如果可以構成三角形，請判斷三角形的類型（正、等腰、一般三角形）\n",
    "\n",
    "輸出判斷結果，將程式檔命名為 \" triangle.py \""
   ]
  },
  {
   "cell_type": "code",
   "execution_count": 145,
   "metadata": {},
   "outputs": [
    {
     "ename": "ValueError",
     "evalue": "could not convert string to float: ''",
     "output_type": "error",
     "traceback": [
      "\u001b[0;31m---------------------------------------------------------------------------\u001b[0m",
      "\u001b[0;31mValueError\u001b[0m                                Traceback (most recent call last)",
      "Cell \u001b[0;32mIn[145], line 1\u001b[0m\n\u001b[0;32m----> 1\u001b[0m a \u001b[39m=\u001b[39m \u001b[39mfloat\u001b[39m(\u001b[39minput\u001b[39m(\u001b[39m\"\u001b[39m\u001b[39m請輸入第一個邊長: \u001b[39m\u001b[39m\"\u001b[39m))\n\u001b[1;32m      2\u001b[0m b \u001b[39m=\u001b[39m \u001b[39mfloat\u001b[39m(\u001b[39minput\u001b[39m(\u001b[39m\"\u001b[39m\u001b[39m請輸入第一個邊長: \u001b[39m\u001b[39m\"\u001b[39m))\n\u001b[1;32m      3\u001b[0m c \u001b[39m=\u001b[39m \u001b[39mfloat\u001b[39m(\u001b[39minput\u001b[39m(\u001b[39m\"\u001b[39m\u001b[39m請輸入第一個邊長: \u001b[39m\u001b[39m\"\u001b[39m))\n",
      "\u001b[0;31mValueError\u001b[0m: could not convert string to float: ''"
     ]
    }
   ],
   "source": [
    "a = float(input(\"請輸入第一個邊長: \"))\n",
    "b = float(input(\"請輸入第一個邊長: \"))\n",
    "c = float(input(\"請輸入第一個邊長: \"))\n",
    "\n",
    "if a + b <= c or a + c <= b or b + c <= a:\n",
    "  ans = \"這不是一個合法三角形\"\n",
    "elif a == b == c:\n",
    "  ans = \"這是正三角形\"\n",
    "elif a == b or a == c or b == c:\n",
    "  ans = \"這是等腰三角形\"\n",
    "else:\n",
    "  ans = \"這是一般三角形\"\n",
    "print(ans)"
   ]
  }
 ],
 "metadata": {
  "kernelspec": {
   "display_name": "base",
   "language": "python",
   "name": "python3"
  },
  "language_info": {
   "codemirror_mode": {
    "name": "ipython",
    "version": 3
   },
   "file_extension": ".py",
   "mimetype": "text/x-python",
   "name": "python",
   "nbconvert_exporter": "python",
   "pygments_lexer": "ipython3",
   "version": "3.11.5"
  },
  "orig_nbformat": 4
 },
 "nbformat": 4,
 "nbformat_minor": 2
}
