{
 "cells": [
  {
   "cell_type": "markdown",
   "metadata": {},
   "source": [
    "# CSV 檔案操作\n",
    "\n",
    "CSV 是什麼：\n",
    "＄ CSV 是一種以「逗號分隔值」的檔案格式，並以「純文字形式」儲存資料\n",
    "```\n",
    "name,id,color,price\n",
    "apple,1,red,10\n",
    "orange,2,orange,15\n",
    "grap,3,purple,20\n",
    "watermelon,4,green,30\n",
    "```"
   ]
  },
  {
   "cell_type": "markdown",
   "metadata": {},
   "source": [
    "## reader()\tcsvfile\t讀取 CSV 檔案 ( 串列形式 )。"
   ]
  },
  {
   "cell_type": "code",
   "execution_count": 3,
   "metadata": {},
   "outputs": [
    {
     "name": "stdout",
     "output_type": "stream",
     "text": [
      "B\n",
      "['a', 'b', 'c']\n",
      "2\n",
      "['1', '2', '3']\n",
      "Y\n",
      "['x', 'y', 'z']\n"
     ]
    }
   ],
   "source": [
    "import os\n",
    "import csv\n",
    "\n",
    "\n",
    "with open(\"./new_file.csv\", mode=\"r\", newline=\"\", encoding=\"utf8\") as f:\n",
    "    csv_data = csv.reader(f)\n",
    "    for i in csv_data:\n",
    "        # print(i[1].title())\n",
    "        print(i)\n",
    "        "
   ]
  },
  {
   "cell_type": "markdown",
   "metadata": {},
   "source": [
    "## writer()\tcsvfile\t寫入 CSV 檔案 ( 串列形式 )。"
   ]
  },
  {
   "cell_type": "code",
   "execution_count": 1,
   "metadata": {},
   "outputs": [],
   "source": [
    "import csv\n",
    "\n",
    "data = [\n",
    "    ['a', 'b', 'c'],\n",
    "    ['1', '2', '3'],\n",
    "    ['x', 'y', 'z']\n",
    "]\n",
    "\n",
    "with open(\"./new_file.csv\", mode=\"w\", newline=\"\", encoding=\"utf8\") as f:\n",
    "    csv_writer = csv.writer(f, delimiter=\",\")\n",
    "    for row in data:\n",
    "        csv_writer.writerow(row)"
   ]
  },
  {
   "cell_type": "markdown",
   "metadata": {},
   "source": [
    "## DictReader()\tcsvfile\t讀取 CSV 檔案 ( 字典形式 )。\n",
    "\n",
    "csv.DictReader(csvfile) 可以用「字典」的型態，讀取 CSV 檔案，讀取後可以使用字典的操作方式，將每一行 ( row ) 印出，除了 csvfile 為必須填入的參數，還有下列幾個非預設的參數 ( 不填入則使用預設值 )。\n",
    "- fieldnames\t預設 None，會使用 CSV 的第一行作為字典的鍵，如果有設定則會以 fieldnames 的內容作為鍵。\n",
    "- restkey\t預設 None，如果有設定，某一行多出來的資料會以 restkey 設定值作為鍵。\n",
    "- restval\t預設 None，如果有設定，某一行缺少的資料會以 restval 作為值。"
   ]
  },
  {
   "cell_type": "code",
   "execution_count": 8,
   "metadata": {},
   "outputs": [
    {
     "name": "stdout",
     "output_type": "stream",
     "text": [
      "{'a': '1', 'b': '2', 'c': '3'}\n",
      "{'a': 'x', 'b': 'y', 'c': 'z'}\n"
     ]
    }
   ],
   "source": [
    "import os\n",
    "import csv\n",
    "\n",
    "with open(\"./new_file.csv\", mode=\"r\", encoding=\"utf8\") as f:\n",
    "    data = csv.DictReader(f)        # 以字典方式讀取資料\n",
    "    for i in  data:\n",
    "        print(i)"
   ]
  },
  {
   "cell_type": "markdown",
   "metadata": {},
   "source": [
    "如果 CSV 的第一行不是標題 ( 直接就是資料 )，可透過下方的程式碼，使用 fieldnames 加入鍵 ( 為了明顯區隔，範例裡使用 a、b、c、d )，輸出結果可以看到，字典裡所有資料的鍵，都變成 a、b、c、d。"
   ]
  },
  {
   "cell_type": "code",
   "execution_count": 9,
   "metadata": {},
   "outputs": [
    {
     "name": "stdout",
     "output_type": "stream",
     "text": [
      "{'a': 'a', 'b': 'b', 'c': 'c', 'd': None}\n",
      "{'a': '1', 'b': '2', 'c': '3', 'd': None}\n",
      "{'a': 'x', 'b': 'y', 'c': 'z', 'd': None}\n"
     ]
    }
   ],
   "source": [
    "import csv\n",
    "keys = ['a','b','c','d']       # 手動設定字典的鍵\n",
    "with open(\"./new_file.csv\", mode=\"r\", encoding=\"utf8\") as f:\n",
    "    data = csv.DictReader(f, fieldnames=keys)\n",
    "\n",
    "    for i in data:\n",
    "        print(i)"
   ]
  },
  {
   "cell_type": "markdown",
   "metadata": {},
   "source": [
    "## DictWriter()\tcsvfile, fieldnames\t寫入 CSV 檔案 ( 字典形式 )\n",
    "\n",
    "＄ DictWriter(csvfile, fieldnames) 可以用「字典」的型態，將資料寫入 CSV 檔案，寫入的方法分成 writerow 單行寫入以及 writerows 多行寫入兩種"
   ]
  },
  {
   "cell_type": "code",
   "execution_count": 10,
   "metadata": {},
   "outputs": [],
   "source": [
    "\"\"\"單行寫入\"\"\"\n",
    "import os\n",
    "import csv\n",
    "fieldnames = ['name','id','color','price']    # 定義要寫入資料的鍵\n",
    "with open(\"./new_file.csv\", mode=\"a\", encoding=\"utf8\") as f:\n",
    "    data = csv.DictWriter(f, fieldnames=fieldnames)  # 設定 data 為寫入資料\n",
    "    data.writerow({'name':'papaya','id':5,'color':'orange','price':30})\n"
   ]
  },
  {
   "cell_type": "code",
   "execution_count": 11,
   "metadata": {},
   "outputs": [],
   "source": [
    "\"\"\"多行寫入\"\"\"\n",
    "import os\n",
    "import csv\n",
    "fieldnames = ['name','id','color','price']    # 定義要寫入資料的鍵\n",
    "with open(\"./new_file.csv\", mode=\"a\", encoding=\"utf8\") as f:\n",
    "    data = csv.DictWriter(f, fieldnames=fieldnames)  # 設定 data 為寫入資料\n",
    "    w = [\n",
    "        {'name':'papaya','id':5,'color':'orange','price':30},\n",
    "        {'name':'banana','id':6,'color':'yellow','price':20}\n",
    "    ]\n",
    "    data.writerows(w)"
   ]
  },
  {
   "cell_type": "markdown",
   "metadata": {},
   "source": [
    "# JSON 檔案操作"
   ]
  },
  {
   "cell_type": "markdown",
   "metadata": {},
   "source": [
    "## json.load(fp) 會讀取本機 JSON 檔案，並轉換為 Python 的字典 dict 型別\n",
    "\n",
    "函數有load、loads、dump、dumps，那我實測過，覺得知道load跟dump就更用了。"
   ]
  },
  {
   "cell_type": "code",
   "execution_count": 17,
   "metadata": {},
   "outputs": [
    {
     "name": "stdout",
     "output_type": "stream",
     "text": [
      "{'name': 'oxxo', 'sex': 'male', 'age': 18, 'phone': [{'type': 'home', 'number': '07 1234567'}, {'type': 'office', 'number': '07 7654321'}]}\n"
     ]
    }
   ],
   "source": [
    "# 读取 JSON 文件\n",
    "import json\n",
    "\n",
    "with open('./new_file.json', 'r') as f:\n",
    "    data1 = json.load(f)\n",
    "print(data1)\n"
   ]
  },
  {
   "cell_type": "code",
   "execution_count": 20,
   "metadata": {},
   "outputs": [],
   "source": [
    "# 寫入ㄋ JSON 文件\n",
    "import json\n",
    "\n",
    "data = {}\n",
    "data['name'] = 'oxxo'\n",
    "data['age'] = 18\n",
    "data['eat'] = ['apple','orange']\n",
    "with open('./new_file.json', 'w') as f:\n",
    "    json.dump(data, f, indent=4) # indent縮排\n"
   ]
  },
  {
   "cell_type": "markdown",
   "metadata": {},
   "source": [
    "# EXCEL 檔案操作\n",
    "\n",
    "-   worksheet：工作表\n",
    "\n",
    "＄ 先安裝 pip install openpyxl"
   ]
  },
  {
   "cell_type": "code",
   "execution_count": null,
   "metadata": {},
   "outputs": [],
   "source": [
    "# NOTE: 基本讀excel文件的方式 \n",
    "from openpyxl import load_workbook\n",
    "\n",
    "wb = load_workbook(\"./DataFile/Dodgers.xlsx\")\n",
    "result = []\n",
    "\n",
    "ws = wb.worksheets[0] # 第一個工作表\n",
    "for i in ws.iter_rows(): # 選擇行\n",
    "    result.append([j.value for j in i]) # 選擇列\n",
    "\n",
    "print(result,end=\"\\n\")\n",
    "\n",
    "# TODO: 計算全肥打\n",
    "sum = 0\n",
    "for i in result[1:]:\n",
    "    sum+=int(i[11])\n",
    "print(f\"the total homerun：{sum}\")"
   ]
  },
  {
   "cell_type": "code",
   "execution_count": null,
   "metadata": {},
   "outputs": [],
   "source": [
    "# NOTE: 基本寫excel文件的方式\n",
    "# 讀csv轉成excel\n",
    "\n",
    "from openpyxl import Workbook\n",
    "import csv\n",
    "\n",
    "data_rows = []\n",
    "with open(\"./DataFile/file.csv\", mode=\"r\", newline=\"\", encoding=\"utf8\") as f:\n",
    "    csv_data = csv.reader(f)\n",
    "    for i in csv_data:\n",
    "        data_rows.append(i)\n",
    "\n",
    "wb = Workbook()\n",
    "ws = wb.active\n",
    "ws.title = \"my_file\" # 工作表平稱\n",
    "# 工作表頁籤底色\n",
    "ws.sheet_properties.tabColor=\"1072BA\"\n",
    "for i in data_rows:\n",
    "    ws.append(i)\n",
    "\n",
    "wb.save(\"./OutputFile/my_file.xlsx\")"
   ]
  }
 ],
 "metadata": {
  "kernelspec": {
   "display_name": "base",
   "language": "python",
   "name": "python3"
  },
  "language_info": {
   "codemirror_mode": {
    "name": "ipython",
    "version": 3
   },
   "file_extension": ".py",
   "mimetype": "text/x-python",
   "name": "python",
   "nbconvert_exporter": "python",
   "pygments_lexer": "ipython3",
   "version": "3.11.5"
  },
  "orig_nbformat": 4
 },
 "nbformat": 4,
 "nbformat_minor": 2
}
