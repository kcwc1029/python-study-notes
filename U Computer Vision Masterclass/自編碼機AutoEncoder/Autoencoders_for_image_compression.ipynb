{
  "cells": [
    {
      "cell_type": "code",
      "execution_count": 5,
      "metadata": {},
      "outputs": [
        {
          "name": "stdout",
          "output_type": "stream",
          "text": [
            "效果量(d) 0.27\n",
            "Sobel's z 3.15\n",
            "顯著性 0.002 有中介效果\n"
          ]
        }
      ],
      "source": [
        "import math\n",
        "import scipy.stats as stats\n",
        "# 填入 X-->M 的結果\n",
        "A7 = 0.598 # 迴歸係數\n",
        "B7 = 0.145 # 標準誤\n",
        "C7 = 0.487 # 標準化迴歸係數\n",
        "# 填入 M-->Y 的結果\n",
        "D7 = 0.503 # 迴歸係數\n",
        "E7 = 0.103 # 標準誤\n",
        "F7 = 0.558 # 標準化迴歸係數\n",
        "\n",
        "\n",
        "# 計算結果\n",
        "SE = math.sqrt(A7*A7*E7*E7+D7*D7*B7*B7)\n",
        "d = C7*F7 # 效果量d\n",
        "Sobel = A7*D7/SE # Sobel's z\n",
        "cdf_value = stats.norm.cdf(abs(Sobel))\n",
        "p = 2*(1-cdf_value) # 顯著性（p<=0.5表示有中介效果）\n",
        "ans = \"無中介效果\" if p > 0.05 else \"有中介效果\"\n",
        "print(\"效果量(d)\",round(d, 2))\n",
        "print(\"Sobel's z\",round(Sobel, 2))\n",
        "print(\"顯著性\",round(p, 3), ans)"
      ]
    },
    {
      "cell_type": "markdown",
      "metadata": {
        "id": "tWTsZuTecmx2"
      },
      "source": [
        "# Computer Vision Masterclass - Autoencoders for image compression"
      ]
    },
    {
      "cell_type": "markdown",
      "metadata": {
        "id": "2sH-wrJSqlRS"
      },
      "source": [
        "![](https://edit.wpgdadawant.com/uploads/news_file/blog/2023/10230/tinymce/autoencoder.png)\n",
        "\n",
        "![upgit_20240519_1716057798.png](https://raw.githubusercontent.com/kcwc1029/obsidian-upgit-image/main/2024/05/upgit_20240519_1716057798.png)"
      ]
    },
    {
      "cell_type": "markdown",
      "metadata": {
        "id": "PjniyUNzqlRS"
      },
      "source": [
        "AutoEncoder架構分成兩大部分：編碼器（Encoder）和解碼器（Decoder）。\n",
        "\n",
        "編碼器（Encoder）：編碼器將輸入數據轉換為較低維度的表示。\n",
        "\n",
        "解碼器（Decoder）：解碼器則將編碼的表示轉換回原始輸入數據。\n",
        "\n",
        "AutoEncoder應用：\n",
        "- 圖片降噪\n",
        "- 圖片壓縮\n",
        "- 欺詐檢測\n",
        "- 降維\n",
        "\n",
        "AutoEncoder優點\n",
        "- 數據的降維，減少計算量和存儲空間。\n",
        "- 數據的去噪，通過重建輸入來恢復原始信號。\n",
        "- 數據的生成，通過採樣隱藏表示來產生新的數據。\n",
        "- 數據的特徵學習，通過提取隱藏表示來獲得數據的抽象特徵。\n",
        "\n",
        "AutoEncoder缺點\n",
        "- 可能會過度壓縮數據，導致信息的丟失或失真。\n",
        "- 可能會過度擬合數據，導致泛化能力差或無法處理異常值。\n",
        "- 可能會難以訓練，尤其是當隱藏層很深或很寬時，需要調整多個超參數和正則化項。\n",
        "- 可能會難以解釋，尤其是當隱藏表示是非線性或高度非結構化時，需要使用可視化或其他方法來理解其含義。"
      ]
    },
    {
      "cell_type": "code",
      "execution_count": 56,
      "metadata": {
        "colab": {
          "base_uri": "https://localhost:8080/",
          "height": 34
        },
        "id": "fySWLykPByvy",
        "outputId": "fe6d2a93-9151-400b-892d-a2d34580451f"
      },
      "outputs": [
        {
          "data": {
            "application/vnd.google.colaboratory.intrinsic+json": {
              "type": "string"
            },
            "text/plain": [
              "'2.15.0'"
            ]
          },
          "execution_count": 56,
          "metadata": {},
          "output_type": "execute_result"
        }
      ],
      "source": [
        "import tensorflow as tf\n",
        "from tensorflow.keras.models import Sequential, Model\n",
        "from tensorflow.keras.layers import Dense, Input\n",
        "import numpy as np\n",
        "import matplotlib.pyplot as plt\n",
        "tf.__version__"
      ]
    },
    {
      "cell_type": "markdown",
      "metadata": {
        "id": "7lpF9L-OdCc9"
      },
      "source": [
        "## 載入資料集\n",
        "\n",
        "- Dataset: https://keras.io/api/datasets/mnist/"
      ]
    },
    {
      "cell_type": "code",
      "execution_count": 57,
      "metadata": {
        "colab": {
          "base_uri": "https://localhost:8080/"
        },
        "id": "fKFfsAJBCQC0",
        "outputId": "f214730f-8b7c-43f1-bc2c-d786e4c3c537"
      },
      "outputs": [
        {
          "data": {
            "text/plain": [
              "((60000, 28, 28), (60000,), (10000, 28, 28), (10000,))"
            ]
          },
          "execution_count": 57,
          "metadata": {},
          "output_type": "execute_result"
        }
      ],
      "source": [
        "from tensorflow.keras.datasets import mnist\n",
        "\n",
        "(X_train, y_train), (X_test, y_test) = mnist.load_data()\n",
        "X_train.shape, y_train.shape, X_test.shape, y_test.shape"
      ]
    },
    {
      "cell_type": "code",
      "execution_count": 58,
      "metadata": {
        "colab": {
          "base_uri": "https://localhost:8080/"
        },
        "id": "7-0BhNFcDQTu",
        "outputId": "5eafe2cb-0553-44aa-c675-e62f60e9e5d5"
      },
      "outputs": [
        {
          "data": {
            "text/plain": [
              "(5,\n",
              " array([[  0,   0,   0,   0,   0,   0,   0,   0,   0,   0,   0,   0,   0,\n",
              "           0,   0,   0,   0,   0,   0,   0,   0,   0,   0,   0,   0,   0,\n",
              "           0,   0],\n",
              "        [  0,   0,   0,   0,   0,   0,   0,   0,   0,   0,   0,   0,   0,\n",
              "           0,   0,   0,   0,   0,   0,   0,   0,   0,   0,   0,   0,   0,\n",
              "           0,   0],\n",
              "        [  0,   0,   0,   0,   0,   0,   0,   0,   0,   0,   0,   0,   0,\n",
              "           0,   0,   0,   0,   0,   0,   0,   0,   0,   0,   0,   0,   0,\n",
              "           0,   0],\n",
              "        [  0,   0,   0,   0,   0,   0,   0,   0,   0,   0,   0,   0,   0,\n",
              "           0,   0,   0,   0,   0,   0,   0,   0,   0,   0,   0,   0,   0,\n",
              "           0,   0],\n",
              "        [  0,   0,   0,   0,   0,   0,   0,   0,   0,   0,   0,   0,   0,\n",
              "           0,   0,   0,   0,   0,   0,   0,   0,   0,   0,   0,   0,   0,\n",
              "           0,   0],\n",
              "        [  0,   0,   0,   0,   0,   0,   0,   0,   0,   0,   0,   0,   3,\n",
              "          18,  18,  18, 126, 136, 175,  26, 166, 255, 247, 127,   0,   0,\n",
              "           0,   0],\n",
              "        [  0,   0,   0,   0,   0,   0,   0,   0,  30,  36,  94, 154, 170,\n",
              "         253, 253, 253, 253, 253, 225, 172, 253, 242, 195,  64,   0,   0,\n",
              "           0,   0],\n",
              "        [  0,   0,   0,   0,   0,   0,   0,  49, 238, 253, 253, 253, 253,\n",
              "         253, 253, 253, 253, 251,  93,  82,  82,  56,  39,   0,   0,   0,\n",
              "           0,   0],\n",
              "        [  0,   0,   0,   0,   0,   0,   0,  18, 219, 253, 253, 253, 253,\n",
              "         253, 198, 182, 247, 241,   0,   0,   0,   0,   0,   0,   0,   0,\n",
              "           0,   0],\n",
              "        [  0,   0,   0,   0,   0,   0,   0,   0,  80, 156, 107, 253, 253,\n",
              "         205,  11,   0,  43, 154,   0,   0,   0,   0,   0,   0,   0,   0,\n",
              "           0,   0],\n",
              "        [  0,   0,   0,   0,   0,   0,   0,   0,   0,  14,   1, 154, 253,\n",
              "          90,   0,   0,   0,   0,   0,   0,   0,   0,   0,   0,   0,   0,\n",
              "           0,   0],\n",
              "        [  0,   0,   0,   0,   0,   0,   0,   0,   0,   0,   0, 139, 253,\n",
              "         190,   2,   0,   0,   0,   0,   0,   0,   0,   0,   0,   0,   0,\n",
              "           0,   0],\n",
              "        [  0,   0,   0,   0,   0,   0,   0,   0,   0,   0,   0,  11, 190,\n",
              "         253,  70,   0,   0,   0,   0,   0,   0,   0,   0,   0,   0,   0,\n",
              "           0,   0],\n",
              "        [  0,   0,   0,   0,   0,   0,   0,   0,   0,   0,   0,   0,  35,\n",
              "         241, 225, 160, 108,   1,   0,   0,   0,   0,   0,   0,   0,   0,\n",
              "           0,   0],\n",
              "        [  0,   0,   0,   0,   0,   0,   0,   0,   0,   0,   0,   0,   0,\n",
              "          81, 240, 253, 253, 119,  25,   0,   0,   0,   0,   0,   0,   0,\n",
              "           0,   0],\n",
              "        [  0,   0,   0,   0,   0,   0,   0,   0,   0,   0,   0,   0,   0,\n",
              "           0,  45, 186, 253, 253, 150,  27,   0,   0,   0,   0,   0,   0,\n",
              "           0,   0],\n",
              "        [  0,   0,   0,   0,   0,   0,   0,   0,   0,   0,   0,   0,   0,\n",
              "           0,   0,  16,  93, 252, 253, 187,   0,   0,   0,   0,   0,   0,\n",
              "           0,   0],\n",
              "        [  0,   0,   0,   0,   0,   0,   0,   0,   0,   0,   0,   0,   0,\n",
              "           0,   0,   0,   0, 249, 253, 249,  64,   0,   0,   0,   0,   0,\n",
              "           0,   0],\n",
              "        [  0,   0,   0,   0,   0,   0,   0,   0,   0,   0,   0,   0,   0,\n",
              "           0,  46, 130, 183, 253, 253, 207,   2,   0,   0,   0,   0,   0,\n",
              "           0,   0],\n",
              "        [  0,   0,   0,   0,   0,   0,   0,   0,   0,   0,   0,   0,  39,\n",
              "         148, 229, 253, 253, 253, 250, 182,   0,   0,   0,   0,   0,   0,\n",
              "           0,   0],\n",
              "        [  0,   0,   0,   0,   0,   0,   0,   0,   0,   0,  24, 114, 221,\n",
              "         253, 253, 253, 253, 201,  78,   0,   0,   0,   0,   0,   0,   0,\n",
              "           0,   0],\n",
              "        [  0,   0,   0,   0,   0,   0,   0,   0,  23,  66, 213, 253, 253,\n",
              "         253, 253, 198,  81,   2,   0,   0,   0,   0,   0,   0,   0,   0,\n",
              "           0,   0],\n",
              "        [  0,   0,   0,   0,   0,   0,  18, 171, 219, 253, 253, 253, 253,\n",
              "         195,  80,   9,   0,   0,   0,   0,   0,   0,   0,   0,   0,   0,\n",
              "           0,   0],\n",
              "        [  0,   0,   0,   0,  55, 172, 226, 253, 253, 253, 253, 244, 133,\n",
              "          11,   0,   0,   0,   0,   0,   0,   0,   0,   0,   0,   0,   0,\n",
              "           0,   0],\n",
              "        [  0,   0,   0,   0, 136, 253, 253, 253, 212, 135, 132,  16,   0,\n",
              "           0,   0,   0,   0,   0,   0,   0,   0,   0,   0,   0,   0,   0,\n",
              "           0,   0],\n",
              "        [  0,   0,   0,   0,   0,   0,   0,   0,   0,   0,   0,   0,   0,\n",
              "           0,   0,   0,   0,   0,   0,   0,   0,   0,   0,   0,   0,   0,\n",
              "           0,   0],\n",
              "        [  0,   0,   0,   0,   0,   0,   0,   0,   0,   0,   0,   0,   0,\n",
              "           0,   0,   0,   0,   0,   0,   0,   0,   0,   0,   0,   0,   0,\n",
              "           0,   0],\n",
              "        [  0,   0,   0,   0,   0,   0,   0,   0,   0,   0,   0,   0,   0,\n",
              "           0,   0,   0,   0,   0,   0,   0,   0,   0,   0,   0,   0,   0,\n",
              "           0,   0]], dtype=uint8))"
            ]
          },
          "execution_count": 58,
          "metadata": {},
          "output_type": "execute_result"
        }
      ],
      "source": [
        "y_train[0], X_train[0]"
      ]
    },
    {
      "cell_type": "markdown",
      "metadata": {
        "id": "BUi_hVlrhe3Z"
      },
      "source": [
        "## 視覺化圖案"
      ]
    },
    {
      "cell_type": "code",
      "execution_count": 59,
      "metadata": {
        "colab": {
          "base_uri": "https://localhost:8080/",
          "height": 232
        },
        "id": "jblQuBLCEBvC",
        "outputId": "737afb5a-758f-4e74-ccf0-10b08a65470b"
      },
      "outputs": [
        {
          "data": {
            "text/plain": [
              "<matplotlib.image.AxesImage at 0x79be38171f60>"
            ]
          },
          "execution_count": 59,
          "metadata": {},
          "output_type": "execute_result"
        },
        {
          "data": {
            "image/png": "[encoded data removed]",
            "text/plain": [
              "<Figure size 400x200 with 1 Axes>"
            ]
          },
          "metadata": {},
          "output_type": "display_data"
        }
      ],
      "source": [
        "# 輸出一張\n",
        "i = np.random.randint(0, 59999)\n",
        "plt.figure(figsize=(4, 2))\n",
        "plt.imshow(X_train[i], cmap='gray')"
      ]
    },
    {
      "cell_type": "code",
      "execution_count": 60,
      "metadata": {
        "colab": {
          "base_uri": "https://localhost:8080/",
          "height": 732
        },
        "id": "1FEZ0LoPEZ1p",
        "outputId": "60921399-713d-4d42-e833-788430ffcb33"
      },
      "outputs": [
        {
          "data": {
            "image/png": "[encoded data removed]",
            "text/plain": [
              "<Figure size 900x900 with 9 Axes>"
            ]
          },
          "metadata": {},
          "output_type": "display_data"
        }
      ],
      "source": [
        "# 輸出九張\n",
        "width = 3\n",
        "height = 3\n",
        "fig, axes = plt.subplots(height, width, figsize=(9, 9))\n",
        "#print(axes.shape)\n",
        "axes = axes.ravel() # -> (10,10) -> [100]\n",
        "#print(axes.shape)\n",
        "for i in np.arange(0, width * height):\n",
        "  index = np.random.randint(0, 59999)\n",
        "  # plt.figure(figsize=(4, 2))\n",
        "  axes[i].imshow(X_train[index], cmap = 'gray')\n",
        "  axes[i].set_title(y_train[index], fontsize = 8)\n",
        "  axes[i].axis('off')\n",
        "plt.subplots_adjust(hspace=0.1)"
      ]
    },
    {
      "cell_type": "markdown",
      "metadata": {
        "id": "6HePmiMIn6mG"
      },
      "source": [
        "## 預處理圖片"
      ]
    },
    {
      "cell_type": "code",
      "execution_count": 61,
      "metadata": {
        "colab": {
          "base_uri": "https://localhost:8080/"
        },
        "id": "La7xhm6sO-aA",
        "outputId": "6874d5e2-611b-46fd-9866-f5ac2ad71af3"
      },
      "outputs": [
        {
          "name": "stdout",
          "output_type": "stream",
          "text": [
            "0 255\n",
            "0.0 1.0\n"
          ]
        }
      ],
      "source": [
        "print(X_train[0].min(), X_train[0].max())\n",
        "X_train = X_train / 255\n",
        "X_test = X_test / 255\n",
        "print(X_train[0].min(), X_train[0].max())"
      ]
    },
    {
      "cell_type": "code",
      "execution_count": 62,
      "metadata": {
        "colab": {
          "base_uri": "https://localhost:8080/"
        },
        "id": "r20i0m20P2jN",
        "outputId": "2d91e3aa-c1e2-43bb-b9bf-13a54c4b7fed"
      },
      "outputs": [
        {
          "name": "stdout",
          "output_type": "stream",
          "text": [
            "(60000, 28, 28) (10000, 28, 28)\n",
            "(60000, 784) (10000, 784)\n"
          ]
        }
      ],
      "source": [
        "print(X_train.shape, X_test.shape)\n",
        "X_train = X_train.reshape(X_train.shape[0], X_train.shape[1] * X_train.shape[2])\n",
        "X_test = X_test.reshape(X_test.shape[0], X_test.shape[1] * X_test.shape[2])\n",
        "print(X_train.shape, X_test.shape)"
      ]
    },
    {
      "cell_type": "markdown",
      "metadata": {
        "id": "6XcT_IVOs2S1"
      },
      "source": [
        "## 建立線性編碼器"
      ]
    },
    {
      "cell_type": "code",
      "execution_count": 63,
      "metadata": {
        "colab": {
          "base_uri": "https://localhost:8080/"
        },
        "id": "E6PwfYUkSqhh",
        "outputId": "e8bbffe7-5c28-4305-f0b2-3f1fe75bde5e"
      },
      "outputs": [
        {
          "name": "stdout",
          "output_type": "stream",
          "text": [
            "Model: \"sequential_4\"\n",
            "_________________________________________________________________\n",
            " Layer (type)                Output Shape              Param #   \n",
            "=================================================================\n",
            " dense_18 (Dense)            (None, 128)               100480    \n",
            "                                                                 \n",
            " dense_19 (Dense)            (None, 64)                8256      \n",
            "                                                                 \n",
            " dense_20 (Dense)            (None, 32)                2080      \n",
            "                                                                 \n",
            " dense_21 (Dense)            (None, 64)                2112      \n",
            "                                                                 \n",
            " dense_22 (Dense)            (None, 128)               8320      \n",
            "                                                                 \n",
            " dense_23 (Dense)            (None, 784)               101136    \n",
            "                                                                 \n",
            "=================================================================\n",
            "Total params: 222384 (868.69 KB)\n",
            "Trainable params: 222384 (868.69 KB)\n",
            "Non-trainable params: 0 (0.00 Byte)\n",
            "_________________________________________________________________\n"
          ]
        }
      ],
      "source": [
        "# 784 - 128 - 64 - 32 - 64 - 128 - 784\n",
        "autoencoder = Sequential()\n",
        "\n",
        "# Encode\n",
        "autoencoder.add(Dense(units = 128, activation='relu', input_dim = 784))\n",
        "autoencoder.add(Dense(units = 64, activation='relu'))\n",
        "autoencoder.add(Dense(units = 32, activation='relu')) # Encoded image\n",
        "\n",
        "# Decode\n",
        "autoencoder.add(Dense(units = 64, activation='relu'))\n",
        "autoencoder.add(Dense(units = 128, activation='relu'))\n",
        "autoencoder.add(Dense(units = 784, activation='sigmoid'))\n",
        "\n",
        "autoencoder.summary()"
      ]
    },
    {
      "cell_type": "code",
      "execution_count": 64,
      "metadata": {
        "colab": {
          "base_uri": "https://localhost:8080/"
        },
        "id": "GjKDTvonUG0E",
        "outputId": "b5d88e20-5031-48fd-e27f-ee6417921c45"
      },
      "outputs": [
        {
          "name": "stdout",
          "output_type": "stream",
          "text": [
            "Epoch 1/50\n",
            "1875/1875 [==============================] - 10s 5ms/step - loss: 0.1522 - accuracy: 0.0106\n",
            "Epoch 2/50\n",
            "1875/1875 [==============================] - 8s 4ms/step - loss: 0.1083 - accuracy: 0.0111\n",
            "Epoch 3/50\n",
            "1875/1875 [==============================] - 7s 4ms/step - loss: 0.1003 - accuracy: 0.0126\n",
            "Epoch 4/50\n",
            "1875/1875 [==============================] - 8s 4ms/step - loss: 0.0957 - accuracy: 0.0135\n",
            "Epoch 5/50\n",
            "1875/1875 [==============================] - 7s 4ms/step - loss: 0.0929 - accuracy: 0.0127\n",
            "Epoch 6/50\n",
            "1875/1875 [==============================] - 8s 4ms/step - loss: 0.0907 - accuracy: 0.0126\n",
            "Epoch 7/50\n",
            "1875/1875 [==============================] - 7s 4ms/step - loss: 0.0890 - accuracy: 0.0136\n",
            "Epoch 8/50\n",
            "1875/1875 [==============================] - 8s 4ms/step - loss: 0.0876 - accuracy: 0.0136\n",
            "Epoch 9/50\n",
            "1875/1875 [==============================] - 7s 4ms/step - loss: 0.0866 - accuracy: 0.0139\n",
            "Epoch 10/50\n",
            "1875/1875 [==============================] - 7s 4ms/step - loss: 0.0859 - accuracy: 0.0137\n",
            "Epoch 11/50\n",
            "1875/1875 [==============================] - 8s 4ms/step - loss: 0.0853 - accuracy: 0.0131\n",
            "Epoch 12/50\n",
            "1875/1875 [==============================] - 7s 4ms/step - loss: 0.0847 - accuracy: 0.0137\n",
            "Epoch 13/50\n",
            "1875/1875 [==============================] - 8s 4ms/step - loss: 0.0843 - accuracy: 0.0129\n",
            "Epoch 14/50\n",
            "1875/1875 [==============================] - 7s 4ms/step - loss: 0.0840 - accuracy: 0.0137\n",
            "Epoch 15/50\n",
            "1875/1875 [==============================] - 8s 4ms/step - loss: 0.0837 - accuracy: 0.0129\n",
            "Epoch 16/50\n",
            "1875/1875 [==============================] - 8s 4ms/step - loss: 0.0835 - accuracy: 0.0131\n",
            "Epoch 17/50\n",
            "1875/1875 [==============================] - 7s 4ms/step - loss: 0.0832 - accuracy: 0.0142\n",
            "Epoch 18/50\n",
            "1875/1875 [==============================] - 8s 4ms/step - loss: 0.0830 - accuracy: 0.0134\n",
            "Epoch 19/50\n",
            "1875/1875 [==============================] - 7s 4ms/step - loss: 0.0829 - accuracy: 0.0137\n",
            "Epoch 20/50\n",
            "1875/1875 [==============================] - 8s 4ms/step - loss: 0.0827 - accuracy: 0.0142\n",
            "Epoch 21/50\n",
            "1875/1875 [==============================] - 7s 4ms/step - loss: 0.0826 - accuracy: 0.0140\n",
            "Epoch 22/50\n",
            "1875/1875 [==============================] - 8s 4ms/step - loss: 0.0824 - accuracy: 0.0139\n",
            "Epoch 23/50\n",
            "1875/1875 [==============================] - 7s 4ms/step - loss: 0.0823 - accuracy: 0.0139\n",
            "Epoch 24/50\n",
            "1875/1875 [==============================] - 7s 4ms/step - loss: 0.0822 - accuracy: 0.0135\n",
            "Epoch 25/50\n",
            "1875/1875 [==============================] - 8s 4ms/step - loss: 0.0821 - accuracy: 0.0139\n",
            "Epoch 26/50\n",
            "1875/1875 [==============================] - 7s 4ms/step - loss: 0.0820 - accuracy: 0.0143\n",
            "Epoch 27/50\n",
            "1875/1875 [==============================] - 8s 4ms/step - loss: 0.0819 - accuracy: 0.0137\n",
            "Epoch 28/50\n",
            "1875/1875 [==============================] - 7s 4ms/step - loss: 0.0818 - accuracy: 0.0144\n",
            "Epoch 29/50\n",
            "1875/1875 [==============================] - 8s 4ms/step - loss: 0.0817 - accuracy: 0.0143\n",
            "Epoch 30/50\n",
            "1875/1875 [==============================] - 7s 4ms/step - loss: 0.0816 - accuracy: 0.0151\n",
            "Epoch 31/50\n",
            "1875/1875 [==============================] - 7s 4ms/step - loss: 0.0816 - accuracy: 0.0143\n",
            "Epoch 32/50\n",
            "1875/1875 [==============================] - 8s 4ms/step - loss: 0.0815 - accuracy: 0.0152\n",
            "Epoch 33/50\n",
            "1875/1875 [==============================] - 7s 4ms/step - loss: 0.0814 - accuracy: 0.0139\n",
            "Epoch 34/50\n",
            "1875/1875 [==============================] - 8s 4ms/step - loss: 0.0814 - accuracy: 0.0139\n",
            "Epoch 35/50\n",
            "1875/1875 [==============================] - 7s 4ms/step - loss: 0.0813 - accuracy: 0.0143\n",
            "Epoch 36/50\n",
            "1875/1875 [==============================] - 9s 5ms/step - loss: 0.0812 - accuracy: 0.0146\n",
            "Epoch 37/50\n",
            "1875/1875 [==============================] - 8s 4ms/step - loss: 0.0812 - accuracy: 0.0142\n",
            "Epoch 38/50\n",
            "1875/1875 [==============================] - 7s 4ms/step - loss: 0.0811 - accuracy: 0.0145\n",
            "Epoch 39/50\n",
            "1875/1875 [==============================] - 8s 4ms/step - loss: 0.0810 - accuracy: 0.0144\n",
            "Epoch 40/50\n",
            "1875/1875 [==============================] - 7s 4ms/step - loss: 0.0810 - accuracy: 0.0151\n",
            "Epoch 41/50\n",
            "1875/1875 [==============================] - 8s 4ms/step - loss: 0.0809 - accuracy: 0.0146\n",
            "Epoch 42/50\n",
            "1875/1875 [==============================] - 7s 4ms/step - loss: 0.0809 - accuracy: 0.0148\n",
            "Epoch 43/50\n",
            "1875/1875 [==============================] - 8s 4ms/step - loss: 0.0809 - accuracy: 0.0153\n",
            "Epoch 44/50\n",
            "1875/1875 [==============================] - 7s 4ms/step - loss: 0.0808 - accuracy: 0.0157\n",
            "Epoch 45/50\n",
            "1875/1875 [==============================] - 7s 4ms/step - loss: 0.0808 - accuracy: 0.0154\n",
            "Epoch 46/50\n",
            "1875/1875 [==============================] - 8s 4ms/step - loss: 0.0807 - accuracy: 0.0140\n",
            "Epoch 47/50\n",
            "1875/1875 [==============================] - 7s 4ms/step - loss: 0.0807 - accuracy: 0.0150\n",
            "Epoch 48/50\n",
            "1875/1875 [==============================] - 8s 4ms/step - loss: 0.0807 - accuracy: 0.0151\n",
            "Epoch 49/50\n",
            "1875/1875 [==============================] - 7s 4ms/step - loss: 0.0806 - accuracy: 0.0150\n",
            "Epoch 50/50\n",
            "1875/1875 [==============================] - 8s 4ms/step - loss: 0.0806 - accuracy: 0.0143\n"
          ]
        },
        {
          "data": {
            "text/plain": [
              "<keras.src.callbacks.History at 0x79bec8ebbcd0>"
            ]
          },
          "execution_count": 64,
          "metadata": {},
          "output_type": "execute_result"
        }
      ],
      "source": [
        "autoencoder.compile(optimizer='Adam', loss='binary_crossentropy', metrics = ['accuracy'])\n",
        "autoencoder.fit(X_train, X_train, epochs=50)"
      ]
    },
    {
      "cell_type": "markdown",
      "metadata": {
        "id": "L4m5DrJzxmmS"
      },
      "source": [
        "## 對圖片進行編碼"
      ]
    },
    {
      "cell_type": "markdown",
      "metadata": {
        "id": "egI0-qc5yspl"
      },
      "source": [
        "查看所有層數"
      ]
    },
    {
      "cell_type": "code",
      "execution_count": 65,
      "metadata": {
        "colab": {
          "base_uri": "https://localhost:8080/"
        },
        "id": "y6wu7KWCXhJE",
        "outputId": "ede74319-e0a8-4755-a524-b5debec7c468"
      },
      "outputs": [
        {
          "name": "stdout",
          "output_type": "stream",
          "text": [
            "Model: \"sequential_4\"\n",
            "_________________________________________________________________\n",
            " Layer (type)                Output Shape              Param #   \n",
            "=================================================================\n",
            " dense_18 (Dense)            (None, 128)               100480    \n",
            "                                                                 \n",
            " dense_19 (Dense)            (None, 64)                8256      \n",
            "                                                                 \n",
            " dense_20 (Dense)            (None, 32)                2080      \n",
            "                                                                 \n",
            " dense_21 (Dense)            (None, 64)                2112      \n",
            "                                                                 \n",
            " dense_22 (Dense)            (None, 128)               8320      \n",
            "                                                                 \n",
            " dense_23 (Dense)            (None, 784)               101136    \n",
            "                                                                 \n",
            "=================================================================\n",
            "Total params: 222384 (868.69 KB)\n",
            "Trainable params: 222384 (868.69 KB)\n",
            "Non-trainable params: 0 (0.00 Byte)\n",
            "_________________________________________________________________\n"
          ]
        }
      ],
      "source": [
        "autoencoder.summary()"
      ]
    },
    {
      "cell_type": "code",
      "execution_count": 67,
      "metadata": {
        "colab": {
          "base_uri": "https://localhost:8080/"
        },
        "id": "ROrgh0xGXnw5",
        "outputId": "ca209c3f-5d5b-477c-b114-fc553f1587cd"
      },
      "outputs": [
        {
          "name": "stdout",
          "output_type": "stream",
          "text": [
            "模型起點 KerasTensor(type_spec=TensorSpec(shape=(None, 784), dtype=tf.float32, name='dense_18_input'), name='dense_18_input', description=\"created by layer 'dense_18_input'\")\n",
            "KerasTensor(type_spec=TensorSpec(shape=(None, 32), dtype=tf.float32, name=None), name='dense_20/Relu:0', description=\"created by layer 'dense_20'\")\n"
          ]
        }
      ],
      "source": [
        " # 檢查他的第一層\n",
        "print(\"模型起點\", autoencoder.input)\n",
        "\n",
        "# 指定到中間那一層\n",
        "print(autoencoder.get_layer('dense_20').output)"
      ]
    },
    {
      "cell_type": "code",
      "execution_count": 68,
      "metadata": {
        "colab": {
          "base_uri": "https://localhost:8080/"
        },
        "id": "6gABHRPZXY8p",
        "outputId": "c4d99c3a-1492-40e5-f7ec-bf78cd97a035"
      },
      "outputs": [
        {
          "name": "stdout",
          "output_type": "stream",
          "text": [
            "Model: \"model_2\"\n",
            "_________________________________________________________________\n",
            " Layer (type)                Output Shape              Param #   \n",
            "=================================================================\n",
            " dense_18_input (InputLayer  [(None, 784)]             0         \n",
            " )                                                               \n",
            "                                                                 \n",
            " dense_18 (Dense)            (None, 128)               100480    \n",
            "                                                                 \n",
            " dense_19 (Dense)            (None, 64)                8256      \n",
            "                                                                 \n",
            " dense_20 (Dense)            (None, 32)                2080      \n",
            "                                                                 \n",
            "=================================================================\n",
            "Total params: 110816 (432.88 KB)\n",
            "Trainable params: 110816 (432.88 KB)\n",
            "Non-trainable params: 0 (0.00 Byte)\n",
            "_________________________________________________________________\n"
          ]
        }
      ],
      "source": [
        "encoder = Model(inputs = autoencoder.input, outputs = autoencoder.get_layer('dense_20').output)\n",
        "encoder.summary()"
      ]
    },
    {
      "cell_type": "markdown",
      "metadata": {
        "id": "Aekk2J4fzJcw"
      },
      "source": [
        "使用圖片來做測試"
      ]
    },
    {
      "cell_type": "code",
      "execution_count": 70,
      "metadata": {
        "colab": {
          "base_uri": "https://localhost:8080/",
          "height": 232
        },
        "id": "zKgMG3nTYYHI",
        "outputId": "261c2dfd-2398-4f2d-b311-f19381228237"
      },
      "outputs": [
        {
          "name": "stdout",
          "output_type": "stream",
          "text": [
            "(784,)\n"
          ]
        },
        {
          "data": {
            "image/png": "[encoded data removed]",
            "text/plain": [
              "<Figure size 400x200 with 1 Axes>"
            ]
          },
          "metadata": {},
          "output_type": "display_data"
        }
      ],
      "source": [
        "print(X_test[0].shape)\n",
        "plt.figure(figsize=(4, 2))\n",
        "plt.imshow(X_test[0].reshape(28,28), cmap='gray');"
      ]
    },
    {
      "cell_type": "code",
      "execution_count": 71,
      "metadata": {
        "colab": {
          "base_uri": "https://localhost:8080/"
        },
        "id": "MDq45nu7ZA9M",
        "outputId": "91dfdc62-c1ad-46fe-80a5-2ba0d3d459a3"
      },
      "outputs": [
        {
          "data": {
            "text/plain": [
              "(1, 784)"
            ]
          },
          "execution_count": 71,
          "metadata": {},
          "output_type": "execute_result"
        }
      ],
      "source": [
        "X_test[0].reshape(-1, 784).shape"
      ]
    },
    {
      "cell_type": "code",
      "execution_count": 72,
      "metadata": {
        "colab": {
          "base_uri": "https://localhost:8080/"
        },
        "id": "8ytVK5zIYoG0",
        "outputId": "3af3b0b1-9778-40a2-d2f9-66422b200164"
      },
      "outputs": [
        {
          "name": "stdout",
          "output_type": "stream",
          "text": [
            "1/1 [==============================] - 0s 49ms/step\n"
          ]
        }
      ],
      "source": [
        "encoded_image = encoder.predict(X_test[0].reshape(1,-1))"
      ]
    },
    {
      "cell_type": "code",
      "execution_count": 75,
      "metadata": {
        "colab": {
          "base_uri": "https://localhost:8080/",
          "height": 229
        },
        "id": "9iSGde1eZSaW",
        "outputId": "641b61cc-4c93-48ac-f908-bf0326a2bec8"
      },
      "outputs": [
        {
          "name": "stdout",
          "output_type": "stream",
          "text": [
            "資料大小 (1, 32)\n"
          ]
        },
        {
          "data": {
            "image/png": "[encoded data removed]",
            "text/plain": [
              "<Figure size 400x200 with 1 Axes>"
            ]
          },
          "metadata": {},
          "output_type": "display_data"
        }
      ],
      "source": [
        "print(\"資料大小\", encoded_image.shape)\n",
        "encoded_image,\n",
        "plt.figure(figsize=(4, 2))\n",
        "plt.imshow(encoded_image.reshape(8,4), cmap='gray');"
      ]
    },
    {
      "cell_type": "markdown",
      "metadata": {
        "id": "mSOCL0-t16Nq"
      },
      "source": [
        "\n",
        "\n",
        "## 對圖片進行解碼\n"
      ]
    },
    {
      "cell_type": "code",
      "execution_count": 76,
      "metadata": {
        "colab": {
          "base_uri": "https://localhost:8080/"
        },
        "id": "aOzBrVHvbEG3",
        "outputId": "e782e4c3-9389-47d5-c02a-533f198ab9a4"
      },
      "outputs": [
        {
          "name": "stdout",
          "output_type": "stream",
          "text": [
            "Model: \"sequential_4\"\n",
            "_________________________________________________________________\n",
            " Layer (type)                Output Shape              Param #   \n",
            "=================================================================\n",
            " dense_18 (Dense)            (None, 128)               100480    \n",
            "                                                                 \n",
            " dense_19 (Dense)            (None, 64)                8256      \n",
            "                                                                 \n",
            " dense_20 (Dense)            (None, 32)                2080      \n",
            "                                                                 \n",
            " dense_21 (Dense)            (None, 64)                2112      \n",
            "                                                                 \n",
            " dense_22 (Dense)            (None, 128)               8320      \n",
            "                                                                 \n",
            " dense_23 (Dense)            (None, 784)               101136    \n",
            "                                                                 \n",
            "=================================================================\n",
            "Total params: 222384 (868.69 KB)\n",
            "Trainable params: 222384 (868.69 KB)\n",
            "Non-trainable params: 0 (0.00 Byte)\n",
            "_________________________________________________________________\n"
          ]
        }
      ],
      "source": [
        "autoencoder.summary()"
      ]
    },
    {
      "cell_type": "code",
      "execution_count": 77,
      "metadata": {
        "colab": {
          "base_uri": "https://localhost:8080/"
        },
        "id": "o1icMFkbbUHg",
        "outputId": "0aade696-b03d-433f-c745-bbaf030517fc"
      },
      "outputs": [
        {
          "name": "stdout",
          "output_type": "stream",
          "text": [
            "Model: \"model_3\"\n",
            "_________________________________________________________________\n",
            " Layer (type)                Output Shape              Param #   \n",
            "=================================================================\n",
            " input_2 (InputLayer)        [(None, 32)]              0         \n",
            "                                                                 \n",
            " dense_21 (Dense)            (None, 64)                2112      \n",
            "                                                                 \n",
            " dense_22 (Dense)            (None, 128)               8320      \n",
            "                                                                 \n",
            " dense_23 (Dense)            (None, 784)               101136    \n",
            "                                                                 \n",
            "=================================================================\n",
            "Total params: 111568 (435.81 KB)\n",
            "Trainable params: 111568 (435.81 KB)\n",
            "Non-trainable params: 0 (0.00 Byte)\n",
            "_________________________________________________________________\n"
          ]
        }
      ],
      "source": [
        "input_layer_decoder = Input(shape=(32,))\n",
        "decoder_layer1 = autoencoder.layers[3]\n",
        "decoder_layer2 = autoencoder.layers[4]\n",
        "decoder_layer3 = autoencoder.layers[5]\n",
        "decoder = Model(inputs = input_layer_decoder, outputs = decoder_layer3(decoder_layer2(decoder_layer1(input_layer_decoder))))\n",
        "decoder.summary()"
      ]
    },
    {
      "cell_type": "code",
      "execution_count": 78,
      "metadata": {
        "colab": {
          "base_uri": "https://localhost:8080/"
        },
        "id": "lFhdpXx7dHA1",
        "outputId": "46344354-60c2-4c37-8f89-772676551312"
      },
      "outputs": [
        {
          "name": "stdout",
          "output_type": "stream",
          "text": [
            "(1, 32)\n",
            "1/1 [==============================] - 0s 47ms/step\n",
            "(1, 784)\n"
          ]
        }
      ],
      "source": [
        "print(encoded_image.shape)\n",
        "decoded_image = decoder.predict(encoded_image)\n",
        "print(decoded_image.shape)"
      ]
    },
    {
      "cell_type": "code",
      "execution_count": 79,
      "metadata": {
        "colab": {
          "base_uri": "https://localhost:8080/",
          "height": 216
        },
        "id": "FGzUiDb-dgXM",
        "outputId": "b694356b-4b78-4298-fd16-5502ca4366e0"
      },
      "outputs": [
        {
          "data": {
            "image/png": "[encoded data removed]",
            "text/plain": [
              "<Figure size 400x200 with 1 Axes>"
            ]
          },
          "metadata": {},
          "output_type": "display_data"
        }
      ],
      "source": [
        "plt.figure(figsize=(4, 2))\n",
        "plt.imshow(X_test[0].reshape(28,28), cmap = 'gray');"
      ]
    },
    {
      "cell_type": "markdown",
      "metadata": {
        "id": "knNmJYXd31KE"
      },
      "source": [
        "## 將 test images 進行編碼解碼\n"
      ]
    },
    {
      "cell_type": "code",
      "execution_count": 80,
      "metadata": {
        "colab": {
          "base_uri": "https://localhost:8080/"
        },
        "id": "NN2_76l2leSw",
        "outputId": "aba52445-9ac4-4e53-a741-43c79ec05f50"
      },
      "outputs": [
        {
          "data": {
            "text/plain": [
              "10000"
            ]
          },
          "execution_count": 80,
          "metadata": {},
          "output_type": "execute_result"
        }
      ],
      "source": [
        "X_test.shape[0] # 9999"
      ]
    },
    {
      "cell_type": "code",
      "execution_count": 87,
      "metadata": {
        "colab": {
          "base_uri": "https://localhost:8080/",
          "height": 691
        },
        "id": "agXgOt-KlPp_",
        "outputId": "b441b9dd-38ab-4c5c-e398-92833044f44c"
      },
      "outputs": [
        {
          "name": "stdout",
          "output_type": "stream",
          "text": [
            "1/1 [==============================] - 0s 19ms/step\n",
            "1/1 [==============================] - 0s 17ms/step\n",
            "1/1 [==============================] - 0s 17ms/step\n",
            "1/1 [==============================] - 0s 16ms/step\n",
            "1/1 [==============================] - 0s 18ms/step\n",
            "1/1 [==============================] - 0s 19ms/step\n",
            "1/1 [==============================] - 0s 17ms/step\n",
            "1/1 [==============================] - 0s 19ms/step\n",
            "1/1 [==============================] - 0s 23ms/step\n",
            "1/1 [==============================] - 0s 17ms/step\n",
            "1/1 [==============================] - 0s 17ms/step\n",
            "1/1 [==============================] - 0s 17ms/step\n",
            "1/1 [==============================] - 0s 17ms/step\n",
            "1/1 [==============================] - 0s 16ms/step\n",
            "1/1 [==============================] - 0s 19ms/step\n",
            "1/1 [==============================] - 0s 16ms/step\n",
            "1/1 [==============================] - 0s 17ms/step\n",
            "1/1 [==============================] - 0s 16ms/step\n",
            "1/1 [==============================] - 0s 16ms/step\n",
            "1/1 [==============================] - 0s 17ms/step\n"
          ]
        },
        {
          "data": {
            "image/png": "[encoded data removed]",
            "text/plain": [
              "<Figure size 1800x1800 with 30 Axes>"
            ]
          },
          "metadata": {},
          "output_type": "display_data"
        }
      ],
      "source": [
        "# 隨機挑十筆資料\n",
        "n_images = 10\n",
        "test_images = np.random.randint(0, X_test.shape[0] - 1, size = n_images)\n",
        "# print(test_images)\n",
        "\n",
        "plt.figure(figsize=(18,18))\n",
        "for i, image_index in enumerate(test_images):\n",
        "  # print(i, image_index)\n",
        "\n",
        "  # Original image\n",
        "  ax = plt.subplot(10,10,i + 1)\n",
        "  plt.imshow(X_test[image_index].reshape(28,28), cmap='gray')\n",
        "  plt.xticks(())\n",
        "  plt.yticks(())\n",
        "\n",
        "  # Coded images\n",
        "  ax = plt.subplot(10,10,i + 1 + n_images)\n",
        "  encoded_image = encoder.predict(X_test[image_index].reshape(1,-1))\n",
        "  plt.imshow(encoded_image.reshape(8,4), cmap = 'gray')\n",
        "  plt.xticks(())\n",
        "  plt.yticks(())\n",
        "\n",
        "  # Decoded images\n",
        "  ax = plt.subplot(10,10,i + 1 + n_images * 2)\n",
        "  plt.imshow(decoder.predict(encoded_image).reshape(28,28), cmap='gray')\n",
        "  plt.xticks(())\n",
        "  plt.yticks(())"
      ]
    },
    {
      "cell_type": "markdown",
      "metadata": {
        "id": "1RTomwzP88WO"
      },
      "source": [
        "## 卷積自動編碼器"
      ]
    },
    {
      "cell_type": "code",
      "execution_count": 88,
      "metadata": {
        "id": "_pZ52hjW_z9h"
      },
      "outputs": [],
      "source": [
        "from tensorflow.keras.layers import Conv2D, MaxPooling2D, UpSampling2D, Reshape, Flatten"
      ]
    },
    {
      "cell_type": "markdown",
      "metadata": {
        "id": "ymP7fNPt9G2h"
      },
      "source": [
        "- Dataset: https://keras.io/api/datasets/fashion_mnist/"
      ]
    },
    {
      "cell_type": "code",
      "execution_count": 90,
      "metadata": {
        "id": "zNBDqz7T_2Vb"
      },
      "outputs": [],
      "source": [
        "from tensorflow.keras.datasets import fashion_mnist\n",
        "(X_train, y_train), (X_test, y_test) = fashion_mnist.load_data()"
      ]
    },
    {
      "cell_type": "code",
      "execution_count": 91,
      "metadata": {
        "colab": {
          "base_uri": "https://localhost:8080/"
        },
        "id": "Bsl9mNtK_sfm",
        "outputId": "8ad673b2-1b76-40d1-fce5-d8b0974687ad"
      },
      "outputs": [
        {
          "data": {
            "text/plain": [
              "((60000, 28, 28), (60000,), (10000, 28, 28), (10000,))"
            ]
          },
          "execution_count": 91,
          "metadata": {},
          "output_type": "execute_result"
        }
      ],
      "source": [
        "X_train.shape, y_train.shape, X_test.shape, y_test.shape"
      ]
    },
    {
      "cell_type": "markdown",
      "metadata": {
        "id": "qGwg1wzz9IzD"
      },
      "source": [
        "## 顯示圖片"
      ]
    },
    {
      "cell_type": "code",
      "execution_count": 93,
      "metadata": {
        "colab": {
          "base_uri": "https://localhost:8080/",
          "height": 748
        },
        "id": "manmBMG8_2cB",
        "outputId": "418d9169-a27c-45a0-8901-f64de8edae38"
      },
      "outputs": [
        {
          "data": {
            "image/png": "[encoded data removed]",
            "text/plain": [
              "<Figure size 900x900 with 9 Axes>"
            ]
          },
          "metadata": {},
          "output_type": "display_data"
        }
      ],
      "source": [
        "classes = ['T-shirt/top', 'Trouser', 'Pullover', 'Dress', 'Coat', 'Sandal', 'Shirt', 'Sneaker', 'Bag', 'Ankle boot']\n",
        "width = 3\n",
        "height = 3\n",
        "\n",
        "fig, axes = plt.subplots(height, width, figsize = (9,9))\n",
        "axes = axes.ravel()\n",
        "for i in np.arange(0, width * height):\n",
        "    index = np.random.randint(0, 60000) # 資料總共6000比\n",
        "    axes[i].imshow(X_train[index], cmap = 'gray' )\n",
        "    axes[i].set_title(classes[y_train[index]], fontsize = 10)\n",
        "    axes[i].axis('off')\n",
        "\n",
        "plt.subplots_adjust(hspace=0.4)"
      ]
    },
    {
      "cell_type": "markdown",
      "metadata": {
        "id": "Y70cHkb-9LV3"
      },
      "source": [
        "## 預處理圖片"
      ]
    },
    {
      "cell_type": "code",
      "execution_count": 94,
      "metadata": {
        "colab": {
          "base_uri": "https://localhost:8080/"
        },
        "id": "FTFqMw1L1pXf",
        "outputId": "e72367cb-f726-4ff9-9408-fe2d561ffc6a"
      },
      "outputs": [
        {
          "data": {
            "text/plain": [
              "((60000, 28, 28), (10000, 28, 28))"
            ]
          },
          "execution_count": 94,
          "metadata": {},
          "output_type": "execute_result"
        }
      ],
      "source": [
        "X_train.shape, X_test.shape"
      ]
    },
    {
      "cell_type": "code",
      "execution_count": 95,
      "metadata": {
        "id": "iyoitnx-AQlz"
      },
      "outputs": [],
      "source": [
        "X_train = X_train / 255\n",
        "X_test = X_test / 255\n",
        "\n",
        "X_train = X_train.reshape((len(X_train), 28, 28, 1))\n",
        "X_test = X_test.reshape((len(X_test), 28, 28, 1))"
      ]
    },
    {
      "cell_type": "code",
      "execution_count": 96,
      "metadata": {
        "colab": {
          "base_uri": "https://localhost:8080/"
        },
        "id": "f3Pnh6aKAUvq",
        "outputId": "4d926b02-4d82-4270-df10-80c28aa09efc"
      },
      "outputs": [
        {
          "data": {
            "text/plain": [
              "((60000, 28, 28, 1), (10000, 28, 28, 1))"
            ]
          },
          "execution_count": 96,
          "metadata": {},
          "output_type": "execute_result"
        }
      ],
      "source": [
        "X_train.shape, X_test.shape"
      ]
    },
    {
      "cell_type": "code",
      "execution_count": 97,
      "metadata": {
        "colab": {
          "base_uri": "https://localhost:8080/"
        },
        "id": "XREQqkJIFhNW",
        "outputId": "4cf86f0a-b912-4a74-f8c4-3e5db8e99afd"
      },
      "outputs": [
        {
          "data": {
            "text/plain": [
              "((60000, 28, 28, 1), (10000, 28, 28, 1))"
            ]
          },
          "execution_count": 97,
          "metadata": {},
          "output_type": "execute_result"
        }
      ],
      "source": [
        "X_train.shape, X_test.shape"
      ]
    },
    {
      "cell_type": "markdown",
      "metadata": {
        "id": "udL7sOyX9ORJ"
      },
      "source": [
        "## 建立卷積自動編碼器\n",
        "\n",
        "![upgit_20240509_1715249836.png](https://raw.githubusercontent.com/kcwc1029/obsidian-upgit-image/main/2024/05/upgit_20240509_1715249836.png)"
      ]
    },
    {
      "cell_type": "code",
      "execution_count": 99,
      "metadata": {
        "colab": {
          "base_uri": "https://localhost:8080/"
        },
        "id": "CdCGs4p5uCp2",
        "outputId": "75e56051-4690-45a3-e1f3-351b83fd7230"
      },
      "outputs": [
        {
          "name": "stdout",
          "output_type": "stream",
          "text": [
            "Model: \"sequential_6\"\n",
            "_________________________________________________________________\n",
            " Layer (type)                Output Shape              Param #   \n",
            "=================================================================\n",
            " conv2d_14 (Conv2D)          (None, 26, 26, 16)        160       \n",
            "                                                                 \n",
            " max_pooling2d_4 (MaxPoolin  (None, 13, 13, 16)        0         \n",
            " g2D)                                                            \n",
            "                                                                 \n",
            " conv2d_15 (Conv2D)          (None, 13, 13, 8)         1160      \n",
            "                                                                 \n",
            " max_pooling2d_5 (MaxPoolin  (None, 7, 7, 8)           0         \n",
            " g2D)                                                            \n",
            "                                                                 \n",
            " conv2d_16 (Conv2D)          (None, 4, 4, 8)           584       \n",
            "                                                                 \n",
            " flatten_2 (Flatten)         (None, 128)               0         \n",
            "                                                                 \n",
            " reshape_2 (Reshape)         (None, 4, 4, 8)           0         \n",
            "                                                                 \n",
            " conv2d_17 (Conv2D)          (None, 4, 4, 8)           584       \n",
            "                                                                 \n",
            " up_sampling2d_6 (UpSamplin  (None, 8, 8, 8)           0         \n",
            " g2D)                                                            \n",
            "                                                                 \n",
            " conv2d_18 (Conv2D)          (None, 8, 8, 8)           584       \n",
            "                                                                 \n",
            " up_sampling2d_7 (UpSamplin  (None, 16, 16, 8)         0         \n",
            " g2D)                                                            \n",
            "                                                                 \n",
            " conv2d_19 (Conv2D)          (None, 14, 14, 16)        1168      \n",
            "                                                                 \n",
            " up_sampling2d_8 (UpSamplin  (None, 28, 28, 16)        0         \n",
            " g2D)                                                            \n",
            "                                                                 \n",
            " conv2d_20 (Conv2D)          (None, 28, 28, 1)         145       \n",
            "                                                                 \n",
            "=================================================================\n",
            "Total params: 4385 (17.13 KB)\n",
            "Trainable params: 4385 (17.13 KB)\n",
            "Non-trainable params: 0 (0.00 Byte)\n",
            "_________________________________________________________________\n"
          ]
        }
      ],
      "source": [
        "# Padding: https://www.pico.net/kb/what-is-the-difference-between-same-and-valid-padding-in-tf-nn-max-pool-of-tensorflow\n",
        "\n",
        "autoencoder = Sequential()\n",
        "\n",
        "# Encoder\n",
        "autoencoder.add(Conv2D(filters = 16, kernel_size=(3,3), activation='relu', padding='valid', input_shape=(28,28,1)))\n",
        "autoencoder.add(MaxPooling2D(pool_size=(2,2)))\n",
        "\n",
        "autoencoder.add(Conv2D(filters = 8, kernel_size=(3,3), activation='relu', padding='same'))\n",
        "autoencoder.add(MaxPooling2D(pool_size=(2,2), padding='same'))\n",
        "\n",
        "#autoencoder.summary()\n",
        "\n",
        "autoencoder.add(Conv2D(filters=8, kernel_size=(3,3), activation='relu', padding = 'same', strides=(2,2)))\n",
        "\n",
        "autoencoder.add(Flatten())\n",
        "\n",
        "#autoencoder.summary()\n",
        "\n",
        "# Decoder\n",
        "\n",
        "autoencoder.add(Reshape((4,4,8)))\n",
        "#autoencoder.summary()\n",
        "autoencoder.add(Conv2D(filters = 8, kernel_size=(3,3), activation='relu', padding='same'))\n",
        "#autoencoder.summary()\n",
        "autoencoder.add(UpSampling2D(size=(2,2)))\n",
        "#autoencoder.summary()\n",
        "\n",
        "autoencoder.add(Conv2D(filters = 8, kernel_size=(3,3), activation='relu', padding='same'))\n",
        "autoencoder.add(UpSampling2D(size=(2,2)))\n",
        "\n",
        "autoencoder.add(Conv2D(filters = 16, kernel_size=(3,3), activation='relu'))\n",
        "autoencoder.add(UpSampling2D(size=(2,2)))\n",
        "\n",
        "autoencoder.add(Conv2D(filters = 1, kernel_size=(3,3), activation='sigmoid', padding='same'))\n",
        "\n",
        "\n",
        "autoencoder.summary()"
      ]
    },
    {
      "cell_type": "code",
      "execution_count": 100,
      "metadata": {
        "id": "-_frAs5fy2Wk"
      },
      "outputs": [],
      "source": [
        "autoencoder.compile(optimizer='Adam', loss='binary_crossentropy', metrics = ['accuracy'])"
      ]
    },
    {
      "cell_type": "code",
      "execution_count": 101,
      "metadata": {
        "colab": {
          "base_uri": "https://localhost:8080/"
        },
        "id": "llVt6gcF2gzR",
        "outputId": "4076d25c-f73d-4b13-af94-f7bdbc1a4c1b"
      },
      "outputs": [
        {
          "name": "stdout",
          "output_type": "stream",
          "text": [
            "Epoch 1/50\n",
            "1875/1875 [==============================] - 13s 5ms/step - loss: 0.3162 - accuracy: 0.5039\n",
            "Epoch 2/50\n",
            "1875/1875 [==============================] - 10s 5ms/step - loss: 0.2913 - accuracy: 0.5063\n",
            "Epoch 3/50\n",
            "1875/1875 [==============================] - 10s 5ms/step - loss: 0.2859 - accuracy: 0.5070\n",
            "Epoch 4/50\n",
            "1875/1875 [==============================] - 10s 5ms/step - loss: 0.2828 - accuracy: 0.5073\n",
            "Epoch 5/50\n",
            "1875/1875 [==============================] - 10s 5ms/step - loss: 0.2806 - accuracy: 0.5075\n",
            "Epoch 6/50\n",
            "1875/1875 [==============================] - 10s 5ms/step - loss: 0.2790 - accuracy: 0.5077\n",
            "Epoch 7/50\n",
            "1875/1875 [==============================] - 10s 5ms/step - loss: 0.2778 - accuracy: 0.5078\n",
            "Epoch 8/50\n",
            "1875/1875 [==============================] - 10s 5ms/step - loss: 0.2770 - accuracy: 0.5079\n",
            "Epoch 9/50\n",
            "1875/1875 [==============================] - 10s 5ms/step - loss: 0.2762 - accuracy: 0.5080\n",
            "Epoch 10/50\n",
            "1875/1875 [==============================] - 10s 5ms/step - loss: 0.2755 - accuracy: 0.5081\n",
            "Epoch 11/50\n",
            "1875/1875 [==============================] - 9s 5ms/step - loss: 0.2749 - accuracy: 0.5082\n",
            "Epoch 12/50\n",
            "1875/1875 [==============================] - 10s 5ms/step - loss: 0.2744 - accuracy: 0.5082\n",
            "Epoch 13/50\n",
            "1875/1875 [==============================] - 10s 5ms/step - loss: 0.2739 - accuracy: 0.5083\n",
            "Epoch 14/50\n",
            "1875/1875 [==============================] - 10s 5ms/step - loss: 0.2735 - accuracy: 0.5083\n",
            "Epoch 15/50\n",
            "1875/1875 [==============================] - 9s 5ms/step - loss: 0.2731 - accuracy: 0.5084\n",
            "Epoch 16/50\n",
            "1875/1875 [==============================] - 10s 5ms/step - loss: 0.2728 - accuracy: 0.5084\n",
            "Epoch 17/50\n",
            "1875/1875 [==============================] - 10s 5ms/step - loss: 0.2725 - accuracy: 0.5084\n",
            "Epoch 18/50\n",
            "1875/1875 [==============================] - 14s 7ms/step - loss: 0.2722 - accuracy: 0.5084\n",
            "Epoch 19/50\n",
            "1875/1875 [==============================] - 11s 6ms/step - loss: 0.2720 - accuracy: 0.5084\n",
            "Epoch 20/50\n",
            "1875/1875 [==============================] - 10s 5ms/step - loss: 0.2718 - accuracy: 0.5085\n",
            "Epoch 21/50\n",
            "1875/1875 [==============================] - 10s 5ms/step - loss: 0.2716 - accuracy: 0.5085\n",
            "Epoch 22/50\n",
            "1875/1875 [==============================] - 10s 6ms/step - loss: 0.2715 - accuracy: 0.5085\n",
            "Epoch 23/50\n",
            "1875/1875 [==============================] - 10s 5ms/step - loss: 0.2713 - accuracy: 0.5085\n",
            "Epoch 24/50\n",
            "1875/1875 [==============================] - 10s 6ms/step - loss: 0.2712 - accuracy: 0.5085\n",
            "Epoch 25/50\n",
            "1875/1875 [==============================] - 10s 5ms/step - loss: 0.2710 - accuracy: 0.5086\n",
            "Epoch 26/50\n",
            "1875/1875 [==============================] - 12s 6ms/step - loss: 0.2709 - accuracy: 0.5086\n",
            "Epoch 27/50\n",
            "1875/1875 [==============================] - 10s 5ms/step - loss: 0.2708 - accuracy: 0.5086\n",
            "Epoch 28/50\n",
            "1875/1875 [==============================] - 11s 6ms/step - loss: 0.2707 - accuracy: 0.5086\n",
            "Epoch 29/50\n",
            "1875/1875 [==============================] - 10s 6ms/step - loss: 0.2706 - accuracy: 0.5086\n",
            "Epoch 30/50\n",
            "1875/1875 [==============================] - 9s 5ms/step - loss: 0.2705 - accuracy: 0.5086\n",
            "Epoch 31/50\n",
            "1875/1875 [==============================] - 10s 5ms/step - loss: 0.2704 - accuracy: 0.5086\n",
            "Epoch 32/50\n",
            "1875/1875 [==============================] - 10s 5ms/step - loss: 0.2703 - accuracy: 0.5086\n",
            "Epoch 33/50\n",
            "1875/1875 [==============================] - 10s 5ms/step - loss: 0.2702 - accuracy: 0.5086\n",
            "Epoch 34/50\n",
            "1875/1875 [==============================] - 10s 5ms/step - loss: 0.2701 - accuracy: 0.5087\n",
            "Epoch 35/50\n",
            "1875/1875 [==============================] - 11s 6ms/step - loss: 0.2700 - accuracy: 0.5087\n",
            "Epoch 36/50\n",
            "1875/1875 [==============================] - 11s 6ms/step - loss: 0.2699 - accuracy: 0.5087\n",
            "Epoch 37/50\n",
            "1875/1875 [==============================] - 11s 6ms/step - loss: 0.2699 - accuracy: 0.5087\n",
            "Epoch 38/50\n",
            "1875/1875 [==============================] - 11s 6ms/step - loss: 0.2698 - accuracy: 0.5087\n",
            "Epoch 39/50\n",
            "1875/1875 [==============================] - 10s 5ms/step - loss: 0.2697 - accuracy: 0.5087\n",
            "Epoch 40/50\n",
            "1875/1875 [==============================] - 10s 5ms/step - loss: 0.2696 - accuracy: 0.5087\n",
            "Epoch 41/50\n",
            "1875/1875 [==============================] - 11s 6ms/step - loss: 0.2695 - accuracy: 0.5087\n",
            "Epoch 42/50\n",
            "1875/1875 [==============================] - 12s 6ms/step - loss: 0.2694 - accuracy: 0.5087\n",
            "Epoch 43/50\n",
            "1875/1875 [==============================] - 11s 6ms/step - loss: 0.2694 - accuracy: 0.5088\n",
            "Epoch 44/50\n",
            "1875/1875 [==============================] - 10s 6ms/step - loss: 0.2693 - accuracy: 0.5088\n",
            "Epoch 45/50\n",
            "1875/1875 [==============================] - 10s 5ms/step - loss: 0.2692 - accuracy: 0.5088\n",
            "Epoch 46/50\n",
            "1875/1875 [==============================] - 10s 6ms/step - loss: 0.2692 - accuracy: 0.5088\n",
            "Epoch 47/50\n",
            "1875/1875 [==============================] - 10s 5ms/step - loss: 0.2691 - accuracy: 0.5088\n",
            "Epoch 48/50\n",
            "1875/1875 [==============================] - 10s 5ms/step - loss: 0.2690 - accuracy: 0.5088\n",
            "Epoch 49/50\n",
            "1875/1875 [==============================] - 9s 5ms/step - loss: 0.2689 - accuracy: 0.5088\n",
            "Epoch 50/50\n",
            "1875/1875 [==============================] - 10s 5ms/step - loss: 0.2689 - accuracy: 0.5088\n"
          ]
        },
        {
          "data": {
            "text/plain": [
              "<keras.src.callbacks.History at 0x79be26ad6b90>"
            ]
          },
          "execution_count": 101,
          "metadata": {},
          "output_type": "execute_result"
        }
      ],
      "source": [
        "autoencoder.fit(X_train, X_train, epochs = 50)"
      ]
    },
    {
      "cell_type": "markdown",
      "metadata": {
        "id": "9-AwzJJnKz-3"
      },
      "source": [
        "### Encoding and decoding the test images"
      ]
    },
    {
      "cell_type": "code",
      "execution_count": 102,
      "metadata": {
        "colab": {
          "base_uri": "https://localhost:8080/"
        },
        "id": "CifxOIq68Q9m",
        "outputId": "a85d6800-bba6-4a0d-9c22-5d5781313a47"
      },
      "outputs": [
        {
          "name": "stdout",
          "output_type": "stream",
          "text": [
            "Model: \"sequential_6\"\n",
            "_________________________________________________________________\n",
            " Layer (type)                Output Shape              Param #   \n",
            "=================================================================\n",
            " conv2d_14 (Conv2D)          (None, 26, 26, 16)        160       \n",
            "                                                                 \n",
            " max_pooling2d_4 (MaxPoolin  (None, 13, 13, 16)        0         \n",
            " g2D)                                                            \n",
            "                                                                 \n",
            " conv2d_15 (Conv2D)          (None, 13, 13, 8)         1160      \n",
            "                                                                 \n",
            " max_pooling2d_5 (MaxPoolin  (None, 7, 7, 8)           0         \n",
            " g2D)                                                            \n",
            "                                                                 \n",
            " conv2d_16 (Conv2D)          (None, 4, 4, 8)           584       \n",
            "                                                                 \n",
            " flatten_2 (Flatten)         (None, 128)               0         \n",
            "                                                                 \n",
            " reshape_2 (Reshape)         (None, 4, 4, 8)           0         \n",
            "                                                                 \n",
            " conv2d_17 (Conv2D)          (None, 4, 4, 8)           584       \n",
            "                                                                 \n",
            " up_sampling2d_6 (UpSamplin  (None, 8, 8, 8)           0         \n",
            " g2D)                                                            \n",
            "                                                                 \n",
            " conv2d_18 (Conv2D)          (None, 8, 8, 8)           584       \n",
            "                                                                 \n",
            " up_sampling2d_7 (UpSamplin  (None, 16, 16, 8)         0         \n",
            " g2D)                                                            \n",
            "                                                                 \n",
            " conv2d_19 (Conv2D)          (None, 14, 14, 16)        1168      \n",
            "                                                                 \n",
            " up_sampling2d_8 (UpSamplin  (None, 28, 28, 16)        0         \n",
            " g2D)                                                            \n",
            "                                                                 \n",
            " conv2d_20 (Conv2D)          (None, 28, 28, 1)         145       \n",
            "                                                                 \n",
            "=================================================================\n",
            "Total params: 4385 (17.13 KB)\n",
            "Trainable params: 4385 (17.13 KB)\n",
            "Non-trainable params: 0 (0.00 Byte)\n",
            "_________________________________________________________________\n"
          ]
        }
      ],
      "source": [
        "autoencoder.summary()"
      ]
    },
    {
      "cell_type": "code",
      "execution_count": 103,
      "metadata": {
        "colab": {
          "base_uri": "https://localhost:8080/"
        },
        "id": "hdbAF_4Z8KJv",
        "outputId": "76699f7f-6a69-4fc9-a4e6-5b47f98b9076"
      },
      "outputs": [
        {
          "name": "stdout",
          "output_type": "stream",
          "text": [
            "Model: \"model_4\"\n",
            "_________________________________________________________________\n",
            " Layer (type)                Output Shape              Param #   \n",
            "=================================================================\n",
            " conv2d_14_input (InputLaye  [(None, 28, 28, 1)]       0         \n",
            " r)                                                              \n",
            "                                                                 \n",
            " conv2d_14 (Conv2D)          (None, 26, 26, 16)        160       \n",
            "                                                                 \n",
            " max_pooling2d_4 (MaxPoolin  (None, 13, 13, 16)        0         \n",
            " g2D)                                                            \n",
            "                                                                 \n",
            " conv2d_15 (Conv2D)          (None, 13, 13, 8)         1160      \n",
            "                                                                 \n",
            " max_pooling2d_5 (MaxPoolin  (None, 7, 7, 8)           0         \n",
            " g2D)                                                            \n",
            "                                                                 \n",
            " conv2d_16 (Conv2D)          (None, 4, 4, 8)           584       \n",
            "                                                                 \n",
            " flatten_2 (Flatten)         (None, 128)               0         \n",
            "                                                                 \n",
            "=================================================================\n",
            "Total params: 1904 (7.44 KB)\n",
            "Trainable params: 1904 (7.44 KB)\n",
            "Non-trainable params: 0 (0.00 Byte)\n",
            "_________________________________________________________________\n"
          ]
        }
      ],
      "source": [
        "encoder = Model(inputs = autoencoder.input, outputs = autoencoder.get_layer('flatten_2').output)\n",
        "encoder.summary()"
      ]
    },
    {
      "cell_type": "code",
      "execution_count": 104,
      "metadata": {
        "colab": {
          "base_uri": "https://localhost:8080/"
        },
        "id": "EODSuDvm8t2J",
        "outputId": "cbe6cc74-7a75-4ec7-dafb-1402177527a5"
      },
      "outputs": [
        {
          "name": "stdout",
          "output_type": "stream",
          "text": [
            "313/313 [==============================] - 1s 3ms/step\n"
          ]
        }
      ],
      "source": [
        "coded_test_images = encoder.predict(X_test)"
      ]
    },
    {
      "cell_type": "code",
      "execution_count": 105,
      "metadata": {
        "colab": {
          "base_uri": "https://localhost:8080/"
        },
        "id": "hxcDKnai86Pr",
        "outputId": "ef96f116-f77d-498c-81b7-aaa196f85d0c"
      },
      "outputs": [
        {
          "data": {
            "text/plain": [
              "(10000, 128)"
            ]
          },
          "execution_count": 105,
          "metadata": {},
          "output_type": "execute_result"
        }
      ],
      "source": [
        "coded_test_images.shape"
      ]
    },
    {
      "cell_type": "code",
      "execution_count": 106,
      "metadata": {
        "colab": {
          "base_uri": "https://localhost:8080/"
        },
        "id": "IjzIJkW19B3L",
        "outputId": "6e1b222f-ad8d-47b4-cdce-960604826f4c"
      },
      "outputs": [
        {
          "data": {
            "text/plain": [
              "array([0.11483102, 0.5927415 , 0.26034877, 0.53287435, 0.09484479,\n",
              "       0.5304644 , 0.9765902 , 1.3089873 , 0.07920279, 0.60014194,\n",
              "       0.22375152, 0.6914531 , 0.35394388, 0.5492594 , 1.171058  ,\n",
              "       1.53429   , 0.        , 0.7257332 , 0.10741121, 0.8288149 ,\n",
              "       0.31694025, 0.7055757 , 0.9857019 , 1.7700232 , 0.07655373,\n",
              "       0.35632402, 0.28523767, 0.71604323, 0.3012914 , 0.6824075 ,\n",
              "       0.98818165, 1.1571497 , 0.02786526, 0.5727103 , 0.48126328,\n",
              "       0.3456759 , 0.25156975, 0.48308638, 0.7414614 , 1.5505575 ,\n",
              "       0.6893038 , 0.9176727 , 0.613943  , 0.50242424, 0.5940612 ,\n",
              "       0.38483828, 1.7524621 , 1.5304617 , 2.2659838 , 2.3387668 ,\n",
              "       1.3309964 , 0.56139785, 0.7642948 , 1.0241735 , 1.7114079 ,\n",
              "       0.8447039 , 1.1696641 , 2.2478435 , 0.8768753 , 0.68803114,\n",
              "       0.4664765 , 1.904175  , 0.687417  , 1.1902093 , 1.9431751 ,\n",
              "       1.4466431 , 1.142437  , 0.3991813 , 0.09028673, 0.5589638 ,\n",
              "       1.2178779 , 0.9449067 , 2.1125638 , 1.9734893 , 1.4426119 ,\n",
              "       1.2442706 , 0.86390173, 1.4655218 , 0.83606887, 0.60753316,\n",
              "       3.1826847 , 2.4021647 , 1.3463521 , 2.4785533 , 1.2294234 ,\n",
              "       1.6070633 , 1.1537557 , 0.2130161 , 2.357239  , 2.7606442 ,\n",
              "       1.1670232 , 1.9990981 , 0.8694803 , 2.1334624 , 1.1151179 ,\n",
              "       0.43918362, 0.2216218 , 0.45400262, 0.38107437, 0.96832156,\n",
              "       0.49417692, 0.43832338, 0.578403  , 1.176875  , 0.32254225,\n",
              "       0.47330832, 0.25682187, 1.6890988 , 0.7460304 , 0.6342659 ,\n",
              "       0.9144452 , 1.178671  , 0.5650769 , 0.3687211 , 0.5104343 ,\n",
              "       1.5026312 , 0.7796554 , 0.56934625, 1.0047655 , 1.4446092 ,\n",
              "       0.785751  , 0.44084993, 0.3560424 , 1.3291905 , 0.32774293,\n",
              "       0.9164435 , 1.5309135 , 0.8735315 ], dtype=float32)"
            ]
          },
          "execution_count": 106,
          "metadata": {},
          "output_type": "execute_result"
        }
      ],
      "source": [
        "coded_test_images[0]"
      ]
    },
    {
      "cell_type": "code",
      "execution_count": 107,
      "metadata": {
        "colab": {
          "base_uri": "https://localhost:8080/"
        },
        "id": "uXXR3Kxo9GDx",
        "outputId": "e1166e79-be0e-43c9-8cb6-f6e24de38a9d"
      },
      "outputs": [
        {
          "name": "stdout",
          "output_type": "stream",
          "text": [
            "313/313 [==============================] - 1s 4ms/step\n"
          ]
        },
        {
          "data": {
            "text/plain": [
              "(10000, 28, 28, 1)"
            ]
          },
          "execution_count": 107,
          "metadata": {},
          "output_type": "execute_result"
        }
      ],
      "source": [
        "decoded_test_images = autoencoder.predict(X_test)\n",
        "decoded_test_images.shape"
      ]
    },
    {
      "cell_type": "code",
      "execution_count": 108,
      "metadata": {
        "colab": {
          "base_uri": "https://localhost:8080/",
          "height": 362
        },
        "id": "NCBvT9DO9gzM",
        "outputId": "2e14d5ad-227b-44f8-8316-9ab969098d5c"
      },
      "outputs": [
        {
          "data": {
            "image/png": "[encoded data removed]",
            "text/plain": [
              "<Figure size 1800x1800 with 30 Axes>"
            ]
          },
          "metadata": {},
          "output_type": "display_data"
        }
      ],
      "source": [
        "n_images = 10\n",
        "test_images = np.random.randint(0, X_test.shape[0], size = n_images)\n",
        "plt.figure(figsize=(18,18))\n",
        "for i, image_index in enumerate(test_images):\n",
        "  # Original images\n",
        "  ax = plt.subplot(10,10, i + 1)\n",
        "  plt.imshow(X_test[image_index].reshape(28,28), cmap='gray')\n",
        "  plt.xticks(())\n",
        "  plt.yticks(())\n",
        "\n",
        "  # Coded images\n",
        "  ax = plt.subplot(10,10, i + 1 + n_images)\n",
        "  plt.imshow(coded_test_images[image_index].reshape(16,8), cmap='gray')\n",
        "  plt.xticks(())\n",
        "  plt.yticks(())\n",
        "\n",
        "  # Decoded images\n",
        "  ax = plt.subplot(10,10, i + 1 + n_images * 2)\n",
        "  plt.imshow(decoded_test_images[image_index].reshape(28,28), cmap='gray')\n",
        "  plt.xticks(())\n",
        "  plt.yticks(())"
      ]
    }
  ],
  "metadata": {
    "accelerator": "GPU",
    "colab": {
      "provenance": [],
      "toc_visible": true
    },
    "kernelspec": {
      "display_name": "Python 3",
      "name": "python3"
    },
    "language_info": {
      "codemirror_mode": {
        "name": "ipython",
        "version": 3
      },
      "file_extension": ".py",
      "mimetype": "text/x-python",
      "name": "python",
      "nbconvert_exporter": "python",
      "pygments_lexer": "ipython3",
      "version": "3.11.5"
    }
  },
  "nbformat": 4,
  "nbformat_minor": 0
}
