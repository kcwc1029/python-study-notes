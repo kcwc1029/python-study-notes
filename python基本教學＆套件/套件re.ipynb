{
 "cells": [
  {
   "cell_type": "markdown",
   "metadata": {},
   "source": [
    "在Python中需要通过正则表达式对字符串进行匹配的时候，可以使用一个模块，名字为re\n",
    "\n",
    "```python\n",
    "import re\n",
    "\n",
    "# 使用match方法进行匹配操作\n",
    "result = re.match(正则表达式,要匹配的字符串)\n",
    "# 如果上一步匹配到数据的话，可以使用group方法来提取数据\n",
    "result.group()\n",
    "```"
   ]
  },
  {
   "cell_type": "markdown",
   "metadata": {},
   "source": [
    "## 匹配单个字符\n",
    "\n"
   ]
  },
  {
   "cell_type": "code",
   "execution_count": null,
   "metadata": {},
   "outputs": [],
   "source": []
  }
 ],
 "metadata": {
  "language_info": {
   "name": "python"
  },
  "orig_nbformat": 4
 },
 "nbformat": 4,
 "nbformat_minor": 2
}
