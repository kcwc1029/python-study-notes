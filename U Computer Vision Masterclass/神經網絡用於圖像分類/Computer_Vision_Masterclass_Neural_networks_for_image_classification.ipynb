{
  "cells": [
    {
      "cell_type": "markdown",
      "metadata": {
        "id": "Sd_h453YseEx"
      },
      "source": [
        "# 方法一：提取所有像素"
      ]
    },
    {
      "cell_type": "code",
      "execution_count": 3,
      "metadata": {
        "colab": {
          "base_uri": "https://localhost:8080/",
          "height": 57
        },
        "id": "GFTBW79STIEY",
        "outputId": "1e97516f-87d0-4a5e-f451-0cd276e89f73"
      },
      "outputs": [
        {
          "data": {
            "text/plain": [
              "'2.16.1'"
            ]
          },
          "execution_count": 3,
          "metadata": {},
          "output_type": "execute_result"
        }
      ],
      "source": [
        "import cv2\n",
        "import numpy as np\n",
        "import os\n",
        "import zipfile\n",
        "# from google.colab.patches import cv2_imshow\n",
        "import tensorflow as tf\n",
        "import pandas as pd\n",
        "import seaborn as sns # 绘制分类变量的计数直方图\n",
        "import matplotlib.pyplot as plt\n",
        "tf.__version__"
      ]
    },
    {
      "cell_type": "markdown",
      "metadata": {
        "id": "lW1ZuebL-Vm8"
      },
      "source": [
        "## 圖片轉像素資料"
      ]
    },
    {
      "cell_type": "code",
      "execution_count": null,
      "metadata": {
        "colab": {
          "base_uri": "https://localhost:8080/"
        },
        "id": "fkK5nGhKUdlI",
        "outputId": "aceeabee-8416-4d48-cfd3-7ba0f16612b2"
      },
      "outputs": [
        {
          "name": "stdout",
          "output_type": "stream",
          "text": [
            "Mounted at /content/drive\n"
          ]
        }
      ],
      "source": [
        "# from google.colab import drive\n",
        "# drive.mount('/content/drive')"
      ]
    },
    {
      "cell_type": "code",
      "execution_count": 3,
      "metadata": {
        "id": "QifI5PO1VMDK"
      },
      "outputs": [],
      "source": [
        "path = './Datasets/homer_bart_1.zip'\n",
        "zip_object = zipfile.ZipFile(file = path, mode = 'r')\n",
        "zip_object.extractall('./')\n",
        "zip_object.close()"
      ]
    },
    {
      "cell_type": "code",
      "execution_count": 9,
      "metadata": {
        "colab": {
          "base_uri": "https://localhost:8080/"
        },
        "id": "ZujocpAoW6x5",
        "outputId": "36ca263e-088d-4122-8f2e-7317bc497292"
      },
      "outputs": [
        {
          "name": "stdout",
          "output_type": "stream",
          "text": [
            "['./homer_bart_1/.DS_Store', './homer_bart_1/bart1.bmp', './homer_bart_1/bart10.bmp', './homer_bart_1/bart100.bmp', './homer_bart_1/bart101.bmp', './homer_bart_1/bart102.bmp', './homer_bart_1/bart103.bmp', './homer_bart_1/bart104.bmp', './homer_bart_1/bart105.bmp', './homer_bart_1/bart106.bmp', './homer_bart_1/bart108.bmp', './homer_bart_1/bart109.bmp', './homer_bart_1/bart11.bmp', './homer_bart_1/bart110.bmp', './homer_bart_1/bart111.bmp', './homer_bart_1/bart112.bmp', './homer_bart_1/bart113.bmp', './homer_bart_1/bart114.bmp', './homer_bart_1/bart115.bmp', './homer_bart_1/bart116.bmp', './homer_bart_1/bart117.bmp', './homer_bart_1/bart118.bmp', './homer_bart_1/bart119.bmp', './homer_bart_1/bart12.bmp', './homer_bart_1/bart120.bmp', './homer_bart_1/bart121.bmp', './homer_bart_1/bart122.bmp', './homer_bart_1/bart123.bmp', './homer_bart_1/bart124.bmp', './homer_bart_1/bart125.bmp', './homer_bart_1/bart126.bmp', './homer_bart_1/bart127.bmp', './homer_bart_1/bart128.bmp', './homer_bart_1/bart13.bmp', './homer_bart_1/bart130.bmp', './homer_bart_1/bart131.bmp', './homer_bart_1/bart132.bmp', './homer_bart_1/bart133.bmp', './homer_bart_1/bart134.bmp', './homer_bart_1/bart135.bmp', './homer_bart_1/bart136.bmp', './homer_bart_1/bart137.bmp', './homer_bart_1/bart138.bmp', './homer_bart_1/bart139.bmp', './homer_bart_1/bart14.bmp', './homer_bart_1/bart141.bmp', './homer_bart_1/bart142.bmp', './homer_bart_1/bart143.bmp', './homer_bart_1/bart144.bmp', './homer_bart_1/bart145.bmp', './homer_bart_1/bart146.bmp', './homer_bart_1/bart147.bmp', './homer_bart_1/bart148.bmp', './homer_bart_1/bart149.bmp', './homer_bart_1/bart15.bmp', './homer_bart_1/bart150.bmp', './homer_bart_1/bart151.bmp', './homer_bart_1/bart153.bmp', './homer_bart_1/bart154.bmp', './homer_bart_1/bart155.bmp', './homer_bart_1/bart156.bmp', './homer_bart_1/bart157.bmp', './homer_bart_1/bart158.bmp', './homer_bart_1/bart159.bmp', './homer_bart_1/bart16.bmp', './homer_bart_1/bart160.bmp', './homer_bart_1/bart161.bmp', './homer_bart_1/bart162.bmp', './homer_bart_1/bart164.bmp', './homer_bart_1/bart165.bmp', './homer_bart_1/bart166.bmp', './homer_bart_1/bart167.bmp', './homer_bart_1/bart168.bmp', './homer_bart_1/bart169.bmp', './homer_bart_1/bart17.bmp', './homer_bart_1/bart18.bmp', './homer_bart_1/bart19.bmp', './homer_bart_1/bart2.bmp', './homer_bart_1/bart20.bmp', './homer_bart_1/bart21.bmp', './homer_bart_1/bart22.bmp', './homer_bart_1/bart23.bmp', './homer_bart_1/bart24.bmp', './homer_bart_1/bart25.bmp', './homer_bart_1/bart26.bmp', './homer_bart_1/bart27.bmp', './homer_bart_1/bart28.bmp', './homer_bart_1/bart29.bmp', './homer_bart_1/bart3.bmp', './homer_bart_1/bart30.bmp', './homer_bart_1/bart31.bmp', './homer_bart_1/bart32.bmp', './homer_bart_1/bart34.bmp', './homer_bart_1/bart35.bmp', './homer_bart_1/bart36.bmp', './homer_bart_1/bart37.bmp', './homer_bart_1/bart38.bmp', './homer_bart_1/bart39.bmp', './homer_bart_1/bart4.bmp', './homer_bart_1/bart40.bmp', './homer_bart_1/bart42.bmp', './homer_bart_1/bart43.bmp', './homer_bart_1/bart44.bmp', './homer_bart_1/bart45.bmp', './homer_bart_1/bart46.bmp', './homer_bart_1/bart47.bmp', './homer_bart_1/bart48.bmp', './homer_bart_1/bart49.bmp', './homer_bart_1/bart5.bmp', './homer_bart_1/bart50.bmp', './homer_bart_1/bart51.bmp', './homer_bart_1/bart52.bmp', './homer_bart_1/bart53.bmp', './homer_bart_1/bart54.bmp', './homer_bart_1/bart55.bmp', './homer_bart_1/bart56.bmp', './homer_bart_1/bart57.bmp', './homer_bart_1/bart58.bmp', './homer_bart_1/bart59.bmp', './homer_bart_1/bart6.bmp', './homer_bart_1/bart60.bmp', './homer_bart_1/bart61.bmp', './homer_bart_1/bart62.bmp', './homer_bart_1/bart63.bmp', './homer_bart_1/bart64.bmp', './homer_bart_1/bart65.bmp', './homer_bart_1/bart66.bmp', './homer_bart_1/bart67.bmp', './homer_bart_1/bart68.bmp', './homer_bart_1/bart69.bmp', './homer_bart_1/bart7.bmp', './homer_bart_1/bart70.bmp', './homer_bart_1/bart71.bmp', './homer_bart_1/bart72.bmp', './homer_bart_1/bart73.bmp', './homer_bart_1/bart74.bmp', './homer_bart_1/bart75.bmp', './homer_bart_1/bart76.bmp', './homer_bart_1/bart77.bmp', './homer_bart_1/bart79.bmp', './homer_bart_1/bart8.bmp', './homer_bart_1/bart80.bmp', './homer_bart_1/bart81.bmp', './homer_bart_1/bart82.bmp', './homer_bart_1/bart83.bmp', './homer_bart_1/bart84.bmp', './homer_bart_1/bart85.bmp', './homer_bart_1/bart86.bmp', './homer_bart_1/bart87.bmp', './homer_bart_1/bart89.bmp', './homer_bart_1/bart9.bmp', './homer_bart_1/bart90.bmp', './homer_bart_1/bart91.bmp', './homer_bart_1/bart92.bmp', './homer_bart_1/bart93.bmp', './homer_bart_1/bart94.bmp', './homer_bart_1/bart95.bmp', './homer_bart_1/bart96.bmp', './homer_bart_1/bart97.bmp', './homer_bart_1/bart98.bmp', './homer_bart_1/bart99.bmp', './homer_bart_1/homer1.bmp', './homer_bart_1/homer10.bmp', './homer_bart_1/homer100.bmp', './homer_bart_1/homer101.bmp', './homer_bart_1/homer102.bmp', './homer_bart_1/homer103.bmp', './homer_bart_1/homer104.bmp', './homer_bart_1/homer105.bmp', './homer_bart_1/homer106.bmp', './homer_bart_1/homer107.bmp', './homer_bart_1/homer109.bmp', './homer_bart_1/homer110.bmp', './homer_bart_1/homer112.bmp', './homer_bart_1/homer113.bmp', './homer_bart_1/homer115.bmp', './homer_bart_1/homer116.bmp', './homer_bart_1/homer117.bmp', './homer_bart_1/homer119.bmp', './homer_bart_1/homer120.bmp', './homer_bart_1/homer121.bmp', './homer_bart_1/homer122.bmp', './homer_bart_1/homer123.bmp', './homer_bart_1/homer124.bmp', './homer_bart_1/homer13.bmp', './homer_bart_1/homer14.bmp', './homer_bart_1/homer15.bmp', './homer_bart_1/homer16.bmp', './homer_bart_1/homer17.bmp', './homer_bart_1/homer18.bmp', './homer_bart_1/homer2.bmp', './homer_bart_1/homer20.bmp', './homer_bart_1/homer21.bmp', './homer_bart_1/homer22.bmp', './homer_bart_1/homer23.bmp', './homer_bart_1/homer24.bmp', './homer_bart_1/homer26.bmp', './homer_bart_1/homer27.bmp', './homer_bart_1/homer28.bmp', './homer_bart_1/homer29.bmp', './homer_bart_1/homer3.bmp', './homer_bart_1/homer30.bmp', './homer_bart_1/homer31.bmp', './homer_bart_1/homer32.bmp', './homer_bart_1/homer33.bmp', './homer_bart_1/homer34.bmp', './homer_bart_1/homer35.bmp', './homer_bart_1/homer36.bmp', './homer_bart_1/homer37.bmp', './homer_bart_1/homer38.bmp', './homer_bart_1/homer4.bmp', './homer_bart_1/homer40.bmp', './homer_bart_1/homer41.bmp', './homer_bart_1/homer43.bmp', './homer_bart_1/homer44.bmp', './homer_bart_1/homer45.bmp', './homer_bart_1/homer46.bmp', './homer_bart_1/homer47.bmp', './homer_bart_1/homer48.bmp', './homer_bart_1/homer49.bmp', './homer_bart_1/homer5.bmp', './homer_bart_1/homer50.bmp', './homer_bart_1/homer51.bmp', './homer_bart_1/homer52.bmp', './homer_bart_1/homer54.bmp', './homer_bart_1/homer55.bmp', './homer_bart_1/homer56.bmp', './homer_bart_1/homer57.bmp', './homer_bart_1/homer58.bmp', './homer_bart_1/homer59.bmp', './homer_bart_1/homer6.bmp', './homer_bart_1/homer60.bmp', './homer_bart_1/homer61.bmp', './homer_bart_1/homer62.bmp', './homer_bart_1/homer63.bmp', './homer_bart_1/homer65.bmp', './homer_bart_1/homer66.bmp', './homer_bart_1/homer68.bmp', './homer_bart_1/homer69.bmp', './homer_bart_1/homer7.bmp', './homer_bart_1/homer70.bmp', './homer_bart_1/homer71.bmp', './homer_bart_1/homer72.bmp', './homer_bart_1/homer73.bmp', './homer_bart_1/homer74.bmp', './homer_bart_1/homer75.bmp', './homer_bart_1/homer76.bmp', './homer_bart_1/homer77.bmp', './homer_bart_1/homer78.bmp', './homer_bart_1/homer79.bmp', './homer_bart_1/homer8.bmp', './homer_bart_1/homer80.bmp', './homer_bart_1/homer81.bmp', './homer_bart_1/homer82.bmp', './homer_bart_1/homer83.bmp', './homer_bart_1/homer84.bmp', './homer_bart_1/homer85.bmp', './homer_bart_1/homer86.bmp', './homer_bart_1/homer87.bmp', './homer_bart_1/homer9.bmp', './homer_bart_1/homer90.bmp', './homer_bart_1/homer91.bmp', './homer_bart_1/homer92.bmp', './homer_bart_1/homer93.bmp', './homer_bart_1/homer94.bmp', './homer_bart_1/homer95.bmp', './homer_bart_1/homer96.bmp', './homer_bart_1/homer97.bmp', './homer_bart_1/homer98.bmp', './homer_bart_1/homer99.bmp']\n"
          ]
        },
        {
          "data": {
            "text/plain": [
              "list"
            ]
          },
          "execution_count": 9,
          "metadata": {},
          "output_type": "execute_result"
        }
      ],
      "source": [
        "directory = './homer_bart_1'\n",
        "files = [os.path.join(directory, f) for f in sorted(os.listdir(directory))]\n",
        "print(files)\n",
        "type(files)"
      ]
    },
    {
      "cell_type": "code",
      "execution_count": 10,
      "metadata": {
        "colab": {
          "base_uri": "https://localhost:8080/",
          "height": 1000
        },
        "id": "4suiubxKaFZn",
        "outputId": "e713a343-37ba-4bac-bbb8-b5bb4c722719"
      },
      "outputs": [],
      "source": [
        "height, width = 128, 128  # 設置要調整的圖像尺寸\n",
        "\n",
        "images = []  # 用於存儲處理後的圖像的數組\n",
        "classes = []  # 用於存儲每個圖像的類別的數組\n",
        "\n",
        "for image_path in files:  # 遍歷所有的圖像文件路徑\n",
        "    try:\n",
        "        image = cv2.imread(image_path)  # 讀取圖像\n",
        "        H, W = image.shape[:2]  # 獲取原始圖像的高度和寬度\n",
        "    except:\n",
        "        continue  # 如果無法讀取圖像，跳過該圖像\n",
        "\n",
        "    image = cv2.resize(image, (width, height))  # 調整圖像大小為指定的寬度和高度\n",
        "    image = cv2.cvtColor(image, cv2.COLOR_BGR2GRAY)  # 將圖像轉換為灰度圖像\n",
        "    # print(image.shape) # (128, 128)\n",
        "\t\n",
        "    cv2.imshow(\"image\",image)  # 顯示處理後的圖像\n",
        "\t\n",
        "    image = image.ravel()  # 將圖像平坦化為一維數組\n",
        "    # print(image.shape)  # (16384,)\n",
        "    images.append(image)  # 將平坦化後的圖像添加到 images 數組中\n",
        "\n",
        "    # 根據文件名判斷類別，如果ㄥ文件名以 'b' 開頭，類別為 0，否則為 1\n",
        "    image_name = os.path.basename(os.path.normpath(image_path))\n",
        "    class_name = 0 if image_name.startswith('b') else 1\n",
        "    classes.append(class_name)  # 將圖像類別添加到 classes 數組中"
      ]
    },
    {
      "cell_type": "markdown",
      "metadata": {},
      "source": [
        "資料由陣列轉np"
      ]
    },
    {
      "cell_type": "code",
      "execution_count": 11,
      "metadata": {
        "colab": {
          "base_uri": "https://localhost:8080/"
        },
        "id": "E15KDg0gmx2T",
        "outputId": "ee95eb8f-eaf6-4db9-e32f-d59413d6a359"
      },
      "outputs": [
        {
          "name": "stdout",
          "output_type": "stream",
          "text": [
            "<class 'list'> <class 'list'>\n",
            "<class 'numpy.ndarray'> <class 'numpy.ndarray'>\n",
            "(269, 16384) (269,)\n"
          ]
        }
      ],
      "source": [
        "print(type(images), type(classes))\n",
        "\n",
        "X = np.asarray(images)\n",
        "y = np.asarray(classes)\n",
        "\n",
        "print(type(X), type(y))\n",
        "print(X.shape, y.shape) # 16384 = 128 * 128"
      ]
    },
    {
      "cell_type": "markdown",
      "metadata": {},
      "source": [
        "## 查看原資料"
      ]
    },
    {
      "cell_type": "code",
      "execution_count": 12,
      "metadata": {
        "colab": {
          "base_uri": "https://localhost:8080/"
        },
        "id": "8TgtZDHEoMvA",
        "outputId": "61f8c666-d207-43a2-94c4-2d069ab68e86"
      },
      "outputs": [
        {
          "data": {
            "text/plain": [
              "<matplotlib.image.AxesImage at 0x2e78b8cd0>"
            ]
          },
          "execution_count": 12,
          "metadata": {},
          "output_type": "execute_result"
        },
        {
          "data": {
            "image/png": "[encoded data removed]",
            "text/plain": [
              "<Figure size 400x200 with 1 Axes>"
            ]
          },
          "metadata": {},
          "output_type": "display_data"
        },
        {
          "data": {
            "image/png": "[encoded data removed]",
            "text/plain": [
              "<Figure size 400x200 with 1 Axes>"
            ]
          },
          "metadata": {},
          "output_type": "display_data"
        }
      ],
      "source": [
        "X[0].reshape(width, height).shape\n",
        "\n",
        "image_np = cv2.cvtColor(X[0].reshape(width, height), cv2.COLOR_BGR2RGB) # 將 OpenCV 中的 BGR 格式轉換為 RGB 格式，因為 Matplotlib 預期的是 RGB 格式\n",
        "plt.figure(figsize=(4, 2))\n",
        "plt.axis('off')  # 隱藏坐標軸\n",
        "plt.imshow(image_np)\n",
        "\n",
        "image_np = cv2.cvtColor(X[200].reshape(width, height), cv2.COLOR_BGR2RGB) # 將 OpenCV 中的 BGR 格式轉換為 RGB 格式，因為 Matplotlib 預期的是 RGB 格式\n",
        "plt.figure(figsize=(4, 2))\n",
        "plt.axis('off')  # 隱藏坐標軸\n",
        "plt.imshow(image_np)"
      ]
    },
    {
      "cell_type": "code",
      "execution_count": 13,
      "metadata": {
        "colab": {
          "base_uri": "https://localhost:8080/",
          "height": 338
        },
        "id": "sH9bbKgvonqC",
        "outputId": "de0ab601-9b56-42db-ec2f-e66d03fdc4b8"
      },
      "outputs": [
        {
          "data": {
            "text/plain": [
              "<Axes: xlabel='y', ylabel='count'>"
            ]
          },
          "execution_count": 13,
          "metadata": {},
          "output_type": "execute_result"
        },
        {
          "data": {
            "image/png": "[encoded data removed]",
            "text/plain": [
              "<Figure size 640x480 with 1 Axes>"
            ]
          },
          "metadata": {},
          "output_type": "display_data"
        }
      ],
      "source": [
        "# 将NumPy数组转换为Pandas DataFrame，并将列标记为分类变量\n",
        "df = pd.DataFrame({'y': y})\n",
        "df['y'] = df['y'].astype('category')\n",
        "\n",
        "# 绘制计数直方图\n",
        "sns.countplot(data=df, x='y')"
      ]
    },
    {
      "cell_type": "code",
      "execution_count": 14,
      "metadata": {
        "colab": {
          "base_uri": "https://localhost:8080/"
        },
        "id": "LuskbXHRo3Sj",
        "outputId": "a76e7b69-6d99-4503-e9b5-9ea0d8150f89"
      },
      "outputs": [
        {
          "data": {
            "text/plain": [
              "(array([0, 1]), array([160, 109]))"
            ]
          },
          "execution_count": 14,
          "metadata": {},
          "output_type": "execute_result"
        }
      ],
      "source": [
        "# 函数返回一个包含两个元素的元组，第一个元素是 y 中唯一值的列表，第二个元素是每个唯一值对应的出现次数。\n",
        "np.unique(y, return_counts=True)"
      ]
    },
    {
      "cell_type": "markdown",
      "metadata": {
        "id": "R0L0KqcGBs_c"
      },
      "source": [
        "## 數據標準化"
      ]
    },
    {
      "cell_type": "code",
      "execution_count": 53,
      "metadata": {
        "colab": {
          "base_uri": "https://localhost:8080/"
        },
        "id": "-ssFm4xUpTpC",
        "outputId": "0159eb11-ee3d-46c3-bd66-8ff025184f00"
      },
      "outputs": [
        {
          "data": {
            "text/plain": [
              "(255, 0)"
            ]
          },
          "execution_count": 53,
          "metadata": {},
          "output_type": "execute_result"
        }
      ],
      "source": [
        "X[0].max(), X[0].min()"
      ]
    },
    {
      "cell_type": "markdown",
      "metadata": {},
      "source": [
        "使用了 scikit-learn 庫中的 MinMaxScaler 類，對數據進行了最小-最大規範化（也稱為歸一化）處理。"
      ]
    },
    {
      "cell_type": "code",
      "execution_count": 19,
      "metadata": {
        "id": "9e4Me4nUqEHd"
      },
      "outputs": [],
      "source": [
        "from sklearn.preprocessing import MinMaxScaler\n",
        "scaler = MinMaxScaler()\n",
        "X = scaler.fit_transform(X)"
      ]
    },
    {
      "cell_type": "code",
      "execution_count": 55,
      "metadata": {
        "colab": {
          "base_uri": "https://localhost:8080/"
        },
        "id": "gWVmAIYrqQJg",
        "outputId": "2f99cae8-4f3e-45a9-bfcf-436ded030ecf"
      },
      "outputs": [
        {
          "data": {
            "text/plain": [
              "(1.0000000000000002, 0.0)"
            ]
          },
          "execution_count": 55,
          "metadata": {},
          "output_type": "execute_result"
        }
      ],
      "source": [
        "X[0].max(), X[0].min() # (1.0000000000000002, 0.0)"
      ]
    },
    {
      "cell_type": "markdown",
      "metadata": {
        "id": "HU2aiuznKCpM"
      },
      "source": [
        "## 訓練集與資料集"
      ]
    },
    {
      "cell_type": "code",
      "execution_count": 15,
      "metadata": {
        "id": "THqcwPi-rLLP"
      },
      "outputs": [
        {
          "data": {
            "text/plain": [
              "((215, 16384), (215,), (54, 16384), (54,))"
            ]
          },
          "execution_count": 15,
          "metadata": {},
          "output_type": "execute_result"
        }
      ],
      "source": [
        "from sklearn.model_selection import train_test_split\n",
        "\n",
        "X_train, X_test, y_train, y_test = train_test_split(X, y, test_size = 0.2, random_state = 1)\n",
        "X_train.shape, y_train.shape, X_test.shape, y_test.shape"
      ]
    },
    {
      "cell_type": "markdown",
      "metadata": {
        "id": "c_8D8Q-5NR7z"
      },
      "source": [
        "### Building and training the neural network"
      ]
    },
    {
      "cell_type": "code",
      "execution_count": null,
      "metadata": {
        "colab": {
          "base_uri": "https://localhost:8080/"
        },
        "id": "gV1mN8IOzQCz",
        "outputId": "13a2d220-6ddd-4820-85b8-1f6e3be39ce1"
      },
      "outputs": [
        {
          "data": {
            "text/plain": [
              "8193.0"
            ]
          },
          "execution_count": 70,
          "metadata": {
            "tags": []
          },
          "output_type": "execute_result"
        }
      ],
      "source": [
        "(16384 + 2) / 2"
      ]
    },
    {
      "cell_type": "markdown",
      "metadata": {},
      "source": [
        "## 建立模型"
      ]
    },
    {
      "cell_type": "code",
      "execution_count": 59,
      "metadata": {
        "id": "H57NM0bHyikx"
      },
      "outputs": [
        {
          "data": {
            "text/html": [
              "<pre style=\"white-space:pre;overflow-x:auto;line-height:normal;font-family:Menlo,'DejaVu Sans Mono',consolas,'Courier New',monospace\"><span style=\"font-weight: bold\">Model: \"sequential_1\"</span>\n",
              "</pre>\n"
            ],
            "text/plain": [
              "\u001b[1mModel: \"sequential_1\"\u001b[0m\n"
            ]
          },
          "metadata": {},
          "output_type": "display_data"
        },
        {
          "data": {
            "text/html": [
              "<pre style=\"white-space:pre;overflow-x:auto;line-height:normal;font-family:Menlo,'DejaVu Sans Mono',consolas,'Courier New',monospace\">┏━━━━━━━━━━━━━━━━━━━━━━━━━━━━━━━━━┳━━━━━━━━━━━━━━━━━━━━━━━━┳━━━━━━━━━━━━━━━┓\n",
              "┃<span style=\"font-weight: bold\"> Layer (type)                    </span>┃<span style=\"font-weight: bold\"> Output Shape           </span>┃<span style=\"font-weight: bold\">       Param # </span>┃\n",
              "┡━━━━━━━━━━━━━━━━━━━━━━━━━━━━━━━━━╇━━━━━━━━━━━━━━━━━━━━━━━━╇━━━━━━━━━━━━━━━┩\n",
              "│ dense_3 (<span style=\"color: #0087ff; text-decoration-color: #0087ff\">Dense</span>)                 │ (<span style=\"color: #00d7ff; text-decoration-color: #00d7ff\">None</span>, <span style=\"color: #00af00; text-decoration-color: #00af00\">8193</span>)           │   <span style=\"color: #00af00; text-decoration-color: #00af00\">134,242,305</span> │\n",
              "├─────────────────────────────────┼────────────────────────┼───────────────┤\n",
              "│ dense_4 (<span style=\"color: #0087ff; text-decoration-color: #0087ff\">Dense</span>)                 │ (<span style=\"color: #00d7ff; text-decoration-color: #00d7ff\">None</span>, <span style=\"color: #00af00; text-decoration-color: #00af00\">8193</span>)           │    <span style=\"color: #00af00; text-decoration-color: #00af00\">67,133,442</span> │\n",
              "├─────────────────────────────────┼────────────────────────┼───────────────┤\n",
              "│ dense_5 (<span style=\"color: #0087ff; text-decoration-color: #0087ff\">Dense</span>)                 │ (<span style=\"color: #00d7ff; text-decoration-color: #00d7ff\">None</span>, <span style=\"color: #00af00; text-decoration-color: #00af00\">1</span>)              │         <span style=\"color: #00af00; text-decoration-color: #00af00\">8,194</span> │\n",
              "└─────────────────────────────────┴────────────────────────┴───────────────┘\n",
              "</pre>\n"
            ],
            "text/plain": [
              "┏━━━━━━━━━━━━━━━━━━━━━━━━━━━━━━━━━┳━━━━━━━━━━━━━━━━━━━━━━━━┳━━━━━━━━━━━━━━━┓\n",
              "┃\u001b[1m \u001b[0m\u001b[1mLayer (type)                   \u001b[0m\u001b[1m \u001b[0m┃\u001b[1m \u001b[0m\u001b[1mOutput Shape          \u001b[0m\u001b[1m \u001b[0m┃\u001b[1m \u001b[0m\u001b[1m      Param #\u001b[0m\u001b[1m \u001b[0m┃\n",
              "┡━━━━━━━━━━━━━━━━━━━━━━━━━━━━━━━━━╇━━━━━━━━━━━━━━━━━━━━━━━━╇━━━━━━━━━━━━━━━┩\n",
              "│ dense_3 (\u001b[38;5;33mDense\u001b[0m)                 │ (\u001b[38;5;45mNone\u001b[0m, \u001b[38;5;34m8193\u001b[0m)           │   \u001b[38;5;34m134,242,305\u001b[0m │\n",
              "├─────────────────────────────────┼────────────────────────┼───────────────┤\n",
              "│ dense_4 (\u001b[38;5;33mDense\u001b[0m)                 │ (\u001b[38;5;45mNone\u001b[0m, \u001b[38;5;34m8193\u001b[0m)           │    \u001b[38;5;34m67,133,442\u001b[0m │\n",
              "├─────────────────────────────────┼────────────────────────┼───────────────┤\n",
              "│ dense_5 (\u001b[38;5;33mDense\u001b[0m)                 │ (\u001b[38;5;45mNone\u001b[0m, \u001b[38;5;34m1\u001b[0m)              │         \u001b[38;5;34m8,194\u001b[0m │\n",
              "└─────────────────────────────────┴────────────────────────┴───────────────┘\n"
            ]
          },
          "metadata": {},
          "output_type": "display_data"
        },
        {
          "data": {
            "text/html": [
              "<pre style=\"white-space:pre;overflow-x:auto;line-height:normal;font-family:Menlo,'DejaVu Sans Mono',consolas,'Courier New',monospace\"><span style=\"font-weight: bold\"> Total params: </span><span style=\"color: #00af00; text-decoration-color: #00af00\">201,383,941</span> (768.22 MB)\n",
              "</pre>\n"
            ],
            "text/plain": [
              "\u001b[1m Total params: \u001b[0m\u001b[38;5;34m201,383,941\u001b[0m (768.22 MB)\n"
            ]
          },
          "metadata": {},
          "output_type": "display_data"
        },
        {
          "data": {
            "text/html": [
              "<pre style=\"white-space:pre;overflow-x:auto;line-height:normal;font-family:Menlo,'DejaVu Sans Mono',consolas,'Courier New',monospace\"><span style=\"font-weight: bold\"> Trainable params: </span><span style=\"color: #00af00; text-decoration-color: #00af00\">201,383,941</span> (768.22 MB)\n",
              "</pre>\n"
            ],
            "text/plain": [
              "\u001b[1m Trainable params: \u001b[0m\u001b[38;5;34m201,383,941\u001b[0m (768.22 MB)\n"
            ]
          },
          "metadata": {},
          "output_type": "display_data"
        },
        {
          "data": {
            "text/html": [
              "<pre style=\"white-space:pre;overflow-x:auto;line-height:normal;font-family:Menlo,'DejaVu Sans Mono',consolas,'Courier New',monospace\"><span style=\"font-weight: bold\"> Non-trainable params: </span><span style=\"color: #00af00; text-decoration-color: #00af00\">0</span> (0.00 B)\n",
              "</pre>\n"
            ],
            "text/plain": [
              "\u001b[1m Non-trainable params: \u001b[0m\u001b[38;5;34m0\u001b[0m (0.00 B)\n"
            ]
          },
          "metadata": {},
          "output_type": "display_data"
        }
      ],
      "source": [
        "# 16384 -> 8193 -> 8193 -> 1 \n",
        "\n",
        "# 建立序列模型对象\n",
        "network1 = tf.keras.models.Sequential()\n",
        "\n",
        "# 添加第一个全连接层，包含8193个神经元（輸入16384輸出2平均），输入特征数量为16384（X_train大小），使用ReLU激活函数\n",
        "network1.add(tf.keras.layers.Dense(input_shape=(16384,), units=8193, activation='relu'))\n",
        " \n",
        "# 添加第二个全连接层，包含8193个神经元，使用ReLU激活函数\n",
        "network1.add(tf.keras.layers.Dense(units=8193, activation='relu'))\n",
        "\n",
        "# 添加输出层，包含1个神经元，使用Sigmoid激活函数，通常用于二元分类任务\n",
        "network1.add(tf.keras.layers.Dense(units=1, activation='sigmoid'))\n",
        "\n",
        "\n",
        "network1.summary()"
      ]
    },
    {
      "cell_type": "markdown",
      "metadata": {},
      "source": [
        "配置神经网络模型的编译过程"
      ]
    },
    {
      "cell_type": "code",
      "execution_count": 60,
      "metadata": {
        "id": "irg12cX11DmD"
      },
      "outputs": [],
      "source": [
        "# https://keras.io/api/optimizers/\n",
        "# https://keras.io/api/losses/\n",
        "network1.compile(optimizer='Adam', loss='binary_crossentropy', metrics = ['accuracy'])"
      ]
    },
    {
      "cell_type": "markdown",
      "metadata": {},
      "source": [
        "開始訓練"
      ]
    },
    {
      "cell_type": "code",
      "execution_count": 61,
      "metadata": {
        "colab": {
          "base_uri": "https://localhost:8080/"
        },
        "id": "ngcz4Mw_1pLL",
        "outputId": "2db62f74-f48c-49b9-8377-a78470b912e7"
      },
      "outputs": [
        {
          "name": "stdout",
          "output_type": "stream",
          "text": [
            "Epoch 1/50\n",
            "\u001b[1m7/7\u001b[0m \u001b[32m━━━━━━━━━━━━━━━━━━━━\u001b[0m\u001b[37m\u001b[0m \u001b[1m10s\u001b[0m 1s/step - accuracy: 0.5295 - loss: 158.4096\n",
            "Epoch 2/50\n",
            "\u001b[1m7/7\u001b[0m \u001b[32m━━━━━━━━━━━━━━━━━━━━\u001b[0m\u001b[37m\u001b[0m \u001b[1m7s\u001b[0m 1s/step - accuracy: 0.4463 - loss: 14.9382\n",
            "Epoch 3/50\n",
            "\u001b[1m7/7\u001b[0m \u001b[32m━━━━━━━━━━━━━━━━━━━━\u001b[0m\u001b[37m\u001b[0m \u001b[1m10s\u001b[0m 1s/step - accuracy: 0.5737 - loss: 8.2449\n",
            "Epoch 4/50\n",
            "\u001b[1m7/7\u001b[0m \u001b[32m━━━━━━━━━━━━━━━━━━━━\u001b[0m\u001b[37m\u001b[0m \u001b[1m8s\u001b[0m 863ms/step - accuracy: 0.4562 - loss: 3.0339\n",
            "Epoch 5/50\n",
            "\u001b[1m7/7\u001b[0m \u001b[32m━━━━━━━━━━━━━━━━━━━━\u001b[0m\u001b[37m\u001b[0m \u001b[1m7s\u001b[0m 962ms/step - accuracy: 0.4058 - loss: 0.8234\n",
            "Epoch 6/50\n",
            "\u001b[1m7/7\u001b[0m \u001b[32m━━━━━━━━━━━━━━━━━━━━\u001b[0m\u001b[37m\u001b[0m \u001b[1m10s\u001b[0m 1s/step - accuracy: 0.5980 - loss: 0.6706\n",
            "Epoch 7/50\n",
            "\u001b[1m7/7\u001b[0m \u001b[32m━━━━━━━━━━━━━━━━━━━━\u001b[0m\u001b[37m\u001b[0m \u001b[1m10s\u001b[0m 1s/step - accuracy: 0.6300 - loss: 0.6429\n",
            "Epoch 8/50\n",
            "\u001b[1m7/7\u001b[0m \u001b[32m━━━━━━━━━━━━━━━━━━━━\u001b[0m\u001b[37m\u001b[0m \u001b[1m7s\u001b[0m 987ms/step - accuracy: 0.6415 - loss: 0.6333\n",
            "Epoch 9/50\n",
            "\u001b[1m7/7\u001b[0m \u001b[32m━━━━━━━━━━━━━━━━━━━━\u001b[0m\u001b[37m\u001b[0m \u001b[1m9s\u001b[0m 1s/step - accuracy: 0.6200 - loss: 0.6619\n",
            "Epoch 10/50\n",
            "\u001b[1m7/7\u001b[0m \u001b[32m━━━━━━━━━━━━━━━━━━━━\u001b[0m\u001b[37m\u001b[0m \u001b[1m5s\u001b[0m 665ms/step - accuracy: 0.6131 - loss: 0.6575\n",
            "Epoch 11/50\n",
            "\u001b[1m7/7\u001b[0m \u001b[32m━━━━━━━━━━━━━━━━━━━━\u001b[0m\u001b[37m\u001b[0m \u001b[1m4s\u001b[0m 629ms/step - accuracy: 0.6223 - loss: 0.6386\n",
            "Epoch 12/50\n",
            "\u001b[1m7/7\u001b[0m \u001b[32m━━━━━━━━━━━━━━━━━━━━\u001b[0m\u001b[37m\u001b[0m \u001b[1m6s\u001b[0m 804ms/step - accuracy: 0.6195 - loss: 0.6839\n",
            "Epoch 13/50\n",
            "\u001b[1m7/7\u001b[0m \u001b[32m━━━━━━━━━━━━━━━━━━━━\u001b[0m\u001b[37m\u001b[0m \u001b[1m6s\u001b[0m 772ms/step - accuracy: 0.6327 - loss: 0.6384\n",
            "Epoch 14/50\n",
            "\u001b[1m7/7\u001b[0m \u001b[32m━━━━━━━━━━━━━━━━━━━━\u001b[0m\u001b[37m\u001b[0m \u001b[1m9s\u001b[0m 1s/step - accuracy: 0.6978 - loss: 0.6105\n",
            "Epoch 15/50\n",
            "\u001b[1m7/7\u001b[0m \u001b[32m━━━━━━━━━━━━━━━━━━━━\u001b[0m\u001b[37m\u001b[0m \u001b[1m6s\u001b[0m 896ms/step - accuracy: 0.6599 - loss: 0.6481\n",
            "Epoch 16/50\n",
            "\u001b[1m7/7\u001b[0m \u001b[32m━━━━━━━━━━━━━━━━━━━━\u001b[0m\u001b[37m\u001b[0m \u001b[1m7s\u001b[0m 964ms/step - accuracy: 0.6292 - loss: 0.6438\n",
            "Epoch 17/50\n",
            "\u001b[1m7/7\u001b[0m \u001b[32m━━━━━━━━━━━━━━━━━━━━\u001b[0m\u001b[37m\u001b[0m \u001b[1m11s\u001b[0m 2s/step - accuracy: 0.6116 - loss: 0.6305\n",
            "Epoch 18/50\n",
            "\u001b[1m7/7\u001b[0m \u001b[32m━━━━━━━━━━━━━━━━━━━━\u001b[0m\u001b[37m\u001b[0m \u001b[1m9s\u001b[0m 1s/step - accuracy: 0.6067 - loss: 0.5991\n",
            "Epoch 19/50\n",
            "\u001b[1m7/7\u001b[0m \u001b[32m━━━━━━━━━━━━━━━━━━━━\u001b[0m\u001b[37m\u001b[0m \u001b[1m7s\u001b[0m 953ms/step - accuracy: 0.6771 - loss: 0.5710\n",
            "Epoch 20/50\n",
            "\u001b[1m7/7\u001b[0m \u001b[32m━━━━━━━━━━━━━━━━━━━━\u001b[0m\u001b[37m\u001b[0m \u001b[1m6s\u001b[0m 875ms/step - accuracy: 0.7535 - loss: 0.5131\n",
            "Epoch 21/50\n",
            "\u001b[1m7/7\u001b[0m \u001b[32m━━━━━━━━━━━━━━━━━━━━\u001b[0m\u001b[37m\u001b[0m \u001b[1m7s\u001b[0m 920ms/step - accuracy: 0.6805 - loss: 0.5555\n",
            "Epoch 22/50\n",
            "\u001b[1m7/7\u001b[0m \u001b[32m━━━━━━━━━━━━━━━━━━━━\u001b[0m\u001b[37m\u001b[0m \u001b[1m7s\u001b[0m 940ms/step - accuracy: 0.7512 - loss: 0.5516\n",
            "Epoch 23/50\n",
            "\u001b[1m7/7\u001b[0m \u001b[32m━━━━━━━━━━━━━━━━━━━━\u001b[0m\u001b[37m\u001b[0m \u001b[1m5s\u001b[0m 734ms/step - accuracy: 0.7563 - loss: 0.5153\n",
            "Epoch 24/50\n",
            "\u001b[1m7/7\u001b[0m \u001b[32m━━━━━━━━━━━━━━━━━━━━\u001b[0m\u001b[37m\u001b[0m \u001b[1m7s\u001b[0m 1s/step - accuracy: 0.8214 - loss: 0.3568\n",
            "Epoch 25/50\n",
            "\u001b[1m7/7\u001b[0m \u001b[32m━━━━━━━━━━━━━━━━━━━━\u001b[0m\u001b[37m\u001b[0m \u001b[1m6s\u001b[0m 943ms/step - accuracy: 0.8117 - loss: 0.4123\n",
            "Epoch 26/50\n",
            "\u001b[1m7/7\u001b[0m \u001b[32m━━━━━━━━━━━━━━━━━━━━\u001b[0m\u001b[37m\u001b[0m \u001b[1m7s\u001b[0m 1s/step - accuracy: 0.8488 - loss: 0.3462  \n",
            "Epoch 27/50\n",
            "\u001b[1m7/7\u001b[0m \u001b[32m━━━━━━━━━━━━━━━━━━━━\u001b[0m\u001b[37m\u001b[0m \u001b[1m5s\u001b[0m 690ms/step - accuracy: 0.8767 - loss: 0.3271\n",
            "Epoch 28/50\n",
            "\u001b[1m7/7\u001b[0m \u001b[32m━━━━━━━━━━━━━━━━━━━━\u001b[0m\u001b[37m\u001b[0m \u001b[1m6s\u001b[0m 927ms/step - accuracy: 0.7549 - loss: 0.4571\n",
            "Epoch 29/50\n",
            "\u001b[1m7/7\u001b[0m \u001b[32m━━━━━━━━━━━━━━━━━━━━\u001b[0m\u001b[37m\u001b[0m \u001b[1m9s\u001b[0m 1s/step - accuracy: 0.8076 - loss: 0.4147\n",
            "Epoch 30/50\n",
            "\u001b[1m7/7\u001b[0m \u001b[32m━━━━━━━━━━━━━━━━━━━━\u001b[0m\u001b[37m\u001b[0m \u001b[1m6s\u001b[0m 794ms/step - accuracy: 0.7856 - loss: 0.3912\n",
            "Epoch 31/50\n",
            "\u001b[1m7/7\u001b[0m \u001b[32m━━━━━━━━━━━━━━━━━━━━\u001b[0m\u001b[37m\u001b[0m \u001b[1m7s\u001b[0m 837ms/step - accuracy: 0.8146 - loss: 0.3995\n",
            "Epoch 32/50\n",
            "\u001b[1m7/7\u001b[0m \u001b[32m━━━━━━━━━━━━━━━━━━━━\u001b[0m\u001b[37m\u001b[0m \u001b[1m6s\u001b[0m 862ms/step - accuracy: 0.9294 - loss: 0.2380\n",
            "Epoch 33/50\n",
            "\u001b[1m7/7\u001b[0m \u001b[32m━━━━━━━━━━━━━━━━━━━━\u001b[0m\u001b[37m\u001b[0m \u001b[1m7s\u001b[0m 954ms/step - accuracy: 0.9193 - loss: 0.2221\n",
            "Epoch 34/50\n",
            "\u001b[1m7/7\u001b[0m \u001b[32m━━━━━━━━━━━━━━━━━━━━\u001b[0m\u001b[37m\u001b[0m \u001b[1m8s\u001b[0m 1s/step - accuracy: 0.9231 - loss: 0.1925\n",
            "Epoch 35/50\n",
            "\u001b[1m7/7\u001b[0m \u001b[32m━━━━━━━━━━━━━━━━━━━━\u001b[0m\u001b[37m\u001b[0m \u001b[1m7s\u001b[0m 1s/step - accuracy: 0.7516 - loss: 0.4648\n",
            "Epoch 36/50\n",
            "\u001b[1m7/7\u001b[0m \u001b[32m━━━━━━━━━━━━━━━━━━━━\u001b[0m\u001b[37m\u001b[0m \u001b[1m6s\u001b[0m 805ms/step - accuracy: 0.8225 - loss: 0.3897\n",
            "Epoch 37/50\n",
            "\u001b[1m7/7\u001b[0m \u001b[32m━━━━━━━━━━━━━━━━━━━━\u001b[0m\u001b[37m\u001b[0m \u001b[1m7s\u001b[0m 927ms/step - accuracy: 0.7959 - loss: 0.5311\n",
            "Epoch 38/50\n",
            "\u001b[1m7/7\u001b[0m \u001b[32m━━━━━━━━━━━━━━━━━━━━\u001b[0m\u001b[37m\u001b[0m \u001b[1m7s\u001b[0m 1s/step - accuracy: 0.9131 - loss: 0.2403 \n",
            "Epoch 39/50\n",
            "\u001b[1m7/7\u001b[0m \u001b[32m━━━━━━━━━━━━━━━━━━━━\u001b[0m\u001b[37m\u001b[0m \u001b[1m6s\u001b[0m 877ms/step - accuracy: 0.9381 - loss: 0.1792\n",
            "Epoch 40/50\n",
            "\u001b[1m7/7\u001b[0m \u001b[32m━━━━━━━━━━━━━━━━━━━━\u001b[0m\u001b[37m\u001b[0m \u001b[1m6s\u001b[0m 872ms/step - accuracy: 0.9771 - loss: 0.1384\n",
            "Epoch 41/50\n",
            "\u001b[1m7/7\u001b[0m \u001b[32m━━━━━━━━━━━━━━━━━━━━\u001b[0m\u001b[37m\u001b[0m \u001b[1m6s\u001b[0m 820ms/step - accuracy: 0.9909 - loss: 0.0868\n",
            "Epoch 42/50\n",
            "\u001b[1m7/7\u001b[0m \u001b[32m━━━━━━━━━━━━━━━━━━━━\u001b[0m\u001b[37m\u001b[0m \u001b[1m7s\u001b[0m 1s/step - accuracy: 0.9826 - loss: 0.0930 \n",
            "Epoch 43/50\n",
            "\u001b[1m7/7\u001b[0m \u001b[32m━━━━━━━━━━━━━━━━━━━━\u001b[0m\u001b[37m\u001b[0m \u001b[1m6s\u001b[0m 818ms/step - accuracy: 0.9546 - loss: 0.1035\n",
            "Epoch 44/50\n",
            "\u001b[1m7/7\u001b[0m \u001b[32m━━━━━━━━━━━━━━━━━━━━\u001b[0m\u001b[37m\u001b[0m \u001b[1m5s\u001b[0m 641ms/step - accuracy: 0.9083 - loss: 0.1667\n",
            "Epoch 45/50\n",
            "\u001b[1m7/7\u001b[0m \u001b[32m━━━━━━━━━━━━━━━━━━━━\u001b[0m\u001b[37m\u001b[0m \u001b[1m7s\u001b[0m 1s/step - accuracy: 0.9777 - loss: 0.0622\n",
            "Epoch 46/50\n",
            "\u001b[1m7/7\u001b[0m \u001b[32m━━━━━━━━━━━━━━━━━━━━\u001b[0m\u001b[37m\u001b[0m \u001b[1m5s\u001b[0m 747ms/step - accuracy: 0.9814 - loss: 0.0596\n",
            "Epoch 47/50\n",
            "\u001b[1m7/7\u001b[0m \u001b[32m━━━━━━━━━━━━━━━━━━━━\u001b[0m\u001b[37m\u001b[0m \u001b[1m8s\u001b[0m 1s/step - accuracy: 1.0000 - loss: 0.0289\n",
            "Epoch 48/50\n",
            "\u001b[1m7/7\u001b[0m \u001b[32m━━━━━━━━━━━━━━━━━━━━\u001b[0m\u001b[37m\u001b[0m \u001b[1m6s\u001b[0m 911ms/step - accuracy: 0.9939 - loss: 0.0455\n",
            "Epoch 49/50\n",
            "\u001b[1m7/7\u001b[0m \u001b[32m━━━━━━━━━━━━━━━━━━━━\u001b[0m\u001b[37m\u001b[0m \u001b[1m7s\u001b[0m 1s/step - accuracy: 0.9859 - loss: 0.0926 \n",
            "Epoch 50/50\n",
            "\u001b[1m7/7\u001b[0m \u001b[32m━━━━━━━━━━━━━━━━━━━━\u001b[0m\u001b[37m\u001b[0m \u001b[1m5s\u001b[0m 739ms/step - accuracy: 0.9603 - loss: 0.0847\n"
          ]
        }
      ],
      "source": [
        "history = network1.fit(X_train, y_train, epochs=50)"
      ]
    },
    {
      "cell_type": "markdown",
      "metadata": {
        "id": "48crjefERiK8"
      },
      "source": [
        "### Evaluating the neural network"
      ]
    },
    {
      "cell_type": "code",
      "execution_count": 62,
      "metadata": {
        "colab": {
          "base_uri": "https://localhost:8080/"
        },
        "id": "28Vm3OJS4TVe",
        "outputId": "d2bc5a04-8e57-4456-8487-092bb10fd65d"
      },
      "outputs": [
        {
          "data": {
            "text/plain": [
              "dict_keys(['accuracy', 'loss'])"
            ]
          },
          "execution_count": 62,
          "metadata": {},
          "output_type": "execute_result"
        }
      ],
      "source": [
        "history.history.keys() # 于获取训练历史记录中的所有键的方法"
      ]
    },
    {
      "cell_type": "code",
      "execution_count": 70,
      "metadata": {
        "colab": {
          "base_uri": "https://localhost:8080/",
          "height": 285
        },
        "id": "V7AKGPka4bKZ",
        "outputId": "878b6435-996a-4326-ebf6-d7dbae46b763"
      },
      "outputs": [
        {
          "data": {
            "text/plain": [
              "[<matplotlib.lines.Line2D at 0x17b0faed0>]"
            ]
          },
          "execution_count": 70,
          "metadata": {},
          "output_type": "execute_result"
        },
        {
          "data": {
            "image/png": "[encoded data removed]",
            "text/plain": [
              "<Figure size 400x200 with 1 Axes>"
            ]
          },
          "metadata": {},
          "output_type": "display_data"
        }
      ],
      "source": [
        "plt.figure(figsize=(4, 2))\n",
        "plt.plot(history.history['loss'])\n"
      ]
    },
    {
      "cell_type": "code",
      "execution_count": 71,
      "metadata": {
        "colab": {
          "base_uri": "https://localhost:8080/",
          "height": 285
        },
        "id": "CEJNeGV54-DW",
        "outputId": "f596d5f7-ed9d-4023-849e-8cf76e25a1da"
      },
      "outputs": [
        {
          "data": {
            "text/plain": [
              "[<matplotlib.lines.Line2D at 0x2fe533450>]"
            ]
          },
          "execution_count": 71,
          "metadata": {},
          "output_type": "execute_result"
        },
        {
          "data": {
            "image/png": "[encoded data removed]",
            "text/plain": [
              "<Figure size 400x200 with 1 Axes>"
            ]
          },
          "metadata": {},
          "output_type": "display_data"
        }
      ],
      "source": [
        "plt.figure(figsize=(4, 2))\n",
        "plt.plot(history.history['accuracy'])"
      ]
    },
    {
      "cell_type": "markdown",
      "metadata": {},
      "source": [
        "## 輸出預設值"
      ]
    },
    {
      "cell_type": "code",
      "execution_count": 72,
      "metadata": {
        "colab": {
          "base_uri": "https://localhost:8080/"
        },
        "id": "cngX7KFi5QaU",
        "outputId": "2fc21a63-08d6-4d43-a23d-b3d52691484a"
      },
      "outputs": [
        {
          "name": "stdout",
          "output_type": "stream",
          "text": [
            "\u001b[1m2/2\u001b[0m \u001b[32m━━━━━━━━━━━━━━━━━━━━\u001b[0m\u001b[37m\u001b[0m \u001b[1m2s\u001b[0m 66ms/step\n"
          ]
        },
        {
          "data": {
            "text/plain": [
              "array([[2.45422195e-03],\n",
              "       [9.96010840e-01],\n",
              "       [1.16476798e-02],\n",
              "       [2.49132849e-02],\n",
              "       [6.24215662e-01],\n",
              "       [1.67035535e-02],\n",
              "       [9.96945202e-01],\n",
              "       [8.28105509e-01],\n",
              "       [1.50544420e-01],\n",
              "       [6.84849441e-01],\n",
              "       [2.12606825e-02],\n",
              "       [9.99537528e-01],\n",
              "       [6.32948518e-01],\n",
              "       [3.03234756e-01],\n",
              "       [4.99957204e-02],\n",
              "       [5.70410863e-03],\n",
              "       [8.57641697e-02],\n",
              "       [6.03701711e-01],\n",
              "       [1.49469804e-02],\n",
              "       [3.45428847e-03],\n",
              "       [2.26983358e-03],\n",
              "       [6.27468228e-01],\n",
              "       [4.44443664e-03],\n",
              "       [3.10250241e-02],\n",
              "       [3.30312215e-02],\n",
              "       [4.25962418e-01],\n",
              "       [4.90964390e-03],\n",
              "       [7.69235659e-03],\n",
              "       [8.96721482e-02],\n",
              "       [8.58192027e-01],\n",
              "       [1.39135033e-01],\n",
              "       [9.88414407e-01],\n",
              "       [5.50114453e-01],\n",
              "       [1.76770368e-03],\n",
              "       [9.98775125e-01],\n",
              "       [3.40068084e-03],\n",
              "       [2.23894134e-01],\n",
              "       [7.16069946e-03],\n",
              "       [1.07661925e-01],\n",
              "       [1.95289450e-03],\n",
              "       [8.68768692e-01],\n",
              "       [8.22119296e-01],\n",
              "       [4.01655287e-02],\n",
              "       [6.94037974e-03],\n",
              "       [4.06408450e-03],\n",
              "       [1.57824814e-01],\n",
              "       [8.56825292e-01],\n",
              "       [8.41091014e-03],\n",
              "       [3.26727144e-02],\n",
              "       [9.25582409e-01],\n",
              "       [8.30662204e-04],\n",
              "       [6.85285509e-01],\n",
              "       [4.69828457e-01],\n",
              "       [2.19509512e-01]], dtype=float32)"
            ]
          },
          "execution_count": 72,
          "metadata": {},
          "output_type": "execute_result"
        }
      ],
      "source": [
        "predictions = network1.predict(X_test)\n",
        "predictions"
      ]
    },
    {
      "cell_type": "markdown",
      "metadata": {},
      "source": [
        "0 False - Bart\n",
        "\n",
        "1 True  - Homer"
      ]
    },
    {
      "cell_type": "code",
      "execution_count": 73,
      "metadata": {
        "colab": {
          "base_uri": "https://localhost:8080/"
        },
        "id": "Y9wQd80r50wc",
        "outputId": "72498c29-fe5f-41fc-d41b-29f7fce02eb2"
      },
      "outputs": [
        {
          "data": {
            "text/plain": [
              "array([[False],\n",
              "       [ True],\n",
              "       [False],\n",
              "       [False],\n",
              "       [ True],\n",
              "       [False],\n",
              "       [ True],\n",
              "       [ True],\n",
              "       [False],\n",
              "       [ True],\n",
              "       [False],\n",
              "       [ True],\n",
              "       [ True],\n",
              "       [False],\n",
              "       [False],\n",
              "       [False],\n",
              "       [False],\n",
              "       [ True],\n",
              "       [False],\n",
              "       [False],\n",
              "       [False],\n",
              "       [ True],\n",
              "       [False],\n",
              "       [False],\n",
              "       [False],\n",
              "       [False],\n",
              "       [False],\n",
              "       [False],\n",
              "       [False],\n",
              "       [ True],\n",
              "       [False],\n",
              "       [ True],\n",
              "       [ True],\n",
              "       [False],\n",
              "       [ True],\n",
              "       [False],\n",
              "       [False],\n",
              "       [False],\n",
              "       [False],\n",
              "       [False],\n",
              "       [ True],\n",
              "       [ True],\n",
              "       [False],\n",
              "       [False],\n",
              "       [False],\n",
              "       [False],\n",
              "       [ True],\n",
              "       [False],\n",
              "       [False],\n",
              "       [ True],\n",
              "       [False],\n",
              "       [ True],\n",
              "       [False],\n",
              "       [False]])"
            ]
          },
          "execution_count": 73,
          "metadata": {},
          "output_type": "execute_result"
        }
      ],
      "source": [
        "predictions = (predictions > 0.5)\n",
        "predictions"
      ]
    },
    {
      "cell_type": "markdown",
      "metadata": {},
      "source": [
        "計算精確率並繪製混淆矩陣"
      ]
    },
    {
      "cell_type": "code",
      "execution_count": 77,
      "metadata": {
        "colab": {
          "base_uri": "https://localhost:8080/"
        },
        "id": "QpW5mjb36htq",
        "outputId": "158eba4c-9139-4850-a1a7-0cd830c0eb05"
      },
      "outputs": [
        {
          "name": "stdout",
          "output_type": "stream",
          "text": [
            "0.7037037037037037\n"
          ]
        },
        {
          "data": {
            "text/plain": [
              "<Axes: >"
            ]
          },
          "execution_count": 77,
          "metadata": {},
          "output_type": "execute_result"
        },
        {
          "data": {
            "image/png": "[encoded data removed]",
            "text/plain": [
              "<Figure size 400x200 with 2 Axes>"
            ]
          },
          "metadata": {},
          "output_type": "display_data"
        }
      ],
      "source": [
        "from sklearn.metrics import accuracy_score\n",
        "from sklearn.metrics import confusion_matrix\n",
        "print(accuracy_score(y_test, predictions))\n",
        "cm = confusion_matrix(y_test, predictions)\n",
        "cm\n",
        "plt.figure(figsize=(4, 2))\n",
        "sns.heatmap(cm, annot=True)\n"
      ]
    },
    {
      "cell_type": "markdown",
      "metadata": {},
      "source": [
        "產生分類報告"
      ]
    },
    {
      "cell_type": "code",
      "execution_count": 78,
      "metadata": {
        "colab": {
          "base_uri": "https://localhost:8080/"
        },
        "id": "yaxPTvBM7rKj",
        "outputId": "b4aba4df-6ab5-40c1-b65a-ec6340e292ef"
      },
      "outputs": [
        {
          "name": "stdout",
          "output_type": "stream",
          "text": [
            "              precision    recall  f1-score   support\n",
            "\n",
            "           0       0.67      0.86      0.75        28\n",
            "           1       0.78      0.54      0.64        26\n",
            "\n",
            "    accuracy                           0.70        54\n",
            "   macro avg       0.72      0.70      0.69        54\n",
            "weighted avg       0.72      0.70      0.70        54\n",
            "\n"
          ]
        }
      ],
      "source": [
        "from sklearn.metrics import classification_report\n",
        "print(classification_report(y_test, predictions))"
      ]
    },
    {
      "cell_type": "markdown",
      "metadata": {
        "id": "CUDXG0HyXAav"
      },
      "source": [
        "## 儲存/載入模型"
      ]
    },
    {
      "cell_type": "code",
      "execution_count": 4,
      "metadata": {
        "id": "UqxI9XbT9pYO"
      },
      "outputs": [
        {
          "ename": "NameError",
          "evalue": "name 'network1' is not defined",
          "output_type": "error",
          "traceback": [
            "\u001b[0;31m---------------------------------------------------------------------------\u001b[0m",
            "\u001b[0;31mNameError\u001b[0m                                 Traceback (most recent call last)",
            "Cell \u001b[0;32mIn[4], line 2\u001b[0m\n\u001b[1;32m      1\u001b[0m \u001b[39m# 保存模型結構\u001b[39;00m\n\u001b[0;32m----> 2\u001b[0m model_json \u001b[39m=\u001b[39m network1\u001b[39m.\u001b[39mto_json()\n\u001b[1;32m      3\u001b[0m \u001b[39mwith\u001b[39;00m \u001b[39mopen\u001b[39m(\u001b[39m'\u001b[39m\u001b[39mnetwork1.json\u001b[39m\u001b[39m'\u001b[39m, \u001b[39m'\u001b[39m\u001b[39mw\u001b[39m\u001b[39m'\u001b[39m) \u001b[39mas\u001b[39;00m json_file:\n\u001b[1;32m      4\u001b[0m   json_file\u001b[39m.\u001b[39mwrite(model_json)\n",
            "\u001b[0;31mNameError\u001b[0m: name 'network1' is not defined"
          ]
        }
      ],
      "source": [
        "# 保存模型結構\n",
        "model_json = network1.to_json()\n",
        "with open('network1.json', 'w') as json_file:\n",
        "  json_file.write(model_json)\n",
        "\n",
        "\n",
        "# 保存模型參數\n",
        "from keras.models import save_model\n",
        "network1_saved = save_model(network1, 'weights1.hdf5')\n",
        "  "
      ]
    },
    {
      "cell_type": "code",
      "execution_count": 5,
      "metadata": {
        "colab": {
          "base_uri": "https://localhost:8080/",
          "height": 252
        },
        "id": "jxMh7aQV-p_D",
        "outputId": "ba9d2805-094f-4d8e-9dd4-a74cd7fd300c"
      },
      "outputs": [],
      "source": [
        "# 載入模型結構\n",
        "with open('network1.json') as json_file:\n",
        "  json_saved_model = json_file.read()\n",
        "json_saved_model\n",
        "\n",
        "# 載入模型參數\n",
        "network1_loaded = tf.keras.models.model_from_json(json_saved_model)\n",
        "network1_loaded.load_weights('./weights1.hdf5')\n",
        "network1_loaded.compile(loss = 'binary_crossentropy', optimizer = 'Adam', metrics = ['accuracy'])"
      ]
    },
    {
      "cell_type": "code",
      "execution_count": 6,
      "metadata": {
        "colab": {
          "base_uri": "https://localhost:8080/"
        },
        "id": "SEzEYUZs_itp",
        "outputId": "437ee5c9-d93f-4680-ccc5-088487e9d6d9"
      },
      "outputs": [
        {
          "data": {
            "text/html": [
              "<pre style=\"white-space:pre;overflow-x:auto;line-height:normal;font-family:Menlo,'DejaVu Sans Mono',consolas,'Courier New',monospace\"><span style=\"font-weight: bold\">Model: \"sequential_1\"</span>\n",
              "</pre>\n"
            ],
            "text/plain": [
              "\u001b[1mModel: \"sequential_1\"\u001b[0m\n"
            ]
          },
          "metadata": {},
          "output_type": "display_data"
        },
        {
          "data": {
            "text/html": [
              "<pre style=\"white-space:pre;overflow-x:auto;line-height:normal;font-family:Menlo,'DejaVu Sans Mono',consolas,'Courier New',monospace\">┏━━━━━━━━━━━━━━━━━━━━━━━━━━━━━━━━━┳━━━━━━━━━━━━━━━━━━━━━━━━┳━━━━━━━━━━━━━━━┓\n",
              "┃<span style=\"font-weight: bold\"> Layer (type)                    </span>┃<span style=\"font-weight: bold\"> Output Shape           </span>┃<span style=\"font-weight: bold\">       Param # </span>┃\n",
              "┡━━━━━━━━━━━━━━━━━━━━━━━━━━━━━━━━━╇━━━━━━━━━━━━━━━━━━━━━━━━╇━━━━━━━━━━━━━━━┩\n",
              "│ dense_3 (<span style=\"color: #0087ff; text-decoration-color: #0087ff\">Dense</span>)                 │ (<span style=\"color: #00d7ff; text-decoration-color: #00d7ff\">None</span>, <span style=\"color: #00af00; text-decoration-color: #00af00\">8193</span>)           │   <span style=\"color: #00af00; text-decoration-color: #00af00\">134,242,305</span> │\n",
              "├─────────────────────────────────┼────────────────────────┼───────────────┤\n",
              "│ dense_4 (<span style=\"color: #0087ff; text-decoration-color: #0087ff\">Dense</span>)                 │ (<span style=\"color: #00d7ff; text-decoration-color: #00d7ff\">None</span>, <span style=\"color: #00af00; text-decoration-color: #00af00\">8193</span>)           │    <span style=\"color: #00af00; text-decoration-color: #00af00\">67,133,442</span> │\n",
              "├─────────────────────────────────┼────────────────────────┼───────────────┤\n",
              "│ dense_5 (<span style=\"color: #0087ff; text-decoration-color: #0087ff\">Dense</span>)                 │ (<span style=\"color: #00d7ff; text-decoration-color: #00d7ff\">None</span>, <span style=\"color: #00af00; text-decoration-color: #00af00\">1</span>)              │         <span style=\"color: #00af00; text-decoration-color: #00af00\">8,194</span> │\n",
              "└─────────────────────────────────┴────────────────────────┴───────────────┘\n",
              "</pre>\n"
            ],
            "text/plain": [
              "┏━━━━━━━━━━━━━━━━━━━━━━━━━━━━━━━━━┳━━━━━━━━━━━━━━━━━━━━━━━━┳━━━━━━━━━━━━━━━┓\n",
              "┃\u001b[1m \u001b[0m\u001b[1mLayer (type)                   \u001b[0m\u001b[1m \u001b[0m┃\u001b[1m \u001b[0m\u001b[1mOutput Shape          \u001b[0m\u001b[1m \u001b[0m┃\u001b[1m \u001b[0m\u001b[1m      Param #\u001b[0m\u001b[1m \u001b[0m┃\n",
              "┡━━━━━━━━━━━━━━━━━━━━━━━━━━━━━━━━━╇━━━━━━━━━━━━━━━━━━━━━━━━╇━━━━━━━━━━━━━━━┩\n",
              "│ dense_3 (\u001b[38;5;33mDense\u001b[0m)                 │ (\u001b[38;5;45mNone\u001b[0m, \u001b[38;5;34m8193\u001b[0m)           │   \u001b[38;5;34m134,242,305\u001b[0m │\n",
              "├─────────────────────────────────┼────────────────────────┼───────────────┤\n",
              "│ dense_4 (\u001b[38;5;33mDense\u001b[0m)                 │ (\u001b[38;5;45mNone\u001b[0m, \u001b[38;5;34m8193\u001b[0m)           │    \u001b[38;5;34m67,133,442\u001b[0m │\n",
              "├─────────────────────────────────┼────────────────────────┼───────────────┤\n",
              "│ dense_5 (\u001b[38;5;33mDense\u001b[0m)                 │ (\u001b[38;5;45mNone\u001b[0m, \u001b[38;5;34m1\u001b[0m)              │         \u001b[38;5;34m8,194\u001b[0m │\n",
              "└─────────────────────────────────┴────────────────────────┴───────────────┘\n"
            ]
          },
          "metadata": {},
          "output_type": "display_data"
        },
        {
          "data": {
            "text/html": [
              "<pre style=\"white-space:pre;overflow-x:auto;line-height:normal;font-family:Menlo,'DejaVu Sans Mono',consolas,'Courier New',monospace\"><span style=\"font-weight: bold\"> Total params: </span><span style=\"color: #00af00; text-decoration-color: #00af00\">201,383,941</span> (768.22 MB)\n",
              "</pre>\n"
            ],
            "text/plain": [
              "\u001b[1m Total params: \u001b[0m\u001b[38;5;34m201,383,941\u001b[0m (768.22 MB)\n"
            ]
          },
          "metadata": {},
          "output_type": "display_data"
        },
        {
          "data": {
            "text/html": [
              "<pre style=\"white-space:pre;overflow-x:auto;line-height:normal;font-family:Menlo,'DejaVu Sans Mono',consolas,'Courier New',monospace\"><span style=\"font-weight: bold\"> Trainable params: </span><span style=\"color: #00af00; text-decoration-color: #00af00\">201,383,941</span> (768.22 MB)\n",
              "</pre>\n"
            ],
            "text/plain": [
              "\u001b[1m Trainable params: \u001b[0m\u001b[38;5;34m201,383,941\u001b[0m (768.22 MB)\n"
            ]
          },
          "metadata": {},
          "output_type": "display_data"
        },
        {
          "data": {
            "text/html": [
              "<pre style=\"white-space:pre;overflow-x:auto;line-height:normal;font-family:Menlo,'DejaVu Sans Mono',consolas,'Courier New',monospace\"><span style=\"font-weight: bold\"> Non-trainable params: </span><span style=\"color: #00af00; text-decoration-color: #00af00\">0</span> (0.00 B)\n",
              "</pre>\n"
            ],
            "text/plain": [
              "\u001b[1m Non-trainable params: \u001b[0m\u001b[38;5;34m0\u001b[0m (0.00 B)\n"
            ]
          },
          "metadata": {},
          "output_type": "display_data"
        }
      ],
      "source": [
        "network1_loaded.summary()"
      ]
    },
    {
      "cell_type": "markdown",
      "metadata": {
        "id": "skw6tU94aCL1"
      },
      "source": [
        "## 針對圖片進行辨識"
      ]
    },
    {
      "cell_type": "code",
      "execution_count": 7,
      "metadata": {
        "colab": {
          "base_uri": "https://localhost:8080/"
        },
        "id": "lUWw5JQMALJf",
        "outputId": "ec82dd96-32c1-4602-8d6f-c0208c5f7cd6"
      },
      "outputs": [
        {
          "ename": "NameError",
          "evalue": "name 'X_test' is not defined",
          "output_type": "error",
          "traceback": [
            "\u001b[0;31m---------------------------------------------------------------------------\u001b[0m",
            "\u001b[0;31mNameError\u001b[0m                                 Traceback (most recent call last)",
            "Cell \u001b[0;32mIn[7], line 1\u001b[0m\n\u001b[0;32m----> 1\u001b[0m \u001b[39mprint\u001b[39m(X_test[\u001b[39m0\u001b[39m]\u001b[39m.\u001b[39mshape)\n",
            "\u001b[0;31mNameError\u001b[0m: name 'X_test' is not defined"
          ]
        }
      ],
      "source": [
        "print(X_test[0].shape)"
      ]
    },
    {
      "cell_type": "code",
      "execution_count": 33,
      "metadata": {
        "id": "4Q9FnUZFACU9"
      },
      "outputs": [
        {
          "name": "stdout",
          "output_type": "stream",
          "text": [
            "[255 255 255 ... 255 255 255]\n",
            "(16384,)\n",
            "[[48769. 49023. 49023. ... 57913. 62993. 51563.]]\n"
          ]
        }
      ],
      "source": [
        "test_image = X_test[0]\n",
        "print(test_image)\n",
        "print(test_image.shape)\n",
        "test_image = scaler.inverse_transform(test_image.reshape(1, -1))\n",
        "print(test_image)"
      ]
    },
    {
      "cell_type": "code",
      "execution_count": 34,
      "metadata": {
        "colab": {
          "base_uri": "https://localhost:8080/",
          "height": 165
        },
        "id": "qWwpZzIYB6bw",
        "outputId": "aa062f76-f9c0-41eb-e4d8-c2c50af29262"
      },
      "outputs": [
        {
          "data": {
            "text/plain": [
              "<matplotlib.image.AxesImage at 0x2eb85ce50>"
            ]
          },
          "execution_count": 34,
          "metadata": {},
          "output_type": "execute_result"
        },
        {
          "data": {
            "image/png": "[encoded data removed]",
            "text/plain": [
              "<Figure size 400x200 with 1 Axes>"
            ]
          },
          "metadata": {},
          "output_type": "display_data"
        }
      ],
      "source": [
        "# image_np = cv2.cvtColor(test_image.reshape(width, height), cv2.COLOR_BGR2RGB) # 將 OpenCV 中的 BGR 格式轉換為 RGB 格式，因為 Matplotlib 預期的是 RGB 格式\n",
        "plt.figure(figsize=(4, 2))\n",
        "plt.axis('off')  # 隱藏坐標軸\n",
        "plt.imshow(test_image.reshape(width, height))"
      ]
    },
    {
      "cell_type": "code",
      "execution_count": 38,
      "metadata": {
        "colab": {
          "base_uri": "https://localhost:8080/"
        },
        "id": "Pc7HfJ7ZCXrH",
        "outputId": "3bb0b8e3-8ef5-4b33-ce71-6d50a7adfd26"
      },
      "outputs": [
        {
          "name": "stdout",
          "output_type": "stream",
          "text": [
            "\u001b[1m1/1\u001b[0m \u001b[32m━━━━━━━━━━━━━━━━━━━━\u001b[0m\u001b[37m\u001b[0m \u001b[1m1s\u001b[0m 775ms/step\n",
            "[0.]\n",
            "\u001b[1m1/1\u001b[0m \u001b[32m━━━━━━━━━━━━━━━━━━━━\u001b[0m\u001b[37m\u001b[0m \u001b[1m0s\u001b[0m 28ms/step\n",
            "(1,)\n"
          ]
        }
      ],
      "source": [
        "print(network1_loaded.predict(test_image)[0])\n",
        "print(network1_loaded.predict(test_image)[0].shape)"
      ]
    },
    {
      "cell_type": "code",
      "execution_count": 40,
      "metadata": {
        "colab": {
          "base_uri": "https://localhost:8080/"
        },
        "id": "EFgIlAWOCqR7",
        "outputId": "eb478dd1-3136-4d21-d87a-dc7f552380f5"
      },
      "outputs": [
        {
          "name": "stdout",
          "output_type": "stream",
          "text": [
            "\u001b[1m1/1\u001b[0m \u001b[32m━━━━━━━━━━━━━━━━━━━━\u001b[0m\u001b[37m\u001b[0m \u001b[1m0s\u001b[0m 79ms/step\n",
            "Bart\n"
          ]
        }
      ],
      "source": [
        "if network1_loaded.predict(test_image)[0] < 0.5:\n",
        "  print('Bart')\n",
        "else:\n",
        "  print('Homer')"
      ]
    }
  ],
  "metadata": {
    "colab": {
      "provenance": []
    },
    "kernelspec": {
      "display_name": "Python 3",
      "name": "python3"
    },
    "language_info": {
      "codemirror_mode": {
        "name": "ipython",
        "version": 3
      },
      "file_extension": ".py",
      "mimetype": "text/x-python",
      "name": "python",
      "nbconvert_exporter": "python",
      "pygments_lexer": "ipython3",
      "version": "3.11.5"
    }
  },
  "nbformat": 4,
  "nbformat_minor": 0
}
