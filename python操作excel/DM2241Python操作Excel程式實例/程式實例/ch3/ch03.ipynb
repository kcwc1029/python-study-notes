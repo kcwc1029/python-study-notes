{
 "cells": [
  {
   "cell_type": "markdown",
   "metadata": {},
   "source": [
    "## 儲存格基本單位\n",
    "ws[\"行列\"]，例如：ws[\"A2\"]"
   ]
  },
  {
   "cell_type": "code",
   "execution_count": 7,
   "metadata": {},
   "outputs": [
    {
     "name": "stdout",
     "output_type": "stream",
     "text": [
      "儲存格B2 =  200\n",
      "儲存格B2 =  B2\n",
      "儲存格B2 =  2\n",
      "儲存格B2 =  2\n"
     ]
    }
   ],
   "source": [
    "import openpyxl\n",
    "import time\n",
    "fn = \"示範用excel.csv\"\n",
    "wb = openpyxl.Workbook()    # 建立空白的活頁簿\n",
    "ws = wb.active              # 取得目前工作表\n",
    "ws['A2'] = 'Apple'\n",
    "ws['A3'] = 'Orange'\n",
    "ws['B2'] = 200\n",
    "ws['B3'] = 150\n",
    "ws['B4'] = time.strftime(\"%Y/%m/%d\")\n",
    "\n",
    "# 取出數值\n",
    "print(\"儲存格B2 = \", ws['B2'].value)    # B2 \n",
    "\n",
    "# 取出該資料欄位的行、列、行列\n",
    "print(\"儲存格B2 = \", ws['B2'].coordinate)    # B2\n",
    "print(\"儲存格B2 = \", ws['B2'].row)    # B\n",
    "print(\"儲存格B2 = \", ws['B2'].column)    # 2 \n",
    "wb.save(fn)      # 將活頁簿儲存"
   ]
  },
  {
   "cell_type": "markdown",
   "metadata": {},
   "source": [
    "## 取得資料表的欄數、列數"
   ]
  },
  {
   "cell_type": "code",
   "execution_count": 9,
   "metadata": {},
   "outputs": [
    {
     "name": "stdout",
     "output_type": "stream",
     "text": [
      "工作表欄數 = 2\n",
      "工作表列數 = 4\n"
     ]
    }
   ],
   "source": [
    "import openpyxl\n",
    "fn = \"示範用excel.xlsx\"\n",
    "wb = openpyxl.load_workbook(fn)\n",
    "ws = wb.active\n",
    "print(f\"工作表欄數 = {ws.max_column}\")    \n",
    "print(f\"工作表列數 = {ws.max_row}\")    \n"
   ]
  },
  {
   "cell_type": "code",
   "execution_count": null,
   "metadata": {},
   "outputs": [],
   "source": []
  },
  {
   "cell_type": "code",
   "execution_count": null,
   "metadata": {},
   "outputs": [],
   "source": []
  },
  {
   "cell_type": "code",
   "execution_count": null,
   "metadata": {},
   "outputs": [],
   "source": []
  },
  {
   "cell_type": "code",
   "execution_count": null,
   "metadata": {},
   "outputs": [],
   "source": []
  },
  {
   "cell_type": "code",
   "execution_count": null,
   "metadata": {},
   "outputs": [],
   "source": []
  }
 ],
 "metadata": {
  "kernelspec": {
   "display_name": "base",
   "language": "python",
   "name": "python3"
  },
  "language_info": {
   "codemirror_mode": {
    "name": "ipython",
    "version": 3
   },
   "file_extension": ".py",
   "mimetype": "text/x-python",
   "name": "python",
   "nbconvert_exporter": "python",
   "pygments_lexer": "ipython3",
   "version": "3.11.7"
  }
 },
 "nbformat": 4,
 "nbformat_minor": 2
}
