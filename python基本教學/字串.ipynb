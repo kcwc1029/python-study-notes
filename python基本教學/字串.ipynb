{
 "cells": [
  {
   "cell_type": "markdown",
   "metadata": {},
   "source": [
    "## string concatenation（串接）"
   ]
  },
  {
   "cell_type": "code",
   "execution_count": 1,
   "metadata": {},
   "outputs": [
    {
     "name": "stdout",
     "output_type": "stream",
     "text": [
      "abcdef\n"
     ]
    }
   ],
   "source": [
    "str1 = \"abc\"\n",
    "str2 = \"def\"\n",
    "print(str1 + str2)"
   ]
  },
  {
   "cell_type": "markdown",
   "metadata": {},
   "source": [
    "＄ 在 python 中，string 跟 number 是不能相加的。（有一些語言可可以相加，但在 python 就是不能）\n",
    "＄ string is （不可更改）"
   ]
  },
  {
   "cell_type": "code",
   "execution_count": 2,
   "metadata": {},
   "outputs": [
    {
     "ename": "TypeError",
     "evalue": "'str' object does not support item assignment",
     "output_type": "error",
     "traceback": [
      "\u001b[0;31m---------------------------------------------------------------------------\u001b[0m",
      "\u001b[0;31mTypeError\u001b[0m                                 Traceback (most recent call last)",
      "Cell \u001b[0;32mIn[2], line 3\u001b[0m\n\u001b[1;32m      1\u001b[0m \u001b[39m# NOTE: mistake writing\u001b[39;00m\n\u001b[1;32m      2\u001b[0m str1 \u001b[39m=\u001b[39m \u001b[39m\"\u001b[39m\u001b[39mHello\u001b[39m\u001b[39m\"\u001b[39m\n\u001b[0;32m----> 3\u001b[0m str1[\u001b[39m0\u001b[39m] \u001b[39m=\u001b[39m \u001b[39m\"\u001b[39m\u001b[39mh\u001b[39m\u001b[39m\"\u001b[39m\n",
      "\u001b[0;31mTypeError\u001b[0m: 'str' object does not support item assignment"
     ]
    }
   ],
   "source": [
    "# NOTE: mistake writing\n",
    "str1 = \"Hello\"\n",
    "str1[0] = \"h\" # error"
   ]
  },
  {
   "cell_type": "markdown",
   "metadata": {},
   "source": [
    "## string method"
   ]
  },
  {
   "cell_type": "code",
   "execution_count": 3,
   "metadata": {},
   "outputs": [
    {
     "name": "stdout",
     "output_type": "stream",
     "text": [
      "l\n",
      "o\n",
      "llo\n"
     ]
    }
   ],
   "source": [
    "# slicing\n",
    "i = 3\n",
    "print(\"hello\"[i])\n",
    "print(\"hello\"[-1])\n",
    "print(\"hello\"[2:])"
   ]
  },
  {
   "cell_type": "code",
   "execution_count": 5,
   "metadata": {},
   "outputs": [],
   "source": [
    "# len() 返回长度。\n",
    "num_int = int(\"123\") # int() 轉數字\n",
    "num_str = str(123) # str() 轉字串"
   ]
  },
  {
   "cell_type": "code",
   "execution_count": 6,
   "metadata": {},
   "outputs": [
    {
     "name": "stdout",
     "output_type": "stream",
     "text": [
      "Index of 'World': 7\n"
     ]
    }
   ],
   "source": [
    "# index() 返回子字符串在字符串中的起始位置。\n",
    "main_str = \"Hello, World!\"\n",
    "sub_str = \"World\"\n",
    "index = main_str.index(sub_str)\n",
    "print(\"Index of 'World':\", index)"
   ]
  },
  {
   "cell_type": "code",
   "execution_count": 7,
   "metadata": {},
   "outputs": [
    {
     "name": "stdout",
     "output_type": "stream",
     "text": [
      "Hi, World!\n"
     ]
    }
   ],
   "source": [
    "# replace() 替换字符串中的指定子串。\n",
    "original_str = \"Hello, World!\"\n",
    "new_str = original_str.replace(\"Hello\", \"Hi\")\n",
    "print(new_str)"
   ]
  },
  {
   "cell_type": "code",
   "execution_count": 8,
   "metadata": {},
   "outputs": [
    {
     "name": "stdout",
     "output_type": "stream",
     "text": [
      "['This', 'is', 'a', 'sample', 'sentence.']\n"
     ]
    }
   ],
   "source": [
    "# split() 将字符串拆分为子字符串，并返回一个列表。\n",
    "sentence = \"This is a sample sentence.\"\n",
    "words = sentence.split(\" \")\n",
    "print(words)"
   ]
  },
  {
   "cell_type": "code",
   "execution_count": 9,
   "metadata": {},
   "outputs": [],
   "source": [
    "# join()\n",
    "mylist = [\"a\", \"b\", \"c\", \"d\"]\n",
    "myString = \"|\".join(mylist)"
   ]
  },
  {
   "cell_type": "code",
   "execution_count": 10,
   "metadata": {},
   "outputs": [
    {
     "name": "stdout",
     "output_type": "stream",
     "text": [
      "Index of 'is': 7\n"
     ]
    }
   ],
   "source": [
    "# find()查找子串在字符串中的第一次出现的索引。\n",
    "sentence = \"Python is great!\"\n",
    "index = sentence.find(\"is\")\n",
    "print(\"Index of 'is':\", index)"
   ]
  },
  {
   "cell_type": "code",
   "execution_count": 11,
   "metadata": {},
   "outputs": [
    {
     "name": "stdout",
     "output_type": "stream",
     "text": [
      "Count of 'Python': 2\n"
     ]
    }
   ],
   "source": [
    "# count() 统计字符串中某个子串出现的次数。\n",
    "sentence = \"Python is easy, Python is powerful.\"\n",
    "count_python = sentence.count(\"Python\")\n",
    "print(\"Count of 'Python':\", count_python)"
   ]
  },
  {
   "cell_type": "code",
   "execution_count": 12,
   "metadata": {},
   "outputs": [],
   "source": [
    "my_str = \"Hello, World!\"\n",
    "upper_str = my_str.upper() # upper() 将字符串中的所有字符转换为大写。\n",
    "lower_str = my_str.lower() # lower() 将字符串中的所有字符转换为小写。\n",
    "is_upper = my_str.isupper() # isupper() 检查字符串是否全部为大写。"
   ]
  },
  {
   "cell_type": "code",
   "execution_count": 13,
   "metadata": {},
   "outputs": [
    {
     "name": "stdout",
     "output_type": "stream",
     "text": [
      "['P', 'y', 't', 'h', 'o', 'n']\n"
     ]
    }
   ],
   "source": [
    "# list() 将可迭代对象（如字符串）转换为列表。\n",
    "my_str = \"Python\"\n",
    "char_list = list(my_str)\n",
    "print(char_list)"
   ]
  },
  {
   "cell_type": "code",
   "execution_count": 14,
   "metadata": {},
   "outputs": [
    {
     "name": "stdout",
     "output_type": "stream",
     "text": [
      "My name is Alice, and I am 30 years old.\n"
     ]
    }
   ],
   "source": [
    "# format() 格式化字符串，用参数替代占位符。\n",
    "name = \"Alice\"\n",
    "age = 30\n",
    "message = \"My name is {}, and I am {} years old.\".format(name, age)\n",
    "print(message)"
   ]
  },
  {
   "cell_type": "code",
   "execution_count": 15,
   "metadata": {},
   "outputs": [
    {
     "name": "stdout",
     "output_type": "stream",
     "text": [
      "Starts with 'Hello': True\n",
      "Ends with '.txt': True\n"
     ]
    }
   ],
   "source": [
    "# startswith() & endswith()\n",
    "sentence = \"Hello, World!\"\n",
    "starts_with_hello = sentence.startswith(\"Hello\") # startswith() 检查字符串是否以指定的前缀开始。\n",
    "print(\"Starts with 'Hello':\", starts_with_hello) # Starts with 'Hello': True\n",
    "file_name = \"document.txt\"\n",
    "ends_with_txt = file_name.endswith(\".txt\") # endswith() 检查字符串是否以指定的后缀结束。\n",
    "print(\"Ends with '.txt':\", ends_with_txt) # Ends with '.txt': True"
   ]
  },
  {
   "cell_type": "markdown",
   "metadata": {},
   "source": [
    "## Python 中的 `sort()` 和 `sorted()`\n",
    "\n",
    "＄ 在 Python 中,我們可以使用 `sort()` 和 `sorted()` 函數來對序列進行排序。這兩個函數雖然功能相似,但是有一些重要的區別。\n",
    "＄ `sort()` 方法是就地排序,meaning 它會直接修改原始 list,而不會返回新的 list。"
   ]
  },
  {
   "cell_type": "code",
   "execution_count": 16,
   "metadata": {},
   "outputs": [
    {
     "name": "stdout",
     "output_type": "stream",
     "text": [
      "[1, 2, 5, 8, 9]\n",
      "[9, -8, -5, 2, 1]\n"
     ]
    }
   ],
   "source": [
    "numbers = [5, 2, 8, 1, 9]\n",
    "numbers.sort()\n",
    "print(numbers)  # 輸出: [1, 2, 5, 8, 9]\n",
    "\n",
    "# NOTE: 我們還可以傳遞 `key` 和 `reverse` 參數來自定義排序方式:\n",
    "numbers = [-5, 2, -8, 1, 9]\n",
    "numbers.sort(key=abs, reverse=True)\n",
    "print(numbers)  # 輸出: [9, 8, 5, 2, 1]"
   ]
  },
  {
   "cell_type": "markdown",
   "metadata": {},
   "source": [
    "＄ `sorted()` 是一個內置函數,它返回一個新的有序序列,而不會修改原始序列。"
   ]
  },
  {
   "cell_type": "code",
   "execution_count": 17,
   "metadata": {},
   "outputs": [
    {
     "name": "stdout",
     "output_type": "stream",
     "text": [
      "[1, 2, 5, 8, 9]\n",
      "[5, 2, 8, 1, 9]\n",
      "[9, -8, -5, 2, 1]\n",
      "[-5, 2, -8, 1, 9]\n"
     ]
    }
   ],
   "source": [
    "numbers = [5, 2, 8, 1, 9]\n",
    "new_numbers = sorted(numbers)\n",
    "print(new_numbers)  # 輸出: [1, 2, 5, 8, 9]\n",
    "print(numbers)     # 輸出: [5, 2, 8, 1, 9] (原序列未被修改)\n",
    "\n",
    "# NOTE: 與 `sort()` 一樣,`sorted()` 也支持 `key` 和 `reverse` 參數:\n",
    "# 根據絕對值大小排序\n",
    "numbers = [-5, 2, -8, 1, 9]\n",
    "new_numbers = sorted(numbers, key=abs, reverse=True)\n",
    "print(new_numbers)  # 輸出: [9, 8, 5, 2, 1]\n",
    "print(numbers)     # 輸出: [-5, 2, -8, 1, 9] (原序列未被修改)"
   ]
  },
  {
   "cell_type": "code",
   "execution_count": null,
   "metadata": {},
   "outputs": [],
   "source": []
  }
 ],
 "metadata": {
  "kernelspec": {
   "display_name": "base",
   "language": "python",
   "name": "python3"
  },
  "language_info": {
   "codemirror_mode": {
    "name": "ipython",
    "version": 3
   },
   "file_extension": ".py",
   "mimetype": "text/x-python",
   "name": "python",
   "nbconvert_exporter": "python",
   "pygments_lexer": "ipython3",
   "version": "3.11.5"
  },
  "orig_nbformat": 4
 },
 "nbformat": 4,
 "nbformat_minor": 2
}
