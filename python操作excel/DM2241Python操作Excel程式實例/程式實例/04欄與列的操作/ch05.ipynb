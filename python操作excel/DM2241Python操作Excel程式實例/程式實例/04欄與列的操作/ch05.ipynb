{
 "cells": [
  {
   "cell_type": "markdown",
   "metadata": {},
   "source": [
    "## 插入列（橫）\n",
    "\n",
    "插入列的語法如下：\n",
    "\n",
    "`ws.insert_rows(index, amount)`\n",
    "\n",
    "- index：插入的起始列。\n",
    "- amount：插入的列數，如果省略 amount 相當於插入1列。\n",
    "\n",
    "註 當執行插入列後，插入起始列後面的列號將會自動往下更動。"
   ]
  },
  {
   "cell_type": "code",
   "execution_count": 4,
   "metadata": {},
   "outputs": [
    {
     "name": "stdout",
     "output_type": "stream",
     "text": [
      "天空SPA客戶資料 None None None None \n",
      "姓名 地區 性別 身高 身份 \n",
      "洪冰儒 士林 男 170 會員 \n",
      "None None None None None \n",
      "洪雨星 中正 男 165 會員 \n",
      "None None None None None \n",
      "洪星宇 信義 男 171 非會員 \n",
      "None None None None None \n",
      "洪冰雨 信義 女 162 會員 \n",
      "None None None None None \n",
      "郭孟華 士林 女 165 會員 \n",
      "陳新華 信義 男 178 會員 \n",
      "謝冰 士林 女 166 會員 \n"
     ]
    }
   ],
   "source": [
    "import openpyxl\n",
    "\n",
    "fn = \"天空SPA客戶資料.xlsx\"\n",
    "wb = openpyxl.load_workbook(fn,data_only=True) # data_only=True 插入列的時候，如果該欄有公式，要保留\n",
    "ws = wb.active\n",
    "\n",
    "ws.insert_rows(4,1)\n",
    "ws.insert_rows(6,1)\n",
    "ws.insert_rows(8)       # 省略amount參數\n",
    "ws.insert_rows(10)      # 省略amount參數\n",
    "wb.save(\"out5_2.xlsx\")\n",
    "\n",
    "# 輸出資料\n",
    "for row in ws.iter_rows():\n",
    "    for cell in row:\n",
    "        print(f\"{cell.value}\", end=\" \")\n",
    "    print()\n",
    "# wb.save(\"out5_1.xlsx\")"
   ]
  },
  {
   "cell_type": "code",
   "execution_count": 10,
   "metadata": {},
   "outputs": [
    {
     "name": "stdout",
     "output_type": "stream",
     "text": [
      "深智數位薪資表 None None None None None None None \n",
      "員工編號 姓名 底薪 獎金 加班費 健保費 勞保費 薪資金額 \n",
      "A001 陳新華 56000 3000 0 -800 -600 57600 \n",
      "A004 周湯家 49000 2000 0 -600 -500 49900 \n",
      "A010 李家佳 46000 2000 0 -600 -500 46900 \n",
      "A012 陳嘉許 43000 0 0 -600 -500 41900 \n",
      "A015 張進一 38000 0 0 -600 -500 36900 \n",
      "\n",
      "將該檔案進行修改\n",
      "\n",
      "('深智數位薪資表', None, None, None, None, None, None, None)\n",
      "('員工編號', '姓名', '底薪', '獎金', '加班費', '健保費', '勞保費', '薪資金額')\n",
      "('A001', '陳新華', 56000, 3000, 0, -800, -600, 57600)\n",
      "(None, None, None, None, None, None, None, None)\n",
      "('員工編號', '姓名', '底薪', '獎金', '加班費', '健保費', '勞保費', '薪資金額')\n",
      "('A004', '周湯家', 49000, 2000, 0, -600, -500, 49900)\n",
      "(None, None, None, None, None, None, None, None)\n",
      "('員工編號', '姓名', '底薪', '獎金', '加班費', '健保費', '勞保費', '薪資金額')\n",
      "('A010', '李家佳', 46000, 2000, 0, -600, -500, 46900)\n",
      "(None, None, None, None, None, None, None, None)\n",
      "('員工編號', '姓名', '底薪', '獎金', '加班費', '健保費', '勞保費', '薪資金額')\n",
      "('A012', '陳嘉許', 43000, 0, 0, -600, -500, 41900)\n",
      "(None, None, None, None, None, None, None, None)\n",
      "('員工編號', '姓名', '底薪', '獎金', '加班費', '健保費', '勞保費', '薪資金額')\n",
      "('A015', '張進一', 38000, 0, 0, -600, -500, 36900)\n"
     ]
    }
   ],
   "source": [
    "import openpyxl\n",
    "\n",
    "fn = \"員工薪資條.xlsx\"\n",
    "wb = openpyxl.load_workbook(fn,data_only=True) # data_only=True 插入列的時候，如果該欄有公式，要保留\n",
    "ws = wb.active\n",
    "# 輸出資料\n",
    "for row in ws.iter_rows():\n",
    "    for cell in row:\n",
    "        print(f\"{cell.value}\", end=\" \")\n",
    "    print()\n",
    "\n",
    "print()\n",
    "print(\"將該檔案進行修改\")\n",
    "print()\n",
    "\n",
    "data = [\"員工編號\",\"姓名\",\"底薪\",\"獎金\",\"加班費\",\n",
    "        \"健保費\",\"勞保費\",\"薪資金額\"]\n",
    "length = len(data)\n",
    "row = 0;\n",
    "for i in range(4,8):\n",
    "    ws.insert_rows(i+row,2)\n",
    "    for j in range(0, length):    # 寫入薪資項目 \n",
    "        ws.cell(row=i+row+1,column=j+1,value=data[j])\n",
    "    row = row + 2\n",
    "\n",
    "# 輸出資料\n",
    "# for row in ws.iter_rows():\n",
    "#     for cell in row:\n",
    "#         print(f\"{cell.value}\", end=\" \")\n",
    "#     print()\n",
    "for r in ws.iter_rows(values_only=True):  print(r)  # 執行前輸出"
   ]
  },
  {
   "cell_type": "markdown",
   "metadata": {},
   "source": [
    "## 刪除列\n",
    "\n",
    "刪除列的語法如下：\n",
    "\n",
    "`ws.delete_rows(index, amount)`\n",
    "\n",
    "上述參數說明如下：\n",
    "- index：刪除的起始列。\n",
    "- amount：刪除的列數，如果省略相當於刪除1列\n",
    "\n",
    "下列是幾個刪除列可能的用法。\n",
    "\n",
    "```\n",
    "ws.delete_rows(列數)＃刪除指定列號\n",
    "ws.delete_rows（起始列，列數）＃刪除多列\n",
    "ws.delete_rows（1, ws.max_row） ＃刪除整個工作表的資料\n",
    "```\n"
   ]
  },
  {
   "cell_type": "code",
   "execution_count": 16,
   "metadata": {},
   "outputs": [
    {
     "name": "stdout",
     "output_type": "stream",
     "text": [
      "('深智數位薪資表', None, None, None, None, None, None, None)\n",
      "('員工編號', '姓名', '底薪', '獎金', '加班費', '健保費', '勞保費', '薪資金額')\n",
      "('A001', '陳新華', 56000, 3000, 0, -800, -600, '=SUM(C3:G3)')\n",
      "('A004', '周湯家', 49000, 2000, 0, -600, -500, '=SUM(C4:G4)')\n",
      "('A010', '李家佳', 46000, 2000, 0, -600, -500, '=SUM(C5:G5)')\n",
      "('A012', '陳嘉許', 43000, 0, 0, -600, -500, '=SUM(C6:G6)')\n",
      "('A015', '張進一', 38000, 0, 0, -600, -500, '=SUM(C7:G7)')\n",
      "\n",
      "將該檔案進行修改\n",
      "\n",
      "('A010', '李家佳', 46000, 2000, 0, -600, -500, '=SUM(C5:G5)')\n",
      "('A012', '陳嘉許', 43000, 0, 0, -600, -500, '=SUM(C6:G6)')\n",
      "('A015', '張進一', 38000, 0, 0, -600, -500, '=SUM(C7:G7)')\n"
     ]
    }
   ],
   "source": [
    "import openpyxl\n",
    "\n",
    "fn = \"員工薪資條.xlsx\"\n",
    "wb = openpyxl.load_workbook(fn)\n",
    "ws = wb.active\n",
    "\n",
    "for r in ws.iter_rows(values_only=True):  print(r)  # 執行前輸出\n",
    "ws.delete_rows(1, 4)\n",
    "print()\n",
    "print(\"將該檔案進行修改\")\n",
    "print()\n",
    "\n",
    "for r in ws.iter_rows(values_only=True):  print(r)  # 執行前輸出\n"
   ]
  },
  {
   "cell_type": "code",
   "execution_count": 17,
   "metadata": {},
   "outputs": [
    {
     "name": "stdout",
     "output_type": "stream",
     "text": [
      "('深智數位薪資表', None, None, None, None, None, None, None)\n",
      "('員工編號', '姓名', '底薪', '獎金', '加班費', '健保費', '勞保費', '薪資金額')\n",
      "('A001', '陳新華', 56000, 3000, 0, -800, -600, '=SUM(C3:G3)')\n",
      "('A004', '周湯家', 49000, 2000, 0, -600, -500, '=SUM(C4:G4)')\n",
      "('A010', '李家佳', 46000, 2000, 0, -600, -500, '=SUM(C5:G5)')\n",
      "('A012', '陳嘉許', 43000, 0, 0, -600, -500, '=SUM(C6:G6)')\n",
      "('A015', '張進一', 38000, 0, 0, -600, -500, '=SUM(C7:G7)')\n",
      "\n",
      "刪除所有資料\n",
      "\n"
     ]
    }
   ],
   "source": [
    "import openpyxl\n",
    "\n",
    "fn = \"員工薪資條.xlsx\"\n",
    "wb = openpyxl.load_workbook(fn)\n",
    "ws = wb.active\n",
    "\n",
    "for r in ws.iter_rows(values_only=True):  print(r)  # 執行前輸出\n",
    "ws.delete_rows(1, ws.max_row)\n",
    "print()\n",
    "print(\"刪除所有資料\")\n",
    "print()\n",
    "\n",
    "for r in ws.iter_rows(values_only=True):  print(r)  # 執行前輸出\n"
   ]
  },
  {
   "cell_type": "markdown",
   "metadata": {},
   "source": [
    "## 插入欄\n",
    "\n",
    "插入欄（行）的語法如下：\n",
    "`ws.insert_cols(index, amount)`\n",
    "\n",
    "上述參數說明如下：\n",
    "- index：插入的起始欄。\n",
    "- amount：插入的欄數，如果省略 amount 相當於插入1欄。"
   ]
  },
  {
   "cell_type": "code",
   "execution_count": 38,
   "metadata": {},
   "outputs": [
    {
     "name": "stdout",
     "output_type": "stream",
     "text": [
      "('天空SPA客戶資料', None, None, None, None)\n",
      "('姓名', '地區', '性別', '身高', '身份')\n",
      "('洪冰儒', '士林', '男', 170, '會員')\n",
      "('洪雨星', '中正', '男', 165, '會員')\n",
      "('洪星宇', '信義', '男', 171, '非會員')\n",
      "('洪冰雨', '信義', '女', 162, '會員')\n",
      "('郭孟華', '士林', '女', 165, '會員')\n",
      "('陳新華', '信義', '男', 178, '會員')\n",
      "('謝冰', '士林', '女', 166, '會員')\n",
      "\n",
      "('天空SPA客戶資料', None, None, None, None, None)\n",
      "('姓名', '地區', None, '性別', '身高', '身份')\n",
      "('洪冰儒', '士林', '性別', '男', 170, '會員')\n",
      "('洪雨星', '中正', None, '男', 165, '會員')\n",
      "('洪星宇', '信義', None, '男', 171, '非會員')\n",
      "('洪冰雨', '信義', None, '女', 162, '會員')\n",
      "('郭孟華', '士林', None, '女', 165, '會員')\n",
      "('陳新華', '信義', None, '男', 178, '會員')\n",
      "('謝冰', '士林', None, '女', 166, '會員')\n"
     ]
    }
   ],
   "source": [
    "import openpyxl\n",
    "\n",
    "fn = \"天空SPA客戶資料.xlsx\"\n",
    "wb = openpyxl.load_workbook(fn,data_only=True)\n",
    "ws = wb.active\n",
    "for r in ws.iter_rows(values_only=True):  print(r)  # 執行前輸出\n",
    "print()\n",
    "ws.insert_cols(3,1)\n",
    "ws['C3'] = '性別'\n",
    "for r in ws.iter_rows(values_only=True):  print(r)  # 執行前輸出"
   ]
  },
  {
   "cell_type": "markdown",
   "metadata": {},
   "source": [
    "## 刪除欄\n",
    "\n",
    "刪除欄的語法如下：\n",
    "\n",
    "`ws.delete_cols(index, amount)`\n",
    "\n",
    "上述參數說明如下：\n",
    "- index：刪除的起始欄。\n",
    "- amount：刪除的欄數，如果省略相當於刪除1欄。\n",
    "\n",
    "下列是幾個刪除欄可能的用法。\n",
    "\n",
    "```\n",
    "ws.delete_cols (1103/t)#刪除指定欄號\n",
    "ws.delete_cols（ 起始欄，欄數）＃刪除多欄\n",
    "ws.delete_cols(1, ws.max_col) ＃刪除整個工作表的資料\n",
    "```\n"
   ]
  },
  {
   "cell_type": "code",
   "execution_count": 28,
   "metadata": {},
   "outputs": [
    {
     "name": "stdout",
     "output_type": "stream",
     "text": [
      "(None, None, None, None)\n",
      "('地區', '性別', '身高', '身份')\n",
      "('士林', '男', 170, '會員')\n",
      "('中正', '男', 165, '會員')\n",
      "('信義', '男', 171, '非會員')\n",
      "('信義', '女', 162, '會員')\n",
      "('士林', '女', 165, '會員')\n",
      "('信義', '男', 178, '會員')\n",
      "('士林', '女', 166, '會員')\n",
      "(None, None, None)\n",
      "('性別', '身高', '身份')\n",
      "('男', 170, '會員')\n",
      "('男', 165, '會員')\n",
      "('男', 171, '非會員')\n",
      "('女', 162, '會員')\n",
      "('女', 165, '會員')\n",
      "('男', 178, '會員')\n",
      "('女', 166, '會員')\n"
     ]
    }
   ],
   "source": [
    "import openpyxl\n",
    "\n",
    "fn = \"天空SPA客戶資料.xlsx\"\n",
    "wb = openpyxl.load_workbook(fn)\n",
    "for r in ws.iter_rows(values_only=True):  print(r)  # 執行前輸出\n",
    "ws = wb.active\n",
    "ws.delete_cols(0)\n",
    "ws.delete_cols(0)\n",
    "for r in ws.iter_rows(values_only=True):  print(r)  # 執行前輸出\n",
    "# wb.save(\"out5_10.xlsx\")"
   ]
  },
  {
   "cell_type": "markdown",
   "metadata": {},
   "source": [
    "## 移動儲存格區間\n",
    "\n",
    "移動儲存格區間的語法如下：\n",
    "`ws.move_range(cell_range, row, col, translate=False)`\n",
    "\n",
    "上述各參數意義如下：\n",
    "- cell_range：要移動的儲存格區間。\n",
    "- row：移動的列數，正值是往下移動，負值是往上移動。\n",
    "- col：移動的欄數（行），正值是往右移動，負值是往左移動。\n",
    "- translate：預設是 False，表示移動時不包含公式，也就是公式特性將消失只移動\n",
    "數值。如果設為 False，移動時含有公式特性。"
   ]
  },
  {
   "cell_type": "code",
   "execution_count": 65,
   "metadata": {},
   "outputs": [
    {
     "name": "stdout",
     "output_type": "stream",
     "text": [
      "('天空SPA客戶資料', None, None, None, None)\n",
      "('姓名', '地區', '性別', '身高', '身份')\n",
      "('洪冰儒', '士林', '男', 170, '會員')\n",
      "('洪雨星', '中正', '男', 165, '會員')\n",
      "('洪星宇', '信義', '男', 171, '非會員')\n",
      "('洪冰雨', '信義', '女', 162, '會員')\n",
      "('郭孟華', '士林', '女', 165, '會員')\n",
      "('陳新華', '信義', '男', 178, '會員')\n",
      "('謝冰', '士林', '女', 166, '會員')\n",
      "(None, None, None, None, None, None, None, None, None)\n",
      "(None, None, None, None, None, None, None, None, None)\n",
      "(None, '天空SPA客戶資料', None, None, None, None, None, None, None)\n",
      "(None, '姓名', '地區', '性別', '身高', '身份', None, None, None)\n",
      "(None, '洪冰儒', '士林', '男', 170, '會員', None, None, None)\n",
      "(None, '洪雨星', '中正', '男', 165, '會員', None, None, None)\n",
      "('郭孟華', '洪星宇', '信義', '男', 171, '非會員', None, None, None)\n",
      "('陳新華', '洪冰雨', '信義', '女', 162, '會員', None, None, None)\n",
      "('謝冰', '士林', '女', 166, '會員', None, None, None, None)\n"
     ]
    }
   ],
   "source": [
    "import openpyxl\n",
    "\n",
    "fn = \"天空SPA客戶資料.xlsx\"\n",
    "wb = openpyxl.load_workbook(fn,data_only=True)\n",
    "ws = wb.active\n",
    "for r in ws.iter_rows(values_only=True):  print(r)  # 執行前輸出\n",
    "ws.move_range(\"A1:H6\",rows=2,cols=1)\n",
    "for r in ws.iter_rows(values_only=True):  print(r)  # 執行前輸出\n",
    "# wb.save(\"out5_12.xlsx\")"
   ]
  }
 ],
 "metadata": {
  "kernelspec": {
   "display_name": "base",
   "language": "python",
   "name": "python3"
  },
  "language_info": {
   "codemirror_mode": {
    "name": "ipython",
    "version": 3
   },
   "file_extension": ".py",
   "mimetype": "text/x-python",
   "name": "python",
   "nbconvert_exporter": "python",
   "pygments_lexer": "ipython3",
   "version": "3.11.5"
  },
  "orig_nbformat": 4
 },
 "nbformat": 4,
 "nbformat_minor": 2
}
