{
 "cells": [
  {
   "cell_type": "markdown",
   "metadata": {},
   "source": [
    "## randint(min, max) \n",
    "可以產生 min（含）與 max（含）之間的整數值"
   ]
  },
  {
   "cell_type": "code",
   "execution_count": 3,
   "metadata": {},
   "outputs": [
    {
     "name": "stdout",
     "output_type": "stream",
     "text": [
      "1-100     :  83\n",
      "1-100     :  93\n",
      "1-100     :  49\n",
      "500-1000  :  512\n",
      "500-1000  :  910\n",
      "500-1000  :  767\n",
      "2000-3000 :  2897\n",
      "2000-3000 :  2298\n",
      "2000-3000 :  2841\n"
     ]
    }
   ],
   "source": [
    "import random           \n",
    "\n",
    "n = 3\n",
    "for i in range(n):\n",
    "    print(\"1-100     : \", random.randint(1, 100))\n",
    "\n",
    "for i in range(n):\n",
    "    print(\"500-1000  : \", random.randint(500, 1000))\n",
    "\n",
    "for i in range(n):\n",
    "    print(\"2000-3000 : \", random.randint(2000, 3000))"
   ]
  },
  {
   "cell_type": "code",
   "execution_count": 4,
   "metadata": {},
   "outputs": [
    {
     "ename": "ValueError",
     "evalue": "invalid literal for int() with base 10: ''",
     "output_type": "error",
     "traceback": [
      "\u001b[0;31m---------------------------------------------------------------------------\u001b[0m",
      "\u001b[0;31mValueError\u001b[0m                                Traceback (most recent call last)",
      "Cell \u001b[0;32mIn[4], line 6\u001b[0m\n\u001b[1;32m      4\u001b[0m ans \u001b[39m=\u001b[39m random\u001b[39m.\u001b[39mrandint(\u001b[39mmin\u001b[39m, \u001b[39mmax\u001b[39m)      \u001b[39m# 隨機數產生答案\u001b[39;00m\n\u001b[1;32m      5\u001b[0m \u001b[39mwhile\u001b[39;00m \u001b[39mTrue\u001b[39;00m:\n\u001b[0;32m----> 6\u001b[0m     yourNum \u001b[39m=\u001b[39m \u001b[39mint\u001b[39m(\u001b[39minput\u001b[39m(\u001b[39m\"\u001b[39m\u001b[39m請猜1-10之間數字: \u001b[39m\u001b[39m\"\u001b[39m))\n\u001b[1;32m      7\u001b[0m     \u001b[39mif\u001b[39;00m yourNum \u001b[39m==\u001b[39m ans:\n\u001b[1;32m      8\u001b[0m         \u001b[39mprint\u001b[39m(\u001b[39m\"\u001b[39m\u001b[39m恭喜!答對了\u001b[39m\u001b[39m\"\u001b[39m)\n",
      "\u001b[0;31mValueError\u001b[0m: invalid literal for int() with base 10: ''"
     ]
    }
   ],
   "source": [
    "import random                       # 導入模組random\n",
    "\n",
    "min, max = 1, 10\n",
    "ans = random.randint(min, max)      # 隨機數產生答案\n",
    "while True:\n",
    "    yourNum = int(input(\"請猜1-10之間數字: \"))\n",
    "    if yourNum == ans:\n",
    "        print(\"恭喜!答對了\")\n",
    "        break\n",
    "    elif yourNum < ans:\n",
    "        print(\"請猜大一些\")\n",
    "    else:\n",
    "        print(\"請猜小一些\")"
   ]
  },
  {
   "cell_type": "markdown",
   "metadata": {},
   "source": [
    "## choice(seq) \n",
    "\n",
    "random.choice(seq) 可以從一個字串、串列或 tuple 中 ( 有順序的物件 )，隨機取出一個項目。"
   ]
  },
  {
   "cell_type": "code",
   "execution_count": 5,
   "metadata": {},
   "outputs": [
    {
     "name": "stdout",
     "output_type": "stream",
     "text": [
      "3\n",
      "3\n",
      "1\n"
     ]
    }
   ],
   "source": [
    "import random\n",
    "print(random.choice([1,2,3,4,5]))  # 2  串列\n",
    "print(random.choice((1,2,3,4,5)))  # 5  tuple\n",
    "print(random.choice('12345'))      # 1  字串"
   ]
  },
  {
   "cell_type": "markdown",
   "metadata": {},
   "source": [
    "## seed(x) \n",
    "\n",
    "Python random 模組所產生的隨機數並不是真正的「隨機」，而是演算法根據「種子 seed」產生的一組數字，預設這個 seed 以電腦系統的時間為主，因此如果種子相同，就會產生相同的隨機數，以下方的程式為例，種子如果都是 1，產生的隨機數就一模一樣。"
   ]
  },
  {
   "cell_type": "code",
   "execution_count": 7,
   "metadata": {},
   "outputs": [
    {
     "name": "stdout",
     "output_type": "stream",
     "text": [
      "0.13436424411240122\n",
      "0.13436424411240122\n",
      "0.13436424411240122\n"
     ]
    }
   ],
   "source": [
    "import random\n",
    "random.seed(1)\n",
    "print(random.random())   # 0.13436424411240122\n",
    "random.seed(1)\n",
    "print(random.random())   # 0.13436424411240122\n",
    "random.seed(1)\n",
    "print(random.random())   # 0.13436424411240122"
   ]
  },
  {
   "cell_type": "markdown",
   "metadata": {},
   "source": [
    "## random() \n",
    "\n",
    "random.random() 使用後會產生一個 0.0～1.0 之間的隨機浮點數。"
   ]
  },
  {
   "cell_type": "code",
   "execution_count": 8,
   "metadata": {},
   "outputs": [
    {
     "name": "stdout",
     "output_type": "stream",
     "text": [
      "0.8474337369372327\n"
     ]
    }
   ],
   "source": [
    "import random\n",
    "print(random.random()) "
   ]
  },
  {
   "cell_type": "markdown",
   "metadata": {},
   "source": [
    "## uniform(x, y) \n",
    "\n",
    "random.uniform(x, y) 使用後會產生一個 x～y 之間的隨機浮點數。"
   ]
  },
  {
   "cell_type": "code",
   "execution_count": 9,
   "metadata": {},
   "outputs": [
    {
     "name": "stdout",
     "output_type": "stream",
     "text": [
      "4.527549237953228\n"
     ]
    }
   ],
   "source": [
    "import random\n",
    "print(random.uniform(3,5))   # 3.691400829417505"
   ]
  },
  {
   "cell_type": "markdown",
   "metadata": {},
   "source": [
    "## randrange(x, y, step)\n",
    "\n",
    "random.randrange(x, y, step) 使用後會產生一個 x～y 之間的隨機整數，step 預設為 1，表示要間隔多少數字，例如下方的程式將 step 設定為 2，取出的隨機數就都會是偶數。"
   ]
  },
  {
   "cell_type": "code",
   "execution_count": 11,
   "metadata": {},
   "outputs": [
    {
     "name": "stdout",
     "output_type": "stream",
     "text": [
      "2\n",
      "7\n"
     ]
    }
   ],
   "source": [
    "import random\n",
    "print(random.randrange(2,10,2))   # 6\n",
    "print(random.randrange(10))    # 9"
   ]
  },
  {
   "cell_type": "markdown",
   "metadata": {},
   "source": [
    "## choices(seq, k)\n",
    "\n",
    "random.choices(seq, k) 可以從一個字串、串列或 tuple 中 ( 有順序的物件 )，隨機取出 k 個項目，取出的項目可能會重複，並將這 k 個項目組成一個新的串列。"
   ]
  },
  {
   "cell_type": "code",
   "execution_count": 13,
   "metadata": {},
   "outputs": [
    {
     "name": "stdout",
     "output_type": "stream",
     "text": [
      "[4, 1]\n",
      "[1, 5, 3]\n",
      "['4', '1', '3', '4']\n"
     ]
    }
   ],
   "source": [
    "import random\n",
    "print(random.choices([1,2,3,4,5],k=2))  # [2, 1]\n",
    "print(random.choices((1,2,3,4,5),k=3))  # [3, 1, 1]\n",
    "print(random.choices('12345',k=4)) "
   ]
  },
  {
   "cell_type": "markdown",
   "metadata": {},
   "source": [
    "## sample(seq, k) \n",
    "\n",
    "random.sample(seq, k) 可以從一個字串、串列或 tuple 中 ( 有順序的物件 )，隨機取出 k 個項目，每個項目不會重複，並將這 k 個項目組成一個新的串列，k 一定要填入數字，且不能大於物件的長度 ( 例如串列的長度是 4，k 就不能大於 4 )。"
   ]
  },
  {
   "cell_type": "code",
   "execution_count": 14,
   "metadata": {},
   "outputs": [
    {
     "name": "stdout",
     "output_type": "stream",
     "text": [
      "[2, 1, 5, 4]\n",
      "[1, 5, 3, 4]\n",
      "['4', '2', '5', '1']\n"
     ]
    }
   ],
   "source": [
    "import random\n",
    "print(random.sample([1,2,3,4,5], k=4))   # [2, 5, 3, 4]\n",
    "print(random.sample((1,2,3,4,5), k=4))   # [2, 1, 5, 4]\n",
    "print(random.sample('12345', k=4))"
   ]
  },
  {
   "cell_type": "code",
   "execution_count": 8,
   "metadata": {},
   "outputs": [
    {
     "name": "stdout",
     "output_type": "stream",
     "text": [
      "第xxx期大樂透號碼 2 11 17 20 42 45 \n",
      "特別號:37\n"
     ]
    }
   ],
   "source": [
    "import random                               # 導入模組random\n",
    "\n",
    "lotterys = random.sample(range(1,50), 7)    # 7組號碼\n",
    "specialNum = lotterys.pop()                 # 特別號\n",
    "\n",
    "print(\"第xxx期大樂透號碼 \", end=\"\")\n",
    "for lottery in sorted(lotterys):            # 排序列印大樂透號碼\n",
    "    print(lottery, end=\" \")\n",
    "print(f\"\\n特別號:{specialNum}\")             # 列印特別號"
   ]
  },
  {
   "cell_type": "markdown",
   "metadata": {},
   "source": [
    "## shuffle(list) \n",
    "- random.shuffle(seq) 使用後，會將原本的「串列」順序打亂 ( 不支援 tuple，因為 tuple 不能被修改 )。\n",
    "- 這個方法可以將串列元素重新排列，如果你欲設計撲克牌（Porker） 遊戲，在發牌前可以使用這個方法將牌打亂重新排列。"
   ]
  },
  {
   "cell_type": "code",
   "execution_count": 15,
   "metadata": {},
   "outputs": [
    {
     "name": "stdout",
     "output_type": "stream",
     "text": [
      "[1, 2, 3, 4, 5]\n",
      "[1, 3, 4, 2, 5]\n"
     ]
    }
   ],
   "source": [
    "a = [1,2,3,4,5]\n",
    "print(a)           # [1,2,3,4,5]\n",
    "random.shuffle(a)\n",
    "print(a) "
   ]
  },
  {
   "cell_type": "code",
   "execution_count": 7,
   "metadata": {},
   "outputs": [
    {
     "name": "stdout",
     "output_type": "stream",
     "text": [
      "['9', '10', '3', '5', 'K', '4', 'J', '7', 'A', '6', '8', '2', 'Q']\n",
      "['3', '10', '6', 'Q', '4', 'J', 'A', '9', '8', '5', 'K', '7', '2']\n",
      "['K', '7', '10', '6', 'A', '8', '2', 'Q', '5', '9', 'J', '4', '3']\n"
     ]
    }
   ],
   "source": [
    "import random                       # 導入模組random\n",
    "\n",
    "porker = ['2', '3', '4', '5', '6', '7', '8',\n",
    "          '9', '10', 'J', 'Q', 'K', 'A']\n",
    "for i in range(3):\n",
    "    random.shuffle(porker)          # 將次序打亂重新排列\n",
    "    print(porker)"
   ]
  }
 ],
 "metadata": {
  "kernelspec": {
   "display_name": "base",
   "language": "python",
   "name": "python3"
  },
  "language_info": {
   "codemirror_mode": {
    "name": "ipython",
    "version": 3
   },
   "file_extension": ".py",
   "mimetype": "text/x-python",
   "name": "python",
   "nbconvert_exporter": "python",
   "pygments_lexer": "ipython3",
   "version": "3.11.5"
  },
  "orig_nbformat": 4
 },
 "nbformat": 4,
 "nbformat_minor": 2
}
