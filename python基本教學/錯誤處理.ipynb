{
 "cells": [
  {
   "cell_type": "markdown",
   "metadata": {},
   "source": [
    "先示範一個程式錯誤"
   ]
  },
  {
   "cell_type": "code",
   "execution_count": 1,
   "metadata": {},
   "outputs": [
    {
     "name": "stdout",
     "output_type": "stream",
     "text": [
      "5.0\n"
     ]
    },
    {
     "ename": "ZeroDivisionError",
     "evalue": "division by zero",
     "output_type": "error",
     "traceback": [
      "\u001b[0;31m---------------------------------------------------------------------------\u001b[0m",
      "\u001b[0;31mZeroDivisionError\u001b[0m                         Traceback (most recent call last)",
      "Cell \u001b[0;32mIn[1], line 5\u001b[0m\n\u001b[1;32m      2\u001b[0m     \u001b[39mreturn\u001b[39;00m x \u001b[39m/\u001b[39m y\n\u001b[1;32m      4\u001b[0m \u001b[39mprint\u001b[39m(division(\u001b[39m10\u001b[39m, \u001b[39m2\u001b[39m))      \u001b[39m# 列出10/2\u001b[39;00m\n\u001b[0;32m----> 5\u001b[0m \u001b[39mprint\u001b[39m(division(\u001b[39m5\u001b[39m, \u001b[39m0\u001b[39m))       \u001b[39m# 列出5/0\u001b[39;00m\n\u001b[1;32m      6\u001b[0m \u001b[39mprint\u001b[39m(division(\u001b[39m6\u001b[39m, \u001b[39m3\u001b[39m))\n",
      "Cell \u001b[0;32mIn[1], line 2\u001b[0m, in \u001b[0;36mdivision\u001b[0;34m(x, y)\u001b[0m\n\u001b[1;32m      1\u001b[0m \u001b[39mdef\u001b[39;00m \u001b[39mdivision\u001b[39m(x, y):\n\u001b[0;32m----> 2\u001b[0m     \u001b[39mreturn\u001b[39;00m x \u001b[39m/\u001b[39m y\n",
      "\u001b[0;31mZeroDivisionError\u001b[0m: division by zero"
     ]
    }
   ],
   "source": [
    "def division(x, y):\n",
    "    return x / y\n",
    "\n",
    "print(division(10, 2))      # 列出10/2\n",
    "print(division(5, 0))       # 列出5/0\n",
    "print(division(6, 3))       # 列出6/3"
   ]
  },
  {
   "cell_type": "markdown",
   "metadata": {},
   "source": [
    "增加異常處理"
   ]
  },
  {
   "cell_type": "code",
   "execution_count": 2,
   "metadata": {},
   "outputs": [
    {
     "name": "stdout",
     "output_type": "stream",
     "text": [
      "5.0\n",
      "除數不可為0\n",
      "None\n",
      "2.0\n"
     ]
    }
   ],
   "source": [
    "def division(x, y):\n",
    "    try:                        # try - except指令\n",
    "        return x / y\n",
    "    except ZeroDivisionError:   # 除數為0時執行\n",
    "        print(\"除數不可為0\")\n",
    "\n",
    "print(division(10, 2))          # 列出10/2\n",
    "print(division(5, 0))           # 列出5/0\n",
    "print(division(6, 3))           # 列出6/3"
   ]
  },
  {
   "cell_type": "code",
   "execution_count": 3,
   "metadata": {},
   "outputs": [
    {
     "name": "stdout",
     "output_type": "stream",
     "text": [
      "5.0\n",
      "除數不可為0\n",
      "None\n",
      "2.0\n"
     ]
    }
   ],
   "source": [
    "def division(x, y):\n",
    "    try:                        # try - except指令\n",
    "        ans =  x / y\n",
    "    except ZeroDivisionError:   # 除數為0時執行\n",
    "        print(\"除數不可為0\")\n",
    "    else:\n",
    "        return ans              # 傳回正確的執行結果\n",
    "\n",
    "print(division(10, 2))          # 列出10/2\n",
    "print(division(5, 0))           # 列出5/0\n",
    "print(division(6, 3))           # 列出6/3"
   ]
  },
  {
   "cell_type": "markdown",
   "metadata": {},
   "source": [
    "## 找不到檔案的錯誤"
   ]
  },
  {
   "cell_type": "code",
   "execution_count": 4,
   "metadata": {},
   "outputs": [
    {
     "name": "stdout",
     "output_type": "stream",
     "text": [
      "找不到 ch15_4.txt 檔案\n"
     ]
    }
   ],
   "source": [
    "fn = 'ch15_4.txt'               # 設定欲開啟的檔案\n",
    "try:\n",
    "    with open(fn) as file_Obj:  # 用預設mode=r開啟檔案,傳回檔案物件file_Obj\n",
    "        data = file_Obj.read()  # 讀取檔案到變數data\n",
    "except FileNotFoundError:\n",
    "    print(\"找不到 %s 檔案\" % fn)\n",
    "else:\n",
    "    print(data)                 # 輸出變數data相當於輸出檔案"
   ]
  },
  {
   "cell_type": "markdown",
   "metadata": {},
   "source": [
    "## 設計多組異常處理\n",
    "- AttributeError 通常是指物件沒有這個屬性\n",
    "- Exception 一般錯誤皆可使用\n",
    "- FileNotFoundError 找不到 open（）開啟的檔案\n",
    "- IOError 在輸入或輸出時發生錯誤\n",
    "- IndexError 索引超出範圍區間\n",
    "- KeyError 在映射中沒有這個鍵\n",
    "- MemoryError 需求記憶體空間超出範圍\n",
    "- NameError 物件名稱未宣告\n",
    "- SyntaxError 語法錯誤\n",
    "- SystemError 直譯器的系統錯誤\n",
    "- TypeError 資料型別錯誤\n",
    "- ValueError 傳入無效參數\n",
    "- ZeroDivisionError 除數為0"
   ]
  },
  {
   "cell_type": "code",
   "execution_count": 5,
   "metadata": {},
   "outputs": [
    {
     "name": "stdout",
     "output_type": "stream",
     "text": [
      "5.0\n",
      "通用錯誤發生\n",
      "None\n",
      "通用錯誤發生\n",
      "None\n",
      "2.0\n"
     ]
    }
   ],
   "source": [
    "def division(x, y):\n",
    "    try:                        # try - except指令\n",
    "        return x / y\n",
    "    except Exception:           # 通用錯誤使用\n",
    "        print(\"通用錯誤發生\")\n",
    "\n",
    "print(division(10, 2))          # 列出10/2\n",
    "print(division(5, 0))           # 列出5/0\n",
    "print(division('a', 'b'))       # 列出'a' / 'b'\n",
    "print(division(6, 3))           # 列出6/3\n"
   ]
  },
  {
   "cell_type": "markdown",
   "metadata": {},
   "source": [
    "## 設計捕捉多個異常"
   ]
  },
  {
   "cell_type": "code",
   "execution_count": 6,
   "metadata": {},
   "outputs": [
    {
     "name": "stdout",
     "output_type": "stream",
     "text": [
      "5.0\n",
      "除數為0發生\n",
      "None\n",
      "使用字元做除法運算異常\n",
      "None\n",
      "2.0\n"
     ]
    }
   ],
   "source": [
    "def division(x, y):\n",
    "    try:                        # try - except指令\n",
    "        return x / y\n",
    "    except ZeroDivisionError:   # 除數為0使用\n",
    "        print(\"除數為0發生\")\n",
    "    except TypeError:           # 資料型別錯誤\n",
    "        print(\"使用字元做除法運算異常\")\n",
    "\n",
    "print(division(10, 2))          # 列出10/2\n",
    "print(division(5, 0))           # 列出5/0\n",
    "print(division('a', 'b'))       # 列出'a' / 'b'\n",
    "print(division(6, 3))           # 列出6/3"
   ]
  },
  {
   "cell_type": "markdown",
   "metadata": {},
   "source": [
    "## 處理異常但使用python內建錯誤訊息"
   ]
  },
  {
   "cell_type": "code",
   "execution_count": 7,
   "metadata": {},
   "outputs": [
    {
     "name": "stdout",
     "output_type": "stream",
     "text": [
      "5.0\n",
      "division by zero\n",
      "None\n",
      "unsupported operand type(s) for /: 'str' and 'str'\n",
      "None\n",
      "2.0\n"
     ]
    }
   ],
   "source": [
    "def division(x, y):\n",
    "    try:                        # try - except指令\n",
    "        return x / y\n",
    "    except (ZeroDivisionError, TypeError) as e:   # 2個異常\n",
    "        print(e)\n",
    "\n",
    "print(division(10, 2))          # 列出10/2\n",
    "print(division(5, 0))           # 列出5/0\n",
    "print(division('a', 'b'))       # 列出'a' / 'b'\n",
    "print(division(6, 3))           # 列出6/3"
   ]
  },
  {
   "cell_type": "markdown",
   "metadata": {},
   "source": [
    "## 捕捉所有錯誤"
   ]
  },
  {
   "cell_type": "code",
   "execution_count": 9,
   "metadata": {},
   "outputs": [
    {
     "name": "stdout",
     "output_type": "stream",
     "text": [
      "5.0\n",
      "異常發生\n",
      "None\n",
      "異常發生\n",
      "None\n",
      "2.0\n"
     ]
    }
   ],
   "source": [
    "def division(x, y):\n",
    "    try:                        # try - except指令\n",
    "        return x / y\n",
    "    except:                     # 捕捉所有異常\n",
    "        print(\"異常發生\")\n",
    "\n",
    "print(division(10, 2))          # 列出10/2\n",
    "print(division(5, 0))           # 列出5/0\n",
    "print(division('a', 'b'))       # 列出'a' / 'b'\n",
    "print(division(6, 3))           # 列出6/3\n"
   ]
  },
  {
   "cell_type": "markdown",
   "metadata": {},
   "source": [
    "## finally"
   ]
  },
  {
   "cell_type": "code",
   "execution_count": 13,
   "metadata": {},
   "outputs": [
    {
     "name": "stdout",
     "output_type": "stream",
     "text": [
      "階段任務完成\n",
      "5.0 \n",
      "\n",
      "異常發生\n",
      "階段任務完成\n",
      "None \n",
      "\n",
      "異常發生\n",
      "階段任務完成\n",
      "None \n",
      "\n",
      "階段任務完成\n",
      "2.0 \n",
      "\n"
     ]
    }
   ],
   "source": [
    "def division(x, y):\n",
    "    try:                             # try - except指令\n",
    "        return x / y\n",
    "    except:                          # 捕捉所有異常\n",
    "        print(\"異常發生\")\n",
    "    finally:                         # 離開函數前先執行此程式碼\n",
    "        print(\"階段任務完成\")\n",
    "\n",
    "print(division(10, 2),\"\\n\")          # 列出10/2\n",
    "print(division(5, 0),\"\\n\")           # 列出5/0\n",
    "print(division('a', 'b'),\"\\n\")       # 列出'a' / 'b'\n",
    "print(division(6, 3),\"\\n\")           # 列出6/3"
   ]
  },
  {
   "cell_type": "markdown",
   "metadata": {},
   "source": [
    "## 丟出異常定繼續執行 raise\n",
    "前面所介紹的異常皆是 Python 直譯器發現異常時，自行丟出異常物件，如果我們不處理程式就終止執行，如果我們使用 try - except 處理程式可以在異常中回復執行。\n",
    "這一節要探討的是，我們設計程式時如果發生某些狀況，我們自己將它定義為異常然後丟出異常訊息，程式停止正常往下執行，同時讓程式跳到自己設計的 except 去執行。"
   ]
  },
  {
   "cell_type": "code",
   "execution_count": 10,
   "metadata": {},
   "outputs": [
    {
     "name": "stdout",
     "output_type": "stream",
     "text": [
      "密碼長度檢查異常發生:  密碼長度太長\n",
      "密碼長度檢查異常發生:  密碼長度不足\n",
      "密碼長度正確\n"
     ]
    }
   ],
   "source": [
    "def passWord(pwd):\n",
    "    \"\"\"檢查密碼長度必須是5到8個字元\"\"\"\n",
    "    pwdlen = len(pwd)                       # 密碼長度\n",
    "    if pwdlen < 5:                          # 密碼長度不足            \n",
    "        raise Exception('密碼長度不足')\n",
    "    if pwdlen > 8:                          # 密碼長度太長\n",
    "        raise Exception('密碼長度太長')\n",
    "    print('密碼長度正確')\n",
    "\n",
    "for pwd in ('aaabbbccc', 'aaa', 'aaabbb'):  # 測試系列密碼值\n",
    "    try:\n",
    "        passWord(pwd)\n",
    "    except Exception as err:\n",
    "        print(\"密碼長度檢查異常發生: \", str(err))"
   ]
  },
  {
   "cell_type": "markdown",
   "metadata": {},
   "source": [
    "## 將錯誤紀錄在記事本中"
   ]
  },
  {
   "cell_type": "code",
   "execution_count": 11,
   "metadata": {},
   "outputs": [
    {
     "name": "stdout",
     "output_type": "stream",
     "text": [
      "將Traceback寫入錯誤檔案.txt完成\n",
      "密碼長度檢查異常發生:  密碼長度太長\n",
      "將Traceback寫入錯誤檔案.txt完成\n",
      "密碼長度檢查異常發生:  密碼長度不足\n",
      "密碼長度正確\n"
     ]
    }
   ],
   "source": [
    "import traceback                            # 導入taceback\n",
    "\n",
    "def passWord(pwd):\n",
    "    \"\"\"檢查密碼長度必須是5到8個字元\"\"\"\n",
    "    pwdlen = len(pwd)                       # 密碼長度\n",
    "    if pwdlen < 5:                          # 密碼長度不足            \n",
    "        raise Exception('密碼長度不足')\n",
    "    if pwdlen > 8:                          # 密碼長度太長\n",
    "        raise Exception('密碼長度太長')\n",
    "    print('密碼長度正確')\n",
    "\n",
    "for pwd in ('aaabbbccc', 'aaa', 'aaabbb'):  # 測試系列密碼值\n",
    "    try:\n",
    "        passWord(pwd)\n",
    "    except Exception as err:\n",
    "        errlog = open('將Traceback寫入錯誤檔案.txt', 'a')   # 開啟錯誤檔案\n",
    "        errlog.write(traceback.format_exc())   # 寫入錯誤檔案\n",
    "        errlog.close()                         # 關閉錯誤檔案\n",
    "        print(\"將Traceback寫入錯誤檔案.txt完成\")\n",
    "        print(\"密碼長度檢查異常發生: \", str(err))"
   ]
  },
  {
   "cell_type": "code",
   "execution_count": 12,
   "metadata": {},
   "outputs": [
    {
     "name": "stdout",
     "output_type": "stream",
     "text": [
      "5.0\n",
      "將Traceback寫入錯誤檔案errch15_17.txt完成\n",
      "異常發生\n",
      "None\n",
      "將Traceback寫入錯誤檔案errch15_17.txt完成\n",
      "異常發生\n",
      "None\n",
      "2.0\n"
     ]
    }
   ],
   "source": [
    "import traceback\n",
    "\n",
    "def division(x, y):\n",
    "    try:                        # try - except指令\n",
    "        return x / y\n",
    "    except:                     # 捕捉所有異常\n",
    "        errlog = open('將Traceback寫入錯誤檔案.txt', 'a')   # 開啟錯誤檔案\n",
    "        errlog.write(traceback.format_exc())   # 寫入錯誤檔案\n",
    "        errlog.close()                         # 關閉錯誤檔案\n",
    "        print(\"將Traceback寫入錯誤檔案errch15_17.txt完成\")\n",
    "        print(\"異常發生\")\n",
    "\n",
    "print(division(10, 2))          # 列出10/2\n",
    "print(division(5, 0))           # 列出5/0\n",
    "print(division('a', 'b'))       # 列出'a' / 'b'\n",
    "print(division(6, 3))           # 列出6/3\n"
   ]
  },
  {
   "cell_type": "markdown",
   "metadata": {},
   "source": [
    "## 程式斷言assert\n",
    "\n",
    "Python 的 assert 關鍵字主要功能是協助程式設計師在程式設計階段，對整個程式的執行狀態做一個全面性的安全檢查，以確保程式不會發生語意上的錯誤。"
   ]
  },
  {
   "cell_type": "code",
   "execution_count": 14,
   "metadata": {},
   "outputs": [
    {
     "name": "stdout",
     "output_type": "stream",
     "text": [
      "Hung  目前餘額:  100\n",
      "存款  -300  完成\n",
      "Hung  目前餘額:  -200\n",
      "提款  700  完成\n",
      "Hung  目前餘額:  -900\n"
     ]
    }
   ],
   "source": [
    "# 以下不是一個好程式，因為會出現負數的狀況\n",
    "class Banks():\n",
    "    # 定義銀行類別\n",
    "    title = 'Taipei Bank'                   # 定義屬性\n",
    "    def __init__(self, uname, money):       # 初始化方法\n",
    "        self.name = uname                   # 設定存款者名字\n",
    "        self.balance = money                # 設定所存的錢\n",
    "\n",
    "    def save_money(self, money):            # 設計存款方法\n",
    "        self.balance += money               # 執行存款\n",
    "        print(\"存款 \", money, \" 完成\")      # 列印存款完成\n",
    "\n",
    "    def withdraw_money(self, money):        # 設計提款方法\n",
    "        self.balance -= money               # 執行提款\n",
    "        print(\"提款 \", money, \" 完成\")      # 列印提款完成\n",
    "\n",
    "    def get_balance(self):                  # 獲得存款餘額\n",
    "        print(self.name.title(), \" 目前餘額: \", self.balance)\n",
    "\n",
    "hungbank = Banks('hung', 100)               # 定義物件hungbank\n",
    "hungbank.get_balance()                      # 獲得存款餘額                \n",
    "hungbank.save_money(-300)                   # 存款-300元\n",
    "hungbank.get_balance()                      # 獲得存款餘額\n",
    "hungbank.withdraw_money(700)                # 提款700元\n",
    "hungbank.get_balance()                      # 獲得存款餘額\n"
   ]
  },
  {
   "cell_type": "markdown",
   "metadata": {},
   "source": [
    "assert 條件，'字串'\n",
    "\n",
    "上述意義是程式執行至此階段時測試條件，如果條件回應是 True，程式不理會逗號\"\"右邊的字串正常往下執行。如果條件回應是 False，程式終止同時將逗號\"，\"右邊的字串輸出到 Traceback 的字串內。\n",
    "\n",
    "而我們必須讓 assert 關鍵字做下列2件事：\n",
    "\n",
    "- 確保存款與提款金額是正值，否則輸出錯誤，可參考第10和15行。\n",
    "- 確保提款金額小於等於存款金額，否則輸出錯誤，可參考第16行。"
   ]
  },
  {
   "cell_type": "code",
   "execution_count": 15,
   "metadata": {},
   "outputs": [
    {
     "name": "stdout",
     "output_type": "stream",
     "text": [
      "Hung  目前餘額:  100\n",
      "存款  300  完成\n",
      "Hung  目前餘額:  400\n"
     ]
    },
    {
     "ename": "AssertionError",
     "evalue": "存款金額不足",
     "output_type": "error",
     "traceback": [
      "\u001b[0;31m---------------------------------------------------------------------------\u001b[0m",
      "\u001b[0;31mAssertionError\u001b[0m                            Traceback (most recent call last)",
      "Cell \u001b[0;32mIn[15], line 26\u001b[0m\n\u001b[1;32m     24\u001b[0m hungbank\u001b[39m.\u001b[39msave_money(\u001b[39m300\u001b[39m)                    \u001b[39m# 存款300元\u001b[39;00m\n\u001b[1;32m     25\u001b[0m hungbank\u001b[39m.\u001b[39mget_balance()                      \u001b[39m# 獲得存款餘額\u001b[39;00m\n\u001b[0;32m---> 26\u001b[0m hungbank\u001b[39m.\u001b[39mwithdraw_money(\u001b[39m700\u001b[39m)                \u001b[39m# 提款700元\u001b[39;00m\n\u001b[1;32m     27\u001b[0m hungbank\u001b[39m.\u001b[39mget_balance()\n",
      "Cell \u001b[0;32mIn[15], line 15\u001b[0m, in \u001b[0;36mBanks.withdraw_money\u001b[0;34m(self, money)\u001b[0m\n\u001b[1;32m     13\u001b[0m \u001b[39mdef\u001b[39;00m \u001b[39mwithdraw_money\u001b[39m(\u001b[39mself\u001b[39m, money):        \u001b[39m# 設計提款方法\u001b[39;00m\n\u001b[1;32m     14\u001b[0m     \u001b[39massert\u001b[39;00m money \u001b[39m>\u001b[39m \u001b[39m0\u001b[39m, \u001b[39m'\u001b[39m\u001b[39m提款money必需大於0\u001b[39m\u001b[39m'\u001b[39m\n\u001b[0;32m---> 15\u001b[0m     \u001b[39massert\u001b[39;00m money \u001b[39m<\u001b[39m\u001b[39m=\u001b[39m \u001b[39mself\u001b[39m\u001b[39m.\u001b[39mbalance, \u001b[39m'\u001b[39m\u001b[39m存款金額不足\u001b[39m\u001b[39m'\u001b[39m\n\u001b[1;32m     16\u001b[0m     \u001b[39mself\u001b[39m\u001b[39m.\u001b[39mbalance \u001b[39m-\u001b[39m\u001b[39m=\u001b[39m money               \u001b[39m# 執行提款\u001b[39;00m\n\u001b[1;32m     17\u001b[0m     \u001b[39mprint\u001b[39m(\u001b[39m\"\u001b[39m\u001b[39m提款 \u001b[39m\u001b[39m\"\u001b[39m, money, \u001b[39m\"\u001b[39m\u001b[39m 完成\u001b[39m\u001b[39m\"\u001b[39m)\n",
      "\u001b[0;31mAssertionError\u001b[0m: 存款金額不足"
     ]
    }
   ],
   "source": [
    "class Banks():\n",
    "    # 定義銀行類別\n",
    "    title = 'Taipei Bank'                   # 定義屬性\n",
    "    def __init__(self, uname, money):       # 初始化方法\n",
    "        self.name = uname                   # 設定存款者名字\n",
    "        self.balance = money                # 設定所存的錢\n",
    "\n",
    "    def save_money(self, money):            # 設計存款方法\n",
    "        assert money > 0, '存款money必需大於0'\n",
    "        self.balance += money               # 執行存款\n",
    "        print(\"存款 \", money, \" 完成\")      # 列印存款完成\n",
    "\n",
    "    def withdraw_money(self, money):        # 設計提款方法\n",
    "        assert money > 0, '提款money必需大於0'\n",
    "        assert money <= self.balance, '存款金額不足'\n",
    "        self.balance -= money               # 執行提款\n",
    "        print(\"提款 \", money, \" 完成\")      # 列印提款完成\n",
    "\n",
    "    def get_balance(self):                  # 獲得存款餘額\n",
    "        print(self.name.title(), \" 目前餘額: \", self.balance)\n",
    "\n",
    "hungbank = Banks('hung', 100)               # 定義物件hungbank\n",
    "hungbank.get_balance()                      # 獲得存款餘額                \n",
    "hungbank.save_money(300)                    # 存款300元\n",
    "hungbank.get_balance()                      # 獲得存款餘額\n",
    "hungbank.withdraw_money(700)                # 提款700元\n",
    "hungbank.get_balance()                      # 獲得存款餘額"
   ]
  },
  {
   "cell_type": "code",
   "execution_count": 16,
   "metadata": {},
   "outputs": [
    {
     "name": "stdout",
     "output_type": "stream",
     "text": [
      "Hung  目前餘額:  100\n",
      "存款  300  完成\n",
      "Hung  目前餘額:  400\n",
      "提款失敗: 存款金額不足\n",
      "Hung  目前餘額:  400\n"
     ]
    }
   ],
   "source": [
    "class Banks():\n",
    "    # 定義銀行類別\n",
    "    title = 'Taipei Bank'                   # 定義屬性\n",
    "    def __init__(self, uname, money):       # 初始化方法\n",
    "        self.name = uname                   # 設定存款者名字\n",
    "        self.balance = money                # 設定所存的錢\n",
    "\n",
    "    def save_money(self, money):            # 設計存款方法\n",
    "        try:\n",
    "            assert money > 0, '存款money必需大於0'\n",
    "            self.balance += money           # 執行存款\n",
    "            print(\"存款 \", money, \" 完成\")  # 列印存款完成\n",
    "        except AssertionError as e:\n",
    "            print(\"存款失敗:\", e)\n",
    "\n",
    "    def withdraw_money(self, money):        # 設計提款方法\n",
    "        try:\n",
    "            assert money > 0, '提款money必需大於0'\n",
    "            assert money <= self.balance, '存款金額不足'\n",
    "            self.balance -= money           # 執行提款\n",
    "            print(\"提款 \", money, \" 完成\")  # 列印提款完成\n",
    "        except AssertionError as e:\n",
    "            print(\"提款失敗:\", e)\n",
    "\n",
    "    def get_balance(self):                  # 獲得存款餘額\n",
    "        print(self.name.title(), \" 目前餘額: \", self.balance)\n",
    "\n",
    "hungbank = Banks('hung', 100)               # 定義物件hungbank\n",
    "hungbank.get_balance()                      # 獲得存款餘額                \n",
    "hungbank.save_money(300)                    # 存款300元\n",
    "hungbank.get_balance()                      # 獲得存款餘額\n",
    "hungbank.withdraw_money(700)                # 提款700元\n",
    "hungbank.get_balance()                      # 獲得存款餘額\n"
   ]
  }
 ],
 "metadata": {
  "kernelspec": {
   "display_name": "base",
   "language": "python",
   "name": "python3"
  },
  "language_info": {
   "codemirror_mode": {
    "name": "ipython",
    "version": 3
   },
   "file_extension": ".py",
   "mimetype": "text/x-python",
   "name": "python",
   "nbconvert_exporter": "python",
   "pygments_lexer": "ipython3",
   "version": "3.11.5"
  },
  "orig_nbformat": 4
 },
 "nbformat": 4,
 "nbformat_minor": 2
}
