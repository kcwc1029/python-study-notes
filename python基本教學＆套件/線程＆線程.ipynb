{
 "cells": [
  {
   "cell_type": "markdown",
   "metadata": {},
   "source": [
    "# 線程"
   ]
  },
  {
   "cell_type": "markdown",
   "metadata": {},
   "source": [
    "## 單線程執行"
   ]
  },
  {
   "cell_type": "code",
   "execution_count": 7,
   "metadata": {},
   "outputs": [
    {
     "name": "stdout",
     "output_type": "stream",
     "text": [
      "親愛的，我錯了，我能吃飯了嗎？\n",
      "親愛的，我錯了，我能吃飯了嗎？\n",
      "親愛的，我錯了，我能吃飯了嗎？\n",
      "親愛的，我錯了，我能吃飯了嗎？\n",
      "親愛的，我錯了，我能吃飯了嗎？\n"
     ]
    }
   ],
   "source": [
    "import time\n",
    "\n",
    "def saySorry():\n",
    "    print(\"親愛的，我錯了，我能吃飯了嗎？\")\n",
    "    time.sleep(1)\n",
    "\n",
    "if __name__ == \"__main__\":\n",
    "    for i in range(5):\n",
    "        saySorry()"
   ]
  },
  {
   "cell_type": "markdown",
   "metadata": {},
   "source": [
    "## 多線程執行"
   ]
  },
  {
   "cell_type": "code",
   "execution_count": 9,
   "metadata": {},
   "outputs": [
    {
     "name": "stdout",
     "output_type": "stream",
     "text": [
      "親愛的，我錯了，我能吃飯了嗎？親愛的，我錯了，我能吃飯了嗎？\n",
      "親愛的，我錯了，我能吃飯了嗎？\n",
      "\n",
      "親愛的，我錯了，我能吃飯了嗎？\n",
      "親愛的，我錯了，我能吃飯了嗎？\n"
     ]
    }
   ],
   "source": [
    "import threading\n",
    "import time\n",
    "\n",
    "def saySorry():\n",
    "    print(\"親愛的，我錯了，我能吃飯了嗎？\")\n",
    "    time.sleep(1)\n",
    "\n",
    "if __name__ == \"__main__\":\n",
    "    for i in range(5):\n",
    "        t = threading.Thread(target=saySorry)\n",
    "        t.start() #启动线程，即让线程开始执行"
   ]
  },
  {
   "cell_type": "markdown",
   "metadata": {},
   "source": [
    "## threading 基本用法\n",
    "\n",
    "＄ 建立 threading 之後，就可以使用下列常用的方法：\n",
    "- start()\t啟用執行緒。\n",
    "- join()\t等待執行緒，直到該執行緒完成才會進行後續動作。\n",
    "- ident\t取得該執行緒的標識符。\n",
    "- native_id\t取得該執行緒的 id。\n",
    "- is_alive()\t執行緒是否啟用，啟用 True，否則 False。"
   ]
  },
  {
   "cell_type": "code",
   "execution_count": 1,
   "metadata": {},
   "outputs": [
    {
     "name": "stdout",
     "output_type": "stream",
     "text": [
      "B: 10\n",
      "A: 1\n",
      "B: 20\n",
      "A: 2\n",
      "B: 30\n",
      "A: 3\n",
      "B: 40\n",
      "A: 4\n",
      "A:B: 50\n",
      " 5\n"
     ]
    },
    {
     "name": "stdout",
     "output_type": "stream",
     "text": [
      "C: 100\n",
      "C: 200\n",
      "C: 300\n",
      "C: 400\n",
      "C: 500\n"
     ]
    }
   ],
   "source": [
    "import threading\n",
    "import time\n",
    "\n",
    "def aa():\n",
    "    i = 0\n",
    "    while i<5:\n",
    "        i = i + 1\n",
    "        time.sleep(0.5)\n",
    "        print('A:', i)\n",
    "\n",
    "def bb():\n",
    "    i = 0\n",
    "    while i<50:\n",
    "        i = i + 10\n",
    "        time.sleep(0.5)\n",
    "        print('B:', i)\n",
    "\n",
    "def cc():\n",
    "    i = 0\n",
    "    while i<500:\n",
    "        i = i + 100\n",
    "        time.sleep(0.5)\n",
    "        print('C:', i)\n",
    "\n",
    "a = threading.Thread(target=aa)\n",
    "b = threading.Thread(target=bb)\n",
    "c = threading.Thread(target=cc)\n",
    "\n",
    "a.start()\n",
    "b.start()\n",
    "a.join()   # 加入等待 aa() 完成的方法\n",
    "b.join()   # 加入等待 bb() 完成的方法\n",
    "c.start()  # 當 aa() 與 bb() 都完成後，才會開始執行 cc()"
   ]
  },
  {
   "cell_type": "markdown",
   "metadata": {},
   "source": [
    "## 主線程會等待所有的子線程結束後才結束"
   ]
  },
  {
   "cell_type": "code",
   "execution_count": 10,
   "metadata": {},
   "outputs": [
    {
     "name": "stdout",
     "output_type": "stream",
     "text": [
      "---开始---:Sun Apr 28 15:23:42 2024\n",
      "正在唱歌...0\n",
      "正在跳舞...0\n",
      "正在唱歌...1正在跳舞...1\n",
      "\n",
      "正在跳舞...2正在唱歌...2\n",
      "\n",
      "---结束---:Sun Apr 28 15:23:47 2024\n"
     ]
    }
   ],
   "source": [
    "import threading\n",
    "from time import sleep,ctime\n",
    "\n",
    "def sing():\n",
    "    for i in range(3):\n",
    "        print(\"正在唱歌...%d\"%i)\n",
    "        sleep(1)\n",
    "\n",
    "def dance():\n",
    "    for i in range(3):\n",
    "        print(\"正在跳舞...%d\"%i)\n",
    "        sleep(1)\n",
    "\n",
    "if __name__ == '__main__':\n",
    "    print('---开始---:%s'%ctime())\n",
    "    t1 = threading.Thread(target=sing)\n",
    "    t2 = threading.Thread(target=dance)\n",
    "    t1.start()\n",
    "    t2.start()\n",
    "    sleep(5) # 屏蔽此行代码，试试看，程序是否会立马结束？\n",
    "    print('---结束---:%s'%ctime())\n"
   ]
  },
  {
   "cell_type": "markdown",
   "metadata": {},
   "source": [
    "## 計算thread數量"
   ]
  },
  {
   "cell_type": "code",
   "execution_count": null,
   "metadata": {},
   "outputs": [],
   "source": [
    "# NOTE: 不能直接在ipynb 跑\n",
    "import threading\n",
    "from time import sleep,ctime\n",
    "\n",
    "def sing():\n",
    "    for i in range(3):\n",
    "        print(\"正在唱歌...%d\"%i)\n",
    "        sleep(1)\n",
    "\n",
    "def dance():\n",
    "    for i in range(3):\n",
    "        print(\"正在跳舞...%d\"%i)\n",
    "        sleep(1)\n",
    "\n",
    "if __name__ == '__main__':\n",
    "    print('---开始---:%s'%ctime())\n",
    "\n",
    "    t1 = threading.Thread(target=sing)\n",
    "    t2 = threading.Thread(target=dance)\n",
    "    t1.start()\n",
    "    t2.start()\n",
    "\n",
    "    while True:\n",
    "        length = len(threading.enumerate()) # 計算線程運作數量\n",
    "        print('当前运行的线程数为：%d'%length)\n",
    "        if length<=1:\n",
    "            break\n",
    "\n",
    "        sleep(0.5)"
   ]
  },
  {
   "cell_type": "markdown",
   "metadata": {},
   "source": [
    "## 線程的封裝\n",
    "\n",
    "通過使用threading模塊能完成多任務的程序開發，為了讓每個線程的封裝性更完美，所以使用threading模塊時，往往會定義一個新的子類class，只要繼承threading.Thread就可以了，然後重寫run方法。"
   ]
  },
  {
   "cell_type": "code",
   "execution_count": 12,
   "metadata": {},
   "outputs": [
    {
     "name": "stdout",
     "output_type": "stream",
     "text": [
      "I'm Thread-31 @ 0\n",
      "I'm Thread-31 @ 1\n",
      "I'm Thread-31 @ 2\n"
     ]
    }
   ],
   "source": [
    "import threading\n",
    "import time\n",
    "\n",
    "class MyThread(threading.Thread):\n",
    "    def run(self):\n",
    "        for i in range(3):\n",
    "            time.sleep(1)\n",
    "            msg = \"I'm \"+self.name+' @ '+str(i) #name属性中保存的是当前线程的名字\n",
    "            print(msg)\n",
    "\n",
    "\n",
    "if __name__ == '__main__':\n",
    "    t = MyThread()\n",
    "    t.start()"
   ]
  },
  {
   "cell_type": "markdown",
   "metadata": {},
   "source": [
    "## 线程的執行顺序"
   ]
  },
  {
   "cell_type": "code",
   "execution_count": 13,
   "metadata": {},
   "outputs": [
    {
     "name": "stdout",
     "output_type": "stream",
     "text": [
      "I'm Thread-32 @ 0I'm Thread-36 @ 0\n",
      "I'm Thread-33 @ 0\n",
      "I'm Thread-34 @ 0\n",
      "I'm Thread-35 @ 0\n",
      "\n",
      "I'm Thread-36 @ 1I'm Thread-34 @ 1\n",
      "I'm Thread-33 @ 1\n",
      "I'm Thread-35 @ 1\n",
      "I'm Thread-32 @ 1\n",
      "\n",
      "I'm Thread-34 @ 2I'm Thread-33 @ 2\n",
      "I'm Thread-35 @ 2\n",
      "I'm Thread-32 @ 2\n",
      "I'm Thread-36 @ 2\n",
      "\n"
     ]
    }
   ],
   "source": [
    "import threading\n",
    "import time\n",
    "\n",
    "class MyThread(threading.Thread):\n",
    "    def run(self):\n",
    "        for i in range(3):\n",
    "            time.sleep(1)\n",
    "            msg = \"I'm \"+self.name+' @ '+str(i)\n",
    "            print(msg)\n",
    "def test():\n",
    "    for i in range(5):\n",
    "        t = MyThread()\n",
    "        t.start()\n",
    "if __name__ == '__main__':\n",
    "    test()\n",
    "\n",
    "\n",
    "\"\"\"\n",
    "從代碼和執行結果我們可以看出，多線程程序的執行順序是不確定的。\n",
    "當執行到sleep語句時，線程將被阻塞（Blocked），到sleep結束後，線程進入就緒（Runnable）狀態等待調度。\n",
    "而線程調度將自行選擇一個線程執行。上面的代碼中只能保證每個線程都運行完整個run函數，但是線程的啟動順序、\n",
    "run函數中每次循環的執行順序都不能確定。\n",
    "\"\"\""
   ]
  },
  {
   "cell_type": "markdown",
   "metadata": {},
   "source": [
    "## 多線程共享全局變量\n",
    "\n",
    "- 在一個進程內的所有線程共享全局變量，很方便在多個線程間共享數據\n",
    "- 缺點就是，線程是對全局變量隨意遂改可能造成多線程之間對全局變量的混亂（即線程非安全）"
   ]
  },
  {
   "cell_type": "code",
   "execution_count": 15,
   "metadata": {},
   "outputs": [
    {
     "name": "stdout",
     "output_type": "stream",
     "text": [
      "---线程创建之前g_num is 100---\n",
      "----in work1, g_num is 103---\n",
      "----in work2, g_num is 103---\n"
     ]
    }
   ],
   "source": [
    "from threading import Thread\n",
    "import time\n",
    "\n",
    "g_num = 100\n",
    "\n",
    "def work1():\n",
    "    global g_num\n",
    "    for i in range(3):\n",
    "        g_num += 1\n",
    "    print(\"----in work1, g_num is %d---\"%g_num)\n",
    "\n",
    "\n",
    "def work2():\n",
    "    global g_num\n",
    "    print(\"----in work2, g_num is %d---\"%g_num)\n",
    "\n",
    "print(\"---线程创建之前g_num is %d---\"%g_num)\n",
    "t1 = Thread(target=work1)\n",
    "t1.start()\n",
    "time.sleep(1)\n",
    "t2 = Thread(target=work2)\n",
    "t2.start()"
   ]
  },
  {
   "cell_type": "markdown",
   "metadata": {},
   "source": [
    "\n",
    "## 在線程中改變全局變量的值\n"
   ]
  },
  {
   "cell_type": "code",
   "execution_count": 19,
   "metadata": {},
   "outputs": [
    {
     "name": "stdout",
     "output_type": "stream",
     "text": [
      "----in work1--- [11, 22, 33, 44]\n"
     ]
    },
    {
     "name": "stdout",
     "output_type": "stream",
     "text": [
      "----in work2--- [11, 22, 33, 44]\n"
     ]
    }
   ],
   "source": [
    "from threading import Thread\n",
    "import time\n",
    "\n",
    "def work1(nums):\n",
    "    nums.append(44)\n",
    "    print(\"----in work1---\",nums)\n",
    "\n",
    "\n",
    "def work2(nums):\n",
    "    #延时一会，保证t1线程中的事情做完\n",
    "    time.sleep(1)\n",
    "    print(\"----in work2---\",nums)\n",
    "\n",
    "g_nums = [11,22,33]\n",
    "\n",
    "# 使用線程\n",
    "t1 = Thread(target=work1, args=(g_nums,)) \n",
    "t1.start()\n",
    "t2 = Thread(target=work2, args=(g_nums,))\n",
    "t2.start()"
   ]
  },
  {
   "cell_type": "markdown",
   "metadata": {},
   "source": [
    "## 多線程開發可能遇到的問題\n",
    "\n",
    "＄ 假設兩個線程t1和t2都要對全局變量g_num(默認是0)進行加1運算，t1和t2都各對g_num加100次，g_num的最終的結果應該為200。\n",
    "\n",
    "＄ 但是由於是多線程同時操作，有可能出現下面情況：\n",
    "- 在g_num=0時，t1取得g_num=0。此時系統把t1調度為”sleeping”狀態，把t2轉換為”running”狀態，t2也獲得g_num=0，然後t2對得到的值進行加1並賦給g_num，使得g_num=1，然後系統又把t2調度為”sleeping”，把t1轉為”running”。線程t1又把它之前得到的0加1後賦值給g_num。，這樣導致雖然t1和t2都對g_num加1，但結果仍然是g_num=1。"
   ]
  },
  {
   "cell_type": "code",
   "execution_count": 29,
   "metadata": {},
   "outputs": [
    {
     "name": "stdout",
     "output_type": "stream",
     "text": [
      "---线程创建之前g_num is 0---\n",
      "2个线程对同一个全局变量操作之后的最终结果是:292080\n"
     ]
    },
    {
     "name": "stdout",
     "output_type": "stream",
     "text": [
      "----in work2, g_num is 19315928---\n",
      "----in work1, g_num is 20000000---\n"
     ]
    }
   ],
   "source": [
    "import threading\n",
    "import time\n",
    "\n",
    "# TODO: 分別拿100跟10000000去做測試，\n",
    "count = 10000000\n",
    "g_num = 0\n",
    "\n",
    "def work1(num):\n",
    "    global g_num\n",
    "    for i in range(num): g_num += 1\n",
    "    print(\"----in work1, g_num is %d---\"%g_num)\n",
    "\n",
    "\n",
    "def work2(num):\n",
    "    global g_num\n",
    "    for i in range(num): g_num += 1\n",
    "    print(\"----in work2, g_num is %d---\"%g_num)\n",
    "\n",
    "\n",
    "print(\"---线程创建之前g_num is %d---\"%g_num)\n",
    "\n",
    "t1 = threading.Thread(target=work1, args=(count,))\n",
    "t1.start()\n",
    "t2 = threading.Thread(target=work2, args=(count,))\n",
    "t2.start()\n",
    "\n",
    "# while len(threading.enumerate()) != 1:\n",
    "#     time.sleep(1)\n",
    "\n",
    "print(\"2个线程对同一个全局变量操作之后的最终结果是:%s\" % g_num)"
   ]
  },
  {
   "cell_type": "markdown",
   "metadata": {},
   "source": [
    "\n",
    "＄ 會發現說，如果多個線程同時對同一個全局變量操作，會出現資源競爭問題，從而數據結果會不正確，因此提出互斥鎖。\n",
    "\n",
    "## 互斥鎖\n",
    "＄ 就是當一個線程在修改g_num時，此時上一把鎖，即不允许其他线程操作g_num。那做完事情之後，在解鎖。\n",
    "\n",
    "＄ threading模組中中定義了Lock類：\n",
    "- mutex = threading.Lock() # 創建鎖\n",
    "- mutex.acquire() # 鎖定\n",
    "- mutex.release() # 釋放"
   ]
  },
  {
   "cell_type": "code",
   "execution_count": 31,
   "metadata": {},
   "outputs": [
    {
     "name": "stdout",
     "output_type": "stream",
     "text": [
      "2个线程对同一个全局变量操作之后的最终结果是:112410\n"
     ]
    },
    {
     "name": "stdout",
     "output_type": "stream",
     "text": [
      "---test2---g_num=1806153\n",
      "---test1---g_num=2000000\n"
     ]
    }
   ],
   "source": [
    "# DOC: 使用Lock在線程當中：\n",
    "import threading\n",
    "import time\n",
    "\n",
    "# 创建一个互斥锁(默认是未上锁的状态)\n",
    "mutex = threading.Lock()\n",
    "g_num = 0\n",
    "count = 99999999\n",
    "\n",
    "def test1(num):\n",
    "    global g_num\n",
    "    for i in range(num):\n",
    "        mutex.acquire()  # 上锁\n",
    "        g_num += 1\n",
    "        mutex.release()  # 解锁\n",
    "\n",
    "    print(\"---test1---g_num=%d\"%g_num)\n",
    "\n",
    "def test2(num):\n",
    "    global g_num\n",
    "    for i in range(num):\n",
    "        mutex.acquire()  # 上锁\n",
    "        g_num += 1\n",
    "        mutex.release()  # 解锁\n",
    "\n",
    "    print(\"---test2---g_num=%d\"%g_num)\n",
    "\n",
    "\n",
    "\n",
    "p1 = threading.Thread(target=test1, args=(count,))\n",
    "p1.start()\n",
    "\n",
    "p2 = threading.Thread(target=test2, args=(count,))\n",
    "p2.start()\n",
    "\n",
    "# 等待计算完成\n",
    "# while len(threading.enumerate()) != 1:\n",
    "#     time.sleep(1)\n",
    "\n",
    "print(\"2个线程对同一个全局变量操作之后的最终结果是:%s\" % g_num)\n"
   ]
  },
  {
   "cell_type": "markdown",
   "metadata": {},
   "source": [
    "## 死鎖\n",
    "\n",
    "＄ 現實社會中，男女雙方都在等待對方先道歉，如果雙方都這樣固執的等待對方先開口，弄不好，就掰了。\n",
    "\n",
    "＄ 什麽是死鎖：\n",
    "\n",
    "死鎖是指在多個進程或線程中，每個進程或線程都在等待另一個進程或線程執行某個動作，而導致所有進程或線程都無法繼續執行下去的情況。簡而言之，死鎖是互相等待對方釋放資源的一種狀態。\n",
    "\n",
    "＄ 死鎖的產生原因：\n",
    "\n",
    "死鎖通常發生在多個進程或線程之間共享資源的情況下，且每個進程或線程需要使用其他進程或線程占用的資源才能繼續執行。這種情況下，如果每個進程或線程都擁有某個資源並且等待其他資源被釋放，就可能導致死鎖。"
   ]
  },
  {
   "cell_type": "code",
   "execution_count": null,
   "metadata": {},
   "outputs": [],
   "source": [
    "# 會發生死鎖的例子\n",
    "\n",
    "import threading\n",
    "import time\n",
    "\n",
    "class MyThread1(threading.Thread):\n",
    "    def run(self):\n",
    "        # 对mutexA上锁\n",
    "        mutexA.acquire()\n",
    "\n",
    "        # mutexA上锁后，延时1秒，等待另外那个线程 把mutexB上锁\n",
    "        print(self.name+'----do1---up----')\n",
    "        time.sleep(1)\n",
    "\n",
    "        # 此时会堵塞，因为这个mutexB已经被另外的线程抢先上锁了\n",
    "        mutexB.acquire()\n",
    "        print(self.name+'----do1---down----')\n",
    "        mutexB.release()\n",
    "\n",
    "        # 对mutexA解锁\n",
    "        mutexA.release()\n",
    "\n",
    "class MyThread2(threading.Thread):\n",
    "    def run(self):\n",
    "        # 对mutexB上锁\n",
    "        mutexB.acquire()\n",
    "\n",
    "        # mutexB上锁后，延时1秒，等待另外那个线程 把mutexA上锁\n",
    "        print(self.name+'----do2---up----')\n",
    "        time.sleep(1)\n",
    "\n",
    "        # 此时会堵塞，因为这个mutexA已经被另外的线程抢先上锁了\n",
    "        mutexA.acquire()\n",
    "        print(self.name+'----do2---down----')\n",
    "        mutexA.release()\n",
    "\n",
    "        # 对mutexB解锁\n",
    "        mutexB.release()\n",
    "\n",
    "mutexA = threading.Lock()\n",
    "mutexB = threading.Lock()\n",
    "\n",
    "if __name__ == '__main__':\n",
    "    t1 = MyThread1()\n",
    "    t2 = MyThread2()\n",
    "    t1.start()\n",
    "    t2.start()"
   ]
  },
  {
   "cell_type": "markdown",
   "metadata": {},
   "source": [
    "## Event() 事件處理\n",
    "\n",
    "＄threading 除了基本的多執行續功能，也提供 Event() 事件處理的方法，透過「事件」的方式，就能讓不同的執行續之間彼此溝通，也能輕鬆做到「等待 A 執行緒完成某件事後，B 執行緒再繼續」的功能，事件的處理包含下方幾種方法：\n",
    "- threading.Event()\t註冊一個事件。\n",
    "- set()\t觸發事件。\n",
    "- wait()\t等待事件被觸發。\n",
    "- clear()\t清除事件觸發，事件回到未被觸發的狀態。"
   ]
  },
  {
   "cell_type": "code",
   "execution_count": 2,
   "metadata": {},
   "outputs": [
    {
     "name": "stdout",
     "output_type": "stream",
     "text": [
      "B: 10\n"
     ]
    },
    {
     "name": "stdout",
     "output_type": "stream",
     "text": [
      "B: 20\n",
      "B:A: 1\n",
      " 30\n",
      "B: 40\n",
      "A: 2\n",
      "B:A: 3\n",
      " 50\n",
      "A: 4\n",
      "A: 5\n"
     ]
    }
   ],
   "source": [
    "import threading\n",
    "import time\n",
    "\n",
    "def aa():\n",
    "    event.wait()            # 等待事件被觸發\n",
    "    event.clear()           # 觸發後將事件回歸原本狀態\n",
    "    for i in range(1,6):\n",
    "        print('A:',i)\n",
    "        time.sleep(0.5)\n",
    "\n",
    "def bb():\n",
    "    for i in range(10,60,10):\n",
    "        if i == 30:\n",
    "            event.set()     # 觸發事件\n",
    "        print('B:',i)\n",
    "        time.sleep(0.5)\n",
    "\n",
    "event = threading.Event()   # 註冊事件\n",
    "a = threading.Thread(target=aa)\n",
    "b = threading.Thread(target=bb)\n",
    "\n",
    "a.start()\n",
    "b.start()\n"
   ]
  },
  {
   "cell_type": "markdown",
   "metadata": {},
   "source": [
    "# 進程\n",
    "\n",
    "![upgit_20240428_1714293083.png](https://raw.githubusercontent.com/kcwc1029/obsidian-upgit-image/main/2024/04/upgit_20240428_1714293083.png)\n",
    "\n",
    "工作中，任務數往往大於cpu的核數，即一定有一些任務正在執行，而另外一些任務在等待cpu進行執行，因此導致了有了不同的狀態\n",
    "\n",
    "![upgit_20240428_1714295162.png](https://raw.githubusercontent.com/kcwc1029/obsidian-upgit-image/main/2024/04/upgit_20240428_1714295162.png)\n",
    "\n",
    "\n",
    "＄ 比較：\n",
    "- 進程，能夠完成多任務，比如 在一台電腦上能夠同時運行多個line\n",
    "- 線程，能夠完成多任務，比如 一個line中的多個聊天窗口"
   ]
  },
  {
   "cell_type": "code",
   "execution_count": 33,
   "metadata": {},
   "outputs": [
    {
     "name": "stdout",
     "output_type": "stream",
     "text": [
      "父進程pid: 51724\n"
     ]
    },
    {
     "name": "stderr",
     "output_type": "stream",
     "text": [
      "Traceback (most recent call last):\n",
      "  File \"<string>\", line 1, in <module>\n",
      "  File \"/Users/chenweicheng/anaconda3/lib/python3.11/multiprocessing/spawn.py\", line 122, in spawn_main\n",
      "    exitcode = _main(fd, parent_sentinel)\n",
      "               ^^^^^^^^^^^^^^^^^^^^^^^^^^\n",
      "  File \"/Users/chenweicheng/anaconda3/lib/python3.11/multiprocessing/spawn.py\", line 132, in _main\n",
      "    self = reduction.pickle.load(from_parent)\n",
      "           ^^^^^^^^^^^^^^^^^^^^^^^^^^^^^^^^^^\n",
      "AttributeError: Can't get attribute 'run_proc' on <module '__main__' (built-in)>\n"
     ]
    }
   ],
   "source": [
    "# 範例：使用進程\n",
    "from multiprocessing import Process\n",
    "import os\n",
    "import time\n",
    "\n",
    "def run_proc():\n",
    "    \"\"\"子進程要執行的代碼\"\"\"\n",
    "    print('子進程運行中，pid=%d...' % os.getpid())  # os.getpid獲取當前進程的進程號\n",
    "    print('子進程將要結束...')\n",
    "\n",
    "if __name__ == '__main__':\n",
    "    print('父進程pid: %d' % os.getpid())  # os.getpid獲取當前進程的進程號\n",
    "    p = Process(target=run_proc)\n",
    "    p.start()"
   ]
  },
  {
   "cell_type": "markdown",
   "metadata": {},
   "source": [
    "## Process語法結構\n",
    "\n",
    "target：如果傳遞了函數的引用，可以任務這個子進程就執行這里的代碼\n",
    "args：給target指定的函數傳遞的參數，以元組的方式傳遞\n",
    "kwargs：給target指定的函數傳遞命名參數\n",
    "\n",
    "\n",
    "＄ Process創建的實例對象的常用方法：\n",
    "- start()：啟動子進程實例（創建子進程）\n",
    "- is_alive()：判斷進程子進程是否還在活著\n",
    "- join([timeout])：是否等待子進程執行結束，或等待多少秒\n",
    "- terminate()：不管任務是否完成，立即終止子進程\n",
    "\n",
    "＄ Process創建的實例對象的常用屬性：\n",
    "- name：當前進程的別名，默認為Process-N，N為從1開始遞增的整數\n",
    "- pid：當前進程的pid（進程號）"
   ]
  },
  {
   "cell_type": "markdown",
   "metadata": {},
   "source": [
    "## 給子進程指定的函數傳遞參數\n"
   ]
  },
  {
   "cell_type": "code",
   "execution_count": null,
   "metadata": {},
   "outputs": [],
   "source": [
    "from multiprocessing import Process\n",
    "import os\n",
    "from time import sleep\n",
    "\n",
    "\n",
    "def run_proc(name, age, **kwargs):\n",
    "    for i in range(10):\n",
    "        print('子進程運行中，name= %s,age=%d ,pid=%d...' % (name, age, os.getpid()))\n",
    "        print(kwargs)\n",
    "        sleep(0.2)\n",
    "\n",
    "if __name__=='__main__':\n",
    "    p = Process(target=run_proc, args=('test',18), kwargs={\"m\":20})\n",
    "    p.start()\n",
    "    sleep(1)  # 1秒中之後，立即結束子進程\n",
    "    p.terminate()\n",
    "    p.join()"
   ]
  },
  {
   "cell_type": "markdown",
   "metadata": {},
   "source": [
    "## 給子進程指定的函數傳遞參數\n",
    "不同竟進程間同時使用全局變數"
   ]
  },
  {
   "cell_type": "code",
   "execution_count": null,
   "metadata": {},
   "outputs": [],
   "source": [
    "from multiprocessing import Process\n",
    "import os\n",
    "import time\n",
    "\n",
    "nums = [11, 22]\n",
    "\n",
    "def work1():\n",
    "    \"\"\"子进程要执行的代码\"\"\"\n",
    "    print(\"in process1 pid=%d ,nums=%s\" % (os.getpid(), nums))\n",
    "    for i in range(3):\n",
    "        nums.append(i)\n",
    "        time.sleep(1)\n",
    "        print(\"in process1 pid=%d ,nums=%s\" % (os.getpid(), nums))\n",
    "\n",
    "def work2():\n",
    "    \"\"\"子进程要执行的代码\"\"\"\n",
    "    print(\"in process2 pid=%d ,nums=%s\" % (os.getpid(), nums))\n",
    "\n",
    "if __name__ == '__main__':\n",
    "    p1 = Process(target=work1)\n",
    "    p1.start()\n",
    "    p1.join()\n",
    "    p2 = Process(target=work2)\n",
    "    p2.start()\n",
    "\"\"\"\n",
    "work1 和 work2 这两个进程之间使用了全局变量 nums，\n",
    "但是它们各自的内存空间中有独立的 nums 变量，互不影响。因此，不会出现线程中可能遇到的锁的问题。\n",
    "\"\"\""
   ]
  },
  {
   "cell_type": "markdown",
   "metadata": {},
   "source": [
    "## 進程間通信-Queue\n",
    "＄ Process之间有时需要通信，操作系统提供了很多机制来实现进程间的通信。\n",
    "\n",
    "＄ 可以使用multiprocessing模块的Queue实现多进程之间的数据传递，Queue本身是一个消息列队程序，以先進先出方式（FIFO）"
   ]
  },
  {
   "cell_type": "code",
   "execution_count": null,
   "metadata": {},
   "outputs": [],
   "source": [
    "# 無法在macOS運作\n",
    "from multiprocessing import Queue\n",
    "\n",
    "q = Queue(3)  # 初始化一个Queue对象，最多可接收三条put消息\n",
    "q.put(\"消息1\")\n",
    "q.put(\"消息2\")\n",
    "print(q.full())  # False\n",
    "q.put(\"消息3\")\n",
    "print(q.full())  # True\n",
    "\n",
    "# 因为消息列队已满下面的try都会捕获异常\n",
    "try:\n",
    "    q.put(\"消息4\", True, 2)\n",
    "except:\n",
    "    print(f\"消息列队已满，现有消息数量:{q.qsize()}\")\n",
    "\n",
    "try:\n",
    "    q.put_nowait(\"消息4\")\n",
    "except:\n",
    "    print(f\"消息列队已满，现有消息数量:{q.qsize()}\")\n",
    "\n",
    "# 推荐的方式，先判断消息列队是否已满，再写入\n",
    "if not q.full():\n",
    "    q.put_nowait(\"消息4\")\n",
    "\n",
    "# 读取消息时，先判断消息列队是否为空，再读取\n",
    "if not q.empty():\n",
    "    for i in range(q.qsize()):\n",
    "        print(q.get_nowait())"
   ]
  },
  {
   "cell_type": "markdown",
   "metadata": {},
   "source": [
    "## 進程池Pool\n",
    "\n",
    "＄ 當需要創建的子進程數量不多時，可以直接利用multiprocessing中的Process動態成生多個進程，但如果是上百甚至上千個目標，手動的去創建進程的工作量巨大，此時就可以用到multiprocessing模塊提供的Pool方法。\n",
    "\n",
    "＄ 初始化Pool時，可以指定一個最大進程數，當有新的請求提交到Pool中時，如果池還沒有滿，那麽就會創建一個新的進程用來執行該請求；但如果池中的進程數已經達到指定的最大值，那麽該請求就會等待，直到池中有進程結束，才會用之前的進程來執行新的任務，"
   ]
  },
  {
   "cell_type": "code",
   "execution_count": null,
   "metadata": {},
   "outputs": [],
   "source": [
    "# 無法在macOS運作\n",
    "from multiprocessing import Pool\n",
    "import os, time, random\n",
    "\n",
    "def worker(msg):\n",
    "    t_start = time.time()\n",
    "    print(\"%s開始執行,進程號為%d\" % (msg,os.getpid()))\n",
    "    # random.random()隨機生成0~1之間的浮點數\n",
    "    time.sleep(random.random()*2) \n",
    "    t_stop = time.time()\n",
    "    print(msg,\"執行完畢，耗時%0.2f\" % (t_stop-t_start))\n",
    "\n",
    "po = Pool(3)  # 定義一個進程池，最大進程數3\n",
    "for i in range(0,10):\n",
    "    # Pool().apply_async(要調用的目標,(傳遞給目標的參數元祖,))\n",
    "    # 每次循環將會用空閒出來的子進程去調用目標\n",
    "    po.apply_async(worker,(i,))\n",
    "\n",
    "print(\"----start----\")\n",
    "po.close()  # 關閉進程池，關閉後po不再接收新的請求\n",
    "po.join()  # 等待po中所有子進程執行完成，必須放在close語句之後\n",
    "print(\"-----end-----\")"
   ]
  },
  {
   "cell_type": "markdown",
   "metadata": {},
   "source": [
    "## 進程池中的Queue\n",
    "\n",
    "＄ 如果要使用Pool創建進程，就需要使用multiprocessing.Manager()中的Queue()，而不是multiprocessing.Queue()，否則會得到一條如下的錯誤信息：\n",
    "\n",
    "`RuntimeError: Queue objects should only be shared between processes through inheritance.`\n",
    "\n",
    "＄ 下面的實例演示了進程池中的進程如何通信："
   ]
  },
  {
   "cell_type": "code",
   "execution_count": null,
   "metadata": {},
   "outputs": [],
   "source": [
    "# 修改import中的Queue为Manager\n",
    "from multiprocessing import Manager,Pool\n",
    "import os,time,random\n",
    "\n",
    "def reader(q):\n",
    "    print(\"reader启动(%s),父进程为(%s)\" % (os.getpid(), os.getppid()))\n",
    "    for i in range(q.qsize()):\n",
    "        print(\"reader从Queue获取到消息：%s\" % q.get(True))\n",
    "\n",
    "def writer(q):\n",
    "    print(\"writer启动(%s),父进程为(%s)\" % (os.getpid(), os.getppid()))\n",
    "    for i in \"itcast\":\n",
    "        q.put(i)\n",
    "\n",
    "if __name__==\"__main__\":\n",
    "    print(\"(%s) start\" % os.getpid())\n",
    "    q = Manager().Queue()  # 使用Manager中的Queue\n",
    "    po = Pool()\n",
    "    po.apply_async(writer, (q,))\n",
    "\n",
    "    time.sleep(1)  # 先让上面的任务向Queue存入数据，然后再让下面的任务开始从中取数据\n",
    "\n",
    "    po.apply_async(reader, (q,))\n",
    "    po.close()\n",
    "    po.join()\n",
    "    print(\"(%s) End\" % os.getpid())"
   ]
  },
  {
   "cell_type": "markdown",
   "metadata": {},
   "source": [
    "# 迭代器\n",
    "\n",
    "可以使用 isinstance() 判断一个对象是否是 Iterable 对象\n",
    "\n",
    "＄ 可叠代對象的本質是通過提供叠代器來實現叠代訪問數據。叠代器就像是一個中間人，幫助我們遍歷可叠代對象中的數據。通過調用可叠代對象的 `__iter__` 方法，我們可以獲取到一個叠代器，然後使用這個叠代器來逐個獲取對象中的數據。簡而言之，具有 `__iter__` 方法的對象就是可叠代對象。\n",
    "\n",
    "＄ iter()函數與next()函數：\n",
    "\n",
    "list、tuple等都是可叠代對象，我們可以通過iter()函數獲取這些可叠代對象的叠代器。然後我們可以對獲取到的叠代器不斷使用next()函數來獲取下一條數據。iter()函數實際上就是調用了可叠代對象的__iter__方法。\n"
   ]
  },
  {
   "cell_type": "code",
   "execution_count": 34,
   "metadata": {},
   "outputs": [
    {
     "name": "stdout",
     "output_type": "stream",
     "text": [
      "<list_iterator object at 0x107a3bdc0>\n",
      "11\n",
      "22\n",
      "33\n",
      "44\n"
     ]
    }
   ],
   "source": [
    "li = [11, 22, 33, 44, 55]\n",
    "li_iter = iter(li)\n",
    "print(li_iter) # <list_iterator object at 0x1036f75e0>\n",
    "print(next(li_iter))\n",
    "print(next(li_iter))\n",
    "print(next(li_iter))\n",
    "print(next(li_iter))"
   ]
  }
 ],
 "metadata": {
  "kernelspec": {
   "display_name": "base",
   "language": "python",
   "name": "python3"
  },
  "language_info": {
   "codemirror_mode": {
    "name": "ipython",
    "version": 3
   },
   "file_extension": ".py",
   "mimetype": "text/x-python",
   "name": "python",
   "nbconvert_exporter": "python",
   "pygments_lexer": "ipython3",
   "version": "3.11.5"
  },
  "orig_nbformat": 4
 },
 "nbformat": 4,
 "nbformat_minor": 2
}
