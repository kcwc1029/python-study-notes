{
 "cells": [
  {
   "cell_type": "markdown",
   "metadata": {},
   "source": [
    "## 基本架構"
   ]
  },
  {
   "cell_type": "code",
   "execution_count": 36,
   "metadata": {},
   "outputs": [
    {
     "name": "stdout",
     "output_type": "stream",
     "text": [
      "hello, how are you.\n"
     ]
    }
   ],
   "source": [
    "def sayHi(input):\n",
    "  \"\"\"這邊寫關於函數的說明\n",
    "  Args:\n",
    "    input (int): 參數解釋\n",
    "  Return:\n",
    "    ans(int):返回類型說明\n",
    "  \"\"\"\n",
    "  print(\"hello, how are you.\")\n",
    "\n",
    "# funtion execution (invokation)\n",
    "sayHi(input)"
   ]
  },
  {
   "cell_type": "markdown",
   "metadata": {},
   "source": [
    "## 沒有參數的函數"
   ]
  },
  {
   "cell_type": "code",
   "execution_count": 1,
   "metadata": {},
   "outputs": [
    {
     "name": "stdout",
     "output_type": "stream",
     "text": [
      "Python歡迎你\n",
      "謝謝\n"
     ]
    }
   ],
   "source": [
    "def greeting( ):\n",
    "    \"\"\"我的第一個Python函數設計\"\"\"\n",
    "    print(\"Python歡迎你\")\n",
    "    print(\"謝謝\")\n",
    "\n",
    "# 以下的程式碼也可稱主程式\n",
    "greeting( )"
   ]
  },
  {
   "cell_type": "markdown",
   "metadata": {},
   "source": [
    "## 包含參數（parameter）的函數\n",
    "\n",
    "其中給引數的方式有兩種：\n",
    "\n",
    "-   positiotnal arguments: add(4, 5)\n",
    "-   keyword arguments: add(x=4, y=5)\n",
    "-   default parameter:"
   ]
  },
  {
   "cell_type": "code",
   "execution_count": 37,
   "metadata": {},
   "outputs": [
    {
     "data": {
      "text/plain": [
       "9"
      ]
     },
     "execution_count": 37,
     "metadata": {},
     "output_type": "execute_result"
    }
   ],
   "source": [
    "def add(x, y): # parameter\n",
    "# def add(x, y=5): # default parameter\n",
    "  return x+y\n",
    "\n",
    "add(4, 5) # arguments"
   ]
  },
  {
   "cell_type": "markdown",
   "metadata": {},
   "source": [
    "## 回傳None"
   ]
  },
  {
   "cell_type": "code",
   "execution_count": 2,
   "metadata": {},
   "outputs": [
    {
     "name": "stdout",
     "output_type": "stream",
     "text": [
      "Hi,  Nelson  Good Morning!\n",
      "greeting( )傳回值 =  None\n",
      "None  的 type  =  <class 'NoneType'>\n"
     ]
    }
   ],
   "source": [
    "def greeting(name):\n",
    "    \"\"\"Python函數需傳遞名字name\"\"\"\n",
    "    print(\"Hi, \", name, \" Good Morning!\")\n",
    "    \n",
    "ret_value = greeting('Nelson')\n",
    "print(\"greeting( )傳回值 = \", ret_value)\n",
    "print(ret_value, \" 的 type  = \", type(ret_value))\n"
   ]
  },
  {
   "cell_type": "code",
   "execution_count": 3,
   "metadata": {},
   "outputs": [
    {
     "name": "stdout",
     "output_type": "stream",
     "text": [
      "Hi,  Nelson  Good Morning!\n",
      "greeting( )傳回值 =  None\n",
      "None  的 type  =  <class 'NoneType'>\n"
     ]
    }
   ],
   "source": [
    "def greeting(name):\n",
    "    \"\"\"Python函數需傳遞名字name\"\"\"\n",
    "    print(\"Hi, \", name, \" Good Morning!\")\n",
    "    return    \n",
    "ret_value = greeting('Nelson')\n",
    "print(\"greeting( )傳回值 = \", ret_value)\n",
    "print(ret_value, \" 的 type  = \", type(ret_value))\n"
   ]
  },
  {
   "cell_type": "markdown",
   "metadata": {},
   "source": []
  },
  {
   "cell_type": "markdown",
   "metadata": {},
   "source": [
    "## first-class objects（補充）\n",
    "Python 中的函數是 first-class objects，這意味著你可以："
   ]
  },
  {
   "cell_type": "code",
   "execution_count": 38,
   "metadata": {},
   "outputs": [
    {
     "name": "stdout",
     "output_type": "stream",
     "text": [
      "Hello, Alice!\n"
     ]
    }
   ],
   "source": [
    "# 將函數賦值給變數： 你可以將一個函數賦值給變數，使變數成為該函數的引用。\n",
    "def greet(name):\n",
    "    return f\"Hello, {name}!\"\n",
    "\n",
    "my_function = greet\n",
    "print(my_function(\"Alice\"))  # 輸出：Hello, Alice!\n"
   ]
  },
  {
   "cell_type": "code",
   "execution_count": 39,
   "metadata": {},
   "outputs": [
    {
     "name": "stdout",
     "output_type": "stream",
     "text": [
      "6\n"
     ]
    }
   ],
   "source": [
    "# 將函數作為參數傳遞： 你可以將一個函數作為另一個函數的參數傳遞。\n",
    "def apply(func, value):\n",
    "    return func(value)\n",
    "\n",
    "result = apply(len, \"Python\")\n",
    "print(result)  # 輸出：6"
   ]
  },
  {
   "cell_type": "code",
   "execution_count": 40,
   "metadata": {},
   "outputs": [
    {
     "name": "stdout",
     "output_type": "stream",
     "text": [
      "10\n"
     ]
    }
   ],
   "source": [
    "# 將函數返回為值： 你可以從一個函數中返回另一個函數。\n",
    "def multiplier(factor):\n",
    "    def multiply(x):\n",
    "        return x * factor\n",
    "    return multiply\n",
    "\n",
    "double = multiplier(2)\n",
    "print(double(5))  # 輸出：10"
   ]
  },
  {
   "cell_type": "code",
   "execution_count": 41,
   "metadata": {},
   "outputs": [
    {
     "name": "stdout",
     "output_type": "stream",
     "text": [
      "5\n"
     ]
    }
   ],
   "source": [
    "# 將函數儲存在資料結構中： 你可以將函數存儲在列表、字典等資料結構中。\n",
    "functions = [len, str.upper, max]\n",
    "result = functions[0](\"hello\")\n",
    "print(result)  # 輸出：5"
   ]
  },
  {
   "cell_type": "markdown",
   "metadata": {},
   "source": [
    "## copy by value/reference\n",
    "\n",
    "copy by value/reference在C中的指示：\n",
    "- https://www.youtube.com/watch?v=HEiPxjVR8CU\n",
    "\n",
    "Python 在函數中變量賦值的機制是混合的。\n",
    "\n",
    "-   對於不可變類型(如整數、浮點數、字符串等)使用 pass by value（函數中修改參數的值不會影響到函數外部的變量。）\n",
    "-   對於可變類型(如列表、字典等)使用 pass by reference（函數中修改參數的元素會影響到函數外部的變量。）"
   ]
  },
  {
   "cell_type": "code",
   "execution_count": 43,
   "metadata": {},
   "outputs": [
    {
     "data": {
      "text/plain": [
       "[100, 2, 3, 4]"
      ]
     },
     "execution_count": 43,
     "metadata": {},
     "output_type": "execute_result"
    }
   ],
   "source": [
    "# NOTE: pass by reference\n",
    "def change(a):\n",
    "  a[0] = 100\n",
    "\n",
    "a = [1,2,3,4]\n",
    "change(a)\n",
    "a"
   ]
  },
  {
   "cell_type": "code",
   "execution_count": 44,
   "metadata": {},
   "outputs": [
    {
     "data": {
      "text/plain": [
       "2"
      ]
     },
     "execution_count": 44,
     "metadata": {},
     "output_type": "execute_result"
    }
   ],
   "source": [
    "# NOTE: pass by value\n",
    "def change(a):\n",
    "  a = 100\n",
    "\n",
    "a = 2\n",
    "change(a)\n",
    "a"
   ]
  },
  {
   "cell_type": "markdown",
   "metadata": {},
   "source": [
    "## 給定任意參數（arbitrary number of arguments）\n",
    "\n",
    "-   \\*args: 包成 tuple\n",
    "-   \\*\\*kwargs: 包成字典"
   ]
  },
  {
   "cell_type": "code",
   "execution_count": 4,
   "metadata": {},
   "outputs": [
    {
     "data": {
      "text/plain": [
       "3"
      ]
     },
     "execution_count": 4,
     "metadata": {},
     "output_type": "execute_result"
    }
   ],
   "source": [
    "# 從max()去想如何做出任意參數的函數\n",
    "ans = max(1,2,3)\n",
    "ans"
   ]
  },
  {
   "cell_type": "code",
   "execution_count": 6,
   "metadata": {},
   "outputs": [
    {
     "name": "stdout",
     "output_type": "stream",
     "text": [
      "3\n"
     ]
    }
   ],
   "source": [
    "def aa(*args):\n",
    "    return max(args) # 在tuple裡面找max\n",
    "\n",
    "\n",
    "print(aa(1,2,3))"
   ]
  },
  {
   "cell_type": "code",
   "execution_count": 45,
   "metadata": {},
   "outputs": [
    {
     "name": "stdout",
     "output_type": "stream",
     "text": [
      "weiwei is now 25 years old.\n",
      "i would like to eat 23 eggs\n"
     ]
    }
   ],
   "source": [
    "# 示範*args:\n",
    "def sum(*args):\n",
    "  ans = 0\n",
    "  for i in range(len(args)): ans += args[i]\n",
    "  return ans\n",
    "\n",
    "sum(1,2,3,4,5)\n",
    "\n",
    "# 示範*args:\n",
    "def f(**kwargs):\n",
    "  print(f\"{kwargs['name']} is now {kwargs['age']} years old.\")\n",
    "\n",
    "f(name=\"weiwei\", age=25, address=\"taitung\")\n",
    "\n",
    "# 合併使用\n",
    "def f1(*args, **kwargs):\n",
    "  print(\"i would like to eat {} {}\".format(args[2], kwargs['food']))\n",
    "\n",
    "f1(14, 17, 23, food=\"eggs\")"
   ]
  },
  {
   "cell_type": "markdown",
   "metadata": {},
   "source": [
    "## 匿名函數（lambda）\n",
    "\n",
    "- 匿名函式不需要定義名稱，一般函式需定義名稱。\n",
    "- 匿名函式只能有一行運算式，一般函式可以有多行運算式。  \n",
    "- 匿名函式執行完成後自動回傳結果，一般函式加上 return 關鍵字才能回傳結果。"
   ]
  },
  {
   "cell_type": "code",
   "execution_count": 3,
   "metadata": {},
   "outputs": [
    {
     "name": "stdout",
     "output_type": "stream",
     "text": [
      "45\n",
      "-15\n",
      "[0, 1, 2, 3, 4]\n",
      "[0, 1, 2, 3, 4]\n"
     ]
    }
   ],
   "source": [
    "# eg\n",
    "ans = (lambda x: x**2)(5)\n",
    "\n",
    "# eg\n",
    "ans = (lambda x, y: (x+y, x-y))(15, 30)\n",
    "print(ans[0])\n",
    "print(ans[1])\n",
    "\n",
    "# eg\n",
    "def x(n):\n",
    "    a = list(range(n))\n",
    "    return a\n",
    "y = lambda n: [i for i in range(n)]   # 計算後回傳串列結果\n",
    "print(x(5))    # [0, 1, 2, 3, 4]\n",
    "print(y(5))    # [0, 1, 2, 3, 4]\n",
    "\n",
    "\n",
    "# 搭配 if 判斷式\n",
    "def y(n):\n",
    "    if n<10: return True\n",
    "    else:return False\n",
    "    \n",
    "x = lambda n: True if n<10 else False   # 判斷是否小於 10，回傳 True 或 False\n",
    "print(x(5))   # True\n",
    "print(y(5))   # True"
   ]
  },
  {
   "cell_type": "code",
   "execution_count": 4,
   "metadata": {},
   "outputs": [
    {
     "name": "stdout",
     "output_type": "stream",
     "text": [
      "[1, 4, 9, 16, 25, 36, 49, 64, 81]\n"
     ]
    }
   ],
   "source": [
    "# 搭配 map 方法\n",
    "a = [1,2,3,4,5,6,7,8,9]\n",
    "b = map(lambda x: x*x, a)\n",
    "print(list(b))"
   ]
  },
  {
   "cell_type": "code",
   "execution_count": 6,
   "metadata": {},
   "outputs": [
    {
     "name": "stdout",
     "output_type": "stream",
     "text": [
      "[6, 7, 8, 9]\n"
     ]
    }
   ],
   "source": [
    "# 搭配 filter 方法\n",
    "a = [1,2,3,4,5,6,7,8,9]\n",
    "b = filter(lambda x: x>5, a)\n",
    "print(list(b))"
   ]
  },
  {
   "cell_type": "code",
   "execution_count": 7,
   "metadata": {},
   "outputs": [
    {
     "name": "stdout",
     "output_type": "stream",
     "text": [
      "[[5, 1], [1, 2], [9, 2], [4, 3], [3, 7]]\n"
     ]
    }
   ],
   "source": [
    "# 搭配 sorted 方法 \n",
    "a = [[1,2],[4,3],[5,1],[9,2],[3,7]]\n",
    "b = sorted(a, key = lambda x: x[1])\n",
    "print(list(b)) "
   ]
  },
  {
   "cell_type": "markdown",
   "metadata": {},
   "source": [
    "## scope 範圍（python 找變數的方式）\n",
    "\n",
    "＄ LEGB rules:\n",
    "\n",
    "-   Local (L): 首先在當前函數/方法中尋找變量\n",
    "-   Enclosing (E): 如果在當前函數/方法中沒有找到,就往外一層的封閉函數中尋找\n",
    "-   Global (G): 如果在當前函數/方法和其封閉函數中都沒有找到,就去全局命名空間中尋找\n",
    "-   Built-in (B): 如果以上三個範圍都沒有找到,就去內置命名空間中尋找"
   ]
  },
  {
   "cell_type": "code",
   "execution_count": null,
   "metadata": {},
   "outputs": [
    {
     "name": "stdout",
     "output_type": "stream",
     "text": [
      "hello, my name is grace\n"
     ]
    }
   ],
   "source": [
    "# eg\n",
    "def greet():\n",
    "  name = \"grace\"\n",
    "  def hello():\n",
    "    print(f\"hello, my name is {name}\")\n",
    "  hello()\n",
    "\n",
    "\n",
    "name = \"weiwei\"\n",
    "greet()"
   ]
  },
  {
   "cell_type": "code",
   "execution_count": null,
   "metadata": {},
   "outputs": [
    {
     "name": "stdout",
     "output_type": "stream",
     "text": [
      "hello, my name is weiwei\n"
     ]
    }
   ],
   "source": [
    "# eg\n",
    "# 那如果是這樣寫，name是誰？\n",
    "def greet():\n",
    "  name = \"grace\"\n",
    "  hello()\n",
    "\n",
    "def hello():\n",
    "  print(f\"hello, my name is {name}\")\n",
    "\n",
    "name = \"weiwei\"\n",
    "greet()"
   ]
  },
  {
   "cell_type": "markdown",
   "metadata": {},
   "source": [
    "＄ 以下示範針對LEGB rules的bug\n",
    "\n",
    "這一段程式會報錯“ local variable 'a' referenced before assignment”\n",
    "因為在f()裡面並沒有a這個東西（你會說，依照python LEGB規則 應該可以找到呀）\n",
    "但是當python在區域變數找不到，就會直接拋出UnboundLocalError"
   ]
  },
  {
   "cell_type": "code",
   "execution_count": null,
   "metadata": {},
   "outputs": [
    {
     "name": "stdout",
     "output_type": "stream",
     "text": [
      "hello\n"
     ]
    }
   ],
   "source": [
    "# def f():\n",
    "#   print(a)\n",
    "#   a = 2\n",
    "\n",
    "# a = \"hello\"\n",
    "# f()\n",
    "\n",
    "\n",
    "\"\"\"以下為修正方式，使用global\"\"\"\n",
    "def f():\n",
    "  global a\n",
    "  print(a)\n",
    "  a = 2\n",
    "\n",
    "a = \"hello\"\n",
    "f()"
   ]
  },
  {
   "cell_type": "markdown",
   "metadata": {},
   "source": [
    "## funtion are object!!!\n",
    "\n",
    "在函數（funtion）中，python 會自動去定義區域變數。"
   ]
  },
  {
   "cell_type": "code",
   "execution_count": null,
   "metadata": {},
   "outputs": [
    {
     "data": {
      "text/plain": [
       "-1"
      ]
     },
     "execution_count": 21,
     "metadata": {},
     "output_type": "execute_result"
    }
   ],
   "source": [
    "\"\"\"指派（assign）一個函數到另一個函數\"\"\"\n",
    "\n",
    "def add(a, b):\n",
    "  return a+b\n",
    "def sub(a, b):\n",
    "  return a-b\n",
    "\n",
    "add = sub\n",
    "\n",
    "add(3, 4)"
   ]
  },
  {
   "cell_type": "markdown",
   "metadata": {},
   "source": [
    "以下為錯誤程式：\n",
    "定義了一個變量名為 str 的變量,這會覆蓋掉內建的 str() 函數。\n",
    "所以當使用 str(x) 時,Python 會認為您在引用變量 str而不是函數 str()。\n",
    "由於這個變量沒有被定義,所以報錯 NameError。"
   ]
  },
  {
   "cell_type": "code",
   "execution_count": null,
   "metadata": {},
   "outputs": [
    {
     "ename": "TypeError",
     "evalue": "'str' object is not callable",
     "output_type": "error",
     "traceback": [
      "\u001b[0;31m---------------------------------------------------------------------------\u001b[0m",
      "\u001b[0;31mTypeError\u001b[0m                                 Traceback (most recent call last)",
      "Cell \u001b[0;32mIn[22], line 3\u001b[0m\n\u001b[1;32m      1\u001b[0m \u001b[39mstr\u001b[39m \u001b[39m=\u001b[39m \u001b[39m\"\u001b[39m\u001b[39mthis is string.\u001b[39m\u001b[39m\"\u001b[39m\n\u001b[1;32m      2\u001b[0m x \u001b[39m=\u001b[39m \u001b[39m24\u001b[39m\n\u001b[0;32m----> 3\u001b[0m \u001b[39mprint\u001b[39m(\u001b[39m\"\u001b[39m\u001b[39mhello \u001b[39m\u001b[39m\"\u001b[39m \u001b[39m+\u001b[39m \u001b[39mstr\u001b[39m(x))\n",
      "\u001b[0;31mTypeError\u001b[0m: 'str' object is not callable"
     ]
    }
   ],
   "source": [
    "str = \"this is string.\"\n",
    "x = 24\n",
    "print(\"hello \" + str(x))"
   ]
  },
  {
   "cell_type": "markdown",
   "metadata": {},
   "source": [
    "## 裝飾器 decorater"
   ]
  },
  {
   "cell_type": "code",
   "execution_count": null,
   "metadata": {},
   "outputs": [
    {
     "name": "stdout",
     "output_type": "stream",
     "text": [
      "here is some code before the original funtion...\n",
      "i'm a funtion that needs decorater\n",
      "here is some code after the original funtion...\n",
      "here is some code before the original funtion...\n",
      "i'm a funtion that needs decorater\n",
      "here is some code after the original funtion...\n"
     ]
    }
   ],
   "source": [
    "# 很多時候，我們會遇到以下情況：\n",
    "\n",
    "def new_decorater(original_fun):\n",
    "  def inner_f():\n",
    "    print(\"here is some code before the original funtion...\")\n",
    "    original_fun()\n",
    "    print(\"here is some code after the original funtion...\")\n",
    "  return inner_f()\n",
    "\n",
    "def need_decorater():\n",
    "  print(\"i'm a funtion that needs decorater\")\n",
    "\n",
    "\n",
    "f = new_decorater(need_decorater)\n",
    "f\n",
    "\n",
    "\"\"\"\n",
    "他有點想試，在程式與程式中間，突然需要插入某些東西，\n",
    "但這樣的寫法，其實不易閱讀，因此才出現裝飾器的用法\n",
    "\"\"\"\n",
    "\n",
    "# 使用裝飾器\n",
    "def new_decorater(original_fun):\n",
    "  def inner_f():\n",
    "    print(\"here is some code before the original funtion...\")\n",
    "    original_fun()\n",
    "    print(\"here is some code after the original funtion...\")\n",
    "  return inner_f()\n",
    "\n",
    "@new_decorater\n",
    "def need_decorater():\n",
    "  print(\"i'm a funtion that needs decorater\")\n",
    "\n",
    "need_decorater"
   ]
  },
  {
   "cell_type": "markdown",
   "metadata": {},
   "source": [
    "## comprehension & generator\n",
    "\n",
    "參考文章：\n",
    "- https://steam.oxxostudio.tw/category/python/basic/generator.html\n",
    "\n",
    "在 Python 中，generator（生成器）和 comprehension（推導式）是兩種用於創建叠代對象的強大而靈活的工具。\n",
    "-   comprehension 幫助 python 從一個以定義的結構，去創造另一個結構，comprehension 支持 list, dict, set 這三種結構。\n",
    "-   Tuple 是不可變的數據結構,一旦創建就無法修改。而 list 和 set 是可變的,因此更適合使用 comprehension 的形式來動態地建立和修改。\n"
   ]
  },
  {
   "cell_type": "code",
   "execution_count": null,
   "metadata": {},
   "outputs": [
    {
     "data": {
      "text/plain": [
       "{1, 4, 9, 16}"
      ]
     },
     "execution_count": 24,
     "metadata": {},
     "output_type": "execute_result"
    }
   ],
   "source": [
    "# NOTE: comprehension\n",
    "\n",
    "# 原本的程式碼：\n",
    "arr = [1,2,3,4]\n",
    "squared_arr =[]\n",
    "for i in arr: squared_arr.append(i ** 2)\n",
    "\n",
    "# 使用comprehension進行優化：\n",
    "squared_arr = [i ** 2 for i in arr]\n",
    "squared_arr\n",
    "\n",
    "# 將comprehension應用在dict\n",
    "arr = [1,2,3,4]\n",
    "dict_squared_arr = {i: i ** 2 for i in arr}\n",
    "dict_squared_arr\n",
    "\n",
    "# 將comprehension應用在set\n",
    "arr = [1,2,3,4]\n",
    "set_squared_arr = { i ** 2 for i in arr}\n",
    "set_squared_arr"
   ]
  },
  {
   "cell_type": "markdown",
   "metadata": {},
   "source": [
    "-   而 generator 他是使用()代替[]（小括弧原本代表的是 tuple，但是我們可以知道 tuple 他本來就沒有 comprehension）， comprehension 他會返回一個 new list，而 generator 他是返回一個 generator object，這個是比較節省記憶體空間的。\n",
    "-   生成器是一種特殊類型的叠代器，它可以通過函數中的 yield 語句來創建。yield 使函數返回一個值，並在下一次調用時恢覆執行狀態，從而支持生成一個序列的值。生成器遵循叠代協議，可以逐個生成值，而不是一次性生成整個序列，因此在處理大量數據時更加高效。\n",
    "- 產生器是記錄「產生值的方法」，而不是記錄值。\n",
    "- 使用產生器中「產生的值只能取用一次」，無法重新啟動或重新取得 ( 因為不會紀錄 )。"
   ]
  },
  {
   "cell_type": "code",
   "execution_count": 8,
   "metadata": {},
   "outputs": [
    {
     "name": "stdout",
     "output_type": "stream",
     "text": [
      "[0, 1, 2, 3, 4, 5, 6, 7, 8, 9]\n",
      "<generator object <genexpr> at 0x106466e90>\n"
     ]
    }
   ],
   "source": [
    "a = [i for i in range(10)]  # 串列生成式\n",
    "b = (i for i in range(10))  # 產生器表示式\n",
    "print(a)   # [0, 1, 2, 3, 4, 5, 6, 7, 8, 9]\n",
    "print(b)   # <generator object <genexpr> at 0x7fbb6facba50>"
   ]
  },
  {
   "cell_type": "code",
   "execution_count": 9,
   "metadata": {},
   "outputs": [
    {
     "name": "stdout",
     "output_type": "stream",
     "text": [
      "0\n",
      "1\n",
      "4\n",
      "9\n",
      "16\n",
      "25\n",
      "36\n",
      "49\n",
      "64\n",
      "81\n"
     ]
    },
    {
     "ename": "StopIteration",
     "evalue": "",
     "output_type": "error",
     "traceback": [
      "\u001b[0;31m---------------------------------------------------------------------------\u001b[0m",
      "\u001b[0;31mStopIteration\u001b[0m                             Traceback (most recent call last)",
      "Cell \u001b[0;32mIn[9], line 13\u001b[0m\n\u001b[1;32m     11\u001b[0m \u001b[39mprint\u001b[39m(\u001b[39mnext\u001b[39m(a))  \u001b[39m# 64\u001b[39;00m\n\u001b[1;32m     12\u001b[0m \u001b[39mprint\u001b[39m(\u001b[39mnext\u001b[39m(a))  \u001b[39m# 81\u001b[39;00m\n\u001b[0;32m---> 13\u001b[0m \u001b[39mprint\u001b[39m(\u001b[39mnext\u001b[39m(a))\n",
      "\u001b[0;31mStopIteration\u001b[0m: "
     ]
    }
   ],
   "source": [
    "# 此外，也可使用「next」的方法依序取值，但如果最後取不到值就會發生錯誤。\n",
    "a = (i**2 for i in range(10))  # 串列生成式\n",
    "print(next(a))  # 0\n",
    "print(next(a))  # 1\n",
    "print(next(a))  # 4\n",
    "print(next(a))  # 9\n",
    "print(next(a))  # 16\n",
    "print(next(a))  # 25\n",
    "print(next(a))  # 36\n",
    "print(next(a))  # 49\n",
    "print(next(a))  # 64\n",
    "print(next(a))  # 81\n",
    "print(next(a))  # 發生錯誤，因為取不到值"
   ]
  },
  {
   "cell_type": "markdown",
   "metadata": {},
   "source": [
    "## yield 陳述式\n",
    "如果一個函式裡，包含 yield 陳述式，那麼這個函式就會變成一個產生器 ( generator 函式 )"
   ]
  },
  {
   "cell_type": "code",
   "execution_count": 14,
   "metadata": {},
   "outputs": [
    {
     "name": "stdout",
     "output_type": "stream",
     "text": [
      "2\n",
      "4\n",
      "16\n"
     ]
    },
    {
     "data": {
      "text/plain": [
       "<generator object f2 at 0x106278520>"
      ]
     },
     "execution_count": 14,
     "metadata": {},
     "output_type": "execute_result"
    }
   ],
   "source": [
    "def f1(max):\n",
    "    n = 0\n",
    "    a = 2\n",
    "    while n<max:\n",
    "        print(a)\n",
    "        a = a ** 2\n",
    "        n = n + 1\n",
    "\n",
    "def f2(max):\n",
    "    n = 0\n",
    "    a = 2\n",
    "    while n<max:\n",
    "        yield(a)     # 換成 yield\n",
    "        a = a ** 2\n",
    "        n = n + 1\n",
    "\n",
    "f1(3)\n",
    "f2(3)"
   ]
  },
  {
   "cell_type": "code",
   "execution_count": 16,
   "metadata": {},
   "outputs": [
    {
     "name": "stdout",
     "output_type": "stream",
     "text": [
      "1\n",
      "2\n",
      "3\n"
     ]
    }
   ],
   "source": [
    "# 如果使用 yield 將其變成產生式，就需要使用 next 或是迴圈方式調用，每次呼叫時才會逐步印出 1、2、3\n",
    "def f():\n",
    "    yield(1)       # 使用 yield\n",
    "    yield(2)\n",
    "    yield(3)\n",
    "g = f()          # 賦值給變數 g\n",
    "print(next(g))   # 1\n",
    "print(next(g))   # 2\n",
    "print(next(g))   # 3"
   ]
  },
  {
   "cell_type": "code",
   "execution_count": 17,
   "metadata": {},
   "outputs": [
    {
     "name": "stdout",
     "output_type": "stream",
     "text": [
      "1\n",
      "1\n",
      "1\n"
     ]
    }
   ],
   "source": [
    "# 為什麼上方的程式碼要使用「g = f()」呢？因為調用 generator 函式會建立一個 generator 物件，\n",
    "# 多次調用generator 函式會創建多個「相互獨立」的 generator，如果將程式碼改成下面的模樣，\n",
    "# 因為 generator 函式互相獨立，結果就只會印出 1。\n",
    "\n",
    "def f():\n",
    "    yield(1)\n",
    "    yield(2)\n",
    "    yield(3)\n",
    "print(next(f()))   # 1\n",
    "print(next(f()))   # 1\n",
    "print(next(f()))   # 1"
   ]
  },
  {
   "cell_type": "markdown",
   "metadata": {},
   "source": [
    "## iteration, iterable, iterator\n",
    "\n",
    "＄ 在 Python 中，\"iteration\"（叠代）、\"iterable\"（可叠代對象）和\"iterator\"（叠代器）是與叠代和循環相關的重要概念。\n",
    "\n",
    "- Iteration (叠代):\n",
    "叠代是指重覆執行一組操作的過程，通常是遍歷一組元素或執行一段代碼塊。在 Python 中，for 循環是一種典型的叠代結構，它可以遍歷序列（如列表、元組、字符串等）中的每個元素。\n",
    "- Iterable (可叠代對象，可迭代的):\n",
    "可叠代對象是指能夠被叠代的對象，也就是其中的元素可以逐個被訪問的對象。Python 中的可叠代對象包括列表、元組、字符串、字典、集合等。可以通過 iter() 函數將可叠代對象轉換為叠代器，從而支持叠代操作。\n",
    "- Iterator (叠代器):\n",
    "叠代器是一種對象，它實現了 **iter**() 和 **next**() 方法。**iter**() 返回叠代器對象自身，而 **next**() 返回叠代序列中的下一個值。當沒有更多元素時，**next**() 應該引發 StopIteration 異常。叠代器可以用於表示懶加載的序列，一次生成一個元素，而不是一次性生成整個序列。\n"
   ]
  },
  {
   "cell_type": "code",
   "execution_count": null,
   "metadata": {},
   "outputs": [
    {
     "name": "stdout",
     "output_type": "stream",
     "text": [
      "1\n",
      "2\n"
     ]
    }
   ],
   "source": [
    "# Iterable\n",
    "my_list = [1, 2, 3, 4, 5]\n",
    "\n",
    "# Iterator\n",
    "my_iter = iter(my_list)\n",
    "\n",
    "# Iterating using iterator\n",
    "print(next(my_iter))  # 輸出 1\n",
    "print(next(my_iter))  # 輸出 2"
   ]
  },
  {
   "cell_type": "markdown",
   "metadata": {},
   "source": [
    "## 引用庫（import funtion）"
   ]
  },
  {
   "cell_type": "code",
   "execution_count": 18,
   "metadata": {},
   "outputs": [],
   "source": [
    "# import funtion\n",
    "from sys import argv"
   ]
  },
  {
   "cell_type": "markdown",
   "metadata": {},
   "source": [
    "## module & package\n",
    "\n",
    "module & package之間的關係：一個module裡面會有很多package，然後package裡面就會有很多的funtion提供我們做使用。\n",
    "\n",
    "四種寫法：\n",
    "```\n",
    "from moduleName import packageName\n",
    "from moduleName import packageName as something\n",
    "from moduleName import \\*\n",
    "from moduleName import funtion1, funtion2...\n",
    "```"
   ]
  },
  {
   "cell_type": "code",
   "execution_count": null,
   "metadata": {},
   "outputs": [
    {
     "ename": "ModuleNotFoundError",
     "evalue": "No module named 'py檔程式名'",
     "output_type": "error",
     "traceback": [
      "\u001b[0;31m---------------------------------------------------------------------------\u001b[0m",
      "\u001b[0;31mModuleNotFoundError\u001b[0m                       Traceback (most recent call last)",
      "Cell \u001b[0;32mIn[30], line 7\u001b[0m\n\u001b[1;32m      3\u001b[0m   \u001b[39mprint\u001b[39m(\u001b[39m\"\u001b[39m\u001b[39mthis is another module.\u001b[39m\u001b[39m\"\u001b[39m)\n\u001b[1;32m      6\u001b[0m \u001b[39m# 主程式\u001b[39;00m\n\u001b[0;32m----> 7\u001b[0m \u001b[39mfrom\u001b[39;00m \u001b[39mpy檔程式名\u001b[39;00m \u001b[39mimport\u001b[39;00m 該函數名稱\n",
      "\u001b[0;31mModuleNotFoundError\u001b[0m: No module named 'py檔程式名'"
     ]
    }
   ],
   "source": [
    "# module\n",
    "def f1():\n",
    "  print(\"this is another module.\")\n",
    "\n",
    "\n",
    "# 主程式\n",
    "from py檔程式名 import 該函數名稱"
   ]
  },
  {
   "cell_type": "markdown",
   "metadata": {},
   "source": [
    "## module searching\n",
    "\n",
    "針對模組放的路徑，可以有一下選擇：\n",
    "\n",
    "-   放在該專案資料夾裡面的 sys.path\n",
    "-   跟 main program 放在一起\n",
    "-   放在任何地方，再去更改 sys.path"
   ]
  },
  {
   "cell_type": "code",
   "execution_count": null,
   "metadata": {},
   "outputs": [
    {
     "name": "stdout",
     "output_type": "stream",
     "text": [
      "['/Users/chenweicheng/github/obsidian-individual-notes/python', '/Users/chenweicheng/anaconda3/lib/python311.zip', '/Users/chenweicheng/anaconda3/lib/python3.11', '/Users/chenweicheng/anaconda3/lib/python3.11/lib-dynload', '', '/Users/chenweicheng/anaconda3/lib/python3.11/site-packages', '/Users/chenweicheng/anaconda3/lib/python3.11/site-packages/aeosa']\n"
     ]
    }
   ],
   "source": [
    "import sys\n",
    "# 電腦會根據以下每一個路徑去找module\n",
    "print(sys.path)\n",
    "\n",
    "\n",
    "# TODO:更改sys.path\n",
    "sys.path.append(\"要增加的路徑\")"
   ]
  },
  {
   "cell_type": "markdown",
   "metadata": {},
   "source": [
    "## namespace\n",
    "\n",
    "＄ 其實就是前面提到 LEGB 規則的延伸，程式在找變數（函數），會先從區域命名空間（local namespace）去找，接著是全域命名空間（global namespace），最後是 built-in（內建函式庫）"
   ]
  },
  {
   "cell_type": "code",
   "execution_count": null,
   "metadata": {},
   "outputs": [
    {
     "name": "stdout",
     "output_type": "stream",
     "text": [
      "<module 'builtins' (built-in)>\n",
      "['ArithmeticError', 'AssertionError', 'AttributeError', 'BaseException', 'BaseExceptionGroup', 'BlockingIOError', 'BrokenPipeError', 'BufferError', 'BytesWarning', 'ChildProcessError', 'ConnectionAbortedError', 'ConnectionError', 'ConnectionRefusedError', 'ConnectionResetError', 'DeprecationWarning', 'EOFError', 'Ellipsis', 'EncodingWarning', 'EnvironmentError', 'Exception', 'ExceptionGroup', 'False', 'FileExistsError', 'FileNotFoundError', 'FloatingPointError', 'FutureWarning', 'GeneratorExit', 'IOError', 'ImportError', 'ImportWarning', 'IndentationError', 'IndexError', 'InterruptedError', 'IsADirectoryError', 'KeyError', 'KeyboardInterrupt', 'LookupError', 'MemoryError', 'ModuleNotFoundError', 'NameError', 'None', 'NotADirectoryError', 'NotImplemented', 'NotImplementedError', 'OSError', 'OverflowError', 'PendingDeprecationWarning', 'PermissionError', 'ProcessLookupError', 'RecursionError', 'ReferenceError', 'ResourceWarning', 'RuntimeError', 'RuntimeWarning', 'StopAsyncIteration', 'StopIteration', 'SyntaxError', 'SyntaxWarning', 'SystemError', 'SystemExit', 'TabError', 'TimeoutError', 'True', 'TypeError', 'UnboundLocalError', 'UnicodeDecodeError', 'UnicodeEncodeError', 'UnicodeError', 'UnicodeTranslateError', 'UnicodeWarning', 'UserWarning', 'ValueError', 'Warning', 'ZeroDivisionError', '__IPYTHON__', '__build_class__', '__debug__', '__doc__', '__import__', '__loader__', '__name__', '__package__', '__spec__', 'abs', 'aiter', 'all', 'anext', 'any', 'ascii', 'bin', 'bool', 'breakpoint', 'bytearray', 'bytes', 'callable', 'chr', 'classmethod', 'compile', 'complex', 'copyright', 'credits', 'delattr', 'dict', 'dir', 'display', 'divmod', 'enumerate', 'eval', 'exec', 'execfile', 'filter', 'float', 'format', 'frozenset', 'get_ipython', 'getattr', 'globals', 'hasattr', 'hash', 'help', 'hex', 'id', 'input', 'int', 'isinstance', 'issubclass', 'iter', 'len', 'license', 'list', 'locals', 'map', 'max', 'memoryview', 'min', 'next', 'object', 'oct', 'open', 'ord', 'pow', 'print', 'property', 'range', 'repr', 'reversed', 'round', 'runfile', 'set', 'setattr', 'slice', 'sorted', 'staticmethod', 'str', 'sum', 'super', 'tuple', 'type', 'vars', 'zip']\n",
      "1\n",
      "2\n",
      "3\n",
      "4\n"
     ]
    }
   ],
   "source": [
    "# 輸出內建函式庫\n",
    "print(__builtins__)\n",
    "\n",
    "# 輸出所有函數名稱\n",
    "print(dir(__builtins__))\n",
    "\n",
    "arr = [1,2,3,4]\n",
    "print(*arr, sep = \"\\n\")"
   ]
  },
  {
   "cell_type": "markdown",
   "metadata": {},
   "source": [
    "## if name == \"main\""
   ]
  },
  {
   "cell_type": "code",
   "execution_count": null,
   "metadata": {},
   "outputs": [
    {
     "name": "stdout",
     "output_type": "stream",
     "text": [
      "we are running in one.py\n",
      "we are running in one.py directly\n",
      "__main__\n"
     ]
    }
   ],
   "source": [
    "# 建立one.py，並填入以下程式：\n",
    "def get_name():\n",
    "  print(__name__)\n",
    "\n",
    "print(\"we are running in one.py\")\n",
    "\n",
    "if __name__ ==\"__main__\":\n",
    "  print(\"we are running in one.py directly\")\n",
    "  get_name()\n",
    "else:\n",
    "  print(\"one.py is being import.\")\n",
    "  get_name()"
   ]
  },
  {
   "cell_type": "code",
   "execution_count": null,
   "metadata": {},
   "outputs": [
    {
     "ename": "ModuleNotFoundError",
     "evalue": "No module named 'one'",
     "output_type": "error",
     "traceback": [
      "\u001b[0;31m---------------------------------------------------------------------------\u001b[0m",
      "\u001b[0;31mModuleNotFoundError\u001b[0m                       Traceback (most recent call last)",
      "Cell \u001b[0;32mIn[34], line 2\u001b[0m\n\u001b[1;32m      1\u001b[0m \u001b[39m# 建立two.py，並填入以下程式：\u001b[39;00m\n\u001b[0;32m----> 2\u001b[0m \u001b[39mimport\u001b[39;00m \u001b[39mone\u001b[39;00m\n\u001b[1;32m      4\u001b[0m \u001b[39mdef\u001b[39;00m \u001b[39mget_name\u001b[39m():\n\u001b[1;32m      5\u001b[0m   \u001b[39mprint\u001b[39m(\u001b[39m__name__\u001b[39m)\n",
      "\u001b[0;31mModuleNotFoundError\u001b[0m: No module named 'one'"
     ]
    }
   ],
   "source": [
    "# 建立two.py，並填入以下程式：\n",
    "import one\n",
    "\n",
    "def get_name():\n",
    "  print(__name__)\n",
    "\n",
    "print(\"we are running in two.py\")\n",
    "if __name__ ==\"__main__\":\n",
    "  print(\"we are running in two.py directly\")\n",
    "  get_name()\n",
    "  one.get_name()"
   ]
  },
  {
   "cell_type": "markdown",
   "metadata": {},
   "source": [
    "## package\n",
    "\n",
    "＄ package 是一種包含很多 python 模組的字典\n",
    "\n",
    "-   PyPI：全名 Python Package Index，是指 Python 生態系統中的一個中央軟件存儲庫。\n",
    "-   Pip：安裝第三方庫的指令："
   ]
  },
  {
   "cell_type": "code",
   "execution_count": null,
   "metadata": {},
   "outputs": [],
   "source": [
    "# TODO: pip相關指令\n",
    "pip install <package_name>\n",
    "pip install -upgrade <package_name>\n",
    "\n",
    "# 安裝指定版本\n",
    "pip install <package_name> == <指定版本>\n",
    "\n",
    "# 確認目前安裝所有模組及版本\n",
    "pip freeze"
   ]
  },
  {
   "cell_type": "markdown",
   "metadata": {},
   "source": [
    "## input, stdin, stdout, pipe\n",
    "\n",
    "＄ input 使用在程式一般輸入"
   ]
  },
  {
   "cell_type": "code",
   "execution_count": null,
   "metadata": {},
   "outputs": [
    {
     "name": "stdout",
     "output_type": "stream",
     "text": [
      "You entered: \n"
     ]
    }
   ],
   "source": [
    "user_input = input(\"Enter something: \")\n",
    "print(\"You entered:\", user_input)"
   ]
  },
  {
   "cell_type": "markdown",
   "metadata": {},
   "source": [
    "＄ stdin, stdout, pipe 使用在文件讀檔，首先要先了解指令：\n",
    "\n",
    "-   > ：overwrite\n",
    "-   >> ：append\n",
    "-   <：read\n",
    "    ![upgit_20240420_1713554662.png](https://raw.githubusercontent.com/kcwc1029/obsidian-upgit-image/main/2024/04/upgit_20240420_1713554662.png)"
   ]
  },
  {
   "cell_type": "code",
   "execution_count": null,
   "metadata": {},
   "outputs": [],
   "source": [
    "# 要做一個程式，將infile.txt的‘zero’改成數字0並輸出在outfile.txt\n",
    "\n",
    "# infile.txt\n",
    "zero plus any interger is an interger\n",
    "example: 0 + 1 = 1\n",
    "\n",
    "# one.py\n",
    "import sys\n",
    "\n",
    "def main():\n",
    "    content = sys.stdin.read() # content 會為一個string\n",
    "    print(content)\n",
    "    new_content = content.replace(sys.argv[1], sys.argv[2])\n",
    "    sys.stdout.write(new_content)\n",
    "\n",
    "main()\n",
    "\n",
    "# 接著在terminal下指令：\n",
    "# > python3 one.py zero 0 < infile.txt > outfile.txt\n",
    "# 他就會在outfile.txt輸出\n",
    "zero plus any interger is an interger\n",
    "example: 0 + 1 = 1\n",
    "\n",
    "0 plus any interger is an interger\n",
    "example: 0 + 1 = 1"
   ]
  },
  {
   "cell_type": "markdown",
   "metadata": {},
   "source": [
    "## Lab06 作業\n",
    "\n",
    "請使用輾轉相除法，並使用遞迴的方式，為兩個數字求出最大公因數，並輸出：「num1和num2的最大公因數=num3」\n",
    "\n",
    "若兩個數字互質，則輸出：「num1和num2互質。」\n",
    "\n",
    "本次作業請自己定義一個函式，請照下面範例完成作業。"
   ]
  },
  {
   "cell_type": "code",
   "execution_count": 15,
   "metadata": {},
   "outputs": [
    {
     "name": "stdout",
     "output_type": "stream",
     "text": [
      "80 与 20 的gcd=20\n",
      "0 没有gcd...\n",
      "19和1 互值...\n"
     ]
    }
   ],
   "source": [
    "\"\"\"\n",
    "gcd(456, 96) 456%96=72\n",
    "gcd(96, 72) 96%72=24\n",
    "gcd(72, 24) 72%24=0\n",
    "\"\"\"\n",
    "# def gcd(a, b):\n",
    "#     \n",
    "#     if b == 0:  # 如果第二个参数为0，直接返回第一个参数\n",
    "#         print(f\"{a} 沒有gcd...\")\n",
    "#         return \n",
    "#     if a % b == 0:\n",
    "#         print(f\"{a1}與{b1}的gcd={b}\")\n",
    "#         return \n",
    "#     else:\n",
    "#         return gcd(b, a % b)\n",
    "\n",
    "def gcd(a, b, a1=None, b1=None):\n",
    "    a1, b1 = a, b\n",
    "    if b == 0:\n",
    "        print(f\"{b} 没有gcd...\")\n",
    "        return \n",
    "    if b == 1:\n",
    "        print(f\"{a1}和{b1} 互值...\")\n",
    "        return\n",
    "    if a % b == 0:\n",
    "        print(f\"{a1} 与 {b1} 的gcd={b}\")\n",
    "        return \n",
    "    else:\n",
    "        return gcd(b, a % b, a1, b1)\n",
    "\n",
    "ans1 = gcd(80, 20)\n",
    "ans2 = gcd(10, 0)  # 这里将会返回 10，因为第二个参数为0，直接返回第一个参数\n",
    "ans3 = gcd(19, 20)\n"
   ]
  },
  {
   "cell_type": "markdown",
   "metadata": {},
   "source": [
    "## Lab06 作業加分題"
   ]
  },
  {
   "cell_type": "code",
   "execution_count": 19,
   "metadata": {},
   "outputs": [
    {
     "name": "stdout",
     "output_type": "stream",
     "text": [
      "遞迴回來 ['4']\n",
      "遞迴回來 ['3']\n",
      "遞迴回來 ['34', '43']\n",
      "遞迴回來 ['4']\n",
      "遞迴回來 ['2']\n",
      "遞迴回來 ['24', '42']\n",
      "遞迴回來 ['3']\n",
      "遞迴回來 ['2']\n",
      "遞迴回來 ['23', '32']\n",
      "遞迴回來 ['234', '243', '324', '342', '423', '432']\n",
      "遞迴回來 ['4']\n",
      "遞迴回來 ['3']\n",
      "遞迴回來 ['34', '43']\n",
      "遞迴回來 ['4']\n",
      "遞迴回來 ['1']\n",
      "遞迴回來 ['14', '41']\n",
      "遞迴回來 ['3']\n",
      "遞迴回來 ['1']\n",
      "遞迴回來 ['13', '31']\n",
      "遞迴回來 ['134', '143', '314', '341', '413', '431']\n",
      "遞迴回來 ['4']\n",
      "遞迴回來 ['2']\n",
      "遞迴回來 ['24', '42']\n",
      "遞迴回來 ['4']\n",
      "遞迴回來 ['1']\n",
      "遞迴回來 ['14', '41']\n",
      "遞迴回來 ['2']\n",
      "遞迴回來 ['1']\n",
      "遞迴回來 ['12', '21']\n",
      "遞迴回來 ['124', '142', '214', '241', '412', '421']\n",
      "遞迴回來 ['3']\n",
      "遞迴回來 ['2']\n",
      "遞迴回來 ['23', '32']\n",
      "遞迴回來 ['3']\n",
      "遞迴回來 ['1']\n",
      "遞迴回來 ['13', '31']\n",
      "遞迴回來 ['2']\n",
      "遞迴回來 ['1']\n",
      "遞迴回來 ['12', '21']\n",
      "遞迴回來 ['123', '132', '213', '231', '312', '321']\n",
      "['1234', '1243', '1324', '1342', '1423', '1432', '2134', '2143', '2314', '2341', '2413', '2431', '3124', '3142', '3214', '3241', '3412', '3421', '4123', '4132', '4213', '4231', '4312', '4321']\n"
     ]
    }
   ],
   "source": [
    "def permute(string):\n",
    "    # 字串為一，直接返回\n",
    "    if len(string) == 1:\n",
    "        return [string]\n",
    "\n",
    "    result = []\n",
    "\n",
    "    \n",
    "    for i, char in enumerate(string):\n",
    "        # 將回圈掃出來的字單獨抽出來，其他合起來繼續遞迴\n",
    "        rest = string[:i] + string[i+1:]\n",
    "        rest_permutations = permute(rest)\n",
    "        print(\"遞迴回來\", rest_permutations)\n",
    "\n",
    "        # 將遞迴返回的字串跟頭接起來  \n",
    "        for perm in rest_permutations:\n",
    "            result.append(char + perm)\n",
    "\n",
    "    return result\n",
    "\n",
    "# 测试\n",
    "input_string = \"1234\"\n",
    "print(permute(input_string))\n"
   ]
  }
 ],
 "metadata": {
  "kernelspec": {
   "display_name": "base",
   "language": "python",
   "name": "python3"
  },
  "language_info": {
   "codemirror_mode": {
    "name": "ipython",
    "version": 3
   },
   "file_extension": ".py",
   "mimetype": "text/x-python",
   "name": "python",
   "nbconvert_exporter": "python",
   "pygments_lexer": "ipython3",
   "version": "3.11.5"
  },
  "orig_nbformat": 4
 },
 "nbformat": 4,
 "nbformat_minor": 2
}
