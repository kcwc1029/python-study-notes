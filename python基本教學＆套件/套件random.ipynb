{
 "cells": [
  {
   "cell_type": "markdown",
   "metadata": {},
   "source": [
    "## import random"
   ]
  },
  {
   "cell_type": "code",
   "execution_count": 6,
   "metadata": {},
   "outputs": [],
   "source": [
    "import random\n",
    "from random import sample"
   ]
  },
  {
   "cell_type": "markdown",
   "metadata": {},
   "source": [
    "## seed(x) \n",
    "\n",
    "Python random 模組所產生的隨機數並不是真正的「隨機」，而是演算法根據「種子 seed」產生的一組數字，預設這個 seed 以電腦系統的時間為主，因此如果種子相同，就會產生相同的隨機數，以下方的程式為例，種子如果都是 1，產生的隨機數就一模一樣。"
   ]
  },
  {
   "cell_type": "code",
   "execution_count": 7,
   "metadata": {},
   "outputs": [
    {
     "name": "stdout",
     "output_type": "stream",
     "text": [
      "0.13436424411240122\n",
      "0.13436424411240122\n",
      "0.13436424411240122\n"
     ]
    }
   ],
   "source": [
    "import random\n",
    "random.seed(1)\n",
    "print(random.random())   # 0.13436424411240122\n",
    "random.seed(1)\n",
    "print(random.random())   # 0.13436424411240122\n",
    "random.seed(1)\n",
    "print(random.random())   # 0.13436424411240122"
   ]
  },
  {
   "cell_type": "markdown",
   "metadata": {},
   "source": [
    "## random() \n",
    "\n",
    "random.random() 使用後會產生一個 0.0～1.0 之間的隨機浮點數。"
   ]
  },
  {
   "cell_type": "code",
   "execution_count": 8,
   "metadata": {},
   "outputs": [
    {
     "name": "stdout",
     "output_type": "stream",
     "text": [
      "0.8474337369372327\n"
     ]
    }
   ],
   "source": [
    "import random\n",
    "print(random.random()) "
   ]
  },
  {
   "cell_type": "markdown",
   "metadata": {},
   "source": [
    "## uniform(x, y) \n",
    "\n",
    "random.uniform(x, y) 使用後會產生一個 x～y 之間的隨機浮點數。"
   ]
  },
  {
   "cell_type": "code",
   "execution_count": 9,
   "metadata": {},
   "outputs": [
    {
     "name": "stdout",
     "output_type": "stream",
     "text": [
      "4.527549237953228\n"
     ]
    }
   ],
   "source": [
    "import random\n",
    "print(random.uniform(3,5))   # 3.691400829417505"
   ]
  },
  {
   "cell_type": "markdown",
   "metadata": {},
   "source": [
    "## randint(x, y) \n",
    "\n",
    "random.randint(x, y) 使用後會產生一個 x～y 之間的隨機整數。"
   ]
  },
  {
   "cell_type": "code",
   "execution_count": 10,
   "metadata": {},
   "outputs": [
    {
     "name": "stdout",
     "output_type": "stream",
     "text": [
      "6\n"
     ]
    }
   ],
   "source": [
    "import random\n",
    "print(random.randint(2,10))    # 7"
   ]
  },
  {
   "cell_type": "markdown",
   "metadata": {},
   "source": [
    "## randrange(x, y, step)\n",
    "\n",
    "random.randrange(x, y, step) 使用後會產生一個 x～y 之間的隨機整數，step 預設為 1，表示要間隔多少數字，例如下方的程式將 step 設定為 2，取出的隨機數就都會是偶數。"
   ]
  },
  {
   "cell_type": "code",
   "execution_count": 11,
   "metadata": {},
   "outputs": [
    {
     "name": "stdout",
     "output_type": "stream",
     "text": [
      "2\n",
      "7\n"
     ]
    }
   ],
   "source": [
    "import random\n",
    "print(random.randrange(2,10,2))   # 6\n",
    "print(random.randrange(10))    # 9"
   ]
  },
  {
   "cell_type": "markdown",
   "metadata": {},
   "source": [
    "## choice(seq) \n",
    "\n",
    "random.choice(seq) 可以從一個字串、串列或 tuple 中 ( 有順序的物件 )，隨機取出一個項目。"
   ]
  },
  {
   "cell_type": "code",
   "execution_count": 12,
   "metadata": {},
   "outputs": [
    {
     "name": "stdout",
     "output_type": "stream",
     "text": [
      "4\n",
      "4\n",
      "4\n"
     ]
    }
   ],
   "source": [
    "import random\n",
    "print(random.choice([1,2,3,4,5]))  # 2  串列\n",
    "print(random.choice((1,2,3,4,5)))  # 5  tuple\n",
    "print(random.choice('12345'))      # 1  字串"
   ]
  },
  {
   "cell_type": "markdown",
   "metadata": {},
   "source": [
    "## choices(seq, k)\n",
    "\n",
    "random.choices(seq, k) 可以從一個字串、串列或 tuple 中 ( 有順序的物件 )，隨機取出 k 個項目，取出的項目可能會重複，並將這 k 個項目組成一個新的串列。"
   ]
  },
  {
   "cell_type": "code",
   "execution_count": 13,
   "metadata": {},
   "outputs": [
    {
     "name": "stdout",
     "output_type": "stream",
     "text": [
      "[4, 1]\n",
      "[1, 5, 3]\n",
      "['4', '1', '3', '4']\n"
     ]
    }
   ],
   "source": [
    "import random\n",
    "print(random.choices([1,2,3,4,5],k=2))  # [2, 1]\n",
    "print(random.choices((1,2,3,4,5),k=3))  # [3, 1, 1]\n",
    "print(random.choices('12345',k=4)) "
   ]
  },
  {
   "cell_type": "markdown",
   "metadata": {},
   "source": [
    "## sample(seq, k) \n",
    "\n",
    "random.sample(seq, k) 可以從一個字串、串列或 tuple 中 ( 有順序的物件 )，隨機取出 k 個項目，每個項目不會重複，並將這 k 個項目組成一個新的串列，k 一定要填入數字，且不能大於物件的長度 ( 例如串列的長度是 4，k 就不能大於 4 )。"
   ]
  },
  {
   "cell_type": "code",
   "execution_count": 14,
   "metadata": {},
   "outputs": [
    {
     "name": "stdout",
     "output_type": "stream",
     "text": [
      "[2, 1, 5, 4]\n",
      "[1, 5, 3, 4]\n",
      "['4', '2', '5', '1']\n"
     ]
    }
   ],
   "source": [
    "import random\n",
    "print(random.sample([1,2,3,4,5], k=4))   # [2, 5, 3, 4]\n",
    "print(random.sample((1,2,3,4,5), k=4))   # [2, 1, 5, 4]\n",
    "print(random.sample('12345', k=4))"
   ]
  },
  {
   "cell_type": "markdown",
   "metadata": {},
   "source": [
    "## shuffle(list) \n",
    "\n",
    "random.shuffle(seq) 使用後，會將原本的「串列」順序打亂 ( 不支援 tuple，因為 tuple 不能被修改 )。"
   ]
  },
  {
   "cell_type": "code",
   "execution_count": 15,
   "metadata": {},
   "outputs": [
    {
     "name": "stdout",
     "output_type": "stream",
     "text": [
      "[1, 2, 3, 4, 5]\n",
      "[1, 3, 4, 2, 5]\n"
     ]
    }
   ],
   "source": [
    "a = [1,2,3,4,5]\n",
    "print(a)           # [1,2,3,4,5]\n",
    "random.shuffle(a)\n",
    "print(a) "
   ]
  }
 ],
 "metadata": {
  "kernelspec": {
   "display_name": "base",
   "language": "python",
   "name": "python3"
  },
  "language_info": {
   "codemirror_mode": {
    "name": "ipython",
    "version": 3
   },
   "file_extension": ".py",
   "mimetype": "text/x-python",
   "name": "python",
   "nbconvert_exporter": "python",
   "pygments_lexer": "ipython3",
   "version": "3.11.5"
  },
  "orig_nbformat": 4
 },
 "nbformat": 4,
 "nbformat_minor": 2
}
