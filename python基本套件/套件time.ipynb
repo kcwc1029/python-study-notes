{
 "cells": [
  {
   "cell_type": "markdown",
   "metadata": {},
   "source": [
    "## time()\n",
    "time（）方法可以傳回自1970年1月1日 00:00:00AM 以來的秒數，初看好像用處不大，其實如果你想要掌握某段工作所花時間則是很有用，"
   ]
  },
  {
   "cell_type": "code",
   "execution_count": 1,
   "metadata": {},
   "outputs": [
    {
     "name": "stdout",
     "output_type": "stream",
     "text": [
      "計算1970年1月1日00:00:00至今的秒數 =  1717316093\n"
     ]
    }
   ],
   "source": [
    "import time                         # 導入模組time\n",
    "\n",
    "print(\"計算1970年1月1日00:00:00至今的秒數 = \", int(time.time()))"
   ]
  },
  {
   "cell_type": "code",
   "execution_count": 3,
   "metadata": {},
   "outputs": [
    {
     "name": "stdout",
     "output_type": "stream",
     "text": [
      "請猜小一些\n",
      "請猜小一些\n",
      "恭喜!答對了\n",
      "所花時間:  3  秒\n"
     ]
    }
   ],
   "source": [
    "import random                       # 導入模組random\n",
    "import time                         # 導入模組time\n",
    "\n",
    "min, max = 1, 10\n",
    "ans = random.randint(min, max)      # 隨機數產生答案\n",
    "yourNum = int(input(\"請猜1-10之間數字: \"))\n",
    "starttime = int(time.time())    # 起始秒數\n",
    "while True:    \n",
    "    if yourNum == ans:\n",
    "        print(\"恭喜!答對了\")\n",
    "        endtime = int(time.time())  # 結束秒數\n",
    "        print(\"所花時間: \", endtime - starttime, \" 秒\")\n",
    "        break\n",
    "    elif yourNum < ans:\n",
    "        print(\"請猜大一些\")\n",
    "    else:\n",
    "        print(\"請猜小一些\")\n",
    "    yourNum = int(input(\"請猜1-10之間數字: \"))\n",
    "        "
   ]
  },
  {
   "cell_type": "markdown",
   "metadata": {},
   "source": [
    "## sleep（）\n",
    "讓工作暫停，這個方法的參數單位是秒。\n",
    "\n",
    "這個方法對於設計動畫非常有幫助，未來我們還會介紹這個方法更多的應用。"
   ]
  },
  {
   "cell_type": "code",
   "execution_count": 4,
   "metadata": {},
   "outputs": [
    {
     "name": "stdout",
     "output_type": "stream",
     "text": [
      "蘋果\n",
      "香蕉\n",
      "西瓜\n",
      "水蜜桃\n",
      "百香果\n"
     ]
    }
   ],
   "source": [
    "import time                        # 導入模組time\n",
    "\n",
    "fruits = ['蘋果', '香蕉', '西瓜', '水蜜桃', '百香果']\n",
    "for fruit in fruits:\n",
    "    print(fruit)\n",
    "    time.sleep(1)                   # 暫停1秒\n"
   ]
  },
  {
   "cell_type": "markdown",
   "metadata": {},
   "source": [
    "## asctime（）\n",
    "這個方法會以可以閱讀方式列出目前系統時間。\n"
   ]
  },
  {
   "cell_type": "code",
   "execution_count": 5,
   "metadata": {},
   "outputs": [
    {
     "name": "stdout",
     "output_type": "stream",
     "text": [
      "Sun Jun  2 16:17:32 2024\n"
     ]
    }
   ],
   "source": [
    "import time                         # 導入模組time\n",
    "\n",
    "print(time.asctime())               # 列出目前系統時間 "
   ]
  },
  {
   "cell_type": "markdown",
   "metadata": {},
   "source": [
    "## localtime ()\n",
    "這個方法可以返回目前時間的結構資料，所返回的結構可以用索引方式獲得個別內容。"
   ]
  },
  {
   "cell_type": "code",
   "execution_count": 6,
   "metadata": {},
   "outputs": [
    {
     "name": "stdout",
     "output_type": "stream",
     "text": [
      "time.struct_time(tm_year=2024, tm_mon=6, tm_mday=2, tm_hour=16, tm_min=18, tm_sec=11, tm_wday=6, tm_yday=154, tm_isdst=0)\n",
      "年  2024\n",
      "月  6\n",
      "日  2\n",
      "時  16\n",
      "分  18\n",
      "秒  11\n",
      "星期幾    6\n",
      "第幾天    154\n",
      "夏令時間  0\n"
     ]
    }
   ],
   "source": [
    "import time                         # 導入模組time\n",
    "\n",
    "xtime = time.localtime()\n",
    "print(xtime)                        # 列出目前系統時間\n",
    "print(\"年 \", xtime[0])\n",
    "print(\"月 \", xtime[1])\n",
    "print(\"日 \", xtime[2])\n",
    "print(\"時 \", xtime[3])\n",
    "print(\"分 \", xtime[4])\n",
    "print(\"秒 \", xtime[5])\n",
    "print(\"星期幾   \", xtime[6])\n",
    "print(\"第幾天   \", xtime[7])\n",
    "print(\"夏令時間 \", xtime[8])\n",
    "\n"
   ]
  }
 ],
 "metadata": {
  "kernelspec": {
   "display_name": "base",
   "language": "python",
   "name": "python3"
  },
  "language_info": {
   "codemirror_mode": {
    "name": "ipython",
    "version": 3
   },
   "file_extension": ".py",
   "mimetype": "text/x-python",
   "name": "python",
   "nbconvert_exporter": "python",
   "pygments_lexer": "ipython3",
   "version": "3.11.5"
  },
  "orig_nbformat": 4
 },
 "nbformat": 4,
 "nbformat_minor": 2
}
