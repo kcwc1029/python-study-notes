{
 "cells": [
  {
   "cell_type": "code",
   "execution_count": 4,
   "metadata": {},
   "outputs": [
    {
     "name": "stdout",
     "output_type": "stream",
     "text": [
      " * Serving Flask app '__main__'\n",
      " * Debug mode: off\n"
     ]
    },
    {
     "name": "stderr",
     "output_type": "stream",
     "text": [
      "WARNING: This is a development server. Do not use it in a production deployment. Use a production WSGI server instead.\n",
      " * Running on http://127.0.0.1:5000\n",
      "Press CTRL+C to quit\n",
      "127.0.0.1 - - [25/Jun/2024 02:46:18] \"GET / HTTP/1.1\" 404 -\n",
      "127.0.0.1 - - [25/Jun/2024 02:46:21] \"GET /rr HTTP/1.1\" 200 -\n",
      "127.0.0.1 - - [25/Jun/2024 02:46:31] \"GET /tt HTTP/1.1\" 200 -\n"
     ]
    }
   ],
   "source": [
    "from flask import Flask\n",
    "\n",
    "app = Flask(__name__)\n",
    "\n",
    "@app.route(\"/<name>\")\n",
    "def home(name):\n",
    "    return f\"<h1>hello {name}</h1>\"\n",
    "\n",
    "app.run()"
   ]
  },
  {
   "cell_type": "markdown",
   "metadata": {},
   "source": [
    "安裝line-bot-sdk函式庫"
   ]
  },
  {
   "cell_type": "code",
   "execution_count": 2,
   "metadata": {},
   "outputs": [
    {
     "name": "stdout",
     "output_type": "stream",
     "text": [
      "Collecting line-bot-sdk\n",
      "  Downloading line_bot_sdk-3.11.0-py2.py3-none-any.whl.metadata (13 kB)\n",
      "Requirement already satisfied: requests==2.31.0 in c:\\users\\33313\\anaconda3\\lib\\site-packages (from line-bot-sdk) (2.31.0)\n",
      "Requirement already satisfied: urllib3<3,>=2.0.5 in c:\\users\\33313\\anaconda3\\lib\\site-packages (from line-bot-sdk) (2.0.7)\n",
      "Collecting aiohttp==3.9.5 (from line-bot-sdk)\n",
      "  Downloading aiohttp-3.9.5-cp311-cp311-win_amd64.whl.metadata (7.7 kB)\n",
      "Requirement already satisfied: future in c:\\users\\33313\\anaconda3\\lib\\site-packages (from line-bot-sdk) (0.18.3)\n",
      "Collecting pydantic<3,>=2.0.3 (from line-bot-sdk)\n",
      "  Downloading pydantic-2.7.4-py3-none-any.whl.metadata (109 kB)\n",
      "     ---------------------------------------- 0.0/109.4 kB ? eta -:--:--\n",
      "     --- ------------------------------------ 10.2/109.4 kB ? eta -:--:--\n",
      "     ---------- -------------------------- 30.7/109.4 kB 660.6 kB/s eta 0:00:01\n",
      "     ------------------------------- ----- 92.2/109.4 kB 751.6 kB/s eta 0:00:01\n",
      "     ------------------------------------ 109.4/109.4 kB 793.6 kB/s eta 0:00:00\n",
      "Collecting aenum>=3.1.11 (from line-bot-sdk)\n",
      "  Downloading aenum-3.1.15-py3-none-any.whl.metadata (3.7 kB)\n",
      "Requirement already satisfied: python-dateutil>=2.5.3 in c:\\users\\33313\\anaconda3\\lib\\site-packages (from line-bot-sdk) (2.8.2)\n",
      "Collecting Deprecated (from line-bot-sdk)\n",
      "  Downloading Deprecated-1.2.14-py2.py3-none-any.whl.metadata (5.4 kB)\n",
      "Requirement already satisfied: aiosignal>=1.1.2 in c:\\users\\33313\\anaconda3\\lib\\site-packages (from aiohttp==3.9.5->line-bot-sdk) (1.2.0)\n",
      "Requirement already satisfied: attrs>=17.3.0 in c:\\users\\33313\\anaconda3\\lib\\site-packages (from aiohttp==3.9.5->line-bot-sdk) (23.1.0)\n",
      "Requirement already satisfied: frozenlist>=1.1.1 in c:\\users\\33313\\anaconda3\\lib\\site-packages (from aiohttp==3.9.5->line-bot-sdk) (1.4.0)\n",
      "Requirement already satisfied: multidict<7.0,>=4.5 in c:\\users\\33313\\anaconda3\\lib\\site-packages (from aiohttp==3.9.5->line-bot-sdk) (6.0.4)\n",
      "Requirement already satisfied: yarl<2.0,>=1.0 in c:\\users\\33313\\anaconda3\\lib\\site-packages (from aiohttp==3.9.5->line-bot-sdk) (1.9.3)\n",
      "Requirement already satisfied: charset-normalizer<4,>=2 in c:\\users\\33313\\anaconda3\\lib\\site-packages (from requests==2.31.0->line-bot-sdk) (2.0.4)\n",
      "Requirement already satisfied: idna<4,>=2.5 in c:\\users\\33313\\anaconda3\\lib\\site-packages (from requests==2.31.0->line-bot-sdk) (3.4)\n",
      "Requirement already satisfied: certifi>=2017.4.17 in c:\\users\\33313\\anaconda3\\lib\\site-packages (from requests==2.31.0->line-bot-sdk) (2024.2.2)\n",
      "Collecting annotated-types>=0.4.0 (from pydantic<3,>=2.0.3->line-bot-sdk)\n",
      "  Downloading annotated_types-0.7.0-py3-none-any.whl.metadata (15 kB)\n",
      "Collecting pydantic-core==2.18.4 (from pydantic<3,>=2.0.3->line-bot-sdk)\n",
      "  Downloading pydantic_core-2.18.4-cp311-none-win_amd64.whl.metadata (6.7 kB)\n",
      "Requirement already satisfied: typing-extensions>=4.6.1 in c:\\users\\33313\\anaconda3\\lib\\site-packages (from pydantic<3,>=2.0.3->line-bot-sdk) (4.9.0)\n",
      "Requirement already satisfied: six>=1.5 in c:\\users\\33313\\anaconda3\\lib\\site-packages (from python-dateutil>=2.5.3->line-bot-sdk) (1.16.0)\n",
      "Requirement already satisfied: wrapt<2,>=1.10 in c:\\users\\33313\\anaconda3\\lib\\site-packages (from Deprecated->line-bot-sdk) (1.14.1)\n",
      "Downloading line_bot_sdk-3.11.0-py2.py3-none-any.whl (758 kB)\n",
      "   ---------------------------------------- 0.0/758.4 kB ? eta -:--:--\n",
      "   ------- -------------------------------- 133.1/758.4 kB 4.0 MB/s eta 0:00:01\n",
      "   --------- ------------------------------ 184.3/758.4 kB 2.2 MB/s eta 0:00:01\n",
      "   --------------------- ------------------ 399.4/758.4 kB 3.1 MB/s eta 0:00:01\n",
      "   ----------------------- ---------------- 440.3/758.4 kB 2.5 MB/s eta 0:00:01\n",
      "   ---------------------------------------- 758.4/758.4 kB 3.4 MB/s eta 0:00:00\n",
      "Downloading aiohttp-3.9.5-cp311-cp311-win_amd64.whl (370 kB)\n",
      "   ---------------------------------------- 0.0/370.8 kB ? eta -:--:--\n",
      "   --------------------------------------  368.6/370.8 kB 11.6 MB/s eta 0:00:01\n",
      "   ---------------------------------------- 370.8/370.8 kB 7.7 MB/s eta 0:00:00\n",
      "Downloading aenum-3.1.15-py3-none-any.whl (137 kB)\n",
      "   ---------------------------------------- 0.0/137.6 kB ? eta -:--:--\n",
      "   ---------------------------------------- 137.6/137.6 kB 8.0 MB/s eta 0:00:00\n",
      "Downloading pydantic-2.7.4-py3-none-any.whl (409 kB)\n",
      "   ---------------------------------------- 0.0/409.0 kB ? eta -:--:--\n",
      "   --------------------------------------- 409.0/409.0 kB 12.9 MB/s eta 0:00:00\n",
      "Downloading pydantic_core-2.18.4-cp311-none-win_amd64.whl (1.9 MB)\n",
      "   ---------------------------------------- 0.0/1.9 MB ? eta -:--:--\n",
      "   ------ --------------------------------- 0.3/1.9 MB 8.9 MB/s eta 0:00:01\n",
      "   ------------ --------------------------- 0.6/1.9 MB 7.2 MB/s eta 0:00:01\n",
      "   -------------------- ------------------- 1.0/1.9 MB 7.9 MB/s eta 0:00:01\n",
      "   -------------------------- ------------- 1.3/1.9 MB 7.3 MB/s eta 0:00:01\n",
      "   ------------------------------- -------- 1.5/1.9 MB 6.7 MB/s eta 0:00:01\n",
      "   ------------------------------------ --- 1.7/1.9 MB 6.5 MB/s eta 0:00:01\n",
      "   ---------------------------------------- 1.9/1.9 MB 6.4 MB/s eta 0:00:00\n",
      "Downloading Deprecated-1.2.14-py2.py3-none-any.whl (9.6 kB)\n",
      "Downloading annotated_types-0.7.0-py3-none-any.whl (13 kB)\n",
      "Installing collected packages: aenum, pydantic-core, Deprecated, annotated-types, pydantic, aiohttp, line-bot-sdk\n",
      "  Attempting uninstall: pydantic\n",
      "    Found existing installation: pydantic 1.10.12\n",
      "    Uninstalling pydantic-1.10.12:\n",
      "      Successfully uninstalled pydantic-1.10.12\n",
      "  Attempting uninstall: aiohttp\n",
      "    Found existing installation: aiohttp 3.9.3\n",
      "    Uninstalling aiohttp-3.9.3:\n",
      "      Successfully uninstalled aiohttp-3.9.3\n",
      "Successfully installed Deprecated-1.2.14 aenum-3.1.15 aiohttp-3.9.5 annotated-types-0.7.0 line-bot-sdk-3.11.0 pydantic-2.7.4 pydantic-core-2.18.4\n"
     ]
    },
    {
     "name": "stderr",
     "output_type": "stream",
     "text": [
      "ERROR: pip's dependency resolver does not currently take into account all the packages that are installed. This behaviour is the source of the following dependency conflicts.\n",
      "anaconda-cloud-auth 0.1.4 requires pydantic<2.0, but you have pydantic 2.7.4 which is incompatible.\n"
     ]
    }
   ],
   "source": [
    "!pip install line-bot-sdk"
   ]
  },
  {
   "cell_type": "code",
   "execution_count": 8,
   "metadata": {},
   "outputs": [
    {
     "name": "stdout",
     "output_type": "stream",
     "text": [
      " * Serving Flask app '__main__'\n",
      " * Debug mode: off\n"
     ]
    },
    {
     "name": "stderr",
     "output_type": "stream",
     "text": [
      "WARNING: This is a development server. Do not use it in a production deployment. Use a production WSGI server instead.\n",
      " * Running on http://127.0.0.1:5000\n",
      "Press CTRL+C to quit\n",
      "C:\\Users\\33313\\AppData\\Local\\Temp\\ipykernel_804\\399825296.py:31: LineBotSdkDeprecatedIn30: Call to deprecated class LineBotApi. (Use v3 class; linebot.v3.<feature>. See https://github.com/line/line-bot-sdk-python/blob/master/README.rst for more details.) -- Deprecated since version 3.0.0.\n",
      "  line_bot_api = LineBotApi(access_token)\n",
      "C:\\Users\\33313\\AppData\\Local\\Temp\\ipykernel_804\\399825296.py:33: LineBotSdkDeprecatedIn30: Call to deprecated class WebhookHandler. (Use 'from linebot.v3.webhook import WebhookHandler' instead. See https://github.com/line/line-bot-sdk-python/blob/master/README.rst for more details.) -- Deprecated since version 3.0.0.\n",
      "  handler = WebhookHandler(secret)\n",
      "127.0.0.1 - - [25/Jun/2024 02:52:12] \"POST / HTTP/1.1\" 200 -\n"
     ]
    },
    {
     "name": "stdout",
     "output_type": "stream",
     "text": [
      "haha\n",
      "{\"destination\":\"U08e650068e375648db9be9c74cc0ae4a\",\"events\":[]}\n"
     ]
    },
    {
     "name": "stderr",
     "output_type": "stream",
     "text": [
      "127.0.0.1 - - [25/Jun/2024 02:53:30] \"POST / HTTP/1.1\" 200 -\n"
     ]
    },
    {
     "name": "stdout",
     "output_type": "stream",
     "text": [
      "haha\n",
      "{\"destination\":\"U08e650068e375648db9be9c74cc0ae4a\",\"events\":[]}\n",
      "haha\n",
      "hh\n",
      "hh\n"
     ]
    },
    {
     "name": "stderr",
     "output_type": "stream",
     "text": [
      "C:\\Users\\33313\\AppData\\Local\\Temp\\ipykernel_804\\399825296.py:52: LineBotSdkDeprecatedIn30: Call to deprecated method reply_message. (Use 'from linebot.v3.messaging import MessagingApi' and 'MessagingApi(...).reply_message(...)' instead. See https://github.com/line/line-bot-sdk-python/blob/master/README.rst for more details.) -- Deprecated since version 3.0.0.\n",
      "  line_bot_api.reply_message(tk,TextSendMessage(reply))\n",
      "127.0.0.1 - - [25/Jun/2024 02:53:40] \"POST / HTTP/1.1\" 200 -\n"
     ]
    }
   ],
   "source": [
    "from flask import Flask, request\n",
    "\n",
    "# 載入 json 標準函式庫，處理回傳的資料格式\n",
    "import json\n",
    "\n",
    "# 載入 LINE Message API 相關函式庫\n",
    "from linebot import LineBotApi, WebhookHandler\n",
    "from linebot.exceptions import InvalidSignatureError\n",
    "from linebot.models import MessageEvent, TextMessage, TextSendMessage\n",
    "\n",
    "\n",
    "class CFG:\n",
    "    # 你的 LINE Channel access token\n",
    "    Channel_access_token = \"RBHXK6bnUll4n6JN60fg90MQYF6J975RxR+Lsdrn9RldjhdyJMTzjqdDU5jx4cIDBDpxZIZWwBeqv0jX/4fmsSYejcSNsL0ohRf4xlAmQCx0Eg031Cz9A43jXgWSkHSuWoTskkqLrOwWrFitwha7FQdB04t89/1O/w1cDnyilFU\"\n",
    "    # 你的 LINE Channel secret\n",
    "    Channel_secret = \"6a9c1ffca393b5d4fd873fc3651d9b6a\"\n",
    "\n",
    "app = Flask(__name__)\n",
    "\n",
    "@app.route(\"/\", methods=['POST'])\n",
    "def linebot():\n",
    "     # 取得收到的訊息內容\n",
    "    body = request.get_data(as_text=True)\n",
    "    try:\n",
    "        # json 格式化訊息內容\n",
    "        json_data = json.loads(body)\n",
    "        access_token = CFG.Channel_access_token\n",
    "        secret = CFG.Channel_secret\n",
    "        # 確認 token 是否正確\n",
    "        line_bot_api = LineBotApi(access_token)\n",
    "        # 確認 secret 是否正確\n",
    "        handler = WebhookHandler(secret)\n",
    "        # 加入回傳的 headers\n",
    "        signature = request.headers['X-Line-Signature']\n",
    "        # 綁定訊息回傳的相關資訊\n",
    "        handler.handle(body, signature)\n",
    "        # 取得回傳訊息的 Token\n",
    "        tk = json_data['events'][0]['replyToken']\n",
    "        # 取得 LINe 收到的訊息類型\n",
    "        type = json_data['events'][0]['message']['type']\n",
    "        if type=='text':\n",
    "            # 取得 LINE 收到的文字訊息\n",
    "            msg = json_data['events'][0]['message']['text']\n",
    "            # 印出內容\n",
    "            print(msg)\n",
    "            reply = msg\n",
    "        else:\n",
    "            reply = '你傳的不是文字呦～'\n",
    "        print(reply)\n",
    "        # 回傳訊息\n",
    "        line_bot_api.reply_message(tk,TextSendMessage(reply))\n",
    "    except:\n",
    "        # 如果發生錯誤，印出收到的內容\n",
    "        print(body)\n",
    "    # 驗證 Webhook 使用，不能省略\n",
    "    return 'OK'\n",
    "\n",
    "if __name__ == \"__main__\":\n",
    "    app.run()"
   ]
  },
  {
   "attachments": {
    "image-2.png": {
     "image/png": "[encoded data removed]"
    },
    "image.png": {
     "image/png": "[encoded data removed]"
    }
   },
   "cell_type": "markdown",
   "metadata": {},
   "source": [
    "![image.png](attachment:image.png)\n",
    "![image-2.png](attachment:image-2.png)"
   ]
  }
 ],
 "metadata": {
  "kernelspec": {
   "display_name": "base",
   "language": "python",
   "name": "python3"
  },
  "language_info": {
   "codemirror_mode": {
    "name": "ipython",
    "version": 3
   },
   "file_extension": ".py",
   "mimetype": "text/x-python",
   "name": "python",
   "nbconvert_exporter": "python",
   "pygments_lexer": "ipython3",
   "version": "3.11.7"
  }
 },
 "nbformat": 4,
 "nbformat_minor": 2
}
