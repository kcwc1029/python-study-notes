{
 "cells": [
  {
   "cell_type": "markdown",
   "metadata": {},
   "source": [
    "## 建立工作表"
   ]
  },
  {
   "cell_type": "code",
   "execution_count": 20,
   "metadata": {},
   "outputs": [
    {
     "name": "stdout",
     "output_type": "stream",
     "text": [
      "所有工作表名稱 =  ['Sheet']\n",
      "所有工作表名稱 =  ['Sheet', 'First sheet']\n",
      "目前工作表名稱 =  Sheet\n"
     ]
    }
   ],
   "source": [
    "import openpyxl\n",
    "\n",
    "wb = openpyxl.Workbook()                    # 建立空白的活頁簿\n",
    "print(\"所有工作表名稱 = \", wb.sheetnames)   # 列印所有工作表\n",
    "wb.create_sheet(title='First sheet')         # 建立新工作表\n",
    "print(\"所有工作表名稱 = \", wb.sheetnames)   # 列印所有工作表\n",
    "ws = wb.active                              # 取得目前工作表\n",
    "print(\"目前工作表名稱 = \", ws.title)        # 列印目前工作表\n",
    "wb.save('一共兩個工作表.xlsx')                      # 將活頁簿儲存"
   ]
  },
  {
   "cell_type": "markdown",
   "metadata": {},
   "source": [
    "## 複製工作表"
   ]
  },
  {
   "cell_type": "code",
   "execution_count": 21,
   "metadata": {},
   "outputs": [
    {
     "name": "stdout",
     "output_type": "stream",
     "text": [
      "所有工作表名稱 =  ['Sheet', 'First sheet']\n",
      "所有工作表名稱 =  ['Sheet', 'First sheet', '複製一份新的工作表']\n"
     ]
    }
   ],
   "source": [
    "import openpyxl\n",
    "\n",
    "fn = \"建立一個excel.xlsx\"\n",
    "wb = openpyxl.load_workbook(fn)             # 開啟活頁簿\n",
    "print(\"所有工作表名稱 = \", wb.sheetnames)   # 列印所有工作表\n",
    "src = wb.active\n",
    "dst2 = wb.copy_worksheet(src)\n",
    "dst2.title = \"複製一份新的工作表\" # 如果名稱要更改，複製的話只能額外寫 \n",
    "print(\"所有工作表名稱 = \", wb.sheetnames)   # 列印所有工作表\n",
    "wb.save('一共三個工作表.xlsx')                      # 將活頁簿儲存"
   ]
  },
  {
   "cell_type": "markdown",
   "metadata": {},
   "source": [
    "有時候要做一月份複製12份這樣"
   ]
  },
  {
   "cell_type": "code",
   "execution_count": 22,
   "metadata": {},
   "outputs": [
    {
     "name": "stdout",
     "output_type": "stream",
     "text": [
      "所有工作表名稱 =  ['Sheet']\n",
      "所有工作表名稱 =  ['1月份']\n",
      "所有工作表名稱 =  ['1月份', '2月', '3月', '4月', '5月', '6月', '7月', '8月', '9月', '10月', '11月', '12月']\n"
     ]
    }
   ],
   "source": [
    "import openpyxl\n",
    "\n",
    "\n",
    "wb = openpyxl.Workbook()                    # 建立空白的活頁簿\n",
    "# wb = openpyxl.load_workbook(fn)             # 開啟活頁簿\n",
    "print(\"所有工作表名稱 = \", wb.sheetnames)   # 列印所有工作表\n",
    "src = wb.active\n",
    "src.title = \"1月份\"\n",
    "print(\"所有工作表名稱 = \", wb.sheetnames)   # 列印所有工作表\n",
    "for i in range(2,13):\n",
    "    dst = wb.copy_worksheet(src)\n",
    "    month = str(i) + \"月\"\n",
    "    dst.title = month\n",
    "print(\"所有工作表名稱 = \", wb.sheetnames)   # 列印所有工作表\n",
    "wb.save('建立12月分.xlsx')                     # 將活頁簿儲存"
   ]
  },
  {
   "cell_type": "markdown",
   "metadata": {},
   "source": [
    "## 刪除工作表\n",
    "\n",
    "可以使用remove或del，但主要還是remove"
   ]
  },
  {
   "cell_type": "code",
   "execution_count": 23,
   "metadata": {},
   "outputs": [
    {
     "name": "stdout",
     "output_type": "stream",
     "text": [
      "所有工作表名稱 =  ['Sheet', 'First sheet']\n",
      "所有工作表名稱 =  ['First sheet']\n"
     ]
    }
   ],
   "source": [
    "import openpyxl\n",
    "\n",
    "fn = \"一共兩個工作表.xlsx\"\n",
    "wb = openpyxl.load_workbook(fn)             # 開啟活頁簿\n",
    "print(\"所有工作表名稱 = \", wb.sheetnames)   \n",
    "wb.remove(wb['Sheet']) # 使用名稱刪除\n",
    "# wb.remove(wb.worksheets[1]) # 使用索引刪除\n",
    "print(\"所有工作表名稱 = \", wb.sheetnames)  \n",
    "# wb.save('out2_6.xlsx')                      # 將活頁簿儲存"
   ]
  },
  {
   "cell_type": "markdown",
   "metadata": {},
   "source": [
    "## 更改工作表顏色"
   ]
  },
  {
   "cell_type": "code",
   "execution_count": 24,
   "metadata": {},
   "outputs": [
    {
     "ename": "FileNotFoundError",
     "evalue": "[Errno 2] No such file or directory: 'data2_7.xlsx'",
     "output_type": "error",
     "traceback": [
      "\u001b[1;31m---------------------------------------------------------------------------\u001b[0m",
      "\u001b[1;31mFileNotFoundError\u001b[0m                         Traceback (most recent call last)",
      "Cell \u001b[1;32mIn[24], line 2\u001b[0m\n\u001b[0;32m      1\u001b[0m fn \u001b[38;5;241m=\u001b[39m \u001b[38;5;124m\"\u001b[39m\u001b[38;5;124mdata2_7.xlsx\u001b[39m\u001b[38;5;124m\"\u001b[39m\n\u001b[1;32m----> 2\u001b[0m wb \u001b[38;5;241m=\u001b[39m openpyxl\u001b[38;5;241m.\u001b[39mload_workbook(fn)             \u001b[38;5;66;03m# 開啟活頁簿\u001b[39;00m\n\u001b[0;32m      3\u001b[0m ws1 \u001b[38;5;241m=\u001b[39m wb[\u001b[38;5;124m'\u001b[39m\u001b[38;5;124m2025Q1\u001b[39m\u001b[38;5;124m'\u001b[39m]\n\u001b[0;32m      4\u001b[0m ws1\u001b[38;5;241m.\u001b[39msheet_properties\u001b[38;5;241m.\u001b[39mtabColor \u001b[38;5;241m=\u001b[39m \u001b[38;5;124m\"\u001b[39m\u001b[38;5;124m0000FF\u001b[39m\u001b[38;5;124m\"\u001b[39m\n",
      "File \u001b[1;32mc:\\Users\\33313\\anaconda3\\Lib\\site-packages\\openpyxl\\reader\\excel.py:315\u001b[0m, in \u001b[0;36mload_workbook\u001b[1;34m(filename, read_only, keep_vba, data_only, keep_links)\u001b[0m\n\u001b[0;32m    288\u001b[0m \u001b[38;5;28;01mdef\u001b[39;00m \u001b[38;5;21mload_workbook\u001b[39m(filename, read_only\u001b[38;5;241m=\u001b[39m\u001b[38;5;28;01mFalse\u001b[39;00m, keep_vba\u001b[38;5;241m=\u001b[39mKEEP_VBA,\n\u001b[0;32m    289\u001b[0m                   data_only\u001b[38;5;241m=\u001b[39m\u001b[38;5;28;01mFalse\u001b[39;00m, keep_links\u001b[38;5;241m=\u001b[39m\u001b[38;5;28;01mTrue\u001b[39;00m):\n\u001b[0;32m    290\u001b[0m \u001b[38;5;250m    \u001b[39m\u001b[38;5;124;03m\"\"\"Open the given filename and return the workbook\u001b[39;00m\n\u001b[0;32m    291\u001b[0m \n\u001b[0;32m    292\u001b[0m \u001b[38;5;124;03m    :param filename: the path to open or a file-like object\u001b[39;00m\n\u001b[1;32m   (...)\u001b[0m\n\u001b[0;32m    313\u001b[0m \n\u001b[0;32m    314\u001b[0m \u001b[38;5;124;03m    \"\"\"\u001b[39;00m\n\u001b[1;32m--> 315\u001b[0m     reader \u001b[38;5;241m=\u001b[39m ExcelReader(filename, read_only, keep_vba,\n\u001b[0;32m    316\u001b[0m                         data_only, keep_links)\n\u001b[0;32m    317\u001b[0m     reader\u001b[38;5;241m.\u001b[39mread()\n\u001b[0;32m    318\u001b[0m     \u001b[38;5;28;01mreturn\u001b[39;00m reader\u001b[38;5;241m.\u001b[39mwb\n",
      "File \u001b[1;32mc:\\Users\\33313\\anaconda3\\Lib\\site-packages\\openpyxl\\reader\\excel.py:124\u001b[0m, in \u001b[0;36mExcelReader.__init__\u001b[1;34m(self, fn, read_only, keep_vba, data_only, keep_links)\u001b[0m\n\u001b[0;32m    122\u001b[0m \u001b[38;5;28;01mdef\u001b[39;00m \u001b[38;5;21m__init__\u001b[39m(\u001b[38;5;28mself\u001b[39m,  fn, read_only\u001b[38;5;241m=\u001b[39m\u001b[38;5;28;01mFalse\u001b[39;00m, keep_vba\u001b[38;5;241m=\u001b[39mKEEP_VBA,\n\u001b[0;32m    123\u001b[0m               data_only\u001b[38;5;241m=\u001b[39m\u001b[38;5;28;01mFalse\u001b[39;00m, keep_links\u001b[38;5;241m=\u001b[39m\u001b[38;5;28;01mTrue\u001b[39;00m):\n\u001b[1;32m--> 124\u001b[0m     \u001b[38;5;28mself\u001b[39m\u001b[38;5;241m.\u001b[39marchive \u001b[38;5;241m=\u001b[39m _validate_archive(fn)\n\u001b[0;32m    125\u001b[0m     \u001b[38;5;28mself\u001b[39m\u001b[38;5;241m.\u001b[39mvalid_files \u001b[38;5;241m=\u001b[39m \u001b[38;5;28mself\u001b[39m\u001b[38;5;241m.\u001b[39marchive\u001b[38;5;241m.\u001b[39mnamelist()\n\u001b[0;32m    126\u001b[0m     \u001b[38;5;28mself\u001b[39m\u001b[38;5;241m.\u001b[39mread_only \u001b[38;5;241m=\u001b[39m read_only\n",
      "File \u001b[1;32mc:\\Users\\33313\\anaconda3\\Lib\\site-packages\\openpyxl\\reader\\excel.py:96\u001b[0m, in \u001b[0;36m_validate_archive\u001b[1;34m(filename)\u001b[0m\n\u001b[0;32m     89\u001b[0m             msg \u001b[38;5;241m=\u001b[39m (\u001b[38;5;124m'\u001b[39m\u001b[38;5;124mopenpyxl does not support \u001b[39m\u001b[38;5;132;01m%s\u001b[39;00m\u001b[38;5;124m file format, \u001b[39m\u001b[38;5;124m'\u001b[39m\n\u001b[0;32m     90\u001b[0m                    \u001b[38;5;124m'\u001b[39m\u001b[38;5;124mplease check you can open \u001b[39m\u001b[38;5;124m'\u001b[39m\n\u001b[0;32m     91\u001b[0m                    \u001b[38;5;124m'\u001b[39m\u001b[38;5;124mit with Excel first. \u001b[39m\u001b[38;5;124m'\u001b[39m\n\u001b[0;32m     92\u001b[0m                    \u001b[38;5;124m'\u001b[39m\u001b[38;5;124mSupported formats are: \u001b[39m\u001b[38;5;132;01m%s\u001b[39;00m\u001b[38;5;124m'\u001b[39m) \u001b[38;5;241m%\u001b[39m (file_format,\n\u001b[0;32m     93\u001b[0m                                                    \u001b[38;5;124m'\u001b[39m\u001b[38;5;124m,\u001b[39m\u001b[38;5;124m'\u001b[39m\u001b[38;5;241m.\u001b[39mjoin(SUPPORTED_FORMATS))\n\u001b[0;32m     94\u001b[0m         \u001b[38;5;28;01mraise\u001b[39;00m InvalidFileException(msg)\n\u001b[1;32m---> 96\u001b[0m archive \u001b[38;5;241m=\u001b[39m ZipFile(filename, \u001b[38;5;124m'\u001b[39m\u001b[38;5;124mr\u001b[39m\u001b[38;5;124m'\u001b[39m)\n\u001b[0;32m     97\u001b[0m \u001b[38;5;28;01mreturn\u001b[39;00m archive\n",
      "File \u001b[1;32mc:\\Users\\33313\\anaconda3\\Lib\\zipfile.py:1284\u001b[0m, in \u001b[0;36mZipFile.__init__\u001b[1;34m(self, file, mode, compression, allowZip64, compresslevel, strict_timestamps, metadata_encoding)\u001b[0m\n\u001b[0;32m   1282\u001b[0m \u001b[38;5;28;01mwhile\u001b[39;00m \u001b[38;5;28;01mTrue\u001b[39;00m:\n\u001b[0;32m   1283\u001b[0m     \u001b[38;5;28;01mtry\u001b[39;00m:\n\u001b[1;32m-> 1284\u001b[0m         \u001b[38;5;28mself\u001b[39m\u001b[38;5;241m.\u001b[39mfp \u001b[38;5;241m=\u001b[39m io\u001b[38;5;241m.\u001b[39mopen(file, filemode)\n\u001b[0;32m   1285\u001b[0m     \u001b[38;5;28;01mexcept\u001b[39;00m \u001b[38;5;167;01mOSError\u001b[39;00m:\n\u001b[0;32m   1286\u001b[0m         \u001b[38;5;28;01mif\u001b[39;00m filemode \u001b[38;5;129;01min\u001b[39;00m modeDict:\n",
      "\u001b[1;31mFileNotFoundError\u001b[0m: [Errno 2] No such file or directory: 'data2_7.xlsx'"
     ]
    }
   ],
   "source": [
    "fn = \"data2_7.xlsx\"\n",
    "wb = openpyxl.load_workbook(fn)             # 開啟活頁簿\n",
    "ws1 = wb['2025Q1']\n",
    "ws1.sheet_properties.tabColor = \"0000FF\"\n",
    "ws2 = wb['2025Q2']\n",
    "ws2.sheet_properties.tabColor = \"00FF00\"\n",
    "ws3 = wb['2025Q3']\n",
    "ws3.sheet_properties.tabColor = \"FF0000\"\n",
    "ws4 = wb['2025Q4']\n",
    "ws4.sheet_properties.tabColor = \"FFFF00\"\n",
    "wb.save('out2_7.xlsx')                      # 將活頁簿儲存"
   ]
  },
  {
   "cell_type": "markdown",
   "metadata": {},
   "source": [
    "## 保護/取消工作表"
   ]
  },
  {
   "cell_type": "code",
   "execution_count": null,
   "metadata": {},
   "outputs": [],
   "source": [
    "import openpyxl\n",
    "\n",
    "fn = \"一共三個工作表.xlsx\"\n",
    "wb = openpyxl.load_workbook(fn)\n",
    "\n",
    "ws = wb.active # 獲取當前活躍的工作表\n",
    "\n",
    "# 啟用保護\n",
    "ws.protection.sheet = True\n",
    "ws.protection.enable()\n",
    "\n",
    "# 取消保護\n",
    "# ws.protection.sheet = False\n",
    "\n",
    "# 設定密碼\n",
    "# ws.protection.password = \"123456\"\n",
    "wb.save(fn)"
   ]
  },
  {
   "cell_type": "markdown",
   "metadata": {},
   "source": [
    "## 建立多個工作表"
   ]
  },
  {
   "cell_type": "code",
   "execution_count": 8,
   "metadata": {},
   "outputs": [
    {
     "name": "stdout",
     "output_type": "stream",
     "text": [
      "0 1 2 3 4 5 6 7 8 9 10 11 12 13 14 15 16 17 18 19 20 21 22 23 24 25 26 27 28 29 \n",
      "0 1 2 3 4 5 6 7 8 9 10 11 12 13 14 15 16 17 18 19 20 21 22 23 24 25 26 27 28 29 \n",
      "0 1 2 3 4 5 6 7 8 9 10 11 12 13 14 15 16 17 18 19 20 21 22 23 24 25 26 27 28 29 \n",
      "0 1 2 3 4 5 6 7 8 9 10 11 12 13 14 15 16 17 18 19 20 21 22 23 24 25 26 27 28 29 \n"
     ]
    }
   ],
   "source": [
    "import openpyxl\n",
    "from openpyxl.utils import get_column_letter\n",
    "wb = openpyxl.Workbook()\n",
    "ws1 = wb.active\n",
    "ws1.title = \"DataRange\"\n",
    "for row in range(1, 5):\n",
    "    ws1.append(range(30))\n",
    "\n",
    "ws2 = wb.create_sheet(title=\"School\")\n",
    "ws2['F5'] = \"國立成功大學\"\n",
    "ws3 = wb.create_sheet(title=\"Data\")\n",
    "for row in range(10, 20):\n",
    "    for col in range(27, 54):\n",
    "        ws3.cell(column=col,row=row,value=\"{0}\".format(get_column_letter(col)))\n",
    "\n",
    "# 輸出資料\n",
    "for row in wb[\"DataRange\"].iter_rows():\n",
    "    for cell in row:\n",
    "        print(f\"{cell.value}\", end=\" \")\n",
    "    print()\n",
    "# wb.save(\"out4_1.xlsx\")"
   ]
  },
  {
   "cell_type": "markdown",
   "metadata": {},
   "source": [
    "從這邊開始"
   ]
  },
  {
   "cell_type": "code",
   "execution_count": 13,
   "metadata": {},
   "outputs": [
    {
     "name": "stdout",
     "output_type": "stream",
     "text": [
      "天空SPA客戶資料 None None None None \n",
      "姓名 地區 性別 身高 身份 \n",
      "洪冰儒 士林 男 170 會員 \n",
      "洪雨星 中正 男 165 會員 \n",
      "洪星宇 信義 男 171 非會員 \n",
      "洪冰雨 信義 女 162 會員 \n",
      "郭孟華 士林 女 165 會員 \n",
      "陳新華 信義 男 178 會員 \n",
      "謝冰 士林 女 166 會員 \n"
     ]
    }
   ],
   "source": [
    "import openpyxl \n",
    "\n",
    "fn = \"天空SPA客戶資料.xlsx\"             # 來源活頁簿\n",
    "wb = openpyxl.load_workbook(fn)\n",
    "ws = wb.active\n",
    "\n",
    "# 輸出資料\n",
    "for row in ws.iter_rows(values_only=True):  # 确保只获取值\n",
    "    for cell in row:\n",
    "        print(f\"{cell}\", end=\" \")\n",
    "    print()\n"
   ]
  },
  {
   "cell_type": "code",
   "execution_count": 9,
   "metadata": {},
   "outputs": [
    {
     "ename": "FileNotFoundError",
     "evalue": "[Errno 2] No such file or directory: 'data4_2.xlsx'",
     "output_type": "error",
     "traceback": [
      "\u001b[0;31m---------------------------------------------------------------------------\u001b[0m",
      "\u001b[0;31mFileNotFoundError\u001b[0m                         Traceback (most recent call last)",
      "Cell \u001b[0;32mIn[9], line 4\u001b[0m\n\u001b[1;32m      1\u001b[0m \u001b[39mimport\u001b[39;00m \u001b[39mopenpyxl\u001b[39;00m \n\u001b[1;32m      3\u001b[0m fn \u001b[39m=\u001b[39m \u001b[39m\"\u001b[39m\u001b[39mdata4_2.xlsx\u001b[39m\u001b[39m\"\u001b[39m             \u001b[39m# 來源活頁簿\u001b[39;00m\n\u001b[0;32m----> 4\u001b[0m wb \u001b[39m=\u001b[39m openpyxl\u001b[39m.\u001b[39mload_workbook(fn)\n\u001b[1;32m      5\u001b[0m ws \u001b[39m=\u001b[39m wb\u001b[39m.\u001b[39mactive\n\u001b[1;32m      7\u001b[0m new_wb \u001b[39m=\u001b[39m openpyxl\u001b[39m.\u001b[39mWorkbook()    \u001b[39m# 建立目的的活頁簿\u001b[39;00m\n",
      "File \u001b[0;32m~/anaconda3/lib/python3.11/site-packages/openpyxl/reader/excel.py:315\u001b[0m, in \u001b[0;36mload_workbook\u001b[0;34m(filename, read_only, keep_vba, data_only, keep_links)\u001b[0m\n\u001b[1;32m    288\u001b[0m \u001b[39mdef\u001b[39;00m \u001b[39mload_workbook\u001b[39m(filename, read_only\u001b[39m=\u001b[39m\u001b[39mFalse\u001b[39;00m, keep_vba\u001b[39m=\u001b[39mKEEP_VBA,\n\u001b[1;32m    289\u001b[0m                   data_only\u001b[39m=\u001b[39m\u001b[39mFalse\u001b[39;00m, keep_links\u001b[39m=\u001b[39m\u001b[39mTrue\u001b[39;00m):\n\u001b[1;32m    290\u001b[0m \u001b[39m    \u001b[39m\u001b[39m\"\"\"Open the given filename and return the workbook\u001b[39;00m\n\u001b[1;32m    291\u001b[0m \n\u001b[1;32m    292\u001b[0m \u001b[39m    :param filename: the path to open or a file-like object\u001b[39;00m\n\u001b[0;32m   (...)\u001b[0m\n\u001b[1;32m    313\u001b[0m \n\u001b[1;32m    314\u001b[0m \u001b[39m    \"\"\"\u001b[39;00m\n\u001b[0;32m--> 315\u001b[0m     reader \u001b[39m=\u001b[39m ExcelReader(filename, read_only, keep_vba,\n\u001b[1;32m    316\u001b[0m                         data_only, keep_links)\n\u001b[1;32m    317\u001b[0m     reader\u001b[39m.\u001b[39mread()\n\u001b[1;32m    318\u001b[0m     \u001b[39mreturn\u001b[39;00m reader\u001b[39m.\u001b[39mwb\n",
      "File \u001b[0;32m~/anaconda3/lib/python3.11/site-packages/openpyxl/reader/excel.py:124\u001b[0m, in \u001b[0;36mExcelReader.__init__\u001b[0;34m(self, fn, read_only, keep_vba, data_only, keep_links)\u001b[0m\n\u001b[1;32m    122\u001b[0m \u001b[39mdef\u001b[39;00m \u001b[39m__init__\u001b[39m(\u001b[39mself\u001b[39m,  fn, read_only\u001b[39m=\u001b[39m\u001b[39mFalse\u001b[39;00m, keep_vba\u001b[39m=\u001b[39mKEEP_VBA,\n\u001b[1;32m    123\u001b[0m               data_only\u001b[39m=\u001b[39m\u001b[39mFalse\u001b[39;00m, keep_links\u001b[39m=\u001b[39m\u001b[39mTrue\u001b[39;00m):\n\u001b[0;32m--> 124\u001b[0m     \u001b[39mself\u001b[39m\u001b[39m.\u001b[39marchive \u001b[39m=\u001b[39m _validate_archive(fn)\n\u001b[1;32m    125\u001b[0m     \u001b[39mself\u001b[39m\u001b[39m.\u001b[39mvalid_files \u001b[39m=\u001b[39m \u001b[39mself\u001b[39m\u001b[39m.\u001b[39marchive\u001b[39m.\u001b[39mnamelist()\n\u001b[1;32m    126\u001b[0m     \u001b[39mself\u001b[39m\u001b[39m.\u001b[39mread_only \u001b[39m=\u001b[39m read_only\n",
      "File \u001b[0;32m~/anaconda3/lib/python3.11/site-packages/openpyxl/reader/excel.py:96\u001b[0m, in \u001b[0;36m_validate_archive\u001b[0;34m(filename)\u001b[0m\n\u001b[1;32m     89\u001b[0m             msg \u001b[39m=\u001b[39m (\u001b[39m'\u001b[39m\u001b[39mopenpyxl does not support \u001b[39m\u001b[39m%s\u001b[39;00m\u001b[39m file format, \u001b[39m\u001b[39m'\u001b[39m\n\u001b[1;32m     90\u001b[0m                    \u001b[39m'\u001b[39m\u001b[39mplease check you can open \u001b[39m\u001b[39m'\u001b[39m\n\u001b[1;32m     91\u001b[0m                    \u001b[39m'\u001b[39m\u001b[39mit with Excel first. \u001b[39m\u001b[39m'\u001b[39m\n\u001b[1;32m     92\u001b[0m                    \u001b[39m'\u001b[39m\u001b[39mSupported formats are: \u001b[39m\u001b[39m%s\u001b[39;00m\u001b[39m'\u001b[39m) \u001b[39m%\u001b[39m (file_format,\n\u001b[1;32m     93\u001b[0m                                                    \u001b[39m'\u001b[39m\u001b[39m,\u001b[39m\u001b[39m'\u001b[39m\u001b[39m.\u001b[39mjoin(SUPPORTED_FORMATS))\n\u001b[1;32m     94\u001b[0m         \u001b[39mraise\u001b[39;00m InvalidFileException(msg)\n\u001b[0;32m---> 96\u001b[0m archive \u001b[39m=\u001b[39m ZipFile(filename, \u001b[39m'\u001b[39m\u001b[39mr\u001b[39m\u001b[39m'\u001b[39m)\n\u001b[1;32m     97\u001b[0m \u001b[39mreturn\u001b[39;00m archive\n",
      "File \u001b[0;32m~/anaconda3/lib/python3.11/zipfile.py:1284\u001b[0m, in \u001b[0;36mZipFile.__init__\u001b[0;34m(self, file, mode, compression, allowZip64, compresslevel, strict_timestamps, metadata_encoding)\u001b[0m\n\u001b[1;32m   1282\u001b[0m \u001b[39mwhile\u001b[39;00m \u001b[39mTrue\u001b[39;00m:\n\u001b[1;32m   1283\u001b[0m     \u001b[39mtry\u001b[39;00m:\n\u001b[0;32m-> 1284\u001b[0m         \u001b[39mself\u001b[39m\u001b[39m.\u001b[39mfp \u001b[39m=\u001b[39m io\u001b[39m.\u001b[39mopen(file, filemode)\n\u001b[1;32m   1285\u001b[0m     \u001b[39mexcept\u001b[39;00m \u001b[39mOSError\u001b[39;00m:\n\u001b[1;32m   1286\u001b[0m         \u001b[39mif\u001b[39;00m filemode \u001b[39min\u001b[39;00m modeDict:\n",
      "\u001b[0;31mFileNotFoundError\u001b[0m: [Errno 2] No such file or directory: 'data4_2.xlsx'"
     ]
    }
   ],
   "source": [
    "import openpyxl \n",
    "\n",
    "fn = \"data4_2.xlsx\"             # 來源活頁簿\n",
    "wb = openpyxl.load_workbook(fn)\n",
    "ws = wb.active\n",
    "\n",
    "new_wb = openpyxl.Workbook()    # 建立目的的活頁簿\n",
    "new_ws = new_wb.active\n",
    "# 輸出資料\n",
    "for row in wb[\"DataRange\"].iter_rows():\n",
    "    for cell in row:\n",
    "        print(f\"{cell.value}\", end=\" \")\n",
    "    print()\n",
    "\n",
    "# for m in range(1, ws.max_row+1):\n",
    "#     for n in range(65, 65+ws.max_column):   # 65是A\n",
    "#         ch = chr(n)              # 將ASCII碼值轉字元\n",
    "#         index = ch + str(m)\n",
    "#         data =  ws[index].value\n",
    "#         new_ws[index].value = data  # 寫入目的活頁簿\n",
    "\n",
    "# new_wb.save(\"out4_2.xlsx\")          # 儲存結果\n"
   ]
  },
  {
   "cell_type": "code",
   "execution_count": 15,
   "metadata": {},
   "outputs": [
    {
     "ename": "NameError",
     "evalue": "name '將xlsx裡面所有工作表個別獨立成' is not defined",
     "output_type": "error",
     "traceback": [
      "\u001b[0;31m---------------------------------------------------------------------------\u001b[0m",
      "\u001b[0;31mNameError\u001b[0m                                 Traceback (most recent call last)",
      "Cell \u001b[0;32mIn[15], line 1\u001b[0m\n\u001b[0;32m----> 1\u001b[0m 將xlsx裡面所有工作表個別獨立成\n\u001b[1;32m      2\u001b[0m \u001b[39mimport\u001b[39;00m \u001b[39mopenpyxl\u001b[39;00m \n\u001b[1;32m      4\u001b[0m fn \u001b[39m=\u001b[39m \u001b[39m\"\u001b[39m\u001b[39m各公司資料.xlsx\u001b[39m\u001b[39m\"\u001b[39m                 \u001b[39m# 來源活頁簿\u001b[39;00m\n",
      "\u001b[0;31mNameError\u001b[0m: name '將xlsx裡面所有工作表個別獨立成' is not defined"
     ]
    }
   ],
   "source": [
    "# 將xlsx裡面所有工作表個別獨立成\n",
    "import openpyxl \n",
    "\n",
    "fn = \"各公司資料.xlsx\"                 # 來源活頁簿\n",
    "wb = openpyxl.load_workbook(fn)\n",
    "ws = wb.active\n",
    "for i in range(4):\n",
    "    ws = wb.worksheets[i]\n",
    "    fname = ws.title\n",
    "    new_wb = openpyxl.Workbook()    # 建立目的的活頁簿\n",
    "    new_ws = new_wb.active\n",
    "    for data in ws.iter_rows(min_row=1,max_row=ws.max_row,\n",
    "            min_col=1,max_col=ws.max_column, values_only=True):\n",
    "        value = list(data)\n",
    "        new_ws.append(value)        # 寫入目的活頁簿\n",
    "    fname = fname + '.xlsx'\n",
    "    new_wb.save(fname)              # 儲存結果"
   ]
  },
  {
   "cell_type": "code",
   "execution_count": null,
   "metadata": {},
   "outputs": [],
   "source": []
  }
 ],
 "metadata": {
  "kernelspec": {
   "display_name": "base",
   "language": "python",
   "name": "python3"
  },
  "language_info": {
   "codemirror_mode": {
    "name": "ipython",
    "version": 3
   },
   "file_extension": ".py",
   "mimetype": "text/x-python",
   "name": "python",
   "nbconvert_exporter": "python",
   "pygments_lexer": "ipython3",
   "version": "3.11.5"
  }
 },
 "nbformat": 4,
 "nbformat_minor": 2
}
