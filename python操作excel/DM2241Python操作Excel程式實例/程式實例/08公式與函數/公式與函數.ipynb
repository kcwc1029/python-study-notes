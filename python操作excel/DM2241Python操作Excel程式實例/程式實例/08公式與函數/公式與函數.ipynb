{
 "cells": [
  {
   "cell_type": "markdown",
   "metadata": {},
   "source": [
    "查看可以解析的函數"
   ]
  },
  {
   "cell_type": "code",
   "execution_count": 1,
   "metadata": {},
   "outputs": [
    {
     "name": "stdout",
     "output_type": "stream",
     "text": [
      "<class 'frozenset'>\n",
      "352\n",
      "frozenset({'RADIANS', 'NPV', 'ACCRINTM', 'SUM', 'DGET', 'HLOOKUP', 'DURATION', 'SINH', 'ISBLANK', 'PRICEMAT', 'SUMIF', 'T', 'VALUE', 'VLOOKUP', 'FINDB', 'SUMSQ', 'BESSELY', 'LN', 'CUBESET', 'PERCENTILE', 'COUPDAYS', 'ISTEXT', 'NORMSINV', 'COLUMNS', 'MODE', 'MATCH', 'MINA', 'ATANH', 'SERIESSUM', 'IMABS', 'LOGINV', 'SEARCH', 'IMEXP', 'ODDLYIELD', 'MEDIAN', 'BETADIST', 'EXP', 'YEAR', 'ISERROR', 'FACTDOUBLE', 'ROUNDUP', 'FREQUENCY', 'SECOND', 'YIELD', 'SUMPRODUCT', 'ASIN', 'INTERCEPT', 'FTEST', 'CONCATENATE', 'CONVERT', 'LOWER', 'RSQ', 'CODE', 'HOUR', 'COUPPCD', 'COUNT', 'POISSON', 'CONFIDENCE', 'VAR', 'DMAX', 'TBILLYIELD', 'FACT', 'EXACT', 'DAYS360', 'AVERAGEA', 'ISNONTEXT', 'RIGHTB', 'MINVERSE', 'ERFC', 'YEARFRAC', 'DATEDIF', 'CUMPRINC', 'FDIST', 'SKEW', 'INT', 'LOGEST', 'HARMEAN', 'NORMINV', 'COSH', 'TINV', 'SUBSTITUTE', 'IMREAL', 'TRUE ADDRESS', 'BETAINV', 'ATAN2', 'DOLLARFR', 'LOG', 'HYPGEOMDIST', 'SLOPE', 'COMPLEX', 'ROUNDDOWN', 'DELTA', 'PEARSON', 'RECEIVED', 'DATEVALUE', 'YIELDMAT', 'EFFECT', 'HEX2DEC', 'ODDFPRICE', 'MID', 'MIN', 'DAY', 'FISHERINV', 'DMIN', 'OFFSET', 'PROPER', 'GCD', 'IMAGINARY', 'SUBTOTAL', 'LARGE', 'NETWORKDAYS', 'REPLACE', 'RTD', 'EDATE', 'AMORLINC', 'HEX2OCT', 'OCT2DEC', 'PPMT', 'DSUM', 'ISO.CEILING', 'FALSE', 'CHIINV', 'SUMXMY2', 'DCOUNTA', 'ODDLPRICE', 'AVEDEV', 'ACCRINT', 'MOD', 'CUMIPMT', 'ISERR', 'WEIBULL', 'PMT', 'TTEST', 'ISEVEN', 'WORKDAY ', 'SLN', 'COUPNUM', 'STDEVP', 'IMSQRT', 'LINEST', 'NEGBINOMDIST', 'DISC', 'CORREL', 'DEGREES', 'IMPOWER', 'MIDB', 'IMPRODUCT', 'ISLOGICAL', 'ERROR.TYPE', 'TIME', 'TRIM', 'CLEAN', 'OCT2HEX', 'TAN', 'EOMONTH', 'IMSIN', 'REPLACEB', 'FORECAST', 'INTRATE', 'PI', 'VARPA', 'DSTDEV', 'IFERROR', 'DVARP', 'PRICE', 'BESSELI', 'IMCOS', 'FV', 'IMDIV', 'GESTEP', 'INDIRECT', 'MAX', 'IMLOG2', 'BIN2HEX', 'CUBEVALUE', 'IMSUM', 'MAXA', 'AND', 'CUBEMEMBERPROPERTY', 'IMCONJUGATE', 'RANK', 'NETWORKDAYS.INTL', 'OCT2BIN', 'DAVERAGE', 'AVERAGE', 'DEC2HEX', 'COUPNCD', 'DEC2OCT', 'BESSELJ', 'YIELDDISC', 'LEFTB', 'PV', 'ACOSH', 'FISHER', 'DVAR', 'ISNA', 'VARA', 'XIRR', 'SMALL', 'TREND', 'SIN', 'AREAS', 'KURT', 'FLOOR', 'TRANSPOSE', 'IMARGUMENT', 'MONTH', 'GAMMADIST', 'PRODUCT', 'ATAN', 'RAND', 'CHITEST', 'CHIDIST', 'XNPV', 'TBILLPRICE', 'TRUNC', 'RANDBETWEEN', 'PRICEDISC', 'AMORDEGRC', 'DEVSQ', 'COUNTIFS', 'IMSUB', 'COVAR', 'FIXED', 'TEXT', 'COUPDAYSNC', 'VARP', 'NPER', 'DOLLAR', 'IF', 'QUOTIENT', 'ISODD', 'NOW', 'NOMINAL', 'EXPONDIST', 'TANH', 'PERMUT', 'MIRR', 'COS', 'ACOS', 'COMBIN', 'VDB', 'FINV', 'REPT', 'CRITBINOM', 'RIGHT', 'LOGNORMDIST', 'COUNTA', 'HEX2BIN', 'SEARCHB', 'GAMMALN', 'ISPMT', 'IRR', 'GETPIVOTDATA', 'DOLLARDE', 'TRIMMEAN', 'CHAR', 'CELL', 'ROW', 'GEOMEAN', 'CUBEKPIMEMBER', 'ODDFYIELD', 'WEEKDAY', 'POWER', 'LEN', 'RATE', 'SYD', 'TBILLEQ', 'N', 'SIGN', 'ABS', 'IPMT', 'ISNUMBER', 'INDEX', 'ERF', 'DATE', 'TYPE', 'CEILING', 'SUMIFS', 'CUBERANKEDMEMBER', 'FVSCHEDULE', 'NOT', 'MULTINOMIAL', 'MROUND', 'SQRTPI', 'SQRT', 'BAHTTEXT', 'TIMEVALUE', 'FIND', 'ZTEST', 'LOG10', 'AVERAGEIFS', 'PERCENTRANK', 'JIS', 'STANDARDIZE', 'UPPER', 'COUNTBLANK', 'ROWS', 'QUARTILE', 'MMULT', 'WORKDAY.INTL', 'NORMSDIST', 'DDB', 'NA', 'LOOKUP', 'LENB', 'BINOMDIST', 'COLUMN', 'STDEVPA STEYX', 'ASC', 'STDEV STDEVA', 'DEC2BIN', 'OR', 'NORMDIST', 'ISREF', 'DCOUNT', 'PROB', 'BIN2OCT', 'PHONETIC', 'LEFT', 'ODD', 'LCM', 'CHOOSE', 'ASINH', 'MINUTE', 'BIN2DEC', 'IMLOG10', 'AVERAGEIF', 'GROWTH', 'MDETERM', 'TDIST', 'ROMAN', 'DPRODUCT', 'HYPERLINK', 'ECMA.CEILING', 'MDURATION', 'COUNTIF', 'GAMMAINV', 'COUPDAYBS', 'IMLN', 'SUMX2PY2', 'BESSELK', 'CUBESETCOUNT', 'DB', 'SUMX2MY2', 'EVEN', 'TODAY', 'CUBEMEMBER', 'INFO', 'WEEKNUM', 'ROUND', 'DSTDEVP'})\n"
     ]
    }
   ],
   "source": [
    "import openpyxl\n",
    "from openpyxl.utils import FORMULAE\n",
    "\n",
    "print(type(FORMULAE))\n",
    "print(len(FORMULAE))\n",
    "print(FORMULAE)"
   ]
  },
  {
   "cell_type": "code",
   "execution_count": 2,
   "metadata": {},
   "outputs": [
    {
     "name": "stdout",
     "output_type": "stream",
     "text": [
      "TODAY : True\n",
      "today : False\n",
      "SUM   : True\n",
      "sum   : False\n",
      "TEST  : False\n"
     ]
    }
   ],
   "source": [
    "# 檢查函數是否可以使用\n",
    "import openpyxl\n",
    "from openpyxl.utils import FORMULAE\n",
    "\n",
    "print(f\"TODAY : {'TODAY' in FORMULAE}\")\n",
    "print(f\"today : {'today' in FORMULAE}\")\n",
    "print(f\"SUM   : {'SUM' in FORMULAE}\")\n",
    "print(f\"sum   : {'sum' in FORMULAE}\")\n",
    "print(f\"TEST  : {'TEST' in FORMULAE}\")"
   ]
  },
  {
   "cell_type": "markdown",
   "metadata": {},
   "source": [
    "## 在工作表內使用函數"
   ]
  },
  {
   "cell_type": "code",
   "execution_count": 1,
   "metadata": {},
   "outputs": [],
   "source": [
    "import openpyxl\n",
    "\n",
    "fn = \"業績表.xlsx\"\n",
    "wb = openpyxl.load_workbook(fn)\n",
    "ws = wb.active\n",
    "ws['C7'] = \"=SUM(C4:C6)\"\n",
    "# ws.cell(row=7,column=3,value=\"=SUM(C4:C6)\")\n",
    "\n",
    "wb.save(\"單欄計算總和公式.xlsx\")"
   ]
  },
  {
   "cell_type": "markdown",
   "metadata": {},
   "source": [
    "使用for迴圈複製公式"
   ]
  },
  {
   "cell_type": "code",
   "execution_count": null,
   "metadata": {},
   "outputs": [],
   "source": [
    "import openpyxl\n",
    "from openpyxl.utils import get_column_letter\n",
    "\n",
    "fn = \"業績表.xlsx\"\n",
    "wb = openpyxl.load_workbook(fn)\n",
    "ws = wb.active\n",
    "for i in range(3,7):\n",
    "    ch = get_column_letter(i)       # 將數字轉成欄位\n",
    "    index = ch + str(7)\n",
    "    start_index = ch + str(4)\n",
    "    end_index = ch + str(6)\n",
    "    ws[index] = \"=SUM({}:{})\".format(start_index,end_index)\n",
    "wb.save(\"out9_8.xlsx\")\n"
   ]
  },
  {
   "cell_type": "markdown",
   "metadata": {},
   "source": [
    "## 計算年資\n",
    "\n",
    "使用 DATEDIF（）函數可以計算兩個時間的差距，此差距可以返回年、月、日、不滿一年的月數、不滿一年的日數、不滿一個月的日數，函數的使用格式如下：\n",
    "\n",
    "`DATEDIF（ 起始日，終止日，單位）`\n",
    "\n",
    "上述參數單位使用方式如下：\n",
    "- Y：傳回完整的年數\n",
    "- M：傳回完整的月數\n",
    "- D：傳回完整的日數\n",
    "- YM：傳回不滿一年的月數\n",
    "- YD：傳回不滿一年的日數\n",
    "- MD：傳回不滿一個月的日數"
   ]
  },
  {
   "cell_type": "code",
   "execution_count": 4,
   "metadata": {},
   "outputs": [],
   "source": [
    "import openpyxl\n",
    "\n",
    "fn = \"計算年資表.xlsx\"\n",
    "wb = openpyxl.load_workbook(fn)\n",
    "ws = wb.active\n",
    "ws['C3'] = \"=TODAY()\"\n",
    "ws['C3'].number_format = 'yyyy/m/d'\n",
    "ws['E6'] = '=DATEDIF(D6,$C$3,\"Y\")'\n",
    "ws['F6'] = '=DATEDIF(D6,$C$3,\"YM\")'\n",
    "ws['G6'] = '=DATEDIF(D6,$C$3,\"MD\")'\n",
    "wb.save(\"計算年資表輸出.xlsx\")"
   ]
  },
  {
   "cell_type": "markdown",
   "metadata": {},
   "source": [
    "## 計算銷售排名\n",
    "Excel 提供排序函數 RANK（），我們可以由這個函數很快速列出商品的銷售排名資料。這個函數的語法如下：\n",
    "\n",
    "`RANK（數值，範圍，排序方法）`"
   ]
  },
  {
   "cell_type": "code",
   "execution_count": 5,
   "metadata": {},
   "outputs": [],
   "source": [
    "import openpyxl\n",
    "\n",
    "fn = \"銷售排名.xlsx\"\n",
    "wb = openpyxl.load_workbook(fn)\n",
    "ws = wb.active\n",
    "ws['E4'] = \"=RANK(D4,$D$4:$D$9)\"\n",
    "wb.save(\"銷售排名輸出.xlsx\")"
   ]
  },
  {
   "cell_type": "markdown",
   "metadata": {},
   "source": [
    "## 業績排名\n",
    "\n",
    "建立總業績、最高業績和最低業績資訊。"
   ]
  },
  {
   "cell_type": "code",
   "execution_count": 6,
   "metadata": {},
   "outputs": [],
   "source": [
    "import openpyxl\n",
    "\n",
    "fn = \"業績排名.xlsx\"\n",
    "wb = openpyxl.load_workbook(fn)\n",
    "ws = wb.active\n",
    "ws['C7'] = \"=SUM(C4:C6)\"\n",
    "ws['C8'] = \"=MAX(C4:C6)\"\n",
    "ws['C9'] = \"=MIN(C4:C6)\"\n",
    "wb.save(\"業績排名輸出.xlsx\")"
   ]
  },
  {
   "cell_type": "markdown",
   "metadata": {},
   "source": [
    "## 考試成績統計\n"
   ]
  },
  {
   "cell_type": "code",
   "execution_count": 7,
   "metadata": {},
   "outputs": [],
   "source": [
    "import openpyxl\n",
    "\n",
    "wb = openpyxl.Workbook()            # 建立空白的活頁簿\n",
    "ws = wb.active                      # 獲得目前工作表\n",
    "ws['A1'] = 'Peter'                  # 設定名字Peter           \n",
    "ws['B1'] = 98\n",
    "ws['A2'] = 'Janet'                  # 設定名字Janet\n",
    "ws['B2'] = 79\n",
    "ws['A3'] = 'Nelson'                 # 設定名字Nelson\n",
    "ws['B3'] = 81\n",
    "ws['A4'] = '總分'\n",
    "ws['B4'] = '=SUM(B1:B3)'            # 計算總分\n",
    "ws['A5'] = '平均'\n",
    "ws['B5'] = '=AVERAGE(B1:B3)'        # 計算平均\n",
    "ws['A6'] = '最高分'\n",
    "ws['B6'] = '=MAX(B1:B3)'            # 計算最高分\n",
    "ws['A7'] = '最低分'\n",
    "ws['B7'] = '=MIN(B1:B3)'            # 計算最低分\n",
    "wb.save('考試成績統計.xlsx')            # 將活頁簿儲存"
   ]
  }
 ],
 "metadata": {
  "kernelspec": {
   "display_name": "base",
   "language": "python",
   "name": "python3"
  },
  "language_info": {
   "codemirror_mode": {
    "name": "ipython",
    "version": 3
   },
   "file_extension": ".py",
   "mimetype": "text/x-python",
   "name": "python",
   "nbconvert_exporter": "python",
   "pygments_lexer": "ipython3",
   "version": "3.11.5"
  },
  "orig_nbformat": 4
 },
 "nbformat": 4,
 "nbformat_minor": 2
}
