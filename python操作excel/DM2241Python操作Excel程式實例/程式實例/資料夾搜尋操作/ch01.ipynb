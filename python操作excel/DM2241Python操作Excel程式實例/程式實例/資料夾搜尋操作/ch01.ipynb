{
 "cells": [
  {
   "cell_type": "markdown",
   "metadata": {},
   "source": [
    "安裝模組openpyxl"
   ]
  },
  {
   "cell_type": "code",
   "execution_count": 2,
   "metadata": {},
   "outputs": [
    {
     "name": "stdout",
     "output_type": "stream",
     "text": [
      "Requirement already satisfied: openpyxl in c:\\users\\33313\\anaconda3\\lib\\site-packages (3.0.10)\n",
      "Requirement already satisfied: et_xmlfile in c:\\users\\33313\\anaconda3\\lib\\site-packages (from openpyxl) (1.1.0)\n"
     ]
    }
   ],
   "source": [
    "!pip install openpyxl"
   ]
  },
  {
   "cell_type": "markdown",
   "metadata": {},
   "source": [
    "欄位(column):工作表的欄位名稱是A、B、…等。\n",
    "\n",
    "列(row):工作表的列名稱是1、2、…等。\n",
    "\n",
    "儲存格(cell):工作表內的每一個格子稱儲存格,用(欄名,列名)代表。"
   ]
  },
  {
   "cell_type": "markdown",
   "metadata": {},
   "source": [
    "## 開啟檔案"
   ]
  },
  {
   "cell_type": "code",
   "execution_count": 6,
   "metadata": {},
   "outputs": [
    {
     "name": "stdout",
     "output_type": "stream",
     "text": [
      "<class 'openpyxl.workbook.workbook.Workbook'>\n",
      "所有工作表     =  ['2025Q1', '2025Q2', '2025Q3']\n",
      "目前工作表     =  <Worksheet \"2025Q1\">\n",
      "目前工作表名稱 =  2025Q1\n",
      "工作表名稱 =  2025Q1\n",
      "工作表名稱 =  2025Q2\n",
      "工作表名稱 =  2025Q3\n"
     ]
    }
   ],
   "source": [
    "import openpyxl\n",
    "\n",
    "fn = 'sales.xlsx'\n",
    "wb = openpyxl.load_workbook(fn)     # wb是Excel檔案物件\n",
    "print(type(wb))\n",
    "\n",
    "# 取得工作表名稱\n",
    "print(\"所有工作表     = \", wb.sheetnames)\n",
    "print(\"目前工作表     = \", wb.active)\n",
    "print(\"目前工作表名稱 = \", wb.active.title)\n",
    "\n",
    "\n",
    "# 也可以使用for跑所有工作表\n",
    "for sheet in wb.sheetnames:\n",
    "    print(\"工作表名稱 = \", sheet)\n",
    "\n"
   ]
  },
  {
   "cell_type": "markdown",
   "metadata": {},
   "source": [
    "## 切換工作表"
   ]
  },
  {
   "cell_type": "code",
   "execution_count": 7,
   "metadata": {},
   "outputs": [
    {
     "name": "stdout",
     "output_type": "stream",
     "text": [
      "預設的工作表名稱 =  2025Q1\n",
      "特定工作表的名稱 =  2025Q1\n",
      "特定工作表的名稱 =  2025Q2\n",
      "特定工作表的名稱 =  2025Q3\n"
     ]
    }
   ],
   "source": [
    "import openpyxl\n",
    "\n",
    "fn = 'sales.xlsx'\n",
    "wb = openpyxl.load_workbook(fn)\n",
    "print(\"預設的工作表名稱 = \", wb.active.title)\n",
    "ws0 = wb.worksheets[0]\n",
    "ws1 = wb.worksheets[1]\n",
    "ws2 = wb.worksheets[2]\n",
    "print(\"特定工作表的名稱 = \", ws0.title)\n",
    "print(\"特定工作表的名稱 = \", ws1.title)\n",
    "print(\"特定工作表的名稱 = \", ws2.title)"
   ]
  },
  {
   "cell_type": "markdown",
   "metadata": {},
   "source": [
    "## 寫入excel"
   ]
  },
  {
   "cell_type": "code",
   "execution_count": 1,
   "metadata": {},
   "outputs": [
    {
     "name": "stdout",
     "output_type": "stream",
     "text": [
      "目前工作表名稱 =  Sheet\n",
      "新工作表名稱   =  My sheet\n"
     ]
    }
   ],
   "source": [
    "# 法一\n",
    "import openpyxl\n",
    "\n",
    "wb = openpyxl.Workbook()                # 建立空白的活頁簿\n",
    "ws = wb.active                          # 獲得目前工作表\n",
    "print(\"目前工作表名稱 = \", ws.title)    # 列印目前工作表\n",
    "ws.title = 'My sheet'                   # 更改目前工作表名稱\n",
    "print(\"新工作表名稱   = \", ws.title)    # 列印新的目前工作表\n",
    "wb.save('新增一個xlsx.xlsx')                  # 將活頁簿儲存\n",
    "wb.close()"
   ]
  },
  {
   "cell_type": "markdown",
   "metadata": {},
   "source": [
    "## 找出目前資料夾的excel檔案"
   ]
  },
  {
   "cell_type": "code",
   "execution_count": 18,
   "metadata": {},
   "outputs": [
    {
     "name": "stdout",
     "output_type": "stream",
     "text": [
      "列出目前資料夾的Excel檔案\n",
      "new1_5.xlsx\n",
      "new1_6.xlsx\n",
      "out1_5.xlsx\n",
      "out1_6.xlsx\n",
      "sales.xlsx\n",
      "新增一個xlsx.xlsx\n",
      "\n",
      "列出目前資料夾out1開頭的Excel檔案\n",
      "out1_5.xlsx\n",
      "out1_6.xlsx\n",
      "\n",
      "列出目前資料夾out1_開頭的Excel檔案\n",
      "out1_5.xlsx\n",
      "out1_6.xlsx\n"
     ]
    }
   ],
   "source": [
    "import glob\n",
    "\n",
    "print(\"列出目前資料夾的Excel檔案\")\n",
    "for file in glob.glob('*.xlsx'):\n",
    "    print(file)\n",
    "print()\n",
    "print(\"列出目前資料夾out1開頭的Excel檔案\")\n",
    "for file in glob.glob('out1*.xlsx'):\n",
    "    print(file)\n",
    "print()\n",
    "print(\"列出目前資料夾out1_開頭的Excel檔案\")\n",
    "for file in glob.glob('out1_?.xlsx'):\n",
    "    print(file)"
   ]
  },
  {
   "cell_type": "markdown",
   "metadata": {},
   "source": [
    "## 使用關鍵字搜尋EXCEL"
   ]
  },
  {
   "cell_type": "code",
   "execution_count": null,
   "metadata": {},
   "outputs": [],
   "source": [
    "import glob\n",
    "\n",
    "key = input('請輸入關鍵字 : ')\n",
    "keyword = '*' + key + '*.xlsx'  # 組成關鍵字的字串\n",
    "files = glob.glob(keyword)\n",
    "for fn in files:\n",
    "    print(fn)"
   ]
  },
  {
   "cell_type": "code",
   "execution_count": null,
   "metadata": {},
   "outputs": [],
   "source": [
    "import glob\n",
    "\n",
    "mydir = input('請輸入指定資料夾 : ')\n",
    "key = input('請輸入關鍵字 : ')\n",
    "keyword = mydir + '*' + key + '*.xlsx'\n",
    "files = glob.glob(keyword)\n",
    "for fn in files:\n",
    "    print(fn)\n"
   ]
  },
  {
   "cell_type": "markdown",
   "metadata": {},
   "source": [
    "## 使用os.walk()\n",
    "glob 模組來搜尋符合特定模式的檔案。它只會搜尋指定資料夾中的檔案，不會遞迴搜尋子資料夾。\n",
    "\n",
    "1. 目前工作資料夾名稱(dirName)。\n",
    "2. 目前工作資料夾底下的子資料夾串列(sub_dirNames)。\n",
    "3. 目前工作資料夾底下的檔案串列(fileNames)。\n",
    "\n",
    "for dirName,sub_dirNames,fileNames in os.walk(資料夾路徑)\n"
   ]
  },
  {
   "cell_type": "code",
   "execution_count": null,
   "metadata": {},
   "outputs": [],
   "source": [
    "mydir = input('請輸入指定資料夾 : ')\n",
    "key = input('請輸入關鍵字 : ')\n",
    "for dirName, sub_dirNames, fileNames in os.walk(mydir):\n",
    "    print(f\"目前資料夾名稱 : {dirName}\")\n",
    "    keyword = dirName + '\\*' + key + '*.xlsx'\n",
    "    files = glob.glob(keyword)\n",
    "    for fn in files:\n",
    "        print(fn)"
   ]
  }
 ],
 "metadata": {
  "kernelspec": {
   "display_name": "base",
   "language": "python",
   "name": "python3"
  },
  "language_info": {
   "codemirror_mode": {
    "name": "ipython",
    "version": 3
   },
   "file_extension": ".py",
   "mimetype": "text/x-python",
   "name": "python",
   "nbconvert_exporter": "python",
   "pygments_lexer": "ipython3",
   "version": "3.11.7"
  }
 },
 "nbformat": 4,
 "nbformat_minor": 2
}
