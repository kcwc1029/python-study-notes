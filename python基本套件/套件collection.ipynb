{
 "cells": [
  {
   "cell_type": "markdown",
   "metadata": {},
   "source": [
    "## Counter\n",
    "用于统计可迭代对象中元素的数量。"
   ]
  },
  {
   "cell_type": "code",
   "execution_count": 1,
   "metadata": {},
   "outputs": [
    {
     "name": "stdout",
     "output_type": "stream",
     "text": [
      "Counter({'apple': 3, 'banana': 2, 'orange': 1})\n",
      "Counter({'i': 10, 'j': 8, 'o': 6, 'a': 4, 'd': 3, 'h': 2, 'f': 2, 'r': 2, 'w': 1, 'v': 1, 'e': 1, 's': 1})\n",
      "[('i', 10), ('j', 8), ('o', 6), ('a', 4), ('d', 3), ('h', 2), ('f', 2), ('r', 2), ('w', 1), ('v', 1), ('e', 1), ('s', 1)]\n",
      "[('i', 10), ('j', 8)]\n"
     ]
    }
   ],
   "source": [
    "from collections import Counter\n",
    "\n",
    "word_list = ['apple', 'banana', 'apple', 'orange', 'banana', 'apple']\n",
    "word_counter = Counter(word_list)\n",
    "print(word_counter)\n",
    "letters = \"jwidhihfivjrjiiorjeifojaioajdoijdoiasjioa\"\n",
    "print(Counter(letters)) # Counter({'i': 10, 'j': 8, 'o': 6, 'a': 4, 'd': 3, 'h': 2, 'f': 2, 'r': 2, 'w': 1, 'v': 1, 'e': 1, 's': 1})\n",
    "print(Counter(letters).most_common()) # 次數最大排好\n",
    "print(Counter(letters).most_common(2)) # 最常見兩個\n",
    "# [('i', 10), ('j', 8), ('o', 6), ('a', 4), ('d', 3), ('h', 2), ('f', 2), ('r', 2), ('w', 1), ('v', 1), ('e', 1), ('s', 1)]\n",
    "# [('i', 10), ('j', 8)]"
   ]
  },
  {
   "cell_type": "markdown",
   "metadata": {},
   "source": [
    "## defaultdict\n",
    "是 `dict` 的一个子类，在访问不存在的键时使用该默认值。"
   ]
  },
  {
   "cell_type": "code",
   "execution_count": 2,
   "metadata": {},
   "outputs": [
    {
     "name": "stdout",
     "output_type": "stream",
     "text": [
      "defaultdict(<class 'int'>, {'apple': 1, 'banana': 2})\n"
     ]
    }
   ],
   "source": [
    "\n",
    "from collections import defaultdict\n",
    "fruit_dict = defaultdict(int)\n",
    "fruit_dict['apple'] += 1\n",
    "fruit_dict['banana'] += 2\n",
    "print(fruit_dict)\n",
    "# Output: defaultdict(<class 'int'>, {'apple': 1, 'banana': 2})"
   ]
  },
  {
   "cell_type": "markdown",
   "metadata": {},
   "source": [
    "## namedtuple\n",
    "用于创建具有字段名的元组子类，使得元组更具可读性。"
   ]
  },
  {
   "cell_type": "code",
   "execution_count": 3,
   "metadata": {},
   "outputs": [
    {
     "name": "stdout",
     "output_type": "stream",
     "text": [
      "3.8078865529319543\n"
     ]
    }
   ],
   "source": [
    "\n",
    "from collections import namedtuple\n",
    "from math import sqrt\n",
    "# 舉例：兩點求絕對值->沒有用\n",
    "point1, point2 = (1,5),(2.5,1.5)\n",
    "line_length = sqrt((point1[0]-point2[0])**2 + (point1[1]-point2[1])**2)\n",
    "print(line_length)"
   ]
  },
  {
   "cell_type": "markdown",
   "metadata": {},
   "source": [
    "## namedtuple"
   ]
  },
  {
   "cell_type": "code",
   "execution_count": 4,
   "metadata": {},
   "outputs": [
    {
     "name": "stdout",
     "output_type": "stream",
     "text": [
      "3.8078865529319543\n"
     ]
    }
   ],
   "source": [
    "\n",
    "Point = namedtuple(\"Point\",[\"x\",\"y\"])\n",
    "point1, point2 = Point(1,5), Point(2.5, 1.5)\n",
    "line_length = sqrt((point1.x-point2.x)**2 + (point1.y-point2.y)**2)\n",
    "print(line_length)\n",
    "# 3.8078865529319543\n",
    "# 3.8078865529319543"
   ]
  }
 ],
 "metadata": {
  "kernelspec": {
   "display_name": "base",
   "language": "python",
   "name": "python3"
  },
  "language_info": {
   "codemirror_mode": {
    "name": "ipython",
    "version": 3
   },
   "file_extension": ".py",
   "mimetype": "text/x-python",
   "name": "python",
   "nbconvert_exporter": "python",
   "pygments_lexer": "ipython3",
   "version": "3.11.5"
  },
  "orig_nbformat": 4
 },
 "nbformat": 4,
 "nbformat_minor": 2
}
