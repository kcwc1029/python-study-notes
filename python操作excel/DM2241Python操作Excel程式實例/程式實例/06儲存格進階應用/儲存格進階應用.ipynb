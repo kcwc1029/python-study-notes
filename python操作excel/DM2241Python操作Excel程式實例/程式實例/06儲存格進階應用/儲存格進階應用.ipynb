{
 "cells": [
  {
   "cell_type": "markdown",
   "metadata": {},
   "source": [
    "## 合併儲存格\n",
    "\n",
    "合併儲存格可以使用 merge_cells（）函數，此函數的語法：`ws.merge_cells（儲存格區間）`\n"
   ]
  },
  {
   "cell_type": "code",
   "execution_count": 1,
   "metadata": {},
   "outputs": [],
   "source": [
    "import openpyxl\n",
    "from openpyxl.styles import Font, Alignment\n",
    "\n",
    "wb = openpyxl.Workbook()\n",
    "ws = wb.active\n",
    "\n",
    "ws.merge_cells('A1:B2')\n",
    "ws['A1'].font = Font(name='Old English Text MT',\n",
    "                     color='0000FF',\n",
    "                     size=20)\n",
    "ws['A1'].alignment = Alignment(horizontal='center',\n",
    "                               vertical='center')\n",
    "ws['A1'] = 'DeepMind'                      \n",
    "wb.save(\"合併儲存格.xlsx\")"
   ]
  },
  {
   "cell_type": "markdown",
   "metadata": {},
   "source": [
    "## 取消合併儲存格\n",
    "\n",
    "取消合併儲存格可以使用 unmerge_cells（）函數，此函數的語法如下：\n",
    "`ws.unmerge__cells (儲存格區間）`"
   ]
  },
  {
   "cell_type": "markdown",
   "metadata": {},
   "source": [
    "## 儲存格的備註"
   ]
  },
  {
   "cell_type": "markdown",
   "metadata": {},
   "source": [
    "## 折疊（隱藏）儲存格"
   ]
  },
  {
   "cell_type": "markdown",
   "metadata": {},
   "source": [
    "##"
   ]
  },
  {
   "cell_type": "markdown",
   "metadata": {},
   "source": [
    "##"
   ]
  },
  {
   "cell_type": "markdown",
   "metadata": {},
   "source": [
    "##"
   ]
  },
  {
   "cell_type": "markdown",
   "metadata": {},
   "source": [
    "##"
   ]
  },
  {
   "cell_type": "markdown",
   "metadata": {},
   "source": [
    "##"
   ]
  }
 ],
 "metadata": {
  "kernelspec": {
   "display_name": "base",
   "language": "python",
   "name": "python3"
  },
  "language_info": {
   "codemirror_mode": {
    "name": "ipython",
    "version": 3
   },
   "file_extension": ".py",
   "mimetype": "text/x-python",
   "name": "python",
   "nbconvert_exporter": "python",
   "pygments_lexer": "ipython3",
   "version": "3.11.5"
  },
  "orig_nbformat": 4
 },
 "nbformat": 4,
 "nbformat_minor": 2
}
