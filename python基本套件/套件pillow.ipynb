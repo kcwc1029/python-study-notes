{
 "cells": [
  {
   "cell_type": "code",
   "execution_count": 2,
   "metadata": {},
   "outputs": [
    {
     "name": "stdout",
     "output_type": "stream",
     "text": [
      "(0, 0, 255)\n",
      "(0, 0, 255)\n",
      "(0, 0, 255)\n",
      "(0, 0, 255)\n",
      "(0, 0, 255)\n"
     ]
    }
   ],
   "source": [
    "# 取得顏色getrgb()\n",
    "from PIL import ImageColor\n",
    "\n",
    "print(ImageColor.getrgb(\"#0000ff\"))\n",
    "print(ImageColor.getrgb(\"rgb(0, 0, 255)\"))\n",
    "print(ImageColor.getrgb(\"rgb(0%, 0%, 100%)\"))\n",
    "print(ImageColor.getrgb(\"Blue\"))\n",
    "print(ImageColor.getrgb(\"blue\"))\n",
    "\n"
   ]
  },
  {
   "cell_type": "code",
   "execution_count": 3,
   "metadata": {},
   "outputs": [
    {
     "name": "stdout",
     "output_type": "stream",
     "text": [
      "(0, 0, 255)\n",
      "(0, 0, 255)\n",
      "(0, 0, 255)\n",
      "(0, 0, 255, 255)\n",
      "(0, 0, 255, 255)\n",
      "(0, 0, 255, 255)\n"
     ]
    }
   ],
   "source": [
    "print(ImageColor.getcolor(\"#0000ff\", \"RGB\"))\n",
    "print(ImageColor.getcolor(\"rgb(0, 0, 255)\", \"RGB\"))\n",
    "print(ImageColor.getcolor(\"Blue\", \"RGB\"))\n",
    "print(ImageColor.getcolor(\"#0000ff\", \"RGBA\"))\n",
    "print(ImageColor.getcolor(\"rgb(0, 0, 255)\", \"RGBA\"))\n",
    "print(ImageColor.getcolor(\"Blue\", \"RGBA\"))"
   ]
  },
  {
   "cell_type": "markdown",
   "metadata": {},
   "source": [
    "## 影像相關資料"
   ]
  },
  {
   "cell_type": "code",
   "execution_count": 12,
   "metadata": {},
   "outputs": [
    {
     "name": "stdout",
     "output_type": "stream",
     "text": [
      "寬度 =  736\n",
      "高度 =  504\n",
      "列出物件檔名 :  貓咪吃草莓.jpg\n",
      "列出物件副檔名 :  JPEG\n",
      "列出物件描述   :  JPEG (ISO 10918)\n"
     ]
    }
   ],
   "source": [
    "from PIL import Image\n",
    "\n",
    "rushMore = Image.open(\"貓咪吃草莓.jpg\")       # 建立Pillow物件\n",
    "width, height = rushMore.size               # 獲得影像寬度和高度\n",
    "print(\"寬度 = \", width)\n",
    "print(\"高度 = \", height)\n",
    "print(\"列出物件檔名 : \", rushMore.filename)\n",
    "print(\"列出物件副檔名 : \", rushMore.format)\n",
    "print(\"列出物件描述   : \", rushMore.format_description)\n",
    "rushMore.show()\n"
   ]
  },
  {
   "cell_type": "markdown",
   "metadata": {},
   "source": [
    "## 儲存檔案"
   ]
  },
  {
   "cell_type": "code",
   "execution_count": 10,
   "metadata": {},
   "outputs": [],
   "source": [
    "# 將jpg轉存為png\n",
    "from PIL import Image\n",
    "\n",
    "rushMore = Image.open(\"貓咪吃草莓.jpg\")       # 建立Pillow物件 \n",
    "rushMore.save(\"貓咪吃草莓.png\")\n"
   ]
  },
  {
   "cell_type": "markdown",
   "metadata": {},
   "source": [
    "## 使用像素建立影像"
   ]
  },
  {
   "cell_type": "code",
   "execution_count": 13,
   "metadata": {},
   "outputs": [],
   "source": [
    "from PIL import Image\n",
    "\n",
    "pictObj = Image.new(\"RGB\", (300, 180), \"aqua\")  # 建立aqua顏色影像\n",
    "pictObj.show()"
   ]
  },
  {
   "cell_type": "markdown",
   "metadata": {},
   "source": [
    "## 更改影像大小/旋轉/翻轉"
   ]
  },
  {
   "cell_type": "code",
   "execution_count": 16,
   "metadata": {},
   "outputs": [],
   "source": [
    "from PIL import Image\n",
    "pict = Image.open(\"貓咪吃草莓.jpg\")       # 建立Pillow物件 \n",
    "width, height = pict.size\n",
    "newPict1 = pict.resize((width*2, height))   # 寬度是2倍\n",
    "newPict1.show()\n",
    "newPict2 = pict.resize((width, height*2))   # 高度是2倍\n",
    "newPict2.show()\n",
    "pict.rotate(90).show()    # 旋轉90度\n",
    "pict.rotate(180).show()    # 旋轉180度\n",
    "pict.rotate(270).show()    # 旋轉270度\n",
    "pict.transpose(Image.FLIP_LEFT_RIGHT).show()    # 左右\n",
    "pict.transpose(Image.FLIP_TOP_BOTTOM).show()     # 上下"
   ]
  },
  {
   "cell_type": "markdown",
   "metadata": {},
   "source": [
    "## 取得像素"
   ]
  },
  {
   "cell_type": "code",
   "execution_count": 17,
   "metadata": {},
   "outputs": [
    {
     "name": "stdout",
     "output_type": "stream",
     "text": [
      "(255, 255, 0, 255)\n"
     ]
    }
   ],
   "source": [
    "from PIL import Image\n",
    "\n",
    "newImage = Image.new('RGBA', (300, 100), \"Yellow\")\n",
    "print(newImage.getpixel((150, 50)))      # 列印中心點的色彩\n",
    "newImage.show()"
   ]
  },
  {
   "cell_type": "code",
   "execution_count": 18,
   "metadata": {},
   "outputs": [],
   "source": [
    "from PIL import Image\n",
    "from PIL import ImageColor\n",
    "\n",
    "newImage = Image.new('RGBA', (300, 300), \"Yellow\")\n",
    "for x in range(50, 251):                                # x軸區間在50-250\n",
    "    for y in range(50, 151):                            # y軸區間在50-150\n",
    "        newImage.putpixel((x, y), (0, 255, 255, 255))   # 填青色\n",
    "newImage.show()                  # 第一階段存檔\n",
    "for x in range(50, 251):                                # x軸區間在50-250            \n",
    "    for y in range(151, 251):                           # y軸區間在151-250\n",
    "        newImage.putpixel((x, y), ImageColor.getcolor(\"Blue\", \"RGBA\"))\n",
    "newImage.show()                        # 第一階段存檔\n"
   ]
  },
  {
   "cell_type": "markdown",
   "metadata": {},
   "source": [
    "## 裁切影像"
   ]
  },
  {
   "cell_type": "code",
   "execution_count": 21,
   "metadata": {},
   "outputs": [],
   "source": [
    "from PIL import Image\n",
    "pict = Image.open(\"貓咪吃草莓.jpg\")       # 建立Pillow物件 \n",
    "cropPict = pict.crop((80, 30, 150, 100))   # 裁切區間\n",
    "cropPict.show()"
   ]
  },
  {
   "cell_type": "markdown",
   "metadata": {},
   "source": [
    "## 複製影像"
   ]
  },
  {
   "cell_type": "code",
   "execution_count": 23,
   "metadata": {},
   "outputs": [],
   "source": [
    "from PIL import Image\n",
    "\n",
    "pict = Image.open(\"貓咪吃草莓.jpg\")       # 建立Pillow物件 \n",
    "copyPict = pict.copy()                      # 複製\n",
    "copyPict.show()"
   ]
  },
  {
   "cell_type": "markdown",
   "metadata": {},
   "source": [
    "## 影像合成（貼上）"
   ]
  },
  {
   "cell_type": "code",
   "execution_count": 24,
   "metadata": {},
   "outputs": [],
   "source": [
    "from PIL import Image\n",
    "\n",
    "pict = Image.open(\"貓咪吃草莓.jpg\")       # 建立Pillow物件 \n",
    "copyPict = pict.copy()                          # 複製\n",
    "cropPict = copyPict.crop((80, 30, 150, 100))    # 裁切區間\n",
    "copyPict.paste(cropPict, (20, 20))              # 第一次合成\n",
    "copyPict.paste(cropPict, (20, 100))             # 第二次合成\n",
    "copyPict.show()"
   ]
  },
  {
   "cell_type": "markdown",
   "metadata": {},
   "source": [
    "## 影像濾鏡"
   ]
  },
  {
   "cell_type": "markdown",
   "metadata": {},
   "source": [
    "- BLUR 模糊\n",
    "- CONTOUR 輪廓\n",
    "- DETAIL 細節增強\n",
    "- EDGE_ENHANCE：邊緣增強\n",
    "- EDGE_ENHANCE_MORE 深度邊緣增強\n",
    "- EMBOSS：浮雕效果\n",
    "- FIND_EDGES：邊緣訊息\n",
    "- SMOOTH：平滑效果\n",
    "- SMOOTH_MORE：深度平滑效果\n",
    "- SHARPEN：銳利化效"
   ]
  },
  {
   "cell_type": "code",
   "execution_count": 27,
   "metadata": {},
   "outputs": [],
   "source": [
    "from PIL import Image\n",
    "from PIL import ImageFilter\n",
    "pict = Image.open(\"貓咪吃草莓.jpg\")       # 建立Pillow物件 \n",
    "filterPict = rushMore.filter(ImageFilter.BLUR)\n",
    "filterPict.show()\n",
    "filterPict = rushMore.filter(ImageFilter.CONTOUR)\n",
    "filterPict.show()\n",
    "filterPict = rushMore.filter(ImageFilter.EMBOSS)\n",
    "filterPict.show()\n",
    "filterPict = rushMore.filter(ImageFilter.FIND_EDGES)\n",
    "filterPict.show()"
   ]
  },
  {
   "cell_type": "markdown",
   "metadata": {},
   "source": [
    "## 繪製點/顯條"
   ]
  },
  {
   "cell_type": "code",
   "execution_count": 31,
   "metadata": {},
   "outputs": [],
   "source": [
    "from PIL import Image, ImageDraw\n",
    "\n",
    "newImage = Image.new('RGBA', (300, 300), \"white\")  # 建立300*300黃色底的影像\n",
    "drawObj = ImageDraw.Draw(newImage)\n",
    "\n",
    "# 繪製點\n",
    "for x in range(100, 200, 3):\n",
    "    for y in range(100, 200, 3):\n",
    "        drawObj.point([(x,y)], fill='Green')\n",
    "\n",
    "# 繪製線條, 繪外框線\n",
    "drawObj.line([(0,0), (299,0), (299,299), (0,299), (0,0)], fill=\"Black\")\n",
    "# 繪製右上角美工線\n",
    "for x in range(150, 300, 10):\n",
    "    drawObj.line([(x,0), (300,x-150)], fill=\"Blue\")\n",
    "# 繪製左下角美工線\n",
    "for y in range(150, 300, 10):\n",
    "    drawObj.line([(0,y), (y-150,300)], fill=\"Blue\")    \n",
    "newImage.save(\"out17_20.png\")\n",
    "newImage.show()\n"
   ]
  },
  {
   "cell_type": "markdown",
   "metadata": {},
   "source": [
    "## 繪製圓/矩形/多邊形"
   ]
  },
  {
   "cell_type": "code",
   "execution_count": 32,
   "metadata": {},
   "outputs": [],
   "source": [
    "from PIL import Image, ImageDraw\n",
    "\n",
    "newImage = Image.new('RGBA', (300, 300), 'Yellow')  # 建立300*300黃色底的影像\n",
    "drawObj = ImageDraw.Draw(newImage)\n",
    "\n",
    "drawObj.rectangle((0,0,299,299), outline='Black')   # 影像外框線\n",
    "drawObj.ellipse((30,60,130,100),outline='Black')    # 左眼外框\n",
    "drawObj.ellipse((65,65,95,95),fill='Blue')          # 左眼\n",
    "drawObj.ellipse((170,60,270,100),outline='Black')   # 右眼外框\n",
    "drawObj.ellipse((205,65,235,95),fill='Blue')        # 右眼\n",
    "drawObj.polygon([(150,120),(180,180),(120,180),(150,120)],fill='Aqua') # 鼻子\n",
    "drawObj.rectangle((100,210,200,240), fill='Red')    # 嘴   \n",
    "newImage.show()"
   ]
  },
  {
   "cell_type": "markdown",
   "metadata": {},
   "source": [
    "## 影像內填入文字"
   ]
  },
  {
   "cell_type": "code",
   "execution_count": 34,
   "metadata": {},
   "outputs": [],
   "source": [
    "from PIL import Image, ImageDraw, ImageFont\n",
    "\n",
    "newImage = Image.new('RGBA', (600, 300), 'white')  # 建立300*300黃色底的影像\n",
    "drawObj = ImageDraw.Draw(newImage)\n",
    "\n",
    "strText = 'National Cheng Kung University'        # 設定欲列印英文字串\n",
    "fontInfo = ImageFont.truetype('./NotoSerifTC-Regular.otf', 36)\n",
    "drawObj.text((50,100), strText, fill='Blue', font=fontInfo)\n",
    "\n",
    "# 處理中文字體\n",
    "strCtext = '國立成功大學'                           # 設定欲列印中文字串\n",
    "drawObj.text((50,180), strCtext, fill='Blue', font=fontInfo)\n",
    "newImage.show()"
   ]
  },
  {
   "cell_type": "markdown",
   "metadata": {},
   "source": []
  }
 ],
 "metadata": {
  "kernelspec": {
   "display_name": "base",
   "language": "python",
   "name": "python3"
  },
  "language_info": {
   "codemirror_mode": {
    "name": "ipython",
    "version": 3
   },
   "file_extension": ".py",
   "mimetype": "text/x-python",
   "name": "python",
   "nbconvert_exporter": "python",
   "pygments_lexer": "ipython3",
   "version": "3.11.5"
  },
  "orig_nbformat": 4
 },
 "nbformat": 4,
 "nbformat_minor": 2
}
