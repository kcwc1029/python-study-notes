{
 "cells": [
  {
   "cell_type": "markdown",
   "metadata": {},
   "source": [
    "## os 常用方法\n",
    "- os.getcwd() 可以取得 .py 程式運作的工作資料夾路徑"
   ]
  },
  {
   "cell_type": "code",
   "execution_count": 1,
   "metadata": {},
   "outputs": [
    {
     "name": "stdout",
     "output_type": "stream",
     "text": [
      "/Users/chenweicheng/github/obsidian-individual-notes/python\n"
     ]
    }
   ],
   "source": [
    "import os\n",
    "print(os.getcwd())"
   ]
  },
  {
   "cell_type": "markdown",
   "metadata": {},
   "source": [
    "- os.mkdir(folder)  建立一個新的資料夾。\n",
    "- os.rmdir(folder) 會刪除一個「空」的資料夾 ( 裡面不能有其他檔案或資料夾 )。\n",
    "- os.listdir(folder) 會以串列的形式，列出資料夾中所有的內容。\n",
    "- os.open(file, mode) 可以開啟指定的檔案，開啟檔案時需要設定模式 mode\n",
    "- os.write(file, str) 可以將指定的文字寫入檔案裡，如果執行過程中出現「TypeError: a bytes-like object is required, not ‘str’」的問題，表示寫入的編碼需要轉換，只需要在後方加入「.encode」就能順利完成。\n",
    "- os.rename(old, new) 可以將指定的檔案更換名稱，如果有副檔名表示檔案，如果沒有副檔名表示資料夾。\n",
    "- os.remove(file) 可以刪除指定的檔案。\n",
    "- os.close(file) 可以將開啟的檔案關閉，釋放記憶體。"
   ]
  },
  {
   "cell_type": "markdown",
   "metadata": {},
   "source": [
    "## path\n",
    "\n",
    "- abspath(path)\t回傳絕對路徑。\n",
    "- basename(path)\t回傳檔案名稱。\n",
    "- dirname(path)\t回傳檔案路徑。\n",
    "- exists(path)\t判斷檔案路徑是否存在，回傳 True 或 False。\n",
    "- getatime(path)\t回傳最近訪問時間（浮點型秒數）\n",
    "- getmtime(path)\t回傳最近修改檔案的時間 ( 1970 年 1 月 1 日 00:00:00 開始到修改檔案的秒數 )\n",
    "- getctime(path)\t回傳建立檔案時間。\n",
    "- getsize(path)\t回傳檔案大小。\n",
    "- isabs(path)\t判斷是否為絕對路徑，回傳 True 或 False。\n",
    "- isfile(path)\t判斷路徑是否為文件，回傳 True 或 False。\n",
    "- isdir(path)\t判斷路徑是否為目錄，回傳 True 或 False。\n",
    "- join(path1, path2....)\t把目錄和檔案名合成一個路徑\n",
    "- realpath(path)\t回傳 path 的真實路徑\n",
    "- relpath(path, start)\t從 start 計算相對路徑\n",
    "- samefile(path1, path2)\t判斷兩個檔案或目錄是否相同\n",
    "- sameopenfile(fp1, fp2)\t判斷 fp1 和 fp2 是否指向同一檔案\n",
    "- samestat(stat1, stat2)\t判斷stat tuple stat1 和 stat2 是否指向同一個文件\n",
    "- split(path)\t把路徑分割成 dirname 和 basename，返回一個元組\n",
    "- splitext(path)\t分割路徑，返回路徑名和文件副檔名的檔案"
   ]
  },
  {
   "cell_type": "markdown",
   "metadata": {},
   "source": [
    "## system\n",
    "\n",
    "＄ os.system(命令) 的效果等同於在電腦的終端機或 cmd 裡，輸入並執行系統命令。"
   ]
  },
  {
   "cell_type": "markdown",
   "metadata": {},
   "source": [
    "## 壓縮檔案"
   ]
  },
  {
   "cell_type": "code",
   "execution_count": null,
   "metadata": {},
   "outputs": [],
   "source": [
    "import zipfile\n",
    "from zipfile import ZipFile\n",
    "import os\n",
    "\n",
    "os.chdir('/content/drive/MyDrive/Colab Notebooks')  # 針對 Colab 改變路徑，本機環境可不用\n",
    "\n",
    "with zipfile.ZipFile('test.zip', mode='w') as zf:\n",
    "    zf.write('oxxo1.jpg')\n",
    "    zf.write('oxxo2.jpg')"
   ]
  },
  {
   "cell_type": "markdown",
   "metadata": {},
   "source": [
    "## 在壓縮檔內添加檔案 "
   ]
  },
  {
   "cell_type": "code",
   "execution_count": null,
   "metadata": {},
   "outputs": [],
   "source": [
    "import zipfile\n",
    "from zipfile import ZipFile\n",
    "import os\n",
    "os.chdir('/content/drive/MyDrive/Colab Notebooks')  # 針對 Colab 改變路徑，本機環境可不用\n",
    "\n",
    "import zipfile\n",
    "\n",
    "with zipfile.ZipFile('test.zip', mode='a') as zf:\n",
    "    zf.write('orange.jpg')"
   ]
  },
  {
   "cell_type": "markdown",
   "metadata": {},
   "source": [
    "## 讀取壓縮檔內的檔案\n",
    "＄ 將 FileZip() 方法的模式設定為「r」，就可以單純讀取壓縮檔，下方列出讀取壓縮檔後的操作方法：\n",
    "- namelist()\t\t列出壓縮檔的所有內容名稱。\n",
    "- infolist()\t\t列出壓縮檔的所有內容資訊。\n",
    "- getinfo()\tname\t列出指定檔案的資訊。\n",
    "\n",
    "＄ 執行 getinfo() 之後，就可以按照下表，取出該檔案常用的屬性：\n",
    "- filename\t檔案名稱。\n",
    "- date_time\t檔案修改時間。\n",
    "- compress_type\t壓縮型別。\n",
    "- compress_size\t壓縮後的大小。\n",
    "- file_size\t檔案原本大小。\n",
    "- comment\t檔案說明。\n",
    "- create_system\t建立壓縮檔的系統資訊。\n",
    "- create_version\t建立壓縮檔的版本。\n",
    "- extract_version\t解壓縮的所需版本。"
   ]
  },
  {
   "cell_type": "code",
   "execution_count": null,
   "metadata": {},
   "outputs": [],
   "source": [
    "import os\n",
    "os.chdir('/content/drive/MyDrive/Colab Notebooks')  # 針對 Colab 改變路徑，本機環境可不用\n",
    "\n",
    "import zipfile\n",
    "\n",
    "with zipfile.ZipFile('test.zip', mode='r') as zf:\n",
    "    print(zf.namelist())             # 印出清單\n",
    "    img1 = zf.getinfo('oxxo1.jpg')   # 取得檔案資訊\n",
    "    print(img1.filename)             # 印出名稱\n",
    "    print(img1.file_size)            # 印出原始大小\n",
    "    print(img1.compress_size)        # 印出壓縮後的大小"
   ]
  },
  {
   "cell_type": "markdown",
   "metadata": {},
   "source": [
    "## 解壓縮檔案\n",
    "＄ 解壓縮路徑使用 r 開頭，可以避免一些斜線字元被轉義。"
   ]
  },
  {
   "cell_type": "code",
   "execution_count": null,
   "metadata": {},
   "outputs": [],
   "source": [
    "import os\n",
    "os.chdir('/content/drive/MyDrive/Colab Notebooks')  # 針對 Colab 改變路徑，本機環境可不用\n",
    "\n",
    "import zipfile\n",
    "\n",
    "with zipfile.ZipFile('test.zip', mode='r') as zf:\n",
    "    nameList = zf.namelist()\n",
    "    for name in nameList:\n",
    "        zf.extract(name, r'zipfolder', pwd='123'.encode('utf-8'))"
   ]
  },
  {
   "cell_type": "markdown",
   "metadata": {},
   "source": [
    "## shutil"
   ]
  },
  {
   "cell_type": "markdown",
   "metadata": {},
   "source": [
    "shutil.copyfileobj(fsrc, fdst) 可以將來源檔案 ( fsrc ) 的內容，複製到指定檔案 ( fdst ) 裡，"
   ]
  },
  {
   "cell_type": "code",
   "execution_count": null,
   "metadata": {},
   "outputs": [],
   "source": [
    "import os\n",
    "import shutil\n",
    "os.chdir('/content/drive/MyDrive/Colab Notebooks')\n",
    "f1 = open('demo/hello.txt','r')     # 開啟為可讀取\n",
    "f2 = open('demo/hello2.txt','a')    # 開啟為可添加\n",
    "shutil.copyfileobj(f1,f2)           # 複製內容"
   ]
  },
  {
   "cell_type": "markdown",
   "metadata": {},
   "source": [
    "shutil.copyfile(src, dst) 可以將來源檔案 ( src ) 複製到指定的目錄變成新檔案 ( dst )，如果遇到同樣檔名的檔案則會直接覆蓋"
   ]
  },
  {
   "cell_type": "code",
   "execution_count": null,
   "metadata": {},
   "outputs": [],
   "source": [
    "import os\n",
    "import shutil\n",
    "os.chdir('/content/drive/MyDrive/Colab Notebooks')  # 使用 os.chdir 純粹只是要修改 Colab 預設執行的路徑\n",
    "f1 = 'demo/hello.txt'    # 欲複製的檔案\n",
    "f2 = 'demo2/hello2.txt'  # 存檔的位置與檔案名稱\n",
    "shutil.copyfile(f1,f2)   # 複製檔案\n"
   ]
  },
  {
   "cell_type": "markdown",
   "metadata": {},
   "source": [
    "shutil.copy(src, dst) 可以將來源檔案 ( src ) 包含權限資訊，複製到指定的目錄變成新檔案 ( dst )。"
   ]
  },
  {
   "cell_type": "code",
   "execution_count": null,
   "metadata": {},
   "outputs": [],
   "source": [
    "import os\n",
    "import shutil\n",
    "os.chdir('/content/drive/MyDrive/Colab Notebooks')     # 使用 os.chdir 純粹只是要修改 Colab 預設執行的路徑\n",
    "f1 = 'demo/demo.txt'\n",
    "f2 = 'demo2/demo.txt'\n",
    "shutil.copy(f1,f2)     # 將 demo/demo.txt 複製到 demo2 資料夾的 demo.txt"
   ]
  },
  {
   "cell_type": "markdown",
   "metadata": {},
   "source": [
    "shutil.move(src, dst) 可以將來源檔案或資料夾，移動到指定的資料夾內，如果目標是檔案且同樣名稱，則會覆寫該檔案"
   ]
  },
  {
   "cell_type": "code",
   "execution_count": null,
   "metadata": {},
   "outputs": [],
   "source": [
    "import os\n",
    "import shutil\n",
    "os.chdir('/content/drive/MyDrive/Colab Notebooks')   # 使用 os.chdir 純粹只是要修改 Colab 預設執行的路徑\n",
    "f1 = 'demo'\n",
    "f2 = 'demo2'\n",
    "shutil.move(f1,f2)"
   ]
  },
  {
   "cell_type": "markdown",
   "metadata": {},
   "source": [
    "shutil.copytree(src, dst...) 可以將來源資料夾 ( src ) 內的所有檔案，複製到指定的資料夾 ( dst )，總共有六個參數可以使用，除了 src 和 dst 之外，其他都可以直接套用預設值：\n",
    "- src\t來源資料夾\n",
    "- dst\t目標資料夾\n",
    "- ignore\t要忽略的檔案，使用 shutil.ignore_patterns，預設 None\n",
    "- copy_function\t複製模式，預設 shutil.copy2\n",
    "- ignore_dangling_symlinks\t是否屏蔽符號鏈接錯誤，預設 False\n",
    "- symlinks\t是否屏蔽不存在路徑的錯誤，預設 False"
   ]
  },
  {
   "cell_type": "code",
   "execution_count": null,
   "metadata": {},
   "outputs": [],
   "source": [
    "import os\n",
    "import shutil\n",
    "os.chdir('/content/drive/MyDrive/Colab Notebooks')     # 使用 os.chdir 純粹只是要修改 Colab 預設執行的路徑\n",
    "f1 = 'demo'\n",
    "f2 = 'demo2'\n",
    "shutil.copytree(f1, f2, ignore=shutil.ignore_patterns('*.jpg', '*.png'))"
   ]
  },
  {
   "cell_type": "markdown",
   "metadata": {},
   "source": [
    "shutil.rmtree(src) 可以刪除指定資料夾以及其所有內容，"
   ]
  },
  {
   "cell_type": "code",
   "execution_count": null,
   "metadata": {},
   "outputs": [],
   "source": [
    "import os\n",
    "import shutil\n",
    "os.chdir('/content/drive/MyDrive/Colab Notebooks')\n",
    "f1 = 'demo'\n",
    "shutil.rmtree(f1)"
   ]
  },
  {
   "cell_type": "markdown",
   "metadata": {},
   "source": [
    "shutil.make_archive(base_name, format...) 可以將資料夾或檔案壓縮為壓縮檔，總共下列幾個參數可以使用，除了 base_name、format 和 base_dir 之外，其他都可以直接套用預設值：\n",
    "- base_name\t壓縮後的檔案名稱 ( 可以使用目錄 + 名稱 )。\n",
    "- format\t壓縮格式，可使用 zip、tar...等。\n",
    "- base_dir\t相對於根目錄的目錄。\n",
    "- root_dir\t欲壓縮的檔案根目錄，預設為執行程式的目錄。\n",
    "- owner\t檔案擁有者，系統預設。\n",
    "- group\t檔案群，系統預設。\n",
    "- logger\t記錄日誌，預設 logging.Logger 對象。"
   ]
  },
  {
   "cell_type": "code",
   "execution_count": null,
   "metadata": {},
   "outputs": [],
   "source": [
    "import os\n",
    "import shutil\n",
    "os.chdir('/content/drive/MyDrive/Colab Notebooks')\n",
    "shutil.make_archive('demo/test', 'zip', base_dir=\"test\", root_dir=\"demo\")"
   ]
  },
  {
   "cell_type": "markdown",
   "metadata": {},
   "source": [
    "shutil.unpack_archive(file) 可以將指定的壓縮檔解壓縮，有三個參數可以設定，除了 filename 之外，其他都可以套用預設值。\n",
    "- file\t欲解壓縮的檔案 ( 路徑相對於程式執行的目錄 )。\n",
    "- format\t解壓縮格式，預設以檔案的副檔名為主。\n",
    "- extract_dir\t解壓縮之後放置的檔案目錄，預設為程式執行的目錄。"
   ]
  },
  {
   "cell_type": "code",
   "execution_count": null,
   "metadata": {},
   "outputs": [],
   "source": [
    "import os\n",
    "import shutil\n",
    "os.chdir('/content/drive/MyDrive/Colab Notebooks')\n",
    "shutil.unpack_archive('zip_folder.zip',extract_dir=\"demo\")\n"
   ]
  }
 ],
 "metadata": {
  "kernelspec": {
   "display_name": "base",
   "language": "python",
   "name": "python3"
  },
  "language_info": {
   "codemirror_mode": {
    "name": "ipython",
    "version": 3
   },
   "file_extension": ".py",
   "mimetype": "text/x-python",
   "name": "python",
   "nbconvert_exporter": "python",
   "pygments_lexer": "ipython3",
   "version": "3.11.5"
  },
  "orig_nbformat": 4
 },
 "nbformat": 4,
 "nbformat_minor": 2
}
