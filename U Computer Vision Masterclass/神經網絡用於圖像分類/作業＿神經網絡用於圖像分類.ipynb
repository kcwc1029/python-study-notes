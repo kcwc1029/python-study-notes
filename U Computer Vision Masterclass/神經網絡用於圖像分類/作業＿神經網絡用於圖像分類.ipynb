{
  "cells": [
    {
      "cell_type": "markdown",
      "metadata": {
        "id": "Sd_h453YseEx"
      },
      "source": [
        "## 提取所有像素進行CNN"
      ]
    },
    {
      "cell_type": "code",
      "execution_count": 2,
      "metadata": {
        "colab": {
          "base_uri": "https://localhost:8080/",
          "height": 57
        },
        "id": "GFTBW79STIEY",
        "outputId": "dd9e6370-3597-48ee-c11e-9a329d7e9b12"
      },
      "outputs": [
        {
          "data": {
            "text/plain": [
              "'2.16.1'"
            ]
          },
          "execution_count": 2,
          "metadata": {},
          "output_type": "execute_result"
        }
      ],
      "source": [
        "import cv2\n",
        "import numpy as np\n",
        "import os\n",
        "import zipfile\n",
        "# from google.colab.patches import cv2_imshow\n",
        "import tensorflow as tf\n",
        "import pandas as pd\n",
        "import seaborn as sns\n",
        "import matplotlib.pyplot as plt\n",
        "tf.__version__"
      ]
    },
    {
      "cell_type": "code",
      "execution_count": null,
      "metadata": {
        "colab": {
          "base_uri": "https://localhost:8080/"
        },
        "id": "fkK5nGhKUdlI",
        "outputId": "fdfb9ce9-8d26-4035-893d-d55da047bb20"
      },
      "outputs": [
        {
          "name": "stdout",
          "output_type": "stream",
          "text": [
            "Mounted at /content/drive\n"
          ]
        }
      ],
      "source": [
        "# from google.colab import drive\n",
        "# drive.mount('/content/drive')"
      ]
    },
    {
      "cell_type": "markdown",
      "metadata": {},
      "source": [
        "## 處理訓練、測試圖片"
      ]
    },
    {
      "cell_type": "code",
      "execution_count": 3,
      "metadata": {
        "id": "QifI5PO1VMDK"
      },
      "outputs": [],
      "source": [
        "path = './Datasets/cat_dog_1.zip'\n",
        "zip_object = zipfile.ZipFile(file = path, mode = 'r')\n",
        "zip_object.extractall('./')\n",
        "zip_object.close()\n",
        "\n",
        "\n",
        "directory_train = './cat_dog_1/train'\n",
        "directory_test = './cat_dog_1/test'\n",
        "files_train = [os.path.join(directory_train, f) for f in sorted(os.listdir(directory_train))]\n",
        "files_test = [os.path.join(directory_test, f) for f in sorted(os.listdir(directory_test))]"
      ]
    },
    {
      "cell_type": "code",
      "execution_count": 6,
      "metadata": {
        "colab": {
          "base_uri": "https://localhost:8080/",
          "height": 1000
        },
        "id": "4suiubxKaFZn",
        "outputId": "f98cb1d3-779d-455f-ed86-1ca9c3f54554"
      },
      "outputs": [
        {
          "name": "stdout",
          "output_type": "stream",
          "text": [
            "(4000, 16384) (4000,)\n",
            "[0 0 0 ... 1 1 1]\n"
          ]
        }
      ],
      "source": [
        "# 處理訓練圖片\n",
        "height, width = 128, 128\n",
        "images = []\n",
        "classes = []\n",
        "\n",
        "for image_path in files_train:\n",
        "    try:\n",
        "        image = cv2.imread(image_path)\n",
        "        (H, W) = image.shape[:2] # 取高跟寬（每一張圖片高度及寬度不會相同）\n",
        "    except:\n",
        "        continue\n",
        "\n",
        "    # 將圖像調整為指定的寬度和高度\n",
        "    image = cv2.resize(image, (width, height))\n",
        "    # 將圖像轉換為灰度\n",
        "    image = cv2.cvtColor(image, cv2.COLOR_BGR2GRAY)\n",
        "\n",
        "    # 顯示圖像\n",
        "    # cv2_imshow(image)\n",
        "\n",
        "    # 將圖像展平為一維數組\n",
        "    image = image.ravel()\n",
        "    # print(image.shape)\n",
        "\n",
        "    # 將圖像添加到圖像列表中\n",
        "    images.append(image)\n",
        "\n",
        "    # 根據圖像名稱確定類別（貓或狗）\n",
        "    image_name = os.path.basename(os.path.normpath(image_path))\n",
        "    class_name = 0 if image_name.startswith('c') else 1\n",
        "    classes.append(class_name) # 將類別標籤添加到類別列表中\n",
        "\n",
        "    \n",
        "# 資料由list轉numpy\n",
        "X_train = np.asarray(images)\n",
        "y_train = np.asarray(classes)   \n",
        "\n",
        "print(X_train.shape, y_train.shape)\n",
        "print(y_train)"
      ]
    },
    {
      "cell_type": "code",
      "execution_count": 7,
      "metadata": {
        "colab": {
          "base_uri": "https://localhost:8080/",
          "height": 1000
        },
        "id": "Eard-X-t87gq",
        "outputId": "2e1c11df-6c21-4562-be3a-d412684914bd"
      },
      "outputs": [],
      "source": [
        "# 處理測試圖片\n",
        "images = []\n",
        "classes = []\n",
        "for image_path in files_test:\n",
        "    try:\n",
        "      image = cv2.imread(image_path)\n",
        "      (H, W) = image.shape[:2]\n",
        "    except:\n",
        "      continue\n",
        "\n",
        "    image = cv2.resize(image, (width, height))\n",
        "    image = cv2.cvtColor(image, cv2.COLOR_BGR2GRAY)\n",
        "\n",
        "    # cv2_imshow(image)\n",
        "\n",
        "    image = image.ravel() # 多維轉一維\n",
        "    images.append(image)\n",
        "    # print(image.shape)\n",
        "    \n",
        "\n",
        "    image_name = os.path.basename(os.path.normpath(image_path))\n",
        "    class_name = 0 if image_name.startswith('c') else 1\n",
        "    classes.append(class_name)\n",
        "    # print(class_name)\n",
        "\n",
        "X_test = np.asarray(images)\n",
        "y_test = np.asarray(classes)"
      ]
    },
    {
      "cell_type": "code",
      "execution_count": 8,
      "metadata": {
        "colab": {
          "base_uri": "https://localhost:8080/",
          "height": 320
        },
        "id": "sH9bbKgvonqC",
        "outputId": "14caca70-dea0-43cc-b64f-009f273b2d4f"
      },
      "outputs": [
        {
          "data": {
            "text/plain": [
              "<Axes: xlabel='y_train', ylabel='count'>"
            ]
          },
          "execution_count": 8,
          "metadata": {},
          "output_type": "execute_result"
        },
        {
          "data": {
            "image/png": "[encoded data removed]",
            "text/plain": [
              "<Figure size 400x200 with 1 Axes>"
            ]
          },
          "metadata": {},
          "output_type": "display_data"
        }
      ],
      "source": [
        "\n",
        "df = pd.DataFrame({'y_train': y_train}) # 将NumPy数组转换为Pandas DataFrame，并将列标记为分类变量\n",
        "df['y_train'] = df['y_train'].astype('category')\n",
        "plt.figure(figsize=(4, 2))  \n",
        "sns.countplot(data=df, x='y_train')# 绘制计数直方图"
      ]
    },
    {
      "cell_type": "code",
      "execution_count": 9,
      "metadata": {
        "colab": {
          "base_uri": "https://localhost:8080/",
          "height": 320
        },
        "id": "YgPI8q_x-lTz",
        "outputId": "0b455498-f1bb-4317-b3e6-6fc6e3dae250"
      },
      "outputs": [
        {
          "data": {
            "text/plain": [
              "<Axes: xlabel='y_test', ylabel='count'>"
            ]
          },
          "execution_count": 9,
          "metadata": {},
          "output_type": "execute_result"
        },
        {
          "data": {
            "image/png": "[encoded data removed]",
            "text/plain": [
              "<Figure size 400x200 with 1 Axes>"
            ]
          },
          "metadata": {},
          "output_type": "display_data"
        }
      ],
      "source": [
        "df = pd.DataFrame({'y_test': y_test}) # 将NumPy数组转换为Pandas DataFrame，并将列标记为分类变量\n",
        "df['y_test'] = df['y_test'].astype('category')\n",
        "plt.figure(figsize=(4, 2))  \n",
        "sns.countplot(data=df, x='y_test')# 绘制计数直方图"
      ]
    },
    {
      "cell_type": "markdown",
      "metadata": {
        "id": "R0L0KqcGBs_c"
      },
      "source": [
        "## 資料正規化"
      ]
    },
    {
      "cell_type": "code",
      "execution_count": 10,
      "metadata": {
        "colab": {
          "base_uri": "https://localhost:8080/"
        },
        "id": "-ssFm4xUpTpC",
        "outputId": "b25171a3-f4e0-4270-ae0c-ab1197199541"
      },
      "outputs": [
        {
          "name": "stdout",
          "output_type": "stream",
          "text": [
            "原本資料\n",
            "236 1\n",
            "正規劃後\n",
            "0.9254901960784314 0.0\n"
          ]
        }
      ],
      "source": [
        "print(\"原本資料\")\n",
        "print(X_train[0].max(), X_train[0].min()) # (236, 1)    ``\n",
        "\n",
        "from sklearn.preprocessing import MinMaxScaler\n",
        "# 创建一个MinMaxScaler对象\n",
        "scaler = MinMaxScaler()\n",
        "# 使用训练数据拟合（fit）并转换（transform）数据，使其在指定范围内缩放\n",
        "X_train = scaler.fit_transform(X_train)\n",
        "# 使用相同的缩放参数将测试数据转换为相同的比例\n",
        "X_test = scaler.transform(X_test)\n",
        "print(\"正規劃後\")\n",
        "print(X_train[0].max(), X_train[0].min()) # (0.9254901960784314 0.0)\n"
      ]
    },
    {
      "cell_type": "markdown",
      "metadata": {
        "id": "c_8D8Q-5NR7z"
      },
      "source": [
        "## 建立模型"
      ]
    },
    {
      "cell_type": "code",
      "execution_count": 11,
      "metadata": {
        "id": "H57NM0bHyikx"
      },
      "outputs": [
        {
          "name": "stderr",
          "output_type": "stream",
          "text": [
            "/Users/chenweicheng/anaconda3/lib/python3.11/site-packages/keras/src/layers/core/dense.py:87: UserWarning: Do not pass an `input_shape`/`input_dim` argument to a layer. When using Sequential models, prefer using an `Input(shape)` object as the first layer in the model instead.\n",
            "  super().__init__(activity_regularizer=activity_regularizer, **kwargs)\n"
          ]
        },
        {
          "data": {
            "text/html": [
              "<pre style=\"white-space:pre;overflow-x:auto;line-height:normal;font-family:Menlo,'DejaVu Sans Mono',consolas,'Courier New',monospace\"><span style=\"font-weight: bold\">Model: \"sequential\"</span>\n",
              "</pre>\n"
            ],
            "text/plain": [
              "\u001b[1mModel: \"sequential\"\u001b[0m\n"
            ]
          },
          "metadata": {},
          "output_type": "display_data"
        },
        {
          "data": {
            "text/html": [
              "<pre style=\"white-space:pre;overflow-x:auto;line-height:normal;font-family:Menlo,'DejaVu Sans Mono',consolas,'Courier New',monospace\">┏━━━━━━━━━━━━━━━━━━━━━━━━━━━━━━━━━┳━━━━━━━━━━━━━━━━━━━━━━━━┳━━━━━━━━━━━━━━━┓\n",
              "┃<span style=\"font-weight: bold\"> Layer (type)                    </span>┃<span style=\"font-weight: bold\"> Output Shape           </span>┃<span style=\"font-weight: bold\">       Param # </span>┃\n",
              "┡━━━━━━━━━━━━━━━━━━━━━━━━━━━━━━━━━╇━━━━━━━━━━━━━━━━━━━━━━━━╇━━━━━━━━━━━━━━━┩\n",
              "│ dense (<span style=\"color: #0087ff; text-decoration-color: #0087ff\">Dense</span>)                   │ (<span style=\"color: #00d7ff; text-decoration-color: #00d7ff\">None</span>, <span style=\"color: #00af00; text-decoration-color: #00af00\">8193</span>)           │   <span style=\"color: #00af00; text-decoration-color: #00af00\">134,242,305</span> │\n",
              "├─────────────────────────────────┼────────────────────────┼───────────────┤\n",
              "│ dense_1 (<span style=\"color: #0087ff; text-decoration-color: #0087ff\">Dense</span>)                 │ (<span style=\"color: #00d7ff; text-decoration-color: #00d7ff\">None</span>, <span style=\"color: #00af00; text-decoration-color: #00af00\">8193</span>)           │    <span style=\"color: #00af00; text-decoration-color: #00af00\">67,133,442</span> │\n",
              "├─────────────────────────────────┼────────────────────────┼───────────────┤\n",
              "│ dense_2 (<span style=\"color: #0087ff; text-decoration-color: #0087ff\">Dense</span>)                 │ (<span style=\"color: #00d7ff; text-decoration-color: #00d7ff\">None</span>, <span style=\"color: #00af00; text-decoration-color: #00af00\">1</span>)              │         <span style=\"color: #00af00; text-decoration-color: #00af00\">8,194</span> │\n",
              "└─────────────────────────────────┴────────────────────────┴───────────────┘\n",
              "</pre>\n"
            ],
            "text/plain": [
              "┏━━━━━━━━━━━━━━━━━━━━━━━━━━━━━━━━━┳━━━━━━━━━━━━━━━━━━━━━━━━┳━━━━━━━━━━━━━━━┓\n",
              "┃\u001b[1m \u001b[0m\u001b[1mLayer (type)                   \u001b[0m\u001b[1m \u001b[0m┃\u001b[1m \u001b[0m\u001b[1mOutput Shape          \u001b[0m\u001b[1m \u001b[0m┃\u001b[1m \u001b[0m\u001b[1m      Param #\u001b[0m\u001b[1m \u001b[0m┃\n",
              "┡━━━━━━━━━━━━━━━━━━━━━━━━━━━━━━━━━╇━━━━━━━━━━━━━━━━━━━━━━━━╇━━━━━━━━━━━━━━━┩\n",
              "│ dense (\u001b[38;5;33mDense\u001b[0m)                   │ (\u001b[38;5;45mNone\u001b[0m, \u001b[38;5;34m8193\u001b[0m)           │   \u001b[38;5;34m134,242,305\u001b[0m │\n",
              "├─────────────────────────────────┼────────────────────────┼───────────────┤\n",
              "│ dense_1 (\u001b[38;5;33mDense\u001b[0m)                 │ (\u001b[38;5;45mNone\u001b[0m, \u001b[38;5;34m8193\u001b[0m)           │    \u001b[38;5;34m67,133,442\u001b[0m │\n",
              "├─────────────────────────────────┼────────────────────────┼───────────────┤\n",
              "│ dense_2 (\u001b[38;5;33mDense\u001b[0m)                 │ (\u001b[38;5;45mNone\u001b[0m, \u001b[38;5;34m1\u001b[0m)              │         \u001b[38;5;34m8,194\u001b[0m │\n",
              "└─────────────────────────────────┴────────────────────────┴───────────────┘\n"
            ]
          },
          "metadata": {},
          "output_type": "display_data"
        },
        {
          "data": {
            "text/html": [
              "<pre style=\"white-space:pre;overflow-x:auto;line-height:normal;font-family:Menlo,'DejaVu Sans Mono',consolas,'Courier New',monospace\"><span style=\"font-weight: bold\"> Total params: </span><span style=\"color: #00af00; text-decoration-color: #00af00\">201,383,941</span> (768.22 MB)\n",
              "</pre>\n"
            ],
            "text/plain": [
              "\u001b[1m Total params: \u001b[0m\u001b[38;5;34m201,383,941\u001b[0m (768.22 MB)\n"
            ]
          },
          "metadata": {},
          "output_type": "display_data"
        },
        {
          "data": {
            "text/html": [
              "<pre style=\"white-space:pre;overflow-x:auto;line-height:normal;font-family:Menlo,'DejaVu Sans Mono',consolas,'Courier New',monospace\"><span style=\"font-weight: bold\"> Trainable params: </span><span style=\"color: #00af00; text-decoration-color: #00af00\">201,383,941</span> (768.22 MB)\n",
              "</pre>\n"
            ],
            "text/plain": [
              "\u001b[1m Trainable params: \u001b[0m\u001b[38;5;34m201,383,941\u001b[0m (768.22 MB)\n"
            ]
          },
          "metadata": {},
          "output_type": "display_data"
        },
        {
          "data": {
            "text/html": [
              "<pre style=\"white-space:pre;overflow-x:auto;line-height:normal;font-family:Menlo,'DejaVu Sans Mono',consolas,'Courier New',monospace\"><span style=\"font-weight: bold\"> Non-trainable params: </span><span style=\"color: #00af00; text-decoration-color: #00af00\">0</span> (0.00 B)\n",
              "</pre>\n"
            ],
            "text/plain": [
              "\u001b[1m Non-trainable params: \u001b[0m\u001b[38;5;34m0\u001b[0m (0.00 B)\n"
            ]
          },
          "metadata": {},
          "output_type": "display_data"
        }
      ],
      "source": [
        "\"\"\"\n",
        "# units：(輸入+輸出)/2\n",
        "# 特徵數過程：16384 -> 8193 -> 8193 -> 1\n",
        "\"\"\"\n",
        "\n",
        "network1 = tf.keras.models.Sequential()\n",
        "network1.add(tf.keras.layers.Dense(input_shape=(16384,), units=8193, activation='relu'))\n",
        "network1.add(tf.keras.layers.Dense(units=8193, activation = 'relu'))\n",
        "network1.add(tf.keras.layers.Dense(units = 1, activation = 'sigmoid'))\n",
        "\n",
        "network1.summary()"
      ]
    },
    {
      "cell_type": "markdown",
      "metadata": {},
      "source": [
        "## 編譯模型"
      ]
    },
    {
      "cell_type": "code",
      "execution_count": 12,
      "metadata": {
        "id": "irg12cX11DmD"
      },
      "outputs": [
        {
          "name": "stdout",
          "output_type": "stream",
          "text": [
            "Epoch 1/10\n",
            "\u001b[1m125/125\u001b[0m \u001b[32m━━━━━━━━━━━━━━━━━━━━\u001b[0m\u001b[37m\u001b[0m \u001b[1m103s\u001b[0m 807ms/step - accuracy: 0.5001 - loss: 25.7947\n",
            "Epoch 2/10\n",
            "\u001b[1m125/125\u001b[0m \u001b[32m━━━━━━━━━━━━━━━━━━━━\u001b[0m\u001b[37m\u001b[0m \u001b[1m89s\u001b[0m 712ms/step - accuracy: 0.5447 - loss: 0.6972\n",
            "Epoch 3/10\n",
            "\u001b[1m125/125\u001b[0m \u001b[32m━━━━━━━━━━━━━━━━━━━━\u001b[0m\u001b[37m\u001b[0m \u001b[1m92s\u001b[0m 740ms/step - accuracy: 0.5704 - loss: 0.6829\n",
            "Epoch 4/10\n",
            "\u001b[1m125/125\u001b[0m \u001b[32m━━━━━━━━━━━━━━━━━━━━\u001b[0m\u001b[37m\u001b[0m \u001b[1m91s\u001b[0m 730ms/step - accuracy: 0.5386 - loss: 0.6830\n",
            "Epoch 5/10\n",
            "\u001b[1m125/125\u001b[0m \u001b[32m━━━━━━━━━━━━━━━━━━━━\u001b[0m\u001b[37m\u001b[0m \u001b[1m97s\u001b[0m 777ms/step - accuracy: 0.5284 - loss: 0.6858\n",
            "Epoch 6/10\n",
            "\u001b[1m125/125\u001b[0m \u001b[32m━━━━━━━━━━━━━━━━━━━━\u001b[0m\u001b[37m\u001b[0m \u001b[1m82s\u001b[0m 653ms/step - accuracy: 0.5409 - loss: 0.6861\n",
            "Epoch 7/10\n",
            "\u001b[1m125/125\u001b[0m \u001b[32m━━━━━━━━━━━━━━━━━━━━\u001b[0m\u001b[37m\u001b[0m \u001b[1m97s\u001b[0m 772ms/step - accuracy: 0.5360 - loss: 0.6839\n",
            "Epoch 8/10\n",
            "\u001b[1m125/125\u001b[0m \u001b[32m━━━━━━━━━━━━━━━━━━━━\u001b[0m\u001b[37m\u001b[0m \u001b[1m108s\u001b[0m 858ms/step - accuracy: 0.5118 - loss: 0.6917\n",
            "Epoch 9/10\n",
            "\u001b[1m125/125\u001b[0m \u001b[32m━━━━━━━━━━━━━━━━━━━━\u001b[0m\u001b[37m\u001b[0m \u001b[1m108s\u001b[0m 866ms/step - accuracy: 0.5601 - loss: 0.6775\n",
            "Epoch 10/10\n",
            "\u001b[1m125/125\u001b[0m \u001b[32m━━━━━━━━━━━━━━━━━━━━\u001b[0m\u001b[37m\u001b[0m \u001b[1m93s\u001b[0m 746ms/step - accuracy: 0.5196 - loss: 0.6903\n"
          ]
        }
      ],
      "source": [
        "# https://keras.io/api/optimizers/\n",
        "# https://keras.io/api/losses/\n",
        "\n",
        "network1.compile(optimizer='Adam', loss='binary_crossentropy', metrics = ['accuracy'])\n",
        "history = network1.fit(X_train, y_train, epochs=10)"
      ]
    },
    {
      "cell_type": "markdown",
      "metadata": {
        "id": "48crjefERiK8"
      },
      "source": [
        "## 評估模型"
      ]
    },
    {
      "cell_type": "markdown",
      "metadata": {},
      "source": [
        "繪製損失曲線"
      ]
    },
    {
      "cell_type": "code",
      "execution_count": 13,
      "metadata": {},
      "outputs": [
        {
          "name": "stdout",
          "output_type": "stream",
          "text": [
            "dict_keys(['accuracy', 'loss'])\n"
          ]
        },
        {
          "data": {
            "image/png": "[encoded data removed]",
            "text/plain": [
              "<Figure size 1000x400 with 2 Axes>"
            ]
          },
          "metadata": {},
          "output_type": "display_data"
        }
      ],
      "source": [
        "# 打印训练历史记录中的所有键\n",
        "print(history.history.keys())\n",
        "\n",
        "# 绘制损失函数和准确率曲线在同一张图上，一左一右\n",
        "plt.figure(figsize=(10, 4))\n",
        "\n",
        "# 损失函数曲线在左侧\n",
        "plt.subplot(1, 2, 1)\n",
        "plt.plot(history.history['loss'])\n",
        "plt.title('Loss')\n",
        "\n",
        "# 准确率曲线在右侧\n",
        "plt.subplot(1, 2, 2)\n",
        "plt.plot(history.history['accuracy'])\n",
        "plt.title('Accuracy')\n",
        "\n",
        "# 显示图形\n",
        "plt.show()\n"
      ]
    },
    {
      "cell_type": "markdown",
      "metadata": {},
      "source": [
        "繪製精確率"
      ]
    },
    {
      "cell_type": "markdown",
      "metadata": {},
      "source": [
        "## 產出預測值"
      ]
    },
    {
      "cell_type": "code",
      "execution_count": 14,
      "metadata": {
        "colab": {
          "base_uri": "https://localhost:8080/"
        },
        "id": "0JwKmxDK5HL1",
        "outputId": "84135951-d391-4b10-ff08-c5adadb40d88"
      },
      "outputs": [
        {
          "name": "stdout",
          "output_type": "stream",
          "text": [
            "(1000, 16384)\n",
            "\u001b[1m32/32\u001b[0m \u001b[32m━━━━━━━━━━━━━━━━━━━━\u001b[0m\u001b[37m\u001b[0m \u001b[1m2s\u001b[0m 46ms/step\n",
            "[[0.5144374]\n",
            " [0.5144374]\n",
            " [0.5144374]\n",
            " [0.5144374]\n",
            " [0.5144076]]\n",
            "[[ True]\n",
            " [ True]\n",
            " [ True]\n",
            " [ True]\n",
            " [ True]]\n"
          ]
        }
      ],
      "source": [
        "print(X_test.shape)\n",
        "predictions = network1.predict(X_test)\n",
        "print(predictions[:5])\n",
        "predictions = (predictions > 0.5)\n",
        "print(predictions[:5])"
      ]
    },
    {
      "cell_type": "markdown",
      "metadata": {},
      "source": [
        "0 False - cat\n",
        "\n",
        "1 True  - dog"
      ]
    },
    {
      "cell_type": "code",
      "execution_count": 15,
      "metadata": {
        "colab": {
          "base_uri": "https://localhost:8080/"
        },
        "id": "QpW5mjb36htq",
        "outputId": "4a5d4f67-1dd0-4785-91d3-b0f30a28e5f5"
      },
      "outputs": [
        {
          "name": "stdout",
          "output_type": "stream",
          "text": [
            "              precision    recall  f1-score   support\n",
            "\n",
            "           0       0.62      0.28      0.39       500\n",
            "           1       0.54      0.83      0.65       500\n",
            "\n",
            "    accuracy                           0.56      1000\n",
            "   macro avg       0.58      0.56      0.52      1000\n",
            "weighted avg       0.58      0.56      0.52      1000\n",
            "\n"
          ]
        },
        {
          "data": {
            "text/plain": [
              "<Axes: >"
            ]
          },
          "execution_count": 15,
          "metadata": {},
          "output_type": "execute_result"
        },
        {
          "data": {
            "image/png": "[encoded data removed]",
            "text/plain": [
              "<Figure size 640x480 with 2 Axes>"
            ]
          },
          "metadata": {},
          "output_type": "display_data"
        }
      ],
      "source": [
        "from sklearn.metrics import classification_report\n",
        "print(classification_report(y_test, predictions))\n",
        "\n",
        "from sklearn.metrics import accuracy_score\n",
        "accuracy_score(y_test, predictions)\n",
        "\n",
        "from sklearn.metrics import confusion_matrix\n",
        "cm = confusion_matrix(y_test, predictions)\n",
        "sns.heatmap(cm, annot=True)"
      ]
    },
    {
      "cell_type": "code",
      "execution_count": 22,
      "metadata": {},
      "outputs": [
        {
          "name": "stdout",
          "output_type": "stream",
          "text": [
            "[0.18431373 0.19215686 0.18431373 ... 0.05511811 0.05882353 0.06299213]\n",
            "(16384,)\n",
            "[[47. 49. 47. ... 15. 15. 17.]]\n"
          ]
        }
      ],
      "source": [
        "test_image = X_test[4]\n",
        "print(test_image)\n",
        "print(test_image.shape)\n",
        "test_image = scaler.inverse_transform(test_image.reshape(1, -1))\n",
        "print(test_image)"
      ]
    },
    {
      "cell_type": "code",
      "execution_count": 23,
      "metadata": {},
      "outputs": [
        {
          "data": {
            "text/plain": [
              "<matplotlib.image.AxesImage at 0x2de4afe90>"
            ]
          },
          "execution_count": 23,
          "metadata": {},
          "output_type": "execute_result"
        },
        {
          "data": {
            "image/png": "[encoded data removed]",
            "text/plain": [
              "<Figure size 400x200 with 1 Axes>"
            ]
          },
          "metadata": {},
          "output_type": "display_data"
        }
      ],
      "source": [
        "plt.figure(figsize=(4, 2))\n",
        "plt.axis('off')  # 隱藏坐標軸\n",
        "plt.imshow(test_image.reshape(width, height))"
      ]
    },
    {
      "cell_type": "code",
      "execution_count": 25,
      "metadata": {},
      "outputs": [
        {
          "name": "stdout",
          "output_type": "stream",
          "text": [
            "\u001b[1m1/1\u001b[0m \u001b[32m━━━━━━━━━━━━━━━━━━━━\u001b[0m\u001b[37m\u001b[0m \u001b[1m0s\u001b[0m 31ms/step\n",
            "[[0.58943164]]\n",
            "\u001b[1m1/1\u001b[0m \u001b[32m━━━━━━━━━━━━━━━━━━━━\u001b[0m\u001b[37m\u001b[0m \u001b[1m0s\u001b[0m 29ms/step\n",
            "(1, 1)\n",
            "\u001b[1m1/1\u001b[0m \u001b[32m━━━━━━━━━━━━━━━━━━━━\u001b[0m\u001b[37m\u001b[0m \u001b[1m0s\u001b[0m 27ms/step\n",
            "dog\n"
          ]
        }
      ],
      "source": [
        "print(network1.predict(test_image))\n",
        "print(network1.predict(test_image).shape)\n",
        "\n",
        "ans = 'cat' if network1.predict(test_image) < 0.5 else 'dog'\n",
        "print(ans)\n"
      ]
    }
  ],
  "metadata": {
    "colab": {
      "collapsed_sections": [
        "c_8D8Q-5NR7z",
        "48crjefERiK8"
      ],
      "provenance": []
    },
    "kernelspec": {
      "display_name": "Python 3",
      "name": "python3"
    },
    "language_info": {
      "codemirror_mode": {
        "name": "ipython",
        "version": 3
      },
      "file_extension": ".py",
      "mimetype": "text/x-python",
      "name": "python",
      "nbconvert_exporter": "python",
      "pygments_lexer": "ipython3",
      "version": "3.11.5"
    }
  },
  "nbformat": 4,
  "nbformat_minor": 0
}
