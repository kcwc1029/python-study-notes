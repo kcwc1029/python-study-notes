{
 "cells": [
  {
   "cell_type": "markdown",
   "metadata": {},
   "source": [
    "\n",
    "## Series\n",
    "\n",
    "Series是一種一維的陣列資料結構,在這個陣列內可以存放整數、浮點數、字串、Python物件(例如:字串list、字典dist…)、Numpy的ndarray,約量,…等。雖然是一維陣列資料,可是看起來卻好像是二維陣列資料,因為一個是索引(index)或稱標籤(label),另一個是實際的資料。\n",
    "\n",
    "Series結構與 Python的list類似,不過程式設計師可以為Series的每個元素自行命名索引。可以使用pandas.Series()建立Series物件,語法如下:\n",
    "```\n",
    "pandas.Series(data=None, index=None, dtype=None, name=None, options, ... )\n",
    "```\n",
    "\n",
    "下列章節實例,因為用下列指令導入pandas:\n",
    "```\n",
    "import pasdas as pd\n",
    "```\n",
    "\n",
    "所以可用pd.Series()取代上述的pandas.Series()。"
   ]
  },
  {
   "cell_type": "code",
   "execution_count": 9,
   "metadata": {},
   "outputs": [
    {
     "name": "stdout",
     "output_type": "stream",
     "text": [
      "0    11\n",
      "1    22\n",
      "2    33\n",
      "3    44\n",
      "4    55\n",
      "dtype: int64\n",
      "修改後 s1=0    11\n",
      "1    20\n",
      "2    33\n",
      "3    44\n",
      "4    55\n",
      "dtype: int64\n"
     ]
    }
   ],
   "source": [
    "import pandas as pd\n",
    "\n",
    "s1 = pd.Series([11, 22, 33, 44, 55])\n",
    "print(s1)\n",
    "s1[1] = 20\n",
    "print(f\"修改後 s1={s1}\")"
   ]
  },
  {
   "cell_type": "code",
   "execution_count": 10,
   "metadata": {},
   "outputs": [
    {
     "name": "stdout",
     "output_type": "stream",
     "text": [
      "[30 50 40]\n",
      "Index(['Orange', 'Apple', 'Grape'], dtype='object')\n"
     ]
    }
   ],
   "source": [
    "import pandas as pd\n",
    "\n",
    "s = pd.Series([30, 50, 40], index=['Orange', 'Apple', 'Grape'])\n",
    "print(f\"{s.values}\")\n",
    "print(f\"{s.index}\")"
   ]
  },
  {
   "cell_type": "code",
   "execution_count": 8,
   "metadata": {},
   "outputs": [
    {
     "name": "stdout",
     "output_type": "stream",
     "text": [
      "1    9\n",
      "2    9\n",
      "3    9\n",
      "dtype: int64\n"
     ]
    }
   ],
   "source": [
    "import pandas as pd\n",
    "\n",
    "s6 = pd.Series(9, index=[1, 2, 3])\n",
    "print(f\"{s6}\")"
   ]
  },
  {
   "cell_type": "markdown",
   "metadata": {},
   "source": [
    "### 使用 Python字典 dict 建立 Series物件\n",
    "\n",
    "如果我們使用Python的字典建立Series物件時,字典的鍵(key)就會被視為Series物件的索引,字典鍵的值(value)就會被視為Series物件的值。\n"
   ]
  },
  {
   "cell_type": "code",
   "execution_count": 4,
   "metadata": {},
   "outputs": [
    {
     "name": "stdout",
     "output_type": "stream",
     "text": [
      "北京    Beijing\n",
      "東京      Tokyo\n",
      "dtype: object\n"
     ]
    }
   ],
   "source": [
    "import pandas as pd\n",
    "\n",
    "mydict = {'北京':'Beijing', '東京':'Tokyo'}\n",
    "s2 = pd.Series(mydict)\n",
    "print(f\"{s2}\")"
   ]
  },
  {
   "cell_type": "markdown",
   "metadata": {},
   "source": [
    "### 使用Numpy的ndarray 建立 Series物件"
   ]
  },
  {
   "cell_type": "code",
   "execution_count": 5,
   "metadata": {},
   "outputs": [
    {
     "name": "stdout",
     "output_type": "stream",
     "text": [
      "0    0\n",
      "1    2\n",
      "2    4\n",
      "3    6\n",
      "dtype: int32\n"
     ]
    }
   ],
   "source": [
    "import pandas as pd\n",
    "import numpy as np\n",
    "\n",
    "s3 = pd.Series(np.arange(0, 7, 2))\n",
    "print(f\"{s3}\")"
   ]
  },
  {
   "cell_type": "markdown",
   "metadata": {},
   "source": [
    "### 自訂索引"
   ]
  },
  {
   "cell_type": "code",
   "execution_count": 6,
   "metadata": {},
   "outputs": [
    {
     "name": "stdout",
     "output_type": "stream",
     "text": [
      "3    100\n",
      "5    200\n",
      "7    300\n",
      "dtype: int64\n"
     ]
    }
   ],
   "source": [
    "import pandas as pd\n",
    "\n",
    "myindex = [3, 5, 7]\n",
    "price = [100, 200, 300]\n",
    "s4 = pd.Series(price, index=myindex)\n",
    "print(f\"{s4}\")"
   ]
  },
  {
   "cell_type": "code",
   "execution_count": 18,
   "metadata": {},
   "outputs": [
    {
     "name": "stdout",
     "output_type": "stream",
     "text": [
      "Orange    30\n",
      "Apple     50\n",
      "Grape     40\n",
      "dtype: int64\n",
      "30\n"
     ]
    }
   ],
   "source": [
    "fruits = ['Orange', 'Apple', 'Grape']\n",
    "price = [30, 50, 40]\n",
    "s5 = pd.Series(price, index=fruits)\n",
    "print(f\"{s5}\")\n",
    "print(f\"{s5['Orange']}\")\n"
   ]
  },
  {
   "cell_type": "markdown",
   "metadata": {},
   "source": [
    "### Series運算"
   ]
  },
  {
   "cell_type": "code",
   "execution_count": 17,
   "metadata": {},
   "outputs": [
    {
     "name": "stdout",
     "output_type": "stream",
     "text": [
      "物件相加\n",
      "0    4\n",
      "1    6\n",
      "dtype: int64\n",
      "物件相乘\n",
      "0    3\n",
      "1    8\n",
      "dtype: int64\n",
      "邏輯運算\n",
      "0    False\n",
      "1     True\n",
      "2     True\n",
      "dtype: bool\n"
     ]
    }
   ],
   "source": [
    "import pandas as pd\n",
    "\n",
    "s = pd.Series([0, 1, 2, 3, 4, 5])\n",
    "# 切片\n",
    "# print(f\"s[2:4] = \\n{s[2:4]}\")\n",
    "# print(f\"s[:3] = \\n{s[:3]}\")\n",
    "# print(f\"s[2:] = \\n{s[2:]}\")\n",
    "# print(f\"s[-1:] = \\n{s[-1:]}\")\n",
    "\n",
    "# 物件相加\n",
    "x = pd.Series([1, 2])\n",
    "y = pd.Series([3, 4])\n",
    "print(\"物件相加\")\n",
    "print(f\"{x + y}\")\n",
    "\n",
    "print(\"物件相乘\")\n",
    "print(f\"{x * y}\")\n",
    "\n",
    "print(\"邏輯運算\")\n",
    "x = pd.Series([1, 5, 9])\n",
    "y = pd.Series([2, 4, 8])\n",
    "print(f\"{x > y}\")"
   ]
  },
  {
   "cell_type": "markdown",
   "metadata": {},
   "source": [
    "## DataFrame \n",
    "DataFrame 是一種二維的陣列資料結構,邏輯上而言可以視為是類似Excel的工作表,在這個二維陣列內可以存放整數、浮點數、字串、Python物件(例如:字串list、字典dist…)、Numpy的ndarray,純量,…等。\n",
    "\n",
    "可以使用 DataFrame()建立DataFrame物件,語法如下:\n",
    "```\n",
    "pandas.DataFrame(data=None,index=None,dtype=None,name=None)\n",
    "```\n",
    "\n",
    "\n",
    "\n",
    "我們可以使用組合Series物件成為二維陣列的DataFrame。組合的方式是使用pancas.concat([Series1, Series2, ... ], axis=0) .預設axis是0\n",
    "\n",
    "- axis=0 是直的\n",
    "- axis=1 是橫的\n"
   ]
  },
  {
   "cell_type": "code",
   "execution_count": 19,
   "metadata": {},
   "outputs": [
    {
     "name": "stdout",
     "output_type": "stream",
     "text": [
      "<class 'pandas.core.series.Series'>\n",
      "2020    20\n",
      "2021    21\n",
      "2022    19\n",
      "2020    25\n",
      "2021    26\n",
      "2022    27\n",
      "2020    30\n",
      "2021    29\n",
      "2022    31\n",
      "dtype: int64\n"
     ]
    }
   ],
   "source": [
    "import pandas as pd\n",
    "years = range(2020, 2023)\n",
    "beijing = pd.Series([20, 21, 19], index = years)\n",
    "hongkong = pd.Series([25, 26, 27], index = years)\n",
    "singapore = pd.Series([30, 29, 31], index = years)\n",
    "citydf = pd.concat([beijing, hongkong, singapore])  # 預設axis=0\n",
    "print(type(citydf))\n",
    "print(citydf)"
   ]
  },
  {
   "cell_type": "code",
   "execution_count": 20,
   "metadata": {},
   "outputs": [
    {
     "name": "stdout",
     "output_type": "stream",
     "text": [
      "<class 'pandas.core.frame.DataFrame'>\n",
      "       0   1   2\n",
      "2020  20  25  30\n",
      "2021  21  26  29\n",
      "2022  19  27  31\n"
     ]
    }
   ],
   "source": [
    "import pandas as pd\n",
    "years = range(2020, 2023)\n",
    "beijing = pd.Series([20, 21, 19], index = years)\n",
    "hongkong = pd.Series([25, 26, 27], index = years)\n",
    "singapore = pd.Series([30, 29, 31], index = years)\n",
    "citydf = pd.concat([beijing, hongkong, singapore], axis=1)  # 預設axis=0\n",
    "print(type(citydf))\n",
    "print(citydf)"
   ]
  },
  {
   "cell_type": "markdown",
   "metadata": {},
   "source": [
    "### col屬性(直的)"
   ]
  },
  {
   "cell_type": "code",
   "execution_count": 21,
   "metadata": {},
   "outputs": [
    {
     "name": "stdout",
     "output_type": "stream",
     "text": [
      "      Beijing  HongKong  Singapore\n",
      "2020       20        25         30\n",
      "2021       21        26         29\n",
      "2022       19        27         31\n"
     ]
    }
   ],
   "source": [
    "import pandas as pd\n",
    "years = range(2020, 2023)\n",
    "beijing = pd.Series([20, 21, 19], index = years)\n",
    "hongkong = pd.Series([25, 26, 27], index = years)\n",
    "singapore = pd.Series([30, 29, 31], index = years)\n",
    "citydf = pd.concat([beijing,hongkong,singapore],axis=1)  # axis=1\n",
    "cities = [\"Beijing\", \"HongKong\", \"Singapore\"]\n",
    "citydf.columns = cities\n",
    "print(citydf)"
   ]
  },
  {
   "cell_type": "markdown",
   "metadata": {},
   "source": [
    "Series物件有name屬性,我們可以在建立物件時,在Series()內建立此屬性,也可以物件建立好了後再設定此屬性,如果有name屬性,在列印Series物件時就可以看到此屬性。"
   ]
  },
  {
   "cell_type": "code",
   "execution_count": 22,
   "metadata": {},
   "outputs": [
    {
     "name": "stdout",
     "output_type": "stream",
     "text": [
      "0    20\n",
      "1    21\n",
      "2    19\n",
      "Name: Beijing, dtype: int64\n"
     ]
    }
   ],
   "source": [
    "import pandas as pd\n",
    "\n",
    "beijing = pd.Series([20, 21, 19], name='Beijing')\n",
    "print(beijing)"
   ]
  },
  {
   "cell_type": "code",
   "execution_count": 23,
   "metadata": {},
   "outputs": [
    {
     "name": "stdout",
     "output_type": "stream",
     "text": [
      "      Beijing  HongKong  Singapore\n",
      "2020       20        25         30\n",
      "2021       21        26         29\n",
      "2022       19        27         31\n"
     ]
    }
   ],
   "source": [
    "import pandas as pd\n",
    "years = range(2020, 2023)\n",
    "beijing = pd.Series([20, 21, 19], index = years)\n",
    "hongkong = pd.Series([25, 26, 27], index = years)\n",
    "singapore = pd.Series([30, 29, 31], index = years)\n",
    "beijing.name = \"Beijing\"\n",
    "hongkong.name = \"HongKong\"\n",
    "singapore.name = \"Singapore\"\n",
    "citydf = pd.concat([beijing, hongkong, singapore],axis=1)  \n",
    "print(citydf)"
   ]
  },
  {
   "cell_type": "markdown",
   "metadata": {},
   "source": [
    "### 使用字典建立dataFrame"
   ]
  },
  {
   "cell_type": "code",
   "execution_count": 24,
   "metadata": {},
   "outputs": [
    {
     "name": "stdout",
     "output_type": "stream",
     "text": [
      "     country       town  population\n",
      "0      China    Beijing        2000\n",
      "1      Japan      Tokyo        1600\n",
      "2  Singapore  Singapore         600\n"
     ]
    }
   ],
   "source": [
    "import pandas as pd\n",
    "cities = {'country':['China','Japan','Singapore'],\n",
    "          'town':['Beijing','Tokyo','Singapore'],\n",
    "          'population':[2000, 1600, 600]}\n",
    "citydf = pd.DataFrame(cities)\n",
    "print(citydf)\n"
   ]
  },
  {
   "cell_type": "markdown",
   "metadata": {},
   "source": [
    "### 更改index屬性"
   ]
  },
  {
   "cell_type": "code",
   "execution_count": 25,
   "metadata": {},
   "outputs": [
    {
     "name": "stdout",
     "output_type": "stream",
     "text": [
      "          country       town  population\n",
      "first       China    Beijing        2000\n",
      "second      Japan      Tokyo        1600\n",
      "third   Singapore  Singapore         600\n"
     ]
    }
   ],
   "source": [
    "import pandas as pd\n",
    "cities = {'country':['China','Japan','Singapore'],\n",
    "          'town':['Beijing','Tokyo','Singapore'],\n",
    "          'population':[2000, 1600, 600]}\n",
    "rowindex = ['first', 'second', 'third']\n",
    "citydf = pd.DataFrame(cities, index=rowindex)\n",
    "print(citydf)"
   ]
  },
  {
   "cell_type": "code",
   "execution_count": 26,
   "metadata": {},
   "outputs": [
    {
     "name": "stdout",
     "output_type": "stream",
     "text": [
      "                town  population\n",
      "China        Beijing        2000\n",
      "Japan          Tokyo        1600\n",
      "Singapore  Singapore         600\n"
     ]
    }
   ],
   "source": [
    "import pandas as pd\n",
    "cities = {'country':['China', 'Japan', 'Singapore'],\n",
    "          'town':['Beijing','Tokyo','Singapore'],\n",
    "          'population':[2000, 1600, 600]}\n",
    "citydf = pd.DataFrame(cities,columns=[\"town\",\"population\"],\n",
    "                      index=cities[\"country\"])\n",
    "print(citydf)"
   ]
  },
  {
   "cell_type": "markdown",
   "metadata": {},
   "source": [
    "## 基本Pandas 資料分析與處理\n",
    "\n",
    "Series和DataFrame 物件建立完成後,下一步就是執行資料分析與處理,Pandas提供許多函數或方法,使用者可以針對此執行許多資料分析與處理"
   ]
  },
  {
   "cell_type": "code",
   "execution_count": 28,
   "metadata": {},
   "outputs": [
    {
     "name": "stdout",
     "output_type": "stream",
     "text": [
      "                Town  Population\n",
      "Taiwan        Taipei        2000\n",
      "Taiwan        Tainan        2300\n",
      "Thailand     Bangkok         900\n",
      "Japan          Tokyo        1600\n",
      "Singapore  Singapore         600\n"
     ]
    }
   ],
   "source": [
    "import pandas as pd\n",
    "cities = {'Country':['Taiwan','Taiwan','Thailand','Japan','Singapore'],\n",
    "          'Town':['Taipei','Tainan','Bangkok','Tokyo','Singapore'],\n",
    "          'Population':[2000, 2300, 900, 1600, 600]}\n",
    "df = pd.DataFrame(cities, columns=[\"Town\",\"Population\"],\n",
    "                  index=cities[\"Country\"])\n",
    "print(df)\n"
   ]
  },
  {
   "cell_type": "markdown",
   "metadata": {},
   "source": [
    "### 索引取值"
   ]
  },
  {
   "cell_type": "code",
   "execution_count": 37,
   "metadata": {},
   "outputs": [
    {
     "name": "stdout",
     "output_type": "stream",
     "text": [
      "Taiwan          Taipei\n",
      "Taiwan          Tainan\n",
      "Thailand       Bangkok\n",
      "Japan            Tokyo\n",
      "Singapore    Singapore\n",
      "Name: Town, dtype: object\n",
      "\n",
      "Bangkok\n",
      "\n",
      "Taiwan        True\n",
      "Taiwan        True\n",
      "Thailand     False\n",
      "Japan         True\n",
      "Singapore    False\n",
      "Name: Population, dtype: bool\n"
     ]
    }
   ],
   "source": [
    "import pandas as pd\n",
    "cities = {'Country':['Taiwan','Taiwan','Thailand','Japan','Singapore'],\n",
    "          'Town':['Taipei','Tainan','Bangkok','Tokyo','Singapore'],\n",
    "          'Population':[2000, 2300, 900, 1600, 600]}\n",
    "df = pd.DataFrame(cities, columns=[\"Town\",\"Population\"],\n",
    "                  index=cities[\"Country\"])\n",
    "print(df[\"Town\"])\n",
    "print()\n",
    "print(df[\"Town\"][\"Thailand\"])\n",
    "print()\n",
    "print(df[\"Population\"]>1000)"
   ]
  },
  {
   "cell_type": "markdown",
   "metadata": {},
   "source": [
    "### 四則運算方法\n",
    "\n",
    "下列是適用Pandas的四則運算方法。\n",
    "```\n",
    "add():加法運算。\n",
    "sub():減法運算。\n",
    "mul():乘法運算。\n",
    "div():除法運算。\n",
    "```"
   ]
  },
  {
   "cell_type": "code",
   "execution_count": 41,
   "metadata": {},
   "outputs": [
    {
     "name": "stdout",
     "output_type": "stream",
     "text": [
      "0    5\n",
      "1    7\n",
      "2    9\n",
      "dtype: int64\n",
      "0   -3\n",
      "1   -3\n",
      "2   -3\n",
      "dtype: int64\n",
      "    a    b\n",
      "0  10   40\n",
      "1  90  160\n",
      "      a     b\n",
      "0  10.0  10.0\n",
      "1  10.0  10.0\n"
     ]
    }
   ],
   "source": [
    "import pandas as pd\n",
    "\n",
    "s1 = pd.Series([1, 2, 3])\n",
    "s2 = pd.Series([4, 5, 6])\n",
    "x = s1.add(s2)\n",
    "print(x)\n",
    "\n",
    "y = s1.sub(s2)\n",
    "print(y)\n",
    "\n",
    "data1 = [{'a':10, 'b':20}, {'a':30, 'b':40}]\n",
    "df1 = pd.DataFrame(data1)\n",
    "data2 = [{'a':1, 'b':2}, {'a':3, 'b':4}]\n",
    "df2 = pd.DataFrame(data2)                            \n",
    "print(df1.mul(df2))\n",
    "print(df1.div(df2))\n"
   ]
  },
  {
   "cell_type": "markdown",
   "metadata": {},
   "source": [
    "### 邏輯運算方法\n",
    "\n",
    "下列是適用Pandas的邏輯運算方法。\n",
    "\n",
    "- gt()、It():大於、小於運算。\n",
    "- ge()、le():大於或等於、小於或等於運算。\n",
    "- eq()、ne():等於、不等於運算。"
   ]
  },
  {
   "cell_type": "code",
   "execution_count": 42,
   "metadata": {},
   "outputs": [
    {
     "name": "stdout",
     "output_type": "stream",
     "text": [
      "0    False\n",
      "1     True\n",
      "2     True\n",
      "dtype: bool\n",
      "0    False\n",
      "1    False\n",
      "2    False\n",
      "dtype: bool\n"
     ]
    }
   ],
   "source": [
    "import pandas as pd\n",
    "\n",
    "s1 = pd.Series([1, 5, 9])\n",
    "s2 = pd.Series([2, 4, 8])\n",
    "x = s1.gt(s2)\n",
    "print(x)\n",
    "\n",
    "y = s1.eq(s2)\n",
    "print(y)"
   ]
  },
  {
   "cell_type": "markdown",
   "metadata": {},
   "source": [
    "### numpy應用在pandas"
   ]
  },
  {
   "cell_type": "code",
   "execution_count": 43,
   "metadata": {},
   "outputs": [
    {
     "name": "stdout",
     "output_type": "stream",
     "text": [
      "0    1\n",
      "1    4\n",
      "2    9\n",
      "dtype: int64\n"
     ]
    }
   ],
   "source": [
    "import pandas as pd\n",
    "import numpy as np\n",
    "\n",
    "s = pd.Series([1, 2, 3])\n",
    "x = np.square(s)\n",
    "print(x)\n"
   ]
  },
  {
   "cell_type": "code",
   "execution_count": 44,
   "metadata": {},
   "outputs": [
    {
     "name": "stdout",
     "output_type": "stream",
     "text": [
      "        Frank  Peter  John\n",
      "first      80     96    98\n",
      "second     65     81    88\n",
      "final      75     93    84\n"
     ]
    }
   ],
   "source": [
    "import pandas as pd\n",
    "import numpy as np\n",
    "name = ['Frank', 'Peter', 'John']\n",
    "score = ['first', 'second', 'final']\n",
    "df = pd.DataFrame(np.random.randint(60,100,size=(3,3)),\n",
    "                  columns=name,\n",
    "                  index=score)\n",
    "print(df)"
   ]
  },
  {
   "cell_type": "markdown",
   "metadata": {},
   "source": [
    "\n",
    "## NaN 相關的運算\n",
    "\n",
    "在大數據的資料收集中常常因為執行者疏忽,漏了收集某一時間的資料,這些可用NaN代替。在先前四則運算我們沒有對NaN的值做運算實例,其實凡與NaN做運算,所獲得的結果也是 NaN。"
   ]
  },
  {
   "cell_type": "code",
   "execution_count": 45,
   "metadata": {},
   "outputs": [
    {
     "name": "stdout",
     "output_type": "stream",
     "text": [
      "0     NaN\n",
      "1     NaN\n",
      "2    13.0\n",
      "dtype: float64\n"
     ]
    }
   ],
   "source": [
    "import pandas as pd\n",
    "import numpy as np\n",
    "\n",
    "s1 = pd.Series([1, np.nan, 5])\n",
    "s2 = pd.Series([np.nan, 6, 8])\n",
    "x = s1.add(s2)\n",
    "print(x)\n"
   ]
  },
  {
   "cell_type": "markdown",
   "metadata": {},
   "source": [
    "### 處理NaN\n",
    "\n",
    "- dropna():將NaN刪除,然後傳回新的Series或DataFrame物件。\n",
    "- fillna(value):將NaN由特定value值取代,然後傳回新的Series或DataFrame物件。\n",
    "- isna():判斷是否為NaN,如果是傳回True,如果否傳回False。\n",
    "- notna():判斷是否為NaN,如果是傳回False,如果否傳回True。"
   ]
  },
  {
   "cell_type": "code",
   "execution_count": 46,
   "metadata": {},
   "outputs": [
    {
     "name": "stdout",
     "output_type": "stream",
     "text": [
      "   0    1    2\n",
      "0  1  2.0  3.0\n",
      "1  4  NaN  6.0\n",
      "2  7  8.0  NaN\n",
      "----------------------------------------------------------------------\n",
      "       0      1      2\n",
      "0  False  False  False\n",
      "1  False   True  False\n",
      "2  False  False   True\n",
      "----------------------------------------------------------------------\n",
      "      0      1      2\n",
      "0  True   True   True\n",
      "1  True  False   True\n",
      "2  True   True  False\n"
     ]
    }
   ],
   "source": [
    "# isna()跟notna()應用\n",
    "import pandas as pd\n",
    "import numpy as np\n",
    "\n",
    "df = pd.DataFrame([[1, 2, 3],[4, np.nan, 6],[7, 8, np.nan]])\n",
    "print(df)\n",
    "print(\"-\"*70)\n",
    "x = df.isna()\n",
    "print(x)\n",
    "print(\"-\"*70)\n",
    "y = df.notna()\n",
    "print(y)"
   ]
  },
  {
   "cell_type": "code",
   "execution_count": 48,
   "metadata": {},
   "outputs": [
    {
     "name": "stdout",
     "output_type": "stream",
     "text": [
      "   0    1    2\n",
      "0  1  2.0  3.0\n",
      "1  4  0.0  6.0\n",
      "2  7  8.0  0.0\n"
     ]
    }
   ],
   "source": [
    "# 在NaN填0\n",
    "import pandas as pd\n",
    "import numpy as np\n",
    "\n",
    "df = pd.DataFrame([[1, 2, 3],[4, np.nan, 6],[7, 8, np.nan]])\n",
    "z = df.fillna(0)\n",
    "print(z)\n"
   ]
  },
  {
   "cell_type": "code",
   "execution_count": 57,
   "metadata": {},
   "outputs": [
    {
     "name": "stdout",
     "output_type": "stream",
     "text": [
      "   0    1    2\n",
      "0  1  2.0  3.0\n"
     ]
    }
   ],
   "source": [
    "# 刪除NaN的row\n",
    "import pandas as pd\n",
    "import numpy as np\n",
    "\n",
    "df = pd.DataFrame([[1, 2, 3],[4, np.nan, 6],[7, 8, np.nan]])\n",
    "x = df.dropna(axis=0)\n",
    "print(x)\n"
   ]
  },
  {
   "cell_type": "code",
   "execution_count": 56,
   "metadata": {},
   "outputs": [
    {
     "name": "stdout",
     "output_type": "stream",
     "text": [
      "   0\n",
      "0  1\n",
      "1  4\n",
      "2  7\n"
     ]
    }
   ],
   "source": [
    "# 刪除NaN的col\n",
    "import pandas as pd\n",
    "import numpy as np\n",
    "\n",
    "df = pd.DataFrame([[1, 2, 3],[4, np.nan, 6],[7, 8, np.nan]])\n",
    "x = df.dropna(axis=1)\n",
    "print(x)"
   ]
  },
  {
   "cell_type": "markdown",
   "metadata": {},
   "source": []
  }
 ],
 "metadata": {
  "kernelspec": {
   "display_name": "base",
   "language": "python",
   "name": "python3"
  },
  "language_info": {
   "codemirror_mode": {
    "name": "ipython",
    "version": 3
   },
   "file_extension": ".py",
   "mimetype": "text/x-python",
   "name": "python",
   "nbconvert_exporter": "python",
   "pygments_lexer": "ipython3",
   "version": "3.11.7"
  }
 },
 "nbformat": 4,
 "nbformat_minor": 2
}
