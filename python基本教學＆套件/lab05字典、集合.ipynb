{
 "cells": [
  {
   "cell_type": "markdown",
   "metadata": {},
   "source": [
    "## 字典\n",
    "\n",
    "定義：contains unordered key-value pairs\n",
    "\n",
    "字典的 key 需要是 immutable（不可更改）且 hashable（唯一雜湊值 → 唯一）。\n",
    "\n",
    "常見的 immutable 資料型別包括:\n",
    "-   數字(int, float)\n",
    "-   字串(str)\n",
    "-   元組(tuple)\n",
    "\n"
   ]
  },
  {
   "cell_type": "markdown",
   "metadata": {},
   "source": [
    "## 建立一個空字典\n"
   ]
  },
  {
   "cell_type": "code",
   "execution_count": null,
   "metadata": {},
   "outputs": [],
   "source": [
    "soldier0 = {}           # 建立空字典\n",
    "print(\"空小兵字典\", soldier0)\n",
    "soldier0['tag'] = 'red'\n",
    "soldier0['score'] = 3\n",
    "print(\"新小兵字典\", soldier0)\n"
   ]
  },
  {
   "cell_type": "markdown",
   "metadata": {},
   "source": [
    "## 字典基本操作"
   ]
  },
  {
   "cell_type": "code",
   "execution_count": 3,
   "metadata": {},
   "outputs": [
    {
     "name": "stdout",
     "output_type": "stream",
     "text": [
      "{'助教': 80, '拉拉': 60, '迪西': 40, '小波': 20, '丁丁': 50}\n",
      "50\n",
      "字典fruits資料型態是:  <class 'dict'>\n"
     ]
    }
   ],
   "source": [
    "dict1 = {\"助教\": 80,\"拉拉\": 60,\"迪西\": 40,\"小波\": 20, \"丁丁\": 50, }\n",
    "print(dict1)\n",
    "print(dict1[\"丁丁\"])\n",
    "# 列出字典資料型態\n",
    "print(\"字典fruits資料型態是: \",type(dict1))"
   ]
  },
  {
   "cell_type": "code",
   "execution_count": 1,
   "metadata": {},
   "outputs": [
    {
     "name": "stdout",
     "output_type": "stream",
     "text": [
      "dict_keys(['name', 'age', 'city'])\n",
      "True\n",
      "False\n",
      "John\n",
      "30\n",
      "dict_items([('name', 'John'), ('age', 31), ('city', 'New York')])\n",
      "Key: name, Value: John\n",
      "Key: age, Value: 31\n",
      "Key: city, Value: New York\n"
     ]
    }
   ],
   "source": [
    "person = {\n",
    "    'name': 'John',\n",
    "    'age': 30,\n",
    "    'city': 'New York'\n",
    "}\n",
    "\n",
    "# NOTE: key()\n",
    "print(person.keys())  # 輸出: dict_keys(['name', 'age', 'city'])\n",
    "# 檢查 key 是否存在\n",
    "print('name' in person)  # 輸出: True\n",
    "print('address' in person)  # 輸出: False\n",
    "\n",
    "\n",
    "# NOTE: value()\n",
    "print(person['name'])  # 輸出: John\n",
    "print(person.get('age'))  # 輸出: 30\n",
    "# 設置 value\n",
    "person['age'] = 31\n",
    "\n",
    "\n",
    "# NOTE: item (key-value 對)\n",
    "print(person.items())  # 輸出: dict_items([('name', 'John'), ('age', 30), ('city', 'New York')])\n",
    "# 遍歷 item\n",
    "for key, value in person.items():\n",
    "    print(f\"Key: {key}, Value: {value}\")"
   ]
  },
  {
   "cell_type": "markdown",
   "metadata": {},
   "source": [
    "## 增加字典元素"
   ]
  },
  {
   "cell_type": "code",
   "execution_count": null,
   "metadata": {},
   "outputs": [],
   "source": [
    "fruits = {'西瓜':15, '香蕉':20, '水蜜桃':25}\n",
    "fruits['橘子'] = 18\n",
    "print(fruits)\n",
    "print(\"橘子一斤 = \", fruits['橘子'], \"元\")"
   ]
  },
  {
   "cell_type": "markdown",
   "metadata": {},
   "source": [
    "## 更改字典元素內容"
   ]
  },
  {
   "cell_type": "code",
   "execution_count": null,
   "metadata": {},
   "outputs": [],
   "source": [
    "fruits = {'西瓜':15, '香蕉':20, '水蜜桃':25}\n",
    "print(\"舊價格香蕉一斤 = \", fruits['香蕉'], \"元\")\n",
    "fruits['香蕉'] = 12\n",
    "print(\"新價格香蕉一斤 = \", fruits['香蕉'], \"元\")"
   ]
  },
  {
   "cell_type": "markdown",
   "metadata": {},
   "source": [
    "## 刪除字典特定元素     \n"
   ]
  },
  {
   "cell_type": "code",
   "execution_count": null,
   "metadata": {},
   "outputs": [],
   "source": [
    "fruits = {'西瓜':15, '香蕉':20, '水蜜桃':25}\n",
    "print(\"舊fruits字典內容:\", fruits)\n",
    "del fruits['西瓜']\n",
    "print(\"新fruits字典內容:\", fruits)"
   ]
  },
  {
   "cell_type": "code",
   "execution_count": null,
   "metadata": {},
   "outputs": [],
   "source": [
    "fruits = {'西瓜':15, '香蕉':20, '水蜜桃':25}\n",
    "print(\"舊fruits字典內容:\", fruits)\n",
    "objKey = '西瓜'\n",
    "value = fruits.pop(objKey)\n",
    "print(\"新fruits字典內容:\", fruits)\n",
    "print(\"刪除內容:\", objKey + \":\" + str(value))"
   ]
  },
  {
   "cell_type": "markdown",
   "metadata": {},
   "source": [
    "## 刪除字典所有元素"
   ]
  },
  {
   "cell_type": "code",
   "execution_count": 4,
   "metadata": {},
   "outputs": [
    {
     "name": "stdout",
     "output_type": "stream",
     "text": [
      "舊fruits字典內容: {'西瓜': 15, '香蕉': 20, '水蜜桃': 25}\n",
      "新fruits字典內容: {}\n"
     ]
    }
   ],
   "source": [
    "fruits = {'西瓜':15, '香蕉':20, '水蜜桃':25}\n",
    "print(\"舊fruits字典內容:\", fruits)\n",
    "fruits.clear( )\n",
    "print(\"新fruits字典內容:\", fruits)"
   ]
  },
  {
   "cell_type": "markdown",
   "metadata": {},
   "source": [
    "## 字典拷貝"
   ]
  },
  {
   "cell_type": "code",
   "execution_count": 5,
   "metadata": {},
   "outputs": [
    {
     "name": "stdout",
     "output_type": "stream",
     "text": [
      "位址 =  4367872512   fruits元素 =  {'西瓜': 15, '香蕉': 20, '水蜜桃': 25, '蘋果': 18}\n",
      "位址 =  4368960576   fruits元素 =  {'西瓜': 15, '香蕉': 20, '水蜜桃': 25, '蘋果': 18}\n"
     ]
    }
   ],
   "source": [
    "fruits = {'西瓜':15, '香蕉':20, '水蜜桃':25, '蘋果':18}\n",
    "cfruits = fruits.copy( )\n",
    "print(\"位址 = \", id(fruits), \"  fruits元素 = \", fruits)\n",
    "print(\"位址 = \", id(cfruits), \"  fruits元素 = \", cfruits)"
   ]
  },
  {
   "cell_type": "markdown",
   "metadata": {},
   "source": [
    "## 取得字典元素數量"
   ]
  },
  {
   "cell_type": "code",
   "execution_count": null,
   "metadata": {},
   "outputs": [],
   "source": [
    "fruits = {'西瓜':15, '香蕉':20, '水蜜桃':25, '蘋果':18}\n",
    "noodles = {'牛肉麵':100, '肉絲麵':80, '陽春麵':60}\n",
    "empty_dict = {}\n",
    "print(\"fruits字典元素數量     = \", len(fruits))\n",
    "print(\"noodles字典元素數量    = \", len(noodles))\n",
    "print(\"empty_dict字典元素數量 = \", len(empty_dict))"
   ]
  },
  {
   "cell_type": "markdown",
   "metadata": {},
   "source": [
    "## 檢驗是否存在於字典"
   ]
  },
  {
   "cell_type": "code",
   "execution_count": 6,
   "metadata": {},
   "outputs": [
    {
     "name": "stdout",
     "output_type": "stream",
     "text": [
      "新的fruits字典內容 =  {'西瓜': 15, '香蕉': 20, '水蜜桃': 25, '': 'ㄎ'}\n"
     ]
    }
   ],
   "source": [
    "fruits = {'西瓜':15, '香蕉':20, '水蜜桃':25}\n",
    "key = input(\"請輸入鍵(key) = \")\n",
    "value = input(\"請輸入值(value) = \")\n",
    "if key in fruits:\n",
    "    print(f\"{key}已經在字典了\")\n",
    "else:\n",
    "    fruits[key] = value\n",
    "    print(\"新的fruits字典內容 = \", fruits)"
   ]
  },
  {
   "cell_type": "markdown",
   "metadata": {},
   "source": [
    "## 字典合併"
   ]
  },
  {
   "cell_type": "code",
   "execution_count": 7,
   "metadata": {},
   "outputs": [
    {
     "name": "stdout",
     "output_type": "stream",
     "text": [
      "{1: 'Nissan', 2: 'Toyota', 3: 'Lexus', 11: 'BMW', 12: 'Benz'}\n"
     ]
    }
   ],
   "source": [
    "dealerA = {1:'Nissan', 2:'Toyota', 3:'Lexus'}\n",
    "dealerB = {11:'BMW', 12:'Benz'}\n",
    "dealerA.update(dealerB)\n",
    "print(dealerA)"
   ]
  },
  {
   "cell_type": "markdown",
   "metadata": {},
   "source": [
    "## 搭配字典使用的函數"
   ]
  },
  {
   "cell_type": "code",
   "execution_count": 8,
   "metadata": {},
   "outputs": [
    {
     "name": "stdout",
     "output_type": "stream",
     "text": [
      "wechat_account字典元素個數        2\n",
      "wechat_account['cshung']元素個數  3\n",
      "wechat_account['kevin']元素個數   3\n"
     ]
    }
   ],
   "source": [
    "# len()\n",
    "\n",
    "# 建立內含字典的字典\n",
    "wechat_account = {'cshung':{\n",
    "                        'last_name':'洪',\n",
    "                        'first_name':'錦魁',\n",
    "                        'city':'台北'},\n",
    "                  'kevin':{\n",
    "                        'last_name':'鄭',\n",
    "                        'first_name':'義盟',\n",
    "                        'city':'北京'}}\n",
    "# 列印字典元素個數\n",
    "print(\"wechat_account字典元素個數       \", len(wechat_account))\n",
    "print(\"wechat_account['cshung']元素個數 \", len(wechat_account['cshung']))\n",
    "print(\"wechat_account['kevin']元素個數  \", len(wechat_account['kevin']))"
   ]
  },
  {
   "cell_type": "code",
   "execution_count": 10,
   "metadata": {},
   "outputs": [
    {
     "name": "stdout",
     "output_type": "stream",
     "text": [
      "Value =  25\n",
      "Value =  None\n",
      "Value =  10\n"
     ]
    }
   ],
   "source": [
    "# get() 如果沒有找到指定的值，就返回預設值\n",
    "fruits = {'Apple':20, 'Orange':25}\n",
    "ret_value1 = fruits.get('Orange')\n",
    "print(\"Value = \", ret_value1)\n",
    "ret_value2 = fruits.get('Grape')\n",
    "print(\"Value = \", ret_value2)\n",
    "ret_value3 = fruits.get('Grape', 10)\n",
    "print(\"Value = \", ret_value3)"
   ]
  },
  {
   "cell_type": "code",
   "execution_count": 11,
   "metadata": {},
   "outputs": [
    {
     "name": "stdout",
     "output_type": "stream",
     "text": [
      "Value =  25\n",
      "fruits字典 {'Apple': 20, 'Orange': 25}\n",
      "Value =  25\n",
      "fruits字典 {'Apple': 20, 'Orange': 25}\n"
     ]
    }
   ],
   "source": [
    "# setdefault()\n",
    "# 這個方法基本上與 get（）相同，不同之處在於 get（）方法不會改變字典內容。使用setdefault（）方法時若所搜尋的鍵不在，\n",
    "# 會將\"鍵：值\"加入字典，如果有設定預設值則將鍵：預設值加入字典，如果沒有設定預設值則將鍵：none 加入字典。\n",
    "\n",
    "# key在字典內\n",
    "fruits = {'Apple':20, 'Orange':25}\n",
    "ret_value = fruits.setdefault('Orange')\n",
    "print(\"Value = \", ret_value)\n",
    "print(\"fruits字典\", fruits)\n",
    "ret_value = fruits.setdefault('Orange',100)\n",
    "print(\"Value = \", ret_value)\n",
    "print(\"fruits字典\", fruits)\n"
   ]
  },
  {
   "cell_type": "markdown",
   "metadata": {},
   "source": [
    "## 範例\n",
    "Q1: 請建立星期資訊的英漢字典，相當於輸入英文的星期資訊可以列出星期的中文，如果輸入不是星期英文則列出輸入錯誤。這個程式的另一個特色是，不論輸入大小寫均可以處理。\n",
    "\n",
    "Q2: 有一個fruits 字典內含5種水果的每斤售價，Watermelon:15、Banana:20、Pineapple:25、Orange:12、Apple:18，請先列印此fruits 字典，再依水果名排序列印。"
   ]
  },
  {
   "cell_type": "markdown",
   "metadata": {},
   "source": [
    "## 集合 Sets"
   ]
  },
  {
   "cell_type": "code",
   "execution_count": 12,
   "metadata": {},
   "outputs": [
    {
     "name": "stdout",
     "output_type": "stream",
     "text": [
      "{'banana', 'orange', 'apple'}\n",
      "{'banana', 'orange', 'apple'}\n"
     ]
    }
   ],
   "source": [
    "# 表達方式1\n",
    "fruits = ['apple', 'orange', 'apple', 'banana', 'orange']\n",
    "x = set(fruits)\n",
    "print(x)\n",
    "# 表達方式2\n",
    "y = set(['apple', 'orange', 'apple', 'banana', 'orange'])\n",
    "print(y)"
   ]
  },
  {
   "cell_type": "code",
   "execution_count": 2,
   "metadata": {},
   "outputs": [],
   "source": [
    "# add() 添加元素到集合中。\n",
    "my_set = {1, 2, 3}\n",
    "my_set.add(4)"
   ]
  },
  {
   "cell_type": "code",
   "execution_count": 3,
   "metadata": {},
   "outputs": [],
   "source": [
    "# clear() 清空集合中的所有元素。\n",
    "my_set.clear()"
   ]
  },
  {
   "cell_type": "code",
   "execution_count": 4,
   "metadata": {},
   "outputs": [],
   "source": [
    "# copy()  复制集合。\n",
    "original_set = {1, 2, 3}\n",
    "copied_set = original_set.copy()"
   ]
  },
  {
   "cell_type": "code",
   "execution_count": 5,
   "metadata": {},
   "outputs": [],
   "source": [
    "# discard() 移除集合中的指定元素，如果元素不存在，则不发生任何操作。\n",
    "my_set = {1, 2, 3, 4}\n",
    "my_set.discard(3)"
   ]
  },
  {
   "cell_type": "code",
   "execution_count": 6,
   "metadata": {},
   "outputs": [],
   "source": [
    "# 集合差集 difference()\n",
    "set1 = {1, 2, 3, 4}\n",
    "set2 = {3, 4, 5, 6}\n",
    "result = set1.difference(set2) # 输出: {1, 2}"
   ]
  },
  {
   "cell_type": "code",
   "execution_count": 7,
   "metadata": {},
   "outputs": [],
   "source": [
    "# 集合交集 intersection()\n",
    "set1 = {1, 2, 3, 4}\n",
    "set2 = {3, 4, 5, 6}\n",
    "result = set1.intersection(set2) # 输出: {3, 4}"
   ]
  },
  {
   "cell_type": "code",
   "execution_count": 8,
   "metadata": {},
   "outputs": [],
   "source": [
    "# 判断是否沒有交集 isdisjoint()\n",
    "set1 = {1, 2, 3}\n",
    "set2 = {4, 5, 6}\n",
    "result = set1.isdisjoint(set2) # True，因为两个集合没有交集"
   ]
  },
  {
   "cell_type": "code",
   "execution_count": 9,
   "metadata": {},
   "outputs": [],
   "source": [
    "# 判断一个集合是否是另一个集合的子集 issubset()\n",
    "set1 = {1, 2}\n",
    "set2 = {1, 2, 3, 4}\n",
    "result = set1.issubset(set2) # True，因为set1是set2的子集"
   ]
  },
  {
   "cell_type": "code",
   "execution_count": 10,
   "metadata": {},
   "outputs": [],
   "source": [
    "# 判断一个集合是否是另一个集合的超集 issuperset()\n",
    "set1 = {1, 2, 3, 4}\n",
    "set2 = {1, 2}\n",
    "result = set1.issuperset(set2) # True，因为set1是set2的超集"
   ]
  },
  {
   "cell_type": "code",
   "execution_count": 11,
   "metadata": {},
   "outputs": [],
   "source": [
    "# 返回两个集合的并集。union()\n",
    "set1 = {1, 2, 3}\n",
    "set2 = {3, 4, 5}\n",
    "result = set1.union(set2) # 输出: {1, 2, 3, 4, 5}"
   ]
  },
  {
   "cell_type": "markdown",
   "metadata": {},
   "source": [
    "## 範例\n",
    "Q1: 請建立 2個串列：（10-2 節）\n",
    "\n",
    "A: 1,3,5, ., 99\n",
    "\n",
    "B:1至100的質數\n",
    "\n",
    "然後求上述的交集，聯集，A-B，B-A，AB對稱差集，BA 對稱差"
   ]
  },
  {
   "cell_type": "markdown",
   "metadata": {},
   "source": [
    "## lab5 作業"
   ]
  },
  {
   "cell_type": "code",
   "execution_count": 12,
   "metadata": {},
   "outputs": [
    {
     "name": "stdout",
     "output_type": "stream",
     "text": [
      "{'index': ['國文', '英文', '數學', '自然', '社會'], 'StuA': [50, 60, 70, 80, 90], 'StuB': [57, 86, 73, 82, 43], 'StuC': [97, 96, 86, 97, 83]}\n",
      "StuA學生平均成績：70.0\n",
      "StuB學生平均成績：68.2\n",
      "StuC學生平均成績：91.8\n",
      "國文平均成績: 68.0\n",
      "英文平均成績: 80.66666666666667\n",
      "數學平均成績: 76.33333333333333\n",
      "自然平均成績: 86.33333333333333\n",
      "社會平均成績: 72.0\n"
     ]
    }
   ],
   "source": [
    "dict0 = {\n",
    "    \"index\": [\"國文\", \"英文\", \"數學\", \"自然\", \"社會\"],\n",
    "    \"StuA\": [50, 60, 70, 80, 90],\n",
    "    \"StuB\": [57, 86, 73, 82, 43],\n",
    "    \"StuC\": [97, 96, 86, 97, 83]\n",
    "}\n",
    "print(dict0)\n",
    "index_values = dict0[\"index\"] # ['國文', '英文', '數學', '自然', '社會']\n",
    "sub = list(dict0.keys())[1:] # ['StuA', 'StuB', 'StuC']\n",
    "\n",
    "for i in range(len(sub)):\n",
    "  ans = sum(dict0[sub[i]])/len(dict0[sub[i]])\n",
    "  print(f\"{sub[i]}學生平均成績：{ans}\")\n",
    "\n",
    "\n",
    "for index, value in enumerate(index_values):\n",
    "    # print(index, value)\n",
    "    ans = sum([dict0[\"StuA\"][index], dict0[\"StuB\"][index], dict0[\"StuC\"][index]]) / len(sub)\n",
    "    print(f\"{value}平均成績: {ans}\")\n"
   ]
  },
  {
   "cell_type": "code",
   "execution_count": 13,
   "metadata": {},
   "outputs": [
    {
     "ename": "KeyboardInterrupt",
     "evalue": "Interrupted by user",
     "output_type": "error",
     "traceback": [
      "\u001b[0;31m---------------------------------------------------------------------------\u001b[0m",
      "\u001b[0;31mKeyboardInterrupt\u001b[0m                         Traceback (most recent call last)",
      "Cell \u001b[0;32mIn[13], line 3\u001b[0m\n\u001b[1;32m      1\u001b[0m dict0 \u001b[39m=\u001b[39m {}\n\u001b[1;32m      2\u001b[0m \u001b[39mfor\u001b[39;00m i \u001b[39min\u001b[39;00m \u001b[39mrange\u001b[39m(\u001b[39m4\u001b[39m):\n\u001b[0;32m----> 3\u001b[0m   key \u001b[39m=\u001b[39m \u001b[39minput\u001b[39m()\n\u001b[1;32m      4\u001b[0m   arr \u001b[39m=\u001b[39m \u001b[39minput\u001b[39m()\u001b[39m.\u001b[39msplit(\u001b[39m\"\u001b[39m\u001b[39m,\u001b[39m\u001b[39m\"\u001b[39m) \u001b[39m# ['22', '222', '2222']\u001b[39;00m\n\u001b[1;32m      5\u001b[0m   \u001b[39mif\u001b[39;00m i\u001b[39m>\u001b[39m\u001b[39m0\u001b[39m: arr \u001b[39m=\u001b[39m [\u001b[39mint\u001b[39m(x) \u001b[39mfor\u001b[39;00m x \u001b[39min\u001b[39;00m arr]\n",
      "File \u001b[0;32m~/anaconda3/lib/python3.11/site-packages/ipykernel/kernelbase.py:1202\u001b[0m, in \u001b[0;36mKernel.raw_input\u001b[0;34m(self, prompt)\u001b[0m\n\u001b[1;32m   1200\u001b[0m     msg \u001b[39m=\u001b[39m \u001b[39m\"\u001b[39m\u001b[39mraw_input was called, but this frontend does not support input requests.\u001b[39m\u001b[39m\"\u001b[39m\n\u001b[1;32m   1201\u001b[0m     \u001b[39mraise\u001b[39;00m StdinNotImplementedError(msg)\n\u001b[0;32m-> 1202\u001b[0m \u001b[39mreturn\u001b[39;00m \u001b[39mself\u001b[39m\u001b[39m.\u001b[39m_input_request(\n\u001b[1;32m   1203\u001b[0m     \u001b[39mstr\u001b[39m(prompt),\n\u001b[1;32m   1204\u001b[0m     \u001b[39mself\u001b[39m\u001b[39m.\u001b[39m_parent_ident[\u001b[39m\"\u001b[39m\u001b[39mshell\u001b[39m\u001b[39m\"\u001b[39m],\n\u001b[1;32m   1205\u001b[0m     \u001b[39mself\u001b[39m\u001b[39m.\u001b[39mget_parent(\u001b[39m\"\u001b[39m\u001b[39mshell\u001b[39m\u001b[39m\"\u001b[39m),\n\u001b[1;32m   1206\u001b[0m     password\u001b[39m=\u001b[39m\u001b[39mFalse\u001b[39;00m,\n\u001b[1;32m   1207\u001b[0m )\n",
      "File \u001b[0;32m~/anaconda3/lib/python3.11/site-packages/ipykernel/kernelbase.py:1245\u001b[0m, in \u001b[0;36mKernel._input_request\u001b[0;34m(self, prompt, ident, parent, password)\u001b[0m\n\u001b[1;32m   1242\u001b[0m \u001b[39mexcept\u001b[39;00m \u001b[39mKeyboardInterrupt\u001b[39;00m:\n\u001b[1;32m   1243\u001b[0m     \u001b[39m# re-raise KeyboardInterrupt, to truncate traceback\u001b[39;00m\n\u001b[1;32m   1244\u001b[0m     msg \u001b[39m=\u001b[39m \u001b[39m\"\u001b[39m\u001b[39mInterrupted by user\u001b[39m\u001b[39m\"\u001b[39m\n\u001b[0;32m-> 1245\u001b[0m     \u001b[39mraise\u001b[39;00m \u001b[39mKeyboardInterrupt\u001b[39;00m(msg) \u001b[39mfrom\u001b[39;00m \u001b[39mNone\u001b[39;00m\n\u001b[1;32m   1246\u001b[0m \u001b[39mexcept\u001b[39;00m \u001b[39mException\u001b[39;00m:\n\u001b[1;32m   1247\u001b[0m     \u001b[39mself\u001b[39m\u001b[39m.\u001b[39mlog\u001b[39m.\u001b[39mwarning(\u001b[39m\"\u001b[39m\u001b[39mInvalid Message:\u001b[39m\u001b[39m\"\u001b[39m, exc_info\u001b[39m=\u001b[39m\u001b[39mTrue\u001b[39;00m)\n",
      "\u001b[0;31mKeyboardInterrupt\u001b[0m: Interrupted by user"
     ]
    }
   ],
   "source": [
    "# 加分題\n",
    "dict0 = {}\n",
    "for i in range(4):\n",
    "  key = input()\n",
    "  arr = input().split(\",\") # ['22', '222', '2222']\n",
    "  if i>0: arr = [int(x) for x in arr]\n",
    "  dict0[key]=arr\n",
    "\n",
    "print(dict0)"
   ]
  }
 ],
 "metadata": {
  "kernelspec": {
   "display_name": "base",
   "language": "python",
   "name": "python3"
  },
  "language_info": {
   "codemirror_mode": {
    "name": "ipython",
    "version": 3
   },
   "file_extension": ".py",
   "mimetype": "text/x-python",
   "name": "python",
   "nbconvert_exporter": "python",
   "pygments_lexer": "ipython3",
   "version": "3.11.5"
  },
  "orig_nbformat": 4
 },
 "nbformat": 4,
 "nbformat_minor": 2
}
