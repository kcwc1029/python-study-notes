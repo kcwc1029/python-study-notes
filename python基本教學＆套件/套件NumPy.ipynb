{
 "cells": [
  {
   "cell_type": "markdown",
   "metadata": {},
   "source": [
    "## 安裝及引入\n",
    "!pip install numpy\n",
    "\n",
    "import numpy as np"
   ]
  },
  {
   "cell_type": "markdown",
   "metadata": {},
   "source": [
    "## 轉換資料型態\n",
    "\n",
    "＄ umPy 在定義陣列時，可以透過 dtype 指定資料的型態，就能將陣列內的所有資料轉變成對應的型態 "
   ]
  },
  {
   "cell_type": "code",
   "execution_count": 2,
   "metadata": {},
   "outputs": [
    {
     "name": "stderr",
     "output_type": "stream",
     "text": [
      "/var/folders/sw/9p5t6n_s5slgb49wh4jkfkk00000gn/T/ipykernel_3458/704477725.py:13: RuntimeWarning: invalid value encountered in cast\n",
      "  f = np.array(a, dtype='I')\n"
     ]
    }
   ],
   "source": [
    "import numpy as np\n",
    "\n",
    "a = np.array([1.1, 2.2, 3.3, 0, -1])\n",
    "# 使用 bool 类型的数据类型（布尔型）\n",
    "b = np.array(a, dtype='?')\n",
    "# 使用 Unicode 字符串数据类型\n",
    "c = np.array(a, dtype='U')\n",
    "# 使用字节字符串数据类型\n",
    "d = np.array(a, dtype='S')\n",
    "# 使用无符号整数数据类型（布尔型）\n",
    "e = np.array(a, dtype='B')\n",
    "# 使用整数数据类型\n",
    "f = np.array(a, dtype='I')"
   ]
  },
  {
   "cell_type": "markdown",
   "metadata": {},
   "source": [
    "## 取得資料型態"
   ]
  },
  {
   "cell_type": "code",
   "execution_count": 3,
   "metadata": {},
   "outputs": [
    {
     "name": "stdout",
     "output_type": "stream",
     "text": [
      "int64\n"
     ]
    }
   ],
   "source": [
    "a = np.array([1,2,3,4,5])\n",
    "print(a.dtype)    # int64"
   ]
  },
  {
   "cell_type": "markdown",
   "metadata": {},
   "source": [
    "## 建立陣列的方法"
   ]
  },
  {
   "cell_type": "code",
   "execution_count": 6,
   "metadata": {},
   "outputs": [],
   "source": [
    "# numpy.array()\n",
    "a = np.array([1,2,3,4], dtype=int)                      # 建立一維陣列\n",
    "b = np.array([[1,2],[3,4]])                  # 建立二維陣列\n",
    "\n",
    "# numpy.empty() 可以建立指定大小的空陣列\n",
    "a = np.empty(2)        # 建立一維空陣列\n",
    "b = np.empty([2,2])    # 建立二維空陣列\n",
    "\n",
    "# numpy.zeros() 可以建立每個項目數值為 0 的陣列。\n",
    "a = np.zeros(2)        # 建立一維 zero 陣列\n",
    "b = np.zeros([2,2])    # 建立二維 zero 陣列\n",
    "\n",
    "# numpy.ones() 可以建立每個項目數值為 1 的陣列。\n",
    "a = np.ones(2)        # 建立一維 one 陣列\n",
    "b = np.ones([2,2])    # 建立二維 one 陣列\n",
    "\n",
    "# numpy.eye() 可以建立對角線項目為 1，其他項目為 0 的陣列。\n",
    "print(np.eye(3))     # 建立 3x3 陣列，對角線起始點為 0\n",
    "print(np.eye(3,5))   # 建立 3x5 陣列，對角線起始點為 0\n",
    "print(np.eye(3,5,2)) # 建立 3x3 陣列，對角線起始點為 2\n",
    "\n",
    "\n",
    "# numpy.tile() 會複製現有的陣列的內容，依據新的維度建立新陣列。\n",
    "a = np.array([1,2,3])\n",
    "b = np.tile(a, 5)       # [1,2,3] 重複 5 次變成一維陣列\n",
    "c = np.tile(a, (5, 2))  # [1,2,3] 重複放入 5x2 的陣列中\n",
    "\n",
    "# numpy.arange() 可以建立兩個數值間，指定「間距」的「等差」連續資料的陣列，支援小數點的間隔 ( 設定 dtype 可指定資料型態 )。\n",
    "a = np.arange(10)        # 建立 1～10，間隔為 1 的陣列\n",
    "b = np.arange(5,10, dtype='float')      # 建立 5～10，間隔為 1 的陣列\n",
    "c = np.arange(5,10,0.1)  # 建立 5～10，間隔為 0.1 的陣列\n",
    "\n",
    "# numpy.linspace() 可以建立兩個數值間，指定「數量」的「等差」連續資料陣列，( 額外設定 endpoint False 表示不包含最後一個數字、設定 dtype 可指定資料型態 )。\n",
    "a = np.linspace(5, 10, 10)        # 建立 5～10，內容有 10 個項目的陣列\n",
    "c = np.linspace(5, 10, 10, dtype='int')       # 建立 5～10，內容有 10 個「整數」項目的陣列"
   ]
  },
  {
   "cell_type": "markdown",
   "metadata": {},
   "source": [
    "## 讀取陣列"
   ]
  },
  {
   "cell_type": "code",
   "execution_count": 7,
   "metadata": {},
   "outputs": [
    {
     "name": "stdout",
     "output_type": "stream",
     "text": [
      "1\n",
      "2\n",
      "1\n",
      "5\n"
     ]
    }
   ],
   "source": [
    "# 索引值讀取\n",
    "a = np.array([1,2,3,4,5])\n",
    "print(a[0])    # 1\n",
    "print(a[1])    # 2\n",
    "\n",
    "a = np.array([[1,2,3],[4,5,6]])\n",
    "print(a[0,0])  # 1\n",
    "print(a[1,1])  # 5"
   ]
  },
  {
   "cell_type": "code",
   "execution_count": 8,
   "metadata": {},
   "outputs": [
    {
     "name": "stdout",
     "output_type": "stream",
     "text": [
      "[3 4 5]\n",
      "[1 2 3 4 5]\n",
      "[3 4 5 6 7 8 9]\n",
      "[3 4 5 6 7 8]\n",
      "[1 3 5 7 9]\n",
      "[3 5 7]\n",
      "[9 8 7 6 5 4 3 2 1]\n"
     ]
    }
   ],
   "source": [
    "# 切片讀取 \n",
    "import numpy as np\n",
    "\n",
    "a = np.array([1,2,3,4,5,6,7,8,9])\n",
    "print(a[2:5])   # [3 4 5]              從第三項取值到第五項 ( 不包含第六項 )\n",
    "print(a[:5])    # [1 2 3 4 5]          從第一項取值到第五項 ( 不包含第六項 )\n",
    "print(a[2:])    # [3 4 5 6 7 8 9]      從第三項開始取值\n",
    "print(a[2:-1])  # [3 4 5 6 7 8]        從第三項取值到倒數第二項\n",
    "print(a[::2])   # [1 3 5 7 9]          間隔 2 取值\n",
    "print(a[2:8:2]) # [3 5 7]              第三項到第七項，間隔 2 取值\n",
    "print(a[::-1])  # [9 8 7 6 5 4 3 2 1]  反轉"
   ]
  },
  {
   "cell_type": "markdown",
   "metadata": {},
   "source": [
    "## 迭代陣列"
   ]
  },
  {
   "cell_type": "code",
   "execution_count": 9,
   "metadata": {},
   "outputs": [
    {
     "name": "stdout",
     "output_type": "stream",
     "text": [
      "(0, 0, 0) 1\n",
      "(0, 0, 1) 2\n",
      "(0, 0, 2) 3\n",
      "(0, 1, 0) 4\n",
      "(0, 1, 1) 5\n",
      "(0, 1, 2) 6\n",
      "(1, 0, 0) 7\n",
      "(1, 0, 1) 8\n",
      "(1, 0, 2) 9\n",
      "(1, 1, 0) 10\n",
      "(1, 1, 1) 11\n",
      "(1, 1, 2) 12\n"
     ]
    }
   ],
   "source": [
    "# numpy.ndenumerate() 會回傳迭代陣列時，該元素的索引值，下方的例子會印出這個元素的位置 ( 例如 4 位在 [0,1,0] 的位置 )\n",
    "import numpy as np\n",
    "\n",
    "a = np.array([[[1,2,3],[4,5,6]],[[7,8,9],[10,11,12]]])\n",
    "for i,j in np.ndenumerate(a):\n",
    "    print(i,j)\n"
   ]
  },
  {
   "cell_type": "markdown",
   "metadata": {},
   "source": [
    "## 修改陣列形狀"
   ]
  },
  {
   "cell_type": "code",
   "execution_count": 11,
   "metadata": {},
   "outputs": [
    {
     "name": "stdout",
     "output_type": "stream",
     "text": [
      "[[1 2]\n",
      " [3 4]\n",
      " [5 6]\n",
      " [7 8]]\n",
      "[[1 2 3 4]\n",
      " [5 6 7 8]]\n",
      "\n",
      "[1 2 3 4 5 6 7 8]\n",
      "[[1 2 3 4]\n",
      " [5 6 7 8]]\n",
      "[[[1 2]\n",
      "  [3 4]]\n",
      "\n",
      " [[5 6]\n",
      "  [7 8]]]\n"
     ]
    }
   ],
   "source": [
    "# reshape() 可以將現有的陣列，轉換為特定維度的陣列\n",
    "import numpy as np\n",
    "\n",
    "a = np.array([1,2,3,4,5,6,7,8])\n",
    "b = a.reshape((4,2))\n",
    "print(b)\n",
    "c = a.reshape((2,4))\n",
    "print(c)\n",
    "print()\n",
    "\n",
    "# 如果轉換時不確定該維度要具有多少個項目，可使用「-1」代替，下方的例子會將一個 4x2 的二維陣列，變成一維陣列、2x4 陣列以及三維陣列。\n",
    "a = np.array([[1,2],[3,4],[5,6],[7,8]])\n",
    "b = a.reshape(-1)        # 轉換成一維陣列\n",
    "print(b)                 # [1 2 3 4 5 6 7 8]\n",
    "c = a.reshape((2,-1))    # 等同 a.reshape((2,4))\n",
    "print(c)\n",
    "d = a.reshape((2,2,-1))  # 等同 a.reshape((2,2,2))\n",
    "print(d)"
   ]
  },
  {
   "cell_type": "code",
   "execution_count": 13,
   "metadata": {},
   "outputs": [],
   "source": [
    "# flatten() 和 numpy.ravel() 能將多維度的陣列，扁平化成一維陣列\n",
    "# 可以設定 order 參數調整扁平的順序:\n",
    "# 預設為 C，表示先水平再垂直，\n",
    "# 設定為 F 表示先垂直再水平。\n",
    "\n",
    "import numpy as np\n",
    "\n",
    "a = np.array([[1,2],[3,4],[5,6],[7,8]])\n",
    "b = a.flatten('C')    # [1 2 3 4 5 6 7 8]\n",
    "c = a.flatten('F')    # [1 2 3 4 5 6 7 8]\n",
    "b1 = np.ravel(a,'C')  # [1 3 5 7 2 4 6 8]\n",
    "c1 = np.ravel(a,'K')  # [1 2 3 4 5 6 7 8]"
   ]
  },
  {
   "cell_type": "code",
   "execution_count": 14,
   "metadata": {},
   "outputs": [
    {
     "name": "stdout",
     "output_type": "stream",
     "text": [
      "[[1 3]\n",
      " [2 4]]\n",
      "[[1 3]\n",
      " [2 4]]\n"
     ]
    }
   ],
   "source": [
    "# numpy.transpose() 和 T 轉至\n",
    "import numpy as np\n",
    "\n",
    "a = np.array([[1,2],[3,4]])\n",
    "b = a.T\n",
    "c = np.transpose(a)\n",
    "print(b)\n",
    "print(c)"
   ]
  },
  {
   "cell_type": "markdown",
   "metadata": {},
   "source": [
    "## numpy.rollaxis() 和 numpy.swapaxes() 會根據指定「軸」，將陣列項目滾動改變或交換位置，下圖為一個陣列的「軸」的示意。\n",
    "![upgit_20240429_1714323657.png](https://raw.githubusercontent.com/kcwc1029/obsidian-upgit-image/main/2024/04/upgit_20240429_1714323657.png)"
   ]
  },
  {
   "cell_type": "markdown",
   "metadata": {},
   "source": [
    "## 修改陣列項目"
   ]
  },
  {
   "cell_type": "code",
   "execution_count": 15,
   "metadata": {},
   "outputs": [
    {
     "data": {
      "text/plain": [
       "(array([[1, 1],\n",
       "        [1, 2],\n",
       "        [2, 2]]),\n",
       " array([[1, 1, 1, 2, 2],\n",
       "        [2, 1, 1, 1, 2],\n",
       "        [2, 2, 1, 1, 1],\n",
       "        [2, 2, 2, 1, 1],\n",
       "        [1, 2, 2, 2, 1]]),\n",
       " array([[1, 1],\n",
       "        [1, 2]]))"
      ]
     },
     "execution_count": 15,
     "metadata": {},
     "output_type": "execute_result"
    }
   ],
   "source": [
    "\"\"\"\n",
    "numpy.resize() 會將原本的陣列調整為新的尺寸，運作原理是先把原本陣列的元素攤平，\n",
    "再依序放入新尺寸的陣列中，若新尺寸大於原本的項目數量，就依序重複放入，\n",
    "如果新尺寸小於原本的數量，就會捨棄超過的項目。\n",
    "\"\"\"\n",
    "import numpy as np\n",
    "\n",
    "a = np.array([[1,1,1],[2,2,2]])\n",
    "b = np.resize(a, (3,2))\n",
    "c = np.resize(a, (5,5))\n",
    "d = np.resize(a, (2,2))\n",
    "b, c, d\n"
   ]
  },
  {
   "cell_type": "code",
   "execution_count": 20,
   "metadata": {},
   "outputs": [
    {
     "name": "stdout",
     "output_type": "stream",
     "text": [
      "[1 1 1 2 2 2 1] [1 1 1 2 2 2 3 3 3]\n",
      "\n"
     ]
    },
    {
     "data": {
      "text/plain": [
       "(array([[1, 1, 1, 3, 3, 3],\n",
       "        [2, 2, 2, 4, 4, 4]]),\n",
       " array([[1, 1, 1],\n",
       "        [2, 2, 2],\n",
       "        [3, 3, 3],\n",
       "        [4, 4, 4]]))"
      ]
     },
     "execution_count": 20,
     "metadata": {},
     "output_type": "execute_result"
    }
   ],
   "source": [
    "# numpy.append() 會將項目添加到陣列最後面，並返回一個一維陣列\n",
    "import numpy as np\n",
    "\n",
    "a = np.array([[1,1,1],[2,2,2]])\n",
    "b = np.append(a, 1)\n",
    "c = np.append(a, [3,3,3])\n",
    "print(b, c)\n",
    "print()\n",
    "\n",
    "# 可以設定第三個參數 ( 預設 None ) 為 0 ( 行 ) 或 1 ( 列 )，指定資料插入的維度。\n",
    "b = np.append(a, [[3,3,3],[4,4,4]],1)\n",
    "c = np.append(a, [[3,3,3],[4,4,4]],0)\n",
    "b, c"
   ]
  },
  {
   "cell_type": "code",
   "execution_count": 21,
   "metadata": {},
   "outputs": [
    {
     "data": {
      "text/plain": [
       "(array([1, 4, 4, 1, 2, 2, 3, 3]),\n",
       " array([1, 1, 4, 4, 2, 2, 3, 3]),\n",
       " array([[1, 1],\n",
       "        [2, 2],\n",
       "        [4, 4],\n",
       "        [3, 3]]))"
      ]
     },
     "execution_count": 21,
     "metadata": {},
     "output_type": "execute_result"
    }
   ],
   "source": [
    "\"\"\"\n",
    "numpy.insert() 會將項目添加到陣列指定的位置，並返回一個一維陣列，\n",
    "第三個參數是要加入的內容，如果設定第四個參數 ( 預設 None ) 為 0 ( 行 ) 或 1 ( 列 )，則可以指定資料插入的維度。\n",
    "\"\"\"\n",
    "import numpy as np\n",
    "\n",
    "a = np.array([[1,1],[2,2],[3,3]])\n",
    "b = np.insert(a, 1, [4,4])\n",
    "c = np.insert(a, 2, [4,4])\n",
    "d = np.insert(a, 2, [4,4], 0) \n",
    "b, c, d"
   ]
  },
  {
   "cell_type": "code",
   "execution_count": 24,
   "metadata": {},
   "outputs": [
    {
     "data": {
      "text/plain": [
       "(array([1, 3, 4, 5, 6]),\n",
       " array([1, 2, 4, 5, 6]),\n",
       " array([[1, 2],\n",
       "        [3, 4]]))"
      ]
     },
     "execution_count": 24,
     "metadata": {},
     "output_type": "execute_result"
    }
   ],
   "source": [
    "# numpy.delete() 會將項目刪除陣列中指定位置的項目，並返回一個一維陣列\n",
    "# 如果設定第三個參數 ( 預設 None ) 為 0 ( 行 ) 或 1 ( 列 )，則可以指定資料插入的維度。\n",
    "import numpy as np\n",
    "\n",
    "a = np.array([[1,2],[3,4],[5,6]])\n",
    "b = np.delete(a, 1)\n",
    "c = np.delete(a, 2)\n",
    "d = np.delete(a, 2, 0)\n",
    "b,c,d\n"
   ]
  },
  {
   "cell_type": "code",
   "execution_count": 25,
   "metadata": {},
   "outputs": [
    {
     "data": {
      "text/plain": [
       "(array([1, 2, 3]),\n",
       " (array([1, 2, 3]), array([0, 2, 4])),\n",
       " (array([1, 2, 3]), array([0, 0, 1, 1, 2, 2])),\n",
       " (array([1, 2, 3]), array([2, 2, 2])))"
      ]
     },
     "execution_count": 25,
     "metadata": {},
     "output_type": "execute_result"
    }
   ],
   "source": [
    "\"\"\"\n",
    "numpy.unique() 會取出不重複的項目，返回一個一維陣列\n",
    "- return_index\t如果為 True，返回取出的元素在原來列表中的位置。\n",
    "- return_inverse\t如果為 True，返回原本的元素在新列表中的位置。\n",
    "- return_counts\t如果為 True，返回取出的項目在原本列表中出現的次\n",
    "\"\"\"\n",
    "import numpy as np\n",
    "\n",
    "a = np.array([[1,1],[2,2],[3,3]])\n",
    "b = np.unique(a)\n",
    "c = np.unique(a, return_index=True)\n",
    "d = np.unique(a, return_inverse=True)\n",
    "e = np.unique(a, return_counts=True)\n",
    "b, c,d,e"
   ]
  },
  {
   "cell_type": "markdown",
   "metadata": {},
   "source": [
    "## 填充陣列\n",
    "＄ numpy.pad() 填充陣列時能設定填充模式，預設使用 constant 填充相同的數值 ( 預設 0 )\n",
    "- constant\t連續填充相同值 ( 預設 )，預設填入 0，也可指定單一填充數值，或使用 (x,y) 表示左方空缺填入 x，右方空缺填入 y。\n",
    "- edge\t邊緣填充，右方空缺填入與最右方項目相同的值，左方空缺填入與最左方項目相同的值。\n",
    "- linear_ramp\t邊緣遞減，空缺處填入逐漸變小的值，直到最小值。\n",
    "- maximum\t最大值填充，空缺處填入原本陣列裡項目的最大值。\n",
    "- minimum\t最小值填充，空缺處填入原本陣列裡項目的最小值。\n",
    "- mean\t平均值填充，空缺處填入陣列項目的平均值。\n",
    "- median\t中位數填充，空缺處填入陣列項目的中位數。\n",
    "- reflect\t反射填充，空缺處填入與陣列項目鏡像反射的數值。\n",
    "- symmetric\t對稱填充，空缺處填入與陣列項目對稱的數值。\n",
    "- wrap\t包裹填充，空缺處填入與陣列重複同樣的數值。"
   ]
  },
  {
   "cell_type": "code",
   "execution_count": 29,
   "metadata": {},
   "outputs": [
    {
     "name": "stdout",
     "output_type": "stream",
     "text": [
      "[ 0  0  0  0  0 -2 -1  0  1  2  0  0  0  0  0]\n",
      "[ 5  5  5  5  5 -2 -1  0  1  2  8  8  8  8  8]\n",
      "\n",
      "[-2 -2 -2 -2 -2 -2 -1  0  1  2  2  2  2  2  2]\n",
      "[ 0 -1 -1 -2 -2 -2 -1  0  1  2  1  1  0  0  0]\n",
      "[ 2  2  2  2  2 -2 -1  0  1  2  2  2  2  2  2]\n",
      "[ 0  0  0  0  0 -2 -1  0  1  2  0  0  0  0  0]\n",
      "[ 0  0  0  0  0 -2 -1  0  1  2  0  0  0  0  0]\n",
      "[-2 -2 -2 -2 -2 -2 -1  0  1  2 -2 -2 -2 -2 -2]\n",
      "[ 1  2  1  0 -1 -2 -1  0  1  2  1  0 -1 -2 -1]\n",
      "[ 2  1  0 -1 -2 -2 -1  0  1  2  2  1  0 -1 -2]\n",
      "[-2 -1  0  1  2 -2 -1  0  1  2 -2 -1  0  1  2]\n"
     ]
    }
   ],
   "source": [
    "# 填充一維陣列\n",
    "import numpy as np\n",
    "a = np.array([-2,-1,0,1,2])\n",
    "print(np.pad(a,5)) # 左右各多出五個空格，填入 0\n",
    "print(np.pad(a,5,constant_values = (5,8))) # 左右各多出五個空格，左邊填入 5，右邊填入 8\n",
    "print()\n",
    "a = np.array([-2,-1,0,1,2])\n",
    "\n",
    "# 使用 'edge' 模式填充数组，将数组边界的值复制到边界外的元素\n",
    "print(np.pad(a, 5, mode='edge'))        # [-2 -2 -2 -2 -2 -2 -1  0  1  2  2  2  2  2  2]\n",
    "# 使用 'linear_ramp' 模式填充数组，沿着数组边界线性地增加或减少值\n",
    "print(np.pad(a, 5, mode='linear_ramp')) # [ 0  0  0 -1 -1 -2 -1  0  1  2  1  1  0  0  0]\n",
    "# 使用 'maximum' 模式填充数组，将数组边界的最大值复制到边界外的元素\n",
    "print(np.pad(a, 5, mode='maximum'))     # [ 2  2  2  2  2 -2 -1  0  1  2  2  2  2  2  2]\n",
    "# 使用 'mean' 模式填充数组，将数组边界的均值复制到边界外的元素\n",
    "print(np.pad(a, 5, mode='mean'))        # [ 0  0  0  0  0 -2 -1  0  1  2  0  0  0  0  0]\n",
    "# 使用 'median' 模式填充数组，将数组边界的中位数复制到边界外的元素\n",
    "print(np.pad(a, 5, mode='median'))      # [ 0  0  0  0  0 -2 -1  0  1  2  0  0  0  0  0]\n",
    "# 使用 'minimum' 模式填充数组，将数组边界的最小值复制到边界外的元素\n",
    "print(np.pad(a, 5, mode='minimum'))     # [-2 -2 -2 -2 -2 -2 -1  0  1  2 -2 -2 -2 -2 -2]\n",
    "# 使用 'reflect' 模式填充数组，对数组边界进行镜像反射填充\n",
    "print(np.pad(a, 5, mode='reflect'))     # [ 1  2  1  0 -1 -2 -1  0  1  2  1  0 -1 -2 -1]\n",
    "# 使用 'symmetric' 模式填充数组，对数组边界进行对称填充\n",
    "print(np.pad(a, 5, mode='symmetric'))   # [ 2  1  0 -1 -2 -2 -1  0  1  2  2  1  0 -1 -2]\n",
    "# 使用 'wrap' 模式填充数组，将数组视为环形，边界之外的索引从相反的边界处重新开始\n",
    "print(np.pad(a, 5, mode='wrap'))        # 结果同 'reflect'\n"
   ]
  },
  {
   "cell_type": "code",
   "execution_count": 32,
   "metadata": {},
   "outputs": [
    {
     "name": "stdout",
     "output_type": "stream",
     "text": [
      "[[0 0 0 0]\n",
      " [0 1 1 0]\n",
      " [0 2 2 0]\n",
      " [0 0 0 0]]\n",
      "[[5 5 5 8]\n",
      " [5 1 1 8]\n",
      " [5 2 2 8]\n",
      " [5 8 8 8]]\n",
      "\n",
      "[[0 0 0 0 0]\n",
      " [0 1 1 0 0]\n",
      " [0 2 2 0 0]\n",
      " [0 0 0 0 0]\n",
      " [0 0 0 0 0]]\n",
      "[[5 5 5 8 8]\n",
      " [5 1 1 8 8]\n",
      " [5 2 2 8 8]\n",
      " [5 8 8 8 8]\n",
      " [5 8 8 8 8]]\n"
     ]
    }
   ],
   "source": [
    "# 填充多維陣列\n",
    "# 一維陣列填充後，會自動在「上下左右」擴展出指定的大小\n",
    "# 可設定上下左右的擴展大小 ( 設定的兩個數值的第一個表示左和上，第二個表示右和下 )，以及填入的數值內容 ( 設定的兩個數值的第一個表示左和上，第二個表示右和下 )。\n",
    "import numpy as np\n",
    "a = np.array([[1,1],[2,2]])\n",
    "print(np.pad(a,1))\n",
    "print(np.pad(a,1,constant_values = (5,8)))\n",
    "print()\n",
    "print(np.pad(a,(1,2)))\n",
    "print(np.pad(a,(1,2),constant_values = (5,8)))"
   ]
  },
  {
   "cell_type": "markdown",
   "metadata": {},
   "source": [
    "## 分割陣列"
   ]
  },
  {
   "cell_type": "code",
   "execution_count": 33,
   "metadata": {},
   "outputs": [
    {
     "data": {
      "text/plain": [
       "([array([1, 2]), array([3, 4]), array([5, 6])],\n",
       " [array([1, 2]), array([3, 4]), array([5, 6])])"
      ]
     },
     "execution_count": 33,
     "metadata": {},
     "output_type": "execute_result"
    }
   ],
   "source": [
    "# numpy.split()、numpy.array_split() 會分割陣列，返回指定數量的新陣列\n",
    "# 參數：原本的陣列，分割的數量，0 水平分割或 1 為垂直分割。\n",
    "import numpy as np\n",
    "a = np.array([1,2,3,4,5,6])\n",
    "b = np.array_split(a, 3)\n",
    "c = np.split(a, 3)\n",
    "b, c"
   ]
  },
  {
   "cell_type": "code",
   "execution_count": 34,
   "metadata": {},
   "outputs": [
    {
     "data": {
      "text/plain": [
       "([array([[1, 2],\n",
       "         [3, 4]]),\n",
       "  array([[5, 6]])],\n",
       " [array([[1],\n",
       "         [3],\n",
       "         [5]]),\n",
       "  array([[2],\n",
       "         [4],\n",
       "         [6]])])"
      ]
     },
     "execution_count": 34,
     "metadata": {},
     "output_type": "execute_result"
    }
   ],
   "source": [
    "# 將一個二維陣列，按照水平或垂直分割的設定，分割成兩個新陣列 ( 因為數量無法整除，所以不能使用 numpy.split )。\n",
    "import numpy as np\n",
    "\n",
    "a = np.array([[1,2],[3,4],[5,6]])\n",
    "b = np.array_split(a, 2)\n",
    "c = np.array_split(a, 2, 1)\n",
    "b, c"
   ]
  },
  {
   "cell_type": "code",
   "execution_count": 36,
   "metadata": {},
   "outputs": [
    {
     "data": {
      "text/plain": [
       "([array([[1],\n",
       "         [2],\n",
       "         [3]]),\n",
       "  array([[1],\n",
       "         [2],\n",
       "         [3]]),\n",
       "  array([[1],\n",
       "         [2],\n",
       "         [3]])],\n",
       " [array([[1, 1, 1]]), array([[2, 2, 2]]), array([[3, 3, 3]])])"
      ]
     },
     "execution_count": 36,
     "metadata": {},
     "output_type": "execute_result"
    }
   ],
   "source": [
    "# numpy.hsplit() 會水平分割陣列，返回指定數量的新陣列\n",
    "# numpy.vsplit 會垂直分割陣列，返回指定數量的新陣列\n",
    "import numpy as np\n",
    "\n",
    "a = np.array([[1,1,1],[2,2,2],[3,3,3]])\n",
    "b = np.hsplit(a, 3)\n",
    "c = np.vsplit(a, 3)\n",
    "b, c\n"
   ]
  },
  {
   "cell_type": "markdown",
   "metadata": {},
   "source": [
    "## 合併陣列"
   ]
  },
  {
   "cell_type": "code",
   "execution_count": 41,
   "metadata": {},
   "outputs": [
    {
     "data": {
      "text/plain": [
       "(array([1, 2, 2]),\n",
       " array([[1, 1],\n",
       "        [2, 2],\n",
       "        [3, 3],\n",
       "        [4, 4],\n",
       "        [5, 5],\n",
       "        [6, 6]]),\n",
       " array([[1, 1],\n",
       "        [2, 2],\n",
       "        [3, 3],\n",
       "        [4, 4],\n",
       "        [5, 5],\n",
       "        [6, 6]]),\n",
       " array([[1, 1, 4, 4],\n",
       "        [2, 2, 5, 5],\n",
       "        [3, 3, 6, 6]]))"
      ]
     },
     "execution_count": 41,
     "metadata": {},
     "output_type": "execute_result"
    }
   ],
   "source": [
    "# numpy.concatenate() 會將多個「同樣形狀」的陣列，依序連接為新陣列，如果陣列形狀不同，合併會發生錯誤。\n",
    "a = np.array([1])\n",
    "b = np.array([2,2])\n",
    "c = np.concatenate((a, b))\n",
    "\n",
    "a = np.array([[1,1],[2,2],[3,3]])\n",
    "b = np.array([[4,4],[5,5],[6,6]])\n",
    "d = np.concatenate((a, b))\n",
    "e = np.concatenate((a, b), axis=0)\n",
    "f = np.concatenate((a, b), axis=1)\n",
    "c, d, e, f"
   ]
  },
  {
   "cell_type": "code",
   "execution_count": 45,
   "metadata": {},
   "outputs": [
    {
     "data": {
      "text/plain": [
       "(array([[1, 1],\n",
       "        [2, 2],\n",
       "        [3, 3]]),\n",
       " array([[1, 1],\n",
       "        [2, 2]]),\n",
       " array([[1, 2],\n",
       "        [1, 2]]))"
      ]
     },
     "execution_count": 45,
     "metadata": {},
     "output_type": "execute_result"
    }
   ],
   "source": [
    "# numpy.stack() 會將多個「同樣形狀」的陣列，依序堆積為新陣列\n",
    "a = np.array([1,1])\n",
    "b = np.array([2,2])\n",
    "c = np.array([3,3])\n",
    "d = np.stack((a, b, c))\n",
    "e = np.stack((a, b), axis=0)  \n",
    "f = np.stack((a, b), axis=1)  \n",
    "d, e, f"
   ]
  },
  {
   "cell_type": "markdown",
   "metadata": {},
   "source": [
    "## 陣列排序"
   ]
  },
  {
   "cell_type": "code",
   "execution_count": 46,
   "metadata": {},
   "outputs": [
    {
     "data": {
      "text/plain": [
       "array([1, 2, 3, 4, 5, 6, 7, 8, 9])"
      ]
     },
     "execution_count": 46,
     "metadata": {},
     "output_type": "execute_result"
    }
   ],
   "source": [
    "\"\"\"\n",
    "# numpy.sort() 會將陣列內容從小到大排序，產生新的陣列。\n",
    "- axis\t排序的維度 ( 軸 )，預設 -1 ( 從最後的軸開始排序 )，可設定 None、0、1。\n",
    "- kind\t排序的演算法，預設 quicksort，另外還有 mergesort、heapsort 和 stable 三種。\n",
    "- order\t如果使用字串定義陣列的欄位，可以用來指定比較的欄位。\n",
    "\"\"\"\n",
    "a = np.array([5,3,4,2,1,6,7,9,8])\n",
    "b = np.sort(a)\n",
    "b"
   ]
  },
  {
   "cell_type": "code",
   "execution_count": 48,
   "metadata": {},
   "outputs": [
    {
     "data": {
      "text/plain": [
       "(array([[2, 3, 7],\n",
       "        [5, 2, 6],\n",
       "        [3, 1, 2]]),\n",
       " array([[0, 1, 2],\n",
       "        [1, 0, 2],\n",
       "        [1, 2, 0]]))"
      ]
     },
     "execution_count": 48,
     "metadata": {},
     "output_type": "execute_result"
    }
   ],
   "source": [
    "# numpy.argsort() 會將陣列從小到大排序後，回傳內容為「索引值」的陣列。\n",
    "arr = [\n",
    "  [2,3,7],\n",
    "  [5,2,6],\n",
    "  [3,1,2]\n",
    "]\n",
    "a = np.array(arr)\n",
    "b = np.argsort(a)\n",
    "a, b"
   ]
  },
  {
   "cell_type": "code",
   "execution_count": 49,
   "metadata": {},
   "outputs": [
    {
     "data": {
      "text/plain": [
       "(7, 0)"
      ]
     },
     "execution_count": 49,
     "metadata": {},
     "output_type": "execute_result"
    }
   ],
   "source": [
    "# numpy.argmax()、numpy.argmin() 會回傳最大值或最小值的「索引值」。\n",
    "a = np.array([1,2,3,4,5,6,7,8])\n",
    "b = np.argmax(a)\n",
    "c = np.argmin(a)\n",
    "b, c"
   ]
  },
  {
   "cell_type": "markdown",
   "metadata": {},
   "source": [
    "## 廣播"
   ]
  },
  {
   "cell_type": "code",
   "execution_count": 50,
   "metadata": {},
   "outputs": [
    {
     "name": "stdout",
     "output_type": "stream",
     "text": [
      "[[3 4 5]\n",
      " [6 7 8]]\n",
      "[[-1  0  1]\n",
      " [ 2  3  4]]\n",
      "[[ 2  4  6]\n",
      " [ 8 10 12]]\n",
      "[[1 0 1]\n",
      " [0 1 0]]\n"
     ]
    }
   ],
   "source": [
    "# 廣播單一數字\n",
    "# 將原本陣列的所有元素，根據數學運算式加減乘除廣播的數字，產生新的陣列。\n",
    "b = 2                     # 廣播單一數字 2\n",
    "c = np.array([[1,2,3],[4,5,6]])  # 2x3 陣列\n",
    "print(c+b)    # [[3 4 5] [6 7 8]]\n",
    "print(c-b)    # [[-1  0  1] [ 2  3  4]]\n",
    "print(c*b)    # [[ 2  4  6] [ 8 10 12]]\n",
    "print(c%b)    # [[1 0 1] [0 1 0]]"
   ]
  },
  {
   "cell_type": "code",
   "execution_count": 51,
   "metadata": {},
   "outputs": [
    {
     "name": "stdout",
     "output_type": "stream",
     "text": [
      "[[2 3 4]\n",
      " [3 4 5]]\n",
      "[[ 0 -1 -2]\n",
      " [ 1  0 -1]]\n",
      "[[1 2 3]\n",
      " [2 4 6]]\n",
      "[[0 1 1]\n",
      " [0 0 2]]\n",
      "[[2 2 2]\n",
      " [4 4 4]\n",
      " [6 6 6]]\n",
      "[[0 0 0]\n",
      " [0 0 0]\n",
      " [0 0 0]]\n",
      "[[1 1 1]\n",
      " [4 4 4]\n",
      " [9 9 9]]\n",
      "[[0 0 0]\n",
      " [0 0 0]\n",
      " [0 0 0]]\n"
     ]
    }
   ],
   "source": [
    "# 將某個陣列廣播到另外一個陣列，必須注意在「同一個軸 ( 維度 )」上的數量必須相等或等於 1，不然廣播時會發生錯誤。\n",
    "a = np.array([[1,1,1],[2,2,2]])   # 2x3 陣列\n",
    "b = np.array([1,2,3])             # 1x3 陣列\n",
    "print(a+b)     # [[2 3 4] [3 4 5]]\n",
    "print(a-b)     # [[ 0 -1 -2] [ 1  0 -1]]\n",
    "print(a*b)     # [[1 2 3] [2 4 6]]\n",
    "print(a%b)     # [[0 1 1] [0 0 2]]\n",
    "\n",
    "c = np.array([[1,1,1],[2,2,2],[3,3,3]])   # 3x3 陣列\n",
    "d = np.array([[1],[2],[3]])               # 3x1 陣列\n",
    "print(c+d)     # [[2 2 2] [4 4 4] [6 6 6]]\n",
    "print(c-d)     # [[0 0 0] [0 0 0] [0 0 0]]\n",
    "print(c*d)     # [[1 1 1] [4 4 4] [9 9 9]]\n",
    "print(c%d)     # [[0 0 0] [0 0 0] [0 0 0]]"
   ]
  },
  {
   "cell_type": "markdown",
   "metadata": {},
   "source": [
    "## 搜尋陣列項目"
   ]
  },
  {
   "cell_type": "code",
   "execution_count": 52,
   "metadata": {},
   "outputs": [
    {
     "name": "stdout",
     "output_type": "stream",
     "text": [
      "(array([1, 5]),)\n",
      "(array([0, 1, 1, 1, 1]), array([3, 0, 1, 2, 3]))\n"
     ]
    }
   ],
   "source": [
    "# numpy.where() 會根據判斷式找出索引值，回傳索引值的陣列\n",
    "a = np.array(['a','b','c','d','a','b','c'])\n",
    "b = np.where(a=='b')\n",
    "print(b)\n",
    "\n",
    "a = np.array([[1,2,3,4],[5,6,7,8]])\n",
    "b = np.where(a>3)\n",
    "print(b) \n",
    "# 對應 (0,3) -> 4\n",
    "# 對應 (1,0) -> 5"
   ]
  },
  {
   "cell_type": "code",
   "execution_count": 53,
   "metadata": {},
   "outputs": [
    {
     "data": {
      "text/plain": [
       "((array([0, 2, 4, 6]),), (array([0, 0, 1, 1]), array([0, 2, 0, 2])))"
      ]
     },
     "execution_count": 53,
     "metadata": {},
     "output_type": "execute_result"
    }
   ],
   "source": [
    "# numpy.nonzero() 會取得內容「非 0」的項目索引值，並將索引值回傳為為新陣列。\n",
    "a = np.array([1,0,1,0,1,0,1,0])\n",
    "b = np.nonzero(a)\n",
    "a = np.array([[1,0,1,0],[1,0,1,0]])\n",
    "c = np.nonzero(a)\n",
    "b, c"
   ]
  },
  {
   "cell_type": "code",
   "execution_count": 54,
   "metadata": {},
   "outputs": [
    {
     "data": {
      "text/plain": [
       "4"
      ]
     },
     "execution_count": 54,
     "metadata": {},
     "output_type": "execute_result"
    }
   ],
   "source": [
    "# numpy.count_nonzero() 會計算陣列中「非 0」項目的數量。\n",
    "a = np.array([1,0,1,0,1,0,1,0])\n",
    "np.count_nonzero(a)"
   ]
  },
  {
   "cell_type": "markdown",
   "metadata": {},
   "source": [
    "## 算數計算"
   ]
  },
  {
   "cell_type": "code",
   "execution_count": 55,
   "metadata": {},
   "outputs": [
    {
     "data": {
      "text/plain": [
       "array([[3, 3],\n",
       "       [4, 4]])"
      ]
     },
     "execution_count": 55,
     "metadata": {},
     "output_type": "execute_result"
    }
   ],
   "source": [
    "x = np.array([[1,1],[1,1]])\n",
    "y = np.array([[2,2],[3,3]])\n",
    "np.add(x,y)"
   ]
  },
  {
   "cell_type": "code",
   "execution_count": 56,
   "metadata": {},
   "outputs": [
    {
     "data": {
      "text/plain": [
       "array([[-1, -1],\n",
       "       [-2, -2]])"
      ]
     },
     "execution_count": 56,
     "metadata": {},
     "output_type": "execute_result"
    }
   ],
   "source": [
    "x = np.array([[1,1],[1,1]])\n",
    "y = np.array([[2,2],[3,3]])\n",
    "np.subtract(x,y)"
   ]
  },
  {
   "cell_type": "code",
   "execution_count": 59,
   "metadata": {},
   "outputs": [
    {
     "data": {
      "text/plain": [
       "(array([2, 4, 6]),\n",
       " array([[4, 6],\n",
       "        [6, 9]]))"
      ]
     },
     "execution_count": 59,
     "metadata": {},
     "output_type": "execute_result"
    }
   ],
   "source": [
    "a = np.array([1,2,3])\n",
    "b = np.array([2,2,2])\n",
    "\n",
    "x = np.array([[2,3],[2,3]])\n",
    "y = np.array([[2,2],[3,3]])\n",
    "np.multiply(a,b), np.multiply(x,y)"
   ]
  },
  {
   "cell_type": "code",
   "execution_count": 60,
   "metadata": {},
   "outputs": [
    {
     "data": {
      "text/plain": [
       "(array([2.5, 3. , 3.5]),\n",
       " array([[2.5 , 2.  ],\n",
       "        [1.75, 1.6 ]]))"
      ]
     },
     "execution_count": 60,
     "metadata": {},
     "output_type": "execute_result"
    }
   ],
   "source": [
    "a = np.array([5,6,7])\n",
    "b = np.array([2,2,2])\n",
    "\n",
    "x = np.array([[5,6],[7,8]])\n",
    "y = np.array([[2,3],[4,5]])\n",
    "np.divide(a,b), np.divide(x,y)\n",
    "\n",
    "# numpy.divide() 會將兩個形狀相同的陣列元素相除，「無條線捨去小數點」後成為新陣列"
   ]
  },
  {
   "cell_type": "code",
   "execution_count": 63,
   "metadata": {},
   "outputs": [
    {
     "data": {
      "text/plain": [
       "(array([0, 1, 1]), array([2, 0, 1]))"
      ]
     },
     "execution_count": 63,
     "metadata": {},
     "output_type": "execute_result"
    }
   ],
   "source": [
    "# numpy.divmod() 會將兩個形狀相同的陣列元素相除，將「商」和「餘數」回傳為新陣列。\n",
    "a = np.array([2,3,4])\n",
    "b = np.array([3,3,3])\n",
    "np.divmod(a,b)"
   ]
  },
  {
   "cell_type": "code",
   "execution_count": 61,
   "metadata": {},
   "outputs": [
    {
     "data": {
      "text/plain": [
       "array([ 8, 27, 64])"
      ]
     },
     "execution_count": 61,
     "metadata": {},
     "output_type": "execute_result"
    }
   ],
   "source": [
    "# numpy.power() 會以 b 陣列的元素作為 a 陣列元素的次方，計算後成為新陣列\n",
    "a = np.array([2,3,4])\n",
    "b = np.array([3,3,3])\n",
    "np.power(a,b)"
   ]
  },
  {
   "cell_type": "code",
   "execution_count": 62,
   "metadata": {},
   "outputs": [
    {
     "data": {
      "text/plain": [
       "array([2, 0, 1])"
      ]
     },
     "execution_count": 62,
     "metadata": {},
     "output_type": "execute_result"
    }
   ],
   "source": [
    "# numpy.mod() 會將兩個形狀相同的陣列元素相」，取得「餘數」後成為新陣列。\n",
    "a = np.array([2,3,4])\n",
    "b = np.array([3,3,3])\n",
    "np.mod(a,b)"
   ]
  },
  {
   "cell_type": "code",
   "execution_count": 64,
   "metadata": {},
   "outputs": [
    {
     "data": {
      "text/plain": [
       "array([0.5       , 0.33333333, 0.25      , 0.2       , 0.16666667])"
      ]
     },
     "execution_count": 64,
     "metadata": {},
     "output_type": "execute_result"
    }
   ],
   "source": [
    "# numpy.reciprocal() 會回傳陣列中所有元素的「倒數」為新陣列\n",
    "a = np.array([2., 3., 4., 5., 6.])\n",
    "np.reciprocal(a)"
   ]
  },
  {
   "cell_type": "code",
   "execution_count": 65,
   "metadata": {},
   "outputs": [
    {
     "data": {
      "text/plain": [
       "(array([-2, -1,  0,  1,  2]), array([ 2,  1,  0, -1, -2]))"
      ]
     },
     "execution_count": 65,
     "metadata": {},
     "output_type": "execute_result"
    }
   ],
   "source": [
    "# numpy.positive()、numpy.negative() 會將陣列元素乘以 1 或乘以 -1 後，回傳為新陣列\n",
    "a = np.array([-2,-1,0,1,2])\n",
    "np.positive(a), np.negative(a)"
   ]
  }
 ],
 "metadata": {
  "kernelspec": {
   "display_name": "base",
   "language": "python",
   "name": "python3"
  },
  "language_info": {
   "codemirror_mode": {
    "name": "ipython",
    "version": 3
   },
   "file_extension": ".py",
   "mimetype": "text/x-python",
   "name": "python",
   "nbconvert_exporter": "python",
   "pygments_lexer": "ipython3",
   "version": "3.11.5"
  },
  "orig_nbformat": 4
 },
 "nbformat": 4,
 "nbformat_minor": 2
}
