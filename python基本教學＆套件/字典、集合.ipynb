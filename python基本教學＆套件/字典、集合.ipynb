{
 "cells": [
  {
   "cell_type": "markdown",
   "metadata": {},
   "source": [
    "## 字典\n",
    "\n",
    "＄ 定義：contains unordered key-value pairs\n",
    "＄ 字典的 key 需要是 immutable（不可更改）且 hashable（唯一雜湊值 → 唯一）。\n",
    "常見的 immutable 資料型別包括:\n",
    "\n",
    "-   數字(int, float)\n",
    "-   字串(str)\n",
    "-   元組(tuple)\n",
    "\n",
    "＄ 主要有三種函數："
   ]
  },
  {
   "cell_type": "code",
   "execution_count": 1,
   "metadata": {},
   "outputs": [
    {
     "name": "stdout",
     "output_type": "stream",
     "text": [
      "dict_keys(['name', 'age', 'city'])\n",
      "True\n",
      "False\n",
      "John\n",
      "30\n",
      "dict_items([('name', 'John'), ('age', 31), ('city', 'New York')])\n",
      "Key: name, Value: John\n",
      "Key: age, Value: 31\n",
      "Key: city, Value: New York\n"
     ]
    }
   ],
   "source": [
    "person = {\n",
    "    'name': 'John',\n",
    "    'age': 30,\n",
    "    'city': 'New York'\n",
    "}\n",
    "\n",
    "# NOTE: key()\n",
    "print(person.keys())  # 輸出: dict_keys(['name', 'age', 'city'])\n",
    "# 檢查 key 是否存在\n",
    "print('name' in person)  # 輸出: True\n",
    "print('address' in person)  # 輸出: False\n",
    "\n",
    "\n",
    "# NOTE: value()\n",
    "print(person['name'])  # 輸出: John\n",
    "print(person.get('age'))  # 輸出: 30\n",
    "# 設置 value\n",
    "person['age'] = 31\n",
    "\n",
    "\n",
    "# NOTE: item (key-value 對)\n",
    "print(person.items())  # 輸出: dict_items([('name', 'John'), ('age', 30), ('city', 'New York')])\n",
    "# 遍歷 item\n",
    "for key, value in person.items():\n",
    "    print(f\"Key: {key}, Value: {value}\")"
   ]
  },
  {
   "cell_type": "markdown",
   "metadata": {},
   "source": [
    "## 集合 Sets"
   ]
  },
  {
   "cell_type": "code",
   "execution_count": 2,
   "metadata": {},
   "outputs": [],
   "source": [
    "# add() 添加元素到集合中。\n",
    "my_set = {1, 2, 3}\n",
    "my_set.add(4)"
   ]
  },
  {
   "cell_type": "code",
   "execution_count": 3,
   "metadata": {},
   "outputs": [],
   "source": [
    "# clear() 清空集合中的所有元素。\n",
    "my_set.clear()"
   ]
  },
  {
   "cell_type": "code",
   "execution_count": 4,
   "metadata": {},
   "outputs": [],
   "source": [
    "# copy()  复制集合。\n",
    "original_set = {1, 2, 3}\n",
    "copied_set = original_set.copy()"
   ]
  },
  {
   "cell_type": "code",
   "execution_count": 5,
   "metadata": {},
   "outputs": [],
   "source": [
    "# discard() 移除集合中的指定元素，如果元素不存在，则不发生任何操作。\n",
    "my_set = {1, 2, 3, 4}\n",
    "my_set.discard(3)"
   ]
  },
  {
   "cell_type": "code",
   "execution_count": 6,
   "metadata": {},
   "outputs": [],
   "source": [
    "# 集合差集 difference()\n",
    "set1 = {1, 2, 3, 4}\n",
    "set2 = {3, 4, 5, 6}\n",
    "result = set1.difference(set2) # 输出: {1, 2}"
   ]
  },
  {
   "cell_type": "code",
   "execution_count": 7,
   "metadata": {},
   "outputs": [],
   "source": [
    "# 集合交集 intersection()\n",
    "set1 = {1, 2, 3, 4}\n",
    "set2 = {3, 4, 5, 6}\n",
    "result = set1.intersection(set2) # 输出: {3, 4}"
   ]
  },
  {
   "cell_type": "code",
   "execution_count": 8,
   "metadata": {},
   "outputs": [],
   "source": [
    "# 判断是否沒有交集 isdisjoint()\n",
    "set1 = {1, 2, 3}\n",
    "set2 = {4, 5, 6}\n",
    "result = set1.isdisjoint(set2) # True，因为两个集合没有交集"
   ]
  },
  {
   "cell_type": "code",
   "execution_count": 9,
   "metadata": {},
   "outputs": [],
   "source": [
    "# 判断一个集合是否是另一个集合的子集 issubset()\n",
    "set1 = {1, 2}\n",
    "set2 = {1, 2, 3, 4}\n",
    "result = set1.issubset(set2) # True，因为set1是set2的子集"
   ]
  },
  {
   "cell_type": "code",
   "execution_count": 10,
   "metadata": {},
   "outputs": [],
   "source": [
    "# 判断一个集合是否是另一个集合的超集 issuperset()\n",
    "set1 = {1, 2, 3, 4}\n",
    "set2 = {1, 2}\n",
    "result = set1.issuperset(set2) # True，因为set1是set2的超集"
   ]
  },
  {
   "cell_type": "code",
   "execution_count": 11,
   "metadata": {},
   "outputs": [],
   "source": [
    "# 返回两个集合的并集。union()\n",
    "set1 = {1, 2, 3}\n",
    "set2 = {3, 4, 5}\n",
    "result = set1.union(set2) # 输出: {1, 2, 3, 4, 5}"
   ]
  },
  {
   "cell_type": "markdown",
   "metadata": {},
   "source": [
    "## lab5 作業\n",
    "\n",
    "請建立一個名稱為「dict0」的字典，其資料內容如下。\n",
    "\n",
    "鍵(key) 值(value)\n",
    "\n",
    "index 國文, 英文, 數學, 自然, 社會\n",
    "\n",
    "StuA 50, 60, 70, 80, 90\n",
    "\n",
    "StuB 57, 86, 73, 82, 43\n",
    "\n",
    "StuC 97, 96, 86, 97, 83\n",
    "\n",
    "Hint: 請將同一個 key 之多個 value 以 list 方式儲存。\n",
    "\n",
    "請輸出整個 dict0 字典。\n",
    "\n",
    "請計算出每個學生的平均成績(StuA, StuB, StuC)。\n",
    "\n",
    "請計算出每個科目的平均成績(國文, 英文, 數學, 自然, 社會)。"
   ]
  },
  {
   "cell_type": "code",
   "execution_count": 12,
   "metadata": {},
   "outputs": [
    {
     "name": "stdout",
     "output_type": "stream",
     "text": [
      "{'index': ['國文', '英文', '數學', '自然', '社會'], 'StuA': [50, 60, 70, 80, 90], 'StuB': [57, 86, 73, 82, 43], 'StuC': [97, 96, 86, 97, 83]}\n",
      "StuA學生平均成績：70.0\n",
      "StuB學生平均成績：68.2\n",
      "StuC學生平均成績：91.8\n",
      "國文平均成績: 68.0\n",
      "英文平均成績: 80.66666666666667\n",
      "數學平均成績: 76.33333333333333\n",
      "自然平均成績: 86.33333333333333\n",
      "社會平均成績: 72.0\n"
     ]
    }
   ],
   "source": [
    "dict0 = {\n",
    "    \"index\": [\"國文\", \"英文\", \"數學\", \"自然\", \"社會\"],\n",
    "    \"StuA\": [50, 60, 70, 80, 90],\n",
    "    \"StuB\": [57, 86, 73, 82, 43],\n",
    "    \"StuC\": [97, 96, 86, 97, 83]\n",
    "}\n",
    "print(dict0)\n",
    "index_values = dict0[\"index\"] # ['國文', '英文', '數學', '自然', '社會']\n",
    "sub = list(dict0.keys())[1:] # ['StuA', 'StuB', 'StuC']\n",
    "\n",
    "for i in range(len(sub)):\n",
    "  ans = sum(dict0[sub[i]])/len(dict0[sub[i]])\n",
    "  print(f\"{sub[i]}學生平均成績：{ans}\")\n",
    "\n",
    "\n",
    "for index, value in enumerate(index_values):\n",
    "    # print(index, value)\n",
    "    ans = sum([dict0[\"StuA\"][index], dict0[\"StuB\"][index], dict0[\"StuC\"][index]]) / len(sub)\n",
    "    print(f\"{value}平均成績: {ans}\")\n"
   ]
  },
  {
   "cell_type": "markdown",
   "metadata": {},
   "source": [
    "## lab5 作業加分題\n",
    "\n",
    "請把基礎題宣告字典的部分改為從電腦輸入，並輸出本字典 print(dict0)\n",
    "\n",
    "截圖需要包含：輸入區域及 dict0 的輸出。"
   ]
  },
  {
   "cell_type": "code",
   "execution_count": 13,
   "metadata": {},
   "outputs": [
    {
     "ename": "KeyboardInterrupt",
     "evalue": "Interrupted by user",
     "output_type": "error",
     "traceback": [
      "\u001b[0;31m---------------------------------------------------------------------------\u001b[0m",
      "\u001b[0;31mKeyboardInterrupt\u001b[0m                         Traceback (most recent call last)",
      "Cell \u001b[0;32mIn[13], line 3\u001b[0m\n\u001b[1;32m      1\u001b[0m dict0 \u001b[39m=\u001b[39m {}\n\u001b[1;32m      2\u001b[0m \u001b[39mfor\u001b[39;00m i \u001b[39min\u001b[39;00m \u001b[39mrange\u001b[39m(\u001b[39m4\u001b[39m):\n\u001b[0;32m----> 3\u001b[0m   key \u001b[39m=\u001b[39m \u001b[39minput\u001b[39m()\n\u001b[1;32m      4\u001b[0m   arr \u001b[39m=\u001b[39m \u001b[39minput\u001b[39m()\u001b[39m.\u001b[39msplit(\u001b[39m\"\u001b[39m\u001b[39m,\u001b[39m\u001b[39m\"\u001b[39m) \u001b[39m# ['22', '222', '2222']\u001b[39;00m\n\u001b[1;32m      5\u001b[0m   \u001b[39mif\u001b[39;00m i\u001b[39m>\u001b[39m\u001b[39m0\u001b[39m: arr \u001b[39m=\u001b[39m [\u001b[39mint\u001b[39m(x) \u001b[39mfor\u001b[39;00m x \u001b[39min\u001b[39;00m arr]\n",
      "File \u001b[0;32m~/anaconda3/lib/python3.11/site-packages/ipykernel/kernelbase.py:1202\u001b[0m, in \u001b[0;36mKernel.raw_input\u001b[0;34m(self, prompt)\u001b[0m\n\u001b[1;32m   1200\u001b[0m     msg \u001b[39m=\u001b[39m \u001b[39m\"\u001b[39m\u001b[39mraw_input was called, but this frontend does not support input requests.\u001b[39m\u001b[39m\"\u001b[39m\n\u001b[1;32m   1201\u001b[0m     \u001b[39mraise\u001b[39;00m StdinNotImplementedError(msg)\n\u001b[0;32m-> 1202\u001b[0m \u001b[39mreturn\u001b[39;00m \u001b[39mself\u001b[39m\u001b[39m.\u001b[39m_input_request(\n\u001b[1;32m   1203\u001b[0m     \u001b[39mstr\u001b[39m(prompt),\n\u001b[1;32m   1204\u001b[0m     \u001b[39mself\u001b[39m\u001b[39m.\u001b[39m_parent_ident[\u001b[39m\"\u001b[39m\u001b[39mshell\u001b[39m\u001b[39m\"\u001b[39m],\n\u001b[1;32m   1205\u001b[0m     \u001b[39mself\u001b[39m\u001b[39m.\u001b[39mget_parent(\u001b[39m\"\u001b[39m\u001b[39mshell\u001b[39m\u001b[39m\"\u001b[39m),\n\u001b[1;32m   1206\u001b[0m     password\u001b[39m=\u001b[39m\u001b[39mFalse\u001b[39;00m,\n\u001b[1;32m   1207\u001b[0m )\n",
      "File \u001b[0;32m~/anaconda3/lib/python3.11/site-packages/ipykernel/kernelbase.py:1245\u001b[0m, in \u001b[0;36mKernel._input_request\u001b[0;34m(self, prompt, ident, parent, password)\u001b[0m\n\u001b[1;32m   1242\u001b[0m \u001b[39mexcept\u001b[39;00m \u001b[39mKeyboardInterrupt\u001b[39;00m:\n\u001b[1;32m   1243\u001b[0m     \u001b[39m# re-raise KeyboardInterrupt, to truncate traceback\u001b[39;00m\n\u001b[1;32m   1244\u001b[0m     msg \u001b[39m=\u001b[39m \u001b[39m\"\u001b[39m\u001b[39mInterrupted by user\u001b[39m\u001b[39m\"\u001b[39m\n\u001b[0;32m-> 1245\u001b[0m     \u001b[39mraise\u001b[39;00m \u001b[39mKeyboardInterrupt\u001b[39;00m(msg) \u001b[39mfrom\u001b[39;00m \u001b[39mNone\u001b[39;00m\n\u001b[1;32m   1246\u001b[0m \u001b[39mexcept\u001b[39;00m \u001b[39mException\u001b[39;00m:\n\u001b[1;32m   1247\u001b[0m     \u001b[39mself\u001b[39m\u001b[39m.\u001b[39mlog\u001b[39m.\u001b[39mwarning(\u001b[39m\"\u001b[39m\u001b[39mInvalid Message:\u001b[39m\u001b[39m\"\u001b[39m, exc_info\u001b[39m=\u001b[39m\u001b[39mTrue\u001b[39;00m)\n",
      "\u001b[0;31mKeyboardInterrupt\u001b[0m: Interrupted by user"
     ]
    }
   ],
   "source": [
    "dict0 = {}\n",
    "for i in range(4):\n",
    "  key = input()\n",
    "  arr = input().split(\",\") # ['22', '222', '2222']\n",
    "  if i>0: arr = [int(x) for x in arr]\n",
    "  dict0[key]=arr\n",
    "\n",
    "print(dict0)"
   ]
  }
 ],
 "metadata": {
  "kernelspec": {
   "display_name": "base",
   "language": "python",
   "name": "python3"
  },
  "language_info": {
   "codemirror_mode": {
    "name": "ipython",
    "version": 3
   },
   "file_extension": ".py",
   "mimetype": "text/x-python",
   "name": "python",
   "nbconvert_exporter": "python",
   "pygments_lexer": "ipython3",
   "version": "3.11.5"
  },
  "orig_nbformat": 4
 },
 "nbformat": 4,
 "nbformat_minor": 2
}
