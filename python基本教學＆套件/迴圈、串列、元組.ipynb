{
 "cells": [
  {
   "cell_type": "markdown",
   "metadata": {},
   "source": [
    "## list\n",
    "\n",
    "＄ 一種有順序的資料（an ordered sequence of data.）。\n",
    "＄ 在其他程式可能又會被稱呼為 array"
   ]
  },
  {
   "cell_type": "code",
   "execution_count": 6,
   "metadata": {},
   "outputs": [],
   "source": [
    "arr = [12, \"hello\", True]"
   ]
  },
  {
   "cell_type": "markdown",
   "metadata": {},
   "source": [
    "## common funtion in list\n",
    "\n",
    "＄ list 可以被加號去做相接。\n",
    "\n",
    "＄ list 可以使用乘號去增加。\n",
    "\n",
    "＄ list is mutable（可以被改變的）。\n",
    "\n",
    "-   len()\n",
    "-   indexing\n",
    "-   count()\n",
    "-   set()\n",
    "-   insert()\n",
    "-   remove()\n",
    "-   clear()\n",
    "-   reverse()\n",
    "-   append()\n",
    "-   pop()\n",
    "-   copy()"
   ]
  },
  {
   "cell_type": "markdown",
   "metadata": {},
   "source": [
    "## Python List 淺拷貝與深拷貝\n",
    "\n",
    "### ＠ 淺拷貝\n",
    "\n",
    "＄ 當我們將一個 list 賦值給另一個變數時,我們實際上是建立了一個新的參考,而不是建立一個新的 list。這意味著,當我們修改其中一個 list 時,另一個 list 也會受到影響。\n"
   ]
  },
  {
   "cell_type": "code",
   "execution_count": 7,
   "metadata": {},
   "outputs": [
    {
     "name": "stdout",
     "output_type": "stream",
     "text": [
      "[1, 2, [3, 4, 5]]\n",
      "[1, 2, [3, 4, 5]]\n"
     ]
    }
   ],
   "source": [
    "original_list = [1, 2, [3, 4]]\n",
    "new_list = original_list\n",
    "\n",
    "new_list[2].append(5)\n",
    "print(original_list)  # Output: [1, 2, [3, 4, 5]]\n",
    "print(new_list)       # Output: [1, 2, [3, 4, 5]]\n",
    "\n",
    "# NOTE: `new_list`是`original_list`的淺拷貝。當我們修改`new_list`中的巢狀列表時,`original_list`也會受到影響。"
   ]
  },
  {
   "cell_type": "markdown",
   "metadata": {},
   "source": [
    "### ＠ 深拷貝\n",
    "\n",
    "＄ 如果我們想要建立一個完全獨立的 list 副本,我們可以使用`copy.deepcopy()`方法進行深拷貝。"
   ]
  },
  {
   "cell_type": "code",
   "execution_count": 8,
   "metadata": {},
   "outputs": [
    {
     "name": "stdout",
     "output_type": "stream",
     "text": [
      "[1, 2, [3, 4]]\n",
      "[1, 2, [3, 4, 5]]\n"
     ]
    }
   ],
   "source": [
    "import copy\n",
    "\n",
    "original_list = [1, 2, [3, 4]]\n",
    "new_list = copy.deepcopy(original_list)\n",
    "\n",
    "new_list[2].append(5)\n",
    "print(original_list)  # Output: [1, 2, [3, 4]]\n",
    "print(new_list)       # Output: [1, 2, [3, 4, 5]]\n",
    "\n",
    "# NOTE:`new_list`是`original_list`的深拷貝。當我們修改`new_list`中的巢狀列表時,`original_list`不會受到影響。"
   ]
  },
  {
   "cell_type": "markdown",
   "metadata": {},
   "source": [
    "## 元祖 tuple\n",
    "\n",
    "＄ 定義：order immutable sequence of objects.\n",
    "\n",
    "-   len()\n",
    "-   indexing\n",
    "-   count()\n",
    "-   set()"
   ]
  },
  {
   "cell_type": "markdown",
   "metadata": {},
   "source": [
    "## Tuple Packing（元组打包）\n"
   ]
  },
  {
   "cell_type": "code",
   "execution_count": 9,
   "metadata": {},
   "outputs": [
    {
     "name": "stdout",
     "output_type": "stream",
     "text": [
      "(1, 'apple', 3.14)\n"
     ]
    }
   ],
   "source": [
    "packed_tuple = 1, 'apple', 3.14\n",
    "print(packed_tuple) # (1, 'apple', 3.14)"
   ]
  },
  {
   "cell_type": "markdown",
   "metadata": {},
   "source": [
    "## Tuple Unpacking（元组解包）\n"
   ]
  },
  {
   "cell_type": "code",
   "execution_count": 10,
   "metadata": {},
   "outputs": [
    {
     "name": "stdout",
     "output_type": "stream",
     "text": [
      "a: 1\n"
     ]
    }
   ],
   "source": [
    "my_tuple = (1, 'apple', 3.14)\n",
    "a, b, c = my_tuple\n",
    "print(\"a:\", a) # 1"
   ]
  },
  {
   "cell_type": "markdown",
   "metadata": {},
   "source": [
    "## pythonic 將程式寫的更 python"
   ]
  },
  {
   "cell_type": "code",
   "execution_count": 11,
   "metadata": {},
   "outputs": [
    {
     "ename": "NameError",
     "evalue": "name 'cmd' is not defined",
     "output_type": "error",
     "traceback": [
      "\u001b[0;31m---------------------------------------------------------------------------\u001b[0m",
      "\u001b[0;31mNameError\u001b[0m                                 Traceback (most recent call last)",
      "Cell \u001b[0;32mIn[11], line 6\u001b[0m\n\u001b[1;32m      2\u001b[0m a, b \u001b[39m=\u001b[39m b, a\n\u001b[1;32m      4\u001b[0m \u001b[39m# eg\u001b[39;00m\n\u001b[1;32m      5\u001b[0m \u001b[39m# if cmd == \"cd\" or cmd == \"dir\" or cmd == \"echo\":\u001b[39;00m\n\u001b[0;32m----> 6\u001b[0m \u001b[39mif\u001b[39;00m cmd \u001b[39min\u001b[39;00m (\u001b[39m\"\u001b[39m\u001b[39mcd\u001b[39m\u001b[39m\"\u001b[39m, \u001b[39m\"\u001b[39m\u001b[39mdir\u001b[39m\u001b[39m\"\u001b[39m, \u001b[39m\"\u001b[39m\u001b[39mecho\u001b[39m\u001b[39m\"\u001b[39m): \u001b[39m# Better Writing\u001b[39;00m\n\u001b[1;32m      7\u001b[0m   \u001b[39mprint\u001b[39m(\u001b[39m\"\u001b[39m\u001b[39mvalid command\u001b[39m\u001b[39m\"\u001b[39m)\n\u001b[1;32m      8\u001b[0m \u001b[39melse\u001b[39;00m: \u001b[39mprint\u001b[39m(\u001b[39m\"\u001b[39m\u001b[39minvalid command\u001b[39m\u001b[39m\"\u001b[39m)\n",
      "\u001b[0;31mNameError\u001b[0m: name 'cmd' is not defined"
     ]
    }
   ],
   "source": [
    "a, b = 10, 15\n",
    "a, b = b, a\n",
    "\n",
    "# eg\n",
    "# if cmd == \"cd\" or cmd == \"dir\" or cmd == \"echo\":\n",
    "if cmd in (\"cd\", \"dir\", \"echo\"): # Better Writing\n",
    "  print(\"valid command\")\n",
    "else: print(\"invalid command\")\n"
   ]
  },
  {
   "cell_type": "markdown",
   "metadata": {},
   "source": [
    "## lab4 作業\n",
    "\n",
    "計算成績\n",
    "\n",
    "請依照以下範例輸出完成作業:\n",
    "\n",
    "有 3 個學生 A,B,C、3 個科目(國英數)\n",
    "\n",
    "最後會在 list 的最後新增此學生的平均\n",
    "\n",
    "其中紅框是手動輸入 input()的部分\n",
    "\n",
    "藍框是他們的分數平均\n",
    "\n",
    "請利用 for, input()輸入學生的成績，並且利用 list 儲存"
   ]
  },
  {
   "cell_type": "code",
   "execution_count": null,
   "metadata": {},
   "outputs": [
    {
     "name": "stdout",
     "output_type": "stream",
     "text": [
      "請輸入學生A成績: \n"
     ]
    },
    {
     "ename": "ValueError",
     "evalue": "invalid literal for int() with base 10: ''",
     "output_type": "error",
     "traceback": [
      "\u001b[0;31m---------------------------------------------------------------------------\u001b[0m",
      "\u001b[0;31mValueError\u001b[0m                                Traceback (most recent call last)",
      "Cell \u001b[0;32mIn[5], line 7\u001b[0m\n\u001b[1;32m      5\u001b[0m \u001b[39mfor\u001b[39;00m i \u001b[39min\u001b[39;00m \u001b[39mrange\u001b[39m(\u001b[39mlen\u001b[39m(student)):\n\u001b[1;32m      6\u001b[0m     \u001b[39mprint\u001b[39m(\u001b[39mf\u001b[39m\u001b[39m\"\u001b[39m\u001b[39m請輸入學生\u001b[39m\u001b[39m{\u001b[39;00mstudent[i]\u001b[39m}\u001b[39;00m\u001b[39m成績: \u001b[39m\u001b[39m\"\u001b[39m)\n\u001b[0;32m----> 7\u001b[0m     chinese \u001b[39m=\u001b[39m \u001b[39mint\u001b[39m(\u001b[39minput\u001b[39m(\u001b[39m\"\u001b[39m\u001b[39m國文: \u001b[39m\u001b[39m\"\u001b[39m))\n\u001b[1;32m      8\u001b[0m     math \u001b[39m=\u001b[39m \u001b[39mint\u001b[39m(\u001b[39minput\u001b[39m(\u001b[39m\"\u001b[39m\u001b[39m數學: \u001b[39m\u001b[39m\"\u001b[39m))\n\u001b[1;32m      9\u001b[0m     english \u001b[39m=\u001b[39m \u001b[39mint\u001b[39m(\u001b[39minput\u001b[39m(\u001b[39m\"\u001b[39m\u001b[39m英文: \u001b[39m\u001b[39m\"\u001b[39m))\n",
      "\u001b[0;31mValueError\u001b[0m: invalid literal for int() with base 10: ''"
     ]
    }
   ],
   "source": [
    "student = [\"A\", \"B\", \"C\"]\n",
    "num_subjects = 3  # 假設每個學生都有 3 個科目\n",
    "ans = []\n",
    "\n",
    "for i in range(len(student)):\n",
    "    print(f\"請輸入學生{student[i]}成績: \")\n",
    "    chinese = int(input(\"國文: \"))\n",
    "    math = int(input(\"數學: \"))\n",
    "    english = int(input(\"英文: \"))\n",
    "\n",
    "    # 計算成績總和\n",
    "    total_score = chinese + math + english\n",
    "    # 計算平均值並保留到小數點後一位\n",
    "    average = round(total_score / num_subjects, 1)\n",
    "    ans.append([student[i], chinese, math, english, average])\n",
    "\n",
    "print(*ans, sep=\"\\n\")"
   ]
  },
  {
   "cell_type": "markdown",
   "metadata": {},
   "source": [
    "## Lab04 作業加分題\n",
    "\n",
    "輸入一下串列 nums, 並有一變數 val\n",
    "\n",
    "Input: nums = [3, 2, 2, 3, 6, 5, 4, 3, 2, 1], val = 3\n",
    "\n",
    "將字串中所有 val 刪除並輸出剩餘傳列長度，與其 list\n",
    "\n",
    "Output: 7, nums = [2, 2, 6, 5, 4, 2, 1]\n",
    "\n",
    "Constraints:\n",
    "\n",
    "要在 in-place 完成，不能再另外開一個新的 list\n",
    "\n",
    "0 <= nums.length <= 100\n",
    "\n",
    "0 <= nums[i] <= 50\n",
    "\n",
    "0 <= val <= 100\n",
    "\n",
    "提示: 使用 while 迴圈實作"
   ]
  },
  {
   "cell_type": "code",
   "execution_count": 12,
   "metadata": {},
   "outputs": [
    {
     "ename": "ValueError",
     "evalue": "invalid literal for int() with base 10: ''",
     "output_type": "error",
     "traceback": [
      "\u001b[0;31m---------------------------------------------------------------------------\u001b[0m",
      "\u001b[0;31mValueError\u001b[0m                                Traceback (most recent call last)",
      "Cell \u001b[0;32mIn[12], line 2\u001b[0m\n\u001b[1;32m      1\u001b[0m arr \u001b[39m=\u001b[39m \u001b[39minput\u001b[39m(\u001b[39m\"\u001b[39m\u001b[39m請輸入一個列表，元素之間用逗號分隔: \u001b[39m\u001b[39m\"\u001b[39m)\n\u001b[0;32m----> 2\u001b[0m val \u001b[39m=\u001b[39m \u001b[39mint\u001b[39m(\u001b[39minput\u001b[39m(\u001b[39m\"\u001b[39m\u001b[39m請輸入刪除數字: \u001b[39m\u001b[39m\"\u001b[39m))\n\u001b[1;32m      4\u001b[0m \u001b[39m# 使用逗號分割用戶輸入的字符串，並將其轉換為列表\u001b[39;00m\n\u001b[1;32m      5\u001b[0m arr \u001b[39m=\u001b[39m arr\u001b[39m.\u001b[39msplit(\u001b[39m'\u001b[39m\u001b[39m,\u001b[39m\u001b[39m'\u001b[39m)\n",
      "\u001b[0;31mValueError\u001b[0m: invalid literal for int() with base 10: ''"
     ]
    }
   ],
   "source": [
    "arr = input(\"請輸入一個列表，元素之間用逗號分隔: \")\n",
    "val = int(input(\"請輸入刪除數字: \"))\n",
    "\n",
    "# 使用逗號分割用戶輸入的字符串，並將其轉換為列表\n",
    "arr = arr.split(',')\n",
    "arr = [int(num) for num in arr]  # 將列表中的元素轉換為整數\n",
    "\n",
    "print(f\"輸入的list為{arr}, 要刪除的數字為{val}\")\n",
    "\n",
    "# 刪除列表中等於 val 的元素\n",
    "ans = [num for num in arr if num != val]\n",
    "\n",
    "print(\"刪除後！\")\n",
    "print(f\"list長度剩下:{len(ans)}, list變成:{ans}\")"
   ]
  }
 ],
 "metadata": {
  "kernelspec": {
   "display_name": "base",
   "language": "python",
   "name": "python3"
  },
  "language_info": {
   "codemirror_mode": {
    "name": "ipython",
    "version": 3
   },
   "file_extension": ".py",
   "mimetype": "text/x-python",
   "name": "python",
   "nbconvert_exporter": "python",
   "pygments_lexer": "ipython3",
   "version": "3.11.5"
  },
  "orig_nbformat": 4
 },
 "nbformat": 4,
 "nbformat_minor": 2
}
