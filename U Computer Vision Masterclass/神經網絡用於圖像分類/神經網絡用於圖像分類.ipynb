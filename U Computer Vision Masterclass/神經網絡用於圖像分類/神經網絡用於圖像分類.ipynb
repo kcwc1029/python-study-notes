{
  "cells": [
    {
      "cell_type": "markdown",
      "metadata": {},
      "source": [
        "\n",
        "![upgit_20240514_1715625551.png](https://raw.githubusercontent.com/kcwc1029/obsidian-upgit-image/main/2024/05/upgit_20240514_1715625551.png)\n",
        "\n",
        "![upgit_20240514_1715627040.png](https://raw.githubusercontent.com/kcwc1029/obsidian-upgit-image/main/2024/05/upgit_20240514_1715627040.png)\n",
        "\n",
        "![upgit_20240514_1715629668.png](https://raw.githubusercontent.com/kcwc1029/obsidian-upgit-image/main/2024/05/upgit_20240514_1715629668.png)\n",
        "\n",
        "![upgit_20240515_1715781804.png](https://raw.githubusercontent.com/kcwc1029/obsidian-upgit-image/main/2024/05/upgit_20240515_1715781804.png)"
      ]
    },
    {
      "cell_type": "markdown",
      "metadata": {
        "id": "Sd_h453YseEx"
      },
      "source": [
        "## 提取所有像素進行CNN"
      ]
    },
    {
      "cell_type": "code",
      "execution_count": 3,
      "metadata": {
        "colab": {
          "base_uri": "https://localhost:8080/",
          "height": 57
        },
        "id": "GFTBW79STIEY",
        "outputId": "1e97516f-87d0-4a5e-f451-0cd276e89f73"
      },
      "outputs": [
        {
          "data": {
            "text/plain": [
              "'2.16.1'"
            ]
          },
          "execution_count": 3,
          "metadata": {},
          "output_type": "execute_result"
        }
      ],
      "source": [
        "import cv2\n",
        "import numpy as np\n",
        "import os\n",
        "import zipfile\n",
        "# from google.colab.patches import cv2_imshow\n",
        "import tensorflow as tf\n",
        "import pandas as pd\n",
        "import seaborn as sns # 绘制分类变量的计数直方图\n",
        "import matplotlib.pyplot as plt\n",
        "tf.__version__"
      ]
    },
    {
      "cell_type": "markdown",
      "metadata": {
        "id": "lW1ZuebL-Vm8"
      },
      "source": [
        "## 圖片轉像素資料"
      ]
    },
    {
      "cell_type": "code",
      "execution_count": null,
      "metadata": {
        "colab": {
          "base_uri": "https://localhost:8080/"
        },
        "id": "fkK5nGhKUdlI",
        "outputId": "aceeabee-8416-4d48-cfd3-7ba0f16612b2"
      },
      "outputs": [
        {
          "name": "stdout",
          "output_type": "stream",
          "text": [
            "Mounted at /content/drive\n"
          ]
        }
      ],
      "source": [
        "# from google.colab import drive\n",
        "# drive.mount('/content/drive')"
      ]
    },
    {
      "cell_type": "code",
      "execution_count": 13,
      "metadata": {
        "id": "QifI5PO1VMDK"
      },
      "outputs": [
        {
          "name": "stdout",
          "output_type": "stream",
          "text": [
            "<class 'numpy.ndarray'> <class 'numpy.ndarray'>\n",
            "(269, 16384) (269,)\n",
            "(array([0, 1]), array([160, 109]))\n"
          ]
        }
      ],
      "source": [
        "import os\n",
        "import cv2\n",
        "import zipfile\n",
        "import numpy as np\n",
        "\n",
        "# 解壓縮資料集\n",
        "path = './Datasets/homer_bart_1.zip'\n",
        "zip_object = zipfile.ZipFile(file=path, mode='r')\n",
        "zip_object.extractall('./')\n",
        "zip_object.close()\n",
        "\n",
        "# 準備圖片路徑\n",
        "directory = './homer_bart_1'\n",
        "files = [os.path.join(directory, f) for f in sorted(os.listdir(directory))]\n",
        "\n",
        "# 設置圖片固定像素\n",
        "height, width = 128, 128  \n",
        "images = []  \n",
        "classes = []  \n",
        "\n",
        "# 遍歷圖片文件\n",
        "for image_path in files:  \n",
        "    try:\n",
        "        # 讀取圖片\n",
        "        image = cv2.imread(image_path)  \n",
        "        H, W = image.shape[:2]  \n",
        "    except:\n",
        "        continue  # 如果無法讀取圖像，跳過該圖像\n",
        "\n",
        "    # 調整圖片大小為指定的寬度和高度\n",
        "    image = cv2.resize(image, (width, height))  \n",
        "    # 將圖片轉換為灰度圖片\n",
        "    image = cv2.cvtColor(image, cv2.COLOR_BGR2GRAY)  \n",
        "    # 將圖片平坦化為一維數組\n",
        "    image = image.ravel()  \n",
        "    \n",
        "    # 將圖片添加到 images 數組中\n",
        "    images.append(image)  \n",
        "    \n",
        "    # 根據文件名判斷類別，如果文件名以 'b' 開頭，類別為 0，否則為 1\n",
        "    image_name = os.path.basename(os.path.normpath(image_path))\n",
        "    class_name = 0 if image_name.startswith('b') else 1\n",
        "    # 將圖片類別添加到 classes 數組中\n",
        "    classes.append(class_name)  \n",
        "\n",
        "# 將資料由陣列轉換為 numpy 格式\n",
        "X = np.asarray(images)\n",
        "y = np.asarray(classes)\n",
        "\n",
        "# 打印資料類型和形狀\n",
        "print(type(X), type(y))\n",
        "print(X.shape, y.shape)  # 16384 = 128 * 128\n",
        "\n",
        "# 函数返回一个包含两个元素的元组，第一个元素是 y 中唯一值的列表，第二个元素是每个唯一值对应的出现次数。\n",
        "print(np.unique(y, return_counts=True))"
      ]
    },
    {
      "cell_type": "code",
      "execution_count": 12,
      "metadata": {
        "colab": {
          "base_uri": "https://localhost:8080/"
        },
        "id": "8TgtZDHEoMvA",
        "outputId": "61f8c666-d207-43a2-94c4-2d069ab68e86"
      },
      "outputs": [
        {
          "name": "stdout",
          "output_type": "stream",
          "text": [
            "(array([0, 1]), array([160, 109]))\n"
          ]
        },
        {
          "data": {
            "image/png": "[encoded data removed]",
            "text/plain": [
              "<Figure size 400x200 with 1 Axes>"
            ]
          },
          "metadata": {},
          "output_type": "display_data"
        },
        {
          "data": {
            "image/png": "[encoded data removed]",
            "text/plain": [
              "<Figure size 400x200 with 1 Axes>"
            ]
          },
          "metadata": {},
          "output_type": "display_data"
        }
      ],
      "source": [
        "# 查看原資料\n",
        "image_np = cv2.cvtColor(X[0].reshape(width, height), cv2.COLOR_BGR2RGB) # 將 OpenCV 中的 BGR 格式轉換為 RGB 格式，因為 Matplotlib 預期的是 RGB 格式\n",
        "plt.figure(figsize=(4, 2))\n",
        "plt.axis('off')  # 隱藏坐標軸\n",
        "plt.imshow(image_np)\n",
        "\n",
        "image_np = cv2.cvtColor(X[200].reshape(width, height), cv2.COLOR_BGR2RGB) # 將 OpenCV 中的 BGR 格式轉換為 RGB 格式，因為 Matplotlib 預期的是 RGB 格式\n",
        "plt.figure(figsize=(4, 2))\n",
        "plt.axis('off')  # 隱藏坐標軸\n",
        "plt.imshow(image_np)\n"
      ]
    },
    {
      "cell_type": "code",
      "execution_count": 10,
      "metadata": {
        "colab": {
          "base_uri": "https://localhost:8080/",
          "height": 338
        },
        "id": "sH9bbKgvonqC",
        "outputId": "de0ab601-9b56-42db-ec2f-e66d03fdc4b8"
      },
      "outputs": [
        {
          "data": {
            "text/plain": [
              "<Axes: xlabel='y', ylabel='count'>"
            ]
          },
          "execution_count": 10,
          "metadata": {},
          "output_type": "execute_result"
        },
        {
          "data": {
            "image/png": "[encoded data removed]",
            "text/plain": [
              "<Figure size 640x480 with 1 Axes>"
            ]
          },
          "metadata": {},
          "output_type": "display_data"
        }
      ],
      "source": [
        "# 将NumPy数组转换为Pandas DataFrame，并将列标记为分类变量\n",
        "df = pd.DataFrame({'y': y})\n",
        "df['y'] = df['y'].astype('category')\n",
        "\n",
        "# 绘制计数直方图\n",
        "sns.countplot(data=df, x='y')"
      ]
    },
    {
      "cell_type": "markdown",
      "metadata": {
        "id": "R0L0KqcGBs_c"
      },
      "source": [
        "## 數據標準化\n",
        "\n",
        "使用了 scikit-learn 庫中的 MinMaxScaler 類，對數據進行了最小-最大規範化（也稱為歸一化）處理。"
      ]
    },
    {
      "cell_type": "code",
      "execution_count": 16,
      "metadata": {
        "id": "9e4Me4nUqEHd"
      },
      "outputs": [
        {
          "name": "stdout",
          "output_type": "stream",
          "text": [
            "1.0 0.0\n"
          ]
        }
      ],
      "source": [
        "from sklearn.preprocessing import MinMaxScaler\n",
        "scaler = MinMaxScaler()\n",
        "X = scaler.fit_transform(X)\n",
        "print(X[0].max(), X[0].min()) # (1.0000000000000002, 0.0)"
      ]
    },
    {
      "cell_type": "markdown",
      "metadata": {
        "id": "HU2aiuznKCpM"
      },
      "source": [
        "## 訓練集與資料集"
      ]
    },
    {
      "cell_type": "code",
      "execution_count": 17,
      "metadata": {
        "id": "THqcwPi-rLLP"
      },
      "outputs": [
        {
          "data": {
            "text/plain": [
              "((215, 16384), (215,), (54, 16384), (54,))"
            ]
          },
          "execution_count": 17,
          "metadata": {},
          "output_type": "execute_result"
        }
      ],
      "source": [
        "from sklearn.model_selection import train_test_split\n",
        "\n",
        "X_train, X_test, y_train, y_test = train_test_split(X, y, test_size = 0.2, random_state = 1)\n",
        "X_train.shape, y_train.shape, X_test.shape, y_test.shape"
      ]
    },
    {
      "cell_type": "markdown",
      "metadata": {},
      "source": [
        "## 建立CNN模型"
      ]
    },
    {
      "cell_type": "code",
      "execution_count": 19,
      "metadata": {
        "id": "H57NM0bHyikx"
      },
      "outputs": [
        {
          "name": "stdout",
          "output_type": "stream",
          "text": [
            "Epoch 1/50\n",
            "\u001b[1m7/7\u001b[0m \u001b[32m━━━━━━━━━━━━━━━━━━━━\u001b[0m\u001b[37m\u001b[0m \u001b[1m8s\u001b[0m 847ms/step - accuracy: 0.5425 - loss: 136.5197\n",
            "Epoch 2/50\n",
            "\u001b[1m7/7\u001b[0m \u001b[32m━━━━━━━━━━━━━━━━━━━━\u001b[0m\u001b[37m\u001b[0m \u001b[1m5s\u001b[0m 681ms/step - accuracy: 0.5966 - loss: 3.4428\n",
            "Epoch 3/50\n",
            "\u001b[1m7/7\u001b[0m \u001b[32m━━━━━━━━━━━━━━━━━━━━\u001b[0m\u001b[37m\u001b[0m \u001b[1m6s\u001b[0m 868ms/step - accuracy: 0.4420 - loss: 1.5442\n",
            "Epoch 4/50\n",
            "\u001b[1m7/7\u001b[0m \u001b[32m━━━━━━━━━━━━━━━━━━━━\u001b[0m\u001b[37m\u001b[0m \u001b[1m5s\u001b[0m 678ms/step - accuracy: 0.5569 - loss: 0.9512\n",
            "Epoch 5/50\n",
            "\u001b[1m7/7\u001b[0m \u001b[32m━━━━━━━━━━━━━━━━━━━━\u001b[0m\u001b[37m\u001b[0m \u001b[1m6s\u001b[0m 888ms/step - accuracy: 0.4857 - loss: 0.9007\n",
            "Epoch 6/50\n",
            "\u001b[1m7/7\u001b[0m \u001b[32m━━━━━━━━━━━━━━━━━━━━\u001b[0m\u001b[37m\u001b[0m \u001b[1m4s\u001b[0m 563ms/step - accuracy: 0.6480 - loss: 0.6775\n",
            "Epoch 7/50\n",
            "\u001b[1m7/7\u001b[0m \u001b[32m━━━━━━━━━━━━━━━━━━━━\u001b[0m\u001b[37m\u001b[0m \u001b[1m4s\u001b[0m 634ms/step - accuracy: 0.4823 - loss: 0.6928\n",
            "Epoch 8/50\n",
            "\u001b[1m7/7\u001b[0m \u001b[32m━━━━━━━━━━━━━━━━━━━━\u001b[0m\u001b[37m\u001b[0m \u001b[1m5s\u001b[0m 734ms/step - accuracy: 0.6376 - loss: 0.6366\n",
            "Epoch 9/50\n",
            "\u001b[1m7/7\u001b[0m \u001b[32m━━━━━━━━━━━━━━━━━━━━\u001b[0m\u001b[37m\u001b[0m \u001b[1m5s\u001b[0m 732ms/step - accuracy: 0.6523 - loss: 0.6379\n",
            "Epoch 10/50\n",
            "\u001b[1m7/7\u001b[0m \u001b[32m━━━━━━━━━━━━━━━━━━━━\u001b[0m\u001b[37m\u001b[0m \u001b[1m4s\u001b[0m 560ms/step - accuracy: 0.6793 - loss: 0.6394\n",
            "Epoch 11/50\n",
            "\u001b[1m7/7\u001b[0m \u001b[32m━━━━━━━━━━━━━━━━━━━━\u001b[0m\u001b[37m\u001b[0m \u001b[1m5s\u001b[0m 691ms/step - accuracy: 0.7050 - loss: 0.6059\n",
            "Epoch 12/50\n",
            "\u001b[1m7/7\u001b[0m \u001b[32m━━━━━━━━━━━━━━━━━━━━\u001b[0m\u001b[37m\u001b[0m \u001b[1m6s\u001b[0m 740ms/step - accuracy: 0.6957 - loss: 0.6225\n",
            "Epoch 13/50\n",
            "\u001b[1m7/7\u001b[0m \u001b[32m━━━━━━━━━━━━━━━━━━━━\u001b[0m\u001b[37m\u001b[0m \u001b[1m4s\u001b[0m 651ms/step - accuracy: 0.6604 - loss: 0.6625\n",
            "Epoch 14/50\n",
            "\u001b[1m7/7\u001b[0m \u001b[32m━━━━━━━━━━━━━━━━━━━━\u001b[0m\u001b[37m\u001b[0m \u001b[1m5s\u001b[0m 636ms/step - accuracy: 0.6463 - loss: 0.6429\n",
            "Epoch 15/50\n",
            "\u001b[1m7/7\u001b[0m \u001b[32m━━━━━━━━━━━━━━━━━━━━\u001b[0m\u001b[37m\u001b[0m \u001b[1m4s\u001b[0m 596ms/step - accuracy: 0.4849 - loss: 0.7145\n",
            "Epoch 16/50\n",
            "\u001b[1m7/7\u001b[0m \u001b[32m━━━━━━━━━━━━━━━━━━━━\u001b[0m\u001b[37m\u001b[0m \u001b[1m6s\u001b[0m 764ms/step - accuracy: 0.6337 - loss: 0.6059\n",
            "Epoch 17/50\n",
            "\u001b[1m7/7\u001b[0m \u001b[32m━━━━━━━━━━━━━━━━━━━━\u001b[0m\u001b[37m\u001b[0m \u001b[1m5s\u001b[0m 658ms/step - accuracy: 0.6834 - loss: 0.5745\n",
            "Epoch 18/50\n",
            "\u001b[1m7/7\u001b[0m \u001b[32m━━━━━━━━━━━━━━━━━━━━\u001b[0m\u001b[37m\u001b[0m \u001b[1m5s\u001b[0m 661ms/step - accuracy: 0.6761 - loss: 0.5662\n",
            "Epoch 19/50\n",
            "\u001b[1m7/7\u001b[0m \u001b[32m━━━━━━━━━━━━━━━━━━━━\u001b[0m\u001b[37m\u001b[0m \u001b[1m4s\u001b[0m 580ms/step - accuracy: 0.5199 - loss: 0.8142\n",
            "Epoch 20/50\n",
            "\u001b[1m7/7\u001b[0m \u001b[32m━━━━━━━━━━━━━━━━━━━━\u001b[0m\u001b[37m\u001b[0m \u001b[1m5s\u001b[0m 748ms/step - accuracy: 0.6055 - loss: 0.6784\n",
            "Epoch 21/50\n",
            "\u001b[1m7/7\u001b[0m \u001b[32m━━━━━━━━━━━━━━━━━━━━\u001b[0m\u001b[37m\u001b[0m \u001b[1m5s\u001b[0m 642ms/step - accuracy: 0.6491 - loss: 0.6021\n",
            "Epoch 22/50\n",
            "\u001b[1m7/7\u001b[0m \u001b[32m━━━━━━━━━━━━━━━━━━━━\u001b[0m\u001b[37m\u001b[0m \u001b[1m5s\u001b[0m 746ms/step - accuracy: 0.8019 - loss: 0.5198\n",
            "Epoch 23/50\n",
            "\u001b[1m7/7\u001b[0m \u001b[32m━━━━━━━━━━━━━━━━━━━━\u001b[0m\u001b[37m\u001b[0m \u001b[1m5s\u001b[0m 687ms/step - accuracy: 0.7443 - loss: 0.5454\n",
            "Epoch 24/50\n",
            "\u001b[1m7/7\u001b[0m \u001b[32m━━━━━━━━━━━━━━━━━━━━\u001b[0m\u001b[37m\u001b[0m \u001b[1m5s\u001b[0m 699ms/step - accuracy: 0.7626 - loss: 0.4375\n",
            "Epoch 25/50\n",
            "\u001b[1m7/7\u001b[0m \u001b[32m━━━━━━━━━━━━━━━━━━━━\u001b[0m\u001b[37m\u001b[0m \u001b[1m4s\u001b[0m 551ms/step - accuracy: 0.6695 - loss: 0.7017\n",
            "Epoch 26/50\n",
            "\u001b[1m7/7\u001b[0m \u001b[32m━━━━━━━━━━━━━━━━━━━━\u001b[0m\u001b[37m\u001b[0m \u001b[1m4s\u001b[0m 554ms/step - accuracy: 0.7852 - loss: 0.4531\n",
            "Epoch 27/50\n",
            "\u001b[1m7/7\u001b[0m \u001b[32m━━━━━━━━━━━━━━━━━━━━\u001b[0m\u001b[37m\u001b[0m \u001b[1m5s\u001b[0m 664ms/step - accuracy: 0.8276 - loss: 0.3639\n",
            "Epoch 28/50\n",
            "\u001b[1m7/7\u001b[0m \u001b[32m━━━━━━━━━━━━━━━━━━━━\u001b[0m\u001b[37m\u001b[0m \u001b[1m6s\u001b[0m 940ms/step - accuracy: 0.7662 - loss: 0.5041\n",
            "Epoch 29/50\n",
            "\u001b[1m7/7\u001b[0m \u001b[32m━━━━━━━━━━━━━━━━━━━━\u001b[0m\u001b[37m\u001b[0m \u001b[1m6s\u001b[0m 855ms/step - accuracy: 0.6921 - loss: 0.5213\n",
            "Epoch 30/50\n",
            "\u001b[1m7/7\u001b[0m \u001b[32m━━━━━━━━━━━━━━━━━━━━\u001b[0m\u001b[37m\u001b[0m \u001b[1m6s\u001b[0m 926ms/step - accuracy: 0.8078 - loss: 0.4486\n",
            "Epoch 31/50\n",
            "\u001b[1m7/7\u001b[0m \u001b[32m━━━━━━━━━━━━━━━━━━━━\u001b[0m\u001b[37m\u001b[0m \u001b[1m6s\u001b[0m 897ms/step - accuracy: 0.9116 - loss: 0.3149\n",
            "Epoch 32/50\n",
            "\u001b[1m7/7\u001b[0m \u001b[32m━━━━━━━━━━━━━━━━━━━━\u001b[0m\u001b[37m\u001b[0m \u001b[1m4s\u001b[0m 628ms/step - accuracy: 0.9298 - loss: 0.2540\n",
            "Epoch 33/50\n",
            "\u001b[1m7/7\u001b[0m \u001b[32m━━━━━━━━━━━━━━━━━━━━\u001b[0m\u001b[37m\u001b[0m \u001b[1m5s\u001b[0m 747ms/step - accuracy: 0.8247 - loss: 0.3443\n",
            "Epoch 34/50\n",
            "\u001b[1m7/7\u001b[0m \u001b[32m━━━━━━━━━━━━━━━━━━━━\u001b[0m\u001b[37m\u001b[0m \u001b[1m5s\u001b[0m 700ms/step - accuracy: 0.8604 - loss: 0.3209\n",
            "Epoch 35/50\n",
            "\u001b[1m7/7\u001b[0m \u001b[32m━━━━━━━━━━━━━━━━━━━━\u001b[0m\u001b[37m\u001b[0m \u001b[1m5s\u001b[0m 793ms/step - accuracy: 0.9613 - loss: 0.1493\n",
            "Epoch 36/50\n",
            "\u001b[1m7/7\u001b[0m \u001b[32m━━━━━━━━━━━━━━━━━━━━\u001b[0m\u001b[37m\u001b[0m \u001b[1m4s\u001b[0m 654ms/step - accuracy: 0.9499 - loss: 0.1371\n",
            "Epoch 37/50\n",
            "\u001b[1m7/7\u001b[0m \u001b[32m━━━━━━━━━━━━━━━━━━━━\u001b[0m\u001b[37m\u001b[0m \u001b[1m5s\u001b[0m 596ms/step - accuracy: 0.9505 - loss: 0.1271\n",
            "Epoch 38/50\n",
            "\u001b[1m7/7\u001b[0m \u001b[32m━━━━━━━━━━━━━━━━━━━━\u001b[0m\u001b[37m\u001b[0m \u001b[1m4s\u001b[0m 589ms/step - accuracy: 0.9853 - loss: 0.0970\n",
            "Epoch 39/50\n",
            "\u001b[1m7/7\u001b[0m \u001b[32m━━━━━━━━━━━━━━━━━━━━\u001b[0m\u001b[37m\u001b[0m \u001b[1m4s\u001b[0m 655ms/step - accuracy: 0.9679 - loss: 0.1029\n",
            "Epoch 40/50\n",
            "\u001b[1m7/7\u001b[0m \u001b[32m━━━━━━━━━━━━━━━━━━━━\u001b[0m\u001b[37m\u001b[0m \u001b[1m5s\u001b[0m 747ms/step - accuracy: 0.9195 - loss: 0.1900\n",
            "Epoch 41/50\n",
            "\u001b[1m7/7\u001b[0m \u001b[32m━━━━━━━━━━━━━━━━━━━━\u001b[0m\u001b[37m\u001b[0m \u001b[1m5s\u001b[0m 762ms/step - accuracy: 0.8324 - loss: 0.4605\n",
            "Epoch 42/50\n",
            "\u001b[1m7/7\u001b[0m \u001b[32m━━━━━━━━━━━━━━━━━━━━\u001b[0m\u001b[37m\u001b[0m \u001b[1m5s\u001b[0m 661ms/step - accuracy: 0.8886 - loss: 0.2417\n",
            "Epoch 43/50\n",
            "\u001b[1m7/7\u001b[0m \u001b[32m━━━━━━━━━━━━━━━━━━━━\u001b[0m\u001b[37m\u001b[0m \u001b[1m5s\u001b[0m 786ms/step - accuracy: 0.8104 - loss: 0.4657\n",
            "Epoch 44/50\n",
            "\u001b[1m7/7\u001b[0m \u001b[32m━━━━━━━━━━━━━━━━━━━━\u001b[0m\u001b[37m\u001b[0m \u001b[1m4s\u001b[0m 602ms/step - accuracy: 0.9094 - loss: 0.2292\n",
            "Epoch 45/50\n",
            "\u001b[1m7/7\u001b[0m \u001b[32m━━━━━━━━━━━━━━━━━━━━\u001b[0m\u001b[37m\u001b[0m \u001b[1m4s\u001b[0m 629ms/step - accuracy: 0.8090 - loss: 0.4228\n",
            "Epoch 46/50\n",
            "\u001b[1m7/7\u001b[0m \u001b[32m━━━━━━━━━━━━━━━━━━━━\u001b[0m\u001b[37m\u001b[0m \u001b[1m4s\u001b[0m 579ms/step - accuracy: 0.8715 - loss: 0.2313\n",
            "Epoch 47/50\n",
            "\u001b[1m7/7\u001b[0m \u001b[32m━━━━━━━━━━━━━━━━━━━━\u001b[0m\u001b[37m\u001b[0m \u001b[1m5s\u001b[0m 636ms/step - accuracy: 0.9509 - loss: 0.1201\n",
            "Epoch 48/50\n",
            "\u001b[1m7/7\u001b[0m \u001b[32m━━━━━━━━━━━━━━━━━━━━\u001b[0m\u001b[37m\u001b[0m \u001b[1m5s\u001b[0m 705ms/step - accuracy: 0.9789 - loss: 0.0726\n",
            "Epoch 49/50\n",
            "\u001b[1m7/7\u001b[0m \u001b[32m━━━━━━━━━━━━━━━━━━━━\u001b[0m\u001b[37m\u001b[0m \u001b[1m4s\u001b[0m 594ms/step - accuracy: 1.0000 - loss: 0.0263\n",
            "Epoch 50/50\n",
            "\u001b[1m7/7\u001b[0m \u001b[32m━━━━━━━━━━━━━━━━━━━━\u001b[0m\u001b[37m\u001b[0m \u001b[1m4s\u001b[0m 535ms/step - accuracy: 1.0000 - loss: 0.0222\n"
          ]
        }
      ],
      "source": [
        "# 16384 -> 8193 -> 8193 -> 1 \n",
        "\n",
        "# 建立序列模型对象\n",
        "network1 = tf.keras.models.Sequential()\n",
        "# 添加第一个全连接层，包含8193个神经元（輸入16384輸出2平均），输入特征数量为16384（X_train大小），使用ReLU激活函数\n",
        "network1.add(tf.keras.layers.Dense(input_shape=(16384,), units=8193, activation='relu'))\n",
        "# 添加第二个全连接层，包含8193个神经元，使用ReLU激活函数\n",
        "network1.add(tf.keras.layers.Dense(units=8193, activation='relu'))\n",
        "# 添加输出层，包含1个神经元，使用Sigmoid激活函数，通常用于二元分类任务\n",
        "network1.add(tf.keras.layers.Dense(units=1, activation='sigmoid'))\n",
        "# network1.summary()\n",
        "\n",
        "\n",
        "# 配置神经网络模型的编译过程\n",
        "# https://keras.io/api/optimizers/\n",
        "# https://keras.io/api/losses/\n",
        "network1.compile(optimizer='Adam', loss='binary_crossentropy', metrics = ['accuracy'])\n",
        "history = network1.fit(X_train, y_train, epochs=50)\n"
      ]
    },
    {
      "cell_type": "markdown",
      "metadata": {
        "id": "48crjefERiK8"
      },
      "source": [
        "## 評估CNN模型"
      ]
    },
    {
      "cell_type": "code",
      "execution_count": 20,
      "metadata": {
        "colab": {
          "base_uri": "https://localhost:8080/"
        },
        "id": "28Vm3OJS4TVe",
        "outputId": "d2bc5a04-8e57-4456-8487-092bb10fd65d"
      },
      "outputs": [
        {
          "name": "stdout",
          "output_type": "stream",
          "text": [
            "dict_keys(['accuracy', 'loss'])\n"
          ]
        },
        {
          "data": {
            "image/png": "[encoded data removed]",
            "text/plain": [
              "<Figure size 1000x400 with 2 Axes>"
            ]
          },
          "metadata": {},
          "output_type": "display_data"
        }
      ],
      "source": [
        "# 打印训练历史记录中的所有键\n",
        "print(history.history.keys())\n",
        "\n",
        "# 绘制损失函数和准确率曲线在同一张图上，一左一右\n",
        "plt.figure(figsize=(10, 4))\n",
        "\n",
        "# 损失函数曲线在左侧\n",
        "plt.subplot(1, 2, 1)\n",
        "plt.plot(history.history['loss'])\n",
        "plt.title('Loss')\n",
        "\n",
        "# 准确率曲线在右侧\n",
        "plt.subplot(1, 2, 2)\n",
        "plt.plot(history.history['accuracy'])\n",
        "plt.title('Accuracy')\n",
        "\n",
        "# 显示图形\n",
        "plt.show()\n"
      ]
    },
    {
      "cell_type": "markdown",
      "metadata": {},
      "source": [
        "## 輸出預設值\n",
        "\n",
        "0 False - Bart\n",
        "\n",
        "1 True  - Homer"
      ]
    },
    {
      "cell_type": "code",
      "execution_count": 28,
      "metadata": {
        "colab": {
          "base_uri": "https://localhost:8080/"
        },
        "id": "cngX7KFi5QaU",
        "outputId": "2fc21a63-08d6-4d43-a23d-b3d52691484a"
      },
      "outputs": [
        {
          "name": "stdout",
          "output_type": "stream",
          "text": [
            "\u001b[1m2/2\u001b[0m \u001b[32m━━━━━━━━━━━━━━━━━━━━\u001b[0m\u001b[37m\u001b[0m \u001b[1m0s\u001b[0m 47ms/step \n",
            "[[0.0182978 ]\n",
            " [0.9982666 ]\n",
            " [0.04062988]\n",
            " [0.12276519]\n",
            " [0.89954394]]\n",
            "[[False]\n",
            " [ True]\n",
            " [False]\n",
            " [False]\n",
            " [ True]]\n",
            "              precision    recall  f1-score   support\n",
            "\n",
            "           0       0.71      0.79      0.75        28\n",
            "           1       0.74      0.65      0.69        26\n",
            "\n",
            "    accuracy                           0.72        54\n",
            "   macro avg       0.72      0.72      0.72        54\n",
            "weighted avg       0.72      0.72      0.72        54\n",
            "\n",
            "0.7222222222222222\n"
          ]
        },
        {
          "data": {
            "text/plain": [
              "<Axes: >"
            ]
          },
          "execution_count": 28,
          "metadata": {},
          "output_type": "execute_result"
        },
        {
          "data": {
            "image/png": "[encoded data removed]",
            "text/plain": [
              "<Figure size 400x200 with 2 Axes>"
            ]
          },
          "metadata": {},
          "output_type": "display_data"
        }
      ],
      "source": [
        "\n",
        "predictions = network1.predict(X_test)\n",
        "print(predictions[:5]) #輸出前五就好\n",
        "\n",
        "predictions = (predictions > 0.5)\n",
        "print(predictions[:5])\n",
        "\n",
        "# 產生分類報告\n",
        "from sklearn.metrics import classification_report\n",
        "print(classification_report(y_test, predictions))\n",
        "\n",
        "\n",
        "# 計算精確率並繪製混淆矩陣\n",
        "from sklearn.metrics import accuracy_score\n",
        "from sklearn.metrics import confusion_matrix\n",
        "print(accuracy_score(y_test, predictions))\n",
        "cm = confusion_matrix(y_test, predictions)\n",
        "cm\n",
        "plt.figure(figsize=(4, 2))\n",
        "sns.heatmap(cm, annot=True)"
      ]
    },
    {
      "cell_type": "markdown",
      "metadata": {
        "id": "CUDXG0HyXAav"
      },
      "source": [
        "## 儲存/載入模型"
      ]
    },
    {
      "cell_type": "code",
      "execution_count": 29,
      "metadata": {
        "id": "UqxI9XbT9pYO"
      },
      "outputs": [
        {
          "name": "stderr",
          "output_type": "stream",
          "text": [
            "WARNING:absl:You are saving your model as an HDF5 file via `model.save()` or `keras.saving.save_model(model)`. This file format is considered legacy. We recommend using instead the native Keras format, e.g. `model.save('my_model.keras')` or `keras.saving.save_model(model, 'my_model.keras')`. \n"
          ]
        }
      ],
      "source": [
        "# 保存模型結構\n",
        "model_json = network1.to_json()\n",
        "with open('network1.json', 'w') as json_file:\n",
        "  json_file.write(model_json)\n",
        "\n",
        "\n",
        "# 保存模型參數\n",
        "from keras.models import save_model\n",
        "network1_saved = save_model(network1, 'weights1.hdf5')\n",
        "  "
      ]
    },
    {
      "cell_type": "code",
      "execution_count": 30,
      "metadata": {
        "colab": {
          "base_uri": "https://localhost:8080/",
          "height": 252
        },
        "id": "jxMh7aQV-p_D",
        "outputId": "ba9d2805-094f-4d8e-9dd4-a74cd7fd300c"
      },
      "outputs": [
        {
          "data": {
            "text/html": [
              "<pre style=\"white-space:pre;overflow-x:auto;line-height:normal;font-family:Menlo,'DejaVu Sans Mono',consolas,'Courier New',monospace\"><span style=\"font-weight: bold\">Model: \"sequential_1\"</span>\n",
              "</pre>\n"
            ],
            "text/plain": [
              "\u001b[1mModel: \"sequential_1\"\u001b[0m\n"
            ]
          },
          "metadata": {},
          "output_type": "display_data"
        },
        {
          "data": {
            "text/html": [
              "<pre style=\"white-space:pre;overflow-x:auto;line-height:normal;font-family:Menlo,'DejaVu Sans Mono',consolas,'Courier New',monospace\">┏━━━━━━━━━━━━━━━━━━━━━━━━━━━━━━━━━┳━━━━━━━━━━━━━━━━━━━━━━━━┳━━━━━━━━━━━━━━━┓\n",
              "┃<span style=\"font-weight: bold\"> Layer (type)                    </span>┃<span style=\"font-weight: bold\"> Output Shape           </span>┃<span style=\"font-weight: bold\">       Param # </span>┃\n",
              "┡━━━━━━━━━━━━━━━━━━━━━━━━━━━━━━━━━╇━━━━━━━━━━━━━━━━━━━━━━━━╇━━━━━━━━━━━━━━━┩\n",
              "│ dense_3 (<span style=\"color: #0087ff; text-decoration-color: #0087ff\">Dense</span>)                 │ (<span style=\"color: #00d7ff; text-decoration-color: #00d7ff\">None</span>, <span style=\"color: #00af00; text-decoration-color: #00af00\">8193</span>)           │   <span style=\"color: #00af00; text-decoration-color: #00af00\">134,242,305</span> │\n",
              "├─────────────────────────────────┼────────────────────────┼───────────────┤\n",
              "│ dense_4 (<span style=\"color: #0087ff; text-decoration-color: #0087ff\">Dense</span>)                 │ (<span style=\"color: #00d7ff; text-decoration-color: #00d7ff\">None</span>, <span style=\"color: #00af00; text-decoration-color: #00af00\">8193</span>)           │    <span style=\"color: #00af00; text-decoration-color: #00af00\">67,133,442</span> │\n",
              "├─────────────────────────────────┼────────────────────────┼───────────────┤\n",
              "│ dense_5 (<span style=\"color: #0087ff; text-decoration-color: #0087ff\">Dense</span>)                 │ (<span style=\"color: #00d7ff; text-decoration-color: #00d7ff\">None</span>, <span style=\"color: #00af00; text-decoration-color: #00af00\">1</span>)              │         <span style=\"color: #00af00; text-decoration-color: #00af00\">8,194</span> │\n",
              "└─────────────────────────────────┴────────────────────────┴───────────────┘\n",
              "</pre>\n"
            ],
            "text/plain": [
              "┏━━━━━━━━━━━━━━━━━━━━━━━━━━━━━━━━━┳━━━━━━━━━━━━━━━━━━━━━━━━┳━━━━━━━━━━━━━━━┓\n",
              "┃\u001b[1m \u001b[0m\u001b[1mLayer (type)                   \u001b[0m\u001b[1m \u001b[0m┃\u001b[1m \u001b[0m\u001b[1mOutput Shape          \u001b[0m\u001b[1m \u001b[0m┃\u001b[1m \u001b[0m\u001b[1m      Param #\u001b[0m\u001b[1m \u001b[0m┃\n",
              "┡━━━━━━━━━━━━━━━━━━━━━━━━━━━━━━━━━╇━━━━━━━━━━━━━━━━━━━━━━━━╇━━━━━━━━━━━━━━━┩\n",
              "│ dense_3 (\u001b[38;5;33mDense\u001b[0m)                 │ (\u001b[38;5;45mNone\u001b[0m, \u001b[38;5;34m8193\u001b[0m)           │   \u001b[38;5;34m134,242,305\u001b[0m │\n",
              "├─────────────────────────────────┼────────────────────────┼───────────────┤\n",
              "│ dense_4 (\u001b[38;5;33mDense\u001b[0m)                 │ (\u001b[38;5;45mNone\u001b[0m, \u001b[38;5;34m8193\u001b[0m)           │    \u001b[38;5;34m67,133,442\u001b[0m │\n",
              "├─────────────────────────────────┼────────────────────────┼───────────────┤\n",
              "│ dense_5 (\u001b[38;5;33mDense\u001b[0m)                 │ (\u001b[38;5;45mNone\u001b[0m, \u001b[38;5;34m1\u001b[0m)              │         \u001b[38;5;34m8,194\u001b[0m │\n",
              "└─────────────────────────────────┴────────────────────────┴───────────────┘\n"
            ]
          },
          "metadata": {},
          "output_type": "display_data"
        },
        {
          "data": {
            "text/html": [
              "<pre style=\"white-space:pre;overflow-x:auto;line-height:normal;font-family:Menlo,'DejaVu Sans Mono',consolas,'Courier New',monospace\"><span style=\"font-weight: bold\"> Total params: </span><span style=\"color: #00af00; text-decoration-color: #00af00\">201,383,941</span> (768.22 MB)\n",
              "</pre>\n"
            ],
            "text/plain": [
              "\u001b[1m Total params: \u001b[0m\u001b[38;5;34m201,383,941\u001b[0m (768.22 MB)\n"
            ]
          },
          "metadata": {},
          "output_type": "display_data"
        },
        {
          "data": {
            "text/html": [
              "<pre style=\"white-space:pre;overflow-x:auto;line-height:normal;font-family:Menlo,'DejaVu Sans Mono',consolas,'Courier New',monospace\"><span style=\"font-weight: bold\"> Trainable params: </span><span style=\"color: #00af00; text-decoration-color: #00af00\">201,383,941</span> (768.22 MB)\n",
              "</pre>\n"
            ],
            "text/plain": [
              "\u001b[1m Trainable params: \u001b[0m\u001b[38;5;34m201,383,941\u001b[0m (768.22 MB)\n"
            ]
          },
          "metadata": {},
          "output_type": "display_data"
        },
        {
          "data": {
            "text/html": [
              "<pre style=\"white-space:pre;overflow-x:auto;line-height:normal;font-family:Menlo,'DejaVu Sans Mono',consolas,'Courier New',monospace\"><span style=\"font-weight: bold\"> Non-trainable params: </span><span style=\"color: #00af00; text-decoration-color: #00af00\">0</span> (0.00 B)\n",
              "</pre>\n"
            ],
            "text/plain": [
              "\u001b[1m Non-trainable params: \u001b[0m\u001b[38;5;34m0\u001b[0m (0.00 B)\n"
            ]
          },
          "metadata": {},
          "output_type": "display_data"
        }
      ],
      "source": [
        "# 載入模型結構\n",
        "with open('network1.json') as json_file:\n",
        "  json_saved_model = json_file.read()\n",
        "json_saved_model\n",
        "\n",
        "# 載入模型參數\n",
        "network1_loaded = tf.keras.models.model_from_json(json_saved_model)\n",
        "network1_loaded.load_weights('./weights1.hdf5')\n",
        "network1_loaded.compile(loss = 'binary_crossentropy', optimizer = 'Adam', metrics = ['accuracy'])\n",
        "\n",
        "network1_loaded.summary()"
      ]
    },
    {
      "cell_type": "markdown",
      "metadata": {
        "id": "skw6tU94aCL1"
      },
      "source": [
        "## 針對圖片進行辨識"
      ]
    },
    {
      "cell_type": "code",
      "execution_count": 36,
      "metadata": {
        "id": "4Q9FnUZFACU9"
      },
      "outputs": [
        {
          "name": "stdout",
          "output_type": "stream",
          "text": [
            "[1. 1. 1. ... 1. 1. 1.]\n",
            "(16384,)\n",
            "[[1. 1. 1. ... 1. 1. 1.]]\n"
          ]
        }
      ],
      "source": [
        "test_image = X_test[0]\n",
        "print(test_image)\n",
        "print(test_image.shape)\n",
        "test_image = scaler.inverse_transform(test_image.reshape(1, -1))\n",
        "print(test_image)"
      ]
    },
    {
      "cell_type": "code",
      "execution_count": 40,
      "metadata": {
        "colab": {
          "base_uri": "https://localhost:8080/",
          "height": 165
        },
        "id": "qWwpZzIYB6bw",
        "outputId": "aa062f76-f9c0-41eb-e4d8-c2c50af29262"
      },
      "outputs": [
        {
          "data": {
            "text/plain": [
              "<matplotlib.image.AxesImage at 0x2d8d06e90>"
            ]
          },
          "execution_count": 40,
          "metadata": {},
          "output_type": "execute_result"
        },
        {
          "data": {
            "image/png": "[encoded data removed]",
            "text/plain": [
              "<Figure size 400x200 with 1 Axes>"
            ]
          },
          "metadata": {},
          "output_type": "display_data"
        }
      ],
      "source": [
        "# image_np = cv2.cvtColor(test_image, cv2.COLOR_BGR2RGB) # 將 OpenCV 中的 BGR 格式轉換為 RGB 格式，因為 Matplotlib 預期的是 RGB 格式\n",
        "plt.figure(figsize=(4, 2))\n",
        "plt.axis('off')  # 隱藏坐標軸\n",
        "plt.imshow(test_image.reshape(width, height))"
      ]
    },
    {
      "cell_type": "code",
      "execution_count": 41,
      "metadata": {
        "colab": {
          "base_uri": "https://localhost:8080/"
        },
        "id": "Pc7HfJ7ZCXrH",
        "outputId": "3bb0b8e3-8ef5-4b33-ce71-6d50a7adfd26"
      },
      "outputs": [
        {
          "name": "stdout",
          "output_type": "stream",
          "text": [
            "\u001b[1m1/1\u001b[0m \u001b[32m━━━━━━━━━━━━━━━━━━━━\u001b[0m\u001b[37m\u001b[0m \u001b[1m1s\u001b[0m 711ms/step\n",
            "[0.01829724]\n",
            "\u001b[1m1/1\u001b[0m \u001b[32m━━━━━━━━━━━━━━━━━━━━\u001b[0m\u001b[37m\u001b[0m \u001b[1m0s\u001b[0m 35ms/step\n",
            "(1,)\n",
            "\u001b[1m1/1\u001b[0m \u001b[32m━━━━━━━━━━━━━━━━━━━━\u001b[0m\u001b[37m\u001b[0m \u001b[1m0s\u001b[0m 29ms/step\n",
            "Bart\n"
          ]
        }
      ],
      "source": [
        "print(network1_loaded.predict(test_image)[0])\n",
        "print(network1_loaded.predict(test_image)[0].shape)\n",
        "\n",
        "ans = 'Bart' if network1_loaded.predict(test_image)[0] < 0.5 else 'Homer'\n",
        "print(ans)\n"
      ]
    }
  ],
  "metadata": {
    "colab": {
      "provenance": []
    },
    "kernelspec": {
      "display_name": "Python 3",
      "name": "python3"
    },
    "language_info": {
      "codemirror_mode": {
        "name": "ipython",
        "version": 3
      },
      "file_extension": ".py",
      "mimetype": "text/x-python",
      "name": "python",
      "nbconvert_exporter": "python",
      "pygments_lexer": "ipython3",
      "version": "3.11.5"
    }
  },
  "nbformat": 4,
  "nbformat_minor": 0
}
