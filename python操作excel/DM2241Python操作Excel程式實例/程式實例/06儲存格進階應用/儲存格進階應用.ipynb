{
 "cells": [
  {
   "cell_type": "markdown",
   "metadata": {},
   "source": [
    "## 合併儲存格\n",
    "\n",
    "合併儲存格可以使用 merge_cells（）函數，此函數的語法：`ws.merge_cells（儲存格區間）`\n"
   ]
  },
  {
   "cell_type": "code",
   "execution_count": 1,
   "metadata": {},
   "outputs": [],
   "source": [
    "import openpyxl\n",
    "from openpyxl.styles import Font, Alignment\n",
    "\n",
    "wb = openpyxl.Workbook()\n",
    "ws = wb.active\n",
    "\n",
    "ws.merge_cells('A1:B2')\n",
    "ws['A1'].font = Font(name='Old English Text MT',\n",
    "                     color='0000FF',\n",
    "                     size=20)\n",
    "ws['A1'].alignment = Alignment(horizontal='center',\n",
    "                               vertical='center')\n",
    "ws['A1'] = 'DeepMind'                      \n",
    "wb.save(\"合併儲存格.xlsx\")"
   ]
  },
  {
   "cell_type": "markdown",
   "metadata": {},
   "source": [
    "## 取消合併儲存格\n",
    "\n",
    "取消合併儲存格可以使用 unmerge_cells（）函數，此函數的語法如下：\n",
    "`ws.unmerge__cells (儲存格區間）`"
   ]
  },
  {
   "cell_type": "code",
   "execution_count": null,
   "metadata": {},
   "outputs": [],
   "source": [
    "import openpyxl\n",
    "from openpyxl.styles import Font, Alignment\n",
    "\n",
    "wb = openpyxl.Workbook()\n",
    "ws = wb.active\n",
    "\n",
    "# 合併儲存格   \n",
    "ws['B2'] = \"深智\"\n",
    "ws.merge_cells('B2:C3')\n",
    "ws['B2'].font = Font(name='Old English Text MT',\n",
    "                     color='0000FF',)\n",
    "ws['B2'].alignment = Alignment(horizontal='center',\n",
    "                               vertical='center')                     \n",
    "# wb.save(\"out7_4_1.xlsx\")\n",
    "\n",
    "# 取消合併    \n",
    "ws.unmerge_cells('B2:C3')\n",
    "# wb.save(\"out7_4_2.xlsx\")"
   ]
  },
  {
   "cell_type": "markdown",
   "metadata": {},
   "source": [
    "## 儲存格的備註\n",
    "\n",
    "使用 openpyxl模組也可以為儲存格增加附註（comment），使用前需要導入\n",
    "Comment 模組：\n",
    "\n",
    "`from openpyxl import Comment`\n",
    "\n",
    "然後儲存格物件有 comment 屬性可以設定附註，設定方式需要使用 Comment（）函數，此函數的用法如下：\n",
    "\n",
    "`comment= Comment（”附註文字\"，\"作者\"`"
   ]
  },
  {
   "cell_type": "code",
   "execution_count": 4,
   "metadata": {},
   "outputs": [
    {
     "name": "stdout",
     "output_type": "stream",
     "text": [
      "註解 : 唐朝美女\n",
      "作者 : 洪錦魁\n"
     ]
    }
   ],
   "source": [
    "import openpyxl\n",
    "from openpyxl.comments import Comment\n",
    "\n",
    "wb = openpyxl.Workbook()\n",
    "ws = wb.active\n",
    "ws['B2'] = \"楊貴妃\"\n",
    "comment = Comment(\"唐朝美女\",\"洪錦魁\")\n",
    "ws['B2'].comment = comment\n",
    "print(f\"註解 : {comment.text}\")\n",
    "print(f\"作者 : {comment.author}\")\n",
    "wb.save(\"練習備註.xlsx\")"
   ]
  },
  {
   "cell_type": "code",
   "execution_count": 3,
   "metadata": {},
   "outputs": [
    {
     "name": "stdout",
     "output_type": "stream",
     "text": [
      "註解 : 洪錦魁:\n",
      "唐朝美女\n",
      "作者 : 洪錦魁\n"
     ]
    }
   ],
   "source": [
    "import openpyxl\n",
    "from openpyxl.comments import Comment\n",
    "\n",
    "wb = openpyxl.Workbook()\n",
    "ws = wb.active\n",
    "ws['B2'] = \"楊貴妃\"\n",
    "comment = Comment(\"洪錦魁:\\n唐朝美女\",\"洪錦魁\")\n",
    "ws['B2'].comment = comment\n",
    "print(f\"註解 : {comment.text}\")\n",
    "print(f\"作者 : {comment.author}\")\n",
    "wb.save(\"練習備註.xlsx\")"
   ]
  },
  {
   "cell_type": "markdown",
   "metadata": {},
   "source": [
    "## 折疊（隱藏）儲存格\n",
    "\n",
    "使用工作表時可能會想將一些欄位或是列數折疊（或是稱隱藏），此時可以使用下列工作表的函數。\n",
    "```\n",
    "column_dimensions.group（ 起始欄，結束欄，hidden=True）\n",
    "row_dimensions.group（ 起始列，結束列，hidden=True）\n",
    "```\n",
    "上述 hidden 設為 True 表示隱藏。"
   ]
  },
  {
   "cell_type": "code",
   "execution_count": 6,
   "metadata": {},
   "outputs": [],
   "source": [
    "import openpyxl\n",
    "from openpyxl.comments import Comment\n",
    "\n",
    "wb = openpyxl.Workbook()\n",
    "ws = wb.active\n",
    "ws.column_dimensions.group('D','F',hidden=True)\n",
    "wb.save(\"折疊儲存格.xlsx\")"
   ]
  },
  {
   "cell_type": "code",
   "execution_count": 5,
   "metadata": {},
   "outputs": [],
   "source": [
    "import openpyxl\n",
    "from openpyxl.comments import Comment\n",
    "\n",
    "wb = openpyxl.Workbook()\n",
    "ws = wb.active\n",
    "ws.column_dimensions.group('D','F', hidden=True)\n",
    "ws.row_dimensions.group(5,10, hidden=True)\n",
    "wb.save(\"折疊儲存格.xlsx\")"
   ]
  }
 ],
 "metadata": {
  "kernelspec": {
   "display_name": "base",
   "language": "python",
   "name": "python3"
  },
  "language_info": {
   "codemirror_mode": {
    "name": "ipython",
    "version": 3
   },
   "file_extension": ".py",
   "mimetype": "text/x-python",
   "name": "python",
   "nbconvert_exporter": "python",
   "pygments_lexer": "ipython3",
   "version": "3.11.5"
  },
  "orig_nbformat": 4
 },
 "nbformat": 4,
 "nbformat_minor": 2
}
