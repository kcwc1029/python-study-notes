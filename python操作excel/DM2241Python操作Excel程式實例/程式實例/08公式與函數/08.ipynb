{
 "cells": [
  {
   "cell_type": "markdown",
   "metadata": {},
   "source": [
    "查看可以解析的函數"
   ]
  },
  {
   "cell_type": "code",
   "execution_count": 1,
   "metadata": {},
   "outputs": [
    {
     "name": "stdout",
     "output_type": "stream",
     "text": [
      "<class 'frozenset'>\n",
      "352\n",
      "frozenset({'RADIANS', 'NPV', 'ACCRINTM', 'SUM', 'DGET', 'HLOOKUP', 'DURATION', 'SINH', 'ISBLANK', 'PRICEMAT', 'SUMIF', 'T', 'VALUE', 'VLOOKUP', 'FINDB', 'SUMSQ', 'BESSELY', 'LN', 'CUBESET', 'PERCENTILE', 'COUPDAYS', 'ISTEXT', 'NORMSINV', 'COLUMNS', 'MODE', 'MATCH', 'MINA', 'ATANH', 'SERIESSUM', 'IMABS', 'LOGINV', 'SEARCH', 'IMEXP', 'ODDLYIELD', 'MEDIAN', 'BETADIST', 'EXP', 'YEAR', 'ISERROR', 'FACTDOUBLE', 'ROUNDUP', 'FREQUENCY', 'SECOND', 'YIELD', 'SUMPRODUCT', 'ASIN', 'INTERCEPT', 'FTEST', 'CONCATENATE', 'CONVERT', 'LOWER', 'RSQ', 'CODE', 'HOUR', 'COUPPCD', 'COUNT', 'POISSON', 'CONFIDENCE', 'VAR', 'DMAX', 'TBILLYIELD', 'FACT', 'EXACT', 'DAYS360', 'AVERAGEA', 'ISNONTEXT', 'RIGHTB', 'MINVERSE', 'ERFC', 'YEARFRAC', 'DATEDIF', 'CUMPRINC', 'FDIST', 'SKEW', 'INT', 'LOGEST', 'HARMEAN', 'NORMINV', 'COSH', 'TINV', 'SUBSTITUTE', 'IMREAL', 'TRUE ADDRESS', 'BETAINV', 'ATAN2', 'DOLLARFR', 'LOG', 'HYPGEOMDIST', 'SLOPE', 'COMPLEX', 'ROUNDDOWN', 'DELTA', 'PEARSON', 'RECEIVED', 'DATEVALUE', 'YIELDMAT', 'EFFECT', 'HEX2DEC', 'ODDFPRICE', 'MID', 'MIN', 'DAY', 'FISHERINV', 'DMIN', 'OFFSET', 'PROPER', 'GCD', 'IMAGINARY', 'SUBTOTAL', 'LARGE', 'NETWORKDAYS', 'REPLACE', 'RTD', 'EDATE', 'AMORLINC', 'HEX2OCT', 'OCT2DEC', 'PPMT', 'DSUM', 'ISO.CEILING', 'FALSE', 'CHIINV', 'SUMXMY2', 'DCOUNTA', 'ODDLPRICE', 'AVEDEV', 'ACCRINT', 'MOD', 'CUMIPMT', 'ISERR', 'WEIBULL', 'PMT', 'TTEST', 'ISEVEN', 'WORKDAY ', 'SLN', 'COUPNUM', 'STDEVP', 'IMSQRT', 'LINEST', 'NEGBINOMDIST', 'DISC', 'CORREL', 'DEGREES', 'IMPOWER', 'MIDB', 'IMPRODUCT', 'ISLOGICAL', 'ERROR.TYPE', 'TIME', 'TRIM', 'CLEAN', 'OCT2HEX', 'TAN', 'EOMONTH', 'IMSIN', 'REPLACEB', 'FORECAST', 'INTRATE', 'PI', 'VARPA', 'DSTDEV', 'IFERROR', 'DVARP', 'PRICE', 'BESSELI', 'IMCOS', 'FV', 'IMDIV', 'GESTEP', 'INDIRECT', 'MAX', 'IMLOG2', 'BIN2HEX', 'CUBEVALUE', 'IMSUM', 'MAXA', 'AND', 'CUBEMEMBERPROPERTY', 'IMCONJUGATE', 'RANK', 'NETWORKDAYS.INTL', 'OCT2BIN', 'DAVERAGE', 'AVERAGE', 'DEC2HEX', 'COUPNCD', 'DEC2OCT', 'BESSELJ', 'YIELDDISC', 'LEFTB', 'PV', 'ACOSH', 'FISHER', 'DVAR', 'ISNA', 'VARA', 'XIRR', 'SMALL', 'TREND', 'SIN', 'AREAS', 'KURT', 'FLOOR', 'TRANSPOSE', 'IMARGUMENT', 'MONTH', 'GAMMADIST', 'PRODUCT', 'ATAN', 'RAND', 'CHITEST', 'CHIDIST', 'XNPV', 'TBILLPRICE', 'TRUNC', 'RANDBETWEEN', 'PRICEDISC', 'AMORDEGRC', 'DEVSQ', 'COUNTIFS', 'IMSUB', 'COVAR', 'FIXED', 'TEXT', 'COUPDAYSNC', 'VARP', 'NPER', 'DOLLAR', 'IF', 'QUOTIENT', 'ISODD', 'NOW', 'NOMINAL', 'EXPONDIST', 'TANH', 'PERMUT', 'MIRR', 'COS', 'ACOS', 'COMBIN', 'VDB', 'FINV', 'REPT', 'CRITBINOM', 'RIGHT', 'LOGNORMDIST', 'COUNTA', 'HEX2BIN', 'SEARCHB', 'GAMMALN', 'ISPMT', 'IRR', 'GETPIVOTDATA', 'DOLLARDE', 'TRIMMEAN', 'CHAR', 'CELL', 'ROW', 'GEOMEAN', 'CUBEKPIMEMBER', 'ODDFYIELD', 'WEEKDAY', 'POWER', 'LEN', 'RATE', 'SYD', 'TBILLEQ', 'N', 'SIGN', 'ABS', 'IPMT', 'ISNUMBER', 'INDEX', 'ERF', 'DATE', 'TYPE', 'CEILING', 'SUMIFS', 'CUBERANKEDMEMBER', 'FVSCHEDULE', 'NOT', 'MULTINOMIAL', 'MROUND', 'SQRTPI', 'SQRT', 'BAHTTEXT', 'TIMEVALUE', 'FIND', 'ZTEST', 'LOG10', 'AVERAGEIFS', 'PERCENTRANK', 'JIS', 'STANDARDIZE', 'UPPER', 'COUNTBLANK', 'ROWS', 'QUARTILE', 'MMULT', 'WORKDAY.INTL', 'NORMSDIST', 'DDB', 'NA', 'LOOKUP', 'LENB', 'BINOMDIST', 'COLUMN', 'STDEVPA STEYX', 'ASC', 'STDEV STDEVA', 'DEC2BIN', 'OR', 'NORMDIST', 'ISREF', 'DCOUNT', 'PROB', 'BIN2OCT', 'PHONETIC', 'LEFT', 'ODD', 'LCM', 'CHOOSE', 'ASINH', 'MINUTE', 'BIN2DEC', 'IMLOG10', 'AVERAGEIF', 'GROWTH', 'MDETERM', 'TDIST', 'ROMAN', 'DPRODUCT', 'HYPERLINK', 'ECMA.CEILING', 'MDURATION', 'COUNTIF', 'GAMMAINV', 'COUPDAYBS', 'IMLN', 'SUMX2PY2', 'BESSELK', 'CUBESETCOUNT', 'DB', 'SUMX2MY2', 'EVEN', 'TODAY', 'CUBEMEMBER', 'INFO', 'WEEKNUM', 'ROUND', 'DSTDEVP'})\n"
     ]
    }
   ],
   "source": [
    "import openpyxl\n",
    "from openpyxl.utils import FORMULAE\n",
    "\n",
    "print(type(FORMULAE))\n",
    "print(len(FORMULAE))\n",
    "print(FORMULAE)"
   ]
  },
  {
   "cell_type": "code",
   "execution_count": 2,
   "metadata": {},
   "outputs": [
    {
     "name": "stdout",
     "output_type": "stream",
     "text": [
      "TODAY : True\n",
      "today : False\n",
      "SUM   : True\n",
      "sum   : False\n",
      "TEST  : False\n"
     ]
    }
   ],
   "source": [
    "# 檢查函數是否可以使用\n",
    "import openpyxl\n",
    "from openpyxl.utils import FORMULAE\n",
    "\n",
    "print(f\"TODAY : {'TODAY' in FORMULAE}\")\n",
    "print(f\"today : {'today' in FORMULAE}\")\n",
    "print(f\"SUM   : {'SUM' in FORMULAE}\")\n",
    "print(f\"sum   : {'sum' in FORMULAE}\")\n",
    "print(f\"TEST  : {'TEST' in FORMULAE}\")"
   ]
  },
  {
   "cell_type": "markdown",
   "metadata": {},
   "source": [
    "## 在工作表內使用函數"
   ]
  }
 ],
 "metadata": {
  "kernelspec": {
   "display_name": "base",
   "language": "python",
   "name": "python3"
  },
  "language_info": {
   "codemirror_mode": {
    "name": "ipython",
    "version": 3
   },
   "file_extension": ".py",
   "mimetype": "text/x-python",
   "name": "python",
   "nbconvert_exporter": "python",
   "pygments_lexer": "ipython3",
   "version": "3.11.5"
  },
  "orig_nbformat": 4
 },
 "nbformat": 4,
 "nbformat_minor": 2
}
