{
 "cells": [
  {
   "cell_type": "markdown",
   "metadata": {},
   "source": [
    "## 取得目前工作目錄"
   ]
  },
  {
   "cell_type": "code",
   "execution_count": 1,
   "metadata": {},
   "outputs": [
    {
     "name": "stdout",
     "output_type": "stream",
     "text": [
      "/Users/chenweicheng/github/python-study-notes/python基本教學＆套件\n"
     ]
    }
   ],
   "source": [
    "import os\n",
    "print(os.getcwd())"
   ]
  },
  {
   "cell_type": "markdown",
   "metadata": {},
   "source": [
    "## 獲取相對/絕對路徑"
   ]
  },
  {
   "cell_type": "code",
   "execution_count": 8,
   "metadata": {},
   "outputs": [
    {
     "name": "stdout",
     "output_type": "stream",
     "text": [
      "/Users/chenweicheng/github/python-study-notes/python基本教學＆套件\n",
      "/Users/chenweicheng/github/python-study-notes\n",
      "/Users/chenweicheng/github/python-study-notes/python基本教學＆套件/套件OS、zipfile.ipynb\n"
     ]
    }
   ],
   "source": [
    "# 絕對路徑\n",
    "import os\n",
    "\n",
    "print(os.path.abspath('.'))              # 列出目前工作目錄的絕對路徑\n",
    "print(os.path.abspath('..'))             # 列出上一層工作目錄的絕對路徑\n",
    "print(os.path.abspath('套件OS、zipfile.ipynb'))      # 列出目前檔案的絕對路徑"
   ]
  },
  {
   "cell_type": "code",
   "execution_count": 3,
   "metadata": {},
   "outputs": [
    {
     "name": "stdout",
     "output_type": "stream",
     "text": [
      "D:\\\n",
      "D:\\Python\\ch13\n",
      "../D:\\\n"
     ]
    }
   ],
   "source": [
    "# 相對路徑\n",
    "import os\n",
    "\n",
    "print(os.path.relpath('D:\\\\'))              # 列出目前工作目錄至D:\\的相對路徑\n",
    "print(os.path.relpath('D:\\\\Python\\\\ch13'))  # 列出目前工作目錄至特定path的相對路徑\n",
    "print(os.path.relpath('D:\\\\', 'ch14_3.py')) # 列出目前檔案至D:\\的相對路徑"
   ]
  },
  {
   "cell_type": "markdown",
   "metadata": {},
   "source": [
    "## 檢查路徑\n"
   ]
  },
  {
   "cell_type": "code",
   "execution_count": 7,
   "metadata": {},
   "outputs": [
    {
     "name": "stdout",
     "output_type": "stream",
     "text": [
      "檔案或資料夾存在 =  True\n",
      "檔案或資料夾存在 =  False\n",
      "檔案或資料夾存在 =  False\n",
      " --- \n",
      "是絕對路徑 =  False\n",
      "是絕對路徑 =  False\n",
      " --- \n",
      "是資料夾 =  False\n",
      "是資料夾 =  False\n",
      " --- \n",
      "是檔案 =  False\n",
      "是檔案 =  False\n"
     ]
    }
   ],
   "source": [
    "import os\n",
    "\n",
    "print(\"檔案或資料夾存在 = \", os.path.exists('套件OS、zipfile.ipynb'))\n",
    "print(\"檔案或資料夾存在 = \", os.path.exists('D:\\\\Python\\\\ch14'))\n",
    "print(\"檔案或資料夾存在 = \", os.path.exists('ch14_4.py'))\n",
    "print(\" --- \")\n",
    "\n",
    "print(\"是絕對路徑 = \", os.path.isabs('ch14_4.py'))\n",
    "print(\"是絕對路徑 = \", os.path.isabs('D:\\\\Python\\\\ch14\\\\ch14_4.py'))\n",
    "print(\" --- \")\n",
    "\n",
    "print(\"是資料夾 = \", os.path.isdir('D:\\\\Python\\\\ch14\\\\ch14_4.py'))\n",
    "print(\"是資料夾 = \", os.path.isdir('D:\\\\Python\\\\ch14'))\n",
    "print(\" --- \")\n",
    "\n",
    "print(\"是檔案 = \", os.path.isfile('D:\\\\Python\\\\ch14\\\\ch14_4.py'))\n",
    "print(\"是檔案 = \", os.path.isfile('D:\\\\Python\\\\ch14'))"
   ]
  },
  {
   "cell_type": "markdown",
   "metadata": {},
   "source": [
    "## 返回檔案路徑joinn()"
   ]
  },
  {
   "cell_type": "code",
   "execution_count": 12,
   "metadata": {},
   "outputs": [
    {
     "name": "stdout",
     "output_type": "stream",
     "text": [
      "D:\\/Python/ch14/ch14_9.py\n",
      "D:\\Python/ch14/ch14_9.py\n",
      "D:\\Python\\ch14/ch14_9.py\n"
     ]
    }
   ],
   "source": [
    "import os\n",
    "\n",
    "print(os.path.join('D:\\\\', 'Python', 'ch14', 'ch14_9.py'))   # 4個參數\n",
    "print(os.path.join('D:\\\\Python', 'ch14', 'ch14_9.py'))       # 3個參數\n",
    "print(os.path.join('D:\\\\Python\\\\ch14', 'ch14_9.py'))         # 2個參數"
   ]
  },
  {
   "cell_type": "code",
   "execution_count": 13,
   "metadata": {},
   "outputs": [
    {
     "name": "stdout",
     "output_type": "stream",
     "text": [
      "D:\\Python\\ch14/ch14_1.py\n",
      "D:\\Python\\ch14/ch14_2.py\n",
      "D:\\Python\\ch14/ch14_3.py\n"
     ]
    }
   ],
   "source": [
    "import os\n",
    "\n",
    "files = ['ch14_1.py', 'ch14_2.py', 'ch14_3.py']\n",
    "for file in files:\n",
    "    print(os.path.join('D:\\\\Python\\\\ch14', file))   "
   ]
  },
  {
   "cell_type": "markdown",
   "metadata": {},
   "source": [
    "還有一些其他的函數\n",
    "\n",
    "- abspath(path)\t回傳絕對路徑。\n",
    "- basename(path)\t回傳檔案名稱。\n",
    "- dirname(path)\t回傳檔案路徑。\n",
    "- exists(path)\t判斷檔案路徑是否存在，回傳 True 或 False。\n",
    "- getatime(path)\t回傳最近訪問時間（浮點型秒數）\n",
    "- getmtime(path)\t回傳最近修改檔案的時間 ( 1970 年 1 月 1 日 00:00:00 開始到修改檔案的秒數 )\n",
    "- getctime(path)\t回傳建立檔案時間。\n",
    "- getsize(path)\t回傳檔案大小。\n",
    "- isabs(path)\t判斷是否為絕對路徑，回傳 True 或 False。\n",
    "- isfile(path)\t判斷路徑是否為文件，回傳 True 或 False。\n",
    "- isdir(path)\t判斷路徑是否為目錄，回傳 True 或 False。\n",
    "- join(path1, path2....)\t把目錄和檔案名合成一個路徑\n",
    "- realpath(path)\t回傳 path 的真實路徑\n",
    "- relpath(path, start)\t從 start 計算相對路徑\n",
    "- samefile(path1, path2)\t判斷兩個檔案或目錄是否相同\n",
    "- sameopenfile(fp1, fp2)\t判斷 fp1 和 fp2 是否指向同一檔案\n",
    "- samestat(stat1, stat2)\t判斷stat tuple stat1 和 stat2 是否指向同一個文件\n",
    "- split(path)\t把路徑分割成 dirname 和 basename，返回一個元組\n",
    "- splitext(path)\t分割路徑，返回路徑名和文件副檔名的檔案"
   ]
  },
  {
   "cell_type": "markdown",
   "metadata": {},
   "source": [
    "## 建立資料夾\n"
   ]
  },
  {
   "cell_type": "code",
   "execution_count": 9,
   "metadata": {},
   "outputs": [
    {
     "name": "stdout",
     "output_type": "stream",
     "text": [
      "建立 testch14 資料夾成功\n"
     ]
    }
   ],
   "source": [
    "import os\n",
    "\n",
    "mydir = 'testch14'\n",
    "# 如果mydir不存在就建立此資料夾\n",
    "if os.path.exists(mydir):\n",
    "    print(f\"已經存在 {mydir} \")\n",
    "else:\n",
    "    os.mkdir(mydir)\n",
    "    print(f\"建立 {mydir} 資料夾成功\")"
   ]
  },
  {
   "cell_type": "markdown",
   "metadata": {},
   "source": [
    "## 刪除資料夾"
   ]
  },
  {
   "cell_type": "code",
   "execution_count": 10,
   "metadata": {},
   "outputs": [
    {
     "name": "stdout",
     "output_type": "stream",
     "text": [
      "刪除 testch14 資料夾成功\n"
     ]
    }
   ],
   "source": [
    "import os\n",
    "\n",
    "mydir = 'testch14'\n",
    "# 如果mydir存在就刪除此資料夾\n",
    "if os.path.exists(mydir):\n",
    "    os.rmdir(mydir)\n",
    "    print(f\"刪除 {mydir} 資料夾成功\")\n",
    "else:\n",
    "    print(f\"{mydir} 資料夾不存在\")"
   ]
  },
  {
   "cell_type": "code",
   "execution_count": 11,
   "metadata": {},
   "outputs": [
    {
     "name": "stdout",
     "output_type": "stream",
     "text": [
      "刪除 test.py 檔案成功\n"
     ]
    }
   ],
   "source": [
    "# 刪除指定路訂的檔案\n",
    "import os\n",
    "\n",
    "myfile = 'test.py'\n",
    "# 如果myfile存在就刪除此檔案\n",
    "if os.path.exists(myfile):\n",
    "    os.remove(myfile)\n",
    "    print(f\"刪除 {myfile} 檔案成功\")\n",
    "else:\n",
    "    print(f\"{myfile} 檔案不存在\")"
   ]
  },
  {
   "cell_type": "markdown",
   "metadata": {},
   "source": [
    "## 獲取檔案大小"
   ]
  },
  {
   "cell_type": "code",
   "execution_count": 17,
   "metadata": {},
   "outputs": [
    {
     "name": "stdout",
     "output_type": "stream",
     "text": [
      "18425\n"
     ]
    }
   ],
   "source": [
    "import os\n",
    "\n",
    "# 如果檔案在目前工作目錄下可以省略路徑\n",
    "print(os.path.getsize(\"套件OS、zipfile.ipynb\"))"
   ]
  },
  {
   "cell_type": "markdown",
   "metadata": {},
   "source": [
    "## 獲取資料夾內容"
   ]
  },
  {
   "cell_type": "code",
   "execution_count": 20,
   "metadata": {},
   "outputs": [
    {
     "name": "stdout",
     "output_type": "stream",
     "text": [
      "/Users/chenweicheng/github/python-study-notes/python基本教學＆套件\n",
      "['線程＆線程.ipynb', '套件OS、zipfile.ipynb', 'client1.py', 'server.py', '.DS_Store', 'lab06函式、模組.ipynb', '實用基本套件.md', 'TW.jpg', 'IO、錯誤處理（error & exception）.md', 'lab07物件導向.ipynb', 'NotoSerifTC-Regular.otf', 'lab05字典、集合.ipynb', 'python串接Gmail.ipynb', '套件re.ipynb', 'lab04迴圈、串列、元組.ipynb', 'new_file.json', 'README.md', 'matplotlib.md', '套件CSV&Json＆excel檔案操作.ipynb', 'new_file.csv', 'threading 多執行緒處理.md', '套件NumPy.ipynb', '計概Lab14', 'lab03變數、運算式、判斷式.ipynb', 'templates', 'smtplib 發送＆接收email.md', '套件datetime.ipynb', 'Flask.ipynb', '字串.ipynb', '套件matplotlib.ipynb', 'client2.py', '套件OpenCV.ipynb']\n"
     ]
    }
   ],
   "source": [
    "import os\n",
    "print(os.path.abspath('.'))              # 列出目前工作目錄的絕對路徑\n",
    "print(os.listdir(\".\"))                  # 這代表目前工作目錄\n"
   ]
  },
  {
   "cell_type": "markdown",
   "metadata": {},
   "source": [
    "## 遍歷目錄walk()\n",
    "\n",
    "回傳三個值：目錄名稱、子目錄串列、檔案串列\n"
   ]
  },
  {
   "cell_type": "code",
   "execution_count": 23,
   "metadata": {},
   "outputs": [],
   "source": [
    "import os\n",
    "\n",
    "for dirName, sub_dirNames, fileNames in os.walk('oswalk'):\n",
    "    print(\"目前工作目錄名稱:   \", dirName)\n",
    "    print(\"目前子目錄名稱串列: \", sub_dirNames)\n",
    "    print(\"目前檔案名稱串列:   \", fileNames, \"\\n\")"
   ]
  },
  {
   "cell_type": "markdown",
   "metadata": {},
   "source": [
    "## 寫入檔案"
   ]
  },
  {
   "cell_type": "code",
   "execution_count": 34,
   "metadata": {},
   "outputs": [],
   "source": [
    "fn = '寫入檔案練習.txt'\n",
    "string = '巴拉拉花仙子'\n",
    "\n",
    "with open(fn, 'w') as file_Obj:\n",
    "    file_Obj.write(string)"
   ]
  },
  {
   "cell_type": "code",
   "execution_count": 35,
   "metadata": {},
   "outputs": [],
   "source": [
    "# 歌詞來源：https://www.ettoday.net/dalemon/post/48695\n",
    "fn = '寫入檔案練習.txt'\n",
    "str1 = '霹靂卡霹靂拉拉 波波力那貝貝魯多'\n",
    "str2 = '拍拍砰呸 噗哇噗哇噗'\n",
    "str4 = '帕美魯克拉魯克 拉哩摟哩波噴'\n",
    "str3 = '噗魯魯噗魯 發咪發咪發'\n",
    "\n",
    "with open(fn, 'w') as file_Obj:\n",
    "    file_Obj.write(str1 + '\\n')\n",
    "    file_Obj.write(str2 + '\\n')\n",
    "    file_Obj.write(str3 + '\\n')\n",
    "    file_Obj.write(str4 + '\\n')\n"
   ]
  },
  {
   "cell_type": "markdown",
   "metadata": {},
   "source": [
    "## 分段寫入"
   ]
  },
  {
   "cell_type": "code",
   "execution_count": null,
   "metadata": {},
   "outputs": [],
   "source": [
    "zenofPython = '''Beautiful is better than ugly.\n",
    "Explicit is better than implicits.\n",
    "Simple is better than complex.\n",
    "Flat is better than nested.\n",
    "Sparse is better than desse.\n",
    "Readability counts.\n",
    "Special cases aren't special enough to break the rules.\n",
    "...\n",
    "...\n",
    "By Tim Peters'''\n",
    "\n",
    "fn = 'out14_31_1.txt'\n",
    "size = len(zenofPython)\n",
    "offset = 0\n",
    "chunk = 100\n",
    "with open(fn, 'w') as file_Obj:\n",
    "    while True:\n",
    "        if offset > size:\n",
    "            break\n",
    "        print(file_Obj.write(zenofPython[offset:offset+chunk]))\n",
    "        offset += chunk\n",
    "        "
   ]
  },
  {
   "cell_type": "markdown",
   "metadata": {},
   "source": [
    "## 讀取整個檔案"
   ]
  },
  {
   "cell_type": "code",
   "execution_count": 24,
   "metadata": {},
   "outputs": [
    {
     "name": "stdout",
     "output_type": "stream",
     "text": [
      "今天天氣一直下雨，到底是要怎麼去買麥當勞？？？\n",
      "韓國嚴選海苔酥\n",
      "荔枝海鹽啤酒風花味\n"
     ]
    }
   ],
   "source": [
    "fn = '讀取檔案練習.txt'          # 設定欲開啟的檔案\n",
    "# 使用 with 語句來開啟檔案並確保自動關閉\n",
    "with open(fn, 'r') as file_Obj:  # 用預設mode=r開啟檔案,傳回檔案物件file_Obj\n",
    "    data = file_Obj.read()       # 讀取檔案到變數data\n",
    "\n",
    "print(data)  # 輸出變數data相當於輸出檔案\n"
   ]
  },
  {
   "cell_type": "markdown",
   "metadata": {},
   "source": [
    "## 逐行讀取"
   ]
  },
  {
   "cell_type": "code",
   "execution_count": 26,
   "metadata": {},
   "outputs": [
    {
     "name": "stdout",
     "output_type": "stream",
     "text": [
      "今天天氣一直下雨，到底是要怎麼去買麥當勞？？？\n",
      "\n",
      "韓國嚴選海苔酥\n",
      "\n",
      "荔枝海鹽啤酒風花味\n"
     ]
    }
   ],
   "source": [
    "fn = '讀取檔案練習.txt'          # 設定欲開啟的檔案\n",
    "with open(fn) as file_Obj:  # 用預設mode=r開啟檔案,傳回檔案物件file_Obj\n",
    "    for line in file_Obj:   # 逐行讀取檔案到變數line\n",
    "        print(line)         # 輸出變數line相當於輸出一行"
   ]
  },
  {
   "cell_type": "markdown",
   "metadata": {},
   "source": [
    "使用 with 關鍵字配合 open（）時，所開啟的檔案物件目前只在 with 區塊內使用，適用在特別是想要遍歷此檔案物件時。Python 另外有一個方法 readlines（）可以採用逐行讀取方式，一次讀取全部txt 的內容，同時以串列方式儲存，另一個特色是讀取時每行的換行字元皆會儲存在串列內。當然更重要的是我們可以在 with 區塊外遍歷原先檔案物件內容。"
   ]
  },
  {
   "cell_type": "code",
   "execution_count": 27,
   "metadata": {},
   "outputs": [
    {
     "name": "stdout",
     "output_type": "stream",
     "text": [
      "['今天天氣一直下雨，到底是要怎麼去買麥當勞？？？\\n', '韓國嚴選海苔酥\\n', '荔枝海鹽啤酒風花味']\n"
     ]
    }
   ],
   "source": [
    "fn = '讀取檔案練習.txt'          # 設定欲開啟的檔案\n",
    "with open(fn) as file_Obj:  # 用預設mode=r開啟檔案,傳回檔案物件file_Obj\n",
    "    obj_list = file_Obj.readlines()  # 一次讀取全部txt,內部是每次讀一行\n",
    "\n",
    "print(obj_list)             # 列印串列"
   ]
  },
  {
   "cell_type": "code",
   "execution_count": 28,
   "metadata": {},
   "outputs": [
    {
     "name": "stdout",
     "output_type": "stream",
     "text": [
      "今天天氣一直下雨，到底是要怎麼去買麥當勞？？？\n",
      "韓國嚴選海苔酥\n",
      "荔枝海鹽啤酒風花味\n"
     ]
    }
   ],
   "source": [
    "fn = '讀取檔案練習.txt'          # 設定欲開啟的檔案\n",
    "with open(fn) as file_Obj:  # 用預設mode=r開啟檔案,傳回檔案物件file_Obj\n",
    "    obj_list = file_Obj.readlines()  # 一次讀取全部txt,內部是每次讀一行\n",
    "\n",
    "for line in obj_list:\n",
    "    print(line.rstrip())    # 列印串列\n"
   ]
  },
  {
   "cell_type": "markdown",
   "metadata": {},
   "source": [
    "## 字串替換"
   ]
  },
  {
   "cell_type": "code",
   "execution_count": 29,
   "metadata": {},
   "outputs": [
    {
     "name": "stdout",
     "output_type": "stream",
     "text": [
      "今天天氣一直下雨，到底是要怎麼去買麥當勞？？？\n",
      "韓國嚴選海苔酥\n",
      "荔枝海鹽啤酒風花味\n"
     ]
    }
   ],
   "source": [
    "fn = '讀取檔案練習.txt'          # 設定欲開啟的檔案\n",
    "with open(fn) as file_Obj:      # 傳回檔案物件file_Obj\n",
    "    data = file_Obj.read()      # 讀取檔案到變數data\n",
    "    new_data = data.replace('工專', '科大') # 新變數儲存\n",
    "    print(new_data.rstrip())    # 輸出檔案"
   ]
  },
  {
   "cell_type": "markdown",
   "metadata": {},
   "source": [
    "## 字串搜尋"
   ]
  },
  {
   "cell_type": "code",
   "execution_count": 30,
   "metadata": {},
   "outputs": [
    {
     "name": "stdout",
     "output_type": "stream",
     "text": [
      "搜尋 海苔酥 字串存在 讀取檔案練習.txt 檔案中\n"
     ]
    }
   ],
   "source": [
    "fn = '讀取檔案練習.txt'          # 設定欲開啟的檔案\n",
    "with open(fn) as file_Obj:  # 用預設mode=r開啟檔案,傳回檔案物件file_Obj\n",
    "    obj_list = file_Obj.readlines()  # 每次讀一行\n",
    "\n",
    "str_Obj = ''                # 先設為空字串\n",
    "for line in obj_list:       # 將各行字串存入\n",
    "    str_Obj += line.rstrip()\n",
    "\n",
    "findstr = input(\"請輸入欲搜尋字串 = \")\n",
    "if findstr in str_Obj:      # 搜尋檔案是否有欲尋找字串\n",
    "    print(f\"搜尋 {findstr} 字串存在 {fn} 檔案中\")\n",
    "else:\n",
    "    print(f\"搜尋 {findstr} 字串不存在 {fn} 檔案中\")"
   ]
  },
  {
   "cell_type": "code",
   "execution_count": 31,
   "metadata": {},
   "outputs": [
    {
     "name": "stdout",
     "output_type": "stream",
     "text": [
      "搜尋 海苔酥 字串存在 讀取檔案練習.txt 檔案中\n",
      "在索引 27 位置出現\n"
     ]
    }
   ],
   "source": [
    "fn = '讀取檔案練習.txt'          # 設定欲開啟的檔案\n",
    "with open(fn) as file_Obj:  # 用預設mode=r開啟檔案,傳回檔案物件file_Obj\n",
    "    obj_list = file_Obj.readlines()  # 每次讀一行\n",
    "\n",
    "str_Obj = ''                # 先設為空字串\n",
    "for line in obj_list:       # 將各行字串存入\n",
    "    str_Obj += line.rstrip()\n",
    "\n",
    "findstr = input(\"請輸入欲搜尋字串 = \")\n",
    "index = str_Obj.find(findstr)     # 搜尋findstr字串是否存在\n",
    "if  index >= 0:             # 搜尋檔案是否有欲尋找字串\n",
    "    print(f\"搜尋 {findstr} 字串存在 {fn} 檔案中\")\n",
    "    print(f\"在索引 {index} 位置出現\")\n",
    "else:\n",
    "    print(f\"搜尋 {findstr} 字串不存在 {fn} 檔案中\")\n"
   ]
  },
  {
   "cell_type": "markdown",
   "metadata": {},
   "source": [
    "使用rfind()搜尋特定字串最後ㄧ次出現位置。"
   ]
  },
  {
   "cell_type": "code",
   "execution_count": 32,
   "metadata": {},
   "outputs": [
    {
     "name": "stdout",
     "output_type": "stream",
     "text": [
      "CIA最後出現位置:  57\n"
     ]
    }
   ],
   "source": [
    "msg = '''CIA Mark told CIA Linda that the secret USB\n",
    "had given to CIA Peter'''\n",
    "print(\"CIA最後出現位置: \", msg.rfind(\"CIA\",0,len(msg)))"
   ]
  },
  {
   "cell_type": "markdown",
   "metadata": {},
   "source": [
    "## 分批讀取檔案資料\n",
    "在真實的檔案讀取應用中，如果檔案很大時，我們可能要分批讀取檔案資料，下列是分批讀取檔案的應用。"
   ]
  },
  {
   "cell_type": "code",
   "execution_count": 33,
   "metadata": {},
   "outputs": [
    {
     "name": "stdout",
     "output_type": "stream",
     "text": [
      "今天天氣一直下雨，到底是要怎麼去買麥當勞？？？\n",
      "韓國嚴選海苔酥\n",
      "荔枝海鹽啤酒風花味\n"
     ]
    }
   ],
   "source": [
    "fn = '讀取檔案練習.txt'          # 設定欲開啟的檔案\n",
    "chunk = 10\n",
    "msg = ''\n",
    "with open(fn) as file_Obj:  # 用預設mode=r開啟檔案,傳回檔案物件file_Obj\n",
    "    while True:\n",
    "        txt = file_Obj.read(chunk)      # 一次讀取chunk數量\n",
    "        if not txt:\n",
    "            break\n",
    "        msg += txt\n",
    "print(msg)"
   ]
  },
  {
   "cell_type": "markdown",
   "metadata": {},
   "source": [
    "## 讀取／寫入二進位檔案\n",
    "\n",
    "一般圖檔、語音檔⋯等皆是二進位檔案，如果要開啟二進位檔案在open（）檔案時需要使用'rb'，要寫入二進位檔案在 open（）檔案時需要使用'wb'。"
   ]
  },
  {
   "cell_type": "code",
   "execution_count": 36,
   "metadata": {},
   "outputs": [],
   "source": [
    "src = '可愛花花貓貓.jpg'\n",
    "dst = '可愛花花貓貓1.jpg'\n",
    "tmp = ''\n",
    "\n",
    "with open(src, 'rb') as file_rd:\n",
    "    tmp = file_rd.read()\n",
    "    with open(dst, 'wb') as file_wr:\n",
    "        file_wr.write(tmp)\n"
   ]
  },
  {
   "cell_type": "markdown",
   "metadata": {},
   "source": [
    "## 讀取指針\n",
    "在使用 Python 讀取二進位檔案時，是可以隨機控制讀寫指針的位置，也就是我們可以不必從頭開始讀取，讀了每個 byte 資料才可以讀到檔案最後位置。整個觀念是使用 tell（）和 seek（）方法，tell（）可以傳回從檔案開頭算起，目前讀寫指針的位置，以byte 為單位。seek（）方法可以讓目前讀寫指針跳到指定位置，seek（）方法的語法如下：\n",
    "\n",
    "offsetValue = seek(offset, origin)\n",
    "\n",
    "整個 seek（）方法會傳回目前讀寫指針相對整體資料的位移值，至於 origrin 的意義如下：\n",
    "\n",
    "- origin 是0（預設），讀寫指針移至開頭算起的第 offset 的 byte 位置。\n",
    "- origin 是1，讀寫指針移至目前位置算起的第 offset 的 byte 位置。\n",
    "- origin 是2，讀寫指針移至相對結尾的第 offset 的 byte 位置。"
   ]
  },
  {
   "cell_type": "code",
   "execution_count": 38,
   "metadata": {},
   "outputs": [
    {
     "name": "stdout",
     "output_type": "stream",
     "text": [
      "目前位移 :  0\n",
      "目前位移 :  10\n",
      "目前內容 :  10\n",
      "目前位移 :  255\n",
      "目前內容 :  255\n"
     ]
    }
   ],
   "source": [
    "# 創建二進位檔案bdata\n",
    "dst = 'bdata'\n",
    "bytedata = bytes(range(0,256))\n",
    "with open(dst, 'wb') as file_dst:\n",
    "    file_dst.write(bytedata)\n",
    "\n",
    "\n",
    "# 隨機讀取二進位檔案\n",
    "src = 'bdata'\n",
    "with open(src, 'rb') as file_src:\n",
    "    print(\"目前位移 : \", file_src.tell())\n",
    "    file_src.seek(10)\n",
    "    print(\"目前位移 : \", file_src.tell())\n",
    "    data = file_src.read()\n",
    "    print(\"目前內容 : \", data[0])\n",
    "    file_src.seek(255)\n",
    "    print(\"目前位移 : \", file_src.tell())\n",
    "    data = file_src.read()\n",
    "    print(\"目前內容 : \", data[0])"
   ]
  },
  {
   "cell_type": "markdown",
   "metadata": {},
   "source": [
    "## shutil模組"
   ]
  },
  {
   "cell_type": "markdown",
   "metadata": {},
   "source": [
    "複製檔案\n",
    "\n",
    "shutil.copy(source, destination)"
   ]
  },
  {
   "cell_type": "code",
   "execution_count": null,
   "metadata": {},
   "outputs": [],
   "source": [
    "import shutil\n",
    "\n",
    "shutil.copy('source.txt', 'dest.txt')       # 目前工作目錄檔案複製\n",
    "shutil.copy('source.txt', 'D:\\\\Python')     # 目前工作目錄檔案複製至D:\\Python\n",
    "shutil.copy('D:\\\\Python\\\\source.txt', 'D:\\\\dest.txt') # 不同工作目錄檔案複製"
   ]
  },
  {
   "cell_type": "markdown",
   "metadata": {},
   "source": [
    "複製目錄"
   ]
  },
  {
   "cell_type": "code",
   "execution_count": null,
   "metadata": {},
   "outputs": [],
   "source": [
    "import shutil\n",
    "\n",
    "shutil.copytree('old14', 'new14')                   # 目前工作目錄的目錄複製\n",
    "shutil.copytree('D:\\\\Python\\\\old14', 'D:\\\\new14')   # 不同工作目錄的目錄複製\n"
   ]
  },
  {
   "cell_type": "markdown",
   "metadata": {},
   "source": [
    "檔案/目錄移動"
   ]
  },
  {
   "cell_type": "code",
   "execution_count": null,
   "metadata": {},
   "outputs": [],
   "source": [
    "import shutil\n",
    "\n",
    "shutil.move('data34.txt', '.\\\\test34')  # 移動目前工作目錄data34.txt\n",
    "shutil.move('data35.txt', 'out35.txt')  # 更改檔案名稱\n",
    "\n",
    "shutil.move('dir37', 'D:\\\\Python')  # 移動資料夾"
   ]
  },
  {
   "cell_type": "markdown",
   "metadata": {},
   "source": [
    "刪除有資料的目錄\n",
    "\n",
    "- os 模組的 rmdir（）只能刪除空的目錄，如果要刪除含資料檔案的目錄需使用本節所述的rmtree（），但刪除後就無法復原\n",
    "- 安全刪除（移動到資源回收桶）\n"
   ]
  },
  {
   "cell_type": "code",
   "execution_count": 39,
   "metadata": {},
   "outputs": [
    {
     "ename": "FileNotFoundError",
     "evalue": "[Errno 2] No such file or directory: 'dir39'",
     "output_type": "error",
     "traceback": [
      "\u001b[0;31m---------------------------------------------------------------------------\u001b[0m",
      "\u001b[0;31mFileNotFoundError\u001b[0m                         Traceback (most recent call last)",
      "Cell \u001b[0;32mIn[39], line 3\u001b[0m\n\u001b[1;32m      1\u001b[0m \u001b[39mimport\u001b[39;00m \u001b[39mshutil\u001b[39;00m\n\u001b[0;32m----> 3\u001b[0m shutil\u001b[39m.\u001b[39mrmtree(\u001b[39m'\u001b[39m\u001b[39mdir39\u001b[39m\u001b[39m'\u001b[39m)\n",
      "File \u001b[0;32m~/anaconda3/lib/python3.11/shutil.py:722\u001b[0m, in \u001b[0;36mrmtree\u001b[0;34m(path, ignore_errors, onerror, dir_fd)\u001b[0m\n\u001b[1;32m    720\u001b[0m     orig_st \u001b[39m=\u001b[39m os\u001b[39m.\u001b[39mlstat(path, dir_fd\u001b[39m=\u001b[39mdir_fd)\n\u001b[1;32m    721\u001b[0m \u001b[39mexcept\u001b[39;00m \u001b[39mException\u001b[39;00m:\n\u001b[0;32m--> 722\u001b[0m     onerror(os\u001b[39m.\u001b[39mlstat, path, sys\u001b[39m.\u001b[39mexc_info())\n\u001b[1;32m    723\u001b[0m     \u001b[39mreturn\u001b[39;00m\n\u001b[1;32m    724\u001b[0m \u001b[39mtry\u001b[39;00m:\n",
      "File \u001b[0;32m~/anaconda3/lib/python3.11/shutil.py:720\u001b[0m, in \u001b[0;36mrmtree\u001b[0;34m(path, ignore_errors, onerror, dir_fd)\u001b[0m\n\u001b[1;32m    717\u001b[0m \u001b[39m# Note: To guard against symlink races, we use the standard\u001b[39;00m\n\u001b[1;32m    718\u001b[0m \u001b[39m# lstat()/open()/fstat() trick.\u001b[39;00m\n\u001b[1;32m    719\u001b[0m \u001b[39mtry\u001b[39;00m:\n\u001b[0;32m--> 720\u001b[0m     orig_st \u001b[39m=\u001b[39m os\u001b[39m.\u001b[39mlstat(path, dir_fd\u001b[39m=\u001b[39mdir_fd)\n\u001b[1;32m    721\u001b[0m \u001b[39mexcept\u001b[39;00m \u001b[39mException\u001b[39;00m:\n\u001b[1;32m    722\u001b[0m     onerror(os\u001b[39m.\u001b[39mlstat, path, sys\u001b[39m.\u001b[39mexc_info())\n",
      "\u001b[0;31mFileNotFoundError\u001b[0m: [Errno 2] No such file or directory: 'dir39'"
     ]
    }
   ],
   "source": [
    "# 不建議使用\n",
    "# import shutil\n",
    "\n",
    "# shutil.rmtree('dir39')  "
   ]
  },
  {
   "cell_type": "code",
   "execution_count": 41,
   "metadata": {},
   "outputs": [
    {
     "ename": "OSError",
     "evalue": "The file doesn’t exist.",
     "output_type": "error",
     "traceback": [
      "\u001b[0;31m---------------------------------------------------------------------------\u001b[0m",
      "\u001b[0;31mOSError\u001b[0m                                   Traceback (most recent call last)",
      "Cell \u001b[0;32mIn[41], line 5\u001b[0m\n\u001b[1;32m      1\u001b[0m \u001b[39m# ! pip install send2trash\u001b[39;00m\n\u001b[1;32m      3\u001b[0m \u001b[39mimport\u001b[39;00m \u001b[39msend2trash\u001b[39;00m\n\u001b[0;32m----> 5\u001b[0m send2trash\u001b[39m.\u001b[39msend2trash(\u001b[39m'\u001b[39m\u001b[39mdata40.txt\u001b[39m\u001b[39m'\u001b[39m)\n",
      "File \u001b[0;32m~/anaconda3/lib/python3.11/site-packages/send2trash/plat_osx_pyobjc.py:29\u001b[0m, in \u001b[0;36msend2trash\u001b[0;34m(paths)\u001b[0m\n\u001b[1;32m     27\u001b[0m fm \u001b[39m=\u001b[39m NSFileManager\u001b[39m.\u001b[39mdefaultManager()\n\u001b[1;32m     28\u001b[0m op_result \u001b[39m=\u001b[39m fm\u001b[39m.\u001b[39mtrashItemAtURL_resultingItemURL_error_(file_url, \u001b[39mNone\u001b[39;00m, \u001b[39mNone\u001b[39;00m)\n\u001b[0;32m---> 29\u001b[0m check_op_result(op_result)\n",
      "File \u001b[0;32m~/anaconda3/lib/python3.11/site-packages/send2trash/plat_osx_pyobjc.py:16\u001b[0m, in \u001b[0;36mcheck_op_result\u001b[0;34m(op_result)\u001b[0m\n\u001b[1;32m     12\u001b[0m \u001b[39mdef\u001b[39;00m \u001b[39mcheck_op_result\u001b[39m(op_result):\n\u001b[1;32m     13\u001b[0m     \u001b[39m# First value will be false on failure\u001b[39;00m\n\u001b[1;32m     14\u001b[0m     \u001b[39mif\u001b[39;00m \u001b[39mnot\u001b[39;00m op_result[\u001b[39m0\u001b[39m]:\n\u001b[1;32m     15\u001b[0m         \u001b[39m# Error is in third value, localized failure reason matchs ctypes version\u001b[39;00m\n\u001b[0;32m---> 16\u001b[0m         \u001b[39mraise\u001b[39;00m \u001b[39mOSError\u001b[39;00m(op_result[\u001b[39m2\u001b[39m]\u001b[39m.\u001b[39mlocalizedFailureReason())\n",
      "\u001b[0;31mOSError\u001b[0m: The file doesn’t exist."
     ]
    }
   ],
   "source": [
    "# ! pip install send2trash\n",
    "\n",
    "import send2trash\n",
    "\n",
    "send2trash.send2trash('data40.txt') "
   ]
  },
  {
   "cell_type": "markdown",
   "metadata": {},
   "source": [
    "## 壓縮/解壓縮"
   ]
  },
  {
   "cell_type": "markdown",
   "metadata": {},
   "source": [
    "壓縮檔案"
   ]
  },
  {
   "cell_type": "code",
   "execution_count": null,
   "metadata": {},
   "outputs": [],
   "source": [
    "\n",
    "import zipfile\n",
    "import glob, os\n",
    "\n",
    "fileZip = zipfile.ZipFile('out41.zip', 'w')\n",
    "for name in glob.glob('zipdir41/*'):        # 遍歷zipdir41目錄\n",
    "    fileZip.write(name, os.path.basename(name), zipfile.ZIP_DEFLATED)\n",
    "    \n",
    "fileZip.close()"
   ]
  },
  {
   "cell_type": "code",
   "execution_count": null,
   "metadata": {},
   "outputs": [],
   "source": [
    "import zipfile\n",
    "from zipfile import ZipFile\n",
    "import os\n",
    "\n",
    "os.chdir('/content/drive/MyDrive/Colab Notebooks')  # 針對 Colab 改變路徑，本機環境可不用\n",
    "\n",
    "with zipfile.ZipFile('test.zip', mode='w') as zf:\n",
    "    zf.write('oxxo1.jpg')\n",
    "    zf.write('oxxo2.jpg')"
   ]
  },
  {
   "cell_type": "markdown",
   "metadata": {},
   "source": [
    "解壓縮"
   ]
  },
  {
   "cell_type": "code",
   "execution_count": null,
   "metadata": {},
   "outputs": [],
   "source": [
    "import zipfile\n",
    "\n",
    "fileUnZip = zipfile.ZipFile('out41.zip')\n",
    "fileUnZip.extractall('out43')\n",
    "fileUnZip.close()"
   ]
  },
  {
   "cell_type": "code",
   "execution_count": null,
   "metadata": {},
   "outputs": [],
   "source": [
    "# 解壓縮路徑使用 r 開頭，可以避免一些斜線字元被轉義。\n",
    "import os\n",
    "os.chdir('/content/drive/MyDrive/Colab Notebooks')  # 針對 Colab 改變路徑，本機環境可不用\n",
    "\n",
    "import zipfile\n",
    "\n",
    "with zipfile.ZipFile('test.zip', mode='r') as zf:\n",
    "    nameList = zf.namelist()\n",
    "    for name in nameList:\n",
    "        zf.extract(name, r'zipfolder', pwd='123'.encode('utf-8'))"
   ]
  },
  {
   "cell_type": "markdown",
   "metadata": {},
   "source": [
    "## 剪貼簿功能"
   ]
  },
  {
   "cell_type": "code",
   "execution_count": 42,
   "metadata": {},
   "outputs": [
    {
     "name": "stdout",
     "output_type": "stream",
     "text": [
      "Collecting pyperclip\n",
      "  Downloading pyperclip-1.8.2.tar.gz (20 kB)\n",
      "  Preparing metadata (setup.py) ... \u001b[?25ldone\n",
      "\u001b[?25hBuilding wheels for collected packages: pyperclip\n",
      "  Building wheel for pyperclip (setup.py) ... \u001b[?25ldone\n",
      "\u001b[?25h  Created wheel for pyperclip: filename=pyperclip-1.8.2-py3-none-any.whl size=11124 sha256=9f0cb1abb119ced4f7aee6e563d25a955d6c2453f40fb2d5217f90c77961abaa\n",
      "  Stored in directory: /Users/chenweicheng/Library/Caches/pip/wheels/70/bd/ba/8ae5c080c895c9360fe6e153acda2dee82527374467eae061b\n",
      "Successfully built pyperclip\n",
      "Installing collected packages: pyperclip\n",
      "Successfully installed pyperclip-1.8.2\n"
     ]
    }
   ],
   "source": [
    "!pip install pyperclip"
   ]
  },
  {
   "cell_type": "code",
   "execution_count": 43,
   "metadata": {},
   "outputs": [
    {
     "name": "stdout",
     "output_type": "stream",
     "text": [
      "明志科大-勤勞樸實\n"
     ]
    }
   ],
   "source": [
    "import pyperclip\n",
    "\n",
    "pyperclip.copy('明志科大-勤勞樸實')     # 將字串拷貝至剪貼簿\n",
    "string = pyperclip.paste()              # 從剪貼簿拷貝回string\n",
    "print(string)                           # 列印\n"
   ]
  },
  {
   "cell_type": "markdown",
   "metadata": {},
   "source": [
    "## 讀取壓縮檔內的檔案\n",
    "＄ 將 FileZip() 方法的模式設定為「r」，就可以單純讀取壓縮檔，下方列出讀取壓縮檔後的操作方法：\n",
    "- namelist()\t\t列出壓縮檔的所有內容名稱。\n",
    "- infolist()\t\t列出壓縮檔的所有內容資訊。\n",
    "- getinfo()\tname\t列出指定檔案的資訊。\n",
    "\n",
    "＄ 執行 getinfo() 之後，就可以按照下表，取出該檔案常用的屬性：\n",
    "- filename\t檔案名稱。\n",
    "- date_time\t檔案修改時間。\n",
    "- compress_type\t壓縮型別。\n",
    "- compress_size\t壓縮後的大小。\n",
    "- file_size\t檔案原本大小。\n",
    "- comment\t檔案說明。\n",
    "- create_system\t建立壓縮檔的系統資訊。\n",
    "- create_version\t建立壓縮檔的版本。\n",
    "- extract_version\t解壓縮的所需版本。"
   ]
  },
  {
   "cell_type": "code",
   "execution_count": null,
   "metadata": {},
   "outputs": [],
   "source": [
    "import os\n",
    "os.chdir('/content/drive/MyDrive/Colab Notebooks')  # 針對 Colab 改變路徑，本機環境可不用\n",
    "\n",
    "import zipfile\n",
    "\n",
    "with zipfile.ZipFile('test.zip', mode='r') as zf:\n",
    "    print(zf.namelist())             # 印出清單\n",
    "    img1 = zf.getinfo('oxxo1.jpg')   # 取得檔案資訊\n",
    "    print(img1.filename)             # 印出名稱\n",
    "    print(img1.file_size)            # 印出原始大小\n",
    "    print(img1.compress_size)        # 印出壓縮後的大小"
   ]
  },
  {
   "cell_type": "markdown",
   "metadata": {},
   "source": [
    "## shutil"
   ]
  },
  {
   "cell_type": "markdown",
   "metadata": {},
   "source": [
    "shutil.make_archive(base_name, format...) 可以將資料夾或檔案壓縮為壓縮檔，總共下列幾個參數可以使用，除了 base_name、format 和 base_dir 之外，其他都可以直接套用預設值：\n",
    "- base_name\t壓縮後的檔案名稱 ( 可以使用目錄 + 名稱 )。\n",
    "- format\t壓縮格式，可使用 zip、tar...等。\n",
    "- base_dir\t相對於根目錄的目錄。\n",
    "- root_dir\t欲壓縮的檔案根目錄，預設為執行程式的目錄。\n",
    "- owner\t檔案擁有者，系統預設。\n",
    "- group\t檔案群，系統預設。\n",
    "- logger\t記錄日誌，預設 logging.Logger 對象。"
   ]
  },
  {
   "cell_type": "code",
   "execution_count": null,
   "metadata": {},
   "outputs": [],
   "source": [
    "import os\n",
    "import shutil\n",
    "os.chdir('/content/drive/MyDrive/Colab Notebooks')\n",
    "shutil.make_archive('demo/test', 'zip', base_dir=\"test\", root_dir=\"demo\")"
   ]
  },
  {
   "cell_type": "markdown",
   "metadata": {},
   "source": [
    "shutil.unpack_archive(file) 可以將指定的壓縮檔解壓縮，有三個參數可以設定，除了 filename 之外，其他都可以套用預設值。\n",
    "- file\t欲解壓縮的檔案 ( 路徑相對於程式執行的目錄 )。\n",
    "- format\t解壓縮格式，預設以檔案的副檔名為主。\n",
    "- extract_dir\t解壓縮之後放置的檔案目錄，預設為程式執行的目錄。"
   ]
  },
  {
   "cell_type": "code",
   "execution_count": null,
   "metadata": {},
   "outputs": [],
   "source": [
    "import os\n",
    "import shutil\n",
    "os.chdir('/content/drive/MyDrive/Colab Notebooks')\n",
    "shutil.unpack_archive('zip_folder.zip',extract_dir=\"demo\")\n"
   ]
  }
 ],
 "metadata": {
  "kernelspec": {
   "display_name": "base",
   "language": "python",
   "name": "python3"
  },
  "language_info": {
   "codemirror_mode": {
    "name": "ipython",
    "version": 3
   },
   "file_extension": ".py",
   "mimetype": "text/x-python",
   "name": "python",
   "nbconvert_exporter": "python",
   "pygments_lexer": "ipython3",
   "version": "3.11.5"
  },
  "orig_nbformat": 4
 },
 "nbformat": 4,
 "nbformat_minor": 2
}
